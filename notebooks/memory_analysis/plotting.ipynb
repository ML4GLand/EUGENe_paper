{
 "cells": [
  {
   "cell_type": "code",
   "execution_count": 30,
   "id": "f2b77ab9-b4e7-4567-898a-65ddc9e82a95",
   "metadata": {
    "execution": {
     "iopub.execute_input": "2023-06-12T23:31:13.039733Z",
     "iopub.status.busy": "2023-06-12T23:31:13.038791Z",
     "iopub.status.idle": "2023-06-12T23:31:13.049136Z",
     "shell.execute_reply": "2023-06-12T23:31:13.048176Z",
     "shell.execute_reply.started": "2023-06-12T23:31:13.039700Z"
    },
    "tags": []
   },
   "outputs": [],
   "source": [
    "import seaborn as sns\n",
    "import polars as pl\n",
    "from pathlib import Path\n",
    "import json"
   ]
  },
  {
   "cell_type": "code",
   "execution_count": 39,
   "id": "fe131ddd-745d-4fa6-8754-e7386dfd68b7",
   "metadata": {
    "execution": {
     "iopub.execute_input": "2023-06-12T23:35:54.180875Z",
     "iopub.status.busy": "2023-06-12T23:35:54.180421Z",
     "iopub.status.idle": "2023-06-12T23:35:54.412424Z",
     "shell.execute_reply": "2023-06-12T23:35:54.411425Z",
     "shell.execute_reply.started": "2023-06-12T23:35:54.180843Z"
    },
    "tags": []
   },
   "outputs": [],
   "source": [
    "mem_dir = Path('/cellar/users/dlaub/projects/ML4GLand/EUGENe_paper/scripts/training_mem/memray')\n",
    "mem_json = list(mem_dir.glob('*.json'))\n",
    "res = {'n_seq': [], 'length': [], 'peak_mem': []}\n",
    "for path in mem_json:\n",
    "    res['n_seq'].append(int(path.stem.split('_')[2].split('=')[1]))\n",
    "    res['length'].append(int(path.stem.split('_')[3].split('=')[1]))\n",
    "    with open(path) as io:\n",
    "        res['peak_mem'].append(json.load(io)['total_bytes_allocated'])"
   ]
  },
  {
   "cell_type": "code",
   "execution_count": 40,
   "id": "bc87c686-e2aa-492a-8413-6164f8185724",
   "metadata": {
    "execution": {
     "iopub.execute_input": "2023-06-12T23:35:54.414519Z",
     "iopub.status.busy": "2023-06-12T23:35:54.414135Z",
     "iopub.status.idle": "2023-06-12T23:35:54.422653Z",
     "shell.execute_reply": "2023-06-12T23:35:54.421698Z",
     "shell.execute_reply.started": "2023-06-12T23:35:54.414487Z"
    },
    "tags": []
   },
   "outputs": [
    {
     "data": {
      "text/html": [
       "<div><style>\n",
       ".dataframe > thead > tr > th,\n",
       ".dataframe > tbody > tr > td {\n",
       "  text-align: right;\n",
       "}\n",
       "</style>\n",
       "<small>shape: (15, 3)</small><table border=\"1\" class=\"dataframe\"><thead><tr><th>n_seq</th><th>length</th><th>peak_mem</th></tr><tr><td>i64</td><td>i64</td><td>i64</td></tr></thead><tbody><tr><td>10000000</td><td>100</td><td>11666523275</td></tr><tr><td>1000000</td><td>10000</td><td>16073743896</td></tr><tr><td>1000000</td><td>100000</td><td>72456228791</td></tr><tr><td>100000000</td><td>1000</td><td>87214532383</td></tr><tr><td>1000000</td><td>5000</td><td>10093414728</td></tr><tr><td>10000000</td><td>5000</td><td>14834586389</td></tr><tr><td>1000</td><td>1000</td><td>3157719266</td></tr><tr><td>1000000</td><td>1000</td><td>5296719919</td></tr><tr><td>10000000</td><td>10000</td><td>18258473591</td></tr><tr><td>1000000</td><td>100</td><td>4195583686</td></tr><tr><td>10000000</td><td>1000</td><td>12766388452</td></tr><tr><td>100000</td><td>10000</td><td>15329101582</td></tr><tr><td>1000</td><td>1000</td><td>3127842617</td></tr><tr><td>100000000</td><td>100</td><td>86874979655</td></tr><tr><td>1000</td><td>10000000</td><td>102085681941</td></tr></tbody></table></div>"
      ],
      "text/plain": [
       "shape: (15, 3)\n",
       "┌───────────┬──────────┬──────────────┐\n",
       "│ n_seq     ┆ length   ┆ peak_mem     │\n",
       "│ ---       ┆ ---      ┆ ---          │\n",
       "│ i64       ┆ i64      ┆ i64          │\n",
       "╞═══════════╪══════════╪══════════════╡\n",
       "│ 10000000  ┆ 100      ┆ 11666523275  │\n",
       "│ 1000000   ┆ 10000    ┆ 16073743896  │\n",
       "│ 1000000   ┆ 100000   ┆ 72456228791  │\n",
       "│ 100000000 ┆ 1000     ┆ 87214532383  │\n",
       "│ …         ┆ …        ┆ …            │\n",
       "│ 100000    ┆ 10000    ┆ 15329101582  │\n",
       "│ 1000      ┆ 1000     ┆ 3127842617   │\n",
       "│ 100000000 ┆ 100      ┆ 86874979655  │\n",
       "│ 1000      ┆ 10000000 ┆ 102085681941 │\n",
       "└───────────┴──────────┴──────────────┘"
      ]
     },
     "execution_count": 40,
     "metadata": {},
     "output_type": "execute_result"
    }
   ],
   "source": [
    "res_df = pl.DataFrame(res)\n",
    "res_df"
   ]
  }
 ],
 "metadata": {
  "kernelspec": {
   "display_name": "EUGENe",
   "language": "python",
   "name": "eugene-dev"
  },
  "language_info": {
   "codemirror_mode": {
    "name": "ipython",
    "version": 3
   },
   "file_extension": ".py",
   "mimetype": "text/x-python",
   "name": "python",
   "nbconvert_exporter": "python",
   "pygments_lexer": "ipython3",
   "version": "3.9.15"
  }
 },
 "nbformat": 4,
 "nbformat_minor": 5
}
