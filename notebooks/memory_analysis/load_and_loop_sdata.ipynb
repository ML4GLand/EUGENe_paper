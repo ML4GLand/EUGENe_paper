{
 "cells": [
  {
   "cell_type": "code",
   "execution_count": 18,
   "metadata": {},
   "outputs": [],
   "source": [
    "import seqdata as sd\n",
    "from eugene import preprocess as pp\n",
    "import seqpro as sp\n",
    "import torch\n",
    "from tqdm.auto import tqdm"
   ]
  },
  {
   "cell_type": "code",
   "execution_count": 39,
   "metadata": {},
   "outputs": [
    {
     "data": {
      "application/vnd.jupyter.widget-view+json": {
       "model_id": "f72d82bcccc4433c94c2dec318dc8763",
       "version_major": 2,
       "version_minor": 0
      },
      "text/plain": [
       "  0%|          | 0/7813 [00:00<?, ?it/s]"
      ]
     },
     "metadata": {},
     "output_type": "display_data"
    }
   ],
   "source": [
    "# Input file\n",
    "file = \"/cellar/users/aklie/data/eugene/revision/memory_analysis/1000000_random_1000bp_seqs.zarr\"\n",
    "\n",
    "# Define data directory\n",
    "data_dir = \"/cellar/users/aklie/data/eugene/revision/memory_analysis\"\n",
    "\n",
    "# Generate coverage data\n",
    "cov = False\n",
    "cov_dim = 2\n",
    "\n",
    "# Define the grid of sizes\n",
    "num_seqs = 1000000\n",
    "seq_lengths = 1000\n",
    "\n",
    "# Get the file name to load\n",
    "if cov:\n",
    "    file = f\"{data_dir}/{num_seqs}_random_{seq_lengths}bp_seqs_{cov_dim}d_cov.zarr\"\n",
    "else:\n",
    "    file = f\"{data_dir}/{num_seqs}_random_{seq_lengths}bp_seqs.zarr\"\n",
    "\n",
    "# Load into mem\n",
    "load = True\n",
    "        \n",
    "# Load the data\n",
    "sdata = sd.open_zarr(file)\n",
    "\n",
    "# Load into mem if specified\n",
    "if load:\n",
    "    sdata.load()\n",
    "\n",
    "batch_size = 128\n",
    "\n",
    "# Create a dataloader\n",
    "dl = sd.get_torch_dataloader(\n",
    "    sdata,\n",
    "    sample_dims=\"seq\",\n",
    "    variables=[\"seqs\"],\n",
    "    batch_size=batch_size,\n",
    "    shuffle=False,\n",
    "    transforms={\"seqs\": lambda x: torch.tensor(sp.ohe(x, alphabet=sp.alphabets.DNA), dtype=torch.float32)}\n",
    ")\n",
    "\n",
    "# Test a batch\n",
    "batch = next(iter(dl))\n",
    "\n",
    "# Loop through the dataloader in batches\n",
    "for i, batch in tqdm(enumerate(dl), total=100):\n",
    "    if i == 100:\n",
    "        breakb"
   ]
  },
  {
   "cell_type": "code",
   "execution_count": null,
   "metadata": {},
   "outputs": [],
   "source": [
    "# Input file\n",
    "file = \"/cellar/users/aklie/data/eugene/revision/memory_analysis/1000000_random_1000bp_seqs.zarr\"\n",
    "\n",
    "# Load into mem\n",
    "load = True\n",
    "        \n",
    "# Load the data\n",
    "sdata = sd.open_zarr(file)\n",
    "\n",
    "# Load into mem if specified\n",
    "if load:\n",
    "    sdata.load()\n",
    "\n",
    "batch_size = 128\n",
    "\n",
    "# Create a dataloader\n",
    "dl = sd.get_torch_dataloader(\n",
    "    sdata,\n",
    "    sample_dims=\"seq\",\n",
    "    variables=[\"seqs\"],\n",
    "    batch_size=batch_size,\n",
    "    shuffle=False,\n",
    "    transforms={\"seqs\": lambda x: torch.tensor(sp.ohe(x, alphabet=sp.alphabets.DNA), dtype=torch.float32)}\n",
    ")\n",
    "\n",
    "# Test a batch\n",
    "batch = next(iter(dl))\n",
    "\n",
    "# Loop through the dataloader in batches\n",
    "for i, batch in tqdm(enumerate(dl), total=100):\n",
    "    if i == 100:\n",
    "        break"
   ]
  }
 ],
 "metadata": {
  "kernelspec": {
   "display_name": "Python 3.9 ml4gland",
   "language": "python",
   "name": "ml4gland"
  },
  "language_info": {
   "codemirror_mode": {
    "name": "ipython",
    "version": 3
   },
   "file_extension": ".py",
   "mimetype": "text/x-python",
   "name": "python",
   "nbconvert_exporter": "python",
   "pygments_lexer": "ipython3",
   "version": "3.9.16"
  },
  "orig_nbformat": 4
 },
 "nbformat": 4,
 "nbformat_minor": 2
}
