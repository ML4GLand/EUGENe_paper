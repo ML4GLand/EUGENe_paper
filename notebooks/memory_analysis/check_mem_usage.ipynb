{
 "cells": [
  {
   "cell_type": "code",
   "execution_count": 35,
   "metadata": {},
   "outputs": [
    {
     "name": "stdout",
     "output_type": "stream",
     "text": [
      "Allocations will be tracked until the with block ends\n"
     ]
    },
    {
     "name": "stderr",
     "output_type": "stream",
     "text": [
      "Memray WARNING: Correcting symbol for aligned_alloc from 0x15544a8008e0 to 0x15555444b690\n"
     ]
    }
   ],
   "source": [
    "import memray\n",
    "\n",
    "with memray.Tracker(\"output_file.bin\"):\n",
    "    print(\"Allocations will be tracked until the with block ends\")"
   ]
  },
  {
   "cell_type": "code",
   "execution_count": 37,
   "metadata": {},
   "outputs": [
    {
     "ename": "AttributeError",
     "evalue": "module 'memray' has no attribute 'plot'",
     "output_type": "error",
     "traceback": [
      "\u001b[0;31m---------------------------------------------------------------------------\u001b[0m",
      "\u001b[0;31mAttributeError\u001b[0m                            Traceback (most recent call last)",
      "Cell \u001b[0;32mIn[37], line 1\u001b[0m\n\u001b[0;32m----> 1\u001b[0m memray\u001b[39m.\u001b[39;49mplot(\u001b[39m\"\u001b[39m\u001b[39m/cellar/users/aklie/projects/ML4GLand/EUGENe_paper/notebooks/memory_analysis/memray-load_and_loop_sdata.py.3032049.bin\u001b[39m\u001b[39m\"\u001b[39m)\n",
      "\u001b[0;31mAttributeError\u001b[0m: module 'memray' has no attribute 'plot'"
     ]
    }
   ],
   "source": [
    "memray.plot(\"/cellar/users/aklie/projects/ML4GLand/EUGENe_paper/notebooks/memory_analysis/memray-load_and_loop_sdata.py.3032049.bin\")"
   ]
  },
  {
   "cell_type": "code",
   "execution_count": null,
   "metadata": {},
   "outputs": [],
   "source": [
    "memray."
   ]
  }
 ],
 "metadata": {
  "kernelspec": {
   "display_name": "Python 3.9 ml4gland",
   "language": "python",
   "name": "ml4gland"
  },
  "language_info": {
   "codemirror_mode": {
    "name": "ipython",
    "version": 3
   },
   "file_extension": ".py",
   "mimetype": "text/x-python",
   "name": "python",
   "nbconvert_exporter": "python",
   "pygments_lexer": "ipython3",
   "version": "3.9.16"
  },
  "orig_nbformat": 4
 },
 "nbformat": 4,
 "nbformat_minor": 2
}
