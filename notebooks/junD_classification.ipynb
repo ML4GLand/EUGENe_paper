{
 "cells": [
  {
   "cell_type": "markdown",
   "id": "90a88efe-ebb3-424c-8704-fb4ee189af2c",
   "metadata": {},
   "source": [
    "# Template for a EUGENe workflow on a new dataset"
   ]
  },
  {
   "cell_type": "markdown",
   "id": "2d058003-a667-4b45-9ddc-e47efe48e0e1",
   "metadata": {
    "tags": []
   },
   "source": [
    "**Authorship:**\n",
    "Adam Klie, *08/07/2022*\n",
    "***\n",
    "**Description:**\n",
    "Template notebook for creating a EUGENe workflow on a new dataset. To see a full list of functionality, check out the [API](https://eugenegroup.github.io/EUGENE/api/). You can always use `?` to see the available parameters for each method\n",
    "***"
   ]
  },
  {
   "cell_type": "code",
   "execution_count": 1,
   "metadata": {},
   "outputs": [
    {
     "name": "stderr",
     "output_type": "stream",
     "text": [
      "Global seed set to 13\n"
     ]
    },
    {
     "name": "stdout",
     "output_type": "stream",
     "text": [
      "0.1.0\n"
     ]
    }
   ],
   "source": [
    "if 'autoreload' not in get_ipython().extension_manager.loaded:\n",
    "    %load_ext autoreload \n",
    "%autoreload 2\n",
    "\n",
    "import os\n",
    "import numpy as np\n",
    "import pandas as pd\n",
    "import eugene as eu\n",
    "\n",
    "# Configure EUGENe \n",
    "print(eu.__version__)\n",
    "eu.settings.dataset_dir = \"/cellar/users/aklie/data/eugene\"\n",
    "eu.settings.logging_dir = \"/cellar/users/aklie/projects/EUGENe/EUGENe_paper/logs/junD\"\n",
    "eu.settings.output_dir = \"/cellar/users/aklie/projects/EUGENe/EUGENe_paper/output/junD\" \n",
    "eu.settings.dl_num_workers = 4\n",
    "eu.settings.batch_size = 128"
   ]
  },
  {
   "cell_type": "markdown",
   "metadata": {},
   "source": [
    "# Dataloading\n",
    "We first need to load our data into memory. If the dataset is a \"EUGENe benchmarking dataset\", it can be loaded in through the `dataset` module:\n",
    "    \n",
    "```python\n",
    "eu.datasets.random1000()\n",
    "```\n",
    "\n",
    "If the requested dataset requires a download, it will be downloaded and loaded in automatically. Use `get_dataset_info()` to get information about the datasets available as \"EUGENe benchmarking datasets\".\n",
    "\n",
    "---\n",
    "\n",
    "You can also read from standard file formats into `SeqData` objects using `read_` functions from the `dataloading` module:\n",
    "\n",
    "```python\n",
    "eu.dl.read_csv('datasets/random1000/random1000_seqs.tsv')\n",
    "```"
   ]
  },
  {
   "cell_type": "code",
   "execution_count": 2,
   "metadata": {},
   "outputs": [],
   "source": [
    "#eu.dl.read_csv(\n",
    "#    filename=os.path.join(eu.settings.dataset_dir, \"junD\", \"junD_raw_seqs.tsv\"), \n",
    "#    seq_col=\"seq\",\n",
    "#    target_col=\"target\",\n",
    "#    name_col=\"name\"\n",
    "#)\n",
    "\n",
    "#eu.dl.read_numpy(\n",
    "#    seq_file=os.path.join(eu.settings.dataset_dir, \"junD\", \"junD_raw_ohe_seqs.npy\"), \n",
    "#    target_file=os.path.join(eu.settings.dataset_dir, \"junD\", \"junD_raw_targets.npy\"),\n",
    "#    ohe=True\n",
    "#)\n",
    "\n",
    "sdata = eu.dl.read_h5sd(\n",
    "    filename=os.path.join(eu.settings.dataset_dir, \"junD\", \"junD_raw.h5sd\"),\n",
    ")"
   ]
  },
  {
   "cell_type": "markdown",
   "metadata": {},
   "source": [
    "# Data Visualization\n",
    "Data visualization is a key part of the EUGENe workflow. We can use the `plotting` module to visualize aspects of our dataset like target value distributions and sequence length:\n",
    "\n",
    "```python\n",
    "sdata[\"SEQ_LEN\"] = [len(seq) for seq in sdata.seqs]\n",
    "eu.pl.histplot(\n",
    "    sdata, \n",
    "    keys=\"SEQ_LEN\", \n",
    "    orient=\"h\")\n",
    ")\n",
    "eu.pl.violinplot(\n",
    "    sdata,\n",
    "    keys=\"target\",\n",
    "    groupby=\"group\",\n",
    "    hue=\"subgroup\",\n",
    "    xlab=\"Group\",\n",
    "    ylab=\"Target\",\n",
    "    title=\"Target distribution\"\n",
    ")\n",
    "```\n",
    "\n",
    "The above commands are examples that show the distribution of sequence lengths and the distribution of target values as a histogram and a violin plot respectively."
   ]
  },
  {
   "cell_type": "code",
   "execution_count": 3,
   "metadata": {},
   "outputs": [],
   "source": [
    "# Get sequence lengths\n",
    "sdata[\"seq_len\"] = [len(seq) for seq in sdata.seqs]"
   ]
  },
  {
   "cell_type": "code",
   "execution_count": 4,
   "metadata": {},
   "outputs": [
    {
     "data": {
      "image/png": "[encoded data removed]",
      "text/plain": [
       "<Figure size 288x288 with 1 Axes>"
      ]
     },
     "metadata": {
      "needs_background": "light"
     },
     "output_type": "display_data"
    }
   ],
   "source": [
    "eu.pl.histplot(\n",
    "    sdata, \n",
    "    keys=\"seq_len\", \n",
    "    orient=\"h\"\n",
    ")"
   ]
  },
  {
   "cell_type": "code",
   "execution_count": 5,
   "metadata": {},
   "outputs": [
    {
     "data": {
      "image/png": "[encoded data removed]",
      "text/plain": [
       "<Figure size 400x400 with 1 Axes>"
      ]
     },
     "metadata": {},
     "output_type": "display_data"
    }
   ],
   "source": [
    "eu.pl.countplot(\n",
    "    sdata,\n",
    "    keys=\"target\"\n",
    ")"
   ]
  },
  {
   "cell_type": "markdown",
   "metadata": {},
   "source": [
    "# Preprocessing\n",
    "We can preprocess our data using the `preprocessing` module. This includes:\n",
    "\n",
    "- reverse complementing sequences: ```eu.pp.reverse_complement_data(sdata)```\n",
    "- one hot encoding of the target values: ```eu.pp.one_hot_encode_data(sdata)```\n",
    "- training/validation/test split: ```eu.pp.train_test_split(sdata, test_size=0.2, random_state=42)```\n",
    "- scaling the target values: ```eu.pp.scale_data(sdata)```\n",
    "- and more!\n",
    "\n",
    "Users are encouraged to take a look at the API for more functions you can use. Most users, however, can use the `eu.pp.prepare_data(sdata)` function to get there data ready for training.\n"
   ]
  },
  {
   "cell_type": "code",
   "execution_count": 6,
   "metadata": {},
   "outputs": [],
   "source": [
    "# TODO: Preprocess your sequences and targets"
   ]
  },
  {
   "cell_type": "code",
   "execution_count": 7,
   "metadata": {},
   "outputs": [
    {
     "name": "stdout",
     "output_type": "stream",
     "text": [
      "{'chr_delim': ':', 'rng_delim': '-', 'copy': False} (SeqData object with = 1013080 seqs\n",
      "seqs = (1013080,)\n",
      "names = (1013080,)\n",
      "rev_seqs = None\n",
      "ohe_seqs = (1013080, 500, 4)\n",
      "ohe_rev_seqs = None\n",
      "seqs_annot: 'chr', 'end', 'seq_len', 'start', 'target', 'train'\n",
      "pos_annot: None\n",
      "seqsm: None\n",
      "uns: None,) <class 'eugene.dataloading.dataloaders._SeqData.SeqData'>\n"
     ]
    }
   ],
   "source": [
    "eu.pp.add_ranges_annot(sdata)"
   ]
  },
  {
   "cell_type": "code",
   "execution_count": 8,
   "metadata": {},
   "outputs": [
    {
     "name": "stdout",
     "output_type": "stream",
     "text": [
      "{'train_key': 'train', 'chr': ['chr3'], 'copy': False} (SeqData object with = 1013080 seqs\n",
      "seqs = (1013080,)\n",
      "names = (1013080,)\n",
      "rev_seqs = None\n",
      "ohe_seqs = (1013080, 500, 4)\n",
      "ohe_rev_seqs = None\n",
      "seqs_annot: 'chr', 'end', 'seq_len', 'start', 'target', 'train'\n",
      "pos_annot: None\n",
      "seqsm: None\n",
      "uns: None,) <class 'eugene.dataloading.dataloaders._SeqData.SeqData'>\n"
     ]
    }
   ],
   "source": [
    "eu.pp.train_test_split_data(\n",
    "    sdata, \n",
    "    train_key=\"train\",\n",
    "    chr = [\"chr3\"]\n",
    ")"
   ]
  },
  {
   "cell_type": "code",
   "execution_count": 9,
   "metadata": {},
   "outputs": [
    {
     "data": {
      "image/png": "[encoded data removed]",
      "text/plain": [
       "<Figure size 400x400 with 1 Axes>"
      ]
     },
     "metadata": {},
     "output_type": "display_data"
    }
   ],
   "source": [
    "eu.pl.countplot(\n",
    "    sdata,\n",
    "    keys=\"chr\"\n",
    ")"
   ]
  },
  {
   "cell_type": "code",
   "execution_count": 10,
   "metadata": {},
   "outputs": [
    {
     "data": {
      "image/png": "[encoded data removed]",
      "text/plain": [
       "<Figure size 400x400 with 1 Axes>"
      ]
     },
     "metadata": {},
     "output_type": "display_data"
    }
   ],
   "source": [
    "eu.pl.countplot(\n",
    "    sdata,\n",
    "    keys=\"train\",\n",
    "    hue=\"target\"\n",
    ")"
   ]
  },
  {
   "cell_type": "code",
   "execution_count": 11,
   "metadata": {},
   "outputs": [
    {
     "data": {
      "text/html": [
       "<div>\n",
       "<style scoped>\n",
       "    .dataframe tbody tr th:only-of-type {\n",
       "        vertical-align: middle;\n",
       "    }\n",
       "\n",
       "    .dataframe tbody tr th {\n",
       "        vertical-align: top;\n",
       "    }\n",
       "\n",
       "    .dataframe thead th {\n",
       "        text-align: right;\n",
       "    }\n",
       "</style>\n",
       "<table border=\"1\" class=\"dataframe\">\n",
       "  <thead>\n",
       "    <tr style=\"text-align: right;\">\n",
       "      <th></th>\n",
       "      <th>chr</th>\n",
       "      <th>end</th>\n",
       "      <th>seq_len</th>\n",
       "      <th>start</th>\n",
       "      <th>target</th>\n",
       "      <th>train</th>\n",
       "    </tr>\n",
       "  </thead>\n",
       "  <tbody>\n",
       "    <tr>\n",
       "      <th>chr1:990650-991150</th>\n",
       "      <td>chr1</td>\n",
       "      <td>991150</td>\n",
       "      <td>500</td>\n",
       "      <td>990650</td>\n",
       "      <td>0.0</td>\n",
       "      <td>True</td>\n",
       "    </tr>\n",
       "    <tr>\n",
       "      <th>chr1:990850-991350</th>\n",
       "      <td>chr1</td>\n",
       "      <td>991350</td>\n",
       "      <td>500</td>\n",
       "      <td>990850</td>\n",
       "      <td>0.0</td>\n",
       "      <td>True</td>\n",
       "    </tr>\n",
       "    <tr>\n",
       "      <th>chr1:991050-991550</th>\n",
       "      <td>chr1</td>\n",
       "      <td>991550</td>\n",
       "      <td>500</td>\n",
       "      <td>991050</td>\n",
       "      <td>0.0</td>\n",
       "      <td>True</td>\n",
       "    </tr>\n",
       "    <tr>\n",
       "      <th>chr1:991250-991750</th>\n",
       "      <td>chr1</td>\n",
       "      <td>991750</td>\n",
       "      <td>500</td>\n",
       "      <td>991250</td>\n",
       "      <td>0.0</td>\n",
       "      <td>True</td>\n",
       "    </tr>\n",
       "    <tr>\n",
       "      <th>chr1:991450-991950</th>\n",
       "      <td>chr1</td>\n",
       "      <td>991950</td>\n",
       "      <td>500</td>\n",
       "      <td>991450</td>\n",
       "      <td>0.0</td>\n",
       "      <td>True</td>\n",
       "    </tr>\n",
       "    <tr>\n",
       "      <th>...</th>\n",
       "      <td>...</td>\n",
       "      <td>...</td>\n",
       "      <td>...</td>\n",
       "      <td>...</td>\n",
       "      <td>...</td>\n",
       "      <td>...</td>\n",
       "    </tr>\n",
       "    <tr>\n",
       "      <th>chrY:15480450-15480950</th>\n",
       "      <td>chrY</td>\n",
       "      <td>15480950</td>\n",
       "      <td>500</td>\n",
       "      <td>15480450</td>\n",
       "      <td>0.0</td>\n",
       "      <td>True</td>\n",
       "    </tr>\n",
       "    <tr>\n",
       "      <th>chrY:15480650-15481150</th>\n",
       "      <td>chrY</td>\n",
       "      <td>15481150</td>\n",
       "      <td>500</td>\n",
       "      <td>15480650</td>\n",
       "      <td>0.0</td>\n",
       "      <td>True</td>\n",
       "    </tr>\n",
       "    <tr>\n",
       "      <th>chrY:15480850-15481350</th>\n",
       "      <td>chrY</td>\n",
       "      <td>15481350</td>\n",
       "      <td>500</td>\n",
       "      <td>15480850</td>\n",
       "      <td>0.0</td>\n",
       "      <td>True</td>\n",
       "    </tr>\n",
       "    <tr>\n",
       "      <th>chrY:15481050-15481550</th>\n",
       "      <td>chrY</td>\n",
       "      <td>15481550</td>\n",
       "      <td>500</td>\n",
       "      <td>15481050</td>\n",
       "      <td>0.0</td>\n",
       "      <td>True</td>\n",
       "    </tr>\n",
       "    <tr>\n",
       "      <th>chrY:15481250-15481750</th>\n",
       "      <td>chrY</td>\n",
       "      <td>15481750</td>\n",
       "      <td>500</td>\n",
       "      <td>15481250</td>\n",
       "      <td>0.0</td>\n",
       "      <td>True</td>\n",
       "    </tr>\n",
       "  </tbody>\n",
       "</table>\n",
       "<p>1013080 rows × 6 columns</p>\n",
       "</div>"
      ],
      "text/plain": [
       "                         chr       end  seq_len     start  target  train\n",
       "chr1:990650-991150      chr1    991150      500    990650     0.0   True\n",
       "chr1:990850-991350      chr1    991350      500    990850     0.0   True\n",
       "chr1:991050-991550      chr1    991550      500    991050     0.0   True\n",
       "chr1:991250-991750      chr1    991750      500    991250     0.0   True\n",
       "chr1:991450-991950      chr1    991950      500    991450     0.0   True\n",
       "...                      ...       ...      ...       ...     ...    ...\n",
       "chrY:15480450-15480950  chrY  15480950      500  15480450     0.0   True\n",
       "chrY:15480650-15481150  chrY  15481150      500  15480650     0.0   True\n",
       "chrY:15480850-15481350  chrY  15481350      500  15480850     0.0   True\n",
       "chrY:15481050-15481550  chrY  15481550      500  15481050     0.0   True\n",
       "chrY:15481250-15481750  chrY  15481750      500  15481250     0.0   True\n",
       "\n",
       "[1013080 rows x 6 columns]"
      ]
     },
     "execution_count": 11,
     "metadata": {},
     "output_type": "execute_result"
    }
   ],
   "source": [
    "sdata.seqs_annot"
   ]
  },
  {
   "cell_type": "code",
   "execution_count": 12,
   "metadata": {},
   "outputs": [],
   "source": [
    "sdata_train = sdata[sdata[\"train\"].values]\n",
    "sdata_test = sdata[~sdata[\"train\"].values]"
   ]
  },
  {
   "cell_type": "code",
   "execution_count": 13,
   "metadata": {},
   "outputs": [
    {
     "data": {
      "text/plain": [
       "(SeqData object with = 948771 seqs\n",
       " seqs = (948771,)\n",
       " names = (948771,)\n",
       " rev_seqs = None\n",
       " ohe_seqs = (948771, 500, 4)\n",
       " ohe_rev_seqs = None\n",
       " seqs_annot: 'chr', 'end', 'seq_len', 'start', 'target', 'train'\n",
       " pos_annot: None\n",
       " seqsm: None\n",
       " uns: None,\n",
       " SeqData object with = 64309 seqs\n",
       " seqs = (64309,)\n",
       " names = (64309,)\n",
       " rev_seqs = None\n",
       " ohe_seqs = (64309, 500, 4)\n",
       " ohe_rev_seqs = None\n",
       " seqs_annot: 'chr', 'end', 'seq_len', 'start', 'target', 'train'\n",
       " pos_annot: None\n",
       " seqsm: None\n",
       " uns: None)"
      ]
     },
     "execution_count": 13,
     "metadata": {},
     "output_type": "execute_result"
    }
   ],
   "source": [
    "sdata_train, sdata_test"
   ]
  },
  {
   "cell_type": "code",
   "execution_count": 14,
   "metadata": {},
   "outputs": [
    {
     "data": {
      "text/plain": [
       "(chr1     101752\n",
       " chr10     46642\n",
       " chr11     58193\n",
       " chr12     54162\n",
       " chr13     23593\n",
       " chr14     30690\n",
       " chr15     32528\n",
       " chr16     33013\n",
       " chr17     47697\n",
       " chr18     21394\n",
       " chr19     44522\n",
       " chr2      73224\n",
       " chr20     26908\n",
       " chr21     10060\n",
       " chr22     21565\n",
       " chr4      47435\n",
       " chr5      53688\n",
       " chr6      61670\n",
       " chr7      51281\n",
       " chr8      47548\n",
       " chr9      43141\n",
       " chrM         82\n",
       " chrX      17681\n",
       " chrY        302\n",
       " Name: chr, dtype: int64,\n",
       " chr3    64309\n",
       " Name: chr, dtype: int64)"
      ]
     },
     "execution_count": 14,
     "metadata": {},
     "output_type": "execute_result"
    }
   ],
   "source": [
    "sdata_train[\"chr\"].value_counts().sort_index(), sdata_test[\"chr\"].value_counts().sort_index()"
   ]
  },
  {
   "cell_type": "code",
   "execution_count": 15,
   "metadata": {},
   "outputs": [],
   "source": [
    "# TODO: Visualize after preprocessing to sanity check"
   ]
  },
  {
   "cell_type": "code",
   "execution_count": 16,
   "metadata": {},
   "outputs": [
    {
     "name": "stdout",
     "output_type": "stream",
     "text": [
      "{'train_key': 'val', 'chr': ['chr2'], 'copy': False} (SeqData object with = 948771 seqs\n",
      "seqs = (948771,)\n",
      "names = (948771,)\n",
      "rev_seqs = None\n",
      "ohe_seqs = (948771, 500, 4)\n",
      "ohe_rev_seqs = None\n",
      "seqs_annot: 'chr', 'end', 'seq_len', 'start', 'target', 'train'\n",
      "pos_annot: None\n",
      "seqsm: None\n",
      "uns: None,) <class 'eugene.dataloading.dataloaders._SeqData.SeqData'>\n",
      "SeqData object modified:\n",
      "    seqs_annot:\n",
      "        + val\n"
     ]
    }
   ],
   "source": [
    "eu.pp.train_test_split_data(\n",
    "    sdata_train,\n",
    "    train_key=\"val\",\n",
    "    chr=[\"chr2\"]\n",
    ")"
   ]
  },
  {
   "cell_type": "code",
   "execution_count": 18,
   "metadata": {},
   "outputs": [],
   "source": [
    "t = eu.datasets.random1000()"
   ]
  },
  {
   "cell_type": "code",
   "execution_count": 19,
   "metadata": {},
   "outputs": [
    {
     "name": "stdout",
     "output_type": "stream",
     "text": [
      "{'steps': ['reverse_complement', 'one_hot_encode', 'train_test_split'], 'copy': False} (SeqData object with = 1000 seqs\n",
      "seqs = (1000,)\n",
      "names = (1000,)\n",
      "rev_seqs = None\n",
      "ohe_seqs = None\n",
      "ohe_rev_seqs = None\n",
      "seqs_annot: 'target'\n",
      "pos_annot: PyRanges object with 1400 features\n",
      "seqsm: None\n",
      "uns: None,) <class 'eugene.dataloading.dataloaders._SeqData.SeqData'>\n"
     ]
    },
    {
     "data": {
      "application/vnd.jupyter.widget-view+json": {
       "model_id": "88111128d3dc4f4f86eafae3af12a716",
       "version_major": 2,
       "version_minor": 0
      },
      "text/plain": [
       "  0%|          | 0/3 [00:00<?, ?it/s]"
      ]
     },
     "metadata": {},
     "output_type": "display_data"
    },
    {
     "name": "stdout",
     "output_type": "stream",
     "text": [
      "SeqData object modified:\n",
      "\trev_seqs: None -> 1000 rev_seqs added\n",
      "\tohe_seqs: None -> 1000 ohe_seqs added\n",
      "\tohe_rev_seqs: None -> 1000 ohe_rev_seqs added\n",
      "    seqs_annot:\n",
      "        + train\n"
     ]
    }
   ],
   "source": [
    "eu.pp.prepare_data(t)"
   ]
  },
  {
   "cell_type": "code",
   "execution_count": 20,
   "metadata": {},
   "outputs": [
    {
     "data": {
      "text/plain": [
       "(1000, 66, 4)"
      ]
     },
     "execution_count": 20,
     "metadata": {},
     "output_type": "execute_result"
    }
   ],
   "source": [
    "t.ohe_seqs.shape"
   ]
  },
  {
   "cell_type": "code",
   "execution_count": 42,
   "metadata": {},
   "outputs": [
    {
     "data": {
      "text/plain": [
       "(948771, 500, 4)"
      ]
     },
     "execution_count": 42,
     "metadata": {},
     "output_type": "execute_result"
    }
   ],
   "source": [
    "sdata_train.ohe_seqs.shape"
   ]
  },
  {
   "cell_type": "code",
   "execution_count": 36,
   "metadata": {},
   "outputs": [
    {
     "name": "stdout",
     "output_type": "stream",
     "text": [
      "No transforms given, assuming just need to tensorize).\n"
     ]
    }
   ],
   "source": [
    "sdataset = sdata_test.to_dataset(target=\"target\", transform_kwargs={\"transpose\": True})"
   ]
  },
  {
   "cell_type": "code",
   "execution_count": 37,
   "metadata": {},
   "outputs": [],
   "source": [
    "sdataloader = sdataset.to_dataloader(batch_size=128)"
   ]
  },
  {
   "cell_type": "code",
   "execution_count": 38,
   "metadata": {},
   "outputs": [],
   "source": [
    "x = next(iter(sdataloader))[1]"
   ]
  },
  {
   "cell_type": "code",
   "execution_count": 39,
   "metadata": {},
   "outputs": [
    {
     "data": {
      "text/plain": [
       "tensor([[[0., 0., 0.,  ..., 1., 0., 1.],\n",
       "         [0., 0., 0.,  ..., 0., 0., 0.],\n",
       "         [0., 0., 0.,  ..., 0., 0., 0.],\n",
       "         [1., 1., 1.,  ..., 0., 1., 0.]],\n",
       "\n",
       "        [[0., 0., 0.,  ..., 0., 1., 0.],\n",
       "         [1., 1., 0.,  ..., 1., 0., 1.],\n",
       "         [0., 0., 0.,  ..., 0., 0., 0.],\n",
       "         [0., 0., 1.,  ..., 0., 0., 0.]],\n",
       "\n",
       "        [[1., 0., 0.,  ..., 0., 1., 1.],\n",
       "         [0., 0., 0.,  ..., 0., 0., 0.],\n",
       "         [0., 0., 1.,  ..., 0., 0., 0.],\n",
       "         [0., 1., 0.,  ..., 1., 0., 0.]],\n",
       "\n",
       "        ...,\n",
       "\n",
       "        [[0., 0., 0.,  ..., 1., 0., 0.],\n",
       "         [1., 0., 1.,  ..., 0., 0., 0.],\n",
       "         [0., 0., 0.,  ..., 0., 0., 1.],\n",
       "         [0., 1., 0.,  ..., 0., 1., 0.]],\n",
       "\n",
       "        [[0., 0., 0.,  ..., 0., 1., 0.],\n",
       "         [0., 0., 0.,  ..., 1., 0., 0.],\n",
       "         [0., 0., 0.,  ..., 0., 0., 0.],\n",
       "         [1., 1., 1.,  ..., 0., 0., 1.]],\n",
       "\n",
       "        [[0., 0., 0.,  ..., 0., 1., 1.],\n",
       "         [0., 0., 0.,  ..., 0., 0., 0.],\n",
       "         [0., 0., 0.,  ..., 0., 0., 0.],\n",
       "         [1., 1., 1.,  ..., 1., 0., 0.]]])"
      ]
     },
     "execution_count": 39,
     "metadata": {},
     "output_type": "execute_result"
    }
   ],
   "source": [
    "x"
   ]
  },
  {
   "cell_type": "code",
   "execution_count": 40,
   "metadata": {},
   "outputs": [],
   "source": [
    "model = eu.models.DeepBind(input_len=500, output_dim=1)"
   ]
  },
  {
   "cell_type": "code",
   "execution_count": 26,
   "metadata": {},
   "outputs": [
    {
     "data": {
      "text/plain": [
       "True     875547\n",
       "False     73224\n",
       "Name: val, dtype: int64"
      ]
     },
     "execution_count": 26,
     "metadata": {},
     "output_type": "execute_result"
    }
   ],
   "source": [
    "sdata_train[\"val\"].value_counts()"
   ]
  },
  {
   "cell_type": "markdown",
   "metadata": {},
   "source": [
    "# Training\n",
    "Now that we have our data ready, it's time to train our model. This starts with instantiating and initializing our model. We can use the `models` module to do this:\n",
    "\n",
    "```python\n",
    "model = eu.models.DeepBind(\n",
    "    input_len=100,\n",
    "    output_dim=1,\n",
    "    scheduler = \"reduce_lr_on_plateau\",\n",
    "    scheduler_patience=2,\n",
    "    lr=0.001\n",
    ")\n",
    "model.summary()\n",
    "eu.models.init_weights(model)\n",
    "```\n",
    "\n",
    "We offer several options for instantiating a model architecture. Take a look at the API for more options and details.\n",
    "- The `Base Model`s contain the 4 common base architectures: FCN, CNN, RNN and Hybrid. \n",
    "- The `SOTA Model`s contain 2 SOTA architectures: DeepBind and DeepSEA.\n",
    "- The `Custom Models` are models that you can add to. We have  a single custom model currently implemented to serve as a template (`Jores21CNN`). Who knows? Maybe your custom model will become SOTA!"
   ]
  },
  {
   "cell_type": "code",
   "execution_count": 56,
   "metadata": {},
   "outputs": [
    {
     "name": "stdout",
     "output_type": "stream",
     "text": [
      "{'input_len': 500, 'output_dim': 1, 'conv_kwargs': {'channels': [4, 10, 8], 'conv_kernels': [11, 3], 'pool_kernels': [30], 'pool_strides': [1], 'dropout_rates': 0.2, 'batchnorm': True, 'omit_final_pool': True}, 'strand': 'ss', 'task': 'binary_classification', 'aggr': None, 'loss_fxn': 'bce', 'fc_kwargs': {}, 'optimizer': 'adam', 'lr': 0.001, 'scheduler': 'reduce_lr_on_plateau', 'scheduler_patience': 2, 'hp_metric': None}\n"
     ]
    }
   ],
   "source": [
    "# TODO: Instantiate your model\n",
    "model = eu.models.load_config(\n",
    "    arch=\"CNN\", \n",
    "    model_config=\"/cellar/users/aklie/projects/EUGENe/EUGENe_paper/configs/junD/dsCNN.yaml\"\n",
    ")"
   ]
  },
  {
   "cell_type": "code",
   "execution_count": 57,
   "metadata": {},
   "outputs": [
    {
     "data": {
      "text/plain": [
       "CNN(\n",
       "  (hp_metric): AUROC()\n",
       "  (convnet): BasicConv1D(\n",
       "    (module): Sequential(\n",
       "      (0): Conv1d(4, 10, kernel_size=(11,), stride=(1,))\n",
       "      (1): ReLU()\n",
       "      (2): MaxPool1d(kernel_size=30, stride=1, padding=0, dilation=1, ceil_mode=False)\n",
       "      (3): Dropout(p=0.2, inplace=False)\n",
       "      (4): BatchNorm1d(10, eps=1e-05, momentum=0.1, affine=True, track_running_stats=True)\n",
       "      (5): Conv1d(10, 8, kernel_size=(3,), stride=(1,))\n",
       "      (6): ReLU()\n",
       "      (7): Dropout(p=0.2, inplace=False)\n",
       "      (8): BatchNorm1d(8, eps=1e-05, momentum=0.1, affine=True, track_running_stats=True)\n",
       "    )\n",
       "  )\n",
       "  (fcnet): BasicFullyConnectedModule(\n",
       "    (module): Sequential(\n",
       "      (0): Linear(in_features=3672, out_features=1, bias=True)\n",
       "    )\n",
       "  )\n",
       ")"
      ]
     },
     "execution_count": 57,
     "metadata": {},
     "output_type": "execute_result"
    }
   ],
   "source": [
    "model"
   ]
  },
  {
   "cell_type": "code",
   "execution_count": 58,
   "metadata": {},
   "outputs": [
    {
     "data": {
      "text/plain": [
       "<function torch.nn.functional.binary_cross_entropy_with_logits(input: torch.Tensor, target: torch.Tensor, weight: Union[torch.Tensor, NoneType] = None, size_average: Union[bool, NoneType] = None, reduce: Union[bool, NoneType] = None, reduction: str = 'mean', pos_weight: Union[torch.Tensor, NoneType] = None) -> torch.Tensor>"
      ]
     },
     "execution_count": 58,
     "metadata": {},
     "output_type": "execute_result"
    }
   ],
   "source": [
    "model.loss_fxn"
   ]
  },
  {
   "cell_type": "code",
   "execution_count": 53,
   "metadata": {},
   "outputs": [],
   "source": [
    "# TODO: Initialize your models parameters\n",
    "eu.models.base.init_weights(model)"
   ]
  },
  {
   "cell_type": "markdown",
   "metadata": {},
   "source": [
    "With a model intantiated and initialized, we are set up to train our model. We can do this through the `train` module:\n",
    "\n",
    "```python\n",
    "eu.train.fit(\n",
    "    model=model, \n",
    "    sdata=sdata, \n",
    "    gpus=1, \n",
    "    target=\"target\",\n",
    "    train_key=\"train\",\n",
    "    epochs=50,\n",
    "    version=f\"v1\"\n",
    ")\n",
    "```\n"
   ]
  },
  {
   "cell_type": "code",
   "execution_count": 59,
   "metadata": {},
   "outputs": [
    {
     "name": "stdout",
     "output_type": "stream",
     "text": [
      "No transforms given, assuming just need to tensorize).\n",
      "No transforms given, assuming just need to tensorize).\n"
     ]
    },
    {
     "name": "stderr",
     "output_type": "stream",
     "text": [
      "GPU available: False, used: False\n",
      "TPU available: False, using: 0 TPU cores\n",
      "IPU available: False, using: 0 IPUs\n",
      "Set SLURM handle signals.\n",
      "\n",
      "  | Name      | Type                      | Params\n",
      "--------------------------------------------------------\n",
      "0 | hp_metric | AUROC                     | 0     \n",
      "1 | convnet   | BasicConv1D               | 734   \n",
      "2 | fcnet     | BasicFullyConnectedModule | 3.7 K \n",
      "--------------------------------------------------------\n",
      "4.4 K     Trainable params\n",
      "0         Non-trainable params\n",
      "4.4 K     Total params\n",
      "0.018     Total estimated model params size (MB)\n"
     ]
    },
    {
     "data": {
      "application/vnd.jupyter.widget-view+json": {
       "model_id": "09b4b48ddf974592b5ef9f66b5da72f7",
       "version_major": 2,
       "version_minor": 0
      },
      "text/plain": [
       "Validation sanity check: 0it [00:00, ?it/s]"
      ]
     },
     "metadata": {},
     "output_type": "display_data"
    },
    {
     "name": "stderr",
     "output_type": "stream",
     "text": [
      "Global seed set to 13\n"
     ]
    },
    {
     "data": {
      "application/vnd.jupyter.widget-view+json": {
       "model_id": "77d37098954e4136b4dd11cb22410777",
       "version_major": 2,
       "version_minor": 0
      },
      "text/plain": [
       "Training: 0it [00:00, ?it/s]"
      ]
     },
     "metadata": {},
     "output_type": "display_data"
    },
    {
     "name": "stderr",
     "output_type": "stream",
     "text": [
      "/cellar/users/aklie/opt/miniconda3/envs/eugene_dev/lib/python3.7/site-packages/torchmetrics/utilities/prints.py:36: UserWarning: No positive samples in targets, true positive value should be meaningless. Returning zero tensor in true positive score\n",
      "  warnings.warn(*args, **kwargs)\n"
     ]
    },
    {
     "data": {
      "application/vnd.jupyter.widget-view+json": {
       "model_id": "18d3c622fc3647b9b746a1977ff56307",
       "version_major": 2,
       "version_minor": 0
      },
      "text/plain": [
       "Validating: 0it [00:00, ?it/s]"
      ]
     },
     "metadata": {},
     "output_type": "display_data"
    },
    {
     "name": "stderr",
     "output_type": "stream",
     "text": [
      "Metric val_loss improved. New best score: 0.106\n"
     ]
    }
   ],
   "source": [
    "eu.train.fit(\n",
    "    model=model, \n",
    "    sdata=sdata_train, \n",
    "    target=\"target\",\n",
    "    train_key=\"val\",\n",
    "    epochs=1,\n",
    "    version=f\"v1\"\n",
    ")"
   ]
  },
  {
   "cell_type": "markdown",
   "metadata": {},
   "source": [
    "We can see how well our models trained by plotting a training summary:\n",
    "\n",
    "```python\n",
    "eu.train.pl_training_summary(model_leaf, version=f\"v1\")\n",
    "```"
   ]
  },
  {
   "cell_type": "code",
   "execution_count": 64,
   "metadata": {},
   "outputs": [
    {
     "name": "stdout",
     "output_type": "stream",
     "text": [
      "{'sdata': SeqData object with = 948771 seqs\n",
      "seqs = (948771,)\n",
      "names = (948771,)\n",
      "rev_seqs = None\n",
      "ohe_seqs = (948771, 500, 4)\n",
      "ohe_rev_seqs = None\n",
      "seqs_annot: 'chr', 'end', 'seq_len', 'start', 'target', 'train', 'val'\n",
      "pos_annot: None\n",
      "seqsm: None\n",
      "uns: None, 'target': 'target', 'train_key': 'val', 'gpus': None, 'batch_size': None, 'num_workers': None, 'out_dir': None, 'name': None, 'version': 'v1', 'file_label': '', 'sdataset': None, 'sdataloader': None, 'seq_transforms': None, 'transform_kwargs': {'transpose': True}, 'copy': False} (CNN(\n",
      "  (hp_metric): AUROC()\n",
      "  (convnet): BasicConv1D(\n",
      "    (module): Sequential(\n",
      "      (0): Conv1d(4, 10, kernel_size=(11,), stride=(1,))\n",
      "      (1): ReLU()\n",
      "      (2): MaxPool1d(kernel_size=30, stride=1, padding=0, dilation=1, ceil_mode=False)\n",
      "      (3): Dropout(p=0.2, inplace=False)\n",
      "      (4): BatchNorm1d(10, eps=1e-05, momentum=0.1, affine=True, track_running_stats=True)\n",
      "      (5): Conv1d(10, 8, kernel_size=(3,), stride=(1,))\n",
      "      (6): ReLU()\n",
      "      (7): Dropout(p=0.2, inplace=False)\n",
      "      (8): BatchNorm1d(8, eps=1e-05, momentum=0.1, affine=True, track_running_stats=True)\n",
      "    )\n",
      "  )\n",
      "  (fcnet): BasicFullyConnectedModule(\n",
      "    (module): Sequential(\n",
      "      (0): Linear(in_features=3672, out_features=1, bias=True)\n",
      "    )\n",
      "  )\n",
      "),) <class 'eugene.models._base_models.CNN'>\n",
      "No transforms given, assuming just need to tensorize).\n",
      "No transforms given, assuming just need to tensorize).\n"
     ]
    },
    {
     "name": "stderr",
     "output_type": "stream",
     "text": [
      "GPU available: False, used: False\n",
      "TPU available: False, using: 0 TPU cores\n",
      "IPU available: False, using: 0 IPUs\n",
      "GPU available: False, used: False\n",
      "TPU available: False, using: 0 TPU cores\n",
      "IPU available: False, using: 0 IPUs\n"
     ]
    },
    {
     "data": {
      "application/vnd.jupyter.widget-view+json": {
       "model_id": "841c0c2f91814c8386174767b5e2aab7",
       "version_major": 2,
       "version_minor": 0
      },
      "text/plain": [
       "Predicting: 0it [00:00, ?it/s]"
      ]
     },
     "metadata": {},
     "output_type": "display_data"
    },
    {
     "data": {
      "application/vnd.jupyter.widget-view+json": {
       "model_id": "6aa982229887447496dde857ad822bbe",
       "version_major": 2,
       "version_minor": 0
      },
      "text/plain": [
       "Predicting: 0it [00:00, ?it/s]"
      ]
     },
     "metadata": {},
     "output_type": "display_data"
    },
    {
     "name": "stdout",
     "output_type": "stream",
     "text": [
      "SeqData object modified:\n",
      "    seqs_annot:\n",
      "        + target_predictions\n"
     ]
    }
   ],
   "source": [
    "eu.predict.train_val_predictions(\n",
    "    model,\n",
    "    sdata=sdata_train,\n",
    "    target=\"target\",\n",
    "    train_key=\"val\",\n",
    "    version=\"v1\"\n",
    ")"
   ]
  },
  {
   "cell_type": "code",
   "execution_count": 68,
   "metadata": {},
   "outputs": [
    {
     "data": {
      "image/png": "[encoded data removed]",
      "text/plain": [
       "<Figure size 600x600 with 1 Axes>"
      ]
     },
     "metadata": {},
     "output_type": "display_data"
    }
   ],
   "source": [
    "eu.pl.auroc(sdata_train, targets=\"target\", predictions=\"target_predictions\")"
   ]
  },
  {
   "cell_type": "code",
   "execution_count": 69,
   "metadata": {},
   "outputs": [
    {
     "data": {
      "image/png": "[encoded data removed]",
      "text/plain": [
       "<Figure size 400x400 with 1 Axes>"
      ]
     },
     "metadata": {},
     "output_type": "display_data"
    }
   ],
   "source": [
    "eu.pl.violinplot(sdata_train, keys=\"target_predictions\", groupby=\"target\")"
   ]
  },
  {
   "cell_type": "code",
   "execution_count": 70,
   "metadata": {},
   "outputs": [
    {
     "data": {
      "image/png": "[encoded data removed]",
      "text/plain": [
       "<Figure size 600x600 with 1 Axes>"
      ]
     },
     "metadata": {},
     "output_type": "display_data"
    }
   ],
   "source": [
    "eu.pl.confusion_mtx(\n",
    "    sdata_train,\n",
    "    target=\"target\",\n",
    "    prediction=\"target_predictions\"\n",
    ")"
   ]
  },
  {
   "cell_type": "markdown",
   "metadata": {},
   "source": [
    "# Evaluation\n",
    "After the model's been trained, we can evaluate our performance on our training data and our held-out test data. This is done through the `plotting` module.\n",
    "It is often best to use the model that achieved the lowest loss on the validation data for evaluation. We can load this model in from the log directory:\n",
    "```python\n",
    "best_model = eu.models.DeepBind.load_from_checkpoint(\"...\")\n",
    "```\n",
    "We can then use this model to make predictions on our training and validation data and to visualize the performance:\n",
    "```python\n",
    "eu.predict.train_val_predictions(\n",
    "    best_model, \n",
    "    sdata=sdata, \n",
    "    target=\"target\",\n",
    "    train_key=\"train\",\n",
    "    version=f\"v1\",\n",
    ")\n",
    "train_idx = np.where(sdata_leaf_train[\"train\"] == True)[0]\n",
    "eu.pl.performance_scatter(\n",
    "    sdata, \n",
    "    seq_idx=train_idx, \n",
    "    target=\"target\", \n",
    "    prediction=\"target_predictions\",\n",
    "    title=\"Training Set Performance\",\n",
    "    alpha=0.5,\n",
    ")\n",
    "```"
   ]
  },
  {
   "cell_type": "code",
   "execution_count": null,
   "metadata": {},
   "outputs": [],
   "source": [
    "# TODO: See how you performed and the training and validation sets"
   ]
  },
  {
   "cell_type": "markdown",
   "metadata": {},
   "source": [
    "It is important to understand how the model is performing on a held-out (and ideally independent) test set. You should either load this separately above, here or have split your data up in preprocessing (see `jores21_analysis.ipynb` for an example).\n",
    "\n",
    "```python\n",
    "eu.predict.predictions(\n",
    "    best_model, \n",
    "    sdata=sdata, \n",
    "    target=\"target\",\n",
    "    version=f\"v1\",\n",
    "    file_label=\"test\"\n",
    ")\n",
    "eu.predict.predictions(\n",
    "    best_model, \n",
    "    sdata=sdata, \n",
    "    target=\"target\",\n",
    "    version=f\"v1\",\n",
    "    file_label=\"test\"\n",
    ")"
   ]
  },
  {
   "cell_type": "code",
   "execution_count": null,
   "metadata": {},
   "outputs": [],
   "source": [
    "# TODO: If you have a test set, see how you did on that"
   ]
  },
  {
   "cell_type": "markdown",
   "metadata": {},
   "source": [
    "# Interpretation\n",
    "Potentially the most important step in the EUGENe workflow is the interpretation of the model's predictions. This is done through the `interpret` module. All the functions in this module act on either `SeqData` and Models or just Models. Results from these calls can be visualized using the `plotting` module.\n",
    "---\n",
    "There are many options for interpreting the model's predictions, and we will again point users to the API for all the options and their arguments. We list examples for a few common ones below.\n",
    "\n",
    "\n",
    "```python\n",
    "eu.interpret.generate_pfms(\n",
    "    best_model_leaf, \n",
    "    sdata_leaf_test\n",
    ")\n",
    "```"
   ]
  },
  {
   "cell_type": "markdown",
   "metadata": {},
   "source": [
    "## Feature attribution\n",
    "We can calculate the contribution of each nucleotide to the model's predictions for a sequence by using the `interpret` module's `feature_attribution` function. We currently implement several different methods for this, includeing `DeepLift, ISM, InputXGradient and DeepSHAP`.\n",
    "```python\n",
    "eu.interpret.feature_attribution(\n",
    "    best_model,\n",
    "    sdata_test,\n",
    "    saliency_method=\"DeepLift\",\n",
    "    device= \"cuda\" if eu.settings.gpus > 0 else \"cpu\"\n",
    ")\n",
    "```"
   ]
  },
  {
   "cell_type": "code",
   "execution_count": 6,
   "metadata": {},
   "outputs": [],
   "source": [
    "# TODO: Run feature attribution on your model"
   ]
  },
  {
   "cell_type": "markdown",
   "metadata": {},
   "source": [
    "## Filter Visualization \n",
    "We can get an idea for what each filter of first convoulional layer of the model is seeing by using the `interpret` module's `generate_pfms` function. This creates a position frequency matrix for each filter in the model using sequences that highly activate that filter (can be defined in multiple ways). We often times pass the the test sequences through the model, but you can theoretically pass any sequences you want.\n",
    "```python\n",
    "eu.interpret.generate_pfms(\n",
    "    best_model, \n",
    "    sdata_test\n",
    ")\n",
    "```"
   ]
  },
  {
   "cell_type": "code",
   "execution_count": 7,
   "metadata": {},
   "outputs": [],
   "source": [
    "# TODO: Run filter visualization on your model"
   ]
  },
  {
   "cell_type": "markdown",
   "metadata": {},
   "source": [
    "## Other intepretation methods\n",
    "We currently implement a few other methods for interpreting the model's predictions. These include:\n",
    "- Dimensionality Reduction on your importance scores: e.g. `eu.interpret.pca`\n",
    "- ...\n",
    "We are looking to add more! If you are interested in contributing..."
   ]
  },
  {
   "cell_type": "code",
   "execution_count": null,
   "metadata": {},
   "outputs": [],
   "source": [
    "# TODO: Perform other intepretation methods on your trained model"
   ]
  },
  {
   "cell_type": "markdown",
   "metadata": {},
   "source": [
    "# Wrapping up\n",
    "EUGENe is very much meant to be a community project. It represents a collection of data, models, and techniques meant for analyzing sequence data with deep learning. We are looking for contributions in almost every aspect of EUGENe. We are particularly interested in:\n",
    "\n",
    "- New model additions through the `models` module\n",
    "- New dataset additions through the `datasets` module\n",
    "- New preprocessing techniques through the `preprocessing` module\n",
    "- New visualization techniques through the `plotting` module\n",
    "- New interpretation techniques through the `interpret` module\n",
    "- New methods for training models in the `train` module\n",
    "\n",
    "Please do not hesitate to contact us if you have any questions or suggestions."
   ]
  },
  {
   "cell_type": "markdown",
   "metadata": {},
   "source": [
    "---"
   ]
  }
 ],
 "metadata": {
  "kernelspec": {
   "display_name": "Python 3.7 eugene_dev",
   "language": "python",
   "name": "eugene_dev"
  },
  "language_info": {
   "codemirror_mode": {
    "name": "ipython",
    "version": 3
   },
   "file_extension": ".py",
   "mimetype": "text/x-python",
   "name": "python",
   "nbconvert_exporter": "python",
   "pygments_lexer": "ipython3",
   "version": "3.7.12"
  },
  "orig_nbformat": 4
 },
 "nbformat": 4,
 "nbformat_minor": 2
}
