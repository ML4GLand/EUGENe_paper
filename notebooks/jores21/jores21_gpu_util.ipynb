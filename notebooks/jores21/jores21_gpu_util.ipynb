{
 "cells": [
  {
   "attachments": {},
   "cell_type": "markdown",
   "id": "4a5c327b",
   "metadata": {},
   "source": [
    "# Jores et al 2021 GPU Utilization Analysis\n",
    "**Authorship:**\n",
    "David Laub (last updated: *07/19/2023*)\n",
    "***\n",
    "**Description:**\n",
    "Notebook to analyze GPU utilization of the Jores et al (2021) dataset\n",
    "***"
   ]
  },
  {
   "cell_type": "code",
   "execution_count": null,
   "id": "7568c525-b828-41c1-9e96-474dfb54c607",
   "metadata": {
    "execution": {
     "iopub.execute_input": "2023-06-17T03:42:52.658305Z",
     "iopub.status.busy": "2023-06-17T03:42:52.658179Z",
     "iopub.status.idle": "2023-06-17T03:43:36.138258Z",
     "shell.execute_reply": "2023-06-17T03:43:36.137791Z",
     "shell.execute_reply.started": "2023-06-17T03:42:52.658288Z"
    },
    "tags": []
   },
   "outputs": [],
   "source": [
    "# General imports\n",
    "import os\n",
    "import sys\n",
    "import torch\n",
    "import wandb\n",
    "from tqdm.auto import tqdm\n",
    "import pytorch_lightning as pl\n",
    "\n",
    "# EUGENe imports and settings\n",
    "import eugene as eu\n",
    "import eugene.train\n",
    "import eugene.models\n",
    "from eugene import settings\n",
    "settings.dataset_dir = \"/cellar/users/aklie/data/eugene/revision/jores21\"\n",
    "settings.output_dir = \"/cellar/users/dlaub/projects/ML4GLand/EUGENe_paper/output/jores21\"\n",
    "settings.logging_dir = \"/cellar/users/dlaub/projects/ML4GLand/EUGENe_paper/logs/jores21\"\n",
    "settings.config_dir = \"/cellar/users/dlaub/projects/ML4GLand/EUGENe_paper/configs/jores21\"\n",
    "\n",
    "# EUGENe packages\n",
    "import seqdata as sd\n",
    "import motifdata as md\n",
    "\n",
    "# Other imports\n",
    "from copy import deepcopy\n",
    "\n",
    "# Print versions\n",
    "print(f\"Python version: {sys.version}\")\n",
    "print(f\"PyTorch version: {torch.__version__}\")\n",
    "print(f\"Eugene version: {eu.__version__}\")\n",
    "print(f\"SeqData version: {sd.__version__}\")\n",
    "print(f\"MotifData version: {md.__version__}\")\n",
    "print(f\"WandB version: {wandb.__version__}\")"
   ]
  },
  {
   "cell_type": "code",
   "execution_count": null,
   "id": "e8a4bffd-cbc1-4f14-979d-5c34f5906b23",
   "metadata": {
    "execution": {
     "iopub.execute_input": "2023-06-17T03:43:36.144431Z",
     "iopub.status.busy": "2023-06-17T03:43:36.143367Z",
     "iopub.status.idle": "2023-06-17T03:43:52.762070Z",
     "shell.execute_reply": "2023-06-17T03:43:52.761655Z",
     "shell.execute_reply.started": "2023-06-17T03:43:36.144415Z"
    },
    "tags": []
   },
   "outputs": [],
   "source": [
    "# Login to wandb\n",
    "wandb.login()"
   ]
  },
  {
   "attachments": {},
   "cell_type": "markdown",
   "id": "450f30bb",
   "metadata": {},
   "source": [
    "# Load the data"
   ]
  },
  {
   "cell_type": "code",
   "execution_count": null,
   "id": "e5c2cd9c-74c4-4702-a702-468fc12bd510",
   "metadata": {
    "execution": {
     "iopub.execute_input": "2023-06-17T03:43:52.767065Z",
     "iopub.status.busy": "2023-06-17T03:43:52.766928Z",
     "iopub.status.idle": "2023-06-17T03:43:54.211508Z",
     "shell.execute_reply": "2023-06-17T03:43:54.211124Z",
     "shell.execute_reply.started": "2023-06-17T03:43:52.767049Z"
    },
    "tags": []
   },
   "outputs": [],
   "source": [
    "# Load data\n",
    "sdata = (\n",
    "    sd.open_zarr('/cellar/users/aklie/data/eugene/revision/jores21/jores21_leaf_train.zarr')\n",
    "    .rename({\"enrichment\": 'target'})\n",
    ")\n",
    "sdata"
   ]
  },
  {
   "cell_type": "code",
   "execution_count": null,
   "id": "910e8a88-8695-49e5-a428-290098518197",
   "metadata": {
    "execution": {
     "iopub.execute_input": "2023-06-17T03:43:54.215144Z",
     "iopub.status.busy": "2023-06-17T03:43:54.215009Z",
     "iopub.status.idle": "2023-06-17T03:43:55.528028Z",
     "shell.execute_reply": "2023-06-17T03:43:55.527551Z",
     "shell.execute_reply.started": "2023-06-17T03:43:54.215131Z"
    },
    "tags": []
   },
   "outputs": [],
   "source": [
    "# Load data into memory\n",
    "sdata[['ohe_seq', 'target']].load();"
   ]
  },
  {
   "cell_type": "code",
   "execution_count": null,
   "id": "ebb25b6d-317c-4378-9bea-77df70bfe65c",
   "metadata": {
    "execution": {
     "iopub.execute_input": "2023-06-17T03:43:55.539924Z",
     "iopub.status.busy": "2023-06-17T03:43:55.538885Z",
     "iopub.status.idle": "2023-06-17T03:43:55.652517Z",
     "shell.execute_reply": "2023-06-17T03:43:55.652091Z",
     "shell.execute_reply.started": "2023-06-17T03:43:55.539908Z"
    },
    "tags": []
   },
   "outputs": [],
   "source": [
    "# Build dataloader\n",
    "train_sdata = sdata.sel(_sequence=(sdata.train_val == True).compute())\n",
    "\n",
    "transforms = {\n",
    "    \"ohe_seq\": lambda x: x.swapaxes(1, 2)\n",
    "}\n",
    "\n",
    "dl = sd.get_torch_dataloader(\n",
    "    train_sdata,\n",
    "    sample_dims='_sequence',\n",
    "    variables=['ohe_seq', 'target'],\n",
    "    transforms=transforms,\n",
    "    batch_size=1024,\n",
    "    pin_memory=True,\n",
    "    drop_last=False,\n",
    ")"
   ]
  },
  {
   "cell_type": "code",
   "execution_count": null,
   "id": "6b2aa626-ac72-4478-ae84-d9f9f8186989",
   "metadata": {
    "tags": []
   },
   "outputs": [],
   "source": [
    "# Skip motifs in first layer for now\n",
    "# core_promoter_elements = md.read_meme(\"/cellar/users/aklie/data/eugene/revision/jores21/CPEs.meme\")\n",
    "# tf_clusters = md.read_meme(\"/cellar/users/aklie/data/eugene/revision/jores21/TF-clusters.meme\")\n",
    "# all_motifs = deepcopy(core_promoter_elements)\n",
    "# for motif in tf_clusters:\n",
    "#     all_motifs.add_motif(motif)"
   ]
  },
  {
   "attachments": {},
   "cell_type": "markdown",
   "id": "a7e54060-0f6b-4d13-b2d0-4447c8d15c5f",
   "metadata": {
    "jp-MarkdownHeadingCollapsed": true,
    "tags": []
   },
   "source": [
    "## PyTorch run"
   ]
  },
  {
   "cell_type": "code",
   "execution_count": null,
   "id": "bb3f07d4-ccf5-47be-8b0c-fbb95b385f7a",
   "metadata": {
    "execution": {
     "iopub.execute_input": "2023-06-17T03:22:58.545153Z",
     "iopub.status.busy": "2023-06-17T03:22:58.544929Z",
     "iopub.status.idle": "2023-06-17T03:22:58.594341Z",
     "shell.execute_reply": "2023-06-17T03:22:58.593803Z",
     "shell.execute_reply.started": "2023-06-17T03:22:58.545137Z"
    }
   },
   "outputs": [],
   "source": [
    "# Load model\n",
    "model = eu.models.load_config(\n",
    "    config_path='/cellar/users/aklie/projects/ML4GLand/EUGENe_paper/configs/jores21/hybrid.yaml',\n",
    "    seed=0\n",
    ").cuda()\n",
    "\n",
    "eu.models.init_weights(model, initializer=\"kaiming_normal\")\n",
    "\n",
    "# eu.models.init_motif_weights(\n",
    "#     model=model,\n",
    "#     layer_name=\"arch.conv1d_tower.layers.0\",\n",
    "#     list_index=None,\n",
    "#     initializer=\"xavier_uniform\",\n",
    "#     motifs=all_motifs,\n",
    "#     convert_to_pwm=False,\n",
    "#     divide_by_bg=True,\n",
    "#     motif_align=\"left\",\n",
    "#     kernel_align=\"left\"\n",
    "# )"
   ]
  },
  {
   "cell_type": "code",
   "execution_count": null,
   "id": "955fe5b9-b008-48e6-8ac6-5bca36ea64ad",
   "metadata": {
    "execution": {
     "iopub.execute_input": "2023-06-17T03:22:58.791522Z",
     "iopub.status.busy": "2023-06-17T03:22:58.791307Z",
     "iopub.status.idle": "2023-06-17T03:22:58.796335Z",
     "shell.execute_reply": "2023-06-17T03:22:58.795922Z",
     "shell.execute_reply.started": "2023-06-17T03:22:58.791506Z"
    },
    "tags": []
   },
   "outputs": [],
   "source": [
    "# Native PyTorch training loop\n",
    "def train(model, dloader, optim, loss_fn):\n",
    "    model.train()\n",
    "    for batch in tqdm(dloader, position=1, leave=False):\n",
    "        pred = model(batch['ohe_seq'].cuda())\n",
    "        loss = loss_fn(pred.squeeze(), batch['target'].cuda())\n",
    "        loss.backward()\n",
    "        optim.step()\n",
    "        optim.zero_grad()"
   ]
  },
  {
   "cell_type": "code",
   "execution_count": null,
   "id": "26940a78-e26d-43b4-9aba-311cb2447b15",
   "metadata": {
    "execution": {
     "iopub.execute_input": "2023-06-17T03:22:59.405725Z",
     "iopub.status.busy": "2023-06-17T03:22:59.405506Z",
     "iopub.status.idle": "2023-06-17T03:26:39.833819Z",
     "shell.execute_reply": "2023-06-17T03:26:39.833407Z",
     "shell.execute_reply.started": "2023-06-17T03:22:59.405709Z"
    },
    "tags": []
   },
   "outputs": [],
   "source": [
    "# Train model\n",
    "epochs = 25\n",
    "optim = torch.optim.Adam(model.parameters())\n",
    "with wandb.init(project='EUGENe GPU Utilization', name='Native PyTorch', tags=['Jores21']):\n",
    "    for _ in tqdm(range(epochs), position=0):\n",
    "        train(model, dl, optim, model.loss_fxn)"
   ]
  },
  {
   "attachments": {},
   "cell_type": "markdown",
   "id": "89252426-b789-4726-857f-7d9871ffde19",
   "metadata": {
    "jp-MarkdownHeadingCollapsed": true,
    "tags": []
   },
   "source": [
    "## Lightning run"
   ]
  },
  {
   "cell_type": "code",
   "execution_count": null,
   "id": "24779724-63a7-4635-a49d-b3ea5b0ce691",
   "metadata": {
    "execution": {
     "iopub.execute_input": "2023-06-17T03:30:43.129787Z",
     "iopub.status.busy": "2023-06-17T03:30:43.129577Z",
     "iopub.status.idle": "2023-06-17T03:30:43.161079Z",
     "shell.execute_reply": "2023-06-17T03:30:43.160667Z",
     "shell.execute_reply.started": "2023-06-17T03:30:43.129772Z"
    },
    "tags": []
   },
   "outputs": [],
   "source": [
    "model = eu.models.load_config(\n",
    "    config_path='/cellar/users/aklie/projects/ML4GLand/EUGENe_paper/configs/jores21/hybrid.yaml',\n",
    "    seed=0\n",
    ").cuda()\n",
    "\n",
    "eu.models.init_weights(model, initializer=\"kaiming_normal\")\n",
    "\n",
    "# eu.models.init_motif_weights(\n",
    "#     model=model,\n",
    "#     layer_name=\"arch.conv1d_tower.layers.0\",\n",
    "#     list_index=None,\n",
    "#     initializer=\"xavier_uniform\",\n",
    "#     motifs=all_motifs,\n",
    "#     convert_to_pwm=False,\n",
    "#     divide_by_bg=True,\n",
    "#     motif_align=\"left\",\n",
    "#     kernel_align=\"left\"\n",
    "# )\n",
    "\n",
    "model.scheduler = None"
   ]
  },
  {
   "cell_type": "code",
   "execution_count": null,
   "id": "a0fedaef-94eb-4ebd-9558-ef3d6d33533f",
   "metadata": {
    "execution": {
     "iopub.execute_input": "2023-06-17T03:30:43.453379Z",
     "iopub.status.busy": "2023-06-17T03:30:43.452254Z",
     "iopub.status.idle": "2023-06-17T03:30:44.110129Z",
     "shell.execute_reply": "2023-06-17T03:30:44.109756Z",
     "shell.execute_reply.started": "2023-06-17T03:30:43.453362Z"
    },
    "tags": []
   },
   "outputs": [],
   "source": [
    "# PyTorch Lightning training loop\n",
    "trainer = pl.Trainer(max_epochs=25, logger=False)"
   ]
  },
  {
   "cell_type": "code",
   "execution_count": null,
   "id": "3d1c865c-a009-4e5b-8803-8676ef96429f",
   "metadata": {
    "execution": {
     "iopub.execute_input": "2023-06-17T03:30:44.971644Z",
     "iopub.status.busy": "2023-06-17T03:30:44.970559Z",
     "iopub.status.idle": "2023-06-17T03:33:52.551478Z",
     "shell.execute_reply": "2023-06-17T03:33:52.551078Z",
     "shell.execute_reply.started": "2023-06-17T03:30:44.971628Z"
    },
    "tags": []
   },
   "outputs": [],
   "source": [
    "# Train model\n",
    "with wandb.init(project='EUGENe GPU Utilization', name='PL no val', tags=['Jores21']):\n",
    "    trainer.fit(model, dl)"
   ]
  },
  {
   "attachments": {},
   "cell_type": "markdown",
   "id": "982610a7-c249-42b2-9f5e-2acdac0fa7e3",
   "metadata": {},
   "source": [
    "## EUGENe run"
   ]
  },
  {
   "cell_type": "code",
   "execution_count": null,
   "id": "7376229d-e93a-4999-819f-e0d7326afe23",
   "metadata": {
    "execution": {
     "iopub.execute_input": "2023-06-17T03:43:55.658579Z",
     "iopub.status.busy": "2023-06-17T03:43:55.657531Z",
     "iopub.status.idle": "2023-06-17T03:43:59.237904Z",
     "shell.execute_reply": "2023-06-17T03:43:59.237471Z",
     "shell.execute_reply.started": "2023-06-17T03:43:55.658560Z"
    },
    "tags": []
   },
   "outputs": [],
   "source": [
    "model = eu.models.load_config(\n",
    "    config_path='/cellar/users/aklie/projects/ML4GLand/EUGENe_paper/configs/jores21/hybrid.yaml',\n",
    "    seed=0\n",
    ").cuda()\n",
    "\n",
    "eu.models.init_weights(model, initializer=\"kaiming_normal\")\n",
    "\n",
    "# eu.models.init_motif_weights(\n",
    "#     model=model,\n",
    "#     layer_name=\"arch.conv1d_tower.layers.0\",\n",
    "#     list_index=None,\n",
    "#     initializer=\"xavier_uniform\",\n",
    "#     motifs=all_motifs,\n",
    "#     convert_to_pwm=False,\n",
    "#     divide_by_bg=True,\n",
    "#     motif_align=\"left\",\n",
    "#     kernel_align=\"left\"\n",
    "# )\n",
    "\n",
    "model.scheduler = None"
   ]
  },
  {
   "cell_type": "code",
   "execution_count": null,
   "id": "9f76956a-0852-4fc3-9cfc-66a720398efa",
   "metadata": {
    "execution": {
     "iopub.execute_input": "2023-06-17T03:43:59.243946Z",
     "iopub.status.busy": "2023-06-17T03:43:59.242903Z",
     "iopub.status.idle": "2023-06-17T03:47:37.296415Z",
     "shell.execute_reply": "2023-06-17T03:47:37.296010Z",
     "shell.execute_reply.started": "2023-06-17T03:43:59.243931Z"
    },
    "tags": []
   },
   "outputs": [],
   "source": [
    "# Fit the model\n",
    "with wandb.init(project='EUGENe GPU Utilization', name='EUGENe', tags=['Jores21']):\n",
    "    eu.train.fit_sequence_module(\n",
    "        model,\n",
    "        sdata,\n",
    "        seq_var=\"ohe_seq\",\n",
    "        target_vars=['target'],\n",
    "        in_memory=True,\n",
    "        train_var=\"train_val\",\n",
    "        epochs=25,\n",
    "        batch_size=1024,\n",
    "        drop_last=False,\n",
    "        early_stopping_metric=None,\n",
    "        model_checkpoint_monitor=None,\n",
    "        transforms=transforms\n",
    "    )"
   ]
  },
  {
   "attachments": {},
   "cell_type": "markdown",
   "id": "1b1ebe60",
   "metadata": {},
   "source": [
    "# DONE!"
   ]
  },
  {
   "attachments": {},
   "cell_type": "markdown",
   "id": "4888d4b3",
   "metadata": {},
   "source": [
    "---"
   ]
  },
  {
   "attachments": {},
   "cell_type": "markdown",
   "id": "b7020054",
   "metadata": {},
   "source": [
    "# Scratch"
   ]
  }
 ],
 "metadata": {
  "kernelspec": {
   "display_name": "EUGENe",
   "language": "python",
   "name": "eugene-dev"
  },
  "language_info": {
   "codemirror_mode": {
    "name": "ipython",
    "version": 3
   },
   "file_extension": ".py",
   "mimetype": "text/x-python",
   "name": "python",
   "nbconvert_exporter": "python",
   "pygments_lexer": "ipython3",
   "version": "3.9.15"
  }
 },
 "nbformat": 4,
 "nbformat_minor": 5
}
