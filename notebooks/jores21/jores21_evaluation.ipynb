{
 "cells": [
  {
   "cell_type": "markdown",
   "metadata": {},
   "source": [
    "# Jores et al 2021 Evaluation \n",
    "**Authorship:**\n",
    "Adam Klie, *08/12/2022*\n",
    "***\n",
    "**Description:**\n",
    "Notebook to perform a brief evaluation of trained models on the Jores et al (2021) dataset.\n",
    "***"
   ]
  },
  {
   "cell_type": "code",
   "execution_count": null,
   "metadata": {
    "tags": []
   },
   "outputs": [],
   "source": [
    "if 'autoreload' not in get_ipython().extension_manager.loaded:\n",
    "    %load_ext autoreload\n",
    "%autoreload 2\n",
    "\n",
    "import os\n",
    "import glob\n",
    "import logging\n",
    "import torch\n",
    "import numpy as np\n",
    "import pandas as pd\n",
    "import eugene as eu\n",
    "import matplotlib.pyplot as plt\n",
    "import matplotlib\n",
    "\n",
    "# For illustrator editing\n",
    "matplotlib.rcParams['pdf.fonttype'] = 42\n",
    "matplotlib.rcParams['ps.fonttype'] = 42"
   ]
  },
  {
   "cell_type": "code",
   "execution_count": null,
   "metadata": {
    "tags": []
   },
   "outputs": [],
   "source": [
    "eu.settings.dataset_dir = \"/cellar/users/aklie/data/eugene/jores21\"\n",
    "eu.settings.output_dir = \"/cellar/users/aklie/projects/EUGENe/EUGENe_paper/output/jores21\"\n",
    "eu.settings.logging_dir = \"/cellar/users/aklie/projects/EUGENe/EUGENe_paper/logs/jores21\"\n",
    "eu.settings.config_dir = \"/cellar/users/aklie/projects/EUGENe/EUGENe_paper/configs/jores21\"\n",
    "eu.settings.figure_dir = \"/cellar/users/aklie/projects/EUGENe/EUGENe_paper/figures/jores21\"\n",
    "eu.settings.verbosity = logging.ERROR\n",
    "eu.settings.batch_size = 128\n",
    "eu.settings.dl_num_workers = 0"
   ]
  },
  {
   "cell_type": "markdown",
   "metadata": {
    "tags": []
   },
   "source": [
    "# Load in the `leaf`, `proto` and `combined` test `SeqData`s "
   ]
  },
  {
   "cell_type": "code",
   "execution_count": null,
   "metadata": {
    "tags": []
   },
   "outputs": [],
   "source": [
    "# Load in the preprocessed test set data\n",
    "sdata_leaf = eu.dl.read(os.path.join(eu.settings.dataset_dir, \"leaf_processed_test.h5sd\"))\n",
    "sdata_proto = eu.dl.read(os.path.join(eu.settings.dataset_dir, \"proto_processed_test.h5sd\"))\n",
    "sdata_combined = eu.dl.concat([sdata_leaf, sdata_proto], keys=[\"leaf\", \"proto\"])"
   ]
  },
  {
   "cell_type": "markdown",
   "metadata": {
    "tags": []
   },
   "source": [
    "# Get test set predictions for each model"
   ]
  },
  {
   "cell_type": "markdown",
   "metadata": {
    "tags": []
   },
   "source": [
    "## Leaf model"
   ]
  },
  {
   "cell_type": "code",
   "execution_count": null,
   "metadata": {
    "tags": []
   },
   "outputs": [],
   "source": [
    "# Evaluate each leaf model on the test set\n",
    "model_types = [\"CNN\", \"Hybrid\", \"Jores21CNN\"]\n",
    "model_names = [\"ssCNN\", \"ssHybrid\", \"Jores21CNN\"]\n",
    "trials = 5\n",
    "for model_name, model_type in zip(model_names, model_types):\n",
    "    for trial in range(1, trials+1):\n",
    "        print(f\"{model_name} trial {trial}\")\n",
    "        model_file = glob.glob(os.path.join(eu.settings.logging_dir, model_name, f\"leaf_trial_{trial}\", \"checkpoints\", \"*\"))[0]\n",
    "        if model_type == \"CNN\":\n",
    "            leaf_model = eu.models.CNN.load_from_checkpoint(model_file)\n",
    "        elif model_type == \"Hybrid\":\n",
    "            leaf_model = eu.models.Hybrid.load_from_checkpoint(model_file)\n",
    "        elif model_type == \"Jores21CNN\":\n",
    "            leaf_model = eu.models.Jores21CNN.load_from_checkpoint(model_file)\n",
    "        eu.evaluate.predictions(\n",
    "            leaf_model,\n",
    "            sdata=sdata_leaf,\n",
    "            target_keys=\"enrichment\",\n",
    "            name=model_name,\n",
    "            version=f\"leaf_trial_{trial}\",\n",
    "            file_label=\"test\",\n",
    "            prefix=f\"{model_name}_trial_{trial}_\"\n",
    "        )\n",
    "        del leaf_model\n",
    "sdata_leaf.write_h5sd(os.path.join(eu.settings.output_dir, \"leaf_test_predictions.h5sd\"))"
   ]
  },
  {
   "cell_type": "markdown",
   "metadata": {
    "tags": []
   },
   "source": [
    "## Proto model"
   ]
  },
  {
   "cell_type": "code",
   "execution_count": null,
   "metadata": {
    "tags": []
   },
   "outputs": [],
   "source": [
    "# Evaluate each proto model on the test set\n",
    "model_types = [\"CNN\", \"Hybrid\", \"Jores21CNN\"]\n",
    "model_names = [\"ssCNN\", \"ssHybrid\", \"Jores21CNN\"]\n",
    "trials = 5\n",
    "for model_name, model_type in zip(model_names, model_types):\n",
    "    for trial in range(1, trials+1):\n",
    "        print(f\"{model_name} trial {trial}\")\n",
    "        model_file = glob.glob(os.path.join(eu.settings.logging_dir, model_name, f\"proto_trial_{trial}\", \"checkpoints\", \"*\"))[0]\n",
    "        if model_type == \"CNN\":\n",
    "            proto_model = eu.models.CNN.load_from_checkpoint(model_file)\n",
    "        elif model_type == \"Hybrid\":\n",
    "            proto_model = eu.models.Hybrid.load_from_checkpoint(model_file)\n",
    "        elif model_type == \"Jores21CNN\":\n",
    "            proto_model = eu.models.Jores21CNN.load_from_checkpoint(model_file)\n",
    "        eu.evaluate.predictions(\n",
    "            proto_model,\n",
    "            sdata=sdata_proto,\n",
    "            target_keys=\"enrichment\",\n",
    "            name=model_name,\n",
    "            version=f\"proto_trial_{trial}\",\n",
    "            file_label=\"test\",\n",
    "            prefix=f\"{model_name}_trial_{trial}_\"\n",
    "        )\n",
    "        del proto_model\n",
    "sdata_proto.write_h5sd(os.path.join(eu.settings.output_dir, \"proto_test_predictions.h5sd\"))"
   ]
  },
  {
   "cell_type": "markdown",
   "metadata": {
    "tags": []
   },
   "source": [
    "## Combined model"
   ]
  },
  {
   "cell_type": "code",
   "execution_count": null,
   "metadata": {
    "tags": []
   },
   "outputs": [],
   "source": [
    "# Evaluate each combined model on the test set \n",
    "model_types = [\"CNN\", \"Hybrid\", \"Jores21CNN\"]\n",
    "model_names = [\"ssCNN\", \"ssHybrid\", \"Jores21CNN\"]\n",
    "trials = 5\n",
    "for model_name, model_type in zip(model_names, model_types):\n",
    "    for trial in range(1, trials+1):\n",
    "        print(f\"{model_name} trial {trial}\")\n",
    "        model_file = glob.glob(os.path.join(eu.settings.logging_dir, model_name, f\"combined_trial_{trial}\", \"checkpoints\", \"*\"))[0]\n",
    "        if model_type == \"CNN\":\n",
    "            combined_model = eu.models.CNN.load_from_checkpoint(model_file)\n",
    "        elif model_type == \"Hybrid\":\n",
    "            combined_model = eu.models.Hybrid.load_from_checkpoint(model_file)\n",
    "        elif model_type == \"Jores21CNN\":\n",
    "            combined_model = eu.models.Jores21CNN.load_from_checkpoint(model_file)\n",
    "        eu.evaluate.predictions(\n",
    "            combined_model,\n",
    "            sdata=sdata_combined,\n",
    "            target_keys=\"enrichment\",\n",
    "            name=model_name,\n",
    "            version=f\"combined_trial_{trial}\",\n",
    "            file_label=\"test\",\n",
    "            prefix=f\"{model_name}_trial_{trial}_\"\n",
    "        )\n",
    "        del combined_model\n",
    "sdata_combined.write_h5sd(os.path.join(eu.settings.output_dir, \"combined_test_predictions.h5sd\"))"
   ]
  },
  {
   "cell_type": "markdown",
   "metadata": {},
   "source": [
    "---"
   ]
  }
 ],
 "metadata": {
  "kernelspec": {
   "display_name": "Python 3.7 eugene_dev",
   "language": "python",
   "name": "eugene_dev"
  },
  "language_info": {
   "codemirror_mode": {
    "name": "ipython",
    "version": 3
   },
   "file_extension": ".py",
   "mimetype": "text/x-python",
   "name": "python",
   "nbconvert_exporter": "python",
   "pygments_lexer": "ipython3",
   "version": "3.7.12"
  },
  "vscode": {
   "interpreter": {
    "hash": "949777d72b0d2535278d3dc13498b2535136f6dfe0678499012e853ee9abcab1"
   }
  }
 },
 "nbformat": 4,
 "nbformat_minor": 4
}
