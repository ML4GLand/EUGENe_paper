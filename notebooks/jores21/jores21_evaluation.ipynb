{
 "cells": [
  {
   "attachments": {},
   "cell_type": "markdown",
   "metadata": {},
   "source": [
    "# Jores et al 2021 Evaluation \n",
    "**Authorship:**\n",
    "Adam Klie (last updated: *06/08/2023*)\n",
    "***\n",
    "**Description:**\n",
    "Notebook to perform a brief evaluation of trained models on the Jores et al (2021) dataset.\n",
    "***"
   ]
  },
  {
   "cell_type": "code",
   "execution_count": null,
   "metadata": {},
   "outputs": [],
   "source": [
    "# General imports\n",
    "import os\n",
    "import sys\n",
    "import glob\n",
    "import torch\n",
    "import numpy as np\n",
    "\n",
    "# EUGENe imports and settings\n",
    "import eugene as eu\n",
    "from eugene import dataload as dl\n",
    "from eugene import models\n",
    "from eugene import evaluate\n",
    "from eugene import settings\n",
    "settings.dataset_dir = \"/cellar/users/aklie/data/eugene/revision/jores21\"\n",
    "settings.output_dir = \"/cellar/users/aklie/projects/ML4GLand/EUGENe_paper/output/fix_full/jores21\"\n",
    "settings.logging_dir = \"/cellar/users/aklie/projects/ML4GLand/EUGENe_paper/logs/fix_full/jores21\"\n",
    "settings.config_dir = \"/cellar/users/aklie/projects/ML4GLand/EUGENe_paper/configs/jores21\"\n",
    "\n",
    "# EUGENe packages\n",
    "import seqdata as sd\n",
    "\n",
    "# For illustrator editing\n",
    "import matplotlib\n",
    "matplotlib.rcParams['pdf.fonttype'] = 42\n",
    "matplotlib.rcParams['ps.fonttype'] = 42\n",
    "\n",
    "# Print versions\n",
    "print(f\"Python version: {sys.version}\")\n",
    "print(f\"NumPy version: {np.__version__}\")\n",
    "print(f\"Eugene version: {eu.__version__}\")\n",
    "print(f\"SeqData version: {sd.__version__}\")\n",
    "print(f\"PyTorch version: {torch.__version__}\")"
   ]
  },
  {
   "attachments": {},
   "cell_type": "markdown",
   "metadata": {
    "tags": []
   },
   "source": [
    "# Load in the `leaf`, `proto` and `combined` test `SeqData`s "
   ]
  },
  {
   "cell_type": "code",
   "execution_count": null,
   "metadata": {},
   "outputs": [],
   "source": [
    "# Load in the preprocessed test set data\n",
    "sdata_leaf = sd.open_zarr(os.path.join(settings.dataset_dir, \"jores21_leaf_test.zarr\"))\n",
    "sdata_proto = sd.open_zarr(os.path.join(settings.dataset_dir, \"jores21_proto_test.zarr\"))\n",
    "sdata_combined = dl.concat_seqdatas([sdata_leaf, sdata_proto], [\"leaf\", \"proto\"])"
   ]
  },
  {
   "attachments": {},
   "cell_type": "markdown",
   "metadata": {
    "tags": []
   },
   "source": [
    "# Get test set predictions for each model"
   ]
  },
  {
   "cell_type": "code",
   "execution_count": null,
   "metadata": {},
   "outputs": [],
   "source": [
    "# Predict with each model that was trained\n",
    "test_sets = {\"leaf\": sdata_leaf, \"proto\": sdata_proto, \"combined\": sdata_combined}\n",
    "configs = [\"cnn.yaml\", \"hybrid.yaml\", \"jores21_cnn.yaml\", \"deepstarr.yaml\"]\n",
    "trials = 5\n",
    "for test_set in test_sets:\n",
    "    \n",
    "    # Grab the current test set\n",
    "    sdata = test_sets[test_set]\n",
    "\n",
    "    # Make an output directory for this dataset if it doesn't exist\n",
    "    if not os.path.exists(os.path.join(settings.output_dir, test_set)):\n",
    "        os.makedirs(os.path.join(settings.output_dir, test_set))\n",
    "\n",
    "    # Iterate over the models\n",
    "    for config in configs:\n",
    "        model_name = config.split(\".\")[0]\n",
    "\n",
    "        # Iterate over the trials\n",
    "        for trial in range(1, trials+1):\n",
    "        \n",
    "            # Print the model name\n",
    "            print(f\"{test_set} {model_name} trial {trial}\")\n",
    "\n",
    "            # Grab the best model from that training run\n",
    "            model_file = glob.glob(os.path.join(settings.logging_dir, model_name, f\"{test_set}_trial_{trial}\", \"checkpoints\", \"*\"))[0]\n",
    "            model = models.load_config(config_path=config)\n",
    "            best_model = models.SequenceModule.load_from_checkpoint(model_file, arch=model.arch)\n",
    "            evaluate.predictions_sequence_module(\n",
    "                model=best_model,\n",
    "                sdata=sdata,\n",
    "                seq_var=\"ohe_seq\",\n",
    "                target_vars=\"enrichment\",\n",
    "                gpus=1,\n",
    "                batch_size=2048,\n",
    "                num_workers=4,\n",
    "                prefetch_factor=2,\n",
    "                in_memory=True,\n",
    "                transforms={\"ohe_seq\": lambda x: torch.tensor(x, dtype=torch.float32).transpose(1, 2), \"target\": lambda x: torch.tensor(x, dtype=torch.float32)},\n",
    "                file_label=\"test\",\n",
    "                name=model_name,\n",
    "                version=f\"{test_set}_trial_{trial}\",\n",
    "                prefix=f\"{model_name}_trial_{trial}_\"\n",
    "            )\n",
    "\n",
    "    # Save the predictions\n",
    "    pred_vars = [k for k in sdata.data_vars.keys() if \"predictions\" in k]\n",
    "    target_vars = [\"enrichment\"]\n",
    "    sdata[[\"id\", *target_vars, *pred_vars]].to_dataframe().to_csv(os.path.join(settings.output_dir, test_set, f\"jores21_{test_set}_test_predictions.tsv\"), sep=\"\\t\", index=False)\n",
    "    sd.to_zarr(sdata, os.path.join(settings.output_dir, test_set, f\"jores21_{test_set}_test_predictions.zarr\"), mode=\"w\")"
   ]
  },
  {
   "attachments": {},
   "cell_type": "markdown",
   "metadata": {},
   "source": [
    "# DONE!"
   ]
  },
  {
   "attachments": {},
   "cell_type": "markdown",
   "metadata": {},
   "source": [
    "---"
   ]
  },
  {
   "attachments": {},
   "cell_type": "markdown",
   "metadata": {},
   "source": [
    "# Scratch"
   ]
  },
  {
   "cell_type": "code",
   "execution_count": null,
   "metadata": {},
   "outputs": [],
   "source": [
    "for zarr in [\"jores21_leaf_test_predictions.zarr\", \"jores21_proto_test_predictions.zarr\", \"jores21_combined_test_predictions.zarr\"]:\n",
    "    print(zarr)\n",
    "    system = zarr.split(\"_\")[1]\n",
    "    sdata = sd.open_zarr(os.path.join(settings.output_dir, system, zarr))\n",
    "    print(sdata.dims[\"_sequence\"])\n",
    "    print(np.unique(sdata[\"set\"].values, return_counts=True))\n",
    "    if \"train_val\" in sdata.data_vars:\n",
    "        print(np.unique(sdata[\"train_val\"].values, return_counts=True))\n",
    "    else:\n",
    "        print(\"No train_val column found\")\n",
    "    print(np.unique(sdata[\"sp\"].values, return_counts=True))\n",
    "    print(sdata[\"id\"].values[:5])\n",
    "    print(np.unique(sdata[\"batch\"].values, return_counts=True))\n",
    "    print(f\"Found {len(sdata[pred_vars].data_vars.keys())} predictions columns\")"
   ]
  }
 ],
 "metadata": {
  "kernelspec": {
   "display_name": "Python 3.9 ml4gland",
   "language": "python",
   "name": "ml4gland"
  },
  "vscode": {
   "interpreter": {
    "hash": "949777d72b0d2535278d3dc13498b2535136f6dfe0678499012e853ee9abcab1"
   }
  }
 },
 "nbformat": 4,
 "nbformat_minor": 4
}
