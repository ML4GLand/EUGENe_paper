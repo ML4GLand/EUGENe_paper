{
 "cells": [
  {
   "attachments": {},
   "cell_type": "markdown",
   "metadata": {},
   "source": [
    "# Jores et al 2021 Intepretation\n",
    "**Authorship:**\n",
    "Adam Klie, *08/12/2022*\n",
    "***\n",
    "**Description:**\n",
    "Notebook to interpret the best trained models on the Jores et al (2021) dataset.\n",
    "***"
   ]
  },
  {
   "cell_type": "code",
   "execution_count": null,
   "metadata": {
    "tags": []
   },
   "outputs": [],
   "source": [
    "if 'autoreload' not in get_ipython().extension_manager.loaded:\n",
    "    %load_ext autoreload\n",
    "%autoreload 2"
   ]
  },
  {
   "cell_type": "code",
   "execution_count": 47,
   "metadata": {},
   "outputs": [],
   "source": [
    "# General imports\n",
    "import os\n",
    "import glob\n",
    "import torch\n",
    "import numpy as np\n",
    "import xarray as xr\n",
    "\n",
    "# EUGENe imports and settings\n",
    "from eugene import models\n",
    "from eugene import settings\n",
    "settings.dataset_dir = \"/cellar/users/aklie/data/eugene/revision/jores21\"\n",
    "settings.output_dir = \"/cellar/users/aklie/projects/ML4GLand/EUGENe_paper/output/revision/jores21\"\n",
    "settings.logging_dir = \"/cellar/users/aklie/projects/ML4GLand/EUGENe_paper/logs/revision/jores21\"\n",
    "settings.config_dir = \"/cellar/users/aklie/projects/ML4GLand/EUGENe_paper/configs/jores21\"\n",
    "\n",
    "# EUGENe packages\n",
    "import seqdata as sd\n",
    "\n",
    "# For illustrator editing\n",
    "import matplotlib\n",
    "matplotlib.rcParams['pdf.fonttype'] = 42\n",
    "matplotlib.rcParams['ps.fonttype'] = 42"
   ]
  },
  {
   "attachments": {},
   "cell_type": "markdown",
   "metadata": {
    "tags": []
   },
   "source": [
    "# Load in the `leaf`, `proto` and `combined` test `SeqData`s "
   ]
  },
  {
   "cell_type": "code",
   "execution_count": null,
   "metadata": {},
   "outputs": [],
   "source": [
    "sdata_leaf = sd.open_zarr(os.path.join(settings.output_dir, f\"jores21_leaf_test_predictions.zarr\"), mode=\"w\")"
   ]
  },
  {
   "cell_type": "code",
   "execution_count": null,
   "metadata": {
    "tags": []
   },
   "outputs": [],
   "source": [
    "# Load in the preprocessed training data\n",
    "sdata_leaf = eu.dl.read(os.path.join(eu.settings.output_dir, \"leaf\", \"leaf_test_predictions.h5sd\"))\n",
    "sdata_proto = eu.dl.read(os.path.join(eu.settings.output_dir, \"proto\", \"proto_test_predictions.h5sd\"))\n",
    "sdata_combined = eu.dl.read(os.path.join(eu.settings.output_dir, \"combined\", \"combined_test_predictions.h5sd\"))\n",
    "sdata_leaf, sdata_proto, sdata_combined"
   ]
  },
  {
   "attachments": {},
   "cell_type": "markdown",
   "metadata": {
    "tags": []
   },
   "source": [
    "# Load the best model"
   ]
  },
  {
   "cell_type": "code",
   "execution_count": null,
   "metadata": {
    "tags": []
   },
   "outputs": [],
   "source": [
    "leaf_model_file = glob.glob(os.path.join(eu.settings.logging_dir, \"ssHybrid\", f\"leaf_trial_5\", \"checkpoints\", \"*\"))[0]\n",
    "leaf_model = eu.models.Hybrid.load_from_checkpoint(leaf_model_file)\n",
    "proto_model_file = glob.glob(os.path.join(eu.settings.logging_dir, \"Jores21CNN\", f\"proto_trial_2\", \"checkpoints\", \"*\"))[0]\n",
    "proto_model = eu.models.Jores21CNN.load_from_checkpoint(proto_model_file)\n",
    "combined_model_file = glob.glob(os.path.join(eu.settings.logging_dir, \"Jores21CNN\", f\"combined_trial_3\", \"checkpoints\", \"*\"))[0]\n",
    "combined_model = eu.models.Jores21CNN.load_from_checkpoint(combined_model_file)"
   ]
  },
  {
   "cell_type": "code",
   "execution_count": null,
   "metadata": {
    "tags": []
   },
   "outputs": [],
   "source": [
    "# Choose which model you want to intepret\n",
    "name = \"leaf\"\n",
    "model = leaf_model\n",
    "sdata = sdata_leaf\n",
    "model, sdata"
   ]
  },
  {
   "attachments": {},
   "cell_type": "markdown",
   "metadata": {
    "tags": []
   },
   "source": [
    "# Feature attribution"
   ]
  },
  {
   "cell_type": "code",
   "execution_count": null,
   "metadata": {
    "tags": []
   },
   "outputs": [],
   "source": [
    "# Run three saliency feature attribution methods across all sequences\n",
    "saliency_methods = [\"InputXGradient\", \"DeepLift\", \"GradientSHAP\"]\n",
    "for method in saliency_methods:\n",
    "    eu.interpret.feature_attribution_sdata(\n",
    "        model=model,\n",
    "        sdata=sdata,\n",
    "        method=method\n",
    "    )"
   ]
  },
  {
   "cell_type": "code",
   "execution_count": null,
   "metadata": {
    "tags": []
   },
   "outputs": [],
   "source": [
    "# Grab the top10 in terms of predictions to plot tracks for\n",
    "top5 = sdata[\"ssHybrid_trial_5_enrichment_predictions\"].sort_values(ascending=False).iloc[:5].index\n",
    "\n",
    "eu.pl.multiseq_track(\n",
    "    sdata,\n",
    "    seq_ids=top5,\n",
    "    uns_keys = \"DeepLift_imps\",\n",
    "    ylabels=\"DeepLift\",\n",
    "    height=3,\n",
    "    width=70,\n",
    "    save=os.path.join(eu.settings.figure_dir, f\"{name}_best_model_feature_attr.pdf\")\n",
    ")"
   ]
  },
  {
   "attachments": {},
   "cell_type": "markdown",
   "metadata": {
    "tags": []
   },
   "source": [
    "# Filter viz"
   ]
  },
  {
   "cell_type": "code",
   "execution_count": null,
   "metadata": {
    "tags": []
   },
   "outputs": [],
   "source": [
    "# Generate pfms from filters using method described in Minnoye et al. 2020\n",
    "eu.interpret.generate_pfms_sdata(\n",
    "    model=model, \n",
    "    sdata=sdata,\n",
    "    method=\"Minnoye20\"\n",
    ")"
   ]
  },
  {
   "cell_type": "code",
   "execution_count": null,
   "metadata": {},
   "outputs": [],
   "source": [
    "# Visualize a filter of choice\n",
    "eu.pl.filter_viz(\n",
    "    sdata,\n",
    "    filter_id=1\n",
    ")"
   ]
  },
  {
   "cell_type": "code",
   "execution_count": null,
   "metadata": {},
   "outputs": [],
   "source": [
    "# Visualize multiple filters at once and save\n",
    "for i in range(8):\n",
    "    start_filter = i*32\n",
    "    end_filter = (i*32) + 32\n",
    "    print(f\"Plotting and saving filters {start_filter+1}-{end_filter}\")\n",
    "    eu.pl.multifilter_viz(\n",
    "        sdata,\n",
    "        filter_ids=list(sdata.uns[\"pfms\"].keys())[start_filter:end_filter],\n",
    "        num_rows=8,\n",
    "        num_cols=4,\n",
    "        titles=[f\"filter {i}\" for i in range(start_filter, end_filter)],\n",
    "        save=os.path.join(eu.settings.figure_dir, f\"{name}_best_model_filters{start_filter+1}-{end_filter}_viz.pdf\")\n",
    "    )"
   ]
  },
  {
   "cell_type": "code",
   "execution_count": null,
   "metadata": {},
   "outputs": [],
   "source": [
    "# Save all the filter pfms from above as meme format for submission to TomTom\n",
    "eu.dl.motif.filters_to_meme_sdata(\n",
    "    sdata,\n",
    "    filter_ids=list(sdata.uns[\"pfms\"].keys()),\n",
    "    output_dir=os.path.join(eu.settings.output_dir),\n",
    "    file_name=f\"{name}_best_model_filters.meme\"\n",
    ")"
   ]
  },
  {
   "cell_type": "code",
   "execution_count": null,
   "metadata": {},
   "outputs": [],
   "source": [
    "sdata.write_h5sd(os.path.join(eu.settings.output_dir, f\"{name}_test_predictions_and_interpretations.h5sd\"))"
   ]
  },
  {
   "attachments": {},
   "cell_type": "markdown",
   "metadata": {},
   "source": [
    "## In silico evolution "
   ]
  },
  {
   "cell_type": "code",
   "execution_count": null,
   "metadata": {
    "tags": []
   },
   "outputs": [],
   "source": [
    "# Load in sequences that were evolved in the published paper\n",
    "sdata_evolve = eu.dl.read_csv(os.path.join(eu.settings.dataset_dir, \"promoters_for_evolution.tsv\"), seq_col=\"sequence\", name_col=\"name\")\n",
    "eu.pp.ohe_seqs_sdata(sdata_evolve)\n",
    "sdata_evolve"
   ]
  },
  {
   "cell_type": "code",
   "execution_count": null,
   "metadata": {
    "tags": []
   },
   "outputs": [],
   "source": [
    "# Evolve them using the best model across 10 rounds\n",
    "eu.interpret.evolve_seqs_sdata(\n",
    "    model,\n",
    "    sdata_evolve,\n",
    "    rounds=10\n",
    ")"
   ]
  },
  {
   "cell_type": "code",
   "execution_count": null,
   "metadata": {},
   "outputs": [],
   "source": [
    "# Plot the distribution of scores at different rounds of evolution\n",
    "eu.pl.violinplot(\n",
    "    sdata_evolve,\n",
    "    groupby=[\"original_score\", \"evolved_3_score\", \"evolved_5_score\", \"evolved_10_score\"],\n",
    "    xlabel=\"Evolution Round\",\n",
    "    ylabel=\"Score\",\n",
    "    color = \"lightblue\",\n",
    "    save=os.path.join(eu.settings.figure_dir, f\"{name}_best_model_evolution_summary.pdf\")\n",
    ")"
   ]
  },
  {
   "cell_type": "code",
   "execution_count": null,
   "metadata": {},
   "outputs": [],
   "source": [
    "sdata_evolve.write_h5sd(os.path.join(eu.settings.output_dir, f\"{name}_evolved_sequences.h5sd\")) "
   ]
  },
  {
   "attachments": {},
   "cell_type": "markdown",
   "metadata": {},
   "source": [
    "# In silico feature implant"
   ]
  },
  {
   "cell_type": "code",
   "execution_count": null,
   "metadata": {
    "tags": []
   },
   "outputs": [],
   "source": [
    "sdata_evolve = eu.dl.read_h5sd(os.path.join(eu.settings.output_dir, name, f\"{name}_evolved_sequences.h5sd\"))"
   ]
  },
  {
   "cell_type": "code",
   "execution_count": null,
   "metadata": {
    "tags": []
   },
   "outputs": [],
   "source": [
    "# Prep feature from meme file\n",
    "meme = eu.dl.motif.MinimalMEME(path=os.path.join(eu.settings.dataset_dir, \"CPEs.meme\"))\n",
    "motif = meme.motifs[\"TATA\"]\n",
    "feat_name = motif.name\n",
    "pfm = motif.pfm\n",
    "zero_pfm = np.zeros(pfm.shape)\n",
    "rand_pfm = eu.pp.ohe_seq(eu.utils.random_seq(pfm.shape[0])).transpose()\n",
    "consensus = motif.consensus\n",
    "shuffled_pfm = eu.pp.ohe_seq(eu.pp.dinuc_shuffle_seq(consensus)).transpose()\n",
    "feat_name, pfm, consensus"
   ]
  },
  {
   "cell_type": "code",
   "execution_count": null,
   "metadata": {
    "tags": []
   },
   "outputs": [],
   "source": [
    "# Slide the TATA motif across the sequences\n",
    "eu.interpret.feature_implant_seqs_sdata(\n",
    "    model=model, \n",
    "    sdata=sdata_evolve, \n",
    "    feature=pfm, \n",
    "    seqsm_key=f\"slide_{feat_name}\",\n",
    "    encoding=\"onehot\", \n",
    "    onehot=True\n",
    ")\n",
    "\n",
    "# Slide a random seq across the sequences\n",
    "eu.interpret.feature_implant_seqs_sdata(\n",
    "    model=model, \n",
    "    sdata=sdata_evolve, \n",
    "    feature=rand_pfm,\n",
    "    seqsm_key=f\"slide_random\",\n",
    "    encoding=\"onehot\", \n",
    "    onehot=True\n",
    ")\n",
    "\n",
    "# Slide a zero ohe seq across the sequences \n",
    "eu.interpret.feature_implant_seqs_sdata(\n",
    "    model=model, \n",
    "    sdata=sdata_evolve, \n",
    "    feature=zero_pfm,\n",
    "    seqsm_key=f\"slide_zero\",\n",
    "    encoding=\"onehot\", \n",
    "    onehot=True\n",
    ")\n",
    "\n",
    "# Slide a TATA shuffled ohe seq across the sequences \n",
    "eu.interpret.feature_implant_seqs_sdata(\n",
    "    model=model, \n",
    "    sdata=sdata_evolve, \n",
    "    feature=shuffled_pfm,\n",
    "    seqsm_key=f\"slide_shuffled\",\n",
    "    encoding=\"onehot\", \n",
    "    onehot=True\n",
    ")"
   ]
  },
  {
   "cell_type": "code",
   "execution_count": null,
   "metadata": {
    "tags": []
   },
   "outputs": [],
   "source": [
    "# Check the average percentage increase across the sequences and positions\n",
    "mean_original = sdata_evolve[\"original_score\"].mean()\n",
    "avg_increase = np.mean(np.subtract(sdata_evolve.seqsm[\"slide_TATA\"], np.expand_dims(sdata_evolve[\"original_score\"], axis=1)), axis=1)\n",
    "(avg_increase.mean()/mean_original).mean()*100"
   ]
  },
  {
   "cell_type": "code",
   "execution_count": null,
   "metadata": {},
   "outputs": [],
   "source": [
    "# Generate a line plot\n",
    "eu.pl.feature_implant_plot(\n",
    "    sdata_evolve,\n",
    "    seqsm_keys=[f\"slide_{feat_name}\", \"slide_shuffled\", \"slide_zero\", \"slide_random\"],\n",
    "    save=os.path.join(eu.settings.figure_dir, f\"{name}_best_model_feature_implant_TATA.pdf\")\n",
    ")"
   ]
  },
  {
   "cell_type": "code",
   "execution_count": null,
   "metadata": {},
   "outputs": [],
   "source": [
    "sdata_evolve.write_h5sd(os.path.join(eu.settings.output_dir, f\"{name}_evolved_sequences_with_TATA_implant.h5sd\")) "
   ]
  },
  {
   "attachments": {},
   "cell_type": "markdown",
   "metadata": {},
   "source": [
    "---"
   ]
  }
 ],
 "metadata": {
  "kernelspec": {
   "display_name": "Python 3.9 ml4gland",
   "language": "python",
   "name": "ml4gland"
  },
  "language_info": {
   "codemirror_mode": {
    "name": "ipython",
    "version": 3
   },
   "file_extension": ".py",
   "mimetype": "text/x-python",
   "name": "python",
   "nbconvert_exporter": "python",
   "pygments_lexer": "ipython3",
   "version": "3.9.16"
  },
  "vscode": {
   "interpreter": {
    "hash": "949777d72b0d2535278d3dc13498b2535136f6dfe0678499012e853ee9abcab1"
   }
  }
 },
 "nbformat": 4,
 "nbformat_minor": 4
}
