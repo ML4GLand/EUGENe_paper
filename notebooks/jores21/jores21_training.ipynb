{
 "cells": [
  {
   "attachments": {},
   "cell_type": "markdown",
   "metadata": {},
   "source": [
    "# Jores et al 2021 Training \n",
    "**Authorship:**\n",
    "Adam Klie, *05/18/2023*\n",
    "***\n",
    "**Description:**\n",
    "Notebook to perform simple training of models on the Jores et al (2021) dataset. You can also use the `jores21_training.py` script as well if you want to run it that way.\n",
    "***"
   ]
  },
  {
   "cell_type": "code",
   "execution_count": null,
   "metadata": {
    "tags": []
   },
   "outputs": [],
   "source": [
    "if 'autoreload' not in get_ipython().extension_manager.loaded:\n",
    "    %load_ext autoreload\n",
    "%autoreload 2"
   ]
  },
  {
   "cell_type": "code",
   "execution_count": 1,
   "metadata": {},
   "outputs": [],
   "source": [
    "import os\n",
    "import logging\n",
    "import torch\n",
    "from copy import deepcopy \n",
    "import numpy as np\n",
    "import pandas as pd\n",
    "import seqdata as sd\n",
    "import motifdata as md\n",
    "from eugene import settings"
   ]
  },
  {
   "cell_type": "code",
   "execution_count": 2,
   "metadata": {
    "tags": []
   },
   "outputs": [],
   "source": [
    "settings.dataset_dir = \"/cellar/users/aklie/data/eugene/jores21\"\n",
    "settings.output_dir = \"/cellar/users/aklie/projects/ML4GLand/EUGENe_paper/output/revision/jores21\"\n",
    "settings.logging_dir = \"/cellar/users/aklie/projects/ML4GLand/EUGENe_paper/logs/revision/jores21\"\n",
    "settings.config_dir = \"/cellar/users/aklie/projects/ML4GLand/EUGENe_paper/configs/jores21\"\n",
    "settings.verbosity = logging.ERROR"
   ]
  },
  {
   "attachments": {},
   "cell_type": "markdown",
   "metadata": {
    "tags": []
   },
   "source": [
    "# Load in the `leaf`, `proto` and `combined` `SeqData`s "
   ]
  },
  {
   "cell_type": "code",
   "execution_count": 3,
   "metadata": {
    "tags": []
   },
   "outputs": [
    {
     "data": {
      "text/plain": [
       "(SeqData object with = 65004 seqs\n",
       " seqs = (65004,)\n",
       " names = (65004,)\n",
       " rev_seqs = None\n",
       " ohe_seqs = (65004, 4, 170)\n",
       " ohe_rev_seqs = None\n",
       " seqs_annot: 'GC', 'barcodes', 'batch', 'chromosome', 'end', 'enrichment', 'gene', 'mutations', 'set', 'sp', 'start', 'strand', 'train_val', 'type'\n",
       " pos_annot: None\n",
       " seqsm: None\n",
       " uns: None,\n",
       " SeqData object with = 68213 seqs\n",
       " seqs = (68213,)\n",
       " names = (68213,)\n",
       " rev_seqs = None\n",
       " ohe_seqs = (68213, 4, 170)\n",
       " ohe_rev_seqs = None\n",
       " seqs_annot: 'GC', 'barcodes', 'batch', 'chromosome', 'end', 'enrichment', 'gene', 'mutations', 'set', 'sp', 'start', 'strand', 'train_val', 'type'\n",
       " pos_annot: None\n",
       " seqsm: None\n",
       " uns: None,\n",
       " SeqData object with = 133217 seqs\n",
       " seqs = (133217,)\n",
       " names = (133217,)\n",
       " rev_seqs = None\n",
       " ohe_seqs = (133217, 4, 170)\n",
       " ohe_rev_seqs = None\n",
       " seqs_annot: 'GC', 'barcodes', 'batch', 'chromosome', 'end', 'enrichment', 'gene', 'mutations', 'set', 'sp', 'start', 'strand', 'train_val', 'type'\n",
       " pos_annot: None\n",
       " seqsm: None\n",
       " uns: None)"
      ]
     },
     "execution_count": 3,
     "metadata": {},
     "output_type": "execute_result"
    }
   ],
   "source": [
    "# Load in the preprocessed training data\n",
    "sdata_leaf = sd.read(os.path.join(settings.dataset_dir, \"leaf_processed_train.h5sd\"))\n",
    "sdata_proto = sd.read(os.path.join(settings.dataset_dir, \"proto_processed_train.h5sd\"))\n",
    "sdata_combined = sd.concat([sdata_leaf, sdata_proto], keys=[\"leaf\", \"proto\"])\n",
    "sdata_leaf, sdata_proto, sdata_combined"
   ]
  },
  {
   "cell_type": "code",
   "execution_count": 4,
   "metadata": {},
   "outputs": [
    {
     "data": {
      "text/plain": [
       "MotifSet with 78 motifs"
      ]
     },
     "execution_count": 4,
     "metadata": {},
     "output_type": "execute_result"
    }
   ],
   "source": [
    "# Grab motifs\n",
    "core_promoter_elements = md.read_meme(os.path.join(settings.dataset_dir, \"CPEs.meme\"))\n",
    "tf_clusters = md.read_meme(os.path.join(settings.dataset_dir, \"TF-clusters.meme\"))\n",
    "\n",
    "# Smush them together, make function in the future\n",
    "all_motifs = deepcopy(core_promoter_elements)\n",
    "for motif in tf_clusters:\n",
    "    all_motifs.add_motif(motif)\n",
    "all_motifs"
   ]
  },
  {
   "cell_type": "code",
   "execution_count": 5,
   "metadata": {},
   "outputs": [],
   "source": [
    "import yaml\n",
    "import importlib"
   ]
  },
  {
   "cell_type": "code",
   "execution_count": 6,
   "metadata": {},
   "outputs": [
    {
     "data": {
      "text/plain": [
       "<module 'eugene.models' from '/cellar/users/aklie/projects/ML4GLand/EUGENe/eugene/models/__init__.py'>"
      ]
     },
     "execution_count": 6,
     "metadata": {},
     "output_type": "execute_result"
    }
   ],
   "source": [
    "from eugene import models\n",
    "importlib.reload(models)"
   ]
  },
  {
   "cell_type": "code",
   "execution_count": 7,
   "metadata": {},
   "outputs": [],
   "source": [
    "def load_config(config_path):\n",
    "    with open(config_path, \"r\") as f:\n",
    "        config = yaml.load(f, Loader=yaml.FullLoader)\n",
    "    module_name = config.pop(\"module\")\n",
    "    model_params = config.pop(\"model\")\n",
    "    arch_name = model_params[\"arch_name\"]\n",
    "    arch = model_params[\"arch\"]\n",
    "    model_type = getattr(importlib.import_module(\"eugene.models\"), arch_name)\n",
    "    model = model_type(**arch)\n",
    "    module_type = getattr(importlib.import_module(\"eugene.models\"), module_name)\n",
    "    module = module_type(model, **config)\n",
    "    return module"
   ]
  },
  {
   "cell_type": "code",
   "execution_count": 24,
   "metadata": {},
   "outputs": [],
   "source": [
    "model = load_config(\"/cellar/users/aklie/projects/ML4GLand/EUGENe_paper/configs/jores21/cnn.yaml\")"
   ]
  },
  {
   "cell_type": "code",
   "execution_count": 25,
   "metadata": {},
   "outputs": [],
   "source": [
    "models.init_motif_weights(\n",
    "    model,\n",
    "    layer_name=\"arch.conv1d_tower.layers.0\",\n",
    "    motifs=all_motifs\n",
    ")"
   ]
  },
  {
   "cell_type": "code",
   "execution_count": 26,
   "metadata": {},
   "outputs": [
    {
     "data": {
      "text/plain": [
       "tensor([[0.5100, 1.5060, 0.4780, 1.5060],\n",
       "        [0.6300, 1.5940, 0.7960, 0.9820],\n",
       "        [0.9960, 1.2120, 0.7880, 1.0040],\n",
       "        [0.4940, 2.6200, 0.3020, 0.5820],\n",
       "        [0.0400, 0.0080, 0.0080, 3.9440],\n",
       "        [3.8720, 0.0000, 0.0000, 0.1280],\n",
       "        [0.0080, 0.0560, 0.0240, 3.9120],\n",
       "        [3.9680, 0.0000, 0.0080, 0.0240]], grad_fn=<PermuteBackward0>)"
      ]
     },
     "execution_count": 26,
     "metadata": {},
     "output_type": "execute_result"
    }
   ],
   "source": [
    "# Double check that layer\n",
    "from eugene.models.base._utils import get_layer\n",
    "get_layer(model, 'arch.conv1d_tower.layers.0').weight[0].T"
   ]
  },
  {
   "cell_type": "code",
   "execution_count": 27,
   "metadata": {},
   "outputs": [
    {
     "data": {
      "text/plain": [
       "170"
      ]
     },
     "execution_count": 27,
     "metadata": {},
     "output_type": "execute_result"
    }
   ],
   "source": [
    "model.input_len"
   ]
  },
  {
   "cell_type": "code",
   "execution_count": 28,
   "metadata": {},
   "outputs": [
    {
     "data": {
      "text/plain": [
       "(128, 4, 170)"
      ]
     },
     "execution_count": 28,
     "metadata": {},
     "output_type": "execute_result"
    }
   ],
   "source": [
    "sdata_leaf.ohe_seqs[:128].shape"
   ]
  },
  {
   "cell_type": "code",
   "execution_count": 29,
   "metadata": {},
   "outputs": [
    {
     "data": {
      "application/vnd.jupyter.widget-view+json": {
       "model_id": "b2b0e12b444b47dfa65bc4b4b32d8ce7",
       "version_major": 2,
       "version_minor": 0
      },
      "text/plain": [
       "HBox(children=(FloatProgress(value=0.0, description='Predicting on batches', max=1.0, style=ProgressStyle(desc…"
      ]
     },
     "metadata": {},
     "output_type": "display_data"
    },
    {
     "name": "stdout",
     "output_type": "stream",
     "text": [
      "\n"
     ]
    },
    {
     "data": {
      "text/plain": [
       "tensor([[-0.2599],\n",
       "        [-0.0426],\n",
       "        [ 0.0548],\n",
       "        [-0.2019],\n",
       "        [-0.1531],\n",
       "        [-0.1705],\n",
       "        [-0.1595],\n",
       "        [-0.0726],\n",
       "        [-0.0935],\n",
       "        [-0.2503],\n",
       "        [-0.0025],\n",
       "        [-0.1523],\n",
       "        [-0.1488],\n",
       "        [-0.1104],\n",
       "        [-0.2665],\n",
       "        [-0.1787],\n",
       "        [-0.0803],\n",
       "        [-0.0677],\n",
       "        [-0.1033],\n",
       "        [-0.0659],\n",
       "        [ 0.0411],\n",
       "        [-0.2203],\n",
       "        [-0.0598],\n",
       "        [-0.2831],\n",
       "        [-0.0691],\n",
       "        [-0.1327],\n",
       "        [ 0.0020],\n",
       "        [-0.1014],\n",
       "        [-0.2648],\n",
       "        [-0.1480],\n",
       "        [-0.0881],\n",
       "        [-0.1245],\n",
       "        [-0.0588],\n",
       "        [-0.2496],\n",
       "        [-0.0493],\n",
       "        [-0.2572],\n",
       "        [-0.2992],\n",
       "        [-0.1821],\n",
       "        [-0.1141],\n",
       "        [-0.1116],\n",
       "        [-0.1799],\n",
       "        [-0.2547],\n",
       "        [-0.1192],\n",
       "        [ 0.1012],\n",
       "        [-0.0022],\n",
       "        [-0.0492],\n",
       "        [-0.0300],\n",
       "        [-0.2739],\n",
       "        [ 0.1164],\n",
       "        [-0.1017],\n",
       "        [-0.0298],\n",
       "        [ 0.0466],\n",
       "        [ 0.0558],\n",
       "        [-0.0663],\n",
       "        [-0.1395],\n",
       "        [-0.1411],\n",
       "        [-0.2116],\n",
       "        [-0.1605],\n",
       "        [ 0.0358],\n",
       "        [-0.0216],\n",
       "        [-0.1282],\n",
       "        [-0.1150],\n",
       "        [ 0.1282],\n",
       "        [-0.0913],\n",
       "        [-0.0082],\n",
       "        [-0.1149],\n",
       "        [-0.2978],\n",
       "        [-0.2996],\n",
       "        [ 0.0515],\n",
       "        [-0.0506],\n",
       "        [-0.2043],\n",
       "        [ 0.0335],\n",
       "        [-0.0525],\n",
       "        [-0.0979],\n",
       "        [-0.1498],\n",
       "        [-0.1239],\n",
       "        [-0.1688],\n",
       "        [-0.0195],\n",
       "        [-0.0124],\n",
       "        [-0.2212],\n",
       "        [-0.1329],\n",
       "        [-0.0970],\n",
       "        [-0.2121],\n",
       "        [ 0.0414],\n",
       "        [-0.2720],\n",
       "        [-0.2381],\n",
       "        [-0.1789],\n",
       "        [-0.1849],\n",
       "        [-0.1484],\n",
       "        [-0.1555],\n",
       "        [-0.1992],\n",
       "        [ 0.0369],\n",
       "        [-0.0786],\n",
       "        [ 0.0745],\n",
       "        [-0.1936],\n",
       "        [-0.2137],\n",
       "        [-0.0721],\n",
       "        [-0.0787],\n",
       "        [ 0.0049],\n",
       "        [-0.0729],\n",
       "        [-0.1676],\n",
       "        [-0.0402],\n",
       "        [-0.0618],\n",
       "        [-0.1271],\n",
       "        [-0.1503],\n",
       "        [-0.1664],\n",
       "        [-0.2019],\n",
       "        [-0.2086],\n",
       "        [-0.1370],\n",
       "        [-0.0759],\n",
       "        [-0.2419],\n",
       "        [-0.1489],\n",
       "        [-0.1134],\n",
       "        [-0.2050],\n",
       "        [-0.0397],\n",
       "        [-0.2221],\n",
       "        [-0.1993],\n",
       "        [-0.3437],\n",
       "        [-0.0105],\n",
       "        [-0.0192],\n",
       "        [-0.1094],\n",
       "        [-0.1007],\n",
       "        [-0.1178],\n",
       "        [-0.1042],\n",
       "        [-0.0738],\n",
       "        [-0.1279],\n",
       "        [-0.1985],\n",
       "        [-0.0719]])"
      ]
     },
     "execution_count": 29,
     "metadata": {},
     "output_type": "execute_result"
    }
   ],
   "source": [
    "model.predict(sdata_leaf.ohe_seqs[:128])"
   ]
  },
  {
   "cell_type": "code",
   "execution_count": 30,
   "metadata": {},
   "outputs": [],
   "source": [
    "from eugene import dataload as dl"
   ]
  },
  {
   "cell_type": "code",
   "execution_count": 31,
   "metadata": {},
   "outputs": [],
   "source": [
    "train_idx = np.where(sdata_leaf[\"train_val\"] == True)[0]\n",
    "val_idx = np.where(sdata_leaf[\"train_val\"] == False)[0]\n",
    "train_sdataset = dl.SequenceDataset(\n",
    "    seqs=sdata_leaf.ohe_seqs[train_idx],\n",
    "    targets=sdata_leaf[\"enrichment\"].values[train_idx]\n",
    ")\n",
    "val_sdataset = dl.SequenceDataset(\n",
    "    seqs=sdata_leaf.ohe_seqs[val_idx],\n",
    "    targets=sdata_leaf[\"enrichment\"].values[val_idx]\n",
    ")"
   ]
  },
  {
   "cell_type": "code",
   "execution_count": 33,
   "metadata": {},
   "outputs": [],
   "source": [
    "train_sdataloader = train_sdataset.to_dataloader(batch_size=128, shuffle=True, num_workers=0, drop_last=True)\n",
    "val_sdataloader = val_sdataset.to_dataloader(batch_size=128, shuffle=False, num_workers=0, drop_last=True)"
   ]
  },
  {
   "cell_type": "code",
   "execution_count": 34,
   "metadata": {},
   "outputs": [],
   "source": [
    "from eugene import train"
   ]
  },
  {
   "cell_type": "code",
   "execution_count": 35,
   "metadata": {},
   "outputs": [
    {
     "data": {
      "text/plain": [
       "PosixPath('/cellar/users/aklie/projects/ML4GLand/EUGENe_paper/logs/revision/jores21')"
      ]
     },
     "execution_count": 35,
     "metadata": {},
     "output_type": "execute_result"
    }
   ],
   "source": [
    "settings.logging_dir"
   ]
  },
  {
   "cell_type": "code",
   "execution_count": 36,
   "metadata": {},
   "outputs": [
    {
     "data": {
      "text/plain": [
       "\"arch\":              CNN(\n",
       "  (conv1d_tower): Conv1DTower(\n",
       "    (layers): Sequential(\n",
       "      (0): Conv1d(4, 256, kernel_size=(8,), stride=(1,), padding=valid)\n",
       "      (1): ELU(alpha=1.0)\n",
       "      (2): MaxPool1d(kernel_size=2, stride=1, padding=0, dilation=1, ceil_mode=False)\n",
       "      (3): Dropout(p=0.3, inplace=False)\n",
       "      (4): BatchNorm1d(256, eps=1e-05, momentum=0.1, affine=True, track_running_stats=True)\n",
       "      (5): Conv1d(256, 256, kernel_size=(3,), stride=(1,), padding=valid)\n",
       "      (6): ELU(alpha=1.0)\n",
       "      (7): MaxPool1d(kernel_size=1, stride=1, padding=0, dilation=1, ceil_mode=False)\n",
       "      (8): Dropout(p=0.3, inplace=False)\n",
       "      (9): BatchNorm1d(256, eps=1e-05, momentum=0.1, affine=True, track_running_stats=True)\n",
       "      (10): Conv1d(256, 256, kernel_size=(3,), stride=(1,), padding=valid)\n",
       "      (11): ELU(alpha=1.0)\n",
       "      (12): MaxPool1d(kernel_size=1, stride=1, padding=0, dilation=1, ceil_mode=False)\n",
       "      (13): Dropout(p=0.3, inplace=False)\n",
       "      (14): BatchNorm1d(256, eps=1e-05, momentum=0.1, affine=True, track_running_stats=True)\n",
       "    )\n",
       "  )\n",
       "  (dense_block): DenseBlock(\n",
       "    (layers): Sequential(\n",
       "      (0): Linear(in_features=40448, out_features=64, bias=True)\n",
       "      (1): ReLU()\n",
       "      (2): Dropout(p=0.3, inplace=False)\n",
       "      (3): BatchNorm1d(64, eps=1e-05, momentum=0.1, affine=True, track_running_stats=True)\n",
       "      (4): Linear(in_features=64, out_features=1, bias=True)\n",
       "    )\n",
       "  )\n",
       ")\n",
       "\"arch_name\":         None\n",
       "\"loss_fxn\":          mse\n",
       "\"metric\":            None\n",
       "\"metric_kwargs\":     None\n",
       "\"model_name\":        None\n",
       "\"optimizer\":         adam\n",
       "\"optimizer_kwargs\":  {}\n",
       "\"optimizer_lr\":      0.001\n",
       "\"save_hyperparams\":  True\n",
       "\"scheduler\":         reduce_lr_on_plateau\n",
       "\"scheduler_kwargs\":  {'patience': 2}\n",
       "\"scheduler_monitor\": val_loss_epoch\n",
       "\"seed\":              None\n",
       "\"task\":              regression"
      ]
     },
     "execution_count": 36,
     "metadata": {},
     "output_type": "execute_result"
    }
   ],
   "source": [
    "model.hparams"
   ]
  },
  {
   "cell_type": "code",
   "execution_count": 38,
   "metadata": {},
   "outputs": [
    {
     "name": "stderr",
     "output_type": "stream",
     "text": [
      "GPU available: True, used: True\n",
      "TPU available: False, using: 0 TPU cores\n",
      "IPU available: False, using: 0 IPUs\n",
      "LOCAL_RANK: 0 - CUDA_VISIBLE_DEVICES: [0]\n"
     ]
    },
    {
     "name": "stdout",
     "output_type": "stream",
     "text": [
      "No seed set\n"
     ]
    },
    {
     "name": "stderr",
     "output_type": "stream",
     "text": [
      "Set SLURM handle signals.\n",
      "\n",
      "  | Name         | Type    | Params\n",
      "-----------------------------------------\n",
      "0 | arch         | CNN     | 3.0 M \n",
      "1 | train_metric | R2Score | 0     \n",
      "2 | val_metric   | R2Score | 0     \n",
      "3 | test_metric  | R2Score | 0     \n",
      "-----------------------------------------\n",
      "3.0 M     Trainable params\n",
      "0         Non-trainable params\n",
      "3.0 M     Total params\n",
      "11.971    Total estimated model params size (MB)\n"
     ]
    },
    {
     "data": {
      "application/vnd.jupyter.widget-view+json": {
       "model_id": "e8d84f12183e4365b966593a9f4fc85c",
       "version_major": 2,
       "version_minor": 0
      },
      "text/plain": [
       "HBox(children=(FloatProgress(value=1.0, bar_style='info', description='Validation sanity check', layout=Layout…"
      ]
     },
     "metadata": {},
     "output_type": "display_data"
    },
    {
     "name": "stdout",
     "output_type": "stream",
     "text": [
      "\r"
     ]
    },
    {
     "data": {
      "application/vnd.jupyter.widget-view+json": {
       "model_id": "b33cf86d115f431fba66e166fc53d5e0",
       "version_major": 2,
       "version_minor": 0
      },
      "text/plain": [
       "HBox(children=(FloatProgress(value=1.0, bar_style='info', description='Training', layout=Layout(flex='2'), max…"
      ]
     },
     "metadata": {},
     "output_type": "display_data"
    },
    {
     "data": {
      "application/vnd.jupyter.widget-view+json": {
       "model_id": "65d6dbf9193740d5adcf36e0417c4878",
       "version_major": 2,
       "version_minor": 0
      },
      "text/plain": [
       "HBox(children=(FloatProgress(value=1.0, bar_style='info', description='Validating', layout=Layout(flex='2'), m…"
      ]
     },
     "metadata": {},
     "output_type": "display_data"
    },
    {
     "data": {
      "application/vnd.jupyter.widget-view+json": {
       "model_id": "a448ae3fd1d14f66b9431b771a44a377",
       "version_major": 2,
       "version_minor": 0
      },
      "text/plain": [
       "HBox(children=(FloatProgress(value=1.0, bar_style='info', description='Validating', layout=Layout(flex='2'), m…"
      ]
     },
     "metadata": {},
     "output_type": "display_data"
    },
    {
     "data": {
      "application/vnd.jupyter.widget-view+json": {
       "model_id": "36cb92e255354b7b9613bf3770f7aa6f",
       "version_major": 2,
       "version_minor": 0
      },
      "text/plain": [
       "HBox(children=(FloatProgress(value=1.0, bar_style='info', description='Validating', layout=Layout(flex='2'), m…"
      ]
     },
     "metadata": {},
     "output_type": "display_data"
    },
    {
     "data": {
      "application/vnd.jupyter.widget-view+json": {
       "model_id": "1cd39de245374eae802e54c49af81ace",
       "version_major": 2,
       "version_minor": 0
      },
      "text/plain": [
       "HBox(children=(FloatProgress(value=1.0, bar_style='info', description='Validating', layout=Layout(flex='2'), m…"
      ]
     },
     "metadata": {},
     "output_type": "display_data"
    },
    {
     "data": {
      "application/vnd.jupyter.widget-view+json": {
       "model_id": "f7cfe0136b0345f5b6bb59161009b236",
       "version_major": 2,
       "version_minor": 0
      },
      "text/plain": [
       "HBox(children=(FloatProgress(value=1.0, bar_style='info', description='Validating', layout=Layout(flex='2'), m…"
      ]
     },
     "metadata": {},
     "output_type": "display_data"
    },
    {
     "data": {
      "application/vnd.jupyter.widget-view+json": {
       "model_id": "afe60ced50dd4bdfbe07e7f5a7b14e56",
       "version_major": 2,
       "version_minor": 0
      },
      "text/plain": [
       "HBox(children=(FloatProgress(value=1.0, bar_style='info', description='Validating', layout=Layout(flex='2'), m…"
      ]
     },
     "metadata": {},
     "output_type": "display_data"
    },
    {
     "data": {
      "application/vnd.jupyter.widget-view+json": {
       "model_id": "d1ba560103c246ae8589eba2365ec497",
       "version_major": 2,
       "version_minor": 0
      },
      "text/plain": [
       "HBox(children=(FloatProgress(value=1.0, bar_style='info', description='Validating', layout=Layout(flex='2'), m…"
      ]
     },
     "metadata": {},
     "output_type": "display_data"
    },
    {
     "data": {
      "application/vnd.jupyter.widget-view+json": {
       "model_id": "93f0993888c943838e3c9020b68fbe59",
       "version_major": 2,
       "version_minor": 0
      },
      "text/plain": [
       "HBox(children=(FloatProgress(value=1.0, bar_style='info', description='Validating', layout=Layout(flex='2'), m…"
      ]
     },
     "metadata": {},
     "output_type": "display_data"
    },
    {
     "data": {
      "application/vnd.jupyter.widget-view+json": {
       "model_id": "5aeb416af8ea47cd94b6f6e2e503b9f5",
       "version_major": 2,
       "version_minor": 0
      },
      "text/plain": [
       "HBox(children=(FloatProgress(value=1.0, bar_style='info', description='Validating', layout=Layout(flex='2'), m…"
      ]
     },
     "metadata": {},
     "output_type": "display_data"
    },
    {
     "data": {
      "application/vnd.jupyter.widget-view+json": {
       "model_id": "199c8049484f4c7093f51b48dcfcee51",
       "version_major": 2,
       "version_minor": 0
      },
      "text/plain": [
       "HBox(children=(FloatProgress(value=1.0, bar_style='info', description='Validating', layout=Layout(flex='2'), m…"
      ]
     },
     "metadata": {},
     "output_type": "display_data"
    },
    {
     "data": {
      "application/vnd.jupyter.widget-view+json": {
       "model_id": "5383042a0c5a47e19612ea1a08642ec4",
       "version_major": 2,
       "version_minor": 0
      },
      "text/plain": [
       "HBox(children=(FloatProgress(value=1.0, bar_style='info', description='Validating', layout=Layout(flex='2'), m…"
      ]
     },
     "metadata": {},
     "output_type": "display_data"
    },
    {
     "data": {
      "application/vnd.jupyter.widget-view+json": {
       "model_id": "546d770c5b57494bbfaa0624ce5e3155",
       "version_major": 2,
       "version_minor": 0
      },
      "text/plain": [
       "HBox(children=(FloatProgress(value=1.0, bar_style='info', description='Validating', layout=Layout(flex='2'), m…"
      ]
     },
     "metadata": {},
     "output_type": "display_data"
    },
    {
     "data": {
      "application/vnd.jupyter.widget-view+json": {
       "model_id": "d0d9943299134bef8b8392025bb65a97",
       "version_major": 2,
       "version_minor": 0
      },
      "text/plain": [
       "HBox(children=(FloatProgress(value=1.0, bar_style='info', description='Validating', layout=Layout(flex='2'), m…"
      ]
     },
     "metadata": {},
     "output_type": "display_data"
    },
    {
     "data": {
      "application/vnd.jupyter.widget-view+json": {
       "model_id": "287c2bc70e9e433da2224b4de7ae362c",
       "version_major": 2,
       "version_minor": 0
      },
      "text/plain": [
       "HBox(children=(FloatProgress(value=1.0, bar_style='info', description='Validating', layout=Layout(flex='2'), m…"
      ]
     },
     "metadata": {},
     "output_type": "display_data"
    },
    {
     "data": {
      "application/vnd.jupyter.widget-view+json": {
       "model_id": "f073120f954a4dbba1c2458984a31682",
       "version_major": 2,
       "version_minor": 0
      },
      "text/plain": [
       "HBox(children=(FloatProgress(value=1.0, bar_style='info', description='Validating', layout=Layout(flex='2'), m…"
      ]
     },
     "metadata": {},
     "output_type": "display_data"
    },
    {
     "data": {
      "application/vnd.jupyter.widget-view+json": {
       "model_id": "3127c9166ff848f0864026e7efdf19f9",
       "version_major": 2,
       "version_minor": 0
      },
      "text/plain": [
       "HBox(children=(FloatProgress(value=1.0, bar_style='info', description='Validating', layout=Layout(flex='2'), m…"
      ]
     },
     "metadata": {},
     "output_type": "display_data"
    },
    {
     "name": "stdout",
     "output_type": "stream",
     "text": [
      "\n"
     ]
    }
   ],
   "source": [
    "train.fit(\n",
    "    model=model, \n",
    "    train_dataloader=train_sdataloader,\n",
    "    val_dataloader=val_sdataloader,\n",
    "    gpus=1, \n",
    "    epochs=50,\n",
    "    logger=\"tensorboard\",\n",
    "    log_dir=settings.logging_dir,\n",
    "    name=\"grace\",\n",
    "    version=\"leaf\"\n",
    ")"
   ]
  },
  {
   "cell_type": "code",
   "execution_count": null,
   "metadata": {},
   "outputs": [],
   "source": [
    "from eugene import settings"
   ]
  },
  {
   "cell_type": "code",
   "execution_count": 39,
   "metadata": {},
   "outputs": [],
   "source": [
    "pl.training_summary(os.path.join(settings.logging_dir, \"grace\", \"leaf\"))"
   ]
  },
  {
   "cell_type": "code",
   "execution_count": 23,
   "metadata": {},
   "outputs": [
    {
     "data": {
      "text/plain": [
       "<function torch.optim.optimizer.Optimizer.state_dict(self)>"
      ]
     },
     "execution_count": 23,
     "metadata": {},
     "output_type": "execute_result"
    }
   ],
   "source": [
    "model.optimizer.state_dict"
   ]
  },
  {
   "cell_type": "code",
   "execution_count": null,
   "metadata": {
    "tags": []
   },
   "outputs": [],
   "source": [
    "from pytorch_lightning import seed_everything\n",
    "\n",
    "# Function for instantiating a new randomly initialized model\n",
    "def prep_new_model(\n",
    "    seed,\n",
    "    arch,\n",
    "    config\n",
    "):\n",
    "    # Instantiate the model\n",
    "    model = eu.models.load_config(\n",
    "        arch=arch,\n",
    "        model_config=config\n",
    "    )\n",
    "    \n",
    "    seed_everything(seed)\n",
    "    \n",
    "    # Initialize the model prior to conv filter initialization\n",
    "    eu.models.init_weights(model)\n",
    "\n",
    "    # Initialize the conv filters\n",
    "    if arch == \"Jores21CNN\":\n",
    "        module_name, module_number, kernel_name, kernel_number = \"biconv\", None, \"kernels\", 0, \n",
    "    elif arch in [\"CNN\", \"Hybrid\"]:\n",
    "        module_name, module_number, kernel_name, kernel_number = \"convnet\", 0, None, None\n",
    "    eu.models.init_from_motifs(\n",
    "        model, \n",
    "        all_motifs, \n",
    "        module_name=module_name,\n",
    "        module_number=module_number,\n",
    "        kernel_name=kernel_name,\n",
    "        kernel_number=kernel_number\n",
    "    )\n",
    "\n",
    "    # Return the model\n",
    "    return model "
   ]
  },
  {
   "cell_type": "code",
   "execution_count": null,
   "metadata": {
    "tags": []
   },
   "outputs": [],
   "source": [
    "# Instantiate a test model to make sure this is working properly\n",
    "test_model = prep_new_model(0, \"Jores21CNN\", os.path.join(eu.settings.config_dir, \"Jores21CNN.yaml\"))"
   ]
  },
  {
   "attachments": {},
   "cell_type": "markdown",
   "metadata": {
    "tags": []
   },
   "source": [
    "## Train a prototype model "
   ]
  },
  {
   "cell_type": "code",
   "execution_count": null,
   "metadata": {
    "tags": []
   },
   "outputs": [],
   "source": [
    "# Train 5 models with 5 different random initializations\n",
    "model_types = [\"CNN\", \"Hybrid\", \"Jores21CNN\"]\n",
    "model_names = [\"ssCNN\", \"ssHybrid\", \"Jores21CNN\"]\n",
    "trials = 1\n",
    "for model_name, model_type in zip(model_names, model_types):\n",
    "    for trial in range(1, trials+1):\n",
    "        print(f\"{model_name} trial {trial}\")\n",
    "\n",
    "        # Initialize the model\n",
    "        leaf_model = prep_new_model(\n",
    "            arch=model_type, \n",
    "            config=os.path.join(eu.settings.config_dir, f\"{model_name}.yaml\"),\n",
    "            seed=trial\n",
    "        )\n",
    "\n",
    "        # Train the model\n",
    "        eu.train.fit(\n",
    "            model=leaf_model, \n",
    "            sdata=sdata_leaf, \n",
    "            gpus=1, \n",
    "            target_keys=\"enrichment\",\n",
    "            train_key=\"train_val\",\n",
    "            epochs=1,\n",
    "            batch_size=128,\n",
    "            num_workers=0,\n",
    "            name=model_name,\n",
    "            seed=trial,\n",
    "            version=f\"leaf_trial_{trial}\",\n",
    "            weights_summary=None,\n",
    "            verbosity=logging.ERROR\n",
    "        )\n",
    "\n",
    "        # Get predictions on the training data\n",
    "        eu.evaluate.train_val_predictions(\n",
    "            leaf_model,\n",
    "            sdata=sdata_leaf, \n",
    "            target_keys=\"enrichment\",\n",
    "            train_key=\"train_val\",\n",
    "            name=model_name,\n",
    "            version=f\"leaf_trial_{trial}\",\n",
    "            prefix=f\"{model_name}_trial_{trial}_\"\n",
    "        )\n",
    "\n",
    "        # Make room for the next model \n",
    "        del leaf_model\n",
    "\n",
    "# Save train and validation predictions\n",
    "sdata_leaf.write_h5sd(os.path.join(eu.settings.output_dir, \"leaf_train_predictions.h5sd\"))"
   ]
  },
  {
   "attachments": {},
   "cell_type": "markdown",
   "metadata": {
    "tags": []
   },
   "source": [
    "# Train proto models"
   ]
  },
  {
   "cell_type": "code",
   "execution_count": null,
   "metadata": {},
   "outputs": [],
   "source": [
    "# Train 5 models with 5 different random initializations\n",
    "model_types = [\"CNN\", \"Hybrid\", \"Jores21CNN\"]\n",
    "model_names = [\"ssCNN\", \"ssHybrid\", \"Jores21CNN\"]\n",
    "trials = 5\n",
    "for model_name, model_type in zip(model_names, model_types):\n",
    "    for trial in range(1, trials+1):\n",
    "        print(f\"{model_name} trial {trial}\")\n",
    "\n",
    "        # Initialize the model\n",
    "        proto_model = prep_new_model(\n",
    "            arch=model_type, \n",
    "            config=os.path.join(eu.settings.config_dir, f\"{model_name}.yaml\"),\n",
    "            seed=trial\n",
    "        )\n",
    "        \n",
    "        # Train the model\n",
    "        eu.train.fit(\n",
    "            model=proto_model, \n",
    "            sdata=sdata_proto, \n",
    "            gpus=1, \n",
    "            target_keys=\"enrichment\",\n",
    "            train_key=\"train_val\",\n",
    "            epochs=25,\n",
    "            batch_size=128,\n",
    "            num_workers=4,\n",
    "            name=model_name,\n",
    "            seed=trial,\n",
    "            version=f\"proto_trial_{trial}\",\n",
    "            verbosity=logging.ERROR,\n",
    "            weights_summary=None\n",
    "        )\n",
    "\n",
    "        # Get predictions on the training data\n",
    "        eu.evaluate.train_val_predictions(\n",
    "            proto_model,\n",
    "            sdata=sdata_proto, \n",
    "            target=\"enrichment\",\n",
    "            train_key=\"train_val\",\n",
    "            name=model_name,\n",
    "            version=f\"proto_trial_{trial}\",\n",
    "            prefix=f\"{model_name}_trial_{trial}_\"\n",
    "        )\n",
    "\n",
    "        # Make room for the next model\n",
    "        del proto_model\n",
    "\n",
    "# Save train and validation predictions        \n",
    "sdata_proto.write_h5sd(os.path.join(eu.settings.output_dir, \"proto_train_predictions.h5sd\"))"
   ]
  },
  {
   "attachments": {},
   "cell_type": "markdown",
   "metadata": {
    "tags": []
   },
   "source": [
    "# Train combined models"
   ]
  },
  {
   "cell_type": "code",
   "execution_count": null,
   "metadata": {
    "tags": []
   },
   "outputs": [],
   "source": [
    "# Train 5 models with 5 different random initializations\n",
    "model_types = [\"CNN\", \"Hybrid\", \"Jores21CNN\"]\n",
    "model_names = [\"ssCNN\", \"ssHybrid\", \"Jores21CNN\"]\n",
    "trials = 5\n",
    "for model_name, model_type in zip(model_names, model_types):\n",
    "    for trial in range(1, trials+1):\n",
    "        print(f\"{model_name} trial {trial}\")\n",
    "\n",
    "        # Initialize the model\n",
    "        combined_model = prep_new_model(\n",
    "            arch=model_type, \n",
    "            config=os.path.join(eu.settings.config_dir, f\"{model_name}.yaml\"),\n",
    "            seed=trial\n",
    "        )\n",
    "\n",
    "        # Train the model\n",
    "        eu.train.fit(\n",
    "            model=combined_model, \n",
    "            sdata=sdata_combined, \n",
    "            gpus=1, \n",
    "            target_keys=\"enrichment\",\n",
    "            train_key=\"train_val\",\n",
    "            epochs=25,\n",
    "            batch_size=128,\n",
    "            num_workers=4,\n",
    "            name=model_name,\n",
    "            seed=trial,\n",
    "            version=f\"combined_trial_{trial}\",\n",
    "            verbosity=logging.ERROR,\n",
    "            weights_summary=None\n",
    "        )\n",
    "\n",
    "        # Get predictions on the training data\n",
    "        eu.evaluate.train_val_predictions(\n",
    "            combined_model,\n",
    "            sdata=sdata_combined, \n",
    "            target=\"enrichment\",\n",
    "            train_key=\"train_val\",\n",
    "            name=model_name,\n",
    "            version=f\"combined_trial_{trial}\",\n",
    "            prefix=f\"{model_name}_trial_{trial}_\"\n",
    "        )\n",
    "\n",
    "        # Make room for the next model\n",
    "        del combined_model\n",
    "\n",
    "# Save train and validation predictions\n",
    "sdata_combined.write_h5sd(os.path.join(eu.settings.output_dir, \"combined_train_predictions.h5sd\"))"
   ]
  },
  {
   "attachments": {},
   "cell_type": "markdown",
   "metadata": {},
   "source": [
    "---"
   ]
  }
 ],
 "metadata": {
  "kernelspec": {
   "display_name": "Python 3.7 eugene_dev",
   "language": "python",
   "name": "eugene_dev"
  },
  "language_info": {
   "codemirror_mode": {
    "name": "ipython",
    "version": 3
   },
   "file_extension": ".py",
   "mimetype": "text/x-python",
   "name": "python",
   "nbconvert_exporter": "python",
   "pygments_lexer": "ipython3",
   "version": "3.7.12"
  },
  "vscode": {
   "interpreter": {
    "hash": "949777d72b0d2535278d3dc13498b2535136f6dfe0678499012e853ee9abcab1"
   }
  }
 },
 "nbformat": 4,
 "nbformat_minor": 4
}
