{
 "cells": [
  {
   "attachments": {},
   "cell_type": "markdown",
   "metadata": {},
   "source": [
    "# Jores et al 2021 Training \n",
    "**Authorship:**\n",
    "Adam Klie, *05/18/2023*\n",
    "***\n",
    "**Description:**\n",
    "Notebook to perform simple training of models on the Jores et al (2021) dataset. You can also use the `jores21_training.py` script as well if you want to run it that way.\n",
    "***"
   ]
  },
  {
   "cell_type": "code",
   "execution_count": 66,
   "metadata": {
    "tags": []
   },
   "outputs": [],
   "source": [
    "if 'autoreload' not in get_ipython().extension_manager.loaded:\n",
    "    %load_ext autoreload\n",
    "%autoreload 2"
   ]
  },
  {
   "cell_type": "code",
   "execution_count": 1,
   "metadata": {},
   "outputs": [],
   "source": [
    "import os\n",
    "import logging\n",
    "import torch\n",
    "from copy import deepcopy \n",
    "import numpy as np\n",
    "import pandas as pd\n",
    "import seqdata as sd\n",
    "import motifdata as md\n",
    "from eugene import settings"
   ]
  },
  {
   "cell_type": "code",
   "execution_count": 2,
   "metadata": {
    "tags": []
   },
   "outputs": [],
   "source": [
    "settings.dataset_dir = \"/cellar/users/aklie/data/eugene/jores21\"\n",
    "settings.output_dir = \"/cellar/users/aklie/projects/ML4GLand/EUGENe_paper/output/revision/jores21\"\n",
    "settings.logging_dir = \"/cellar/users/aklie/projects/ML4GLand/EUGENe_paper/logs/revision/jores21\"\n",
    "settings.config_dir = \"/cellar/users/aklie/projects/ML4GLand/EUGENe_paper/configs/jores21\"\n",
    "settings.verbosity = logging.ERROR"
   ]
  },
  {
   "attachments": {},
   "cell_type": "markdown",
   "metadata": {
    "tags": []
   },
   "source": [
    "# Load in the `leaf`, `proto` and `combined` `SeqData`s "
   ]
  },
  {
   "cell_type": "code",
   "execution_count": 3,
   "metadata": {
    "tags": []
   },
   "outputs": [
    {
     "data": {
      "text/plain": [
       "(SeqData object with = 65004 seqs\n",
       " seqs = (65004,)\n",
       " names = (65004,)\n",
       " rev_seqs = None\n",
       " ohe_seqs = (65004, 4, 170)\n",
       " ohe_rev_seqs = None\n",
       " seqs_annot: 'GC', 'barcodes', 'batch', 'chromosome', 'end', 'enrichment', 'gene', 'mutations', 'set', 'sp', 'start', 'strand', 'train_val', 'type'\n",
       " pos_annot: None\n",
       " seqsm: None\n",
       " uns: None,\n",
       " SeqData object with = 68213 seqs\n",
       " seqs = (68213,)\n",
       " names = (68213,)\n",
       " rev_seqs = None\n",
       " ohe_seqs = (68213, 4, 170)\n",
       " ohe_rev_seqs = None\n",
       " seqs_annot: 'GC', 'barcodes', 'batch', 'chromosome', 'end', 'enrichment', 'gene', 'mutations', 'set', 'sp', 'start', 'strand', 'train_val', 'type'\n",
       " pos_annot: None\n",
       " seqsm: None\n",
       " uns: None,\n",
       " SeqData object with = 133217 seqs\n",
       " seqs = (133217,)\n",
       " names = (133217,)\n",
       " rev_seqs = None\n",
       " ohe_seqs = (133217, 4, 170)\n",
       " ohe_rev_seqs = None\n",
       " seqs_annot: 'GC', 'barcodes', 'batch', 'chromosome', 'end', 'enrichment', 'gene', 'mutations', 'set', 'sp', 'start', 'strand', 'train_val', 'type'\n",
       " pos_annot: None\n",
       " seqsm: None\n",
       " uns: None)"
      ]
     },
     "execution_count": 3,
     "metadata": {},
     "output_type": "execute_result"
    }
   ],
   "source": [
    "# Load in the preprocessed training data\n",
    "sdata_leaf = sd.read(os.path.join(settings.dataset_dir, \"leaf_processed_train.h5sd\"))\n",
    "sdata_proto = sd.read(os.path.join(settings.dataset_dir, \"proto_processed_train.h5sd\"))\n",
    "sdata_combined = sd.concat([sdata_leaf, sdata_proto], keys=[\"leaf\", \"proto\"])\n",
    "sdata_leaf, sdata_proto, sdata_combined"
   ]
  },
  {
   "cell_type": "code",
   "execution_count": 4,
   "metadata": {},
   "outputs": [
    {
     "data": {
      "text/plain": [
       "MotifSet with 78 motifs"
      ]
     },
     "execution_count": 4,
     "metadata": {},
     "output_type": "execute_result"
    }
   ],
   "source": [
    "# Grab motifs\n",
    "core_promoter_elements = md.read_meme(os.path.join(settings.dataset_dir, \"CPEs.meme\"))\n",
    "tf_clusters = md.read_meme(os.path.join(settings.dataset_dir, \"TF-clusters.meme\"))\n",
    "\n",
    "# Smush them together, make function in the future\n",
    "all_motifs = deepcopy(core_promoter_elements)\n",
    "for motif in tf_clusters:\n",
    "    all_motifs.add_motif(motif)\n",
    "all_motifs"
   ]
  },
  {
   "cell_type": "code",
   "execution_count": 5,
   "metadata": {},
   "outputs": [],
   "source": [
    "import yaml\n",
    "import importlib"
   ]
  },
  {
   "cell_type": "code",
   "execution_count": 6,
   "metadata": {},
   "outputs": [
    {
     "data": {
      "text/plain": [
       "<module 'eugene.models' from '/cellar/users/aklie/projects/ML4GLand/EUGENe/eugene/models/__init__.py'>"
      ]
     },
     "execution_count": 6,
     "metadata": {},
     "output_type": "execute_result"
    }
   ],
   "source": [
    "from eugene import models\n",
    "importlib.reload(models)"
   ]
  },
  {
   "cell_type": "code",
   "execution_count": 7,
   "metadata": {},
   "outputs": [],
   "source": [
    "def load_config(config_path):\n",
    "    with open(config_path, \"r\") as f:\n",
    "        config = yaml.load(f, Loader=yaml.FullLoader)\n",
    "    module_name = config.pop(\"module\")\n",
    "    model_params = config.pop(\"model\")\n",
    "    arch_name = model_params[\"arch_name\"]\n",
    "    arch = model_params[\"arch\"]\n",
    "    model_type = getattr(importlib.import_module(\"eugene.models\"), arch_name)\n",
    "    model = model_type(**arch)\n",
    "    module_type = getattr(importlib.import_module(\"eugene.models\"), module_name)\n",
    "    module = module_type(model, **config)\n",
    "    return module"
   ]
  },
  {
   "cell_type": "code",
   "execution_count": 8,
   "metadata": {},
   "outputs": [],
   "source": [
    "model = load_config(\"/cellar/users/aklie/projects/ML4GLand/EUGENe_paper/configs/jores21/cnn.yaml\")"
   ]
  },
  {
   "cell_type": "code",
   "execution_count": 9,
   "metadata": {},
   "outputs": [],
   "source": [
    "models.init_motif_weights(\n",
    "    model,\n",
    "    layer_name=\"arch.conv1d_tower.layers.0\",\n",
    "    motifs=all_motifs\n",
    ")"
   ]
  },
  {
   "cell_type": "code",
   "execution_count": 10,
   "metadata": {},
   "outputs": [
    {
     "data": {
      "text/plain": [
       "tensor([[0.5100, 1.5060, 0.4780, 1.5060],\n",
       "        [0.6300, 1.5940, 0.7960, 0.9820],\n",
       "        [0.9960, 1.2120, 0.7880, 1.0040],\n",
       "        [0.4940, 2.6200, 0.3020, 0.5820],\n",
       "        [0.0400, 0.0080, 0.0080, 3.9440],\n",
       "        [3.8720, 0.0000, 0.0000, 0.1280],\n",
       "        [0.0080, 0.0560, 0.0240, 3.9120],\n",
       "        [3.9680, 0.0000, 0.0080, 0.0240]], grad_fn=<PermuteBackward0>)"
      ]
     },
     "execution_count": 10,
     "metadata": {},
     "output_type": "execute_result"
    }
   ],
   "source": [
    "# Double check that layer\n",
    "from eugene.models.base._utils import get_layer\n",
    "get_layer(model, 'arch.conv1d_tower.layers.0').weight[0].T"
   ]
  },
  {
   "cell_type": "code",
   "execution_count": 11,
   "metadata": {},
   "outputs": [],
   "source": [
    "from eugene import dataload as dl"
   ]
  },
  {
   "cell_type": "code",
   "execution_count": 12,
   "metadata": {},
   "outputs": [],
   "source": [
    "train_idx = np.where(sdata_leaf[\"train_val\"] == True)[0]\n",
    "val_idx = np.where(sdata_leaf[\"train_val\"] == False)[0]\n",
    "train_sdataset = dl.SequenceDataset(\n",
    "    seqs=sdata_leaf.ohe_seqs[train_idx],\n",
    "    targets=sdata_leaf[\"enrichment\"].values[train_idx]\n",
    ")\n",
    "val_sdataset = dl.SequenceDataset(\n",
    "    seqs=sdata_leaf.ohe_seqs[val_idx],\n",
    "    targets=sdata_leaf[\"enrichment\"].values[val_idx]\n",
    ")"
   ]
  },
  {
   "cell_type": "code",
   "execution_count": 13,
   "metadata": {},
   "outputs": [],
   "source": [
    "train_sdataloader = train_sdataset.to_dataloader(batch_size=128, shuffle=True, num_workers=4, drop_last=True)\n",
    "val_sdataloader = val_sdataset.to_dataloader(batch_size=128, shuffle=False, num_workers=4, drop_last=True)"
   ]
  },
  {
   "cell_type": "code",
   "execution_count": 14,
   "metadata": {},
   "outputs": [],
   "source": [
    "from eugene import train\n",
    "importlib.reload(train)\n",
    "from eugene import train"
   ]
  },
  {
   "cell_type": "code",
   "execution_count": 15,
   "metadata": {},
   "outputs": [],
   "source": [
    "from pytorch_lightning.loggers import WandbLogger, CSVLogger, TensorBoardLogger"
   ]
  },
  {
   "cell_type": "code",
   "execution_count": 16,
   "metadata": {},
   "outputs": [],
   "source": [
    "logger = CSVLogger(save_dir=settings.logging_dir, name=\"cnn\", version=\"test\")"
   ]
  },
  {
   "cell_type": "code",
   "execution_count": 17,
   "metadata": {},
   "outputs": [
    {
     "data": {
      "text/plain": [
       "'/cellar/users/aklie/projects/ML4GLand/EUGENe_paper/logs/revision/jores21/cnn/test/checkpoints'"
      ]
     },
     "execution_count": 17,
     "metadata": {},
     "output_type": "execute_result"
    }
   ],
   "source": [
    "os.path.join(logger.save_dir, logger.name, logger.version, \"checkpoints\")"
   ]
  },
  {
   "cell_type": "code",
   "execution_count": 18,
   "metadata": {},
   "outputs": [
    {
     "data": {
      "text/plain": [
       "'/cellar/users/aklie/projects/ML4GLand/EUGENe_paper/logs/revision/jores21/cnn/testcheck'"
      ]
     },
     "execution_count": 18,
     "metadata": {},
     "output_type": "execute_result"
    }
   ],
   "source": [
    "logger.log_dir + \"check\""
   ]
  },
  {
   "cell_type": "code",
   "execution_count": 21,
   "metadata": {},
   "outputs": [],
   "source": [
    "logger.save_dir"
   ]
  },
  {
   "cell_type": "code",
   "execution_count": 75,
   "metadata": {},
   "outputs": [],
   "source": [
    "import wandb"
   ]
  },
  {
   "cell_type": "code",
   "execution_count": null,
   "metadata": {},
   "outputs": [],
   "source": []
  },
  {
   "cell_type": "code",
   "execution_count": 25,
   "metadata": {},
   "outputs": [
    {
     "name": "stderr",
     "output_type": "stream",
     "text": [
      "GPU available: True, used: True\n",
      "TPU available: False, using: 0 TPU cores\n",
      "IPU available: False, using: 0 IPUs\n",
      "LOCAL_RANK: 0 - CUDA_VISIBLE_DEVICES: [0]\n"
     ]
    },
    {
     "name": "stdout",
     "output_type": "stream",
     "text": [
      "No seed set\n"
     ]
    },
    {
     "name": "stderr",
     "output_type": "stream",
     "text": [
      "/cellar/users/aklie/opt/miniconda3/envs/eugene_dev/lib/python3.7/site-packages/pytorch_lightning/loggers/csv_logs.py:58: UserWarning: Experiment logs directory /cellar/users/aklie/projects/ML4GLand/EUGENe_paper/logs/revision/jores21/grace/leaf exists and is not empty. Previous log files in this directory will be deleted when the new ones are saved!\n",
      "  f\"Experiment logs directory {self.log_dir} exists and is not empty.\"\n",
      "Set SLURM handle signals.\n",
      "\n",
      "  | Name         | Type    | Params\n",
      "-----------------------------------------\n",
      "0 | arch         | CNN     | 3.0 M \n",
      "1 | train_metric | R2Score | 0     \n",
      "2 | val_metric   | R2Score | 0     \n",
      "3 | test_metric  | R2Score | 0     \n",
      "-----------------------------------------\n",
      "3.0 M     Trainable params\n",
      "0         Non-trainable params\n",
      "3.0 M     Total params\n",
      "11.971    Total estimated model params size (MB)\n",
      "/cellar/users/aklie/opt/miniconda3/envs/eugene_dev/lib/python3.7/site-packages/pytorch_lightning/callbacks/model_checkpoint.py:631: UserWarning: Checkpoint directory /cellar/users/aklie/projects/ML4GLand/EUGENe_paper/logs/revision/jores21/grace/leaf/checkpoints exists and is not empty.\n",
      "  rank_zero_warn(f\"Checkpoint directory {dirpath} exists and is not empty.\")\n"
     ]
    },
    {
     "data": {
      "application/vnd.jupyter.widget-view+json": {
       "model_id": "dbf87475eeb341d2a1b07887e74797f5",
       "version_major": 2,
       "version_minor": 0
      },
      "text/plain": [
       "HBox(children=(FloatProgress(value=1.0, bar_style='info', description='Validation sanity check', layout=Layout…"
      ]
     },
     "metadata": {},
     "output_type": "display_data"
    },
    {
     "name": "stdout",
     "output_type": "stream",
     "text": [
      "\r"
     ]
    },
    {
     "data": {
      "application/vnd.jupyter.widget-view+json": {
       "model_id": "69f87e8ec765414ea93209fe7bfb1a14",
       "version_major": 2,
       "version_minor": 0
      },
      "text/plain": [
       "HBox(children=(FloatProgress(value=1.0, bar_style='info', description='Training', layout=Layout(flex='2'), max…"
      ]
     },
     "metadata": {},
     "output_type": "display_data"
    },
    {
     "name": "stderr",
     "output_type": "stream",
     "text": [
      "/cellar/users/aklie/opt/miniconda3/envs/eugene_dev/lib/python3.7/site-packages/pytorch_lightning/trainer/trainer.py:688: UserWarning: Detected KeyboardInterrupt, attempting graceful shutdown...\n",
      "  rank_zero_warn(\"Detected KeyboardInterrupt, attempting graceful shutdown...\")\n"
     ]
    }
   ],
   "source": [
    "trainer = train.fit(\n",
    "    model=model, \n",
    "    train_dataloader=train_sdataloader,\n",
    "    val_dataloader=val_sdataloader,\n",
    "    gpus=1, \n",
    "    epochs=2,\n",
    "    logger=\"csv\",\n",
    "    log_dir=settings.logging_dir,\n",
    "    name=\"grace\",\n",
    "    version=\"leaf\",\n",
    "    return_trainer=True\n",
    ")"
   ]
  },
  {
   "cell_type": "code",
   "execution_count": 22,
   "metadata": {},
   "outputs": [],
   "source": [
    "import wandb"
   ]
  },
  {
   "cell_type": "code",
   "execution_count": 24,
   "metadata": {},
   "outputs": [
    {
     "data": {
      "text/html": [
       "Waiting for W&B process to finish... <strong style=\"color:green\">(success).</strong>"
      ],
      "text/plain": [
       "<IPython.core.display.HTML object>"
      ]
     },
     "metadata": {},
     "output_type": "display_data"
    },
    {
     "data": {
      "text/html": [
       "<style>\n",
       "    table.wandb td:nth-child(1) { padding: 0 10px; text-align: left ; width: auto;} td:nth-child(2) {text-align: left ; width: 100%}\n",
       "    .wandb-row { display: flex; flex-direction: row; flex-wrap: wrap; justify-content: flex-start; width: 100% }\n",
       "    .wandb-col { display: flex; flex-direction: column; flex-basis: 100%; flex: 1; padding: 10px; }\n",
       "    </style>\n",
       "<div class=\"wandb-row\"><div class=\"wandb-col\"><h3>Run history:</h3><br/><table class=\"wandb\"><tr><td>epoch</td><td>▁▁▁▁▁▁▁▁▁▁▁███████████</td></tr><tr><td>lr-Adam</td><td>▁▁</td></tr><tr><td>train_loss</td><td>█▄▇▄▆▄▄▄▃▃▃▂▃▁▃▂▂▃</td></tr><tr><td>train_loss_epoch</td><td>█▁</td></tr><tr><td>train_r2score_epoch</td><td>▁█</td></tr><tr><td>trainer/global_step</td><td>▁▁▂▂▃▃▃▄▄▄▄▄▅▅▅▆▆▆▇▇████</td></tr><tr><td>val_loss_epoch</td><td>█▁</td></tr><tr><td>val_r2score_epoch</td><td>▁█</td></tr></table><br/></div><div class=\"wandb-col\"><h3>Run summary:</h3><br/><table class=\"wandb\"><tr><td>epoch</td><td>1</td></tr><tr><td>lr-Adam</td><td>0.001</td></tr><tr><td>train_loss</td><td>1.17454</td></tr><tr><td>train_loss_epoch</td><td>1.19207</td></tr><tr><td>train_r2score_epoch</td><td>0.57261</td></tr><tr><td>trainer/global_step</td><td>913</td></tr><tr><td>val_loss_epoch</td><td>1.03261</td></tr><tr><td>val_r2score_epoch</td><td>0.62217</td></tr></table><br/></div></div>"
      ],
      "text/plain": [
       "<IPython.core.display.HTML object>"
      ]
     },
     "metadata": {},
     "output_type": "display_data"
    },
    {
     "data": {
      "text/html": [
       " View run <strong style=\"color:#cdcd00\">grace</strong> at: <a href='https://wandb.ai/carter-comp-bio/uncategorized/runs/leaf' target=\"_blank\">https://wandb.ai/carter-comp-bio/uncategorized/runs/leaf</a><br/>Synced 6 W&B file(s), 0 media file(s), 0 artifact file(s) and 0 other file(s)"
      ],
      "text/plain": [
       "<IPython.core.display.HTML object>"
      ]
     },
     "metadata": {},
     "output_type": "display_data"
    },
    {
     "data": {
      "text/html": [
       "Find logs at: <code>./projects/ML4GLand/EUGENe_paper/logs/revision/jores21/wandb/run-20230519_084610-leaf/logs</code>"
      ],
      "text/plain": [
       "<IPython.core.display.HTML object>"
      ]
     },
     "metadata": {},
     "output_type": "display_data"
    }
   ],
   "source": [
    "wandb.finish()"
   ]
  },
  {
   "cell_type": "code",
   "execution_count": 23,
   "metadata": {},
   "outputs": [],
   "source": [
    "from eugene import plot as pl"
   ]
  },
  {
   "cell_type": "code",
   "execution_count": 41,
   "metadata": {},
   "outputs": [
    {
     "data": {
      "image/png": "[encoded data removed]",
      "text/plain": [
       "<Figure size 864x432 with 2 Axes>"
      ]
     },
     "metadata": {
      "needs_background": "light"
     },
     "output_type": "display_data"
    }
   ],
   "source": [
    "pl.training_summary(os.path.join(settings.logging_dir, \"grace\", \"leaf\"))"
   ]
  },
  {
   "cell_type": "code",
   "execution_count": 23,
   "metadata": {},
   "outputs": [
    {
     "data": {
      "text/plain": [
       "<function torch.optim.optimizer.Optimizer.state_dict(self)>"
      ]
     },
     "execution_count": 23,
     "metadata": {},
     "output_type": "execute_result"
    }
   ],
   "source": [
    "model.optimizer.state_dict"
   ]
  },
  {
   "cell_type": "code",
   "execution_count": null,
   "metadata": {
    "tags": []
   },
   "outputs": [],
   "source": [
    "from pytorch_lightning import seed_everything\n",
    "\n",
    "# Function for instantiating a new randomly initialized model\n",
    "def prep_new_model(\n",
    "    seed,\n",
    "    arch,\n",
    "    config\n",
    "):\n",
    "    # Instantiate the model\n",
    "    model = eu.models.load_config(\n",
    "        arch=arch,\n",
    "        model_config=config\n",
    "    )\n",
    "    \n",
    "    seed_everything(seed)\n",
    "    \n",
    "    # Initialize the model prior to conv filter initialization\n",
    "    eu.models.init_weights(model)\n",
    "\n",
    "    # Initialize the conv filters\n",
    "    if arch == \"Jores21CNN\":\n",
    "        module_name, module_number, kernel_name, kernel_number = \"biconv\", None, \"kernels\", 0, \n",
    "    elif arch in [\"CNN\", \"Hybrid\"]:\n",
    "        module_name, module_number, kernel_name, kernel_number = \"convnet\", 0, None, None\n",
    "    eu.models.init_from_motifs(\n",
    "        model, \n",
    "        all_motifs, \n",
    "        module_name=module_name,\n",
    "        module_number=module_number,\n",
    "        kernel_name=kernel_name,\n",
    "        kernel_number=kernel_number\n",
    "    )\n",
    "\n",
    "    # Return the model\n",
    "    return model "
   ]
  },
  {
   "cell_type": "code",
   "execution_count": null,
   "metadata": {
    "tags": []
   },
   "outputs": [],
   "source": [
    "# Instantiate a test model to make sure this is working properly\n",
    "test_model = prep_new_model(0, \"Jores21CNN\", os.path.join(eu.settings.config_dir, \"Jores21CNN.yaml\"))"
   ]
  },
  {
   "attachments": {},
   "cell_type": "markdown",
   "metadata": {
    "tags": []
   },
   "source": [
    "## Train a prototype model "
   ]
  },
  {
   "cell_type": "code",
   "execution_count": null,
   "metadata": {
    "tags": []
   },
   "outputs": [],
   "source": [
    "# Train 5 models with 5 different random initializations\n",
    "model_types = [\"CNN\", \"Hybrid\", \"Jores21CNN\"]\n",
    "model_names = [\"ssCNN\", \"ssHybrid\", \"Jores21CNN\"]\n",
    "trials = 1\n",
    "for model_name, model_type in zip(model_names, model_types):\n",
    "    for trial in range(1, trials+1):\n",
    "        print(f\"{model_name} trial {trial}\")\n",
    "\n",
    "        # Initialize the model\n",
    "        leaf_model = prep_new_model(\n",
    "            arch=model_type, \n",
    "            config=os.path.join(eu.settings.config_dir, f\"{model_name}.yaml\"),\n",
    "            seed=trial\n",
    "        )\n",
    "\n",
    "        # Train the model\n",
    "        eu.train.fit(\n",
    "            model=leaf_model, \n",
    "            sdata=sdata_leaf, \n",
    "            gpus=1, \n",
    "            target_keys=\"enrichment\",\n",
    "            train_key=\"train_val\",\n",
    "            epochs=1,\n",
    "            batch_size=128,\n",
    "            num_workers=0,\n",
    "            name=model_name,\n",
    "            seed=trial,\n",
    "            version=f\"leaf_trial_{trial}\",\n",
    "            weights_summary=None,\n",
    "            verbosity=logging.ERROR\n",
    "        )\n",
    "\n",
    "        # Get predictions on the training data\n",
    "        eu.evaluate.train_val_predictions(\n",
    "            leaf_model,\n",
    "            sdata=sdata_leaf, \n",
    "            target_keys=\"enrichment\",\n",
    "            train_key=\"train_val\",\n",
    "            name=model_name,\n",
    "            version=f\"leaf_trial_{trial}\",\n",
    "            prefix=f\"{model_name}_trial_{trial}_\"\n",
    "        )\n",
    "\n",
    "        # Make room for the next model \n",
    "        del leaf_model\n",
    "\n",
    "# Save train and validation predictions\n",
    "sdata_leaf.write_h5sd(os.path.join(eu.settings.output_dir, \"leaf_train_predictions.h5sd\"))"
   ]
  },
  {
   "attachments": {},
   "cell_type": "markdown",
   "metadata": {
    "tags": []
   },
   "source": [
    "# Train proto models"
   ]
  },
  {
   "cell_type": "code",
   "execution_count": null,
   "metadata": {},
   "outputs": [],
   "source": [
    "# Train 5 models with 5 different random initializations\n",
    "model_types = [\"CNN\", \"Hybrid\", \"Jores21CNN\"]\n",
    "model_names = [\"ssCNN\", \"ssHybrid\", \"Jores21CNN\"]\n",
    "trials = 5\n",
    "for model_name, model_type in zip(model_names, model_types):\n",
    "    for trial in range(1, trials+1):\n",
    "        print(f\"{model_name} trial {trial}\")\n",
    "\n",
    "        # Initialize the model\n",
    "        proto_model = prep_new_model(\n",
    "            arch=model_type, \n",
    "            config=os.path.join(eu.settings.config_dir, f\"{model_name}.yaml\"),\n",
    "            seed=trial\n",
    "        )\n",
    "        \n",
    "        # Train the model\n",
    "        eu.train.fit(\n",
    "            model=proto_model, \n",
    "            sdata=sdata_proto, \n",
    "            gpus=1, \n",
    "            target_keys=\"enrichment\",\n",
    "            train_key=\"train_val\",\n",
    "            epochs=25,\n",
    "            batch_size=128,\n",
    "            num_workers=4,\n",
    "            name=model_name,\n",
    "            seed=trial,\n",
    "            version=f\"proto_trial_{trial}\",\n",
    "            verbosity=logging.ERROR,\n",
    "            weights_summary=None\n",
    "        )\n",
    "\n",
    "        # Get predictions on the training data\n",
    "        eu.evaluate.train_val_predictions(\n",
    "            proto_model,\n",
    "            sdata=sdata_proto, \n",
    "            target=\"enrichment\",\n",
    "            train_key=\"train_val\",\n",
    "            name=model_name,\n",
    "            version=f\"proto_trial_{trial}\",\n",
    "            prefix=f\"{model_name}_trial_{trial}_\"\n",
    "        )\n",
    "\n",
    "        # Make room for the next model\n",
    "        del proto_model\n",
    "\n",
    "# Save train and validation predictions        \n",
    "sdata_proto.write_h5sd(os.path.join(eu.settings.output_dir, \"proto_train_predictions.h5sd\"))"
   ]
  },
  {
   "attachments": {},
   "cell_type": "markdown",
   "metadata": {
    "tags": []
   },
   "source": [
    "# Train combined models"
   ]
  },
  {
   "cell_type": "code",
   "execution_count": null,
   "metadata": {
    "tags": []
   },
   "outputs": [],
   "source": [
    "# Train 5 models with 5 different random initializations\n",
    "model_types = [\"CNN\", \"Hybrid\", \"Jores21CNN\"]\n",
    "model_names = [\"ssCNN\", \"ssHybrid\", \"Jores21CNN\"]\n",
    "trials = 5\n",
    "for model_name, model_type in zip(model_names, model_types):\n",
    "    for trial in range(1, trials+1):\n",
    "        print(f\"{model_name} trial {trial}\")\n",
    "\n",
    "        # Initialize the model\n",
    "        combined_model = prep_new_model(\n",
    "            arch=model_type, \n",
    "            config=os.path.join(eu.settings.config_dir, f\"{model_name}.yaml\"),\n",
    "            seed=trial\n",
    "        )\n",
    "\n",
    "        # Train the model\n",
    "        eu.train.fit(\n",
    "            model=combined_model, \n",
    "            sdata=sdata_combined, \n",
    "            gpus=1, \n",
    "            target_keys=\"enrichment\",\n",
    "            train_key=\"train_val\",\n",
    "            epochs=25,\n",
    "            batch_size=128,\n",
    "            num_workers=4,\n",
    "            name=model_name,\n",
    "            seed=trial,\n",
    "            version=f\"combined_trial_{trial}\",\n",
    "            verbosity=logging.ERROR,\n",
    "            weights_summary=None\n",
    "        )\n",
    "\n",
    "        # Get predictions on the training data\n",
    "        eu.evaluate.train_val_predictions(\n",
    "            combined_model,\n",
    "            sdata=sdata_combined, \n",
    "            target=\"enrichment\",\n",
    "            train_key=\"train_val\",\n",
    "            name=model_name,\n",
    "            version=f\"combined_trial_{trial}\",\n",
    "            prefix=f\"{model_name}_trial_{trial}_\"\n",
    "        )\n",
    "\n",
    "        # Make room for the next model\n",
    "        del combined_model\n",
    "\n",
    "# Save train and validation predictions\n",
    "sdata_combined.write_h5sd(os.path.join(eu.settings.output_dir, \"combined_train_predictions.h5sd\"))"
   ]
  },
  {
   "attachments": {},
   "cell_type": "markdown",
   "metadata": {},
   "source": [
    "---"
   ]
  }
 ],
 "metadata": {
  "kernelspec": {
   "display_name": "Python 3.7 eugene_dev",
   "language": "python",
   "name": "eugene_dev"
  },
  "language_info": {
   "codemirror_mode": {
    "name": "ipython",
    "version": 3
   },
   "file_extension": ".py",
   "mimetype": "text/x-python",
   "name": "python",
   "nbconvert_exporter": "python",
   "pygments_lexer": "ipython3",
   "version": "3.7.12"
  },
  "vscode": {
   "interpreter": {
    "hash": "949777d72b0d2535278d3dc13498b2535136f6dfe0678499012e853ee9abcab1"
   }
  }
 },
 "nbformat": 4,
 "nbformat_minor": 4
}
