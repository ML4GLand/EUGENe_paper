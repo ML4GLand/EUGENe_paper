{
 "cells": [
  {
   "attachments": {},
   "cell_type": "markdown",
   "metadata": {},
   "source": [
    "# Jores et al 2021 Extract-Transform-Load\n",
    "**Authorship:**\n",
    "Adam Klie, *05/18/2023*\n",
    "***\n",
    "**Description:**\n",
    "Notebook to extract, transform, and load (ETL) data from the Jores et al (2021) dataset.\n",
    "***"
   ]
  },
  {
   "cell_type": "code",
   "execution_count": null,
   "metadata": {
    "tags": []
   },
   "outputs": [],
   "source": [
    "if 'autoreload' not in get_ipython().extension_manager.loaded:\n",
    "    %load_ext autoreload\n",
    "%autoreload 2"
   ]
  },
  {
   "cell_type": "code",
   "execution_count": 32,
   "metadata": {},
   "outputs": [],
   "source": [
    "# General imports\n",
    "import os\n",
    "import numpy as np\n",
    "import pandas as pd\n",
    "import xarray as xr\n",
    "\n",
    "# EUGENe imports\n",
    "from eugene import preprocess as pp\n",
    "from eugene import settings\n",
    "settings.dataset_dir = \"/cellar/users/aklie/data/eugene/revision/\"\n",
    "\n",
    "# EUGENe packages\n",
    "import seqdatasets\n",
    "import seqdata as sd"
   ]
  },
  {
   "attachments": {},
   "cell_type": "markdown",
   "metadata": {},
   "source": [
    "# Download and load in the dataset to a raw `SeqData` object"
   ]
  },
  {
   "cell_type": "code",
   "execution_count": 33,
   "metadata": {},
   "outputs": [
    {
     "name": "stdout",
     "output_type": "stream",
     "text": [
      "Dataset jores21 CNN_test_leaf.tsv has already been downloaded.\n",
      "Dataset jores21 CNN_train_leaf.tsv has already been downloaded.\n"
     ]
    },
    {
     "name": "stderr",
     "output_type": "stream",
     "text": [
      "72158it [00:09, 7678.88it/s]\n"
     ]
    },
    {
     "name": "stdout",
     "output_type": "stream",
     "text": [
      "Dataset jores21 CNN_train_proto.tsv has already been downloaded.\n",
      "Dataset jores21 CNN_test_proto.tsv has already been downloaded.\n"
     ]
    },
    {
     "name": "stderr",
     "output_type": "stream",
     "text": [
      "75808it [00:06, 11461.03it/s]\n"
     ]
    }
   ],
   "source": [
    "# Load in the downloaded datasets from the manuscript Github repo\n",
    "sdata_leaf = seqdatasets.jores21(\"leaf\", batch_size=10000)\n",
    "sdata_proto = seqdatasets.jores21(\"proto\", batch_size=10000)"
   ]
  },
  {
   "cell_type": "code",
   "execution_count": 34,
   "metadata": {},
   "outputs": [],
   "source": [
    "def concat_seqdatas(seqdatas, keys):\n",
    "    for i, s in enumerate(seqdatas):\n",
    "        s[\"batch\"] = keys[i]\n",
    "    return xr.concat(seqdatas, dim=\"_sequence\")\n",
    "sdata_combined = concat_seqdatas([sdata_leaf, sdata_proto], keys=[\"leaf\", \"proto\"])"
   ]
  },
  {
   "cell_type": "code",
   "execution_count": 35,
   "metadata": {},
   "outputs": [],
   "source": [
    "# Give each sequence a unique ID\n",
    "pp.make_unique_ids_sdata(sdata_leaf)\n",
    "pp.make_unique_ids_sdata(sdata_proto)\n",
    "#pp.make_unique_ids_sdata(sdata_combined)"
   ]
  },
  {
   "attachments": {},
   "cell_type": "markdown",
   "metadata": {},
   "source": [
    "# TODO: Can we merge metadata with XArray dataset?"
   ]
  },
  {
   "cell_type": "code",
   "execution_count": 23,
   "metadata": {},
   "outputs": [],
   "source": [
    "# Download metadata, promoters to evolve and motifs in MEME format (TODO: add to jores21 datasets module function)\n",
    "#!wget https://static-content.springer.com/esm/art%3A10.1038%2Fs41477-021-00932-y/MediaObjects/41477_2021_932_MOESM3_ESM.xlsx -O /cellar/users/aklie/data/eugene/revision/jores21/41477_2021_932_MOESM3_ESM.xlsx\n",
    "#!wget https://raw.githubusercontent.com/tobjores/Synthetic-Promoter-Designs-Enabled-by-a-Comprehensive-Analysis-of-Plant-Core-Promoters/main/analysis/validation_sequences/promoters_for_evolution.tsv -O /cellar/users/aklie/data/eugene/revision/jores21/promoters_for_evolution.tsv\n",
    "#!wget https://raw.githubusercontent.com/tobjores/Synthetic-Promoter-Designs-Enabled-by-a-Comprehensive-Analysis-of-Plant-Core-Promoters/main/data/misc/CPEs.meme -O /cellar/users/aklie/data/eugene/revision/jores21/CPEs.meme\n",
    "#!wget https://raw.githubusercontent.com/tobjores/Synthetic-Promoter-Designs-Enabled-by-a-Comprehensive-Analysis-of-Plant-Core-Promoters/main/data/misc/TF-clusters.meme -O /cellar/users/aklie/data/eugene/revision/jores21/TF-clusters.meme"
   ]
  },
  {
   "cell_type": "code",
   "execution_count": 6,
   "metadata": {},
   "outputs": [],
   "source": [
    "# Load some other sequence features\n",
    "smetadata = pd.read_excel(\n",
    "    os.path.join(settings.dataset_dir, \"jores21\", \"41477_2021_932_MOESM3_ESM.xlsx\"),\n",
    "    sheet_name=0, \n",
    "    skiprows=3, \n",
    ")\n",
    "smetadata.drop(columns=[\"species\", \"gene\"], inplace=True)\n",
    "smetadata[\"sequence\"].isin(sdata_combined[\"seq\"].to_numpy().astype(\"U\")).sum()\n",
    "# Add the sequence annotations to the combined SeqData object\n",
    "sdata_combined.seqs_annot = sdata_combined.seqs_annot.merge(smetadata, on=\"sequence\", how=\"left\")\n",
    "sdata_combined.seqs_annot.drop(columns=[\"sequence\", \"UTR\"], inplace=True)"
   ]
  },
  {
   "cell_type": "code",
   "execution_count": 36,
   "metadata": {},
   "outputs": [],
   "source": [
    "# One-hot encoded sequences\n",
    "pp.ohe_seqs_sdata(sdata_leaf)\n",
    "pp.ohe_seqs_sdata(sdata_proto)\n",
    "#pp.ohe_seqs_sdata(sdata_combined)"
   ]
  },
  {
   "cell_type": "code",
   "execution_count": 37,
   "metadata": {},
   "outputs": [],
   "source": [
    "# Subset back to leaf and proto objects\n",
    "#leaf_inds = np.where(sdata_combined[\"batch\"] == \"leaf\")[0]\n",
    "#proto_inds = np.where(sdata_combined[\"batch\"] break== \"proto\")[0]\n",
    "#sdata_leaf = sdata_combined.isel(_sequence=leaf_inds)\n",
    "#sdata_proto = sdata_combined.isel(_sequence=proto_inds)"
   ]
  },
  {
   "cell_type": "code",
   "execution_count": 38,
   "metadata": {},
   "outputs": [],
   "source": [
    "# Split each of the three datases into training and train sets\n",
    "leaf_train_inds = np.where(sdata_leaf[\"set\"] == \"train\")[0]\n",
    "leaf_test_inds = np.where(sdata_leaf[\"set\"] == \"test\")[0]\n",
    "proto_train_inds = np.where(sdata_proto[\"set\"] == \"train\")[0]\n",
    "proto_test_inds = np.where(sdata_proto[\"set\"] == \"test\")[0]\n",
    "combined_train_inds = np.where(sdata_combined[\"set\"] == \"train\")[0]\n",
    "combined_test_inds = np.where(sdata_combined[\"set\"] == \"test\")[0]\n",
    "sdata_leaf_train = sdata_leaf.isel(_sequence=leaf_train_inds)\n",
    "sdata_leaf_test = sdata_leaf.isel(_sequence=leaf_test_inds)\n",
    "sdata_proto_train = sdata_proto.isel(_sequence=proto_train_inds)\n",
    "sdata_proto_test = sdata_proto.isel(_sequence=proto_test_inds)\n",
    "sdata_combined_train = sdata_combined.isel(_sequence=combined_train_inds)\n",
    "sdata_combined_test = sdata_combined.isel(_sequence=combined_test_inds)"
   ]
  },
  {
   "cell_type": "code",
   "execution_count": 39,
   "metadata": {},
   "outputs": [],
   "source": [
    "pp.train_test_split_sdata(sdata_leaf_train, test_size=0.1)\n",
    "pp.train_test_split_sdata(sdata_proto_train, test_size=0.1)\n",
    "#pp.train_test_split_sdata(sdata_combined_train, test_size=0.1)"
   ]
  },
  {
   "cell_type": "code",
   "execution_count": 40,
   "metadata": {},
   "outputs": [],
   "source": [
    "for sdata in [sdata_leaf_train, sdata_leaf_test, sdata_proto_train, sdata_proto_test]: # , sdata_combined_train, sdata_combined_test]:\n",
    "    for v in list(sdata.coords.keys()):\n",
    "        if sdata.coords[v].dtype == object:\n",
    "            sdata.coords[v] = sdata.coords[v].astype(\"unicode\")\n",
    "    for v in list(sdata.variables.keys()):\n",
    "        if sdata[v].dtype == object:\n",
    "            sdata[v] = sdata[v].astype(\"unicode\")"
   ]
  },
  {
   "cell_type": "code",
   "execution_count": 41,
   "metadata": {},
   "outputs": [],
   "source": [
    "sdata_leaf_train = sdata_leaf_train.chunk({\"_sequence\": -1})\n",
    "sdata_leaf_test = sdata_leaf_test.chunk({\"_sequence\": -1})\n",
    "sdata_proto_train = sdata_proto_train.chunk({\"_sequence\": -1})\n",
    "sdata_proto_test = sdata_proto_test.chunk({\"_sequence\": -1})"
   ]
  },
  {
   "cell_type": "code",
   "execution_count": 42,
   "metadata": {},
   "outputs": [
    {
     "data": {
      "text/plain": [
       "<xarray.backends.zarr.ZarrStore at 0x1552ec240890>"
      ]
     },
     "execution_count": 42,
     "metadata": {},
     "output_type": "execute_result"
    }
   ],
   "source": [
    "sdata_leaf_train.to_zarr(os.path.join(settings.dataset_dir, \"jores21\", \"jores21_leaf_train.zarr\"), mode=\"w\")\n",
    "sdata_leaf_test.to_zarr(os.path.join(settings.dataset_dir, \"jores21\", \"jores21_leaf_test.zarr\"), mode=\"w\")\n",
    "sdata_proto_train.to_zarr(os.path.join(settings.dataset_dir, \"jores21\", \"jores21_proto_train.zarr\"), mode=\"w\")\n",
    "sdata_proto_test.to_zarr(os.path.join(settings.dataset_dir, \"jores21\", \"jores21_proto_test.zarr\"), mode=\"w\")"
   ]
  },
  {
   "attachments": {},
   "cell_type": "markdown",
   "metadata": {},
   "source": [
    "---"
   ]
  }
 ],
 "metadata": {
  "kernelspec": {
   "display_name": "Python 3.9 ml4gland",
   "language": "python",
   "name": "ml4gland"
  },
  "language_info": {
   "codemirror_mode": {
    "name": "ipython",
    "version": 3
   },
   "file_extension": ".py",
   "mimetype": "text/x-python",
   "name": "python",
   "nbconvert_exporter": "python",
   "pygments_lexer": "ipython3",
   "version": "3.9.16"
  },
  "vscode": {
   "interpreter": {
    "hash": "949777d72b0d2535278d3dc13498b2535136f6dfe0678499012e853ee9abcab1"
   }
  }
 },
 "nbformat": 4,
 "nbformat_minor": 4
}
