{
 "cells": [
  {
   "attachments": {},
   "cell_type": "markdown",
   "metadata": {},
   "source": [
    "# Jores et al 2021 Extract-Transform-Load\n",
    "**Authorship:**\n",
    "Adam Klie, *05/18/2023*\n",
    "***\n",
    "**Description:**\n",
    "Notebook to extract, transform, and load (ETL) data from the Jores et al (2021) dataset.\n",
    "***"
   ]
  },
  {
   "cell_type": "code",
   "execution_count": null,
   "metadata": {
    "tags": [],
    "vscode": {
     "languageId": "python"
    }
   },
   "outputs": [],
   "source": [
    "if 'autoreload' not in get_ipython().extension_manager.loaded:\n",
    "    %load_ext autoreload\n",
    "%autoreload 2"
   ]
  },
  {
   "cell_type": "code",
   "execution_count": 20,
   "metadata": {
    "vscode": {
     "languageId": "python"
    }
   },
   "outputs": [],
   "source": [
    "import os\n",
    "import numpy as np\n",
    "import pandas as pd\n",
    "from eugene import settings\n",
    "from eugene import datasets\n",
    "from eugene import preprocess as pp\n",
    "import seqdata\n",
    "settings.dataset_dir = \"/cellar/users/aklie/data/eugene/revision/\""
   ]
  },
  {
   "cell_type": "code",
   "execution_count": 10,
   "metadata": {
    "vscode": {
     "languageId": "python"
    }
   },
   "outputs": [
    {
     "data": {
      "text/plain": [
       "<module 'seqdata' from '/cellar/users/aklie/projects/ML4GLand/SeqData/seqdata/__init__.py'>"
      ]
     },
     "execution_count": 10,
     "metadata": {},
     "output_type": "execute_result"
    }
   ],
   "source": [
    "import importlib\n",
    "importlib.reload(seqdata)"
   ]
  },
  {
   "attachments": {},
   "cell_type": "markdown",
   "metadata": {},
   "source": [
    "# Download and load in the dataset to a raw `SeqData` object"
   ]
  },
  {
   "cell_type": "code",
   "execution_count": 11,
   "metadata": {
    "tags": [],
    "vscode": {
     "languageId": "python"
    }
   },
   "outputs": [
    {
     "name": "stdout",
     "output_type": "stream",
     "text": [
      "Path /cellar/users/aklie/data/eugene/revision/jores21 does not exist, creating new folder.\n",
      "Downloading jores21 CNN_test_leaf.tsv to /cellar/users/aklie/data/eugene/revision/jores21...\n",
      "Finished downloading CNN_test_leaf.tsv\n",
      "Downloading jores21 CNN_train_leaf.tsv to /cellar/users/aklie/data/eugene/revision/jores21...\n",
      "Finished downloading CNN_train_leaf.tsv\n",
      "Downloading jores21 CNN_train_proto.tsv to /cellar/users/aklie/data/eugene/revision/jores21...\n",
      "Finished downloading CNN_train_proto.tsv\n",
      "Downloading jores21 CNN_test_proto.tsv to /cellar/users/aklie/data/eugene/revision/jores21...\n",
      "Finished downloading CNN_test_proto.tsv\n"
     ]
    }
   ],
   "source": [
    "# Load in the downloaded datasets from the manuscript Github repo\n",
    "sdata_leaf_raw = datasets.jores21(dataset=\"leaf\")\n",
    "sdata_proto_raw = datasets.jores21(dataset=\"proto\")"
   ]
  },
  {
   "cell_type": "code",
   "execution_count": 13,
   "metadata": {
    "tags": [],
    "vscode": {
     "languageId": "python"
    }
   },
   "outputs": [
    {
     "name": "stdout",
     "output_type": "stream",
     "text": [
      "--2023-05-18 17:19:00--  https://static-content.springer.com/esm/art%3A10.1038%2Fs41477-021-00932-y/MediaObjects/41477_2021_932_MOESM3_ESM.xlsx\n",
      "Resolving static-content.springer.com (static-content.springer.com)... 146.75.92.95\n",
      "Connecting to static-content.springer.com (static-content.springer.com)|146.75.92.95|:443... connected.\n",
      "HTTP request sent, awaiting response... 200 OK\n",
      "Length: 19786625 (19M) [application/vnd.openxmlformats-officedocument.spreadsheetml.sheet]\n",
      "Saving to: ‘/cellar/users/aklie/data/eugene/revision/jores21/41477_2021_932_MOESM3_ESM.xlsx’\n",
      "\n",
      "/cellar/users/aklie 100%[===================>]  18.87M  --.-KB/s    in 0.07s   \n",
      "\n",
      "2023-05-18 17:19:00 (270 MB/s) - ‘/cellar/users/aklie/data/eugene/revision/jores21/41477_2021_932_MOESM3_ESM.xlsx’ saved [19786625/19786625]\n",
      "\n",
      "--2023-05-18 17:19:01--  https://raw.githubusercontent.com/tobjores/Synthetic-Promoter-Designs-Enabled-by-a-Comprehensive-Analysis-of-Plant-Core-Promoters/main/analysis/validation_sequences/promoters_for_evolution.tsv\n",
      "Resolving raw.githubusercontent.com (raw.githubusercontent.com)... 185.199.109.133, 185.199.110.133, 185.199.108.133, ...\n",
      "Connecting to raw.githubusercontent.com (raw.githubusercontent.com)|185.199.109.133|:443... connected.\n",
      "HTTP request sent, awaiting response... 200 OK\n",
      "Length: 57854 (56K) [text/plain]\n",
      "Saving to: ‘/cellar/users/aklie/data/eugene/revision/jores21/promoters_for_evolution.tsv’\n",
      "\n",
      "/cellar/users/aklie 100%[===================>]  56.50K  --.-KB/s    in 0.001s  \n",
      "\n",
      "2023-05-18 17:19:01 (69.6 MB/s) - ‘/cellar/users/aklie/data/eugene/revision/jores21/promoters_for_evolution.tsv’ saved [57854/57854]\n",
      "\n",
      "--2023-05-18 17:19:02--  https://raw.githubusercontent.com/tobjores/Synthetic-Promoter-Designs-Enabled-by-a-Comprehensive-Analysis-of-Plant-Core-Promoters/main/data/misc/CPEs.meme\n",
      "Resolving raw.githubusercontent.com (raw.githubusercontent.com)... 185.199.110.133, 185.199.111.133, 185.199.109.133, ...\n",
      "Connecting to raw.githubusercontent.com (raw.githubusercontent.com)|185.199.110.133|:443... connected.\n",
      "HTTP request sent, awaiting response... 200 OK\n",
      "Length: 2913 (2.8K) [text/plain]\n",
      "Saving to: ‘/cellar/users/aklie/data/eugene/revision/jores21/CPEs.meme’\n",
      "\n",
      "/cellar/users/aklie 100%[===================>]   2.84K  --.-KB/s    in 0s      \n",
      "\n",
      "2023-05-18 17:19:02 (6.48 MB/s) - ‘/cellar/users/aklie/data/eugene/revision/jores21/CPEs.meme’ saved [2913/2913]\n",
      "\n",
      "--2023-05-18 17:19:03--  https://raw.githubusercontent.com/tobjores/Synthetic-Promoter-Designs-Enabled-by-a-Comprehensive-Analysis-of-Plant-Core-Promoters/main/data/misc/TF-clusters.meme\n",
      "Resolving raw.githubusercontent.com (raw.githubusercontent.com)... 185.199.108.133, 185.199.110.133, 185.199.109.133, ...\n",
      "Connecting to raw.githubusercontent.com (raw.githubusercontent.com)|185.199.108.133|:443... connected.\n",
      "HTTP request sent, awaiting response... 200 OK\n",
      "Length: 36718 (36K) [text/plain]\n",
      "Saving to: ‘/cellar/users/aklie/data/eugene/revision/jores21/TF-clusters.meme’\n",
      "\n",
      "/cellar/users/aklie 100%[===================>]  35.86K  --.-KB/s    in 0s      \n",
      "\n",
      "2023-05-18 17:19:03 (91.6 MB/s) - ‘/cellar/users/aklie/data/eugene/revision/jores21/TF-clusters.meme’ saved [36718/36718]\n",
      "\n"
     ]
    }
   ],
   "source": [
    "# Download metadata, promoters to evolve and motifs in MEME format (TODO: add to jores21 datasets module function)\n",
    "!wget https://static-content.springer.com/esm/art%3A10.1038%2Fs41477-021-00932-y/MediaObjects/41477_2021_932_MOESM3_ESM.xlsx -O /cellar/users/aklie/data/eugene/revision/jores21/41477_2021_932_MOESM3_ESM.xlsx\n",
    "!wget https://raw.githubusercontent.com/tobjores/Synthetic-Promoter-Designs-Enabled-by-a-Comprehensive-Analysis-of-Plant-Core-Promoters/main/analysis/validation_sequences/promoters_for_evolution.tsv -O /cellar/users/aklie/data/eugene/revision/jores21/promoters_for_evolution.tsv\n",
    "!wget https://raw.githubusercontent.com/tobjores/Synthetic-Promoter-Designs-Enabled-by-a-Comprehensive-Analysis-of-Plant-Core-Promoters/main/data/misc/CPEs.meme -O /cellar/users/aklie/data/eugene/revision/jores21/CPEs.meme\n",
    "!wget https://raw.githubusercontent.com/tobjores/Synthetic-Promoter-Designs-Enabled-by-a-Comprehensive-Analysis-of-Plant-Core-Promoters/main/data/misc/TF-clusters.meme -O /cellar/users/aklie/data/eugene/revision/jores21/TF-clusters.meme"
   ]
  },
  {
   "cell_type": "code",
   "execution_count": 14,
   "metadata": {
    "tags": [],
    "vscode": {
     "languageId": "python"
    }
   },
   "outputs": [],
   "source": [
    "# Concatenate the datasets into a combined SeqData object\n",
    "sdata_combined_raw = seqdata.concat([sdata_leaf_raw, sdata_proto_raw], keys=[\"leaf\", \"proto\"])\n",
    "sdata_combined_raw.make_names_unique()"
   ]
  },
  {
   "cell_type": "code",
   "execution_count": 15,
   "metadata": {
    "tags": [],
    "vscode": {
     "languageId": "python"
    }
   },
   "outputs": [
    {
     "data": {
      "text/html": [
       "<div>\n",
       "<style scoped>\n",
       "    .dataframe tbody tr th:only-of-type {\n",
       "        vertical-align: middle;\n",
       "    }\n",
       "\n",
       "    .dataframe tbody tr th {\n",
       "        vertical-align: top;\n",
       "    }\n",
       "\n",
       "    .dataframe thead th {\n",
       "        text-align: right;\n",
       "    }\n",
       "</style>\n",
       "<table border=\"1\" class=\"dataframe\">\n",
       "  <thead>\n",
       "    <tr style=\"text-align: right;\">\n",
       "      <th></th>\n",
       "      <th>set</th>\n",
       "      <th>sp</th>\n",
       "      <th>gene</th>\n",
       "      <th>enrichment</th>\n",
       "      <th>batch</th>\n",
       "      <th>index</th>\n",
       "    </tr>\n",
       "  </thead>\n",
       "  <tbody>\n",
       "    <tr>\n",
       "      <th>seq000000</th>\n",
       "      <td>test</td>\n",
       "      <td>At</td>\n",
       "      <td>AT5G03425</td>\n",
       "      <td>-0.537451</td>\n",
       "      <td>leaf</td>\n",
       "      <td>seq00000</td>\n",
       "    </tr>\n",
       "    <tr>\n",
       "      <th>seq000001</th>\n",
       "      <td>test</td>\n",
       "      <td>Sb</td>\n",
       "      <td>ENSRNA049996419</td>\n",
       "      <td>4.108127</td>\n",
       "      <td>leaf</td>\n",
       "      <td>seq00001</td>\n",
       "    </tr>\n",
       "    <tr>\n",
       "      <th>seq000002</th>\n",
       "      <td>test</td>\n",
       "      <td>Zm</td>\n",
       "      <td>ENSRNA049997541</td>\n",
       "      <td>-0.718419</td>\n",
       "      <td>leaf</td>\n",
       "      <td>seq00002</td>\n",
       "    </tr>\n",
       "    <tr>\n",
       "      <th>seq000003</th>\n",
       "      <td>test</td>\n",
       "      <td>Sb</td>\n",
       "      <td>ENSRNA049996013</td>\n",
       "      <td>1.340581</td>\n",
       "      <td>leaf</td>\n",
       "      <td>seq00003</td>\n",
       "    </tr>\n",
       "    <tr>\n",
       "      <th>seq000004</th>\n",
       "      <td>test</td>\n",
       "      <td>At</td>\n",
       "      <td>AT4G04125</td>\n",
       "      <td>4.227307</td>\n",
       "      <td>leaf</td>\n",
       "      <td>seq00004</td>\n",
       "    </tr>\n",
       "  </tbody>\n",
       "</table>\n",
       "</div>"
      ],
      "text/plain": [
       "            set  sp             gene  enrichment batch     index\n",
       "seq000000  test  At        AT5G03425   -0.537451  leaf  seq00000\n",
       "seq000001  test  Sb  ENSRNA049996419    4.108127  leaf  seq00001\n",
       "seq000002  test  Zm  ENSRNA049997541   -0.718419  leaf  seq00002\n",
       "seq000003  test  Sb  ENSRNA049996013    1.340581  leaf  seq00003\n",
       "seq000004  test  At        AT4G04125    4.227307  leaf  seq00004"
      ]
     },
     "execution_count": 15,
     "metadata": {},
     "output_type": "execute_result"
    }
   ],
   "source": [
    "# Give a quick check of this dataset\n",
    "sdata_combined_raw.seqs_annot.head()"
   ]
  },
  {
   "cell_type": "code",
   "execution_count": 16,
   "metadata": {
    "tags": [],
    "vscode": {
     "languageId": "python"
    }
   },
   "outputs": [
    {
     "data": {
      "text/plain": [
       "76712"
      ]
     },
     "execution_count": 16,
     "metadata": {},
     "output_type": "execute_result"
    }
   ],
   "source": [
    "# Load some other sequence features\n",
    "smetadata = pd.read_excel(\n",
    "    os.path.join(settings.dataset_dir, \"jores21\", \"41477_2021_932_MOESM3_ESM.xlsx\"),\n",
    "    sheet_name=0, \n",
    "    skiprows=3, \n",
    ")\n",
    "smetadata.drop(columns=[\"species\", \"gene\"], inplace=True)\n",
    "smetadata[\"sequence\"].isin(sdata_combined_raw.seqs).sum()"
   ]
  },
  {
   "cell_type": "code",
   "execution_count": 17,
   "metadata": {
    "tags": [],
    "vscode": {
     "languageId": "python"
    }
   },
   "outputs": [],
   "source": [
    "# Add the sequence annotations to the combined SeqData object\n",
    "sdata_combined_raw[\"sequence\"] = sdata_combined_raw.seqs\n",
    "sdata_combined_raw.seqs_annot = sdata_combined_raw.seqs_annot.merge(smetadata, on=\"sequence\", how=\"left\")\n",
    "sdata_combined_raw.seqs_annot.drop(columns=[\"sequence\", \"UTR\"], inplace=True)"
   ]
  },
  {
   "cell_type": "code",
   "execution_count": 18,
   "metadata": {
    "tags": [],
    "vscode": {
     "languageId": "python"
    }
   },
   "outputs": [],
   "source": [
    "# Save raw versions of these three\n",
    "sdata_leaf_raw.write_h5sd(os.path.join(settings.dataset_dir, \"jores21\", \"leaf_raw.h5sd\"))\n",
    "sdata_proto_raw.write_h5sd(os.path.join(settings.dataset_dir, \"jores21\", \"proto_raw.h5sd\"))\n",
    "sdata_combined_raw.write_h5sd(os.path.join(settings.dataset_dir, \"jores21\", \"combined_raw.h5sd\"))"
   ]
  },
  {
   "attachments": {},
   "cell_type": "markdown",
   "metadata": {},
   "source": [
    "# Transform the input data in the combined SeqData object"
   ]
  },
  {
   "cell_type": "code",
   "execution_count": 21,
   "metadata": {
    "tags": [],
    "vscode": {
     "languageId": "python"
    }
   },
   "outputs": [
    {
     "data": {
      "application/vnd.jupyter.widget-view+json": {
       "model_id": "4ead72d1659946c4b9091192440ebe15",
       "version_major": 2,
       "version_minor": 0
      },
      "text/plain": [
       "HBox(children=(FloatProgress(value=0.0, description='One-hot encoding sequences', max=147966.0, style=Progress…"
      ]
     },
     "metadata": {},
     "output_type": "display_data"
    },
    {
     "name": "stdout",
     "output_type": "stream",
     "text": [
      "\n",
      "SeqData object modified:\n",
      "\tohe_seqs: None -> 147966 ohe_seqs added\n",
      "SeqData object modified:\n",
      "\tohe_rev_seqs: None -> 147966 ohe_rev_seqs added\n"
     ]
    }
   ],
   "source": [
    "# Add reverse complement sequences and one-hot encoded sequences (forward and reverse complement)\n",
    "pp.ohe_seqs_sdata(sdata_combined_raw)\n",
    "pp.reverse_complement_seqs_sdata(sdata_combined_raw)"
   ]
  },
  {
   "cell_type": "code",
   "execution_count": 22,
   "metadata": {
    "tags": [],
    "vscode": {
     "languageId": "python"
    }
   },
   "outputs": [],
   "source": [
    "# Save the combined processed SeqData object\n",
    "sdata_combined_raw.write_h5sd(os.path.join(settings.dataset_dir, \"jores21\", \"combined_processed.h5sd\"))"
   ]
  },
  {
   "cell_type": "code",
   "execution_count": 23,
   "metadata": {
    "tags": [],
    "vscode": {
     "languageId": "python"
    }
   },
   "outputs": [],
   "source": [
    "# Subset back to leaf and proto objects\n",
    "sdata_leaf_processed = sdata_combined_raw[sdata_combined_raw[\"batch\"] == \"leaf\"]\n",
    "sdata_proto_processed = sdata_combined_raw[sdata_combined_raw[\"batch\"] == \"proto\"]"
   ]
  },
  {
   "cell_type": "code",
   "execution_count": 24,
   "metadata": {
    "tags": [],
    "vscode": {
     "languageId": "python"
    }
   },
   "outputs": [],
   "source": [
    "# Split each of the three datases into training and train sets\n",
    "sdata_leaf_train = sdata_leaf_processed[sdata_leaf_processed[\"set\"] == \"train\"]\n",
    "sdata_proto_train = sdata_proto_processed[sdata_proto_processed[\"set\"] == \"train\"]\n",
    "sdata_combined_train = sdata_combined_raw[sdata_combined_raw[\"set\"] == \"train\"]\n",
    "sdata_leaf_test = sdata_leaf_processed[sdata_leaf_processed[\"set\"] == \"test\"]\n",
    "sdata_proto_test = sdata_proto_processed[sdata_proto_processed[\"set\"] == \"test\"]\n",
    "sdata_combined_test = sdata_combined_raw[sdata_combined_raw[\"set\"] == \"test\"]"
   ]
  },
  {
   "cell_type": "code",
   "execution_count": 25,
   "metadata": {
    "tags": [],
    "vscode": {
     "languageId": "python"
    }
   },
   "outputs": [
    {
     "name": "stdout",
     "output_type": "stream",
     "text": [
      "SeqData object modified:\n",
      "    seqs_annot:\n",
      "        + train_val\n",
      "SeqData object modified:\n",
      "    seqs_annot:\n",
      "        + train_val\n"
     ]
    }
   ],
   "source": [
    "# Add in a column signifying whether the sequence is in the training set or the validation set\n",
    "pp.train_test_split_sdata(sdata_leaf_train, train_key=\"train_val\", split=0.9)\n",
    "pp.train_test_split_sdata(sdata_proto_train, train_key=\"train_val\", split=0.9)"
   ]
  },
  {
   "cell_type": "code",
   "execution_count": 26,
   "metadata": {
    "tags": [],
    "vscode": {
     "languageId": "python"
    }
   },
   "outputs": [],
   "source": [
    "# Save all the sets\n",
    "sdata_leaf_processed.write_h5sd(os.path.join(settings.dataset_dir, \"jores21\", \"leaf_processed.h5sd\"))\n",
    "sdata_proto_processed.write_h5sd(os.path.join(settings.dataset_dir, \"jores21\", \"proto_processed.h5sd\"))\n",
    "sdata_leaf_train.write_h5sd(os.path.join(settings.dataset_dir, \"jores21\", \"leaf_processed_train.h5sd\"))\n",
    "sdata_proto_train.write_h5sd(os.path.join(settings.dataset_dir, \"jores21\", \"proto_processed_train.h5sd\"))\n",
    "sdata_combined_train.write_h5sd(os.path.join(settings.dataset_dir, \"jores21\", \"combined_processed_train.h5sd\"))\n",
    "sdata_leaf_test.write_h5sd(os.path.join(settings.dataset_dir, \"jores21\", \"leaf_processed_test.h5sd\"))\n",
    "sdata_proto_test.write_h5sd(os.path.join(settings.dataset_dir, \"jores21\", \"proto_processed_test.h5sd\"))\n",
    "sdata_combined_test.write_h5sd(os.path.join(settings.dataset_dir, \"jores21\", \"combined_processed_test.h5sd\"))"
   ]
  },
  {
   "attachments": {},
   "cell_type": "markdown",
   "metadata": {},
   "source": [
    "---"
   ]
  }
 ],
 "metadata": {
  "kernelspec": {
   "display_name": "Python 3.7 eugene_dev",
   "language": "python",
   "name": "eugene_dev"
  },
  "vscode": {
   "interpreter": {
    "hash": "949777d72b0d2535278d3dc13498b2535136f6dfe0678499012e853ee9abcab1"
   }
  }
 },
 "nbformat": 4,
 "nbformat_minor": 4
}
