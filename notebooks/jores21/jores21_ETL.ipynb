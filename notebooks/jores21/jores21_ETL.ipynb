{
 "cells": [
  {
   "attachments": {},
   "cell_type": "markdown",
   "metadata": {},
   "source": [
    "# Jores et al 2021 Extract-Transform-Load\n",
    "**Authorship:**\n",
    "Adam Klie (last updated: *06/08/2023*)\n",
    "***\n",
    "**Description:**\n",
    "Notebook to extract, transform, and load (ETL) data from the Jores et al (2021) dataset.\n",
    "***"
   ]
  },
  {
   "cell_type": "code",
   "execution_count": 1,
   "metadata": {},
   "outputs": [
    {
     "name": "stderr",
     "output_type": "stream",
     "text": [
      "OMP: Info #276: omp_set_nested routine deprecated, please use omp_set_max_active_levels instead.\n"
     ]
    },
    {
     "name": "stdout",
     "output_type": "stream",
     "text": [
      "Python version: 3.9.16 | packaged by conda-forge | (main, Feb  1 2023, 21:39:03) \n",
      "[GCC 11.3.0]\n",
      "NumPy version: 1.23.5\n",
      "Pandas version: 1.5.2\n",
      "Xarray version: 2023.4.0\n",
      "Eugene version: 0.0.8\n",
      "SeqDatasets version: 0.0.1\n",
      "SeqData version: 0.0.1\n"
     ]
    }
   ],
   "source": [
    "# General imports\n",
    "import os\n",
    "import sys\n",
    "import numpy as np\n",
    "import pandas as pd\n",
    "\n",
    "# EUGENe imports\n",
    "import eugene as eu\n",
    "from eugene import dataload as dl\n",
    "from eugene import preprocess as pp\n",
    "from eugene import settings\n",
    "settings.dataset_dir = \"/cellar/users/aklie/data/eugene/revision/\"\n",
    "\n",
    "# EUGENe packages\n",
    "import seqdatasets\n",
    "import seqdata as sd\n",
    "\n",
    "# Print versions\n",
    "print(f\"Python version: {sys.version}\")\n",
    "print(f\"NumPy version: {np.__version__}\")\n",
    "print(f\"Pandas version: {pd.__version__}\")\n",
    "print(f\"Eugene version: {eu.__version__}\")\n",
    "print(f\"SeqDatasets version: {seqdatasets.__version__}\")\n",
    "print(f\"SeqData version: {sd.__version__}\")"
   ]
  },
  {
   "attachments": {},
   "cell_type": "markdown",
   "metadata": {},
   "source": [
    "# Download and load in the dataset to a raw `SeqData` object"
   ]
  },
  {
   "cell_type": "code",
   "execution_count": 2,
   "metadata": {},
   "outputs": [
    {
     "name": "stdout",
     "output_type": "stream",
     "text": [
      "Dataset jores21 CNN_test_leaf.tsv has already been downloaded.\n",
      "Dataset jores21 CNN_train_leaf.tsv has already been downloaded.\n"
     ]
    },
    {
     "name": "stderr",
     "output_type": "stream",
     "text": [
      "72158it [00:02, 26911.09it/s]\n"
     ]
    },
    {
     "name": "stdout",
     "output_type": "stream",
     "text": [
      "Dataset jores21 CNN_train_proto.tsv has already been downloaded.\n",
      "Dataset jores21 CNN_test_proto.tsv has already been downloaded.\n"
     ]
    },
    {
     "name": "stderr",
     "output_type": "stream",
     "text": [
      "75808it [00:02, 30752.85it/s]\n"
     ]
    }
   ],
   "source": [
    "# Load in the downloaded datasets from the manuscript Github repo\n",
    "sdata_leaf_raw = seqdatasets.jores21(\"leaf\", batch_size=10000)\n",
    "sdata_proto_raw = seqdatasets.jores21(\"proto\", batch_size=10000)"
   ]
  },
  {
   "cell_type": "code",
   "execution_count": 3,
   "metadata": {},
   "outputs": [],
   "source": [
    "# Download metadata, promoters to evolve and motifs in MEME format. Uncomment and run with your own path.\n",
    "#!wget https://static-content.springer.com/esm/art%3A10.1038%2Fs41477-021-00932-y/MediaObjects/41477_2021_932_MOESM3_ESM.xlsx -O /cellar/users/aklie/data/eugene/revision/jores21/41477_2021_932_MOESM3_ESM.xlsx\n",
    "#!wget https://raw.githubusercontent.com/tobjores/Synthetic-Promoter-Designs-Enabled-by-a-Comprehensive-Analysis-of-Plant-Core-Promoters/main/analysis/validation_sequences/promoters_for_evolution.tsv -O /cellar/users/aklie/data/eugene/revision/jores21/promoters_for_evolution.tsv\n",
    "#!wget https://raw.githubusercontent.com/tobjores/Synthetic-Promoter-Designs-Enabled-by-a-Comprehensive-Analysis-of-Plant-Core-Promoters/main/data/misc/CPEs.meme -O /cellar/users/aklie/data/eugene/revision/jores21/CPEs.meme\n",
    "#!wget https://raw.githubusercontent.com/tobjores/Synthetic-Promoter-Designs-Enabled-by-a-Comprehensive-Analysis-of-Plant-Core-Promoters/main/data/misc/TF-clusters.meme -O /cellar/users/aklie/data/eugene/revision/jores21/TF-clusters.meme"
   ]
  },
  {
   "cell_type": "code",
   "execution_count": 4,
   "metadata": {},
   "outputs": [],
   "source": [
    "# Concatenate the datasets into a combined SeqData object\n",
    "sdata_combined = dl.concat_seqdatas([sdata_leaf_raw, sdata_proto_raw], keys=[\"leaf\", \"proto\"])\n",
    "pp.make_unique_ids_sdata(sdata_combined)"
   ]
  },
  {
   "cell_type": "code",
   "execution_count": 5,
   "metadata": {},
   "outputs": [],
   "source": [
    "# Load some other sequence features\n",
    "smetadata = pd.read_excel(\n",
    "    os.path.join(settings.dataset_dir, \"jores21\", \"41477_2021_932_MOESM3_ESM.xlsx\"),\n",
    "    sheet_name=0, \n",
    "    skiprows=3, \n",
    ")\n",
    "smetadata.drop(columns=[\"species\", \"gene\"], inplace=True)"
   ]
  },
  {
   "cell_type": "code",
   "execution_count": 6,
   "metadata": {},
   "outputs": [],
   "source": [
    "# Add the sequence annotations to the combined SeqData object\n",
    "dl.add_obs(\n",
    "    sdata=sdata_combined,\n",
    "    obs=smetadata,\n",
    "    left_on=\"seq\",\n",
    "    right_on=\"sequence\",\n",
    ")"
   ]
  },
  {
   "attachments": {},
   "cell_type": "markdown",
   "metadata": {},
   "source": [
    "#  Transform the input data in the combined SeqData object"
   ]
  },
  {
   "cell_type": "code",
   "execution_count": 8,
   "metadata": {},
   "outputs": [],
   "source": [
    "# One-hot encoded sequences\n",
    "pp.ohe_seqs_sdata(sdata_combined)"
   ]
  },
  {
   "cell_type": "code",
   "execution_count": 9,
   "metadata": {},
   "outputs": [],
   "source": [
    "# Load in set variable for splitting (otherwise you will get an error whentrying to use boolean dask arrays)\n",
    "sdata_combined[\"set\"] = sdata_combined[\"set\"].load()"
   ]
  },
  {
   "cell_type": "code",
   "execution_count": 10,
   "metadata": {},
   "outputs": [],
   "source": [
    "# Subset back to leaf and proto objects\n",
    "sdata_leaf = sdata_combined.sel(_sequence=sdata_combined['batch'] == 'leaf')\n",
    "sdata_proto = sdata_combined.sel(_sequence=sdata_combined['batch'] == 'proto')"
   ]
  },
  {
   "cell_type": "code",
   "execution_count": 11,
   "metadata": {},
   "outputs": [],
   "source": [
    "# Split each of the three datases into training and train sets\n",
    "sdata_leaf_train = sdata_leaf.sel(_sequence=sdata_leaf[\"set\"] == \"train\")\n",
    "sdata_leaf_test = sdata_leaf.sel(_sequence=sdata_leaf[\"set\"] == \"test\")\n",
    "sdata_proto_train = sdata_proto.sel(_sequence=sdata_proto[\"set\"] == \"train\")\n",
    "sdata_proto_test = sdata_proto.sel(_sequence=sdata_proto[\"set\"] == \"test\")"
   ]
  },
  {
   "cell_type": "code",
   "execution_count": 12,
   "metadata": {},
   "outputs": [],
   "source": [
    "# Add in a column signifying whether the sequence is in the training set or the validation set\n",
    "pp.train_test_random_split(sdata_leaf_train, '_sequence')\n",
    "pp.train_test_random_split(sdata_proto_train, '_sequence')"
   ]
  },
  {
   "cell_type": "code",
   "execution_count": 13,
   "metadata": {},
   "outputs": [],
   "source": [
    "# Save all the sets\n",
    "sd.to_zarr(sdata_leaf_train, os.path.join(settings.dataset_dir, \"jores21\", \"jores21_leaf_train.zarr\"), load_first=True, mode=\"w\")\n",
    "sd.to_zarr(sdata_leaf_test, os.path.join(settings.dataset_dir, \"jores21\", \"jores21_leaf_test.zarr\"), load_first=True, mode=\"w\")\n",
    "sd.to_zarr(sdata_proto_train, os.path.join(settings.dataset_dir, \"jores21\", \"jores21_proto_train.zarr\"), load_first=True, mode=\"w\")\n",
    "sd.to_zarr(sdata_proto_test, os.path.join(settings.dataset_dir, \"jores21\", \"jores21_proto_test.zarr\"), load_first=True, mode=\"w\")"
   ]
  },
  {
   "attachments": {},
   "cell_type": "markdown",
   "metadata": {},
   "source": [
    "# DONE!"
   ]
  },
  {
   "attachments": {},
   "cell_type": "markdown",
   "metadata": {},
   "source": [
    "---"
   ]
  },
  {
   "attachments": {},
   "cell_type": "markdown",
   "metadata": {},
   "source": [
    "# Scratch"
   ]
  },
  {
   "attachments": {},
   "cell_type": "markdown",
   "metadata": {},
   "source": [
    "## Test to make sure the save was successful"
   ]
  },
  {
   "cell_type": "code",
   "execution_count": 14,
   "metadata": {},
   "outputs": [
    {
     "name": "stdout",
     "output_type": "stream",
     "text": [
      "jores21_leaf_train.zarr\n",
      "65004\n",
      "(array(['train'], dtype=object), array([65004]))\n",
      "(array([False,  True]), array([ 6501, 58503]))\n",
      "(array([0]), array([65004]))\n",
      "['seq007154' 'seq007155' 'seq007156' 'seq007157' 'seq007158']\n",
      "(array(['leaf'], dtype='<U5'), array([65004]))\n",
      "jores21_proto_train.zarr\n",
      "68213\n",
      "(array(['train'], dtype=object), array([68213]))\n",
      "(array([False,  True]), array([ 6822, 61391]))\n",
      "(array([0]), array([68213]))\n",
      "['seq072158' 'seq072159' 'seq072160' 'seq072161' 'seq072162']\n",
      "(array(['proto'], dtype='<U5'), array([68213]))\n",
      "jores21_leaf_test.zarr\n",
      "7154\n",
      "(array(['test'], dtype=object), array([7154]))\n",
      "No train_val column found\n",
      "(array([0]), array([7154]))\n",
      "['seq000000' 'seq000001' 'seq000002' 'seq000003' 'seq000004']\n",
      "(array(['leaf'], dtype='<U5'), array([7154]))\n",
      "jores21_proto_test.zarr\n",
      "7595\n",
      "(array(['test'], dtype=object), array([7595]))\n",
      "No train_val column found\n",
      "(array([0]), array([7595]))\n",
      "['seq140371' 'seq140372' 'seq140373' 'seq140374' 'seq140375']\n",
      "(array(['proto'], dtype='<U5'), array([7595]))\n"
     ]
    }
   ],
   "source": [
    "settings.dataset_dir = \"/cellar/users/aklie/data/eugene/revision/jores21\"\n",
    "for zarr in [\"jores21_leaf_train.zarr\", \"jores21_proto_train.zarr\", \"jores21_leaf_test.zarr\", \"jores21_proto_test.zarr\"]:\n",
    "    print(zarr)\n",
    "    sdata = sd.open_zarr(os.path.join(settings.dataset_dir, zarr))\n",
    "    print(sdata.dims[\"_sequence\"])\n",
    "    print(np.unique(sdata[\"set\"].values, return_counts=True))\n",
    "    if \"train_val\" in sdata.data_vars:\n",
    "        print(np.unique(sdata[\"train_val\"].values, return_counts=True))\n",
    "    else:\n",
    "        print(\"No train_val column found\")\n",
    "    print(np.unique(sdata[\"sp\"].values, return_counts=True))\n",
    "    print(sdata[\"id\"].values[:5])\n",
    "    print(np.unique(sdata[\"batch\"].values, return_counts=True))"
   ]
  }
 ],
 "metadata": {
  "kernelspec": {
   "display_name": "Python 3.9 ml4gland",
   "language": "python",
   "name": "ml4gland"
  },
  "vscode": {
   "interpreter": {
    "hash": "949777d72b0d2535278d3dc13498b2535136f6dfe0678499012e853ee9abcab1"
   }
  }
 },
 "nbformat": 4,
 "nbformat_minor": 4
}
