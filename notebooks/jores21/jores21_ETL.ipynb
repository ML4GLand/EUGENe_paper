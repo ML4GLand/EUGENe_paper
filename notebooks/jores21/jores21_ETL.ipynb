{
 "cells": [
  {
   "cell_type": "markdown",
   "metadata": {},
   "source": [
    "# Jores et al 2021 Extract-Transform-Load\n",
    "**Authorship:**\n",
    "Adam Klie, *08/11/2022*\n",
    "***\n",
    "**Description:**\n",
    "Notebook to extract, transform, and load data from the Jores et al (2021) dataset.\n",
    "***"
   ]
  },
  {
   "cell_type": "code",
   "execution_count": 1,
   "metadata": {
    "execution": {
     "iopub.execute_input": "2022-09-12T19:37:18.122318Z",
     "iopub.status.busy": "2022-09-12T19:37:18.121977Z"
    },
    "tags": [],
    "vscode": {
     "languageId": "python"
    }
   },
   "outputs": [
    {
     "name": "stderr",
     "output_type": "stream",
     "text": [
      "Global seed set to 13\n"
     ]
    },
    {
     "name": "stdout",
     "output_type": "stream",
     "text": [
      "GPU is available: True\n",
      "Number of GPUs: 1\n",
      "Current GPU: 0\n",
      "GPUs: Quadro RTX 5000\n"
     ]
    },
    {
     "name": "stderr",
     "output_type": "stream",
     "text": [
      "Matplotlib is building the font cache; this may take a moment.\n"
     ]
    }
   ],
   "source": [
    "if 'autoreload' not in get_ipython().extension_manager.loaded:\n",
    "    %load_ext autoreload\n",
    "%autoreload 2\n",
    "\n",
    "import os\n",
    "import numpy as np\n",
    "import pandas as pd\n",
    "import eugene as eu\n",
    "eu.settings.dataset_dir = \"/cellar/users/aklie/data/eugene\""
   ]
  },
  {
   "cell_type": "markdown",
   "metadata": {},
   "source": [
    "# Download and load in the dataset to a raw `SeqData` object"
   ]
  },
  {
   "cell_type": "code",
   "execution_count": 2,
   "metadata": {
    "execution": {
     "iopub.execute_input": "2022-08-25T04:13:53.341963Z",
     "iopub.status.busy": "2022-08-25T04:13:53.341536Z",
     "iopub.status.idle": "2022-08-25T04:13:58.202616Z",
     "shell.execute_reply": "2022-08-25T04:13:58.202110Z",
     "shell.execute_reply.started": "2022-08-25T04:13:53.341944Z"
    },
    "tags": [],
    "vscode": {
     "languageId": "python"
    }
   },
   "outputs": [
    {
     "name": "stdout",
     "output_type": "stream",
     "text": [
      "Dataset jores21 CNN_test_leaf.tsv has already been dowloaded.\n",
      "Dataset jores21 CNN_train_leaf.tsv has already been dowloaded.\n",
      "Dataset jores21 CNN_train_proto.tsv has already been dowloaded.\n",
      "Dataset jores21 CNN_test_proto.tsv has already been dowloaded.\n"
     ]
    }
   ],
   "source": [
    "# Load in the downloaded datasets from the manuscript Github repo\n",
    "sdata_leaf_raw = eu.datasets.jores21(dataset=\"leaf\")\n",
    "sdata_proto_raw = eu.datasets.jores21(dataset=\"proto\")"
   ]
  },
  {
   "cell_type": "code",
   "execution_count": 3,
   "metadata": {
    "execution": {
     "iopub.execute_input": "2022-08-25T04:13:58.203492Z",
     "iopub.status.busy": "2022-08-25T04:13:58.203218Z",
     "iopub.status.idle": "2022-08-25T04:14:04.384430Z",
     "shell.execute_reply": "2022-08-25T04:14:04.383876Z",
     "shell.execute_reply.started": "2022-08-25T04:13:58.203472Z"
    },
    "tags": [],
    "vscode": {
     "languageId": "python"
    }
   },
   "outputs": [
    {
     "name": "stdout",
     "output_type": "stream",
     "text": [
      "--2022-08-24 21:14:02--  https://raw.githubusercontent.com/tobjores/Synthetic-Promoter-Designs-Enabled-by-a-Comprehensive-Analysis-of-Plant-Core-Promoters/main/analysis/validation_sequences/promoters_for_evolution.tsv\n",
      "Resolving raw.githubusercontent.com (raw.githubusercontent.com)... 185.199.109.133, 185.199.108.133, 185.199.111.133, ...\n",
      "Connecting to raw.githubusercontent.com (raw.githubusercontent.com)|185.199.109.133|:443... connected.\n",
      "HTTP request sent, awaiting response... 200 OK\n",
      "Length: 57854 (56K) [text/plain]\n",
      "Saving to: ‘/cellar/users/aklie/data/eugene/jores21/promoters_for_evolution.tsv’\n",
      "\n",
      "/cellar/users/aklie 100%[===================>]  56.50K  --.-KB/s    in 0.001s  \n",
      "\n",
      "2022-08-24 21:14:02 (48.3 MB/s) - ‘/cellar/users/aklie/data/eugene/jores21/promoters_for_evolution.tsv’ saved [57854/57854]\n",
      "\n",
      "--2022-08-24 21:14:03--  https://raw.githubusercontent.com/tobjores/Synthetic-Promoter-Designs-Enabled-by-a-Comprehensive-Analysis-of-Plant-Core-Promoters/main/data/misc/CPEs.meme\n",
      "Resolving raw.githubusercontent.com (raw.githubusercontent.com)... 185.199.108.133, 185.199.111.133, 185.199.109.133, ...\n",
      "Connecting to raw.githubusercontent.com (raw.githubusercontent.com)|185.199.108.133|:443... connected.\n",
      "HTTP request sent, awaiting response... 200 OK\n",
      "Length: 2913 (2.8K) [text/plain]\n",
      "Saving to: ‘/cellar/users/aklie/data/eugene/jores21/CPEs.meme’\n",
      "\n",
      "/cellar/users/aklie 100%[===================>]   2.84K  --.-KB/s    in 0s      \n",
      "\n",
      "2022-08-24 21:14:03 (8.83 MB/s) - ‘/cellar/users/aklie/data/eugene/jores21/CPEs.meme’ saved [2913/2913]\n",
      "\n",
      "--2022-08-24 21:14:04--  https://raw.githubusercontent.com/tobjores/Synthetic-Promoter-Designs-Enabled-by-a-Comprehensive-Analysis-of-Plant-Core-Promoters/main/data/misc/TF-clusters.meme\n",
      "Resolving raw.githubusercontent.com (raw.githubusercontent.com)... 185.199.111.133, 185.199.109.133, 185.199.110.133, ...\n",
      "Connecting to raw.githubusercontent.com (raw.githubusercontent.com)|185.199.111.133|:443... connected.\n",
      "HTTP request sent, awaiting response... 200 OK\n",
      "Length: 36718 (36K) [text/plain]\n",
      "Saving to: ‘/cellar/users/aklie/data/eugene/jores21/TF-clusters.meme’\n",
      "\n",
      "/cellar/users/aklie 100%[===================>]  35.86K  --.-KB/s    in 0.001s  \n",
      "\n",
      "2022-08-24 21:14:04 (53.1 MB/s) - ‘/cellar/users/aklie/data/eugene/jores21/TF-clusters.meme’ saved [36718/36718]\n",
      "\n"
     ]
    }
   ],
   "source": [
    "# Download metadata, promoters to evolve and motifs in MEME format (TODO: add to jores21 datasets module function)\n",
    "!wget https://static-content.springer.com/esm/art%3A10.1038%2Fs41477-021-00932-y/MediaObjects/41477_2021_932_MOESM3_ESM.xlsx -O /cellar/users/aklie/data/eugene/jores21/41477_2021_932_MOESM3_ESM.xlsx\n",
    "!wget https://raw.githubusercontent.com/tobjores/Synthetic-Promoter-Designs-Enabled-by-a-Comprehensive-Analysis-of-Plant-Core-Promoters/main/analysis/validation_sequences/promoters_for_evolution.tsv -O /cellar/users/aklie/data/eugene/jores21/promoters_for_evolution.tsv\n",
    "!wget https://raw.githubusercontent.com/tobjores/Synthetic-Promoter-Designs-Enabled-by-a-Comprehensive-Analysis-of-Plant-Core-Promoters/main/data/misc/CPEs.meme -O /cellar/users/aklie/data/eugene/jores21/CPEs.meme\n",
    "!wget https://raw.githubusercontent.com/tobjores/Synthetic-Promoter-Designs-Enabled-by-a-Comprehensive-Analysis-of-Plant-Core-Promoters/main/data/misc/TF-clusters.meme -O /cellar/users/aklie/data/eugene/jores21/TF-clusters.meme"
   ]
  },
  {
   "cell_type": "code",
   "execution_count": 3,
   "metadata": {
    "execution": {
     "iopub.execute_input": "2022-08-25T04:16:05.939185Z",
     "iopub.status.busy": "2022-08-25T04:16:05.938781Z",
     "iopub.status.idle": "2022-08-25T04:16:09.662832Z",
     "shell.execute_reply": "2022-08-25T04:16:09.662334Z",
     "shell.execute_reply.started": "2022-08-25T04:16:05.939164Z"
    },
    "tags": [],
    "vscode": {
     "languageId": "python"
    }
   },
   "outputs": [],
   "source": [
    "# Concatenate the datasets into a combined SeqData object\n",
    "sdata_combined_raw = eu.dl.concat([sdata_leaf_raw, sdata_proto_raw], keys=[\"leaf\", \"proto\"])\n",
    "sdata_combined_raw.make_names_unique()"
   ]
  },
  {
   "cell_type": "code",
   "execution_count": 4,
   "metadata": {
    "execution": {
     "iopub.execute_input": "2022-08-25T04:16:09.663876Z",
     "iopub.status.busy": "2022-08-25T04:16:09.663695Z",
     "iopub.status.idle": "2022-08-25T04:16:13.514654Z",
     "shell.execute_reply": "2022-08-25T04:16:13.514179Z",
     "shell.execute_reply.started": "2022-08-25T04:16:09.663860Z"
    },
    "tags": [],
    "vscode": {
     "languageId": "python"
    }
   },
   "outputs": [
    {
     "data": {
      "text/html": [
       "<div>\n",
       "<style scoped>\n",
       "    .dataframe tbody tr th:only-of-type {\n",
       "        vertical-align: middle;\n",
       "    }\n",
       "\n",
       "    .dataframe tbody tr th {\n",
       "        vertical-align: top;\n",
       "    }\n",
       "\n",
       "    .dataframe thead th {\n",
       "        text-align: right;\n",
       "    }\n",
       "</style>\n",
       "<table border=\"1\" class=\"dataframe\">\n",
       "  <thead>\n",
       "    <tr style=\"text-align: right;\">\n",
       "      <th></th>\n",
       "      <th>set</th>\n",
       "      <th>sp</th>\n",
       "      <th>gene</th>\n",
       "      <th>enrichment</th>\n",
       "      <th>batch</th>\n",
       "    </tr>\n",
       "  </thead>\n",
       "  <tbody>\n",
       "    <tr>\n",
       "      <th>seq000000</th>\n",
       "      <td>test</td>\n",
       "      <td>At</td>\n",
       "      <td>AT5G03425</td>\n",
       "      <td>-0.537451</td>\n",
       "      <td>leaf</td>\n",
       "    </tr>\n",
       "    <tr>\n",
       "      <th>seq000001</th>\n",
       "      <td>test</td>\n",
       "      <td>Sb</td>\n",
       "      <td>ENSRNA049996419</td>\n",
       "      <td>4.108127</td>\n",
       "      <td>leaf</td>\n",
       "    </tr>\n",
       "    <tr>\n",
       "      <th>seq000002</th>\n",
       "      <td>test</td>\n",
       "      <td>Zm</td>\n",
       "      <td>ENSRNA049997541</td>\n",
       "      <td>-0.718419</td>\n",
       "      <td>leaf</td>\n",
       "    </tr>\n",
       "    <tr>\n",
       "      <th>seq000003</th>\n",
       "      <td>test</td>\n",
       "      <td>Sb</td>\n",
       "      <td>ENSRNA049996013</td>\n",
       "      <td>1.340581</td>\n",
       "      <td>leaf</td>\n",
       "    </tr>\n",
       "    <tr>\n",
       "      <th>seq000004</th>\n",
       "      <td>test</td>\n",
       "      <td>At</td>\n",
       "      <td>AT4G04125</td>\n",
       "      <td>4.227307</td>\n",
       "      <td>leaf</td>\n",
       "    </tr>\n",
       "  </tbody>\n",
       "</table>\n",
       "</div>"
      ],
      "text/plain": [
       "            set  sp             gene  enrichment batch\n",
       "seq000000  test  At        AT5G03425   -0.537451  leaf\n",
       "seq000001  test  Sb  ENSRNA049996419    4.108127  leaf\n",
       "seq000002  test  Zm  ENSRNA049997541   -0.718419  leaf\n",
       "seq000003  test  Sb  ENSRNA049996013    1.340581  leaf\n",
       "seq000004  test  At        AT4G04125    4.227307  leaf"
      ]
     },
     "execution_count": 4,
     "metadata": {},
     "output_type": "execute_result"
    }
   ],
   "source": [
    "# Give a quick check of this dataset\n",
    "sdata_combined_raw.seqs_annot.head()"
   ]
  },
  {
   "cell_type": "code",
   "execution_count": 5,
   "metadata": {
    "execution": {
     "iopub.execute_input": "2022-08-25T04:16:13.515469Z",
     "iopub.status.busy": "2022-08-25T04:16:13.515289Z",
     "iopub.status.idle": "2022-08-25T04:16:35.629391Z",
     "shell.execute_reply": "2022-08-25T04:16:35.628966Z",
     "shell.execute_reply.started": "2022-08-25T04:16:13.515453Z"
    },
    "tags": [],
    "vscode": {
     "languageId": "python"
    }
   },
   "outputs": [
    {
     "data": {
      "text/plain": [
       "76712"
      ]
     },
     "execution_count": 5,
     "metadata": {},
     "output_type": "execute_result"
    }
   ],
   "source": [
    "# Load some other sequence features\n",
    "smetadata = pd.read_excel(\n",
    "    os.path.join(eu.settings.dataset_dir, \"jores21\", \"41477_2021_932_MOESM3_ESM.xlsx\"),\n",
    "    sheet_name=0, \n",
    "    skiprows=3, \n",
    ")\n",
    "smetadata.drop(columns=[\"species\", \"gene\"], inplace=True)\n",
    "smetadata[\"sequence\"].isin(sdata_combined_raw.seqs).sum()"
   ]
  },
  {
   "cell_type": "code",
   "execution_count": 6,
   "metadata": {
    "execution": {
     "iopub.execute_input": "2022-08-25T04:16:35.630671Z",
     "iopub.status.busy": "2022-08-25T04:16:35.630477Z",
     "iopub.status.idle": "2022-08-25T04:16:39.179774Z",
     "shell.execute_reply": "2022-08-25T04:16:39.178247Z",
     "shell.execute_reply.started": "2022-08-25T04:16:35.630654Z"
    },
    "tags": [],
    "vscode": {
     "languageId": "python"
    }
   },
   "outputs": [],
   "source": [
    "# Add the sequence annotations to the combined SeqData object\n",
    "sdata_combined_raw[\"sequence\"] = sdata_combined_raw.seqs\n",
    "sdata_combined_raw.seqs_annot = sdata_combined_raw.seqs_annot.merge(smetadata, on=\"sequence\", how=\"left\")\n",
    "sdata_combined_raw.seqs_annot.drop(columns=[\"sequence\", \"UTR\"], inplace=True)"
   ]
  },
  {
   "cell_type": "code",
   "execution_count": 7,
   "metadata": {
    "execution": {
     "iopub.execute_input": "2022-08-25T04:16:39.180913Z",
     "iopub.status.busy": "2022-08-25T04:16:39.180621Z",
     "iopub.status.idle": "2022-08-25T04:16:43.913416Z",
     "shell.execute_reply": "2022-08-25T04:16:43.912939Z",
     "shell.execute_reply.started": "2022-08-25T04:16:39.180895Z"
    },
    "tags": [],
    "vscode": {
     "languageId": "python"
    }
   },
   "outputs": [],
   "source": [
    "# Save raw versions of these three\n",
    "sdata_leaf_raw.write_h5sd(os.path.join(eu.settings.dataset_dir, \"jores21\", \"leaf_raw.h5sd\"))\n",
    "sdata_proto_raw.write_h5sd(os.path.join(eu.settings.dataset_dir, \"jores21\", \"proto_raw.h5sd\"))\n",
    "sdata_combined_raw.write_h5sd(os.path.join(eu.settings.dataset_dir, \"jores21\", \"combined_raw.h5sd\"))"
   ]
  },
  {
   "cell_type": "markdown",
   "metadata": {},
   "source": [
    "# Transform the input data in the combined SeqData object"
   ]
  },
  {
   "cell_type": "code",
   "execution_count": 8,
   "metadata": {
    "execution": {
     "iopub.execute_input": "2022-08-25T04:16:43.914251Z",
     "iopub.status.busy": "2022-08-25T04:16:43.914102Z",
     "iopub.status.idle": "2022-08-25T04:17:04.503475Z",
     "shell.execute_reply": "2022-08-25T04:17:04.502981Z",
     "shell.execute_reply.started": "2022-08-25T04:16:43.914235Z"
    },
    "tags": [],
    "vscode": {
     "languageId": "python"
    }
   },
   "outputs": [
    {
     "data": {
      "application/vnd.jupyter.widget-view+json": {
       "model_id": "f60ab05b9a1342b99a655b286d86426d",
       "version_major": 2,
       "version_minor": 0
      },
      "text/plain": [
       "One-hot encoding sequences:   0%|          | 0/147966 [00:00<?, ?it/s]"
      ]
     },
     "metadata": {},
     "output_type": "display_data"
    },
    {
     "name": "stdout",
     "output_type": "stream",
     "text": [
      "SeqData object modified:\n",
      "\tohe_seqs: None -> 147966 ohe_seqs added\n",
      "SeqData object modified:\n",
      "\tohe_rev_seqs: None -> 147966 ohe_rev_seqs added\n"
     ]
    }
   ],
   "source": [
    "# Add reverse complement sequences and one-hot encoded sequences (forward and reverse complement)\n",
    "eu.pp.ohe_seqs_sdata(sdata_combined_raw)\n",
    "eu.pp.reverse_complement_seqs_sdata(sdata_combined_raw)"
   ]
  },
  {
   "cell_type": "code",
   "execution_count": 9,
   "metadata": {
    "execution": {
     "iopub.execute_input": "2022-08-25T04:17:04.504308Z",
     "iopub.status.busy": "2022-08-25T04:17:04.504127Z",
     "iopub.status.idle": "2022-08-25T04:17:09.771240Z",
     "shell.execute_reply": "2022-08-25T04:17:09.770762Z",
     "shell.execute_reply.started": "2022-08-25T04:17:04.504293Z"
    },
    "tags": [],
    "vscode": {
     "languageId": "python"
    }
   },
   "outputs": [],
   "source": [
    "# Save the combined processed SeqData object\n",
    "sdata_combined_raw.write_h5sd(os.path.join(eu.settings.dataset_dir, \"jores21\", \"combined_processed.h5sd\"))"
   ]
  },
  {
   "cell_type": "code",
   "execution_count": 10,
   "metadata": {
    "execution": {
     "iopub.execute_input": "2022-08-25T04:17:09.772055Z",
     "iopub.status.busy": "2022-08-25T04:17:09.771867Z",
     "iopub.status.idle": "2022-08-25T04:17:13.289604Z",
     "shell.execute_reply": "2022-08-25T04:17:13.289109Z",
     "shell.execute_reply.started": "2022-08-25T04:17:09.772038Z"
    },
    "tags": [],
    "vscode": {
     "languageId": "python"
    }
   },
   "outputs": [],
   "source": [
    "# Subset back to leaf and proto objects\n",
    "sdata_leaf_processed = sdata_combined_raw[sdata_combined_raw[\"batch\"] == \"leaf\"]\n",
    "sdata_proto_processed = sdata_combined_raw[sdata_combined_raw[\"batch\"] == \"proto\"]"
   ]
  },
  {
   "cell_type": "code",
   "execution_count": 11,
   "metadata": {
    "execution": {
     "iopub.execute_input": "2022-08-25T04:17:13.291091Z",
     "iopub.status.busy": "2022-08-25T04:17:13.290913Z",
     "iopub.status.idle": "2022-08-25T04:17:16.051004Z",
     "shell.execute_reply": "2022-08-25T04:17:16.050356Z",
     "shell.execute_reply.started": "2022-08-25T04:17:13.291075Z"
    },
    "tags": [],
    "vscode": {
     "languageId": "python"
    }
   },
   "outputs": [],
   "source": [
    "# Split each of the three datases into training and train sets\n",
    "sdata_leaf_train = sdata_leaf_processed[sdata_leaf_processed[\"set\"] == \"train\"]\n",
    "sdata_proto_train = sdata_proto_processed[sdata_proto_processed[\"set\"] == \"train\"]\n",
    "sdata_combined_train = sdata_combined_raw[sdata_combined_raw[\"set\"] == \"train\"]\n",
    "sdata_leaf_test = sdata_leaf_processed[sdata_leaf_processed[\"set\"] == \"test\"]\n",
    "sdata_proto_test = sdata_proto_processed[sdata_proto_processed[\"set\"] == \"test\"]\n",
    "sdata_combined_test = sdata_combined_raw[sdata_combined_raw[\"set\"] == \"test\"]"
   ]
  },
  {
   "cell_type": "code",
   "execution_count": 13,
   "metadata": {
    "execution": {
     "iopub.execute_input": "2022-08-25T04:17:16.052018Z",
     "iopub.status.busy": "2022-08-25T04:17:16.051723Z",
     "iopub.status.idle": "2022-08-25T04:17:19.403478Z",
     "shell.execute_reply": "2022-08-25T04:17:19.403024Z",
     "shell.execute_reply.started": "2022-08-25T04:17:16.052000Z"
    },
    "tags": [],
    "vscode": {
     "languageId": "python"
    }
   },
   "outputs": [
    {
     "name": "stdout",
     "output_type": "stream",
     "text": [
      "SeqData object modified:\n",
      "    seqs_annot:\n",
      "        + train_val\n",
      "SeqData object modified:\n",
      "    seqs_annot:\n",
      "        + train_val\n"
     ]
    }
   ],
   "source": [
    "# Add in a column signifying whether the sequence is in the training set or the validation set\n",
    "eu.pp.train_test_split_sdata(sdata_leaf_train, train_key=\"train_val\", split=0.9)\n",
    "eu.pp.train_test_split_sdata(sdata_proto_train, train_key=\"train_val\", split=0.9)"
   ]
  },
  {
   "cell_type": "code",
   "execution_count": 14,
   "metadata": {
    "execution": {
     "iopub.execute_input": "2022-08-25T04:17:19.404421Z",
     "iopub.status.busy": "2022-08-25T04:17:19.404144Z",
     "iopub.status.idle": "2022-08-25T04:17:27.182640Z",
     "shell.execute_reply": "2022-08-25T04:17:27.182135Z",
     "shell.execute_reply.started": "2022-08-25T04:17:19.404404Z"
    },
    "tags": [],
    "vscode": {
     "languageId": "python"
    }
   },
   "outputs": [],
   "source": [
    "# Save all the sets\n",
    "sdata_leaf_processed.write_h5sd(os.path.join(eu.settings.dataset_dir, \"jores21\", \"leaf_processed.h5sd\"))\n",
    "sdata_proto_processed.write_h5sd(os.path.join(eu.settings.dataset_dir, \"jores21\", \"proto_processed.h5sd\"))\n",
    "sdata_leaf_train.write_h5sd(os.path.join(eu.settings.dataset_dir, \"jores21\", \"leaf_processed_train.h5sd\"))\n",
    "sdata_proto_train.write_h5sd(os.path.join(eu.settings.dataset_dir, \"jores21\", \"proto_processed_train.h5sd\"))\n",
    "sdata_combined_train.write_h5sd(os.path.join(eu.settings.dataset_dir, \"jores21\", \"combined_processed_train.h5sd\"))\n",
    "sdata_leaf_test.write_h5sd(os.path.join(eu.settings.dataset_dir, \"jores21\", \"leaf_processed_test.h5sd\"))\n",
    "sdata_proto_test.write_h5sd(os.path.join(eu.settings.dataset_dir, \"jores21\", \"proto_processed_test.h5sd\"))\n",
    "sdata_combined_test.write_h5sd(os.path.join(eu.settings.dataset_dir, \"jores21\", \"combined_processed_test.h5sd\"))"
   ]
  },
  {
   "cell_type": "markdown",
   "metadata": {},
   "source": [
    "---"
   ]
  },
  {
   "cell_type": "markdown",
   "metadata": {},
   "source": [
    "# Scratch"
   ]
  }
 ],
 "metadata": {
  "kernelspec": {
   "display_name": "Python 3.7 eugene_dev",
   "language": "python",
   "name": "eugene_dev"
  },
  "vscode": {
   "interpreter": {
    "hash": "949777d72b0d2535278d3dc13498b2535136f6dfe0678499012e853ee9abcab1"
   }
  }
 },
 "nbformat": 4,
 "nbformat_minor": 4
}
