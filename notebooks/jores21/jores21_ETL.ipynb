{
 "cells": [
  {
   "cell_type": "markdown",
   "metadata": {},
   "source": [
    "# Jores et al 2021 Extract-Transform-Load\n",
    "**Authorship:**\n",
    "Adam Klie, *08/11/2022*\n",
    "***\n",
    "**Description:**\n",
    "Notebook to extract, transform, and load (ETL) data from the Jores et al (2021) dataset.\n",
    "***"
   ]
  },
  {
   "cell_type": "code",
   "execution_count": null,
   "metadata": {
    "tags": [],
    "vscode": {
     "languageId": "python"
    }
   },
   "outputs": [],
   "source": [
    "if 'autoreload' not in get_ipython().extension_manager.loaded:\n",
    "    %load_ext autoreload\n",
    "%autoreload 2\n",
    "\n",
    "import os\n",
    "import numpy as np\n",
    "import pandas as pd\n",
    "import eugene as eu\n",
    "eu.settings.dataset_dir = \"/cellar/users/aklie/data/eugene\""
   ]
  },
  {
   "cell_type": "markdown",
   "metadata": {},
   "source": [
    "# Download and load in the dataset to a raw `SeqData` object"
   ]
  },
  {
   "cell_type": "code",
   "execution_count": null,
   "metadata": {
    "tags": [],
    "vscode": {
     "languageId": "python"
    }
   },
   "outputs": [],
   "source": [
    "# Load in the downloaded datasets from the manuscript Github repo\n",
    "sdata_leaf_raw = eu.datasets.jores21(dataset=\"leaf\")\n",
    "sdata_proto_raw = eu.datasets.jores21(dataset=\"proto\")"
   ]
  },
  {
   "cell_type": "code",
   "execution_count": null,
   "metadata": {
    "tags": [],
    "vscode": {
     "languageId": "python"
    }
   },
   "outputs": [],
   "source": [
    "# Download metadata, promoters to evolve and motifs in MEME format (TODO: add to jores21 datasets module function)\n",
    "!wget https://static-content.springer.com/esm/art%3A10.1038%2Fs41477-021-00932-y/MediaObjects/41477_2021_932_MOESM3_ESM.xlsx -O /cellar/users/aklie/data/eugene/jores21/41477_2021_932_MOESM3_ESM.xlsx\n",
    "!wget https://raw.githubusercontent.com/tobjores/Synthetic-Promoter-Designs-Enabled-by-a-Comprehensive-Analysis-of-Plant-Core-Promoters/main/analysis/validation_sequences/promoters_for_evolution.tsv -O /cellar/users/aklie/data/eugene/jores21/promoters_for_evolution.tsv\n",
    "!wget https://raw.githubusercontent.com/tobjores/Synthetic-Promoter-Designs-Enabled-by-a-Comprehensive-Analysis-of-Plant-Core-Promoters/main/data/misc/CPEs.meme -O /cellar/users/aklie/data/eugene/jores21/CPEs.meme\n",
    "!wget https://raw.githubusercontent.com/tobjores/Synthetic-Promoter-Designs-Enabled-by-a-Comprehensive-Analysis-of-Plant-Core-Promoters/main/data/misc/TF-clusters.meme -O /cellar/users/aklie/data/eugene/jores21/TF-clusters.meme"
   ]
  },
  {
   "cell_type": "code",
   "execution_count": null,
   "metadata": {
    "tags": [],
    "vscode": {
     "languageId": "python"
    }
   },
   "outputs": [],
   "source": [
    "# Concatenate the datasets into a combined SeqData object\n",
    "sdata_combined_raw = eu.dl.concat([sdata_leaf_raw, sdata_proto_raw], keys=[\"leaf\", \"proto\"])\n",
    "sdata_combined_raw.make_names_unique()"
   ]
  },
  {
   "cell_type": "code",
   "execution_count": null,
   "metadata": {
    "tags": [],
    "vscode": {
     "languageId": "python"
    }
   },
   "outputs": [],
   "source": [
    "# Give a quick check of this dataset\n",
    "sdata_combined_raw.seqs_annot.head()"
   ]
  },
  {
   "cell_type": "code",
   "execution_count": null,
   "metadata": {
    "tags": [],
    "vscode": {
     "languageId": "python"
    }
   },
   "outputs": [],
   "source": [
    "# Load some other sequence features\n",
    "smetadata = pd.read_excel(\n",
    "    os.path.join(eu.settings.dataset_dir, \"jores21\", \"41477_2021_932_MOESM3_ESM.xlsx\"),\n",
    "    sheet_name=0, \n",
    "    skiprows=3, \n",
    ")\n",
    "smetadata.drop(columns=[\"species\", \"gene\"], inplace=True)\n",
    "smetadata[\"sequence\"].isin(sdata_combined_raw.seqs).sum()"
   ]
  },
  {
   "cell_type": "code",
   "execution_count": null,
   "metadata": {
    "tags": [],
    "vscode": {
     "languageId": "python"
    }
   },
   "outputs": [],
   "source": [
    "# Add the sequence annotations to the combined SeqData object\n",
    "sdata_combined_raw[\"sequence\"] = sdata_combined_raw.seqs\n",
    "sdata_combined_raw.seqs_annot = sdata_combined_raw.seqs_annot.merge(smetadata, on=\"sequence\", how=\"left\")\n",
    "sdata_combined_raw.seqs_annot.drop(columns=[\"sequence\", \"UTR\"], inplace=True)"
   ]
  },
  {
   "cell_type": "code",
   "execution_count": null,
   "metadata": {
    "tags": [],
    "vscode": {
     "languageId": "python"
    }
   },
   "outputs": [],
   "source": [
    "# Save raw versions of these three\n",
    "sdata_leaf_raw.write_h5sd(os.path.join(eu.settings.dataset_dir, \"jores21\", \"leaf_raw.h5sd\"))\n",
    "sdata_proto_raw.write_h5sd(os.path.join(eu.settings.dataset_dir, \"jores21\", \"proto_raw.h5sd\"))\n",
    "sdata_combined_raw.write_h5sd(os.path.join(eu.settings.dataset_dir, \"jores21\", \"combined_raw.h5sd\"))"
   ]
  },
  {
   "cell_type": "markdown",
   "metadata": {},
   "source": [
    "# Transform the input data in the combined SeqData object"
   ]
  },
  {
   "cell_type": "code",
   "execution_count": null,
   "metadata": {
    "tags": [],
    "vscode": {
     "languageId": "python"
    }
   },
   "outputs": [],
   "source": [
    "# Add reverse complement sequences and one-hot encoded sequences (forward and reverse complement)\n",
    "eu.pp.ohe_seqs_sdata(sdata_combined_raw)\n",
    "eu.pp.reverse_complement_seqs_sdata(sdata_combined_raw)"
   ]
  },
  {
   "cell_type": "code",
   "execution_count": null,
   "metadata": {
    "tags": [],
    "vscode": {
     "languageId": "python"
    }
   },
   "outputs": [],
   "source": [
    "# Save the combined processed SeqData object\n",
    "sdata_combined_raw.write_h5sd(os.path.join(eu.settings.dataset_dir, \"jores21\", \"combined_processed.h5sd\"))"
   ]
  },
  {
   "cell_type": "code",
   "execution_count": null,
   "metadata": {
    "tags": [],
    "vscode": {
     "languageId": "python"
    }
   },
   "outputs": [],
   "source": [
    "# Subset back to leaf and proto objects\n",
    "sdata_leaf_processed = sdata_combined_raw[sdata_combined_raw[\"batch\"] == \"leaf\"]\n",
    "sdata_proto_processed = sdata_combined_raw[sdata_combined_raw[\"batch\"] == \"proto\"]"
   ]
  },
  {
   "cell_type": "code",
   "execution_count": null,
   "metadata": {
    "tags": [],
    "vscode": {
     "languageId": "python"
    }
   },
   "outputs": [],
   "source": [
    "# Split each of the three datases into training and train sets\n",
    "sdata_leaf_train = sdata_leaf_processed[sdata_leaf_processed[\"set\"] == \"train\"]\n",
    "sdata_proto_train = sdata_proto_processed[sdata_proto_processed[\"set\"] == \"train\"]\n",
    "sdata_combined_train = sdata_combined_raw[sdata_combined_raw[\"set\"] == \"train\"]\n",
    "sdata_leaf_test = sdata_leaf_processed[sdata_leaf_processed[\"set\"] == \"test\"]\n",
    "sdata_proto_test = sdata_proto_processed[sdata_proto_processed[\"set\"] == \"test\"]\n",
    "sdata_combined_test = sdata_combined_raw[sdata_combined_raw[\"set\"] == \"test\"]"
   ]
  },
  {
   "cell_type": "code",
   "execution_count": null,
   "metadata": {
    "tags": [],
    "vscode": {
     "languageId": "python"
    }
   },
   "outputs": [],
   "source": [
    "# Add in a column signifying whether the sequence is in the training set or the validation set\n",
    "eu.pp.train_test_split_sdata(sdata_leaf_train, train_key=\"train_val\", split=0.9)\n",
    "eu.pp.train_test_split_sdata(sdata_proto_train, train_key=\"train_val\", split=0.9)"
   ]
  },
  {
   "cell_type": "code",
   "execution_count": null,
   "metadata": {
    "tags": [],
    "vscode": {
     "languageId": "python"
    }
   },
   "outputs": [],
   "source": [
    "# Save all the sets\n",
    "sdata_leaf_processed.write_h5sd(os.path.join(eu.settings.dataset_dir, \"jores21\", \"leaf_processed.h5sd\"))\n",
    "sdata_proto_processed.write_h5sd(os.path.join(eu.settings.dataset_dir, \"jores21\", \"proto_processed.h5sd\"))\n",
    "sdata_leaf_train.write_h5sd(os.path.join(eu.settings.dataset_dir, \"jores21\", \"leaf_processed_train.h5sd\"))\n",
    "sdata_proto_train.write_h5sd(os.path.join(eu.settings.dataset_dir, \"jores21\", \"proto_processed_train.h5sd\"))\n",
    "sdata_combined_train.write_h5sd(os.path.join(eu.settings.dataset_dir, \"jores21\", \"combined_processed_train.h5sd\"))\n",
    "sdata_leaf_test.write_h5sd(os.path.join(eu.settings.dataset_dir, \"jores21\", \"leaf_processed_test.h5sd\"))\n",
    "sdata_proto_test.write_h5sd(os.path.join(eu.settings.dataset_dir, \"jores21\", \"proto_processed_test.h5sd\"))\n",
    "sdata_combined_test.write_h5sd(os.path.join(eu.settings.dataset_dir, \"jores21\", \"combined_processed_test.h5sd\"))"
   ]
  },
  {
   "cell_type": "markdown",
   "metadata": {},
   "source": [
    "---"
   ]
  }
 ],
 "metadata": {
  "kernelspec": {
   "display_name": "Python 3.7 eugene_dev",
   "language": "python",
   "name": "eugene_dev"
  },
  "language_info": {
   "codemirror_mode": {
    "name": "ipython",
    "version": 3
   },
   "file_extension": ".py",
   "mimetype": "text/x-python",
   "name": "python",
   "nbconvert_exporter": "python",
   "pygments_lexer": "ipython3",
   "version": "3.7.12"
  },
  "vscode": {
   "interpreter": {
    "hash": "949777d72b0d2535278d3dc13498b2535136f6dfe0678499012e853ee9abcab1"
   }
  }
 },
 "nbformat": 4,
 "nbformat_minor": 4
}
