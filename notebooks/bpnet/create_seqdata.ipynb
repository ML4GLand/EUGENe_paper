{
 "cells": [
  {
   "cell_type": "code",
   "execution_count": null,
   "metadata": {},
   "outputs": [],
   "source": [
    "# sdata = sd.from_region_files(\n",
    "#     sd.GenomeFASTA(\n",
    "#         'seq',\n",
    "#         fasta,\n",
    "#         batch_size=2048,\n",
    "#         n_threads=4,\n",
    "#     ),\n",
    "#     sd.BigWig(\n",
    "#         'cov',\n",
    "#         bigwigs,\n",
    "#         sample_names,\n",
    "#         batch_size=2048,\n",
    "#         n_jobs=4,\n",
    "#         threads_per_job=2,\n",
    "#     ),\n",
    "#     path=out,\n",
    "#     fixed_length=2114,\n",
    "#     bed=peaks,\n",
    "#     overwrite=True,\n",
    "#     max_jitter=128\n",
    "# )"
   ]
  },
  {
   "cell_type": "code",
   "execution_count": null,
   "metadata": {},
   "outputs": [],
   "source": [
    "# Split cov into control and signal\n",
    "sdata['control'] = (\n",
    "    sdata.cov.sel(cov_sample=['control+', 'control-'])\n",
    "    .rename({'cov_sample': 'cov_strand'})\n",
    "    .assign_coords({'cov_strand': ['+', '-']})\n",
    ")\n",
    "sdata['signal'] = (\n",
    "    sdata.cov.sel(cov_sample=['signal+', 'signal-'])\n",
    "    .rename({'cov_sample': 'cov_strand'})\n",
    "    .assign_coords({'cov_strand': ['+', '-']})\n",
    ")\n",
    "sdata = sdata.drop_vars(['cov', 'cov_sample'])\n",
    "sdata"
   ]
  }
 ],
 "metadata": {
  "language_info": {
   "name": "python"
  },
  "orig_nbformat": 4
 },
 "nbformat": 4,
 "nbformat_minor": 2
}
