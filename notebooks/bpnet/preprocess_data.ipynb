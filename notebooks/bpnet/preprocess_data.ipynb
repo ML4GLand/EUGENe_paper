{
 "cells": [
  {
   "attachments": {},
   "cell_type": "markdown",
   "metadata": {},
   "source": [
    "# Prep data for training a BPNet model\n",
    "This notebook follows the tutorial at from https://github.com/kundajelab/basepairmodels. It is used to prepare the data for the training a BPNet model with Jacob Schreiber's BPNet implementation. The data is downloaded from the ENCODE portal from a ChIP-seq experiment of CTCF in K562 cells.\n",
    "\n",
    "**Expected output:**\n",
    "1. Positive and negative strand coverage BigWig files for the CTCF ChIP-seq experiment in K562 cells (2 merged replicates)\n",
    "2. A BED file with the CTCF ChIP-seq peaks in K562 cells\n",
    "3. Positive and negative strand coverage BigWig files for the control"
   ]
  },
  {
   "attachments": {},
   "cell_type": "markdown",
   "metadata": {},
   "source": [
    "# Get the bam files for the CTCF ChIP-seq experiment in K562 cells"
   ]
  },
  {
   "cell_type": "code",
   "execution_count": null,
   "metadata": {},
   "outputs": [],
   "source": [
    "# Download from ENCODE\n",
    "!wget https://www.encodeproject.org/files/ENCFF198CVB/@@download/ENCFF198CVB.bam -O rep1.bam\n",
    "!wget https://www.encodeproject.org/files/ENCFF488CXC/@@download/ENCFF488CXC.bam -O rep2.bam\n",
    "!wget https://www.encodeproject.org/files/ENCFF023NGN/@@download/ENCFF023NGN.bam -O control.bam"
   ]
  },
  {
   "attachments": {},
   "cell_type": "markdown",
   "metadata": {},
   "source": [
    "# Merge the bams and index"
   ]
  },
  {
   "cell_type": "code",
   "execution_count": null,
   "metadata": {},
   "outputs": [],
   "source": [
    "# Create a merged bam file from both replicates amd index it\n",
    "!samtools merge -f merged.bam rep1.bam rep2.bam\n",
    "!samtools index merged.bam"
   ]
  },
  {
   "attachments": {},
   "cell_type": "markdown",
   "metadata": {},
   "source": [
    "# Get chrom sizes and fasta"
   ]
  },
  {
   "cell_type": "code",
   "execution_count": null,
   "metadata": {},
   "outputs": [],
   "source": [
    "# Download the reference genome and index it, also download the chromosome sizes (need a special version from ENCODE DCC)\n",
    "!wget https://raw.githubusercontent.com/ENCODE-DCC/encValData/master/GRCh38/GRCh38_EBV.chrom.sizes\n",
    "!wget https://hgdownload.soe.ucsc.edu/goldenPath/hg38/bigZips/hg38.fa.gz\n",
    "!gunzip hg38.fa.gz\n",
    "!samtools faidx hg38.fa"
   ]
  },
  {
   "attachments": {},
   "cell_type": "markdown",
   "metadata": {},
   "source": [
    "# Make bigWig files through bedGraph\n",
    "[BEDGRAPH](http://genome.ucsc.edu/goldenPath/help/bedgraph.html) files reprot consecutive positions with the same coverage as a single output line. They describe the start and end coordinate of the interval having the coverage level, followed by the coverage level itself.\n",
    "\n",
    "[bedGraphToBigWig download](http://hgdownload.soe.ucsc.edu/admin/exe/macOSX.x86_64/bedGraphToBigWig)"
   ]
  },
  {
   "attachments": {},
   "cell_type": "markdown",
   "metadata": {},
   "source": [
    "## Signal files"
   ]
  },
  {
   "cell_type": "code",
   "execution_count": null,
   "metadata": {},
   "outputs": [],
   "source": [
    "# get coverage of 5’ positions of the plus strand\n",
    "!bedtools genomecov -5 -bg -strand + \\\n",
    "        -g GRCh38_EBV.chrom.sizes -ibam merged.bam \\\n",
    "        | sort -k1,1 -k2,2n > plus.bedGraph\n",
    "\n",
    "# get coverage of 5’ positions of the minus strand\n",
    "!bedtools genomecov -5 -bg -strand - \\\n",
    "        -g GRCh38_EBV.chrom.sizes -ibam merged.bam \\\n",
    "        | sort -k1,1 -k2,2n > minus.bedGraph\n",
    "\n",
    "# Convert bedGraph files to bigWig files (will need to download bedGraphToBigWig from UCSC)\n",
    "!bedGraphToBigWig plus.bedGraph GRCh38_EBV.chrom.sizes plus.bw\n",
    "!bedGraphToBigWig minus.bedGraph GRCh38_EBV.chrom.sizes minus.bw"
   ]
  },
  {
   "attachments": {},
   "cell_type": "markdown",
   "metadata": {},
   "source": [
    "## Control files"
   ]
  },
  {
   "cell_type": "code",
   "execution_count": null,
   "metadata": {},
   "outputs": [],
   "source": [
    "# get coverage of 5’ positions of the plus strand\n",
    "!bedtools genomecov -5 -bg -strand + \\\n",
    "        -g GRCh38_EBV.chrom.sizes -ibam control.bam \\\n",
    "        | sort -k1,1 -k2,2n > control_plus.bedGraph\n",
    "\n",
    "!bedtools genomecov -5 -bg -strand - \\\n",
    "        -g GRCh38_EBV.chrom.sizes -ibam control.bam \\\n",
    "         | sort -k1,1 -k2,2n > control_minus.bedGraph\n",
    "\n",
    "# Convert bedGraph files to bigWig files (will need to download bedGraphToBigWig from UCSC)\n",
    "!bedGraphToBigWig control_plus.bedGraph GRCh38_EBV.chrom.sizes control_plus.bw\n",
    "!bedGraphToBigWig control_minus.bedGraph GRCh38_EBV.chrom.sizes control_minus.bw"
   ]
  },
  {
   "attachments": {},
   "cell_type": "markdown",
   "metadata": {},
   "source": [
    "# Peaks\n",
    "Normally we would call these from our bams, but here we will use the peaks from the ENCODE portal."
   ]
  },
  {
   "cell_type": "code",
   "execution_count": null,
   "metadata": {},
   "outputs": [],
   "source": [
    "!wget https://www.encodeproject.org/files/ENCFF396BZQ/@@download/ENCFF396BZQ.bed.gz\n",
    "!gunzip ENCFF396BZQ.bed.gz\n",
    "!mv ENCFF396BZQ.bed peaks.bed\n",
    "\n",
    "# Create a subset of the peaks for testing\n",
    "!head -1000 ENCFF396BZQ.bed.gz > toy.bed"
   ]
  },
  {
   "attachments": {},
   "cell_type": "markdown",
   "metadata": {},
   "source": [
    "# Organize it"
   ]
  },
  {
   "cell_type": "code",
   "execution_count": null,
   "metadata": {},
   "outputs": [],
   "source": [
    "# Data actually used for training the model\n",
    "!mkdir -p ENCSR000EGM/data\n",
    "!mv *.bw ENCSR000EGM/data\n",
    "!mv peaks.bed ENCSR000EGM/data\n",
    "!mv toy.bed ENCSR000EGM\n",
    "\n",
    "# Reference genome and chromosome sizes\n",
    "!mkdir -p reference\n",
    "!mv hg38.fa* reference\n",
    "!mv GRCh38_EBV.chrom.sizes reference\n",
    "\n",
    "# Downloaded and processed bams\n",
    "!mkdir -p ENCSR000EGM/bam\n",
    "!mv *.bam* ENCSR000EGM/bam\n",
    "\n",
    "# BEDGRAPH files\n",
    "!mkdir -p ENCSR000EGM/bedgraph\n",
    "!mv *.bedGraph ENCSR000EGM/bedgraph"
   ]
  },
  {
   "attachments": {},
   "cell_type": "markdown",
   "metadata": {},
   "source": [
    "---"
   ]
  },
  {
   "attachments": {},
   "cell_type": "markdown",
   "metadata": {},
   "source": [
    "# DONE!"
   ]
  }
 ],
 "metadata": {
  "language_info": {
   "name": "python"
  },
  "orig_nbformat": 4
 },
 "nbformat": 4,
 "nbformat_minor": 2
}
