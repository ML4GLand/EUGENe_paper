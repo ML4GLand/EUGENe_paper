{
 "cells": [
  {
   "cell_type": "code",
   "execution_count": 2,
   "metadata": {},
   "outputs": [],
   "source": [
    "import os\n",
    "import glob\n",
    "import torch\n",
    "import numpy as np\n",
    "import eugene as eu"
   ]
  },
  {
   "cell_type": "code",
   "execution_count": 9,
   "metadata": {},
   "outputs": [],
   "source": [
    "from eugene.dataload import ProfileDataset\n",
    "from eugene.models._profile_models import BPNet\n",
    "eu.settings.logging_dir = \"/cellar/users/aklie/projects/ML4GLand/use_cases/avsec21/models\""
   ]
  },
  {
   "cell_type": "code",
   "execution_count": 10,
   "metadata": {},
   "outputs": [],
   "source": [
    "from bpnetlite.io import extract_peaks\n",
    "from bpnetlite.performance import calculate_performance_measures"
   ]
  },
  {
   "cell_type": "code",
   "execution_count": 5,
   "metadata": {},
   "outputs": [],
   "source": [
    "# Set paths\n",
    "data_dir = \"/cellar/users/aklie/data/eugene/avsec21/ENCSR000EGM/data\"\n",
    "reference_dir = \"/cellar/users/aklie/data/eugene/avsec21/reference\"\n",
    "peaks = os.path.join(data_dir, \"peaks.bed\")\n",
    "seqs = os.path.join(reference_dir, \"hg38.fa\")\n",
    "signals = [os.path.join(data_dir, \"plus.bw\"), os.path.join(data_dir, \"minus.bw\")]\n",
    "controls = [os.path.join(data_dir, \"control_plus.bw\"), os.path.join(data_dir, \"control_minus.bw\")]\n",
    "\n",
    "# Set training and validation chromosomes\n",
    "valid_chroms = ['chr{}'.format(i) for i in range(18, 23)]"
   ]
  },
  {
   "attachments": {},
   "cell_type": "markdown",
   "metadata": {},
   "source": [
    "# EUGENe"
   ]
  },
  {
   "attachments": {},
   "cell_type": "markdown",
   "metadata": {},
   "source": [
    "## Load data"
   ]
  },
  {
   "cell_type": "code",
   "execution_count": 6,
   "metadata": {},
   "outputs": [
    {
     "data": {
      "text/plain": [
       "(torch.Size([7051, 4, 2114]),\n",
       " torch.Size([7051, 2, 1000]),\n",
       " torch.Size([7051, 2, 2114]))"
      ]
     },
     "execution_count": 6,
     "metadata": {},
     "output_type": "execute_result"
    }
   ],
   "source": [
    "X_val, y_val, X_ctl_val = eu.dl.read_profile(peaks, seqs, signals, controls, max_jitter=0, chroms=valid_chroms)\n",
    "X_val.shape, y_val.shape, X_ctl_val.shape"
   ]
  },
  {
   "cell_type": "code",
   "execution_count": 7,
   "metadata": {},
   "outputs": [],
   "source": [
    "X_val_dataset = ProfileDataset(X_val, y_val, X_ctl_val)\n",
    "X_val_loader = X_val_dataset.to_dataloader(batch_size=64, num_workers=4, shuffle=False)"
   ]
  },
  {
   "attachments": {},
   "cell_type": "markdown",
   "metadata": {},
   "source": [
    "# Load model"
   ]
  },
  {
   "cell_type": "code",
   "execution_count": 11,
   "metadata": {},
   "outputs": [
    {
     "data": {
      "text/plain": [
       "'/cellar/users/aklie/models/eugene/avsec21/version_0/checkpoints/epoch=4-step=3579.ckpt'"
      ]
     },
     "execution_count": 11,
     "metadata": {},
     "output_type": "execute_result"
    }
   ],
   "source": [
    "model_file = glob.glob(os.path.join(eu.settings.logging_dir, \"version_0\", \"checkpoints\", \"*.ckpt\"))[0]\n",
    "model_file"
   ]
  },
  {
   "cell_type": "code",
   "execution_count": 12,
   "metadata": {},
   "outputs": [
    {
     "data": {
      "text/plain": [
       "BPNet(\n",
       "  (iconv): Conv1d(4, 64, kernel_size=(21,), stride=(1,), padding=(10,))\n",
       "  (irelu): ReLU()\n",
       "  (rconvs): ModuleList(\n",
       "    (0): Conv1d(64, 64, kernel_size=(3,), stride=(1,), padding=(2,), dilation=(2,))\n",
       "    (1): Conv1d(64, 64, kernel_size=(3,), stride=(1,), padding=(4,), dilation=(4,))\n",
       "    (2): Conv1d(64, 64, kernel_size=(3,), stride=(1,), padding=(8,), dilation=(8,))\n",
       "    (3): Conv1d(64, 64, kernel_size=(3,), stride=(1,), padding=(16,), dilation=(16,))\n",
       "    (4): Conv1d(64, 64, kernel_size=(3,), stride=(1,), padding=(32,), dilation=(32,))\n",
       "    (5): Conv1d(64, 64, kernel_size=(3,), stride=(1,), padding=(64,), dilation=(64,))\n",
       "    (6): Conv1d(64, 64, kernel_size=(3,), stride=(1,), padding=(128,), dilation=(128,))\n",
       "    (7): Conv1d(64, 64, kernel_size=(3,), stride=(1,), padding=(256,), dilation=(256,))\n",
       "  )\n",
       "  (rrelus): ModuleList(\n",
       "    (0): ReLU()\n",
       "    (1): ReLU()\n",
       "    (2): ReLU()\n",
       "    (3): ReLU()\n",
       "    (4): ReLU()\n",
       "    (5): ReLU()\n",
       "    (6): ReLU()\n",
       "    (7): ReLU()\n",
       "  )\n",
       "  (fconv): Conv1d(66, 2, kernel_size=(75,), stride=(1,), padding=(37,))\n",
       "  (linear): Linear(in_features=65, out_features=1, bias=True)\n",
       ")"
      ]
     },
     "execution_count": 12,
     "metadata": {},
     "output_type": "execute_result"
    }
   ],
   "source": [
    "model = BPNet.load_from_checkpoint(\n",
    "    model_file, \n",
    "    input_len=2114,\n",
    "    output_dim=1000,\n",
    "    n_outputs=2,\n",
    "    n_control_tracks=2, \n",
    "    trimming=(2114 - 1000) // 2\n",
    ")\n",
    "model.eval().cuda()"
   ]
  },
  {
   "cell_type": "code",
   "execution_count": 13,
   "metadata": {},
   "outputs": [
    {
     "data": {
      "text/plain": [
       "(torch.Size([64, 2, 1000]), torch.Size([64, 1]))"
      ]
     },
     "execution_count": 13,
     "metadata": {},
     "output_type": "execute_result"
    }
   ],
   "source": [
    "batch = next(iter(X_val_loader))\n",
    "example_output = model(batch[0].cuda(), batch[1].cuda())\n",
    "example_output[0].shape, example_output[1].shape"
   ]
  },
  {
   "attachments": {},
   "cell_type": "markdown",
   "metadata": {},
   "source": [
    "# Get the prediction "
   ]
  },
  {
   "cell_type": "code",
   "execution_count": 15,
   "metadata": {},
   "outputs": [],
   "source": [
    "from tqdm.auto import tqdm\n",
    "def predict(model, loader):\n",
    "\twith torch.no_grad():\n",
    "\t\ty_profiles, y_counts = [], []\n",
    "\t\tfor i, batch in tqdm(enumerate(loader), total=len(loader)):\n",
    "\t\t\tX = batch[0].cuda()\n",
    "\t\t\tX_ctl = batch[1].cuda()\n",
    "\t\t\ty_profiles_, y_counts_ = model(X, X_ctl)\n",
    "\t\t\ty_profiles_ = y_profiles_.cpu()\n",
    "\t\t\ty_counts_ = y_counts_.cpu()\n",
    "\t\t\t\n",
    "\t\t\ty_profiles.append(y_profiles_)\n",
    "\t\t\ty_counts.append(y_counts_)\n",
    "\n",
    "\t\ty_profiles = torch.cat(y_profiles)\n",
    "\t\ty_counts = torch.cat(y_counts)\n",
    "\t\treturn y_profiles, y_counts"
   ]
  },
  {
   "cell_type": "code",
   "execution_count": 16,
   "metadata": {},
   "outputs": [
    {
     "data": {
      "application/vnd.jupyter.widget-view+json": {
       "model_id": "440d82d091f14a9895ef6a3f795c44e5",
       "version_major": 2,
       "version_minor": 0
      },
      "text/plain": [
       "HBox(children=(FloatProgress(value=0.0, max=111.0), HTML(value='')))"
      ]
     },
     "metadata": {},
     "output_type": "display_data"
    },
    {
     "name": "stdout",
     "output_type": "stream",
     "text": [
      "\n"
     ]
    },
    {
     "data": {
      "text/plain": [
       "(torch.Size([7051, 2, 1000]), torch.Size([7051, 1]))"
      ]
     },
     "execution_count": 16,
     "metadata": {},
     "output_type": "execute_result"
    }
   ],
   "source": [
    "y_profile_eugene, y_counts_eugene = predict(model, X_val_loader)\n",
    "y_profile_eugene.shape, y_counts_eugene.shape"
   ]
  },
  {
   "cell_type": "code",
   "execution_count": 17,
   "metadata": {},
   "outputs": [],
   "source": [
    "# Clean up profile\n",
    "z = y_profile_eugene.shape\n",
    "y_profile_clean_eugene = y_profile_eugene.reshape(y_profile_eugene.shape[0], -1)\n",
    "y_profile_clean_eugene = torch.nn.functional.log_softmax(y_profile_clean_eugene, dim=-1)\n",
    "y_profile_clean_eugene = y_profile_clean_eugene.reshape(*z)"
   ]
  },
  {
   "cell_type": "code",
   "execution_count": 18,
   "metadata": {},
   "outputs": [
    {
     "name": "stdout",
     "output_type": "stream",
     "text": [
      "Profile correlations for each task: [0.41662365 0.41636887]\n",
      "Count correlations for each task: [0.66827923 0.6687726 ]\n",
      "Profile MNLLL: 266.908\n",
      "Count MSE: 1.019\n",
      "Validation loss: 267.927\n"
     ]
    }
   ],
   "source": [
    "eugene_measures = calculate_performance_measures(\n",
    "    y_profile_clean_eugene, \n",
    "    y_val, \n",
    "    y_counts_eugene, \n",
    "    kernel_sigma=7, \n",
    "    kernel_width=81, \n",
    "    measures=['profile_mnll', 'profile_pearson', 'count_pearson', 'count_mse']\n",
    ")\n",
    "\n",
    "profile_corr = eugene_measures['profile_pearson']\n",
    "count_corr = eugene_measures['count_pearson']\n",
    "\n",
    "valid_loss = eugene_measures['profile_mnll'].mean()\n",
    "valid_loss += model.alpha * eugene_measures['count_mse'].mean()\n",
    "\n",
    "print(f\"Profile correlations for each task: {profile_corr.numpy().mean(axis=0)}\")\n",
    "print(f\"Count correlations for each task: {count_corr.numpy()}\")\n",
    "print(f\"Profile MNLLL: {eugene_measures['profile_mnll'].mean():.3f}\")\n",
    "print(f\"Count MSE: {eugene_measures['count_mse'].mean():.3f}\")\n",
    "print(f\"Validation loss: {valid_loss:.3f}\")"
   ]
  },
  {
   "attachments": {},
   "cell_type": "markdown",
   "metadata": {},
   "source": [
    "# bpnet-lite"
   ]
  },
  {
   "attachments": {},
   "cell_type": "markdown",
   "metadata": {},
   "source": [
    "## Load data"
   ]
  },
  {
   "cell_type": "code",
   "execution_count": 19,
   "metadata": {},
   "outputs": [
    {
     "data": {
      "text/plain": [
       "(torch.Size([7051, 4, 2114]),\n",
       " torch.Size([7051, 2, 1000]),\n",
       " torch.Size([7051, 2, 2114]))"
      ]
     },
     "execution_count": 19,
     "metadata": {},
     "output_type": "execute_result"
    }
   ],
   "source": [
    "X_valid, y_valid, X_ctl_valid = extract_peaks(peaks, seqs, signals, controls, chroms=valid_chroms, max_jitter=0)\n",
    "X_valid.shape, y_valid.shape, X_ctl_valid.shape\n"
   ]
  },
  {
   "attachments": {},
   "cell_type": "markdown",
   "metadata": {},
   "source": [
    "# Load model"
   ]
  },
  {
   "cell_type": "code",
   "execution_count": 20,
   "metadata": {},
   "outputs": [],
   "source": [
    "models_dir = \"/cellar/users/aklie/projects/ML4GLand/use_cases/avsec21/models\"\n",
    "pretrained_model = torch.load(os.path.join(models_dir, \"bpnet.64.8.torch\")).eval().cuda()"
   ]
  },
  {
   "cell_type": "code",
   "execution_count": 21,
   "metadata": {},
   "outputs": [],
   "source": [
    "y_profile_lite, y_counts_lite = pretrained_model.predict(X_valid, X_ctl_valid)"
   ]
  },
  {
   "cell_type": "code",
   "execution_count": 22,
   "metadata": {},
   "outputs": [],
   "source": [
    "z = y_profile_lite.shape\n",
    "y_profile_clean_lite = y_profile_lite.reshape(y_profile_lite.shape[0], -1)\n",
    "y_profile_clean_lite = torch.nn.functional.log_softmax(y_profile_clean_lite, dim=-1)\n",
    "y_profile_clean_lite = y_profile_clean_lite.reshape(*z)"
   ]
  },
  {
   "cell_type": "code",
   "execution_count": 23,
   "metadata": {},
   "outputs": [
    {
     "name": "stdout",
     "output_type": "stream",
     "text": [
      "Profile correlations for each task: [0.41187093 0.41174912]\n",
      "Count correlations for each task: [0.6579376 0.660682 ]\n",
      "Profile MNLLL: 267.863\n",
      "Count MSE: 0.782\n",
      "Validation loss: 268.645\n"
     ]
    }
   ],
   "source": [
    "lite_measures = calculate_performance_measures(\n",
    "    y_profile_clean_lite, \n",
    "\ty_valid, \n",
    "    y_counts_lite, \n",
    "    kernel_sigma=7, \n",
    "    kernel_width=81, \n",
    "    measures=['profile_mnll', 'profile_pearson', 'count_pearson', 'count_mse']\n",
    ")\n",
    "\n",
    "\n",
    "profile_corr = lite_measures['profile_pearson']\n",
    "count_corr = lite_measures['count_pearson']\n",
    "\n",
    "valid_loss = lite_measures['profile_mnll'].mean()\n",
    "valid_loss += model.alpha * lite_measures['count_mse'].mean()\n",
    "\n",
    "print(f\"Profile correlations for each task: {profile_corr.numpy().mean(axis=0)}\")\n",
    "print(f\"Count correlations for each task: {count_corr.numpy()}\")\n",
    "print(f\"Profile MNLLL: {lite_measures['profile_mnll'].mean():.3f}\")\n",
    "print(f\"Count MSE: {lite_measures['count_mse'].mean():.3f}\")\n",
    "print(f\"Validation loss: {valid_loss:.3f}\")"
   ]
  }
 ],
 "metadata": {
  "kernelspec": {
   "display_name": "Python 3.7 eugene_dev",
   "language": "python",
   "name": "eugene_dev"
  },
  "orig_nbformat": 4
 },
 "nbformat": 4,
 "nbformat_minor": 2
}
