{
 "cells": [
  {
   "attachments": {},
   "cell_type": "markdown",
   "metadata": {},
   "source": [
    "# Ray et al 2013 Exploratory Data Analysis\n",
    "**Authorship:**\n",
    "Adam Klie (last updated: *06/09/2023*)\n",
    "***\n",
    "**Description:**\n",
    "Notebook to perform a brief exploratory data analysis (EDA) on the Ray et al (2013) dataset.\n",
    "***"
   ]
  },
  {
   "cell_type": "code",
   "execution_count": null,
   "metadata": {},
   "outputs": [],
   "source": [
    "# General imports\n",
    "import os\n",
    "import sys\n",
    "import xarray as xr\n",
    "import numpy as np\n",
    "import pandas as pd\n",
    "import matplotlib.pyplot as plt\n",
    "\n",
    "# EUGENe imports\n",
    "import eugene as eu\n",
    "from eugene import plot as pl\n",
    "from eugene import settings\n",
    "settings.dataset_dir = \"/cellar/users/aklie/data/eugene/revision/\"\n",
    "\n",
    "# EUGENe packages\n",
    "import seqdatasets\n",
    "import seqdata as sd\n",
    "import seqpro as sp\n",
    "\n",
    "# Print versions\n",
    "print(f\"Python version: {sys.version}\")\n",
    "print(f\"NumPy version: {np.__version__}\")\n",
    "print(f\"Pandas version: {pd.__version__}\")\n",
    "print(f\"Xarray version: {xr.__version__}\")\n",
    "print(f\"Eugene version: {eu.__version__}\")\n",
    "print(f\"SeqDatasets version: {seqdatasets.__version__}\")\n",
    "print(f\"SeqData version: {sd.__version__}\")\n",
    "print(f\"SeqPro version: {sp.__version__}\")"
   ]
  },
  {
   "attachments": {},
   "cell_type": "markdown",
   "metadata": {},
   "source": [
    "# Download and load in the dataset to a raw `SeqData` object"
   ]
  },
  {
   "cell_type": "code",
   "execution_count": null,
   "metadata": {},
   "outputs": [],
   "source": [
    "# Load in the downloaded dataset from the RNAcomplete supplementary website and double check that the index and names loaded in correctly\n",
    "sdata = seqdatasets.ray13(batch_size=10000)"
   ]
  },
  {
   "cell_type": "code",
   "execution_count": null,
   "metadata": {},
   "outputs": [],
   "source": [
    "# Pull out the columns from seqs_annot to be used as targets (based on motif ID)\n",
    "column_keys = pd.Index(sdata.data_vars.keys())\n",
    "target_mask = column_keys.str.contains(\"RNCMPT\")\n",
    "target_cols = column_keys[target_mask]\n",
    "len(target_cols)"
   ]
  },
  {
   "attachments": {},
   "cell_type": "markdown",
   "metadata": {},
   "source": [
    "# Sequence information"
   ]
  },
  {
   "cell_type": "code",
   "execution_count": null,
   "metadata": {},
   "outputs": [],
   "source": [
    "# Grab sequence lengths and plot distribution\n",
    "sdata[\"seq_len\"] = xr.DataArray(sp.length(sdata[\"seq\"].values), dims=\"_sequence\")\n",
    "pl.histplot(\n",
    "    sdata, \n",
    "    vars=\"seq_len\", \n",
    "    orient=\"h\"\n",
    ")\n",
    "plt.show()"
   ]
  },
  {
   "attachments": {},
   "cell_type": "markdown",
   "metadata": {},
   "source": [
    "# Target information"
   ]
  },
  {
   "cell_type": "code",
   "execution_count": null,
   "metadata": {},
   "outputs": [],
   "source": [
    "# Lets take a look at the distributions of a few randomly selected RBPs across all probes\n",
    "pl.violinplot(\n",
    "    sdata, \n",
    "    vars=list(np.random.choice(target_cols, 9))\n",
    ")\n",
    "plt.show()"
   ]
  },
  {
   "cell_type": "code",
   "execution_count": null,
   "metadata": {
    "tags": []
   },
   "outputs": [],
   "source": [
    "# Plot the number NaN values across target columns and across sequences\n",
    "fig, ax = plt.subplots(nrows=2, ncols=1)\n",
    "sdata[target_cols].to_dataframe().isna().sum(axis=1).plot(kind=\"hist\", ax=ax[0])\n",
    "sdata[target_cols].to_dataframe().isna().sum(axis=0).plot(kind=\"hist\", ax=ax[1])\n",
    "plt.show()"
   ]
  },
  {
   "cell_type": "code",
   "execution_count": null,
   "metadata": {},
   "outputs": [],
   "source": [
    "# Determine the number of targets that would be included in the dataset if we dropped those with > 1% NaN values\n",
    "nan_percents = sdata[target_cols].to_dataframe().isna().sum(axis=0).sort_values(ascending=False)/sdata.dims[\"_sequence\"]\n",
    "cleaned_annot = sdata[target_cols].to_dataframe().drop(nan_percents[nan_percents > 0.01].index, axis=1)\n",
    "cleaned_cols = target_cols.drop(nan_percents[nan_percents > 0.01].index)\n",
    "cleaned_annot.head()"
   ]
  },
  {
   "cell_type": "code",
   "execution_count": null,
   "metadata": {},
   "outputs": [],
   "source": [
    "# Determine how many sequences would be included in the dataset if we dropped those with any NaN values\n",
    "len(np.where(cleaned_annot[cleaned_cols].isna().sum(axis=1) == 0)[0])"
   ]
  },
  {
   "attachments": {},
   "cell_type": "markdown",
   "metadata": {},
   "source": [
    "# DONE!"
   ]
  },
  {
   "attachments": {},
   "cell_type": "markdown",
   "metadata": {},
   "source": [
    "---"
   ]
  },
  {
   "attachments": {},
   "cell_type": "markdown",
   "metadata": {},
   "source": [
    "# Scratch"
   ]
  },
  {
   "cell_type": "code",
   "execution_count": null,
   "metadata": {},
   "outputs": [],
   "source": [
    "sdata = sd.open_zarr(os.path.join(settings.dataset_dir, \"ray13\", \"ray13_norm.zarr\"))\n",
    "sdata"
   ]
  }
 ],
 "metadata": {
  "kernelspec": {
   "display_name": "Python 3.9 ml4gland",
   "language": "python",
   "name": "ml4gland"
  },
  "language_info": {
   "codemirror_mode": {
    "name": "ipython",
    "version": 3
   },
   "file_extension": ".py",
   "mimetype": "text/x-python",
   "name": "python",
   "nbconvert_exporter": "python",
   "pygments_lexer": "ipython3",
   "version": "3.9.16"
  },
  "vscode": {
   "interpreter": {
    "hash": "f0aab14ae665ca4264878e5867720697752ca4d3a67458798aa51c276bf829a9"
   }
  }
 },
 "nbformat": 4,
 "nbformat_minor": 4
}
