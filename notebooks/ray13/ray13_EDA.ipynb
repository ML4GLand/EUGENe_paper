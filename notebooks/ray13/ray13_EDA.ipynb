{
 "cells": [
  {
   "cell_type": "markdown",
   "metadata": {},
   "source": [
    "# Ray et al 2013 Exploratory Data Analysis\n",
    "**Authorship:**\n",
    "Adam Klie, *08/27/2022*\n",
    "***\n",
    "**Description:**\n",
    "Notebook to perform a brief exploratory data analysis (EDA) on the Ray et al (2013) dataset.\n",
    "***"
   ]
  },
  {
   "cell_type": "code",
   "execution_count": null,
   "metadata": {
    "tags": []
   },
   "outputs": [],
   "source": [
    "if 'autoreload' not in get_ipython().extension_manager.loaded:\n",
    "    %load_ext autoreload\n",
    "%autoreload 2\n",
    "\n",
    "import os\n",
    "import matplotlib.pyplot as plt\n",
    "import numpy as np\n",
    "import pandas as pd\n",
    "import eugene as eu\n",
    "eu.settings.dataset_dir = \"/cellar/users/aklie/data/eugene\""
   ]
  },
  {
   "cell_type": "markdown",
   "metadata": {},
   "source": [
    "# Download and load in the dataset to a raw `SeqData` object"
   ]
  },
  {
   "cell_type": "code",
   "execution_count": null,
   "metadata": {},
   "outputs": [],
   "source": [
    "# Load in the downloaded dataset from the RNAcomplete supplementary website and double check that the index and names loaded in correctly\n",
    "sdata = eu.datasets.ray13()\n",
    "np.all(sdata.names == sdata.seqs_annot.index)"
   ]
  },
  {
   "cell_type": "code",
   "execution_count": null,
   "metadata": {},
   "outputs": [],
   "source": [
    "# Pull out the columns from seqs_annot to be used as targets (based on motif ID)\n",
    "target_mask = sdata.seqs_annot.columns.str.contains(\"RNCMPT\")\n",
    "target_cols = sdata.seqs_annot.columns[target_mask]\n",
    "len(target_cols)"
   ]
  },
  {
   "cell_type": "markdown",
   "metadata": {},
   "source": [
    "# Sequence information"
   ]
  },
  {
   "cell_type": "code",
   "execution_count": null,
   "metadata": {},
   "outputs": [],
   "source": [
    "# Grab sequence lengths and plot distribution\n",
    "sdata[\"seq_len\"] = [len(seq) for seq in sdata.seqs]\n",
    "eu.pl.histplot(\n",
    "    sdata, \n",
    "    keys=\"seq_len\", \n",
    "    orient=\"h\"\n",
    ")\n",
    "plt.show()"
   ]
  },
  {
   "cell_type": "markdown",
   "metadata": {},
   "source": [
    "# Target information"
   ]
  },
  {
   "cell_type": "code",
   "execution_count": null,
   "metadata": {},
   "outputs": [],
   "source": [
    "# Lets take a look at the distributions of a few randomly selected RBPs across all probes\n",
    "eu.pl.violinplot(\n",
    "    sdata, \n",
    "    keys=np.random.choice(target_cols, 9)\n",
    ")\n",
    "plt.show()"
   ]
  },
  {
   "cell_type": "code",
   "execution_count": null,
   "metadata": {
    "tags": []
   },
   "outputs": [],
   "source": [
    "# Plot the number NaN values across target columns and across sequences\n",
    "fig, ax = plt.subplots(nrows=2, ncols=1)\n",
    "sdata.seqs_annot.isna().sum(axis=1).plot(kind=\"hist\", ax=ax[0])\n",
    "sdata.seqs_annot.isna().sum(axis=0).plot(kind=\"hist\", ax=ax[1])\n",
    "plt.show()"
   ]
  },
  {
   "cell_type": "code",
   "execution_count": null,
   "metadata": {},
   "outputs": [],
   "source": [
    "# Determine the number of targets that would be included in the dataset if we dropped those with > 1% NaN values\n",
    "nan_percents = sdata.seqs_annot[target_cols].isna().sum(axis=0).sort_values(ascending=False)/sdata.seqs_annot.shape[0]\n",
    "cleaned_annot = sdata.seqs_annot.drop(nan_percents[nan_percents > 0.01].index, axis=1)\n",
    "cleaned_cols = target_cols.drop(nan_percents[nan_percents > 0.01].index)\n",
    "cleaned_annot.head()"
   ]
  },
  {
   "cell_type": "code",
   "execution_count": null,
   "metadata": {},
   "outputs": [],
   "source": [
    "# Determine how many sequences would be included in the dataset if we dropped those with any NaN values\n",
    "len(np.where(cleaned_annot[cleaned_cols].isna().sum(axis=1) == 0)[0])"
   ]
  },
  {
   "cell_type": "markdown",
   "metadata": {},
   "source": [
    "---"
   ]
  }
 ],
 "metadata": {
  "kernelspec": {
   "display_name": "Python 3.7 eugene_dev",
   "language": "python",
   "name": "eugene_dev"
  },
  "language_info": {
   "codemirror_mode": {
    "name": "ipython",
    "version": 3
   },
   "file_extension": ".py",
   "mimetype": "text/x-python",
   "name": "python",
   "nbconvert_exporter": "python",
   "pygments_lexer": "ipython3",
   "version": "3.7.12"
  },
  "vscode": {
   "interpreter": {
    "hash": "f0aab14ae665ca4264878e5867720697752ca4d3a67458798aa51c276bf829a9"
   }
  }
 },
 "nbformat": 4,
 "nbformat_minor": 4
}
