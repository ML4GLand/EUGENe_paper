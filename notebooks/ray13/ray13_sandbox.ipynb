{
 "cells": [
  {
   "cell_type": "markdown",
   "id": "85c10a31",
   "metadata": {},
   "source": [
    "# Ray13 et al 2013 Sandbox \n",
    "**Authorship:**\n",
    "Adam Klie, *08/31/2022*\n",
    "***\n",
    "**Description:**\n",
    "Notebook to test things out as we get Ray13 working\n",
    "***"
   ]
  },
  {
   "cell_type": "code",
   "execution_count": 1,
   "id": "794120f3-bd89-42a9-8caf-3b666ae6ae6f",
   "metadata": {
    "execution": {
     "iopub.execute_input": "2022-09-07T22:14:54.334114Z",
     "iopub.status.busy": "2022-09-07T22:14:54.333927Z",
     "iopub.status.idle": "2022-09-07T22:15:30.204876Z",
     "shell.execute_reply": "2022-09-07T22:15:30.204273Z",
     "shell.execute_reply.started": "2022-09-07T22:14:54.334069Z"
    },
    "tags": []
   },
   "outputs": [
    {
     "name": "stderr",
     "output_type": "stream",
     "text": [
      "Global seed set to 13\n"
     ]
    },
    {
     "name": "stdout",
     "output_type": "stream",
     "text": [
      "GPU is available: True\n",
      "Number of GPUs: 1\n",
      "Current GPU: 0\n",
      "GPUs: Quadro RTX 5000\n"
     ]
    }
   ],
   "source": [
    "if 'autoreload' not in get_ipython().extension_manager.loaded:\n",
    "    %load_ext autoreload\n",
    "%autoreload 2\n",
    "\n",
    "import os\n",
    "import logging\n",
    "import torch\n",
    "import numpy as np\n",
    "import pandas as pd\n",
    "import eugene as eu\n",
    "from tqdm.auto import tqdm\n",
    "from itertools import product\n",
    "tqdm.pandas()\n",
    "from sklearn.metrics import r2_score, auc\n",
    "from scipy.stats import pearsonr, spearmanr\n",
    "import matplotlib.pyplot as plt\n",
    "import seaborn as sns"
   ]
  },
  {
   "cell_type": "code",
   "execution_count": 2,
   "id": "50ffafd6",
   "metadata": {
    "execution": {
     "iopub.execute_input": "2022-09-07T22:15:30.206172Z",
     "iopub.status.busy": "2022-09-07T22:15:30.206009Z",
     "iopub.status.idle": "2022-09-07T22:15:31.751500Z",
     "shell.execute_reply": "2022-09-07T22:15:31.750905Z",
     "shell.execute_reply.started": "2022-09-07T22:15:30.206155Z"
    },
    "tags": []
   },
   "outputs": [],
   "source": [
    "eu.settings.dataset_dir = \"/cellar/users/aklie/data/eugene/ray13\"\n",
    "eu.settings.output_dir = \"/cellar/users/aklie/projects/EUGENe/EUGENe_paper/output/ray13\"\n",
    "eu.settings.logging_dir = \"/cellar/users/aklie/projects/EUGENe/EUGENe_paper/logs/ray13\"\n",
    "eu.settings.config_dir = \"/cellar/users/aklie/projects/EUGENe/EUGENe_paper/configs/ray13\"\n",
    "eu.settings.verbosity = logging.ERROR"
   ]
  },
  {
   "cell_type": "markdown",
   "id": "8bf61a21",
   "metadata": {},
   "source": [
    "# Kipoi saving fix"
   ]
  },
  {
   "cell_type": "code",
   "execution_count": 3,
   "id": "fb320ab0",
   "metadata": {},
   "outputs": [],
   "source": [
    "sdata_test = eu.dl.read_h5sd(os.path.join(eu.settings.output_dir, \"norm_test_predictions_kipoi.h5sd\"))"
   ]
  },
  {
   "cell_type": "code",
   "execution_count": 4,
   "id": "2f4e9436",
   "metadata": {},
   "outputs": [
    {
     "data": {
      "text/html": [
       "<div>\n",
       "<style scoped>\n",
       "    .dataframe tbody tr th:only-of-type {\n",
       "        vertical-align: middle;\n",
       "    }\n",
       "\n",
       "    .dataframe tbody tr th {\n",
       "        vertical-align: top;\n",
       "    }\n",
       "\n",
       "    .dataframe thead th {\n",
       "        text-align: right;\n",
       "    }\n",
       "</style>\n",
       "<table border=\"1\" class=\"dataframe\">\n",
       "  <thead>\n",
       "    <tr style=\"text-align: right;\">\n",
       "      <th></th>\n",
       "      <th>Probe_Set</th>\n",
       "      <th>RNCMPT00001</th>\n",
       "      <th>RNCMPT00002</th>\n",
       "      <th>RNCMPT00003</th>\n",
       "      <th>RNCMPT00004</th>\n",
       "      <th>RNCMPT00005</th>\n",
       "      <th>RNCMPT00006</th>\n",
       "      <th>RNCMPT00007</th>\n",
       "      <th>RNCMPT00008</th>\n",
       "      <th>RNCMPT00009</th>\n",
       "      <th>...</th>\n",
       "      <th>RNCMPT00280</th>\n",
       "      <th>RNCMPT00281</th>\n",
       "      <th>RNCMPT00282</th>\n",
       "      <th>RNCMPT00283</th>\n",
       "      <th>RNCMPT00284</th>\n",
       "      <th>RNCMPT00285</th>\n",
       "      <th>RNCMPT00287</th>\n",
       "      <th>RNCMPT00288</th>\n",
       "      <th>RNCMPT00289</th>\n",
       "      <th>RNCMPT00291</th>\n",
       "    </tr>\n",
       "  </thead>\n",
       "  <tbody>\n",
       "    <tr>\n",
       "      <th>RBD_v3_120327</th>\n",
       "      <td>SetB</td>\n",
       "      <td>-0.327493</td>\n",
       "      <td>-0.539489</td>\n",
       "      <td>-0.127748</td>\n",
       "      <td>-0.055185</td>\n",
       "      <td>-0.629478</td>\n",
       "      <td>0.352436</td>\n",
       "      <td>-0.120804</td>\n",
       "      <td>-0.434247</td>\n",
       "      <td>-0.111501</td>\n",
       "      <td>...</td>\n",
       "      <td>-0.350444</td>\n",
       "      <td>0.755384</td>\n",
       "      <td>0.012860</td>\n",
       "      <td>0.968123</td>\n",
       "      <td>0.523920</td>\n",
       "      <td>0.553445</td>\n",
       "      <td>0.516194</td>\n",
       "      <td>-1.166946</td>\n",
       "      <td>-0.504684</td>\n",
       "      <td>-0.305777</td>\n",
       "    </tr>\n",
       "    <tr>\n",
       "      <th>RBD_v3_120328</th>\n",
       "      <td>SetB</td>\n",
       "      <td>-0.342261</td>\n",
       "      <td>-0.585908</td>\n",
       "      <td>1.054086</td>\n",
       "      <td>6.768199</td>\n",
       "      <td>-0.218492</td>\n",
       "      <td>1.169934</td>\n",
       "      <td>1.051287</td>\n",
       "      <td>0.490904</td>\n",
       "      <td>1.570395</td>\n",
       "      <td>...</td>\n",
       "      <td>-0.402025</td>\n",
       "      <td>0.150762</td>\n",
       "      <td>-0.517662</td>\n",
       "      <td>3.040425</td>\n",
       "      <td>3.035952</td>\n",
       "      <td>3.109931</td>\n",
       "      <td>-0.303779</td>\n",
       "      <td>-0.312580</td>\n",
       "      <td>0.360435</td>\n",
       "      <td>-0.437770</td>\n",
       "    </tr>\n",
       "    <tr>\n",
       "      <th>RBD_v3_120329</th>\n",
       "      <td>SetB</td>\n",
       "      <td>0.193592</td>\n",
       "      <td>-0.022479</td>\n",
       "      <td>0.017481</td>\n",
       "      <td>-0.332406</td>\n",
       "      <td>-0.252059</td>\n",
       "      <td>0.019694</td>\n",
       "      <td>0.020669</td>\n",
       "      <td>-0.301582</td>\n",
       "      <td>-0.008716</td>\n",
       "      <td>...</td>\n",
       "      <td>-0.179789</td>\n",
       "      <td>-1.151617</td>\n",
       "      <td>0.569463</td>\n",
       "      <td>-0.721438</td>\n",
       "      <td>-0.187345</td>\n",
       "      <td>-0.701651</td>\n",
       "      <td>1.438725</td>\n",
       "      <td>-0.008902</td>\n",
       "      <td>-0.753172</td>\n",
       "      <td>-0.144206</td>\n",
       "    </tr>\n",
       "    <tr>\n",
       "      <th>RBD_v3_120330</th>\n",
       "      <td>SetB</td>\n",
       "      <td>1.730703</td>\n",
       "      <td>-0.431405</td>\n",
       "      <td>0.088295</td>\n",
       "      <td>0.427208</td>\n",
       "      <td>0.356391</td>\n",
       "      <td>-0.165824</td>\n",
       "      <td>-0.062661</td>\n",
       "      <td>-0.727492</td>\n",
       "      <td>-0.927296</td>\n",
       "      <td>...</td>\n",
       "      <td>0.613506</td>\n",
       "      <td>0.813311</td>\n",
       "      <td>-0.280833</td>\n",
       "      <td>-0.341366</td>\n",
       "      <td>0.168727</td>\n",
       "      <td>-0.406604</td>\n",
       "      <td>-0.767278</td>\n",
       "      <td>-0.465573</td>\n",
       "      <td>0.220037</td>\n",
       "      <td>0.840832</td>\n",
       "    </tr>\n",
       "    <tr>\n",
       "      <th>RBD_v3_120331</th>\n",
       "      <td>SetB</td>\n",
       "      <td>-0.082228</td>\n",
       "      <td>-0.483491</td>\n",
       "      <td>0.113124</td>\n",
       "      <td>-0.052997</td>\n",
       "      <td>1.347441</td>\n",
       "      <td>0.243464</td>\n",
       "      <td>-0.250058</td>\n",
       "      <td>-0.597221</td>\n",
       "      <td>NaN</td>\n",
       "      <td>...</td>\n",
       "      <td>0.476135</td>\n",
       "      <td>-0.135502</td>\n",
       "      <td>0.012860</td>\n",
       "      <td>-0.433382</td>\n",
       "      <td>-0.597644</td>\n",
       "      <td>-0.632617</td>\n",
       "      <td>0.949043</td>\n",
       "      <td>-0.056166</td>\n",
       "      <td>-0.499508</td>\n",
       "      <td>-0.192923</td>\n",
       "    </tr>\n",
       "    <tr>\n",
       "      <th>...</th>\n",
       "      <td>...</td>\n",
       "      <td>...</td>\n",
       "      <td>...</td>\n",
       "      <td>...</td>\n",
       "      <td>...</td>\n",
       "      <td>...</td>\n",
       "      <td>...</td>\n",
       "      <td>...</td>\n",
       "      <td>...</td>\n",
       "      <td>...</td>\n",
       "      <td>...</td>\n",
       "      <td>...</td>\n",
       "      <td>...</td>\n",
       "      <td>...</td>\n",
       "      <td>...</td>\n",
       "      <td>...</td>\n",
       "      <td>...</td>\n",
       "      <td>...</td>\n",
       "      <td>...</td>\n",
       "      <td>...</td>\n",
       "      <td>...</td>\n",
       "    </tr>\n",
       "    <tr>\n",
       "      <th>RBD_v3_241353</th>\n",
       "      <td>SetB</td>\n",
       "      <td>2.596222</td>\n",
       "      <td>-0.368502</td>\n",
       "      <td>-0.114495</td>\n",
       "      <td>-0.310954</td>\n",
       "      <td>0.713974</td>\n",
       "      <td>-0.234109</td>\n",
       "      <td>0.844723</td>\n",
       "      <td>0.270683</td>\n",
       "      <td>1.269903</td>\n",
       "      <td>...</td>\n",
       "      <td>0.235276</td>\n",
       "      <td>2.554038</td>\n",
       "      <td>-0.333380</td>\n",
       "      <td>-0.432109</td>\n",
       "      <td>-0.471411</td>\n",
       "      <td>-0.443209</td>\n",
       "      <td>-0.402380</td>\n",
       "      <td>1.523892</td>\n",
       "      <td>3.098642</td>\n",
       "      <td>1.012692</td>\n",
       "    </tr>\n",
       "    <tr>\n",
       "      <th>RBD_v3_241354</th>\n",
       "      <td>SetB</td>\n",
       "      <td>-0.083849</td>\n",
       "      <td>-0.124382</td>\n",
       "      <td>-0.095170</td>\n",
       "      <td>-0.361839</td>\n",
       "      <td>-0.459692</td>\n",
       "      <td>-0.303632</td>\n",
       "      <td>-0.727124</td>\n",
       "      <td>NaN</td>\n",
       "      <td>NaN</td>\n",
       "      <td>...</td>\n",
       "      <td>-0.268440</td>\n",
       "      <td>-1.343264</td>\n",
       "      <td>0.223366</td>\n",
       "      <td>-0.086842</td>\n",
       "      <td>-0.104889</td>\n",
       "      <td>-0.571168</td>\n",
       "      <td>0.707740</td>\n",
       "      <td>-0.353905</td>\n",
       "      <td>-0.377681</td>\n",
       "      <td>-0.844482</td>\n",
       "    </tr>\n",
       "    <tr>\n",
       "      <th>RBD_v3_241355</th>\n",
       "      <td>SetB</td>\n",
       "      <td>-0.360029</td>\n",
       "      <td>-0.024147</td>\n",
       "      <td>-0.153699</td>\n",
       "      <td>-0.169544</td>\n",
       "      <td>-0.089777</td>\n",
       "      <td>-0.182082</td>\n",
       "      <td>-0.215057</td>\n",
       "      <td>0.189562</td>\n",
       "      <td>NaN</td>\n",
       "      <td>...</td>\n",
       "      <td>-0.016582</td>\n",
       "      <td>-0.955430</td>\n",
       "      <td>0.261035</td>\n",
       "      <td>-0.004264</td>\n",
       "      <td>0.567725</td>\n",
       "      <td>0.019715</td>\n",
       "      <td>0.410618</td>\n",
       "      <td>-0.353905</td>\n",
       "      <td>-0.346346</td>\n",
       "      <td>-0.810822</td>\n",
       "    </tr>\n",
       "    <tr>\n",
       "      <th>RBD_v3_241356</th>\n",
       "      <td>SetB</td>\n",
       "      <td>0.578115</td>\n",
       "      <td>-0.583369</td>\n",
       "      <td>3.248132</td>\n",
       "      <td>2.790505</td>\n",
       "      <td>4.659665</td>\n",
       "      <td>-0.190855</td>\n",
       "      <td>-0.418715</td>\n",
       "      <td>NaN</td>\n",
       "      <td>NaN</td>\n",
       "      <td>...</td>\n",
       "      <td>0.543906</td>\n",
       "      <td>-0.067888</td>\n",
       "      <td>-0.782130</td>\n",
       "      <td>1.890651</td>\n",
       "      <td>2.064036</td>\n",
       "      <td>1.329475</td>\n",
       "      <td>-0.580991</td>\n",
       "      <td>-0.416029</td>\n",
       "      <td>-0.084323</td>\n",
       "      <td>-0.146779</td>\n",
       "    </tr>\n",
       "    <tr>\n",
       "      <th>RBD_v3_241357</th>\n",
       "      <td>SetB</td>\n",
       "      <td>-0.067791</td>\n",
       "      <td>0.360831</td>\n",
       "      <td>-0.121380</td>\n",
       "      <td>-0.740221</td>\n",
       "      <td>0.092741</td>\n",
       "      <td>18.936635</td>\n",
       "      <td>0.133716</td>\n",
       "      <td>-0.685886</td>\n",
       "      <td>NaN</td>\n",
       "      <td>...</td>\n",
       "      <td>0.253481</td>\n",
       "      <td>-0.073271</td>\n",
       "      <td>0.395105</td>\n",
       "      <td>-1.381252</td>\n",
       "      <td>-1.084450</td>\n",
       "      <td>-1.306104</td>\n",
       "      <td>0.116943</td>\n",
       "      <td>2.099723</td>\n",
       "      <td>0.003605</td>\n",
       "      <td>-0.234924</td>\n",
       "    </tr>\n",
       "  </tbody>\n",
       "</table>\n",
       "<p>121031 rows × 245 columns</p>\n",
       "</div>"
      ],
      "text/plain": [
       "              Probe_Set  RNCMPT00001  RNCMPT00002  RNCMPT00003  RNCMPT00004  \\\n",
       "RBD_v3_120327      SetB    -0.327493    -0.539489    -0.127748    -0.055185   \n",
       "RBD_v3_120328      SetB    -0.342261    -0.585908     1.054086     6.768199   \n",
       "RBD_v3_120329      SetB     0.193592    -0.022479     0.017481    -0.332406   \n",
       "RBD_v3_120330      SetB     1.730703    -0.431405     0.088295     0.427208   \n",
       "RBD_v3_120331      SetB    -0.082228    -0.483491     0.113124    -0.052997   \n",
       "...                 ...          ...          ...          ...          ...   \n",
       "RBD_v3_241353      SetB     2.596222    -0.368502    -0.114495    -0.310954   \n",
       "RBD_v3_241354      SetB    -0.083849    -0.124382    -0.095170    -0.361839   \n",
       "RBD_v3_241355      SetB    -0.360029    -0.024147    -0.153699    -0.169544   \n",
       "RBD_v3_241356      SetB     0.578115    -0.583369     3.248132     2.790505   \n",
       "RBD_v3_241357      SetB    -0.067791     0.360831    -0.121380    -0.740221   \n",
       "\n",
       "               RNCMPT00005  RNCMPT00006  RNCMPT00007  RNCMPT00008  \\\n",
       "RBD_v3_120327    -0.629478     0.352436    -0.120804    -0.434247   \n",
       "RBD_v3_120328    -0.218492     1.169934     1.051287     0.490904   \n",
       "RBD_v3_120329    -0.252059     0.019694     0.020669    -0.301582   \n",
       "RBD_v3_120330     0.356391    -0.165824    -0.062661    -0.727492   \n",
       "RBD_v3_120331     1.347441     0.243464    -0.250058    -0.597221   \n",
       "...                    ...          ...          ...          ...   \n",
       "RBD_v3_241353     0.713974    -0.234109     0.844723     0.270683   \n",
       "RBD_v3_241354    -0.459692    -0.303632    -0.727124          NaN   \n",
       "RBD_v3_241355    -0.089777    -0.182082    -0.215057     0.189562   \n",
       "RBD_v3_241356     4.659665    -0.190855    -0.418715          NaN   \n",
       "RBD_v3_241357     0.092741    18.936635     0.133716    -0.685886   \n",
       "\n",
       "               RNCMPT00009  ...  RNCMPT00280  RNCMPT00281  RNCMPT00282  \\\n",
       "RBD_v3_120327    -0.111501  ...    -0.350444     0.755384     0.012860   \n",
       "RBD_v3_120328     1.570395  ...    -0.402025     0.150762    -0.517662   \n",
       "RBD_v3_120329    -0.008716  ...    -0.179789    -1.151617     0.569463   \n",
       "RBD_v3_120330    -0.927296  ...     0.613506     0.813311    -0.280833   \n",
       "RBD_v3_120331          NaN  ...     0.476135    -0.135502     0.012860   \n",
       "...                    ...  ...          ...          ...          ...   \n",
       "RBD_v3_241353     1.269903  ...     0.235276     2.554038    -0.333380   \n",
       "RBD_v3_241354          NaN  ...    -0.268440    -1.343264     0.223366   \n",
       "RBD_v3_241355          NaN  ...    -0.016582    -0.955430     0.261035   \n",
       "RBD_v3_241356          NaN  ...     0.543906    -0.067888    -0.782130   \n",
       "RBD_v3_241357          NaN  ...     0.253481    -0.073271     0.395105   \n",
       "\n",
       "               RNCMPT00283  RNCMPT00284  RNCMPT00285  RNCMPT00287  \\\n",
       "RBD_v3_120327     0.968123     0.523920     0.553445     0.516194   \n",
       "RBD_v3_120328     3.040425     3.035952     3.109931    -0.303779   \n",
       "RBD_v3_120329    -0.721438    -0.187345    -0.701651     1.438725   \n",
       "RBD_v3_120330    -0.341366     0.168727    -0.406604    -0.767278   \n",
       "RBD_v3_120331    -0.433382    -0.597644    -0.632617     0.949043   \n",
       "...                    ...          ...          ...          ...   \n",
       "RBD_v3_241353    -0.432109    -0.471411    -0.443209    -0.402380   \n",
       "RBD_v3_241354    -0.086842    -0.104889    -0.571168     0.707740   \n",
       "RBD_v3_241355    -0.004264     0.567725     0.019715     0.410618   \n",
       "RBD_v3_241356     1.890651     2.064036     1.329475    -0.580991   \n",
       "RBD_v3_241357    -1.381252    -1.084450    -1.306104     0.116943   \n",
       "\n",
       "               RNCMPT00288  RNCMPT00289  RNCMPT00291  \n",
       "RBD_v3_120327    -1.166946    -0.504684    -0.305777  \n",
       "RBD_v3_120328    -0.312580     0.360435    -0.437770  \n",
       "RBD_v3_120329    -0.008902    -0.753172    -0.144206  \n",
       "RBD_v3_120330    -0.465573     0.220037     0.840832  \n",
       "RBD_v3_120331    -0.056166    -0.499508    -0.192923  \n",
       "...                    ...          ...          ...  \n",
       "RBD_v3_241353     1.523892     3.098642     1.012692  \n",
       "RBD_v3_241354    -0.353905    -0.377681    -0.844482  \n",
       "RBD_v3_241355    -0.353905    -0.346346    -0.810822  \n",
       "RBD_v3_241356    -0.416029    -0.084323    -0.146779  \n",
       "RBD_v3_241357     2.099723     0.003605    -0.234924  \n",
       "\n",
       "[121031 rows x 245 columns]"
      ]
     },
     "execution_count": 4,
     "metadata": {},
     "output_type": "execute_result"
    }
   ],
   "source": [
    "sdata_test.seqs_annot"
   ]
  },
  {
   "cell_type": "markdown",
   "id": "75841a3c-f172-4758-8bbe-c214d92e2ad5",
   "metadata": {},
   "source": [
    "# SetA evaluation testing"
   ]
  },
  {
   "cell_type": "code",
   "execution_count": 5,
   "id": "4220cacd-d267-4ed6-aed5-76f41faf00fb",
   "metadata": {
    "execution": {
     "iopub.execute_input": "2022-09-07T22:22:16.505034Z",
     "iopub.status.busy": "2022-09-07T22:22:16.504684Z",
     "iopub.status.idle": "2022-09-07T22:22:19.038442Z",
     "shell.execute_reply": "2022-09-07T22:22:19.037879Z",
     "shell.execute_reply.started": "2022-09-07T22:22:16.505013Z"
    },
    "tags": []
   },
   "outputs": [],
   "source": [
    "# Grab the columns\n",
    "sdata_test = eu.dl.read_h5sd(os.path.join(eu.settings.dataset_dir, \"norm_setB_processed_ST.h5sd\"))\n",
    "setB_observed = sdata_test.seqs_annot[target_cols]\n",
    "target_mask = sdata_test.seqs_annot.columns.str.contains(\"RNCMPT\")\n",
    "target_cols = sdata_test.seqs_annot.columns[target_mask]\n",
    "del sdata_test"
   ]
  },
  {
   "cell_type": "code",
   "execution_count": 4,
   "id": "3059eb52-10f5-42e8-83da-2a739409cef9",
   "metadata": {
    "execution": {
     "iopub.execute_input": "2022-09-07T22:15:34.120446Z",
     "iopub.status.busy": "2022-09-07T22:15:34.120291Z",
     "iopub.status.idle": "2022-09-07T22:16:03.724442Z",
     "shell.execute_reply": "2022-09-07T22:16:03.723677Z",
     "shell.execute_reply.started": "2022-09-07T22:15:34.120431Z"
    },
    "tags": []
   },
   "outputs": [
    {
     "ename": "NameError",
     "evalue": "name 'sdata_test' is not defined",
     "output_type": "error",
     "traceback": [
      "\u001b[0;31m---------------------------------------------------------------------------\u001b[0m",
      "\u001b[0;31mNameError\u001b[0m                                 Traceback (most recent call last)",
      "\u001b[0;32m/tmp/ipykernel_599051/431363612.py\u001b[0m in \u001b[0;36m<module>\u001b[0;34m\u001b[0m\n\u001b[1;32m      1\u001b[0m \u001b[0;31m# Load in the Set B presence/absence predictions\u001b[0m\u001b[0;34m\u001b[0m\u001b[0;34m\u001b[0m\u001b[0;34m\u001b[0m\u001b[0m\n\u001b[1;32m      2\u001b[0m \u001b[0mb_presence_absence\u001b[0m \u001b[0;34m=\u001b[0m \u001b[0mnp\u001b[0m\u001b[0;34m.\u001b[0m\u001b[0mload\u001b[0m\u001b[0;34m(\u001b[0m\u001b[0mos\u001b[0m\u001b[0;34m.\u001b[0m\u001b[0mpath\u001b[0m\u001b[0;34m.\u001b[0m\u001b[0mjoin\u001b[0m\u001b[0;34m(\u001b[0m\u001b[0meu\u001b[0m\u001b[0;34m.\u001b[0m\u001b[0msettings\u001b[0m\u001b[0;34m.\u001b[0m\u001b[0mdataset_dir\u001b[0m\u001b[0;34m,\u001b[0m \u001b[0;34m\"setB_binary.npy\"\u001b[0m\u001b[0;34m)\u001b[0m\u001b[0;34m)\u001b[0m\u001b[0;34m\u001b[0m\u001b[0;34m\u001b[0m\u001b[0m\n\u001b[0;32m----> 3\u001b[0;31m \u001b[0msetB_observed\u001b[0m \u001b[0;34m=\u001b[0m \u001b[0msdata_test\u001b[0m\u001b[0;34m.\u001b[0m\u001b[0mseqs_annot\u001b[0m\u001b[0;34m[\u001b[0m\u001b[0mtarget_cols\u001b[0m\u001b[0;34m]\u001b[0m\u001b[0;34m\u001b[0m\u001b[0;34m\u001b[0m\u001b[0m\n\u001b[0m",
      "\u001b[0;31mNameError\u001b[0m: name 'sdata_test' is not defined"
     ]
    }
   ],
   "source": [
    "# Load in the Set B presence/absence predictions\n",
    "b_presence_absence = np.load(os.path.join(eu.settings.dataset_dir, \"setB_binary.npy\"))"
   ]
  },
  {
   "cell_type": "code",
   "execution_count": 6,
   "id": "794eecbf-14e3-4e0c-8d63-1bef17fe5954",
   "metadata": {
    "execution": {
     "iopub.execute_input": "2022-09-07T22:22:21.989039Z",
     "iopub.status.busy": "2022-09-07T22:22:21.988691Z",
     "iopub.status.idle": "2022-09-07T22:22:38.844845Z",
     "shell.execute_reply": "2022-09-07T22:22:38.844360Z",
     "shell.execute_reply.started": "2022-09-07T22:22:21.989021Z"
    },
    "tags": []
   },
   "outputs": [],
   "source": [
    "# Load in the Set A presence/absence predictions\n",
    "a_presence_absence = np.load(os.path.join(eu.settings.dataset_dir, \"setA_binary_ST.npy\"))\n",
    "setA_observed = eu.dl.read_h5sd(os.path.join(eu.settings.dataset_dir, eu.settings.dataset_dir, \"norm_setA_processed_ST.h5sd\")).seqs_annot[target_cols]"
   ]
  },
  {
   "cell_type": "code",
   "execution_count": 7,
   "id": "d4ca3cba-48d6-4a3a-96eb-18d81cda4c6c",
   "metadata": {
    "execution": {
     "iopub.execute_input": "2022-09-07T22:23:06.909783Z",
     "iopub.status.busy": "2022-09-07T22:23:06.909561Z",
     "iopub.status.idle": "2022-09-07T22:23:08.622153Z",
     "shell.execute_reply": "2022-09-07T22:23:08.621534Z",
     "shell.execute_reply.started": "2022-09-07T22:23:06.909766Z"
    }
   },
   "outputs": [],
   "source": [
    "# This replaces the old num_kmers you could pass in\n",
    "a_presence_absence = a_presence_absence[:100]\n",
    "b_presence_absence = b_presence_absence[:100]"
   ]
  },
  {
   "cell_type": "code",
   "execution_count": 8,
   "id": "dc2104bb-1bee-439e-9de8-a033bbe9cbca",
   "metadata": {
    "execution": {
     "iopub.execute_input": "2022-09-07T22:23:10.757243Z",
     "iopub.status.busy": "2022-09-07T22:23:10.756669Z",
     "iopub.status.idle": "2022-09-07T22:23:23.149882Z",
     "shell.execute_reply": "2022-09-07T22:23:23.149301Z",
     "shell.execute_reply.started": "2022-09-07T22:23:10.757222Z"
    },
    "tags": []
   },
   "outputs": [
    {
     "data": {
      "application/vnd.jupyter.widget-view+json": {
       "model_id": "5386c548e5fc40029b12791bbc5730f4",
       "version_major": 2,
       "version_minor": 0
      },
      "text/plain": [
       "  0%|          | 0/100 [00:00<?, ?it/s]"
      ]
     },
     "metadata": {},
     "output_type": "display_data"
    },
    {
     "data": {
      "application/vnd.jupyter.widget-view+json": {
       "model_id": "4c35d23106f947c1bb4061c32d28f3ae",
       "version_major": 2,
       "version_minor": 0
      },
      "text/plain": [
       "  0%|          | 0/100 [00:00<?, ?it/s]"
      ]
     },
     "metadata": {},
     "output_type": "display_data"
    }
   ],
   "source": [
    "# Calc metrics\n",
    "a_zscores, a_aucs, a_escores = eu.predict.rnacomplete_metrics(a_presence_absence, setA_observed[target_cols[0]].values, verbose=True)\n",
    "b_zscores, b_aucs, b_escores = eu.predict.rnacomplete_metrics(b_presence_absence, setB_observed[target_cols[0]].values, verbose=True)"
   ]
  },
  {
   "cell_type": "code",
   "execution_count": 9,
   "id": "58bd9ff2-f448-408e-9340-51f1b9616f0e",
   "metadata": {
    "execution": {
     "iopub.execute_input": "2022-09-07T22:23:36.041845Z",
     "iopub.status.busy": "2022-09-07T22:23:36.041259Z",
     "iopub.status.idle": "2022-09-07T22:23:37.656983Z",
     "shell.execute_reply": "2022-09-07T22:23:37.656374Z",
     "shell.execute_reply.started": "2022-09-07T22:23:36.041825Z"
    },
    "tags": []
   },
   "outputs": [],
   "source": [
    "# Remove any nans\n",
    "zscore_nan_mask = np.isnan(a_zscores) | np.isnan(b_zscores)\n",
    "a_zscores = a_zscores[~zscore_nan_mask]\n",
    "b_zscores = b_zscores[~zscore_nan_mask]"
   ]
  },
  {
   "cell_type": "code",
   "execution_count": 10,
   "id": "1d372f75-6e7a-4032-810a-aa297d24336f",
   "metadata": {
    "execution": {
     "iopub.execute_input": "2022-09-07T22:23:37.658184Z",
     "iopub.status.busy": "2022-09-07T22:23:37.657955Z",
     "iopub.status.idle": "2022-09-07T22:23:40.169343Z",
     "shell.execute_reply": "2022-09-07T22:23:40.168760Z",
     "shell.execute_reply.started": "2022-09-07T22:23:37.658169Z"
    },
    "tags": []
   },
   "outputs": [
    {
     "data": {
      "text/plain": [
       "<matplotlib.collections.PathCollection at 0x155470f7b890>"
      ]
     },
     "execution_count": 10,
     "metadata": {},
     "output_type": "execute_result"
    },
    {
     "data": {
      "image/png": "[encoded data removed]",
      "text/plain": [
       "<Figure size 1152x288 with 4 Axes>"
      ]
     },
     "metadata": {
      "needs_background": "light"
     },
     "output_type": "display_data"
    }
   ],
   "source": [
    "# Quick plot\n",
    "fig, ax = plt.subplots(1, 1, figsize=(4, 4))\n",
    "ax.scatter(a_zscores, b_zscores)"
   ]
  },
  {
   "cell_type": "markdown",
   "id": "3ccc3b8d-3de2-4aaf-b908-1a69c9d396bd",
   "metadata": {},
   "source": [
    "# MT evaluation testing"
   ]
  },
  {
   "cell_type": "code",
   "execution_count": null,
   "id": "5e06fda1-568b-4f72-a579-d9dcca706c12",
   "metadata": {
    "execution": {
     "iopub.execute_input": "2022-09-07T21:45:56.964059Z",
     "iopub.status.busy": "2022-09-07T21:45:56.963847Z",
     "iopub.status.idle": "2022-09-07T21:46:00.229652Z",
     "shell.execute_reply": "2022-09-07T21:46:00.229111Z",
     "shell.execute_reply.started": "2022-09-07T21:45:56.964042Z"
    },
    "tags": []
   },
   "outputs": [],
   "source": [
    "# Load in test seqdata\n",
    "sdata_test = eu.dl.read_h5sd(os.path.join(eu.settings.output_dir, \"norm_test_predictions_MT.h5sd\"))"
   ]
  },
  {
   "cell_type": "code",
   "execution_count": null,
   "id": "0d7f06af-2798-4565-8450-3f237beb9332",
   "metadata": {
    "execution": {
     "iopub.execute_input": "2022-09-07T21:47:52.385271Z",
     "iopub.status.busy": "2022-09-07T21:47:52.385017Z",
     "iopub.status.idle": "2022-09-07T21:47:54.523389Z",
     "shell.execute_reply": "2022-09-07T21:47:54.522811Z",
     "shell.execute_reply.started": "2022-09-07T21:47:52.385253Z"
    },
    "tags": []
   },
   "outputs": [],
   "source": [
    "# Also need the multi-task columns (single task we could train on all the columns)\n",
    "sdata_training = eu.dl.read_h5sd(os.path.join(eu.settings.dataset_dir, eu.settings.dataset_dir, \"norm_setA_sub_MT.h5sd\"))\n",
    "target_mask_MT = sdata_training.seqs_annot.columns.str.contains(\"RNCMPT\")\n",
    "target_cols_MT = sdata_training.seqs_annot.columns[target_mask_MT]\n",
    "del sdata_training"
   ]
  },
  {
   "cell_type": "code",
   "execution_count": 221,
   "id": "9eb9207b-dcaa-425f-89f6-f05975618b32",
   "metadata": {
    "execution": {
     "iopub.execute_input": "2022-09-07T21:48:02.997436Z",
     "iopub.status.busy": "2022-09-07T21:48:02.997149Z",
     "iopub.status.idle": "2022-09-07T21:48:04.785275Z",
     "shell.execute_reply": "2022-09-07T21:48:04.784724Z",
     "shell.execute_reply.started": "2022-09-07T21:48:02.997417Z"
    },
    "tags": []
   },
   "outputs": [
    {
     "data": {
      "text/plain": [
       "'RNCMPT00055'"
      ]
     },
     "execution_count": 221,
     "metadata": {},
     "output_type": "execute_result"
    }
   ],
   "source": [
    "# Choose single target\n",
    "target_col = target_cols[52]\n",
    "target_col"
   ]
  },
  {
   "cell_type": "code",
   "execution_count": 222,
   "id": "311f71fe-f2e0-4e20-b6a7-b74815980cc7",
   "metadata": {
    "execution": {
     "iopub.execute_input": "2022-09-07T21:48:06.748276Z",
     "iopub.status.busy": "2022-09-07T21:48:06.748036Z",
     "iopub.status.idle": "2022-09-07T21:48:08.959834Z",
     "shell.execute_reply": "2022-09-07T21:48:08.959293Z",
     "shell.execute_reply.started": "2022-09-07T21:48:06.748258Z"
    },
    "tags": []
   },
   "outputs": [
    {
     "data": {
      "text/plain": [
       "((121031,), (121031,), (121031,))"
      ]
     },
     "execution_count": 222,
     "metadata": {},
     "output_type": "execute_result"
    }
   ],
   "source": [
    "# Crab the vals for single target\n",
    "labels = b_presence_absence[0, :]\n",
    "preds = sdata_test[f\"{target_col}_predictions_MT\"].values\n",
    "intensities = sdata_test[target_col].values\n",
    "labels.shape, preds.shape, intensities.shape"
   ]
  },
  {
   "cell_type": "code",
   "execution_count": 223,
   "id": "e18d1ac1-1b47-4e27-8081-df2f8c552d6b",
   "metadata": {
    "execution": {
     "iopub.execute_input": "2022-09-07T21:48:08.961007Z",
     "iopub.status.busy": "2022-09-07T21:48:08.960844Z",
     "iopub.status.idle": "2022-09-07T21:48:10.895469Z",
     "shell.execute_reply": "2022-09-07T21:48:10.894882Z",
     "shell.execute_reply.started": "2022-09-07T21:48:08.960991Z"
    },
    "tags": []
   },
   "outputs": [],
   "source": [
    "from eugene.predict import median_calc, auc_calc, escore"
   ]
  },
  {
   "cell_type": "code",
   "execution_count": 224,
   "id": "b6ff83b8-567d-46b1-a520-c3458569e032",
   "metadata": {
    "execution": {
     "iopub.execute_input": "2022-09-07T21:48:10.896711Z",
     "iopub.status.busy": "2022-09-07T21:48:10.896552Z",
     "iopub.status.idle": "2022-09-07T21:48:12.765960Z",
     "shell.execute_reply": "2022-09-07T21:48:12.765383Z",
     "shell.execute_reply.started": "2022-09-07T21:48:10.896695Z"
    },
    "tags": []
   },
   "outputs": [
    {
     "data": {
      "text/plain": [
       "(-0.06788499, -0.17657996827730077)"
      ]
     },
     "execution_count": 224,
     "metadata": {},
     "output_type": "execute_result"
    }
   ],
   "source": [
    "median_calc(labels, preds), median_calc(labels, intensities)"
   ]
  },
  {
   "cell_type": "code",
   "execution_count": 225,
   "id": "a5d0ccab-7041-41d3-ab37-7742427b3527",
   "metadata": {
    "execution": {
     "iopub.execute_input": "2022-09-07T21:48:12.766954Z",
     "iopub.status.busy": "2022-09-07T21:48:12.766793Z",
     "iopub.status.idle": "2022-09-07T21:48:14.571002Z",
     "shell.execute_reply": "2022-09-07T21:48:14.570460Z",
     "shell.execute_reply.started": "2022-09-07T21:48:12.766938Z"
    },
    "tags": []
   },
   "outputs": [
    {
     "data": {
      "text/plain": [
       "(0.5252261033151457, 0.5156130123779106)"
      ]
     },
     "execution_count": 225,
     "metadata": {},
     "output_type": "execute_result"
    }
   ],
   "source": [
    "auc_calc(labels, preds), auc_calc(labels, intensities)"
   ]
  },
  {
   "cell_type": "code",
   "execution_count": 226,
   "id": "323eb638-e874-4175-8321-010f4b8e30e2",
   "metadata": {
    "execution": {
     "iopub.execute_input": "2022-09-07T21:48:14.572396Z",
     "iopub.status.busy": "2022-09-07T21:48:14.572238Z",
     "iopub.status.idle": "2022-09-07T21:48:16.747858Z",
     "shell.execute_reply": "2022-09-07T21:48:16.747320Z",
     "shell.execute_reply.started": "2022-09-07T21:48:14.572381Z"
    },
    "tags": []
   },
   "outputs": [
    {
     "data": {
      "text/plain": [
       "(0.49781510596239603, 0.46749829845159097)"
      ]
     },
     "execution_count": 226,
     "metadata": {},
     "output_type": "execute_result"
    }
   ],
   "source": [
    "escore(labels, preds), escore(labels, intensities)"
   ]
  },
  {
   "cell_type": "code",
   "execution_count": 227,
   "id": "c0ff83e0-856e-4d9c-89c8-359ceaf3e002",
   "metadata": {
    "execution": {
     "iopub.execute_input": "2022-09-07T21:48:16.748869Z",
     "iopub.status.busy": "2022-09-07T21:48:16.748713Z",
     "iopub.status.idle": "2022-09-07T21:48:19.167910Z",
     "shell.execute_reply": "2022-09-07T21:48:19.167320Z",
     "shell.execute_reply.started": "2022-09-07T21:48:16.748853Z"
    },
    "tags": []
   },
   "outputs": [
    {
     "data": {
      "application/vnd.jupyter.widget-view+json": {
       "model_id": "d6e73bd3cdb5484082f986ddbc3e57db",
       "version_major": 2,
       "version_minor": 0
      },
      "text/plain": [
       "  0%|          | 0/10 [00:00<?, ?it/s]"
      ]
     },
     "metadata": {},
     "output_type": "display_data"
    },
    {
     "data": {
      "text/plain": [
       "(array([-1.05981008, -0.74247943, -0.94913476, -0.48613004,  0.47981208,\n",
       "        -0.87801361,  1.93207508,  0.20937482,  0.36375168,  1.13055425]),\n",
       " array([0.43524887, 0.46928262, 0.44233913, 0.53492168, 0.66045511,\n",
       "        0.42087439, 0.76934717, 0.62352173, 0.64942633, 0.71997496]),\n",
       " array([0.36697874, 0.40842719, 0.38757603, 0.5348988 , 0.71802309,\n",
       "        0.34127643, 0.87619823, 0.72615962, 0.67764401, 0.82600884]))"
      ]
     },
     "execution_count": 227,
     "metadata": {},
     "output_type": "execute_result"
    }
   ],
   "source": [
    "eu.predict.rnacomplete_metrics(b_presence_absence, sdata_test[target_col].values, num_kmers=10, verbose=True)"
   ]
  },
  {
   "cell_type": "code",
   "execution_count": 231,
   "id": "b10bdcc8-d199-40c4-9faa-c1a149b841e6",
   "metadata": {
    "execution": {
     "iopub.execute_input": "2022-09-07T21:49:55.429864Z",
     "iopub.status.busy": "2022-09-07T21:49:55.429554Z",
     "iopub.status.idle": "2022-09-07T21:54:19.493741Z",
     "shell.execute_reply": "2022-09-07T21:54:19.493314Z",
     "shell.execute_reply.started": "2022-09-07T21:49:55.429834Z"
    },
    "tags": []
   },
   "outputs": [
    {
     "data": {
      "application/vnd.jupyter.widget-view+json": {
       "model_id": "1859ea815bab451a8ce5c49882426683",
       "version_major": 2,
       "version_minor": 0
      },
      "text/plain": [
       "Evaluating probes:   0%|          | 0/233 [00:00<?, ?it/s]"
      ]
     },
     "metadata": {},
     "output_type": "display_data"
    },
    {
     "data": {
      "text/plain": [
       "(              Z-score       AUC   E-score  Intensity\n",
       " RNCMPT00001 -0.039457 -0.032978 -0.145536   0.524309\n",
       " RNCMPT00002  0.031223  0.094789  0.218551   0.427225\n",
       " RNCMPT00003  0.330267  0.344004  0.390612   0.532538\n",
       " RNCMPT00004 -0.305282 -0.336388 -0.479128   0.630788\n",
       " RNCMPT00005 -0.249843 -0.159413 -0.113217   0.639680\n",
       " ...               ...       ...       ...        ...\n",
       " RNCMPT00285 -0.354670 -0.451647 -0.614508   0.653492\n",
       " RNCMPT00287  0.220680  0.061984 -0.018125   0.387362\n",
       " RNCMPT00288  0.267428  0.225517  0.054988   0.617957\n",
       " RNCMPT00289 -0.446319 -0.362557 -0.380796   0.550838\n",
       " RNCMPT00291  0.054271  0.231292  0.343924   0.509903\n",
       " \n",
       " [233 rows x 4 columns],\n",
       "               Z-score       AUC   E-score  Intensity\n",
       " RNCMPT00001  0.187879  0.066667  0.018182   0.529210\n",
       " RNCMPT00002  0.248485  0.103030  0.369697   0.351825\n",
       " RNCMPT00003  0.480245  0.248485  0.187879   0.348718\n",
       " RNCMPT00004 -0.369697 -0.333333 -0.539394   0.663869\n",
       " RNCMPT00005 -0.054545 -0.127273 -0.151515   0.640162\n",
       " ...               ...       ...       ...        ...\n",
       " RNCMPT00285 -0.454545 -0.466667 -0.648485   0.694702\n",
       " RNCMPT00287  0.153386  0.139394 -0.103030   0.432607\n",
       " RNCMPT00288  0.357576  0.333333  0.030303   0.673565\n",
       " RNCMPT00289 -0.248485 -0.151515 -0.078788   0.531862\n",
       " RNCMPT00291  0.467099  0.163636  0.187879   0.505947\n",
       " \n",
       " [233 rows x 4 columns])"
      ]
     },
     "execution_count": 231,
     "metadata": {},
     "output_type": "execute_result"
    }
   ],
   "source": [
    "eu.predict.rnacomplete_metrics_sdata_table(sdata_test, b_presence_absence, target_keys=target_cols_MT, num_kmers=10, verbose=False, preds_suffix=\"_predictions_MT\")"
   ]
  },
  {
   "cell_type": "code",
   "execution_count": 174,
   "id": "e1634eb0-c788-4932-b835-5c0a48af52d5",
   "metadata": {
    "execution": {
     "iopub.execute_input": "2022-09-07T20:51:42.523129Z",
     "iopub.status.busy": "2022-09-07T20:51:42.522574Z",
     "iopub.status.idle": "2022-09-07T20:52:30.135977Z",
     "shell.execute_reply": "2022-09-07T20:52:30.135471Z",
     "shell.execute_reply.started": "2022-09-07T20:51:42.523091Z"
    },
    "tags": []
   },
   "outputs": [
    {
     "name": "stdout",
     "output_type": "stream",
     "text": [
      "30.5 ms ± 14.2 µs per loop (mean ± std. dev. of 7 runs, 10 loops each)\n",
      "2.91 s ± 701 µs per loop (mean ± std. dev. of 7 runs, 1 loop each)\n",
      "2.46 s ± 1.68 ms per loop (mean ± std. dev. of 7 runs, 1 loop each)\n"
     ]
    }
   ],
   "source": [
    "%timeit np.apply_along_axis(median_calc, 1, b_presence_absence[:100], preds)\n",
    "%timeit np.apply_along_axis(escore, 1, b_presence_absence[:100], preds)\n",
    "%timeit np.apply_along_axis(auc_calc, 1, b_presence_absence[:100], preds)"
   ]
  },
  {
   "cell_type": "code",
   "execution_count": 155,
   "id": "06a147bf-c472-46dd-81bf-990358231c17",
   "metadata": {
    "execution": {
     "iopub.execute_input": "2022-09-07T20:40:19.999002Z",
     "iopub.status.busy": "2022-09-07T20:40:19.998493Z",
     "iopub.status.idle": "2022-09-07T20:40:22.351188Z",
     "shell.execute_reply": "2022-09-07T20:40:22.350531Z",
     "shell.execute_reply.started": "2022-09-07T20:40:19.998978Z"
    },
    "tags": []
   },
   "outputs": [
    {
     "data": {
      "text/plain": [
       "0"
      ]
     },
     "execution_count": 155,
     "metadata": {},
     "output_type": "execute_result"
    }
   ],
   "source": [
    "np.sum(b_presence_absence[8329, :])"
   ]
  },
  {
   "cell_type": "code",
   "execution_count": 157,
   "id": "a39ebd0d-f2ca-4665-9bf1-7da94227ee8e",
   "metadata": {
    "execution": {
     "iopub.execute_input": "2022-09-07T20:43:36.283599Z",
     "iopub.status.busy": "2022-09-07T20:43:36.283346Z",
     "iopub.status.idle": "2022-09-07T20:44:32.208381Z",
     "shell.execute_reply": "2022-09-07T20:44:32.207906Z",
     "shell.execute_reply.started": "2022-09-07T20:43:36.283580Z"
    },
    "tags": []
   },
   "outputs": [
    {
     "data": {
      "application/vnd.jupyter.widget-view+json": {
       "model_id": "5e5b7c90554f437788994164d840c1b9",
       "version_major": 2,
       "version_minor": 0
      },
      "text/plain": [
       "  0%|          | 0/1000 [00:00<?, ?it/s]"
      ]
     },
     "metadata": {},
     "output_type": "display_data"
    },
    {
     "data": {
      "text/plain": [
       "(array([-5.54138245e-01,  1.83633600e-01,  1.06339130e+00, -1.03899400e+00,\n",
       "        -3.18223881e-02, -7.62156436e-01,  6.03908644e-01, -7.39418559e-01,\n",
       "        -4.86047002e-01, -3.98938155e-02,  8.71523714e-01, -6.61840504e-02,\n",
       "        -1.53538274e-01, -4.62079045e-01, -7.17995968e-01, -3.50863761e-01,\n",
       "         7.67447227e-01, -1.12017304e+00, -7.68426123e-01, -2.78392877e-01,\n",
       "         6.15667211e-01, -1.09517795e+00,  1.11758916e+00,  2.17000063e-02,\n",
       "         4.11486433e-01,  3.14730003e-01, -2.00157953e-02, -5.56728538e-01,\n",
       "         3.28605751e-02,  1.92119617e-02, -6.74751088e-01, -4.85534210e-01,\n",
       "        -7.45435723e-01, -2.18323486e-01, -3.75870295e-02, -8.61168528e-01,\n",
       "        -9.10610281e-01, -4.18628119e-01, -8.67602432e-01, -6.44519642e-01,\n",
       "        -4.01645588e-01, -3.97321719e-01,  3.61759994e+00,  6.11976973e-01,\n",
       "        -1.13844297e+00, -2.99694629e-01,  2.00733872e-01,  6.17225123e-02,\n",
       "         6.76591169e-02, -5.13080861e-01, -2.97386895e-02, -8.35429815e-01,\n",
       "         3.01529019e+00,  1.07189187e+00, -2.13362889e-01, -6.80257010e-01,\n",
       "         8.80763252e-01,  1.70112023e-01,  1.18282924e-01,  5.05880305e-01,\n",
       "        -5.64208765e-02,  3.70867478e-01, -3.55131857e-01, -5.43206961e-01,\n",
       "        -6.90670855e-01, -3.34784424e-01,  4.04459179e-01,  7.90179856e-02,\n",
       "        -4.45290166e-01, -9.94929587e-01, -1.32214833e-01, -6.97038744e-02,\n",
       "        -1.19078641e+00, -3.66871833e-01, -4.49494745e-01, -3.79705558e-01,\n",
       "         1.16188441e+00, -5.91356666e-01, -4.28075252e-01, -4.01008859e-01,\n",
       "         5.35907255e-01, -1.24419572e+00, -5.46974660e-01,  5.32994724e-01,\n",
       "        -4.71704339e-01,  1.45398892e-01,  3.63113641e-01, -6.55119394e-01,\n",
       "         7.44490910e-01,  5.75179939e-01,  4.41621828e-01, -5.65151638e-01,\n",
       "        -9.21241619e-02, -1.07848668e+00, -2.22614821e-01, -6.03731822e-01,\n",
       "        -6.01359021e-02, -2.51241277e-01, -5.85948345e-01,  2.21657210e+00,\n",
       "         2.53307729e-03, -1.17036462e+00, -5.41908716e-01, -4.87512562e-01,\n",
       "        -1.17181219e-01,  5.32994724e-01, -5.69414139e-02,  9.83922601e-01,\n",
       "        -8.30215146e-01, -1.97718882e-01,  1.23484330e+00,  3.59987318e-01,\n",
       "         1.34231877e+00,  1.33274460e+00, -2.78828207e-01,  6.25894735e-03,\n",
       "        -2.50401600e-01, -3.55715912e-01, -8.65483101e-01,  1.43920378e+00,\n",
       "        -3.48504301e-01, -4.90610999e-01, -1.17465595e+00,  1.02721706e+00,\n",
       "        -6.74772777e-01, -2.07966013e-02, -9.16283519e-01,  2.36784182e-01,\n",
       "        -7.04300878e-01,  9.67499338e-01, -1.31896564e+00, -4.17494091e-01,\n",
       "        -6.24843020e-01, -3.03564576e-01,  2.45264603e-01, -1.23256109e+00,\n",
       "        -3.59705150e-01, -3.07637471e-01, -1.08196002e+00, -1.27948286e-01,\n",
       "        -2.37065929e-01, -4.67553983e-01, -9.08422785e-01, -1.29038936e-01,\n",
       "         4.04899157e-01,  1.23078434e+00,  1.87774661e-01,  3.94240535e-01,\n",
       "        -7.88400195e-01, -1.16114987e+00, -4.18546010e-01,  5.74519972e-01,\n",
       "        -3.93961465e-01, -1.97548468e-01,  2.65924378e-02, -7.69326219e-01,\n",
       "        -7.89611683e-01, -8.84505953e-01,  4.36342092e-01,  4.53033370e-01,\n",
       "        -8.21593746e-01, -6.11205251e-01,  2.30179925e+00,  4.81265724e-02,\n",
       "        -2.93739434e-01, -1.06357080e+00, -2.52316434e-01,  1.94430472e+00,\n",
       "        -4.09614767e-01,  8.43999700e-02, -6.52086024e-01,  2.23527521e-01,\n",
       "         1.06919407e-01,  2.32487020e+00,  2.55591692e-01, -5.95806021e-01,\n",
       "        -8.27281528e-02, -1.43606236e-01, -1.14659091e-01, -8.39380322e-01,\n",
       "        -1.60220053e-01,  1.04646764e+00, -9.23870041e-01,  8.73085326e-01,\n",
       "        -1.03640681e+00,  1.81196680e-01, -4.61268804e-01,  1.59649747e+00,\n",
       "         1.03082364e+00,  5.10391028e-02,  4.99918913e-01,  1.52858128e+00,\n",
       "        -6.63389121e-01, -7.39815159e-01, -8.48929703e-01,  6.17086295e-01,\n",
       "         6.00986818e-01, -4.76023559e-01, -2.97386294e-01, -7.67660809e-01,\n",
       "        -2.06208599e-01,  3.96508591e-01, -9.17127843e-01,  6.38456212e-01,\n",
       "        -5.86913508e-01, -4.45107358e-01, -1.07106282e+00, -3.66621461e-02,\n",
       "        -5.16473649e-01, -8.33536670e-01,  8.15571544e-02, -1.07277006e+00,\n",
       "        -9.03917658e-01,  2.21311269e+00,  3.33350058e-01,  2.20574711e-01,\n",
       "        -8.71824052e-01, -9.46167940e-01, -9.18260321e-01, -5.15457362e-01,\n",
       "        -4.26886054e-02, -4.18837263e-01,  2.62562574e-02, -2.07372062e-01,\n",
       "        -1.17098740e+00,  1.18712427e+00, -1.12071992e+00,  3.07660920e-01,\n",
       "         1.30980377e+00, -2.11136662e-01, -2.38454029e-01,  3.48379025e-01,\n",
       "        -9.38722397e-01, -6.37182959e-03, -4.56807055e-01, -6.46031679e-01,\n",
       "         5.19644550e+00, -2.59570476e-02, -9.57446250e-01, -6.63841493e-01,\n",
       "        -2.71949678e-01, -1.10986145e+00, -7.02035921e-01, -5.06955252e-01,\n",
       "        -9.90732754e-01, -1.70908110e-01, -4.57532089e-01,  1.13385130e+00,\n",
       "         6.64300272e-01,  5.09260700e-01,  8.49446938e-03, -9.34183187e-01,\n",
       "         7.66768670e-01,  7.92916377e-01, -6.67789502e-02,  5.41626969e-01,\n",
       "         1.04341508e-01, -3.23549492e-01,  1.58236240e+00,  2.62562574e-02,\n",
       "        -2.44799627e-01, -1.02017470e-01,  8.58807730e-01, -3.19736866e-01,\n",
       "        -1.15545244e-01, -3.81584760e-01, -6.95783276e-01, -1.06357080e+00,\n",
       "        -4.86149250e-01,  1.05152739e+00,  6.52293830e-01,  4.43366248e-01,\n",
       "        -9.59708108e-01, -4.49352217e-01,  8.74941290e-01, -4.21153946e-02,\n",
       "         4.90199118e-01, -8.62807601e-01, -4.39775550e-02, -4.27244871e-01,\n",
       "        -6.99560270e-01,  5.10391028e-02, -2.66466994e-01,  4.05641233e-01,\n",
       "         6.41578835e-02, -1.00281356e+00,  2.24244714e+00, -4.56944936e-01,\n",
       "        -6.68632091e-03,  2.19115097e+00, -2.40031133e-01, -1.29962270e-01,\n",
       "        -8.78727368e-01,  1.41439770e+00, -1.03587698e+00,  1.92356224e+00,\n",
       "        -4.89381521e-02,  3.98925371e-01,  1.37702375e-01,  2.73305455e-01,\n",
       "        -9.52690750e-02, -9.61663222e-01, -1.88147812e-01, -6.27928115e-02,\n",
       "         1.39647014e+00,  9.51407006e-02,  6.56941485e-01, -2.38234040e-01,\n",
       "        -2.59817749e-01, -6.76476917e-01, -4.57741234e-01,  1.13393341e+00,\n",
       "        -2.87074696e-01, -7.97102154e-01,  2.17526797e-02, -2.89373736e-01,\n",
       "        -9.27465777e-01, -2.80236447e-01,  6.81697994e-01, -3.84960507e-01,\n",
       "         2.60567782e-01, -2.39468767e-01,  1.18615756e+00,  7.61913420e-01,\n",
       "         1.50322058e+00,  1.11306794e-01, -2.87279193e-01,  2.51408803e-01,\n",
       "        -5.69655216e-01, -3.21166795e-01,  2.30745329e-01, -3.24627748e-01,\n",
       "        -1.04324196e+00,  1.41439770e+00, -1.04281747e+00, -5.50441810e-01,\n",
       "        -9.92939442e-02, -2.18337429e-01, -1.13682869e+00, -3.89921705e-02,\n",
       "         9.13869446e-02, -2.59570476e-02, -6.63258987e-01, -5.82677945e-01,\n",
       "         5.19062604e-01, -3.06012341e-01, -2.17985756e-01,  8.71241756e-01,\n",
       "        -7.74511452e-01, -5.15457362e-01, -2.41141923e-01,  4.81960374e-01,\n",
       "        -4.14070319e-01,  1.00626483e-01, -8.47225563e-01,  1.56376653e-01,\n",
       "        -8.26991223e-01, -5.02538431e-01,  4.44137759e-01,  1.18603982e+00,\n",
       "        -1.12684088e+00, -3.08618727e-02, -6.04122225e-01,  1.32230536e-01,\n",
       "        -2.37323700e-02,  2.26976761e+00,  4.47829440e-04, -1.72426344e-01,\n",
       "        -1.36857781e+00, -2.77091534e-01, -6.46705589e-01, -3.37875114e-01,\n",
       "         5.82650270e-01, -1.01207788e+00,  4.86490289e-01,  1.66221221e+00,\n",
       "         3.61598090e-03, -5.91568909e-01,  2.54854265e-01, -5.22043089e-01,\n",
       "        -4.72588942e-01, -1.41237111e+00, -9.78541955e-01,  3.08171448e+00,\n",
       "         1.30761008e+00, -5.41375785e-01,  9.65393950e-01, -7.73334046e-01,\n",
       "        -2.49004205e-01, -2.52084052e-01, -1.26454840e-01, -4.80810644e-01,\n",
       "        -1.23440061e-01, -1.90198977e-01, -3.84573202e-01, -4.71439422e-01,\n",
       "        -9.34580388e-02,  1.96631542e-01,  1.31484803e+00, -3.17203894e-01,\n",
       "        -1.03232057e-01, -7.67642218e-01,  9.87127934e-01, -7.88071760e-01,\n",
       "        -1.11520160e+00, -1.34319232e+00,  2.16659836e-01,  2.49378726e-02,\n",
       "        -5.15922128e-01, -1.08579959e-01, -3.86308326e-01,  5.27736118e+00,\n",
       "        -1.18142335e-02, -5.14983301e-01, -2.36229351e-01, -2.93094959e-01,\n",
       "         2.54496395e-01, -3.09910174e-01, -3.37875114e-01, -4.95611876e-01,\n",
       "         2.73130393e-01, -2.59570476e-02, -1.47547447e-01,  3.39392010e-01,\n",
       "        -2.03624503e-01,  1.50185977e-01,  6.63230896e-03, -8.84216249e-01,\n",
       "        -5.52672685e-01, -7.99309790e-01, -2.57895169e-01, -6.13056567e-01,\n",
       "        -3.99929655e-02, -1.11739994e+00,  1.20366528e+00, -1.05091119e-01,\n",
       "         7.04570052e-02,  1.69060628e+00,  1.16517763e-02, -2.64361607e-01,\n",
       "         1.36860900e+00, -6.13316836e-01, -1.13255440e+00, -3.78670680e-01,\n",
       "         5.17979451e+00,  1.82023713e+00, -5.98721650e-01, -1.82829345e-01,\n",
       "        -8.28063282e-01, -4.74090135e-01, -6.09020853e-01, -1.93133196e-01,\n",
       "        -6.81807777e-01, -7.11929229e-01, -5.93212630e-01,  7.81689191e-01,\n",
       "         1.44086145e+00, -1.42290949e-01, -5.66950281e-01, -3.22046751e-01,\n",
       "         9.05131855e-02,  7.22592710e-01,  1.21877480e+00, -5.89451127e-01,\n",
       "        -1.08375462e-01, -3.93574160e-01,  7.73464391e-01,  3.18120528e+00,\n",
       "         7.23430837e-01, -8.06498163e-01, -1.37347489e+00, -5.50441810e-01,\n",
       "         2.70669675e+00, -1.62359523e-01,  2.20951171e-01,  1.47981809e+00,\n",
       "        -6.21818946e-01,  8.22475462e-01,  4.28623886e-01,  1.53299905e-01,\n",
       "         6.33827148e-01,  1.25405980e+00, -4.34135794e-01, -4.45259182e-01,\n",
       "         1.21764232e+00,  8.91381594e-01,  1.26440858e+00, -7.65250225e-01,\n",
       "         1.68661954e-01,  2.76461582e+00, -9.91333851e-01, -4.40837713e-01,\n",
       "         1.50634381e+00, -1.34718000e+00, -7.46752559e-01, -6.35937573e-02,\n",
       "        -6.09247039e-01, -2.95977106e-02,  6.28488541e-01, -2.65996032e-01,\n",
       "        -7.62281923e-01,  1.64447211e+00,  1.03077251e+00, -9.68446301e-02,\n",
       "         6.15580454e-01, -4.71453365e-01, -9.47516361e-02,  3.03710413e-01,\n",
       "        -5.12386812e-01, -7.72826504e-02, -1.40076437e+00, -8.44778213e-03,\n",
       "         4.60186111e-01, -9.87758255e-01,  1.80511366e+00,  1.85621927e+00,\n",
       "        -1.24325844e+00, -2.62023836e-01,  8.11344328e-01, -1.92866731e-01,\n",
       "        -1.17781481e+00,  3.28151252e+00,  1.11033882e+00, -7.97504951e-01,\n",
       "         6.42353444e-02, -1.40266121e-01, -7.63494961e-01, -2.54358304e-01,\n",
       "         5.10522133e+00, -1.82028399e-01,  5.73497488e-01, -4.78307107e-01,\n",
       "        -4.92217538e-01, -3.50863761e-01, -4.05630778e-02,  2.20024489e+00,\n",
       "         2.79356701e-01,  2.85921729e+00,  1.03387405e+00, -6.27928115e-02,\n",
       "        -2.27767521e-01,  8.38788731e-01, -5.74845097e-01,  9.78827222e-01,\n",
       "         1.04633441e+00, -5.47475057e-01, -9.22918821e-01, -2.01615166e-01,\n",
       "         4.94972319e+00, -4.74006477e-01,  1.19645986e+00, -1.56489535e-01,\n",
       "        -7.93043202e-01,  1.60875333e+00, -5.28741909e-01, -3.86735911e-01,\n",
       "         1.01562890e+00, -1.80494673e-01,  9.41548382e-01,  7.07672188e-01,\n",
       "         2.66101590e-01, -4.52974289e-01, -5.90501498e-01, -8.94073925e-01,\n",
       "        -1.72494510e-01,  4.62318784e-02, -2.16348233e-01,  2.72533944e-01,\n",
       "         6.53582780e-01, -1.12279742e+00, -8.07915698e-01, -3.04917044e-01,\n",
       "        -1.94220747e-01,  1.56029628e-01, -2.34531408e-01, -3.73205038e-01,\n",
       "        -9.62264920e-02, -6.98646231e-01,  5.73497488e-01, -1.49054002e+00,\n",
       "        -4.07944709e-01,  1.91000133e-01, -4.15359869e-02,  1.83264636e+00,\n",
       "         1.81677885e-02, -7.01472006e-01,  6.14130386e-01, -4.54532803e-01,\n",
       "        -8.56163004e-01, -4.06438869e-01, -1.14010838e+00,  9.68272398e-01,\n",
       "         1.19954591e+00, -5.46464967e-01, -8.78539913e-01, -1.87467705e-01,\n",
       "        -4.92586252e-01, -4.38859361e-01,  3.54911478e-02, -1.08364867e+00,\n",
       "        -4.16366260e-01, -1.05500113e-01, -9.76641065e-01, -2.21220524e-01,\n",
       "        -2.97169403e-01, -1.49008360e-01, -9.34177592e-02, -7.72621406e-01,\n",
       "        -4.52088136e-01, -7.61535200e-01, -2.60508701e-01, -9.72768019e-01,\n",
       "         1.42608750e-01, -9.37764980e-01, -8.82521404e-01,  1.37322102e+00,\n",
       "        -8.42878457e-01,  2.03277688e-01, -7.04613820e-01, -3.18176803e-01,\n",
       "        -2.23942501e-01, -8.12598985e-01, -4.77696715e-01, -5.60561304e-01,\n",
       "         2.96869065e-01, -1.10095094e-01,  4.27043684e-01, -8.87130329e-01,\n",
       "        -3.80461577e-01, -4.56323699e-01, -5.11712902e-01, -8.23618575e-01,\n",
       "         9.84791713e-01, -6.69598388e-01,  1.26163238e+00, -8.30831735e-01,\n",
       "        -7.34668656e-01, -5.54836943e-01, -4.74675739e-01, -6.10759076e-01,\n",
       "         2.06053888e-01, -6.17632958e-01, -1.75949267e-01,  5.57190416e-01,\n",
       "         7.70791990e-01, -5.63622560e-01,  1.00866362e+00, -3.49498899e-01,\n",
       "        -5.68762866e-01, -1.82394015e-01,  6.41825762e-01, -2.59570476e-02,\n",
       "        -1.81582224e-01, -7.03420922e-01, -1.06851591e+00, -2.59570476e-02,\n",
       "        -5.34419794e-01,  4.57356059e+00, -4.76039051e-01, -5.76540543e-02,\n",
       "        -4.23517452e-01, -1.00943957e+00,  3.17314469e+00, -3.08582494e-01,\n",
       "        -1.25826458e-02,  3.75609034e-02, -1.28103768e+00,  1.04854360e+00,\n",
       "        -2.59570476e-02, -4.98972130e-01, -5.91334977e-01,  4.94310142e-02,\n",
       "        -1.17781481e+00,  2.75376665e+00, -8.76322982e-01, -6.98482014e-01,\n",
       "        -6.89075762e-02, -6.87724242e-01,  4.31141271e+00, -8.00524377e-01,\n",
       "         6.37080506e-01,  3.05090767e-01,  3.44392886e-01,  1.06456191e-01,\n",
       "         4.34997370e-01, -3.50267727e-03, -6.77008299e-01, -1.02581016e+00,\n",
       "        -1.45928514e-01, -1.56717270e-01, -8.73701704e-01, -6.82038611e-01,\n",
       "        -1.11226273e+00, -7.22216039e-01, -5.52672685e-01,  1.65329026e+00,\n",
       "        -1.10244999e+00, -1.25203071e-01,  2.05115061e-01, -1.30043544e+00,\n",
       "         2.77091744e-01, -1.10033995e+00,  3.04261935e-01,  2.10016788e-01,\n",
       "         1.84323002e-01, -8.60883472e-01, -3.60317091e-01, -2.62945621e-01,\n",
       "        -7.79588241e-01,  1.66612399e+00, -1.13859015e+00, -1.12193296e+00,\n",
       "        -4.04914438e-01,  5.72041223e-01, -1.47425059e-01, -3.54784832e-01,\n",
       "         7.94986347e+00, -1.39768917e+00,  1.06226347e+00,  3.18892152e-02,\n",
       "        -1.20899902e+00, -7.80062302e-01, -3.08044916e-01, -1.49008360e-01,\n",
       "        -4.71439422e-01, -1.85582306e-01, -2.70615801e-01, -5.70978248e-01,\n",
       "        -7.75075368e-01,  2.38643244e-01,  6.18898880e-01, -3.92641531e-01,\n",
       "        -4.76023559e-01, -1.05536614e+00, -2.34054249e-01, -6.21296859e-01,\n",
       "        -4.17125377e-01, -9.98702534e-02, -1.27257335e-01, -3.52993936e-01,\n",
       "        -3.81597154e-01,  1.16081545e+00, -2.56741002e-01, -3.57579622e-01,\n",
       "         1.90244175e+00, -7.72141148e-01,  5.39256665e-01, -8.76322982e-01,\n",
       "        -7.48475289e-01,  3.64057114e-01, -9.48800062e-01, -8.29703904e-01,\n",
       "        -1.32066358e+00,  5.51805333e-01,  2.00333924e+00,  5.14078168e-02,\n",
       "        -1.75506190e-01,  5.75179939e-01, -7.86725490e-01, -4.77069282e-01,\n",
       "         4.92048283e-02,  1.41581368e+00, -8.22881147e-01, -1.15891280e+00,\n",
       "         4.25255886e-01, -2.93080068e-02,  4.39070265e-01, -1.39768917e+00,\n",
       "         2.03277688e-01, -7.22958114e-01, -1.90141656e-01,  5.22360890e-01,\n",
       "        -9.01968742e-01, -1.08364867e+00, -9.94070372e-02,  3.58459188e-02,\n",
       "        -3.96226422e-01,  2.66311682e-02,  1.53901527e+00, -9.16221550e-01,\n",
       "        -9.78340557e-01, -8.45586490e-01, -6.88252526e-01, -8.54963909e-01,\n",
       "         2.41710696e-01, -5.61593084e-01, -3.98401525e-01,  1.66207123e+00,\n",
       "         1.34399347e+00, -8.55238120e-01,  4.22919664e-01,  1.08577131e+00,\n",
       "        -3.79874423e-01, -1.04143867e+00, -5.94574392e-01,  3.53639301e+00,\n",
       "         5.27370502e+00, -3.40687547e-02, -3.36507154e-01,  5.87638753e-01,\n",
       "        -2.56341303e-01, -5.00541903e-03,  1.46420662e+00,  3.46375285e-02,\n",
       "        -5.22478420e-01, -1.03922484e+00, -2.86386843e-01,  1.75771997e+00,\n",
       "        -3.47653780e-01, -1.95983758e-01,  7.92275000e-01, -7.91225969e-01,\n",
       "        -2.82591860e-02, -8.59571284e-01, -5.10435398e-02,  4.79690770e-01,\n",
       "         1.81830525e+00, -1.07222164e+00, -6.88252526e-01, -6.43692359e-01,\n",
       "        -6.60868543e-01,  9.07220802e-01, -1.35677586e+00, -7.59741205e-01,\n",
       "         2.59852413e+00, -2.39721289e-01,  4.41364658e-01, -7.35918875e-01,\n",
       "        -3.89193572e-02, -8.83523748e-01, -5.41189878e-01, -5.37118533e-01,\n",
       "        -7.08840088e-01, -6.18564038e-01,  9.15162096e-01,  1.95922000e-01,\n",
       "        -1.93932593e-01, -4.86701373e-02,  1.67058513e-01, -5.76508958e-01,\n",
       "        -3.37305002e-01,  1.62760982e-01, -7.03600632e-01,  2.76056866e-01,\n",
       "         1.44621245e+00, -6.10759076e-01, -2.14898164e-01, -5.47969258e-01,\n",
       "         7.90964362e-01, -4.29308430e-01, -1.25806897e+00, -1.32940272e+00,\n",
       "        -7.10643378e-01, -6.70382292e-01,  2.24926465e-01, -1.66499035e-01,\n",
       "        -5.20786673e-01,  1.54693023e+00,  4.75304838e+00, -3.31428817e-01,\n",
       "        -5.34649079e-01, -2.56713116e-01,  1.90602044e+00, -6.39196528e-01,\n",
       "         7.83033913e-01, -1.14602020e+00,  3.28211301e-01, -8.66902185e-01,\n",
       "         6.29647357e-01, -1.14310767e+00, -5.29927061e-01,  1.76638320e+00,\n",
       "         1.98098247e+00, -1.09517795e+00, -1.10425328e+00,  8.99384255e-02,\n",
       "         3.30889650e+00, -4.05235127e-01, -4.72994837e-01, -1.23086839e-01,\n",
       "         9.03922517e-01, -2.76096935e-01, -3.95448715e-01, -2.35232256e-02,\n",
       "        -4.06073254e-01,  1.18904840e+00,  1.01562890e+00, -5.34354727e-01,\n",
       "        -4.67955230e-01,  3.64610185e-01,  7.97875424e-01,  1.37214897e+00,\n",
       "         4.53869948e-01, -4.44978773e-01, -3.22886427e-01,  5.17600512e+00,\n",
       "        -6.72489229e-01, -9.22775345e-02, -3.66822860e-02, -4.12803659e-02,\n",
       "        -6.92491187e-01, -6.16655401e-01, -1.12738061e-01, -8.38376428e-01,\n",
       "         1.90586492e-01, -7.03420922e-01, -3.59223343e-01, -7.06965534e-01,\n",
       "         7.43548986e-01, -3.85357106e-01, -3.55172738e-02, -2.54835463e-01,\n",
       "         8.20910752e-01, -8.50550186e-01,  4.86175798e-01, -9.61037338e-01,\n",
       "        -4.81884252e-01,  4.15627494e-01, -1.19796859e+00, -4.00427902e-01,\n",
       "         5.24204460e-01,  6.63841102e-02, -3.36079570e-01, -2.35232256e-02,\n",
       "         1.60196156e+00,  4.12620461e-01, -1.30043544e+00,  1.22911119e+00,\n",
       "        -1.72463525e-01,  2.29096961e-01,  3.53128928e-01, -6.38493183e-01,\n",
       "         4.27846179e-01, -9.02498574e-01,  2.09033714e+00, -7.59503226e-02,\n",
       "         1.36488158e+00, -5.42754589e-01, -3.44581680e-01, -1.37826662e+00,\n",
       "         2.85243731e-01,  3.65425074e-01,  4.73049271e-01, -1.00741164e+00,\n",
       "        -7.85495410e-01, -4.68226343e-01, -4.71705888e-01, -2.42076101e-01,\n",
       "        -6.19742993e-01, -5.48447966e-01, -8.87130329e-01,  1.19856370e+00,\n",
       "         6.63342855e-01,  1.35221517e+00,  5.92917888e-02, -1.16735294e+00,\n",
       "         8.11497701e-01,  7.14513536e-01,  9.90243412e-01,  2.48274330e+00,\n",
       "        -3.92471117e-01,  2.09105848e-01, -3.81188160e-01,  7.74462088e-01,\n",
       "        -4.69008699e-01,  1.32064770e-01, -7.41565776e-01,  7.81092742e-01,\n",
       "         1.52747824e+00, -2.55517119e-01,  1.02523096e+00, -4.56807055e-01,\n",
       "        -2.49135889e-01, -3.23549492e-01, -1.56489535e-01, -1.56863921e+00,\n",
       "        -4.22502714e-01,  3.23756697e-02, -1.25011218e+00,  3.23014044e+00,\n",
       "         1.74644434e-02,  1.16517763e-02, -3.51144169e-01,  1.22609331e+00,\n",
       "         3.46570672e-03,  2.09282459e-01, -7.19490964e-01, -4.43355193e-01,\n",
       "        -3.55898720e-01, -6.95674831e-01,  2.47555957e+00, -4.18801631e-01,\n",
       "         3.57768837e-01,  9.52916546e-01, -5.64000569e-01, -1.28247690e+00,\n",
       "        -4.54094374e-01, -4.84654254e-01,  2.23789339e-01,  5.51636468e-01]),\n",
       " array([0.45243659, 0.5376741 , 0.61277301, 0.41298652, 0.48533508,\n",
       "        0.43403892, 0.56510185, 0.42738262, 0.46440957, 0.50856985,\n",
       "        0.59016327, 0.50931785, 0.4876362 , 0.46363297, 0.45127456,\n",
       "        0.47195154, 0.58836805, 0.40259827, 0.47755232, 0.48909043,\n",
       "        0.57677404, 0.40827178, 0.61327591, 0.49892977, 0.54181214,\n",
       "        0.54936878, 0.49681305, 0.47199803, 0.51147127, 0.52807542,\n",
       "        0.45151401, 0.47441851, 0.44456037, 0.49005479, 0.51846667,\n",
       "        0.43602658, 0.43098068, 0.45375038, 0.4153648 , 0.45472567,\n",
       "        0.48238205, 0.47272418, 0.74916625, 0.58941576, 0.41170084,\n",
       "        0.46611118, 0.5340792 , 0.52292331, 0.51508617, 0.45032427,\n",
       "        0.49646726, 0.44076886, 0.72682457, 0.59358208, 0.48199951,\n",
       "        0.45774011, 0.59180804, 0.51952457, 0.52778904, 0.57131864,\n",
       "        0.49328738, 0.52398599, 0.49710956, 0.47378813, 0.47961305,\n",
       "        0.48323449, 0.54717596, 0.50455096, 0.4661688 , 0.40607643,\n",
       "        0.5041783 , 0.49726831, 0.41371563, 0.48012852, 0.46278134,\n",
       "        0.48600426, 0.58642035, 0.45938606, 0.48660366, 0.49127945,\n",
       "        0.5415805 , 0.40412814, 0.44782418, 0.5491928 , 0.47158105,\n",
       "        0.53789034, 0.53053841, 0.43391679, 0.58729303, 0.57667655,\n",
       "        0.52275583, 0.44785129, 0.48148442, 0.42062426, 0.46498447,\n",
       "        0.45293118, 0.51143963, 0.48613643, 0.43345993, 0.69487848,\n",
       "        0.49733901, 0.38623001, 0.48016919, 0.46031115, 0.51659207,\n",
       "        0.56276647, 0.47990704, 0.59528777, 0.44390211, 0.49822296,\n",
       "        0.60985451, 0.53487813, 0.63194697, 0.6318194 , 0.49425619,\n",
       "        0.52693031, 0.48088459, 0.48552434, 0.44196327, 0.6266011 ,\n",
       "        0.47766955, 0.46027497, 0.38507743, 0.57167584, 0.44678393,\n",
       "        0.50871687, 0.43972944, 0.53517431, 0.45421774, 0.61950833,\n",
       "        0.41454671, 0.46232684, 0.44219974, 0.49666204, 0.51796212,\n",
       "        0.41596629, 0.47553698, 0.50472589, 0.42895736, 0.49740763,\n",
       "        0.47067885, 0.48010241, 0.44133512, 0.4744851 , 0.53737976,\n",
       "        0.61716453, 0.54942612, 0.53669342, 0.42121406, 0.39411767,\n",
       "        0.48531798, 0.57099702, 0.48498628, 0.46297832, 0.51569401,\n",
       "        0.42900276, 0.43207155, 0.42148681, 0.57608363, 0.56166665,\n",
       "        0.4473693 , 0.45883609, 0.67760001, 0.53472538, 0.48488083,\n",
       "        0.41448334, 0.46789729, 0.65462229, 0.45420576, 0.52477441,\n",
       "        0.44416938, 0.51619362, 0.52543014, 0.65103979, 0.52706723,\n",
       "        0.46628041, 0.49506803, 0.50323868, 0.50804525, 0.45264544,\n",
       "        0.49119588, 0.60060676, 0.44520875, 0.5818563 , 0.42981233,\n",
       "        0.54098507, 0.49144188, 0.63735894, 0.6091437 , 0.52784959,\n",
       "        0.54877828, 0.63886481, 0.45230969, 0.43433732, 0.4244843 ,\n",
       "        0.56581174, 0.54559462, 0.47606847, 0.48995702, 0.43716523,\n",
       "        0.49284743, 0.55212642, 0.44658623, 0.56554767, 0.47039748,\n",
       "        0.46988652, 0.42629543, 0.49947292, 0.47282468, 0.42543731,\n",
       "        0.53425621, 0.42939004, 0.40327309, 0.68082943, 0.53411903,\n",
       "        0.53094362, 0.4433093 , 0.44696662, 0.42754616, 0.46059426,\n",
       "        0.52336669, 0.48497916, 0.49874597, 0.47982251, 0.40667032,\n",
       "        0.61611451, 0.41174152, 0.54038116, 0.58106225, 0.4855593 ,\n",
       "        0.47555901, 0.53272671, 0.42942579, 0.48234767, 0.4576995 ,\n",
       "        0.45293526, 0.77336963, 0.51858118, 0.41911275, 0.4701441 ,\n",
       "        0.47288287, 0.43915319, 0.43933936, 0.49219895, 0.42819932,\n",
       "        0.49127905, 0.44166892, 0.59615081, 0.55997514, 0.56589247,\n",
       "        0.50613243, 0.43658341, 0.5796546 , 0.56222359, 0.49829322,\n",
       "        0.54892706, 0.53194876, 0.48129438, 0.63938097, 0.49874597,\n",
       "        0.48071982, 0.52753766, 0.5992933 , 0.47089909, 0.51984122,\n",
       "        0.49196635, 0.45180945, 0.41448334, 0.45955169, 0.60503091,\n",
       "        0.58677266, 0.55310606, 0.42800889, 0.48293858, 0.57002795,\n",
       "        0.49362055, 0.55375293, 0.4230185 , 0.51361623, 0.46165936,\n",
       "        0.43868337, 0.52784959, 0.50783657, 0.54215199, 0.54033372,\n",
       "        0.42564254, 0.68425662, 0.47087866, 0.48341174, 0.67493919,\n",
       "        0.49393697, 0.49595454, 0.4264431 , 0.615654  , 0.45571522,\n",
       "        0.66911926, 0.50735678, 0.52764351, 0.53724133, 0.54740437,\n",
       "        0.51879034, 0.42758749, 0.48484704, 0.49306644, 0.63185906,\n",
       "        0.51160548, 0.55623787, 0.48115118, 0.4807107 , 0.46776792,\n",
       "        0.46293723, 0.60530766, 0.47440635, 0.44122057, 0.50263964,\n",
       "        0.49169572, 0.4051658 , 0.48146282, 0.55212822, 0.47206124,\n",
       "        0.5232503 , 0.4806558 , 0.61278937, 0.58407015, 0.648291  ,\n",
       "        0.49899666, 0.49606407, 0.53977063, 0.46102876, 0.48709226,\n",
       "        0.53207573, 0.47210188, 0.42039549, 0.615654  , 0.39531972,\n",
       "        0.48890302, 0.51728841, 0.49088255, 0.39635225, 0.50722506,\n",
       "        0.54419624, 0.51002131, 0.44964673, 0.45596985, 0.54778863,\n",
       "        0.48751994, 0.47948657, 0.56690708, 0.44891916, 0.46059426,\n",
       "        0.49294112, 0.55453672, 0.46154377, 0.51861782, 0.42581439,\n",
       "        0.52086867, 0.41840367, 0.47297137, 0.56397083, 0.60353493,\n",
       "        0.40458462, 0.52557926, 0.4625216 , 0.53559102, 0.52225727,\n",
       "        0.63446222, 0.5127032 , 0.46802456, 0.41123869, 0.49170741,\n",
       "        0.45267433, 0.47419575, 0.56285779, 0.43759164, 0.55223424,\n",
       "        0.66654199, 0.5375222 , 0.43674638, 0.54136219, 0.49549714,\n",
       "        0.46566816, 0.37975813, 0.43263881, 0.70345874, 0.63139071,\n",
       "        0.46449427, 0.57264987, 0.44199988, 0.47878911, 0.49161982,\n",
       "        0.47048266, 0.47574168, 0.48730126, 0.49874186, 0.48828292,\n",
       "        0.46693324, 0.50395384, 0.52947616, 0.60865105, 0.49571   ,\n",
       "        0.48932756, 0.44021224, 0.60709832, 0.44964908, 0.39625211,\n",
       "        0.39121761, 0.51857234, 0.52543741, 0.46133473, 0.52678693,\n",
       "        0.47158311, 0.76840522, 0.50626559, 0.47578713, 0.46572486,\n",
       "        0.47494484, 0.55205204, 0.49209374, 0.47419575, 0.49768666,\n",
       "        0.5459947 , 0.50043057, 0.50162774, 0.53675251, 0.48721386,\n",
       "        0.53342031, 0.50935789, 0.44263189, 0.48562171, 0.44373091,\n",
       "        0.49122482, 0.43559961, 0.49712268, 0.39758622, 0.59662096,\n",
       "        0.50511772, 0.51988702, 0.63926771, 0.52203077, 0.47288265,\n",
       "        0.64365447, 0.43635241, 0.40593934, 0.4751989 , 0.78123922,\n",
       "        0.64015981, 0.45632817, 0.50124086, 0.42810197, 0.49710867,\n",
       "        0.47352503, 0.48340601, 0.473391  , 0.4607762 , 0.45083849,\n",
       "        0.57353642, 0.60905164, 0.49631732, 0.44989703, 0.46662327,\n",
       "        0.50562739, 0.57692205, 0.59520893, 0.4787573 , 0.49741714,\n",
       "        0.47004283, 0.55730066, 0.72473851, 0.57954952, 0.42830582,\n",
       "        0.4099545 , 0.48890302, 0.69975065, 0.49207745, 0.51939202,\n",
       "        0.63312133, 0.45646302, 0.60078949, 0.53383466, 0.51754816,\n",
       "        0.56842852, 0.61187891, 0.49082732, 0.46777157, 0.5884804 ,\n",
       "        0.58696693, 0.57771081, 0.4574776 , 0.52127302, 0.69999767,\n",
       "        0.41864016, 0.49542138, 0.62561973, 0.40078766, 0.45076674,\n",
       "        0.50824007, 0.46021801, 0.53343878, 0.57395127, 0.47963084,\n",
       "        0.42858374, 0.62528968, 0.57879428, 0.4928711 , 0.55902868,\n",
       "        0.46436976, 0.50191925, 0.52034492, 0.46076926, 0.51887683,\n",
       "        0.3883094 , 0.50840893, 0.5597498 , 0.42720793, 0.65389891,\n",
       "        0.65959372, 0.40674448, 0.48355875, 0.6000229 , 0.50764259,\n",
       "        0.41696501, 0.72884169, 0.61570894, 0.4249957 , 0.51738762,\n",
       "        0.50451119, 0.4460012 , 0.4774804 , 0.76001744, 0.49827286,\n",
       "        0.54966292, 0.4697287 , 0.4788347 , 0.47195154, 0.48696881,\n",
       "        0.66552535, 0.53999061, 0.71118718, 0.61077188, 0.49306644,\n",
       "        0.49839792, 0.57040188, 0.44328733, 0.61443506, 0.58008237,\n",
       "        0.462169  , 0.4305839 , 0.49761108, 0.75281826, 0.46177385,\n",
       "        0.57791533, 0.51787372, 0.45327376, 0.64027361, 0.46416026,\n",
       "        0.48612703, 0.60860076, 0.48533267, 0.57941372, 0.58202179,\n",
       "        0.52497348, 0.45905189, 0.45114106, 0.44683302, 0.49349984,\n",
       "        0.52512002, 0.49142858, 0.51699578, 0.57148394, 0.41919563,\n",
       "        0.44191616, 0.46290912, 0.49499196, 0.55726259, 0.48880443,\n",
       "        0.46753846, 0.50044685, 0.44590275, 0.54966292, 0.38663249,\n",
       "        0.46828537, 0.50073477, 0.5169231 , 0.64525204, 0.53482918,\n",
       "        0.44310794, 0.56528643, 0.46792791, 0.44345489, 0.45752822,\n",
       "        0.40154207, 0.59433964, 0.60486168, 0.4506156 , 0.43431622,\n",
       "        0.49494959, 0.44810313, 0.46418878, 0.53247067, 0.41120878,\n",
       "        0.47717902, 0.50701314, 0.42481815, 0.50295343, 0.49251068,\n",
       "        0.49177623, 0.49466576, 0.44115239, 0.47771081, 0.44739907,\n",
       "        0.4990868 , 0.43176116, 0.51685647, 0.43111087, 0.44064748,\n",
       "        0.62184584, 0.42173602, 0.53317563, 0.45105315, 0.48991849,\n",
       "        0.48330615, 0.44458751, 0.47577763, 0.44702315, 0.54350173,\n",
       "        0.52871328, 0.55923878, 0.44529121, 0.47793402, 0.46401797,\n",
       "        0.48116954, 0.46775586, 0.57854813, 0.46120753, 0.6056599 ,\n",
       "        0.44066637, 0.45563775, 0.46185871, 0.46892227, 0.45868586,\n",
       "        0.52796798, 0.43806289, 0.50896339, 0.57747128, 0.59301997,\n",
       "        0.46104689, 0.59776288, 0.47542012, 0.48417598, 0.49783308,\n",
       "        0.57113123, 0.51793337, 0.50433719, 0.43595664, 0.43654587,\n",
       "        0.50586612, 0.45365836, 0.77349496, 0.47229908, 0.50878419,\n",
       "        0.46524186, 0.44995546, 0.74123389, 0.49325469, 0.5288868 ,\n",
       "        0.50564235, 0.41306605, 0.57621493, 0.51018492, 0.45677391,\n",
       "        0.46323666, 0.51364776, 0.41696501, 0.6689788 , 0.42506873,\n",
       "        0.46144806, 0.50419281, 0.44642953, 0.74118118, 0.44741141,\n",
       "        0.57650175, 0.51780474, 0.5576086 , 0.53807615, 0.52096808,\n",
       "        0.52255901, 0.46108307, 0.42891477, 0.48917952, 0.50337604,\n",
       "        0.44024162, 0.44800141, 0.39410033, 0.47542862, 0.48562171,\n",
       "        0.61045408, 0.42478561, 0.51102988, 0.52369205, 0.39651619,\n",
       "        0.5344956 , 0.39497865, 0.5379816 , 0.53007244, 0.52121311,\n",
       "        0.44379328, 0.49355798, 0.48891343, 0.4423072 , 0.62808629,\n",
       "        0.40182066, 0.41593399, 0.46674416, 0.54246025, 0.48580701,\n",
       "        0.46646754, 0.81310154, 0.388367  , 0.62244315, 0.495493  ,\n",
       "        0.41932718, 0.42303759, 0.4758207 , 0.49177623, 0.46693324,\n",
       "        0.49105648, 0.49290679, 0.46316375, 0.42446108, 0.51053948,\n",
       "        0.56526628, 0.46818412, 0.47606847, 0.40039755, 0.44763415,\n",
       "        0.44570369, 0.47099269, 0.50609583, 0.50908259, 0.48390443,\n",
       "        0.45398871, 0.56604759, 0.50252234, 0.4847635 , 0.63833718,\n",
       "        0.44776028, 0.53297009, 0.42506873, 0.46740291, 0.55014685,\n",
       "        0.44021819, 0.4337602 , 0.39846234, 0.56875458, 0.66796864,\n",
       "        0.51083201, 0.47748007, 0.57667655, 0.44372991, 0.47362256,\n",
       "        0.50680733, 0.62110536, 0.42540464, 0.40144816, 0.55464249,\n",
       "        0.51038274, 0.55432024, 0.388367  , 0.53317563, 0.4637416 ,\n",
       "        0.48148517, 0.53041773, 0.41723206, 0.41120878, 0.49468536,\n",
       "        0.52029563, 0.45459407, 0.51549922, 0.64778898, 0.41098508,\n",
       "        0.41964504, 0.44869142, 0.42396607, 0.43970391, 0.53044008,\n",
       "        0.46261518, 0.46907932, 0.65316559, 0.62943843, 0.42384352,\n",
       "        0.53357999, 0.57693996, 0.47149885, 0.42351742, 0.47811411,\n",
       "        0.74057972, 0.77660602, 0.51864253, 0.4855036 , 0.56002143,\n",
       "        0.48311746, 0.51441863, 0.59898615, 0.50636591, 0.48261043,\n",
       "        0.39223154, 0.49087619, 0.6081455 , 0.47371325, 0.50170221,\n",
       "        0.56683018, 0.4398981 , 0.4982186 , 0.45921922, 0.50848546,\n",
       "        0.54708084, 0.66597102, 0.41071764, 0.42396607, 0.46984323,\n",
       "        0.4641906 , 0.58923035, 0.3908132 , 0.44772673, 0.67953713,\n",
       "        0.47884665, 0.54668102, 0.45436606, 0.49314666, 0.45517114,\n",
       "        0.47041975, 0.45275252, 0.446873  , 0.46286456, 0.60938591,\n",
       "        0.54670212, 0.50122061, 0.50904576, 0.51247094, 0.45120105,\n",
       "        0.48554151, 0.51852918, 0.4430909 , 0.53598427, 0.61781226,\n",
       "        0.45868586, 0.49662869, 0.49279557, 0.56660133, 0.49360275,\n",
       "        0.38865857, 0.38938589, 0.45146789, 0.43366206, 0.52559398,\n",
       "        0.48758328, 0.47211224, 0.65605948, 0.76317465, 0.50785674,\n",
       "        0.47994786, 0.48395019, 0.65511833, 0.45315886, 0.58352546,\n",
       "        0.4305332 , 0.53093346, 0.4113892 , 0.57217634, 0.3956932 ,\n",
       "        0.47201769, 0.63585159, 0.65075257, 0.40827178, 0.42036756,\n",
       "        0.52153929, 0.70967441, 0.4684268 , 0.47385244, 0.46989774,\n",
       "        0.58952964, 0.49876391, 0.470408  , 0.50715735, 0.44907272,\n",
       "        0.61393542, 0.60860076, 0.45781333, 0.47624185, 0.53425352,\n",
       "        0.56512666, 0.62076341, 0.53507006, 0.46452829, 0.49692107,\n",
       "        0.74560995, 0.45116786, 0.51569571, 0.50575208, 0.50467502,\n",
       "        0.4551869 , 0.4569798 , 0.49954528, 0.4216978 , 0.5287393 ,\n",
       "        0.43595664, 0.47689499, 0.45431061, 0.57807633, 0.47983886,\n",
       "        0.50989341, 0.49944841, 0.56075918, 0.44473761, 0.55424033,\n",
       "        0.42676696, 0.47157259, 0.54506018, 0.41328488, 0.47353256,\n",
       "        0.58338452, 0.50579539, 0.49729118, 0.50760176, 0.64165116,\n",
       "        0.52981252, 0.39651619, 0.60065352, 0.48280109, 0.52913841,\n",
       "        0.54517579, 0.46345241, 0.51897054, 0.44079083, 0.63389498,\n",
       "        0.52542395, 0.59376877, 0.46519232, 0.49290336, 0.39367051,\n",
       "        0.54176887, 0.54424365, 0.55860227, 0.42078927, 0.45086666,\n",
       "        0.46619438, 0.47616644, 0.50388907, 0.45838999, 0.4583777 ,\n",
       "        0.44529121, 0.58608964, 0.57659796, 0.63047994, 0.53716681,\n",
       "        0.4201814 , 0.57339307, 0.55447883, 0.59744012, 0.68579609,\n",
       "        0.47863939, 0.51867628, 0.47082948, 0.57518184, 0.46366519,\n",
       "        0.5317668 , 0.46247448, 0.57422167, 0.60790917, 0.48414524,\n",
       "        0.59411114, 0.4576995 , 0.47849104, 0.48129438, 0.51787372,\n",
       "        0.31829366, 0.47522049, 0.52196625, 0.41069849, 0.69673626,\n",
       "        0.5042148 , 0.52203077, 0.4821245 , 0.62977666, 0.50865489,\n",
       "        0.50792391, 0.43809876, 0.47143139, 0.44947201, 0.43366525,\n",
       "        0.6855719 , 0.46358285, 0.5514502 , 0.59841705, 0.47045209,\n",
       "        0.40062963, 0.44860566, 0.48034186, 0.54579454, 0.59059014]),\n",
       " array([0.37103331, 0.57922754, 0.72609273, 0.32872281, 0.5079436 ,\n",
       "        0.34407228, 0.63509878, 0.31778881, 0.42670504, 0.49057397,\n",
       "        0.63750909, 0.51315527, 0.4371319 , 0.41823731, 0.39737646,\n",
       "        0.42504693, 0.6422983 , 0.31883933, 0.49392087, 0.43157449,\n",
       "        0.62709221, 0.30689773, 0.69754815, 0.51163184, 0.6000558 ,\n",
       "        0.58477671, 0.51275174, 0.45883635, 0.49134921, 0.49186113,\n",
       "        0.39275231, 0.43332896, 0.36617511, 0.51923451, 0.51973381,\n",
       "        0.35598533, 0.3737605 , 0.39416808, 0.29525043, 0.40261286,\n",
       "        0.49516236, 0.41818998, 0.8821907 , 0.64033085, 0.31811242,\n",
       "        0.40570135, 0.56166203, 0.57949593, 0.51161906, 0.35112518,\n",
       "        0.46560476, 0.36920829, 0.83174774, 0.66851683, 0.41497686,\n",
       "        0.42242201, 0.64942522, 0.52709375, 0.52973931, 0.56675343,\n",
       "        0.49419125, 0.55281271, 0.49272085, 0.46970396, 0.4731656 ,\n",
       "        0.48491185, 0.60155486, 0.48873921, 0.43520787, 0.28455484,\n",
       "        0.49361193, 0.49216609, 0.38180714, 0.39579394, 0.39823468,\n",
       "        0.40543158, 0.66695486, 0.42226974, 0.48602334, 0.46688392,\n",
       "        0.58719498, 0.26040358, 0.39245282, 0.61815549, 0.4342185 ,\n",
       "        0.5609324 , 0.57820829, 0.29264892, 0.64476993, 0.65371711,\n",
       "        0.53957348, 0.40941262, 0.43276388, 0.34176888, 0.48627783,\n",
       "        0.42309399, 0.52592092, 0.45262784, 0.3600436 , 0.75892356,\n",
       "        0.47049473, 0.25845388, 0.48036035, 0.44468588, 0.53205662,\n",
       "        0.67252126, 0.44740269, 0.67446269, 0.37575716, 0.49128018,\n",
       "        0.65774506, 0.60921265, 0.70805326, 0.6757774 , 0.48956773,\n",
       "        0.54189043, 0.42576252, 0.4826826 , 0.36812722, 0.70794863,\n",
       "        0.42083984, 0.41091737, 0.24004144, 0.61661676, 0.39343622,\n",
       "        0.49951587, 0.36599205, 0.55303399, 0.42343758, 0.66230292,\n",
       "        0.37257887, 0.45648081, 0.38641481, 0.4898568 , 0.55151717,\n",
       "        0.35463311, 0.45863047, 0.4835016 , 0.36324074, 0.54048594,\n",
       "        0.36574708, 0.46230874, 0.41696497, 0.40627236, 0.59227137,\n",
       "        0.72541341, 0.57702196, 0.58364538, 0.3285065 , 0.28498966,\n",
       "        0.45392944, 0.61832082, 0.47284079, 0.3776246 , 0.55955217,\n",
       "        0.32914099, 0.3425014 , 0.34148229, 0.61443295, 0.59522822,\n",
       "        0.39095814, 0.40122409, 0.77513842, 0.51891277, 0.41755399,\n",
       "        0.36324891, 0.44846421, 0.74376519, 0.37747182, 0.54717081,\n",
       "        0.41597517, 0.53088618, 0.54149956, 0.74386974, 0.56177918,\n",
       "        0.45435092, 0.45837512, 0.41869651, 0.55895531, 0.3843441 ,\n",
       "        0.46792336, 0.70711584, 0.42311287, 0.64910616, 0.3647233 ,\n",
       "        0.54580258, 0.49042366, 0.74522143, 0.6591219 , 0.53785091,\n",
       "        0.5991024 , 0.7334285 , 0.38283781, 0.37228172, 0.33632285,\n",
       "        0.63432996, 0.57959939, 0.47413695, 0.43811866, 0.34790976,\n",
       "        0.47440378, 0.56751862, 0.40587866, 0.62584648, 0.45190436,\n",
       "        0.40497931, 0.36573345, 0.50723243, 0.41535988, 0.36108504,\n",
       "        0.51291809, 0.37244792, 0.28285896, 0.78006415, 0.58996439,\n",
       "        0.54129218, 0.38064267, 0.42747534, 0.33864638, 0.43284034,\n",
       "        0.51882594, 0.46506449, 0.51966482, 0.45333005, 0.31641893,\n",
       "        0.71301743, 0.3204666 , 0.60911671, 0.67581525, 0.42202804,\n",
       "        0.45221892, 0.57067914, 0.37453703, 0.45334409, 0.35695131,\n",
       "        0.40705403, 0.91861232, 0.51087752, 0.32640089, 0.43586183,\n",
       "        0.46149943, 0.40463471, 0.32144864, 0.46654211, 0.3953165 ,\n",
       "        0.4735009 , 0.33015177, 0.66197943, 0.63549632, 0.58440396,\n",
       "        0.4798709 , 0.36391328, 0.62362039, 0.6380347 , 0.49205853,\n",
       "        0.60532354, 0.51429384, 0.47926524, 0.6990718 , 0.51966482,\n",
       "        0.43395836, 0.57291736, 0.67299175, 0.48335187, 0.53971386,\n",
       "        0.51387301, 0.36716398, 0.36324891, 0.41560243, 0.67961295,\n",
       "        0.62435307, 0.5767176 , 0.38090547, 0.4543925 , 0.6311302 ,\n",
       "        0.49408878, 0.56231083, 0.36025841, 0.49817107, 0.42387678,\n",
       "        0.34443912, 0.53785091, 0.51146989, 0.55456344, 0.62262467,\n",
       "        0.36196799, 0.76963789, 0.44893269, 0.45617583, 0.81545424,\n",
       "        0.48430531, 0.46792906, 0.31969043, 0.69747472, 0.46798198,\n",
       "        0.78061941, 0.53179308, 0.53732483, 0.56117549, 0.54750336,\n",
       "        0.52209518, 0.34340678, 0.49715068, 0.48176036, 0.76572353,\n",
       "        0.53627243, 0.62076936, 0.46886102, 0.43844476, 0.46631913,\n",
       "        0.41325681, 0.6984029 , 0.45681345, 0.35912912, 0.48063901,\n",
       "        0.47860686, 0.2919835 , 0.45990331, 0.59223196, 0.41975441,\n",
       "        0.54363783, 0.46773631, 0.69451791, 0.64067021, 0.70798025,\n",
       "        0.49976992, 0.53506585, 0.56138793, 0.42189015, 0.48640329,\n",
       "        0.5525824 , 0.41853044, 0.37967675, 0.69747472, 0.2657135 ,\n",
       "        0.48276027, 0.47061937, 0.49040102, 0.27455104, 0.54570145,\n",
       "        0.58102127, 0.51484997, 0.45578575, 0.4219395 , 0.57104349,\n",
       "        0.4639147 , 0.46512264, 0.65338884, 0.42502789, 0.43284034,\n",
       "        0.55474483, 0.59634594, 0.40567867, 0.5228724 , 0.36915714,\n",
       "        0.53947163, 0.28364025, 0.39738678, 0.58093509, 0.65441874,\n",
       "        0.31595837, 0.51488543, 0.42239016, 0.5751716 , 0.5581966 ,\n",
       "        0.73507201, 0.51726173, 0.4484623 , 0.38105534, 0.48715904,\n",
       "        0.37652464, 0.45621102, 0.60546569, 0.417036  , 0.60051204,\n",
       "        0.74220046, 0.59172846, 0.32354125, 0.52793889, 0.49694452,\n",
       "        0.37229043, 0.2588178 , 0.37645403, 0.78236393, 0.77981035,\n",
       "        0.40524416, 0.66820428, 0.35702889, 0.4134893 , 0.46966359,\n",
       "        0.4267694 , 0.46769715, 0.45589965, 0.47759335, 0.44941067,\n",
       "        0.37842197, 0.50700847, 0.57860233, 0.66805096, 0.50917801,\n",
       "        0.47415732, 0.38389721, 0.66107823, 0.41110143, 0.29513541,\n",
       "        0.31544943, 0.55949636, 0.55825284, 0.42731651, 0.50881845,\n",
       "        0.44078447, 0.90958368, 0.54309985, 0.44929757, 0.38898566,\n",
       "        0.41885361, 0.60838424, 0.49760638, 0.45621102, 0.50985048,\n",
       "        0.5787054 , 0.50014942, 0.51540807, 0.5990178 , 0.51085806,\n",
       "        0.5966055 , 0.48786212, 0.38658555, 0.49938521, 0.36193798,\n",
       "        0.43723308, 0.378729  , 0.4940897 , 0.29464625, 0.65022027,\n",
       "        0.50924556, 0.5436765 , 0.7303836 , 0.56034633, 0.42967825,\n",
       "        0.70624065, 0.3327854 , 0.32837333, 0.43291807, 0.9044131 ,\n",
       "        0.72042982, 0.37833023, 0.48061358, 0.34607406, 0.47594216,\n",
       "        0.46150748, 0.46116699, 0.44105873, 0.44808617, 0.35420132,\n",
       "        0.61039893, 0.71628887, 0.5117905 , 0.42742493, 0.37403485,\n",
       "        0.49008025, 0.63596164, 0.66021458, 0.46715156, 0.48100516,\n",
       "        0.46723197, 0.57597611, 0.83310804, 0.60944354, 0.32457531,\n",
       "        0.33418114, 0.48276027, 0.81581596, 0.4822211 , 0.52519576,\n",
       "        0.72488835, 0.42177679, 0.67810439, 0.57225188, 0.54750573,\n",
       "        0.62907873, 0.6822891 , 0.45584629, 0.39186101, 0.65557304,\n",
       "        0.66683694, 0.63812159, 0.43931419, 0.51641883, 0.82092797,\n",
       "        0.33621873, 0.4986565 , 0.70835796, 0.3007047 , 0.42884489,\n",
       "        0.51435048, 0.40067163, 0.57487739, 0.64047033, 0.47595728,\n",
       "        0.32582569, 0.71329797, 0.64067736, 0.47885302, 0.64145097,\n",
       "        0.42221494, 0.51163091, 0.54313842, 0.405296  , 0.53759909,\n",
       "        0.30081347, 0.47606992, 0.60181076, 0.3470896 , 0.7295334 ,\n",
       "        0.76179332, 0.30361215, 0.47663219, 0.70642949, 0.47685007,\n",
       "        0.3452534 , 0.81978327, 0.69657576, 0.3283832 , 0.52943697,\n",
       "        0.50104341, 0.37408237, 0.42656013, 0.90951852, 0.46148691,\n",
       "        0.57107698, 0.44129585, 0.48878995, 0.42504693, 0.48184415,\n",
       "        0.78056312, 0.56108391, 0.83285478, 0.71777795, 0.48176036,\n",
       "        0.5047066 , 0.63137349, 0.3650708 , 0.72224884, 0.66096924,\n",
       "        0.42607292, 0.35108788, 0.47091579, 0.90596616, 0.3981204 ,\n",
       "        0.66155439, 0.50594884, 0.39512407, 0.76411487, 0.43024979,\n",
       "        0.49738944, 0.64853632, 0.50446419, 0.69091866, 0.62867488,\n",
       "        0.55961376, 0.40823698, 0.37819288, 0.38443055, 0.44514636,\n",
       "        0.52959588, 0.48309709, 0.54225445, 0.60433419, 0.33557602,\n",
       "        0.36529558, 0.42524965, 0.48103365, 0.56568743, 0.44623647,\n",
       "        0.41131818, 0.45877737, 0.38551218, 0.57107698, 0.32993041,\n",
       "        0.39130949, 0.46882052, 0.53190162, 0.73150699, 0.56773677,\n",
       "        0.3400763 , 0.57961077, 0.4248821 , 0.42153842, 0.42641065,\n",
       "        0.29859243, 0.64751922, 0.66769359, 0.39127404, 0.33288605,\n",
       "        0.43571569, 0.38171079, 0.46089581, 0.5664617 , 0.31335833,\n",
       "        0.45302807, 0.50837903, 0.34671198, 0.47462161, 0.49935528,\n",
       "        0.47404541, 0.48004452, 0.35684682, 0.46176676, 0.38619781,\n",
       "        0.44130038, 0.40287864, 0.48986808, 0.38932306, 0.40067786,\n",
       "        0.70350004, 0.31714926, 0.50067784, 0.35730754, 0.462899  ,\n",
       "        0.45968974, 0.40691102, 0.45951795, 0.40472242, 0.59780069,\n",
       "        0.57980679, 0.59016158, 0.41203858, 0.46394458, 0.44859392,\n",
       "        0.40931656, 0.46220166, 0.64679212, 0.39763532, 0.71647081,\n",
       "        0.37535469, 0.41777905, 0.37138054, 0.43907289, 0.40381556,\n",
       "        0.52946906, 0.3235782 , 0.47753374, 0.62668335, 0.64679563,\n",
       "        0.43702089, 0.63126598, 0.38000667, 0.49493196, 0.47518826,\n",
       "        0.63414486, 0.52466602, 0.5348149 , 0.33514594, 0.41582375,\n",
       "        0.49105186, 0.3913933 , 0.87089885, 0.43108747, 0.52568701,\n",
       "        0.38886227, 0.41322255, 0.84791422, 0.4728673 , 0.56568189,\n",
       "        0.48522281, 0.37640029, 0.66551516, 0.5199261 , 0.38528003,\n",
       "        0.41649234, 0.5387437 , 0.3452534 , 0.79394883, 0.32753515,\n",
       "        0.46517465, 0.48124695, 0.37752296, 0.91190195, 0.40382298,\n",
       "        0.60655936, 0.58989496, 0.58236715, 0.52771158, 0.51735827,\n",
       "        0.48590125, 0.42347901, 0.38206392, 0.41539424, 0.45841137,\n",
       "        0.36944569, 0.37394282, 0.26729407, 0.44396734, 0.49938521,\n",
       "        0.69157844, 0.32796298, 0.5286564 , 0.52666079, 0.29524614,\n",
       "        0.53124277, 0.27778012, 0.57061909, 0.53285592, 0.5375832 ,\n",
       "        0.37725339, 0.51111353, 0.46821287, 0.36454096, 0.75283103,\n",
       "        0.27200251, 0.3490453 , 0.39765588, 0.60570043, 0.48272559,\n",
       "        0.4423842 , 0.95069692, 0.30782975, 0.70514238, 0.45375342,\n",
       "        0.36279626, 0.33582686, 0.39153348, 0.47404541, 0.37842197,\n",
       "        0.46696097, 0.45454626, 0.43547219, 0.35796341, 0.55380546,\n",
       "        0.62210432, 0.42176909, 0.47413695, 0.27805543, 0.36553008,\n",
       "        0.34174053, 0.46108864, 0.51140132, 0.50344832, 0.51986933,\n",
       "        0.43474005, 0.65557644, 0.5509097 , 0.45954613, 0.73878652,\n",
       "        0.36754989, 0.56445047, 0.32753515, 0.3886416 , 0.59469881,\n",
       "        0.40833067, 0.3443488 , 0.31667385, 0.61157434, 0.79377448,\n",
       "        0.54441283, 0.43506961, 0.65371711, 0.37603477, 0.39329887,\n",
       "        0.52988927, 0.70807655, 0.29612997, 0.28166755, 0.57507028,\n",
       "        0.53963232, 0.58938054, 0.30782975, 0.50067784, 0.43892213,\n",
       "        0.46322439, 0.5855079 , 0.33873961, 0.31335833, 0.5088393 ,\n",
       "        0.54698206, 0.37854432, 0.50007348, 0.71756369, 0.28259641,\n",
       "        0.34289321, 0.36870116, 0.34603966, 0.4022157 , 0.55226932,\n",
       "        0.44254196, 0.40505005, 0.72344373, 0.73285279, 0.30904503,\n",
       "        0.56291372, 0.63599518, 0.41266474, 0.33531079, 0.46831322,\n",
       "        0.87801029, 0.88843975, 0.51108472, 0.44095864, 0.63696059,\n",
       "        0.42709689, 0.50864465, 0.64801949, 0.46287957, 0.49503495,\n",
       "        0.26190506, 0.48674698, 0.68138945, 0.46143438, 0.48679613,\n",
       "        0.61217588, 0.37019683, 0.52225043, 0.41925205, 0.51250256,\n",
       "        0.59150474, 0.75737837, 0.32612172, 0.34603966, 0.46668147,\n",
       "        0.42871809, 0.6486353 , 0.27544998, 0.3709291 , 0.81726361,\n",
       "        0.48996214, 0.5578373 , 0.41028149, 0.48694087, 0.43211727,\n",
       "        0.45314861, 0.3889138 , 0.39441503, 0.42104835, 0.64112267,\n",
       "        0.58741143, 0.52307635, 0.50943842, 0.53247792, 0.3750935 ,\n",
       "        0.45521537, 0.5710888 , 0.37016084, 0.62300878, 0.7120366 ,\n",
       "        0.40381556, 0.49313496, 0.50160396, 0.59965022, 0.50937542,\n",
       "        0.25502171, 0.30029915, 0.39163739, 0.34814734, 0.59015608,\n",
       "        0.4916703 , 0.39383123, 0.73668964, 0.86631599, 0.55831325,\n",
       "        0.47783733, 0.51391767, 0.75198565, 0.35851741, 0.59197006,\n",
       "        0.38592   , 0.52019874, 0.31202297, 0.64450882, 0.30024362,\n",
       "        0.43837508, 0.73896049, 0.74446203, 0.30689773, 0.37743648,\n",
       "        0.53292425, 0.83837036, 0.47702544, 0.42667429, 0.42672113,\n",
       "        0.61781396, 0.50319205, 0.42748479, 0.51660298, 0.40411626,\n",
       "        0.6587648 , 0.64853632, 0.36812033, 0.4401186 , 0.55725578,\n",
       "        0.62600154, 0.71105111, 0.60365827, 0.43331867, 0.51703951,\n",
       "        0.89316178, 0.40110374, 0.50834512, 0.5506201 , 0.49691663,\n",
       "        0.3549792 , 0.41905339, 0.49420277, 0.32615168, 0.56574428,\n",
       "        0.33514594, 0.50348503, 0.41624823, 0.5885547 , 0.44719739,\n",
       "        0.50514633, 0.49781763, 0.64378843, 0.38640315, 0.53239772,\n",
       "        0.35266173, 0.42530884, 0.54539109, 0.32195436, 0.44643297,\n",
       "        0.6273373 , 0.51725341, 0.53470816, 0.52029276, 0.72244032,\n",
       "        0.51115053, 0.29524614, 0.66313364, 0.47097416, 0.55809679,\n",
       "        0.55965321, 0.43481238, 0.53665486, 0.34686645, 0.71185174,\n",
       "        0.58328869, 0.68122339, 0.42122283, 0.49889147, 0.31839177,\n",
       "        0.59423854, 0.5808761 , 0.57959951, 0.36007276, 0.43177987,\n",
       "        0.44113345, 0.47521416, 0.53763214, 0.40544515, 0.41704022,\n",
       "        0.41203858, 0.6477435 , 0.60378069, 0.71207158, 0.56968633,\n",
       "        0.35578339, 0.65366712, 0.58504658, 0.67149011, 0.79693867,\n",
       "        0.43585775, 0.5027782 , 0.40540496, 0.64864822, 0.39617568,\n",
       "        0.55063565, 0.41101766, 0.64086002, 0.73806076, 0.46452517,\n",
       "        0.65262468, 0.35695131, 0.45037097, 0.47926524, 0.50594884,\n",
       "        0.10235721, 0.4360877 , 0.49423069, 0.31672145, 0.85171535,\n",
       "        0.54231473, 0.56034633, 0.38934921, 0.69410625, 0.51986304,\n",
       "        0.5146447 , 0.3846793 , 0.4555532 , 0.35799168, 0.32075276,\n",
       "        0.78646437, 0.41002967, 0.5941099 , 0.68165386, 0.40448211,\n",
       "        0.33438633, 0.34697375, 0.42025471, 0.58275574, 0.67674418]))"
      ]
     },
     "execution_count": 157,
     "metadata": {},
     "output_type": "execute_result"
    }
   ],
   "source": [
    "eu.predict.rnacomplaete_metrics(b_presence_absence, sdata_test[target_col].values, num_kmers=1000, verbose=True)"
   ]
  },
  {
   "cell_type": "code",
   "execution_count": 182,
   "id": "e4b589ab-bc3e-4036-84d0-0f0618843bbe",
   "metadata": {
    "execution": {
     "iopub.execute_input": "2022-09-07T21:12:55.747171Z",
     "iopub.status.busy": "2022-09-07T21:12:55.746924Z",
     "iopub.status.idle": "2022-09-07T21:13:11.421787Z",
     "shell.execute_reply": "2022-09-07T21:13:11.421200Z",
     "shell.execute_reply.started": "2022-09-07T21:12:55.747153Z"
    },
    "tags": []
   },
   "outputs": [
    {
     "data": {
      "application/vnd.jupyter.widget-view+json": {
       "model_id": "7c5dd074eee7469ea126e8e14900060b",
       "version_major": 2,
       "version_minor": 0
      },
      "text/plain": [
       "  0%|          | 0/100 [00:00<?, ?it/s]"
      ]
     },
     "metadata": {},
     "output_type": "display_data"
    },
    {
     "data": {
      "application/vnd.jupyter.widget-view+json": {
       "model_id": "06da8caf08644b1a9d427d3f321ada77",
       "version_major": 2,
       "version_minor": 0
      },
      "text/plain": [
       "  0%|          | 0/100 [00:00<?, ?it/s]"
      ]
     },
     "metadata": {},
     "output_type": "display_data"
    },
    {
     "data": {
      "image/png": "[encoded data removed]",
      "text/plain": [
       "<Figure size 1152x288 with 4 Axes>"
      ]
     },
     "metadata": {
      "needs_background": "light"
     },
     "output_type": "display_data"
    }
   ],
   "source": [
    "eu.predict.rnacomplete_metrics_sdata_plot(sdata_test, b_presence_absence, target_key=target_col, num_kmers=100, verbose=True, preds_suffix=\"_predictions_ST\")"
   ]
  },
  {
   "cell_type": "code",
   "execution_count": 184,
   "id": "d34e3080-5432-4150-a287-9210bb69dc30",
   "metadata": {
    "execution": {
     "iopub.execute_input": "2022-09-07T21:13:35.537260Z",
     "iopub.status.busy": "2022-09-07T21:13:35.536856Z",
     "iopub.status.idle": "2022-09-07T21:13:48.444703Z",
     "shell.execute_reply": "2022-09-07T21:13:48.444164Z",
     "shell.execute_reply.started": "2022-09-07T21:13:35.537242Z"
    },
    "tags": []
   },
   "outputs": [
    {
     "data": {
      "application/vnd.jupyter.widget-view+json": {
       "model_id": "afcce653e62e4a8fb381ff2c682c9329",
       "version_major": 2,
       "version_minor": 0
      },
      "text/plain": [
       "Evaluating probes:   0%|          | 0/1 [00:00<?, ?it/s]"
      ]
     },
     "metadata": {},
     "output_type": "display_data"
    },
    {
     "data": {
      "application/vnd.jupyter.widget-view+json": {
       "model_id": "0af17d55784041139d70e40fd34b1efb",
       "version_major": 2,
       "version_minor": 0
      },
      "text/plain": [
       "  0%|          | 0/100 [00:00<?, ?it/s]"
      ]
     },
     "metadata": {},
     "output_type": "display_data"
    },
    {
     "data": {
      "application/vnd.jupyter.widget-view+json": {
       "model_id": "de7f4d5369e34cbbaba72b7a5284ecd3",
       "version_major": 2,
       "version_minor": 0
      },
      "text/plain": [
       "  0%|          | 0/100 [00:00<?, ?it/s]"
      ]
     },
     "metadata": {},
     "output_type": "display_data"
    },
    {
     "data": {
      "text/plain": [
       "(             Z-score       AUC   E-score  Intensity\n",
       " RNCMPT00001 -0.18608 -0.216386 -0.219258   0.229239,\n",
       "               Z-score       AUC   E-score  Intensity\n",
       " RNCMPT00001 -0.203544 -0.235225 -0.221225   0.299901)"
      ]
     },
     "execution_count": 184,
     "metadata": {},
     "output_type": "execute_result"
    }
   ],
   "source": [
    "eu.predict.rnacomplete_metrics_sdata_table(sdata_test, b_presence_absence, target_keys=target_col, num_kmers=100, verbose=True, preds_suffix=\"_predictions_ST\")"
   ]
  },
  {
   "cell_type": "code",
   "execution_count": 94,
   "id": "c4528cbb-7b45-4ff1-bba7-5423dcc159fa",
   "metadata": {
    "execution": {
     "iopub.execute_input": "2022-09-07T20:05:57.105329Z",
     "iopub.status.busy": "2022-09-07T20:05:57.105111Z",
     "iopub.status.idle": "2022-09-07T20:06:08.969260Z",
     "shell.execute_reply": "2022-09-07T20:06:08.968783Z",
     "shell.execute_reply.started": "2022-09-07T20:05:57.105311Z"
    },
    "tags": []
   },
   "outputs": [
    {
     "data": {
      "application/vnd.jupyter.widget-view+json": {
       "model_id": "f325ba28974c4a03ba0d6c6c08ad278f",
       "version_major": 2,
       "version_minor": 0
      },
      "text/plain": [
       "  0%|          | 0/160 [00:00<?, ?it/s]"
      ]
     },
     "metadata": {},
     "output_type": "display_data"
    },
    {
     "name": "stdout",
     "output_type": "stream",
     "text": [
      "[0 0 0 ... 1 1 1] [16.93368413 16.93368413 16.93368413 ... -0.18432596 -0.18823382\n",
      " -0.19097715]\n",
      "[0 0 0 ... 1 1 1] [16.93368413 16.93368413 16.93368413 ... -0.19546043 -0.19647019\n",
      " -0.1989435 ]\n",
      "[0 0 0 ... 1 1 1] [16.93368413 16.93368413 16.93368413 ... -0.17761203 -0.1795545\n",
      " -0.18916779]\n",
      "[0 0 0 ... 1 1 1] [16.93368413 16.93368413 16.93368413 ... -0.05345594 -0.05412688\n",
      " -0.05773764]\n",
      "[0 0 0 ... 1 1 1] [16.93368413 16.93368413 16.93368413 ... -0.19097715 -0.19270659\n",
      " -0.19587217]\n",
      "[0 0 0 ... 1 1 1] [16.93368413 16.93368413 16.93368413 ... -0.20369744 -0.20428942\n",
      " -0.2065949 ]\n",
      "[0 0 0 ... 1 1 1] [16.93368413 16.93368413 16.93368413 ... -0.19679723 -0.20750754\n",
      " -0.20751105]\n",
      "[0 0 0 ... 1 1 1] [16.93368413 16.93368413 16.93368413 ... -0.16862287 -0.17618639\n",
      " -0.18644038]\n",
      "[0 0 0 ... 1 1 1] [16.93368413 16.93368413 16.93368413 ... -0.11286962 -0.1149608\n",
      " -0.12689805]\n",
      "[0 0 0 ... 1 1 1] [16.93368413 16.93368413 16.93368413 ... -0.21830193 -0.21930405\n",
      " -0.2208698 ]\n",
      "[0 0 0 ... 1 1 1] [16.93368413 16.93368413 16.93368413 ... -0.09155949 -0.09917332\n",
      " -0.09960703]\n",
      "[0 0 0 ... 1 1 1] [16.93368413 16.93368413 16.93368413 ... -0.18961711 -0.18991708\n",
      " -0.19097715]\n",
      "[0 0 0 ... 1 1 1] [16.93368413 16.93368413 16.93368413 ... -0.14863871 -0.15043692\n",
      " -0.15134001]\n",
      "[0 0 0 ... 1 1 1] [ 1.69336841e+01  1.69336841e+01  1.69336841e+01 ... -6.35749176e-03\n",
      " -1.00908487e-02 -1.34796568e-02]\n",
      "[0 0 0 ... 1 1 1] [ 1.69336841e+01  1.69336841e+01  1.69336841e+01 ... -1.11984195e-04\n",
      " -7.33923345e-03 -7.81179416e-03]\n",
      "[0 0 0 ... 1 1 1] [16.93368413 16.93368413 16.93368413 ...  0.14114641  0.11989073\n",
      "  0.1106949 ]\n",
      "[0 0 0 ... 1 1 1] [16.93368413 16.93368413 16.93368413 ... -0.1216709  -0.12710535\n",
      " -0.13334672]\n",
      "[0 0 0 ... 1 1 1] [16.93368413 16.93368413 16.93368413 ... -0.19910685 -0.21266209\n",
      " -0.21358555]\n",
      "[0 0 0 ... 1 1 1] [16.93368413 16.93368413 16.93368413 ... -0.19097715 -0.19478216\n",
      " -0.21462047]\n",
      "[0 0 0 ... 1 1 1] [16.93368413 16.93368413 16.93368413 ... -0.11796812 -0.120037\n",
      " -0.12141074]\n",
      "[0 0 0 ... 1 1 1] [16.93368413 16.93368413 16.93368413 ... -0.19097715 -0.19159206\n",
      " -0.19355458]\n",
      "[0 0 0 ... 1 1 1] [16.93368413 16.93368413 16.93368413 ... -0.21001715 -0.21083712\n",
      " -0.21328208]\n",
      "[0 0 0 ... 1 1 1] [16.93368413 16.93368413 16.93368413 ... -0.21437751 -0.21609388\n",
      " -0.21672216]\n",
      "[0 0 0 ... 1 1 1] [16.93368413 16.93368413 16.93368413 ... -0.21711129 -0.22088604\n",
      " -0.22381662]\n",
      "[0 0 0 ... 1 1 1] [16.93368413 16.93368413 16.93368413 ... -0.12364935 -0.12451232\n",
      " -0.13231244]\n",
      "[0 0 0 ... 1 1 1] [16.93368413 16.93368413 16.93368413 ... -0.20199635 -0.20751105\n",
      " -0.20935989]\n",
      "[0 0 0 ... 1 1 1] [16.93368413 16.93368413 16.93368413 ... -0.14007816 -0.14189867\n",
      " -0.14400863]\n",
      "[0 0 0 ... 1 1 1] [16.93368413 16.93368413 16.93368413 ... -0.23670313 -0.2409963\n",
      " -0.24110999]\n",
      "[0 0 0 ... 1 1 1] [16.93368413 16.93368413 16.93368413 ... -0.16578145 -0.18145811\n",
      " -0.18286752]\n",
      "[0 0 0 ... 1 1 1] [16.93368413 16.93368413 16.93368413 ... -0.1887137  -0.19097715\n",
      " -0.19378609]\n",
      "[0 0 0 ... 1 1 1] [16.93368413 16.93368413 16.93368413 ... -0.17306315 -0.18207015\n",
      " -0.19097715]\n",
      "[0 0 0 ... 1 1 1] [16.93368413 16.93368413 16.93368413 ... -0.17754739 -0.18062827\n",
      " -0.18355566]\n",
      "[0 0 0 ... 1 1 1] [16.93368413 16.93368413 16.93368413 ... -0.11950235 -0.13080081\n",
      " -0.13223123]\n",
      "[0 0 0 ... 1 1 1] [16.93368413 16.93368413 16.93368413 ... -0.18269078 -0.18514211\n",
      " -0.18854429]\n",
      "[0 0 0 ... 1 1 1] [16.93368413 16.93368413 16.93368413 ... -0.18962348 -0.19074533\n",
      " -0.19097715]\n",
      "[0 0 0 ... 1 1 1] [16.93368413 16.93368413 16.93368413 ... -0.12773713 -0.13169785\n",
      " -0.13237517]\n",
      "[0 0 0 ... 1 1 1] [16.93368413 16.93368413 16.93368413 ... -0.17220114 -0.17480946\n",
      " -0.17777793]\n",
      "[0 0 0 ... 1 1 1] [16.93368413 16.93368413 16.93368413 ... -0.24527005 -0.25123024\n",
      " -0.25748816]\n",
      "[0 0 0 ... 1 1 1] [16.93368413 16.93368413 16.93368413 ... -0.20019209 -0.21176632\n",
      " -0.21317572]\n",
      "[0 0 0 ... 1 1 1] [16.93368413 16.93368413 16.93368413 ... -0.24157363 -0.24513408\n",
      " -0.2482054 ]\n",
      "[0 0 0 ... 1 1 1] [16.93368413 16.93368413 16.93368413 ... -0.09155949 -0.09960703\n",
      " -0.09986528]\n",
      "[0 0 0 ... 1 1 1] [16.93368413 16.93368413 16.93368413 ... -0.11759491 -0.13718102\n",
      " -0.1391168 ]\n",
      "[0 0 0 ... 1 1 1] [16.93368413 16.93368413 16.93368413 ... -0.11569511 -0.11655203\n",
      " -0.11812511]\n",
      "[0 0 0 ... 1 1 1] [16.93368413 16.93368413 16.93368413 ... -0.17524668 -0.18637669\n",
      " -0.18870288]\n",
      "[0 0 0 ... 1 1 1] [16.93368413 16.93368413 16.93368413 ... -0.20049046 -0.2044152\n",
      " -0.20663407]\n",
      "[0 0 0 ... 1 1 1] [16.93368413 16.93368413 16.93368413 ... -0.24354507 -0.24412367\n",
      " -0.24616709]\n",
      "[0 0 0 ... 1 1 1] [16.93368413 16.93368413 16.93368413 ... -0.22398953 -0.22463946\n",
      " -0.23321466]\n",
      "[0 0 0 ... 1 1 1] [16.93368413 16.93368413 16.93368413 ... -0.22672109 -0.23332069\n",
      " -0.23463966]\n",
      "[0 0 0 ... 1 1 1] [16.93368413 16.93368413 16.93368413 ... -0.06718726 -0.06791107\n",
      " -0.07318917]\n",
      "[0 0 0 ... 1 1 1] [16.93368413 16.93368413 16.93368413 ... -0.15024586 -0.15088019\n",
      " -0.15134001]\n",
      "[0 0 0 ... 1 1 1] [16.93368413 16.93368413 16.93368413 ... -0.11860117 -0.12251476\n",
      " -0.12413401]\n",
      "[0 0 0 ... 1 1 1] [16.93368413 16.93368413 16.93368413 ... -0.12544566 -0.12651306\n",
      " -0.13264234]\n",
      "[0 0 0 ... 1 1 1] [16.93368413 16.93368413 16.93368413 ...  0.12287958  0.12154056\n",
      "  0.10868143]\n",
      "[0 0 0 ... 1 1 1] [16.93368413 16.93368413 16.93368413 ... -0.17355705 -0.17623606\n",
      " -0.18459026]\n",
      "[0 0 0 ... 1 1 1] [16.93368413 16.93368413 16.93368413 ...  0.06015097  0.04991958\n",
      "  0.04625087]\n",
      "[0 0 0 ... 1 1 1] [16.93368413 16.93368413 16.93368413 ... -0.06324278 -0.07219628\n",
      " -0.07865355]\n",
      "[0 0 0 ... 1 1 1] [16.93368413 16.93368413 16.93368413 ...  0.28640852  0.27631788\n",
      "  0.25454506]\n",
      "[0 0 0 ... 1 1 1] [16.93368413 16.93368413 16.93368413 ... -0.09703915 -0.09706113\n",
      " -0.10347763]\n",
      "[0 0 0 ... 1 1 1] [16.93368413 16.93368413 16.93368413 ...  0.06297264  0.06267395\n",
      "  0.06105915]\n",
      "[0 0 0 ... 1 1 1] [16.93368413 16.93368413 16.93368413 ... -0.11073259 -0.11098734\n",
      " -0.11227701]\n",
      "[0 0 0 ... 1 1 1] [16.93368413 16.93368413 16.93368413 ...  0.2509706   0.24974812\n",
      "  0.22646655]\n",
      "[0 0 0 ... 1 1 1] [16.93368413 16.93368413 16.93368413 ...  0.07560759  0.07510191\n",
      "  0.07364665]\n",
      "[0 0 0 ... 1 1 1] [16.93368413 16.93368413 16.93368413 ...  0.11481102  0.1074392\n",
      "  0.10427235]\n",
      "[0 0 0 ... 1 1 1] [16.93368413 16.93368413 16.93368413 ...  0.12176919  0.11736903\n",
      "  0.11613349]\n",
      "[0 0 0 ... 1 1 1] [16.93368413 16.93368413 16.93368413 ... -0.13462524 -0.13971705\n",
      " -0.14322782]\n",
      "[0 0 0 ... 1 1 1] [16.93368413 16.93368413 16.93368413 ... -0.18845609 -0.18857359\n",
      " -0.19097715]\n",
      "[0 0 0 ... 1 1 1] [16.93368413 16.93368413 16.93368413 ... -0.17276382 -0.17413915\n",
      " -0.18600062]\n",
      "[0 0 0 ... 1 1 1] [16.93368413 16.93368413 16.93368413 ...  0.04723771  0.04350276\n",
      "  0.03335289]\n",
      "[0 0 0 ... 1 1 1] [16.93368413 16.93368413 16.93368413 ... -0.15909045 -0.1603435\n",
      " -0.16786085]\n",
      "[0 0 0 ... 1 1 1] [16.93368413 16.93368413 16.93368413 ... -0.23125627 -0.23812368\n",
      " -0.24221019]\n",
      "[0 0 0 ... 1 1 1] [16.93368413 16.93368413 16.93368413 ... -0.15181862 -0.15636654\n",
      " -0.18030887]\n",
      "[0 0 0 ... 1 1 1] [16.93368413 16.93368413 16.93368413 ... -0.15902008 -0.16420264\n",
      " -0.16598939]\n",
      "[0 0 0 ... 1 1 1] [16.93368413 16.93368413 16.93368413 ... -0.09394076 -0.1013664\n",
      " -0.10177145]\n",
      "[0 0 0 ... 1 1 1] [16.93368413 16.93368413 16.93368413 ... -0.18979352 -0.19097715\n",
      " -0.19097715]\n",
      "[0 0 0 ... 1 1 1] [16.93368413 16.93368413 16.93368413 ... -0.18668494 -0.18999095\n",
      " -0.19087398]\n",
      "[0 0 0 ... 1 1 1] [16.93368413 16.93368413 16.93368413 ... -0.27163123 -0.27245375\n",
      " -0.28348346]\n",
      "[0 0 0 ... 1 1 1] [16.93368413 16.93368413 16.93368413 ... -0.16454273 -0.16702718\n",
      " -0.16901327]\n",
      "[0 0 0 ... 1 1 1] [16.93368413 16.93368413 16.93368413 ... -0.18816663 -0.19097715\n",
      " -0.19097715]\n",
      "[0 0 0 ... 1 1 1] [16.93368413 16.93368413 16.93368413 ... -0.1063977  -0.10883757\n",
      " -0.11252411]\n",
      "[0 0 0 ... 1 1 1] [16.93368413 16.93368413 16.93368413 ... -0.15570706 -0.15647449\n",
      " -0.163853  ]\n",
      "[0 0 0 ... 1 1 1] [16.93368413 16.93368413 16.93368413 ... -0.10736193 -0.10854461\n",
      " -0.10922351]\n",
      "[0 0 0 ... 1 1 1] [16.93368413 16.93368413 16.93368413 ... -0.1663384  -0.17877878\n",
      " -0.18178069]\n",
      "[0 0 0 ... 1 1 1] [16.93368413 16.93368413 16.93368413 ... -0.21525193 -0.21531307\n",
      " -0.21951613]\n",
      "[0 0 0 ... 1 1 1] [16.93368413 16.93368413 16.93368413 ... -0.17404235 -0.1745458\n",
      " -0.17489003]\n",
      "[0 0 0 ... 1 1 1] [16.93368413 16.93368413 16.93368413 ... -0.2142272  -0.21698614\n",
      " -0.21931201]\n",
      "[0 0 0 ... 1 1 1] [16.93368413 16.93368413 16.93368413 ... -0.2149077  -0.21895186\n",
      " -0.22296416]\n",
      "[0 0 0 ... 1 1 1] [16.93368413 16.93368413 16.93368413 ... -0.18733519 -0.18751192\n",
      " -0.19097715]\n",
      "[0 0 0 ... 1 1 1] [16.93368413 16.93368413 16.93368413 ... -0.22412041 -0.22533716\n",
      " -0.22533779]\n",
      "[0 0 0 ... 1 1 1] [16.93368413 16.93368413 16.93368413 ... -0.14206425 -0.14424077\n",
      " -0.14510214]\n",
      "[0 0 0 ... 1 1 1] [16.93368413 16.93368413 16.93368413 ... -0.20251286 -0.21437751\n",
      " -0.21447399]\n",
      "[0 0 0 ... 1 1 1] [16.93368413 16.93368413 16.93368413 ... -0.20586791 -0.20989646\n",
      " -0.21118167]\n",
      "[0 0 0 ... 1 1 1] [16.93368413 16.93368413 16.93368413 ... -0.26183961 -0.26192463\n",
      " -0.26523287]\n",
      "[0 0 0 ... 1 1 1] [16.93368413 16.93368413 16.93368413 ... -0.19097715 -0.19246967\n",
      " -0.19567219]\n",
      "[0 0 0 ... 1 1 1] [16.93368413 16.93368413 16.93368413 ... -0.26052701 -0.26339135\n",
      " -0.26704446]\n",
      "[0 0 0 ... 1 1 1] [16.93368413 16.93368413 16.93368413 ... -0.19097715 -0.19755097\n",
      " -0.19856678]\n",
      "[0 0 0 ... 1 1 1] [16.93368413 16.93368413 16.93368413 ... -0.20461709 -0.21711129\n",
      " -0.21739597]\n",
      "[0 0 0 ... 1 1 1] [16.93368413 16.93368413 16.93368413 ... -0.05889994 -0.05892955\n",
      " -0.06738947]\n",
      "[0 0 0 ... 1 1 1] [16.93368413 16.93368413 16.93368413 ... -0.1450668  -0.14737324\n",
      " -0.14990163]\n",
      "[0 0 0 ... 1 1 1] [16.93368413 16.93368413 16.93368413 ... -0.15004174 -0.16228087\n",
      " -0.16526081]\n",
      "[0 0 0 ... 1 1 1] [16.93368413 16.93368413 16.93368413 ... -0.05812009 -0.05974762\n",
      " -0.06061727]\n",
      "[0 0 0 ... 1 1 1] [16.93368413 16.93368413 16.93368413 ... -0.22554733 -0.22673637\n",
      " -0.22974242]\n",
      "[0 0 0 ... 1 1 1] [16.93368413 16.93368413 16.93368413 ... -0.21350149 -0.2143912\n",
      " -0.22255943]\n",
      "[0 0 0 ... 1 1 1] [16.93368413 16.93368413 16.93368413 ... -0.21425427 -0.2153481\n",
      " -0.21606713]\n",
      "[0 0 0 ... 1 1 1] [16.93368413 16.93368413 16.93368413 ... -0.23236443 -0.24577286\n",
      " -0.24665016]\n",
      "[0 0 0 ... 1 1 1] [16.93368413 16.93368413 16.93368413 ... -0.07259369 -0.07426676\n",
      " -0.08256905]\n",
      "[0 0 0 ... 1 1 1] [16.93368413 16.93368413 16.93368413 ... -0.21529333 -0.22122804\n",
      " -0.22313325]\n",
      "[0 0 0 ... 1 1 1] [16.93368413 16.93368413 16.93368413 ... -0.04694676 -0.05540286\n",
      " -0.05787139]\n",
      "[0 0 0 ... 1 1 1] [16.93368413 16.93368413 16.93368413 ... -0.23481034 -0.2373295\n",
      " -0.23872871]\n",
      "[0 0 0 ... 1 1 1] [16.93368413 16.93368413 16.93368413 ... -0.206664   -0.20687099\n",
      " -0.20842687]\n",
      "[0 0 0 ... 1 1 1] [16.93368413 16.93368413 16.93368413 ... -0.24110999 -0.2422242\n",
      " -0.24340337]\n",
      "[0 0 0 ... 1 1 1] [16.93368413 16.93368413 16.93368413 ... -0.17513777 -0.17580872\n",
      " -0.1761383 ]\n",
      "[0 0 0 ... 1 1 1] [16.93368413 16.93368413 16.93368413 ... -0.30116564 -0.3023136\n",
      " -0.30930234]\n",
      "[0 0 0 ... 1 1 1] [16.93368413 16.93368413 16.93368413 ... -0.18286752 -0.18373876\n",
      " -0.18592706]\n",
      "[0 0 0 ... 1 1 1] [16.93368413 16.93368413 16.93368413 ... -0.16451566 -0.16578145\n",
      " -0.16765195]\n",
      "[0 0 0 ... 1 1 1] [16.93368413 16.93368413 16.93368413 ... -0.1777722  -0.18274237\n",
      " -0.18438105]\n",
      "[0 0 0 ... 1 1 1] [16.93368413 16.93368413 16.93368413 ... -0.12925225 -0.12931148\n",
      " -0.13533727]\n",
      "[0 0 0 ... 1 1 1] [16.93368413 16.93368413 16.93368413 ... -0.16271235 -0.17521993\n",
      " -0.17618639]\n",
      "[0 0 0 ... 1 1 1] [16.93368413 16.93368413 16.93368413 ... -0.22313325 -0.22439363\n",
      " -0.22740063]\n",
      "[0 0 0 ... 1 1 1] [16.93368413 16.93368413 16.93368413 ... -0.15288475 -0.15865228\n",
      " -0.16218662]\n",
      "[0 0 0 ... 1 1 1] [16.93368413 16.93368413 16.93368413 ... -0.22887085 -0.22924279\n",
      " -0.23299111]\n",
      "[0 0 0 ... 1 1 1] [16.93368413 16.93368413 16.93368413 ... -0.09976179 -0.11621958\n",
      " -0.11799391]\n",
      "[0 0 0 ... 1 1 1] [16.93368413 16.93368413 16.93368413 ... -0.21469435 -0.21506852\n",
      " -0.21593626]\n",
      "[0 0 0 ... 1 1 1] [16.93368413 16.93368413 16.93368413 ... -0.19247317 -0.19291739\n",
      " -0.19467421]\n",
      "[0 0 0 ... 1 1 1] [16.93368413 16.93368413 16.93368413 ... -0.24424787 -0.24859262\n",
      " -0.24895851]\n",
      "[0 0 0 ... 1 1 1] [16.93368413 16.93368413 16.93368413 ... -0.15232048 -0.15811571\n",
      " -0.16447586]\n",
      "[0 0 0 ... 1 1 1] [16.93368413 16.93368413 16.93368413 ... -0.21102277 -0.21253598\n",
      " -0.21588308]\n",
      "[0 0 0 ... 1 1 1] [16.93368413 16.93368413 16.93368413 ... -0.1985273  -0.20049046\n",
      " -0.20174702]\n",
      "[0 0 0 ... 1 1 1] [16.93368413 16.93368413 16.93368413 ... -0.19546043 -0.20734068\n",
      " -0.20984232]\n",
      "[0 0 0 ... 1 1 1] [16.93368413 16.93368413 16.93368413 ... -0.12802149 -0.12935638\n",
      " -0.14800884]\n",
      "[0 0 0 ... 1 1 1] [16.93368413 16.93368413 16.93368413 ... -0.14321986 -0.14877532\n",
      " -0.14936793]\n",
      "[0 0 0 ... 1 1 1] [16.93368413 16.93368413 16.93368413 ... -0.15804916 -0.15910383\n",
      " -0.16263402]\n",
      "[0 0 0 ... 1 1 1] [16.93368413 16.93368413 16.93368413 ... -0.0340058  -0.03829228\n",
      " -0.03829355]\n",
      "[0 0 0 ... 1 1 1] [16.93368413 16.93368413 16.93368413 ... -0.17577751 -0.17778876\n",
      " -0.17837978]\n",
      "[0 0 0 ... 1 1 1] [16.93368413 16.93368413 16.93368413 ... -0.26019233 -0.26270193\n",
      " -0.26539719]\n",
      "[0 0 0 ... 1 1 1] [16.93368413 16.93368413 16.93368413 ... -0.20089488 -0.20238485\n",
      " -0.20279276]\n",
      "[0 0 0 ... 1 1 1] [16.93368413 16.93368413 16.93368413 ... -0.12972513 -0.14316828\n",
      " -0.1439096 ]\n",
      "[0 0 0 ... 1 1 1] [16.93368413 16.93368413 16.93368413 ... -0.17166585 -0.17298832\n",
      " -0.17441014]\n",
      "[0 0 0 ... 1 1 1] [16.93368413 16.93368413 16.93368413 ... -0.26440303 -0.26455174\n",
      " -0.26516441]\n",
      "[0 0 0 ... 1 1 1] [16.93368413 16.93368413 16.93368413 ... -0.18573504 -0.18962348\n",
      " -0.19097715]\n",
      "[0 0 0 ... 1 1 1] [16.93368413 16.93368413 16.93368413 ... -0.23668849 -0.23758329\n",
      " -0.241124  ]\n",
      "[0 0 0 ... 1 1 1] [16.93368413 16.93368413 16.93368413 ... -0.16431091 -0.16811814\n",
      " -0.16821559]\n",
      "[0 0 0 ... 1 1 1] [16.93368413 16.93368413 16.93368413 ... -0.12000739 -0.12034079\n",
      " -0.13405524]\n",
      "[0 0 0 ... 1 1 1] [16.93368413 16.93368413 16.93368413 ... -0.09420952 -0.0977706\n",
      " -0.10023117]\n",
      "[0 0 0 ... 1 1 1] [16.93368413 16.93368413 16.93368413 ... -0.09862051 -0.09877273\n",
      " -0.09923796]\n",
      "[0 0 0 ... 1 1 1] [16.93368413 16.93368413 16.93368413 ... -0.15418747 -0.15619681\n",
      " -0.1586924 ]\n",
      "[0 0 0 ... 1 1 1] [16.93368413 16.93368413 16.93368413 ... -0.21889422 -0.21910502\n",
      " -0.22344787]\n",
      "[0 0 0 ... 1 1 1] [16.93368413 16.93368413 16.93368413 ... -0.19097715 -0.19163186\n",
      " -0.19518976]\n",
      "[0 0 0 ... 1 1 1] [16.93368413 16.93368413 16.93368413 ... -0.2169836  -0.21774243\n",
      " -0.21830193]\n",
      "[0 0 0 ... 1 1 1] [16.93368413 16.93368413 16.93368413 ... -0.20802405 -0.20828071\n",
      " -0.20831128]\n",
      "[0 0 0 ... 1 1 1] [16.93368413 16.93368413 16.93368413 ... -0.23916242 -0.24084154\n",
      " -0.24420328]\n",
      "[0 0 0 ... 1 1 1] [16.93368413 16.93368413 16.93368413 ... -0.20866124 -0.21072026\n",
      " -0.21797171]\n",
      "[0 0 0 ... 1 1 1] [16.93368413 16.93368413 16.93368413 ... -0.24527005 -0.24615053\n",
      " -0.24880152]\n",
      "[0 0 0 ... 1 1 1] [16.93368413 16.93368413 16.93368413 ... -0.24860631 -0.24970237\n",
      " -0.2544404 ]\n",
      "[0 0 0 ... 1 1 1] [16.93368413 16.93368413 16.93368413 ... -0.15424575 -0.15541855\n",
      " -0.15979388]\n",
      "[0 0 0 ... 1 1 1] [16.93368413 16.93368413 16.93368413 ... -0.14844987 -0.15190874\n",
      " -0.16734243]\n",
      "[0 0 0 ... 1 1 1] [16.93368413 16.93368413 16.93368413 ... -0.27346638 -0.27571009\n",
      " -0.27679787]\n",
      "[0 0 0 ... 1 1 1] [16.93368413 16.93368413 16.93368413 ... -0.1792109  -0.18633498\n",
      " -0.1903855 ]\n",
      "[0 0 0 ... 1 1 1] [16.93368413 16.93368413 16.93368413 ... -0.21546911 -0.21779688\n",
      " -0.22035457]\n",
      "[0 0 0 ... 1 1 1] [16.93368413 16.93368413 16.93368413 ... -0.20122573 -0.2090491\n",
      " -0.22527761]\n",
      "[0 0 0 ... 1 1 1] [16.93368413 16.93368413 16.93368413 ... -0.21171792 -0.21358746\n",
      " -0.21610121]\n"
     ]
    },
    {
     "data": {
      "text/plain": [
       "(array([-0.28248242, -0.39391683, -0.26651385,  1.12087319, -0.35405655,\n",
       "        -0.54330296, -0.47340703, -0.2446388 ,  0.42605526, -0.66029475,\n",
       "         0.65421033, -0.28248242,  0.13521147,  1.65239562,  1.54242143,\n",
       "         3.03892318,  0.34472029, -0.55078131, -0.57576465,  0.46725704,\n",
       "        -0.31466056, -0.53599829, -0.62642954, -0.65567483,  0.33993912,\n",
       "        -0.68021514,  0.10821677, -0.87019876, -0.28248242, -0.36783301,\n",
       "        -0.28414289, -0.2411814 ,  0.37086792, -0.31667015, -0.28248242,\n",
       "         0.3680343 , -0.15996871, -1.03684888, -0.53587424, -0.92347576,\n",
       "         0.65864417,  0.28323484,  0.49866786, -0.26982594, -0.55584957,\n",
       "        -0.92761543, -0.757756  , -0.77263295,  1.0055791 ,  0.11173974,\n",
       "         0.44810929,  0.27823746,  2.93514078, -0.22271414,  2.35321218,\n",
       "         0.96652336,  4.65953001,  0.64117816,  2.4683202 ,  0.55557416,\n",
       "         4.13446164,  2.63215796,  2.98393077,  3.07297623,  0.20658712,\n",
       "        -0.32000882, -0.23200891,  2.18093735, -0.03158574, -0.88242993,\n",
       "        -0.19374176, -0.01974443,  0.67780079, -0.33813406, -0.28248242,\n",
       "        -1.32152038, -0.04821353, -0.28248242,  0.57874285,  0.01806196,\n",
       "         0.61905502, -0.20184035, -0.642469  , -0.21223205, -0.59927536,\n",
       "        -0.68168777, -0.28248242, -0.68786893,  0.20353199, -0.60740584,\n",
       "        -0.50896638, -1.12780114, -0.35053889, -1.15967802, -0.40284123,\n",
       "        -0.58379944,  1.08485309,  0.16770328, -0.06665244,  1.12170077,\n",
       "        -0.72941804, -0.68067058, -0.60063812, -0.96283099,  0.88398335,\n",
       "        -0.64054979,  1.17978908, -0.81399067, -0.51291997, -0.87019876,\n",
       "        -0.13456537, -1.60087375, -0.27638987, -0.0711235 , -0.2712011 ,\n",
       "         0.32960411, -0.19440808, -0.68823753,  0.00948668, -0.89514666,\n",
       "         0.49540007, -0.58938161, -0.32885524, -0.93959319, -0.04813024,\n",
       "        -0.56841921, -0.41980218, -0.49418158,  0.18044304,  0.13863343,\n",
       "         0.02011939,  1.3990038 , -0.17938582, -1.13032464, -0.46975292,\n",
       "         0.23469825, -0.09924172, -1.1104131 , -0.29510168, -0.8524563 ,\n",
       "        -0.04931757,  0.34095454,  0.69892445,  0.73717742,  0.07232958,\n",
       "        -0.64745574, -0.36349663, -0.59499746, -0.50215435, -0.88509874,\n",
       "        -0.59135221, -0.93375937, -0.99961133,  0.0394922 , -0.02171149,\n",
       "        -1.25644638, -0.30924851, -0.61799071, -0.67180112, -0.64664943]),\n",
       " array([0.52529196, 0.49945894, 0.53240022, 0.61032514, 0.50188092,\n",
       "        0.48744464, 0.50764259, 0.52120048, 0.55692701, 0.50036352,\n",
       "        0.56222359, 0.50773932, 0.57032513, 0.63306528, 0.64455477,\n",
       "        0.72001938, 0.57429569, 0.4990868 , 0.47812418, 0.56412339,\n",
       "        0.52482002, 0.4787019 , 0.485797  , 0.48541957, 0.57407098,\n",
       "        0.48070267, 0.5432132 , 0.46958346, 0.53000853, 0.50676725,\n",
       "        0.51807155, 0.5232235 , 0.56470519, 0.50838994, 0.51370274,\n",
       "        0.56377898, 0.53130159, 0.46890601, 0.50238513, 0.46387124,\n",
       "        0.56500435, 0.54185426, 0.56309456, 0.5093214 , 0.48948573,\n",
       "        0.4672628 , 0.47266482, 0.46477018, 0.60832486, 0.54970932,\n",
       "        0.59599988, 0.56966311, 0.70364905, 0.52602633, 0.68846567,\n",
       "        0.59279311, 0.7502902 , 0.5796375 , 0.67940872, 0.58479807,\n",
       "        0.71769345, 0.70393517, 0.70457283, 0.70751666, 0.57849538,\n",
       "        0.52381924, 0.53482918, 0.67560904, 0.53236035, 0.48890302,\n",
       "        0.52614162, 0.51388239, 0.57935502, 0.49565088, 0.50846346,\n",
       "        0.42446281, 0.53966773, 0.51127276, 0.55872199, 0.5421076 ,\n",
       "        0.57970312, 0.51519524, 0.50539431, 0.51869105, 0.47508626,\n",
       "        0.44498436, 0.50733045, 0.4820578 , 0.55298344, 0.49120913,\n",
       "        0.49086533, 0.44185604, 0.4987259 , 0.44836618, 0.49778267,\n",
       "        0.49169572, 0.59483885, 0.5448771 , 0.53668808, 0.6069755 ,\n",
       "        0.49763954, 0.48867989, 0.47801393, 0.45768772, 0.57965269,\n",
       "        0.48981688, 0.59142132, 0.46027497, 0.48581616, 0.45730598,\n",
       "        0.51780812, 0.40678588, 0.55285955, 0.53130078, 0.52270662,\n",
       "        0.55309143, 0.52784959, 0.47549445, 0.5183697 , 0.47593176,\n",
       "        0.57097704, 0.49569966, 0.49236932, 0.45545395, 0.52919159,\n",
       "        0.49791633, 0.51002865, 0.49610192, 0.56197295, 0.53586098,\n",
       "        0.5431026 , 0.62141961, 0.52642705, 0.46493076, 0.51580923,\n",
       "        0.5188623 , 0.53034344, 0.45367334, 0.51939836, 0.45320477,\n",
       "        0.53704526, 0.54778863, 0.59394205, 0.58883893, 0.54585094,\n",
       "        0.48925114, 0.49707898, 0.4740764 , 0.50612619, 0.44786797,\n",
       "        0.48817054, 0.46230564, 0.48203917, 0.5505531 , 0.52697944,\n",
       "        0.42726268, 0.50391038, 0.46688362, 0.48649575, 0.49033744]),\n",
       " array([0.49117284, 0.475537  , 0.54660319, 0.65836827, 0.46286462,\n",
       "        0.43267094, 0.47685007, 0.50291076, 0.57658248, 0.47934506,\n",
       "        0.6380347 , 0.48131593, 0.59510791, 0.7120484 , 0.73976855,\n",
       "        0.82538472, 0.60443162, 0.44130038, 0.40227032, 0.59405163,\n",
       "        0.5458837 , 0.44389157, 0.45367922, 0.45131693, 0.61320557,\n",
       "        0.45711573, 0.62558226, 0.39157506, 0.53587086, 0.48981391,\n",
       "        0.49692448, 0.5030745 , 0.54617132, 0.53148613, 0.50394343,\n",
       "        0.5684607 , 0.55706231, 0.45266963, 0.50574263, 0.39101431,\n",
       "        0.61542224, 0.59588147, 0.62986775, 0.49578251, 0.46252932,\n",
       "        0.41037946, 0.44016793, 0.42280292, 0.67614443, 0.58457504,\n",
       "        0.62673582, 0.56623334, 0.82755446, 0.51705549, 0.74040538,\n",
       "        0.63449735, 0.88167674, 0.63943273, 0.7549694 , 0.60320778,\n",
       "        0.86776017, 0.78444223, 0.81232983, 0.81489054, 0.63869768,\n",
       "        0.52351979, 0.56773677, 0.7814679 , 0.50463788, 0.48276027,\n",
       "        0.59305446, 0.49764243, 0.62046879, 0.50796064, 0.47969112,\n",
       "        0.34459179, 0.53965064, 0.49920044, 0.61937389, 0.56163159,\n",
       "        0.63261528, 0.53681904, 0.52689193, 0.51030812, 0.43921219,\n",
       "        0.36965934, 0.51426578, 0.44762657, 0.61224657, 0.5215566 ,\n",
       "        0.47911682, 0.41031218, 0.46049731, 0.39359301, 0.49779716,\n",
       "        0.47860686, 0.63556516, 0.57884563, 0.55840423, 0.71605501,\n",
       "        0.49217164, 0.46871019, 0.45464375, 0.41305213, 0.65533843,\n",
       "        0.46429289, 0.66846683, 0.41091737, 0.44476976, 0.35799082,\n",
       "        0.54168218, 0.29785913, 0.58959764, 0.55112667, 0.51797252,\n",
       "        0.57383147, 0.53785091, 0.44012817, 0.52569337, 0.43798159,\n",
       "        0.63237343, 0.47768567, 0.479426  , 0.37230641, 0.54311853,\n",
       "        0.48743219, 0.48457153, 0.45440997, 0.57061876, 0.52200887,\n",
       "        0.54600789, 0.68072771, 0.51882482, 0.46875164, 0.5487358 ,\n",
       "        0.52608438, 0.50325618, 0.39824463, 0.54382446, 0.37663472,\n",
       "        0.50714202, 0.57104349, 0.64955343, 0.63161194, 0.57911426,\n",
       "        0.45277409, 0.48505564, 0.42272828, 0.51188439, 0.39013854,\n",
       "        0.47666243, 0.41927538, 0.45534369, 0.60186644, 0.52974628,\n",
       "        0.37460781, 0.50165645, 0.42639224, 0.43862373, 0.44449163]))"
      ]
     },
     "execution_count": 94,
     "metadata": {},
     "output_type": "execute_result"
    }
   ],
   "source": [
    "eu.predict.rna_complete_metrics_apply(b_presence_absence, sdata_test[target_col].values, num_kmers=160, use_calc_auc=False, verbose=True)"
   ]
  },
  {
   "cell_type": "code",
   "execution_count": 92,
   "id": "94d71563-0b9d-458e-9c58-995809fd2d93",
   "metadata": {
    "execution": {
     "iopub.execute_input": "2022-09-07T20:05:34.808026Z",
     "iopub.status.busy": "2022-09-07T20:05:34.807633Z",
     "iopub.status.idle": "2022-09-07T20:05:39.335345Z",
     "shell.execute_reply": "2022-09-07T20:05:39.334754Z",
     "shell.execute_reply.started": "2022-09-07T20:05:34.808004Z"
    },
    "tags": []
   },
   "outputs": [
    {
     "data": {
      "application/vnd.jupyter.widget-view+json": {
       "model_id": "2e50c845689445efa0ea7e60266c4736",
       "version_major": 2,
       "version_minor": 0
      },
      "text/plain": [
       "  0%|          | 0/10 [00:00<?, ?it/s]"
      ]
     },
     "metadata": {},
     "output_type": "display_data"
    },
    {
     "name": "stdout",
     "output_type": "stream",
     "text": [
      "[0 0 0 ... 1 1 1] [16.93368413 16.93368413 16.93368413 ... -0.18432596 -0.18823382\n",
      " -0.19097715]\n",
      "[0 0 0 ... 1 1 1] [16.93368413 16.93368413 16.93368413 ... -0.19546043 -0.19647019\n",
      " -0.1989435 ]\n",
      "[0 0 0 ... 1 1 1] [16.93368413 16.93368413 16.93368413 ... -0.17761203 -0.1795545\n",
      " -0.18916779]\n",
      "[0 0 0 ... 1 1 1] [16.93368413 16.93368413 16.93368413 ... -0.05345594 -0.05412688\n",
      " -0.05773764]\n",
      "[0 0 0 ... 1 1 1] [16.93368413 16.93368413 16.93368413 ... -0.19097715 -0.19270659\n",
      " -0.19587217]\n",
      "[0 0 0 ... 1 1 1] [16.93368413 16.93368413 16.93368413 ... -0.20369744 -0.20428942\n",
      " -0.2065949 ]\n",
      "[0 0 0 ... 1 1 1] [16.93368413 16.93368413 16.93368413 ... -0.19679723 -0.20750754\n",
      " -0.20751105]\n",
      "[0 0 0 ... 1 1 1] [16.93368413 16.93368413 16.93368413 ... -0.16862287 -0.17618639\n",
      " -0.18644038]\n",
      "[0 0 0 ... 1 1 1] [16.93368413 16.93368413 16.93368413 ... -0.11286962 -0.1149608\n",
      " -0.12689805]\n",
      "[0 0 0 ... 1 1 1] [16.93368413 16.93368413 16.93368413 ... -0.21830193 -0.21930405\n",
      " -0.2208698 ]\n"
     ]
    },
    {
     "data": {
      "text/plain": [
       "(array([-0.21434177, -0.4214724 , -0.18465992,  2.39416952, -0.34738142,\n",
       "        -0.69914643, -0.56922616, -0.1439993 ,  1.10266479, -0.91660691]),\n",
       " array([0.5224975 , 0.49680253, 0.52955989, 0.60706929, 0.50133386,\n",
       "        0.48483955, 0.50493584, 0.51842415, 0.55598949, 0.49768646]),\n",
       " array([0.491177  , 0.47553761, 0.54659848, 0.65836835, 0.46293198,\n",
       "        0.43268267, 0.47684335, 0.50291068, 0.57658233, 0.47935718]))"
      ]
     },
     "execution_count": 92,
     "metadata": {},
     "output_type": "execute_result"
    }
   ],
   "source": [
    "eu.predict.rna_complete_metrics_apply(b_presence_absence, sdata_test[target_col].values, num_kmers=10, use_calc_auc=True, verbose=True)"
   ]
  },
  {
   "cell_type": "markdown",
   "id": "22cdf524-c938-40cb-bf56-16ce01c4d921",
   "metadata": {},
   "source": [
    "# Check object creation"
   ]
  },
  {
   "cell_type": "code",
   "execution_count": 6,
   "id": "d3611d36-37b4-4191-8cee-4a445de39da2",
   "metadata": {
    "execution": {
     "iopub.execute_input": "2022-09-06T15:30:56.433223Z",
     "iopub.status.busy": "2022-09-06T15:30:56.432739Z",
     "iopub.status.idle": "2022-09-06T15:31:02.854230Z",
     "shell.execute_reply": "2022-09-06T15:31:02.852899Z",
     "shell.execute_reply.started": "2022-09-06T15:30:56.433187Z"
    },
    "tags": []
   },
   "outputs": [],
   "source": [
    "sdata_training_predictions = eu.dl.read_h5sd(os.path.join(eu.settings.output_dir, \"DeepBind_MT\", \"norm_training_predictions_v0_MT.h5sd\"))"
   ]
  },
  {
   "cell_type": "code",
   "execution_count": 10,
   "id": "0e46b624-5801-4c85-8fb0-c107edcb7af0",
   "metadata": {
    "execution": {
     "iopub.execute_input": "2022-09-06T15:33:00.447345Z",
     "iopub.status.busy": "2022-09-06T15:33:00.446814Z",
     "iopub.status.idle": "2022-09-06T15:33:05.569243Z",
     "shell.execute_reply": "2022-09-06T15:33:05.568273Z",
     "shell.execute_reply.started": "2022-09-06T15:33:00.447302Z"
    },
    "tags": []
   },
   "outputs": [
    {
     "name": "stdout",
     "output_type": "stream",
     "text": [
      "['RNCMPT00002'] ['RNCMPT00002_predictions_MT']\n"
     ]
    },
    {
     "data": {
      "image/png": "[encoded data removed]",
      "text/plain": [
       "<Figure size 576x576 with 1 Axes>"
      ]
     },
     "metadata": {
      "needs_background": "light"
     },
     "output_type": "display_data"
    }
   ],
   "source": [
    "eu.pl.performance_scatter(\n",
    "    sdata_training_predictions,\n",
    "    targets=\"RNCMPT00002\",\n",
    "    predictions=\"RNCMPT00002_predictions_MT\"\n",
    ")"
   ]
  },
  {
   "cell_type": "code",
   "execution_count": 11,
   "id": "2571bc77-3d97-4e89-ac11-780b34ac799f",
   "metadata": {
    "execution": {
     "iopub.execute_input": "2022-09-06T15:34:12.147000Z",
     "iopub.status.busy": "2022-09-06T15:34:12.146597Z",
     "iopub.status.idle": "2022-09-06T15:34:16.077589Z",
     "shell.execute_reply": "2022-09-06T15:34:16.076424Z",
     "shell.execute_reply.started": "2022-09-06T15:34:12.146968Z"
    }
   },
   "outputs": [
    {
     "data": {
      "text/plain": [
       "468"
      ]
     },
     "execution_count": 11,
     "metadata": {},
     "output_type": "execute_result"
    }
   ],
   "source": [
    "len(sdata_training_predictions.seqs_annot.columns)"
   ]
  },
  {
   "cell_type": "code",
   "execution_count": 13,
   "id": "994fe648-0ed0-4a3b-a517-17ce663dd965",
   "metadata": {
    "execution": {
     "iopub.execute_input": "2022-09-06T15:35:42.598326Z",
     "iopub.status.busy": "2022-09-06T15:35:42.597848Z",
     "iopub.status.idle": "2022-09-06T15:35:48.976677Z",
     "shell.execute_reply": "2022-09-06T15:35:48.975673Z",
     "shell.execute_reply.started": "2022-09-06T15:35:42.598293Z"
    },
    "tags": []
   },
   "outputs": [],
   "source": [
    "sdata_training_predictions = eu.dl.read_h5sd(os.path.join(eu.settings.output_dir, \"DeepBind_ST\", \"norm_training_predictions_ST.h5sd\"))"
   ]
  },
  {
   "cell_type": "code",
   "execution_count": 16,
   "id": "fac57fe2-ac9c-4065-80db-66161d080260",
   "metadata": {
    "execution": {
     "iopub.execute_input": "2022-09-06T15:36:32.845787Z",
     "iopub.status.busy": "2022-09-06T15:36:32.845324Z",
     "iopub.status.idle": "2022-09-06T15:36:37.367625Z",
     "shell.execute_reply": "2022-09-06T15:36:37.366619Z",
     "shell.execute_reply.started": "2022-09-06T15:36:32.845755Z"
    },
    "tags": []
   },
   "outputs": [
    {
     "name": "stdout",
     "output_type": "stream",
     "text": [
      "['RNCMPT00002'] ['RNCMPT00002_predictions_ST']\n"
     ]
    },
    {
     "data": {
      "image/png": "[encoded data removed]",
      "text/plain": [
       "<Figure size 576x576 with 1 Axes>"
      ]
     },
     "metadata": {
      "needs_background": "light"
     },
     "output_type": "display_data"
    }
   ],
   "source": [
    "eu.pl.performance_scatter(\n",
    "    sdata_training_predictions,\n",
    "    targets=\"RNCMPT00002\",\n",
    "    predictions=\"RNCMPT00002_predictions_ST\"\n",
    ")"
   ]
  },
  {
   "cell_type": "code",
   "execution_count": 17,
   "id": "ec6eb7e1-55f4-4e7f-8f91-bc97bb8ed72c",
   "metadata": {
    "execution": {
     "iopub.execute_input": "2022-09-06T15:36:37.369560Z",
     "iopub.status.busy": "2022-09-06T15:36:37.369185Z",
     "iopub.status.idle": "2022-09-06T15:36:40.664072Z",
     "shell.execute_reply": "2022-09-06T15:36:40.662931Z",
     "shell.execute_reply.started": "2022-09-06T15:36:37.369528Z"
    }
   },
   "outputs": [
    {
     "data": {
      "text/plain": [
       "469"
      ]
     },
     "execution_count": 17,
     "metadata": {},
     "output_type": "execute_result"
    }
   ],
   "source": [
    "len(sdata_training_predictions.seqs_annot.columns)"
   ]
  },
  {
   "cell_type": "code",
   "execution_count": 30,
   "id": "6e94ea6f-0fae-4812-bb71-402da3df5dc1",
   "metadata": {
    "execution": {
     "iopub.execute_input": "2022-09-06T16:07:58.434758Z",
     "iopub.status.busy": "2022-09-06T16:07:58.434059Z",
     "iopub.status.idle": "2022-09-06T16:08:04.655259Z",
     "shell.execute_reply": "2022-09-06T16:08:04.654210Z",
     "shell.execute_reply.started": "2022-09-06T16:07:58.434704Z"
    },
    "tags": []
   },
   "outputs": [],
   "source": [
    "sdata_test_predictions = eu.dl.read_h5sd(os.path.join(eu.settings.output_dir, \"norm_test_predictions.h5sd\"))"
   ]
  },
  {
   "cell_type": "code",
   "execution_count": 31,
   "id": "ebfe17cf-5da7-4e5b-992f-7461af6254fa",
   "metadata": {
    "execution": {
     "iopub.execute_input": "2022-09-06T16:08:19.146712Z",
     "iopub.status.busy": "2022-09-06T16:08:19.146327Z",
     "iopub.status.idle": "2022-09-06T16:08:23.988945Z",
     "shell.execute_reply": "2022-09-06T16:08:23.987891Z",
     "shell.execute_reply.started": "2022-09-06T16:08:19.146678Z"
    },
    "tags": []
   },
   "outputs": [
    {
     "name": "stdout",
     "output_type": "stream",
     "text": [
      "['RNCMPT00001'] ['RNCMPT00001_predictions_ST']\n"
     ]
    },
    {
     "data": {
      "image/png": "[encoded data removed]",
      "text/plain": [
       "<Figure size 576x576 with 1 Axes>"
      ]
     },
     "metadata": {
      "needs_background": "light"
     },
     "output_type": "display_data"
    }
   ],
   "source": [
    "eu.pl.performance_scatter(\n",
    "    sdata_test_predictions,\n",
    "    targets=\"RNCMPT00001\",\n",
    "    predictions=\"RNCMPT00001_predictions_ST\"\n",
    ")"
   ]
  },
  {
   "cell_type": "code",
   "execution_count": 32,
   "id": "773676f8-f102-40d1-b4f6-ee59d56d6e6f",
   "metadata": {
    "execution": {
     "iopub.execute_input": "2022-09-06T16:08:31.614271Z",
     "iopub.status.busy": "2022-09-06T16:08:31.613795Z",
     "iopub.status.idle": "2022-09-06T16:08:36.840031Z",
     "shell.execute_reply": "2022-09-06T16:08:36.839107Z",
     "shell.execute_reply.started": "2022-09-06T16:08:31.614237Z"
    },
    "tags": []
   },
   "outputs": [
    {
     "name": "stdout",
     "output_type": "stream",
     "text": [
      "['RNCMPT00001'] ['RNCMPT00001_predictions_MT']\n"
     ]
    },
    {
     "data": {
      "image/png": "[encoded data removed]",
      "text/plain": [
       "<Figure size 576x576 with 1 Axes>"
      ]
     },
     "metadata": {
      "needs_background": "light"
     },
     "output_type": "display_data"
    }
   ],
   "source": [
    "eu.pl.performance_scatter(\n",
    "    sdata_test_predictions,\n",
    "    targets=\"RNCMPT00001\",\n",
    "    predictions=\"RNCMPT00001_predictions_MT\"\n",
    ")"
   ]
  },
  {
   "cell_type": "code",
   "execution_count": 33,
   "id": "34232805-fe22-474f-919b-040f9b1351da",
   "metadata": {
    "execution": {
     "iopub.execute_input": "2022-09-06T16:08:37.437448Z",
     "iopub.status.busy": "2022-09-06T16:08:37.436992Z",
     "iopub.status.idle": "2022-09-06T16:08:42.720583Z",
     "shell.execute_reply": "2022-09-06T16:08:42.719485Z",
     "shell.execute_reply.started": "2022-09-06T16:08:37.437415Z"
    }
   },
   "outputs": [
    {
     "name": "stdout",
     "output_type": "stream",
     "text": [
      "['RNCMPT00001'] ['RNCMPT00001_predictions_kipoi']\n"
     ]
    },
    {
     "data": {
      "image/png": "[encoded data removed]",
      "text/plain": [
       "<Figure size 576x576 with 1 Axes>"
      ]
     },
     "metadata": {
      "needs_background": "light"
     },
     "output_type": "display_data"
    }
   ],
   "source": [
    "eu.pl.performance_scatter(\n",
    "    sdata_test_predictions,\n",
    "    targets=\"RNCMPT00001\",\n",
    "    predictions=\"RNCMPT00001_predictions_kipoi\"\n",
    ")"
   ]
  },
  {
   "cell_type": "code",
   "execution_count": 23,
   "id": "6456d273-b75a-4f51-a55b-f5f98027a56a",
   "metadata": {
    "execution": {
     "iopub.execute_input": "2022-09-06T15:42:25.738019Z",
     "iopub.status.busy": "2022-09-06T15:42:25.737618Z",
     "iopub.status.idle": "2022-09-06T15:42:29.465632Z",
     "shell.execute_reply": "2022-09-06T15:42:29.464491Z",
     "shell.execute_reply.started": "2022-09-06T15:42:25.737985Z"
    }
   },
   "outputs": [
    {
     "data": {
      "text/plain": [
       "496"
      ]
     },
     "execution_count": 23,
     "metadata": {},
     "output_type": "execute_result"
    }
   ],
   "source": [
    "len(sdata_test_predictions.seqs_annot.columns)"
   ]
  },
  {
   "cell_type": "code",
   "execution_count": 26,
   "id": "6ba0e9b5-7c88-4a56-84f8-e7dcb6dc1823",
   "metadata": {
    "execution": {
     "iopub.execute_input": "2022-09-06T15:48:27.487924Z",
     "iopub.status.busy": "2022-09-06T15:48:27.487452Z",
     "iopub.status.idle": "2022-09-06T15:48:31.168252Z",
     "shell.execute_reply": "2022-09-06T15:48:31.166970Z",
     "shell.execute_reply.started": "2022-09-06T15:48:27.487883Z"
    },
    "tags": []
   },
   "outputs": [
    {
     "name": "stdout",
     "output_type": "stream",
     "text": [
      "18\n",
      "233\n"
     ]
    }
   ],
   "source": [
    "print(np.sum(sdata_test_predictions.seqs_annot.columns.str.contains(\"ST\")))\n",
    "print(np.sum(sdata_test_predictions.seqs_annot.columns.str.contains(\"MT\")))"
   ]
  },
  {
   "cell_type": "markdown",
   "id": "8238dfd8",
   "metadata": {
    "jp-MarkdownHeadingCollapsed": true,
    "tags": []
   },
   "source": [
    "# Function definitions for testing"
   ]
  },
  {
   "cell_type": "code",
   "execution_count": null,
   "id": "e5157bc2",
   "metadata": {},
   "outputs": [],
   "source": [
    "def generate_all_possible_kmers(n=7, alphabet=\"AGCU\"):\n",
    "    \"\"\"\n",
    "    Generate all possible kmers of length and alphabet provided\n",
    "    \"\"\"\n",
    "    return [''.join(c) for c in product(alphabet, repeat=n)]"
   ]
  },
  {
   "cell_type": "code",
   "execution_count": null,
   "id": "79e3dcc3",
   "metadata": {},
   "outputs": [],
   "source": [
    "def kmer_in_seqs(seqs, kmer):\n",
    "    \"\"\"\n",
    "    Return a 0/1 array of whether a kmer is in each of the passed in sequences\n",
    "    \"\"\"\n",
    "    seqs_s = pd.Series(seqs)\n",
    "    kmer_binary = seqs_s.str.contains(kmer).astype(int).values\n",
    "    return kmer_binary"
   ]
  },
  {
   "cell_type": "code",
   "execution_count": null,
   "id": "a44a7622",
   "metadata": {},
   "outputs": [],
   "source": [
    "def calc_auc(z, y, want_curve = False):\n",
    "    # https://github.com/jisraeli/DeepBind/blob/master/code/deepfind.py\n",
    "   \"\"\"Given predictions z and 0/1 targets y, computes AUC with optional ROC curve\"\"\"\n",
    "   z = z.ravel()\n",
    "   y = y.ravel()\n",
    "   assert len(z) == len(y)\n",
    "\n",
    "# Remove any pair with NaN in y    \n",
    "   m = ~np.isnan(y)\n",
    "   y = y[m]\n",
    "   z = z[m]\n",
    "   assert np.all(np.logical_or(y==0, y==1)), \"Cannot calculate AUC for non-binary targets\"\n",
    "\n",
    "   order = np.argsort(z,axis=0)[::-1].ravel()   # Sort by decreasing order of prediction strength\n",
    "   z = z[order]\n",
    "   y = y[order]\n",
    "   npos = np.count_nonzero(y)      # Total number of positives.\n",
    "   nneg = len(y)-npos              # Total number of negatives.\n",
    "   if nneg == 0 or npos == 0:\n",
    "       return (np.nan,None) if want_curve else 1\n",
    "\n",
    "   n = len(y)\n",
    "   fprate = np.zeros((n+1,1))\n",
    "   tprate = np.zeros((n+1,1))\n",
    "   ntpos,nfpos = 0.,0.\n",
    "   for i,yi in enumerate(y):\n",
    "       if yi: ntpos += 1\n",
    "       else:  nfpos += 1\n",
    "       tprate[i+1] = ntpos/npos\n",
    "       fprate[i+1] = nfpos/nneg\n",
    "   auc = float(np.trapz(tprate,fprate,axis=0))\n",
    "   if want_curve:\n",
    "       curve = np.hstack([fprate,tprate])\n",
    "       return auc, curve\n",
    "   return auc"
   ]
  },
  {
   "cell_type": "code",
   "execution_count": null,
   "id": "04ff5923",
   "metadata": {},
   "outputs": [],
   "source": [
    "def median_calc(preds, y):\n",
    "    nan_mask = (~np.isnan(y))\n",
    "    y = y[nan_mask]\n",
    "    preds = preds[nan_mask]\n",
    "    indeces_1 = np.where(preds==1)[0]\n",
    "    return np.median(y[indeces_1])\n"
   ]
  },
  {
   "cell_type": "code",
   "execution_count": null,
   "id": "7626afc2",
   "metadata": {},
   "outputs": [],
   "source": [
    "def auc_calc(preds, y):\n",
    "    nan_mask = (~np.isnan(y))\n",
    "    y = y[nan_mask]a\n",
    "    preds = preds[nan_mask]\n",
    "    order = np.argsort(y)\n",
    "    y_sorted = y[order]\n",
    "    preds_sorted = preds[order]\n",
    "    return auc(y_sorted, preds_sorted)"
   ]
  },
  {
   "cell_type": "code",
   "execution_count": null,
   "id": "cdbbdcd8",
   "metadata": {
    "tags": []
   },
   "outputs": [],
   "source": [
    "def escore(preds, y, use_calc_auc=False):\n",
    "    nan_mask = (~np.isnan(y))\n",
    "    y = y[nan_mask]\n",
    "    preds = preds[nan_mask]\n",
    "    l_0 = np.where(preds == 0)[0]\n",
    "    l_1 = np.where(preds == 1)[0]\n",
    "    y_0 = y[l_0]\n",
    "    y_1 = y[l_1]\n",
    "    indeces_y_0, indeces_y_1 = np.argsort(y_0)[::-1], np.argsort(y_1)[::-1]\n",
    "    sorted_y_0, sorted_y_1 = np.sort(y_0)[::-1], np.sort(y_1)[::-1]\n",
    "    indeces_y_0_top = indeces_y_0[:int(len(sorted_y_0)/2)]\n",
    "    indeces_y_1_top = indeces_y_1[:int(len(sorted_y_1)/2)]\n",
    "    sorted_y_0_top = sorted_y_0[:int(len(sorted_y_0)/2)]\n",
    "    sorted_y_1_top = sorted_y_1[:int(len(sorted_y_1)/2)]\n",
    "    l_0_top = l_0[indeces_y_0_top]\n",
    "    l_1_top = l_1[indeces_y_1_top]\n",
    "    l_top = np.concatenate([l_0_top, l_1_top])\n",
    "    if use_calc_auc:\n",
    "        print(\"HERE\")\n",
    "        return calc_auc(y[l_top], preds[l_top])\n",
    "    else:\n",
    "        return auc_calc(preds=preds[l_top], y=y[l_top])"
   ]
  },
  {
   "cell_type": "code",
   "execution_count": null,
   "id": "138376ea",
   "metadata": {
    "tags": []
   },
   "outputs": [],
   "source": [
    "def rna_complete_metrics(probes, intensities, n=7, alphabet=\"AGCU\", num_kmers=None):\n",
    "    possible_kmers = generate_all_possible_kmers(n=n, alphabet=alphabet)\n",
    "    num_kmers = len(possible_kmers) if num_kmers is None else num_kmers\n",
    "    possible_kmers = possible_kmers[:num_kmers]\n",
    "    kmer_medians, kmer_aucs, kmer_escores = [], [], []\n",
    "    y = intensities\n",
    "    for i, kmer in tqdm(enumerate(possible_kmers), desc=\"Scoring k-mers\", total=len(possible_kmers)):\n",
    "        preds = kmer_in_seqs(seqs=probes, kmer=kmer)\n",
    "        kmer_medians.append(median_calc(preds=preds, y=y))\n",
    "        kmer_aucs.append(auc_calc(preds=preds, y=y))\n",
    "        kmer_escores.append(escore(preds=preds, y=y))\n",
    "    kmer_medians, kmer_aucs, kmer_escore = np.array(kmer_medians), np.array(kmer_aucs), np.array(kmer_escores)\n",
    "    kmer_zscores = (kmer_medians - np.mean(kmer_medians))/np.std(kmer_medians, ddof=1)\n",
    "    return kmer_zscores, kmer_aucs, kmer_escores"
   ]
  },
  {
   "cell_type": "code",
   "execution_count": null,
   "id": "9827ea19-2089-41a5-9859-9ff2a71366d7",
   "metadata": {
    "tags": []
   },
   "outputs": [],
   "source": [
    "def rna_complete(kmer_presence_mtx, intensities, num_kmers=None, use_calc_auc=False, verbose=True):\n",
    "    y = intensities\n",
    "    num_kmers = len(kmer_presence_mtx) if num_kmers is None else num_kmers\n",
    "    kmer_presence_mtx = kmer_presence_mtx[:num_kmers]\n",
    "    preds = kmer_presence\n",
    "        kmer_medians.append(median_calc(preds=preds, y=y))\n",
    "        if use_calc_auc:\n",
    "            kmer_aucs.append(calc_auc(y, preds))\n",
    "        else:\n",
    "            kmer_aucs.append(auc_calc(preds=preds, y=y))\n",
    "        kmer_escores.append(escore(preds=preds, y=y, use_calc_auc=use_calc_auc))\n",
    "    kmer_medians, kmer_aucs, kmer_escore = np.array(kmer_medians), np.array(kmer_aucs), np.array(kmer_escores)\n",
    "    kmer_zscores = (kmer_medians - np.mean(kmer_medians))/np.std(kmer_medians, ddof=1)\n",
    "    return kmer_zscores, kmer_aucs, kmer_escores"
   ]
  },
  {
   "cell_type": "code",
   "execution_count": null,
   "id": "1ea6a30f-e522-492f-928e-e97f497fb676",
   "metadata": {
    "execution": {
     "iopub.execute_input": "2022-08-26T23:43:18.451086Z",
     "iopub.status.busy": "2022-08-26T23:43:18.450630Z",
     "iopub.status.idle": "2022-08-26T23:43:22.857986Z",
     "shell.execute_reply": "2022-08-26T23:43:22.856924Z",
     "shell.execute_reply.started": "2022-08-26T23:43:18.451049Z"
    },
    "tags": []
   },
   "outputs": [],
   "source": [
    "def rna_complete_metrics_2(kmer_presence_mtx, intensities, num_kmers=None, use_calc_auc=False, verbose=True):\n",
    "    y = intensities\n",
    "    num_kmers = len(kmer_presence_mtx) if num_kmers is None else num_kmers\n",
    "    kmer_presence_mtx = kmer_presence_mtx[:num_kmers]\n",
    "    kmer_medians, kmer_aucs, kmer_escores = [], [], []\n",
    "    for i, kmer_presence in tqdm(enumerate(kmer_presence_mtx), desc=\"Scoring k-mers\", total=len(kmer_presence_mtx), disable = not verbose):\n",
    "        preds = kmer_presence\n",
    "        kmer_medians.append(median_calc(preds=preds, y=y))\n",
    "        if use_calc_auc:\n",
    "            kmer_aucs.append(calc_auc(y, preds))\n",
    "        else:\n",
    "            kmer_aucs.append(auc_calc(preds=preds, y=y))\n",
    "        kmer_escores.append(escore(preds=preds, y=y, use_calc_auc=use_calc_auc))\n",
    "    kmer_medians, kmer_aucs, kmer_escore = np.array(kmer_medians), np.array(kmer_aucs), np.array(kmer_escores)\n",
    "    kmer_zscores = (kmer_medians - np.mean(kmer_medians))/np.std(kmer_medians, ddof=1)\n",
    "    return kmer_zscores, kmer_aucs, kmer_escores"
   ]
  },
  {
   "cell_type": "code",
   "execution_count": null,
   "id": "69aa0b55-e295-4722-b798-f2da717fe974",
   "metadata": {
    "execution": {
     "iopub.execute_input": "2022-08-26T23:39:39.796839Z",
     "iopub.status.busy": "2022-08-26T23:39:39.796368Z",
     "iopub.status.idle": "2022-08-26T23:39:43.538999Z",
     "shell.execute_reply": "2022-08-26T23:39:43.537292Z",
     "shell.execute_reply.started": "2022-08-26T23:39:39.796783Z"
    },
    "tags": []
   },
   "outputs": [
    {
     "ename": "SyntaxError",
     "evalue": "invalid syntax (1524864938.py, line 1)",
     "output_type": "error",
     "traceback": [
      "\u001b[0;36m  File \u001b[0;32m\"/tmp/ipykernel_679707/1524864938.py\"\u001b[0;36m, line \u001b[0;32m1\u001b[0m\n",
      "\u001b[0;31m    def column_rnac_metrics(sdata, kmer_presence_mtx, probe_id, n_kmers=, return_cors=False, verbose=True, use_calc_auc=False):\u001b[0m\n",
      "\u001b[0m                                                                        ^\u001b[0m\n",
      "\u001b[0;31mSyntaxError\u001b[0m\u001b[0;31m:\u001b[0m invalid syntax\n"
     ]
    }
   ],
   "source": [
    "def column_rnac_metrics(sdata, kmer_presence_mtx, probe_id, n_kmers=None, return_cors=False, verbose=True, use_calc_auc=False):\n",
    "    observed = sdata[probe_id].values\n",
    "    preds = sdata[f\"{probe_id}_predictions\"].values\n",
    "    \n",
    "    # Get zscores, aucs and escores from observed intensities\n",
    "    observed_zscores, observed_aucs, observed_escores = rna_complete_metrics_2(kmer_presence_mtx, observed, num_kmers=n_kmers, verbose=verbose, use_calc_auc=use_calc_auc)\n",
    "\n",
    "    # Get zscores, aucs, and escores from predicted intensities\n",
    "    preds_zscores, preds_aucs, preds_escores = rna_complete_metrics_2(kmer_presence_mtx, preds, num_kmers=n_kmers, verbose=verbose, use_calc_auc=use_calc_auc)\n",
    "    \n",
    "    # Z-scores\n",
    "    zscore_pearson = pearsonr(preds_zscores, observed_zscores)[0]\n",
    "    zscore_spearman = spearmanr(preds_zscores, observed_zscores).correlation\n",
    "\n",
    "    # AUCs\n",
    "    auc_pearson = pearsonr(preds_aucs, observed_aucs)[0]\n",
    "    auc_spearman = spearmanr(preds_aucs, observed_aucs).correlation\n",
    "\n",
    "    # E-scores\n",
    "    escore_pearson = pearsonr(preds_escores, observed_escores)[0]\n",
    "    escore_spearman = spearmanr(preds_escores, observed_escores).correlation\n",
    "\n",
    "    # Intensities\n",
    "    intensity_pearson = pearsonr(observed, preds)[0]\n",
    "    intensity_spearman = spearmanr(observed, preds).correlation\n",
    "    \n",
    "    if return_cors:\n",
    "        pearson = {\"Z-score\": zscore_pearson, \"AUC\": auc_pearson, \"E-score\": escore_pearson, \"Intensity\": intensity_pearson}\n",
    "        spearman = {\"Z-score\": zscore_spearman, \"AUC\": auc_spearman, \"E-score\": escore_spearman, \"Intensity\": intensity_spearman}\n",
    "        return pearson, spearman\n",
    "    \n",
    "    fig, ax = plt.subplots(1, 4, figsize=(16, 4))\n",
    "    ax[0].scatter(observed_zscores, preds_zscores)\n",
    "    ax[0].set_title(\"Z-scores\")\n",
    "    ax[0].set_xlabel(\"Observed\")\n",
    "    ax[0].set_ylabel(\"Predicted\")\n",
    "    ax[0].text(0.75, 0.05, \"r=\" + str(round(zscore_pearson, 2)) + \"\\nrho=\" + str(round(zscore_spearman, 2)), transform=ax[0].transAxes)\n",
    "\n",
    "    ax[1].scatter(observed_aucs, preds_aucs)\n",
    "    ax[1].set_title(\"AUCs\")\n",
    "    ax[1].set_xlabel(\"Observed\")\n",
    "    ax[1].set_ylabel(\"Predicted\")\n",
    "    ax[1].text(0.75, 0.05, \"r=\" + str(round(auc_pearson, 2)) + \"\\nrho=\" + str(round(auc_spearman, 2)), transform=ax[1].transAxes)\n",
    "\n",
    "    ax[2].scatter(observed_escores, preds_escores)\n",
    "    ax[2].set_title(\"E-scores\")\n",
    "    ax[2].set_xlabel(\"Observed\")\n",
    "    ax[2].set_ylabel(\"Predicted\")\n",
    "    ax[2].text(0.75, 0.05, \"r=\" + str(round(escore_pearson, 2)) + \"\\nrho=\" + str(round(escore_spearman, 2)), transform=ax[2].transAxes)\n",
    "\n",
    "    ax[3].scatter(observed, preds)\n",
    "    ax[3].set_title(\"Intensities\")\n",
    "    ax[3].set_xlabel(\"Observed\")\n",
    "    ax[3].set_ylabel(\"Predicted\")\n",
    "    ax[3].text(0.75, 0.05, \"r=\" + str(round(intensity_pearson, 2)) + \"\\nrho=\" + str(round(intensity_spearman, 2)), transform=ax[3].transAxes)\n",
    "\n",
    "    plt.tight_layout()"
   ]
  },
  {
   "cell_type": "code",
   "execution_count": null,
   "id": "6b8ff08d-4a26-470c-854d-8103a4a2ccff",
   "metadata": {
    "execution": {
     "iopub.execute_input": "2022-08-26T19:56:46.425143Z",
     "iopub.status.busy": "2022-08-26T19:56:46.424743Z",
     "iopub.status.idle": "2022-08-26T19:56:50.807715Z",
     "shell.execute_reply": "2022-08-26T19:56:50.806514Z",
     "shell.execute_reply.started": "2022-08-26T19:56:46.425098Z"
    },
    "tags": []
   },
   "outputs": [],
   "source": [
    "def summarize_rbps(probe_ids, seqs, n_kmers=100, verbose=False, use_calc_auc=False):\n",
    "    spearman_summary = pd.DataFrame()\n",
    "    pearson_summary = pd.DataFrame()\n",
    "    for i, probe_id in tqdm(enumerate(probe_ids), desc=\"Evaluating probes\", total=len(probe_ids)):\n",
    "        rs, rhos = evaluate_rbp(probe_id, sdata.seqs, n_kmers=n_kmers, return_cors=True, verbose=verbose, use_calc_auc=use_calc_auc)\n",
    "        pearson_summary = pd.concat([pearson_summary, pd.DataFrame(rs, index=[probe_id])], axis=0)\n",
    "        spearman_summary = pd.concat([spearman_summary, pd.DataFrame(rhos, index=[probe_id])], axis=0)\n",
    "    return pearson_summary, spearman_summary"
   ]
  },
  {
   "cell_type": "code",
   "execution_count": null,
   "id": "78bfe88f-ebfc-408e-90aa-b92d18d0f3f8",
   "metadata": {
    "execution": {
     "iopub.execute_input": "2022-08-27T00:41:48.354394Z",
     "iopub.status.busy": "2022-08-27T00:41:48.353907Z",
     "iopub.status.idle": "2022-08-27T00:41:52.357542Z",
     "shell.execute_reply": "2022-08-27T00:41:52.356455Z",
     "shell.execute_reply.started": "2022-08-27T00:41:48.354358Z"
    },
    "tags": []
   },
   "outputs": [],
   "source": [
    "def rna_complete_metrics_apply(kmer_presence_mtx, intensities, num_kmers=None, use_calc_auc=False, verbose=True):\n",
    "    df = pd.DataFrame(kmer_presence_mtx)\n",
    "    y = intensities\n",
    "    df_sub = df[:num_kmers]\n",
    "    if verbose:\n",
    "        if use_calc_auc:\n",
    "            rbp_eval = df_sub.progress_apply(lambda preds: pd.Series({'Median': median_calc(preds, y), 'AUC': calc_auc(y, preds), 'E-score': escore(preds, y, use_calc_auc=True)}), axis=1)\n",
    "        else:\n",
    "            rbp_eval = df_sub.progress_apply(lambda preds: pd.Series({'Median': median_calc(preds, y), 'AUC': auc_calc(preds, y), 'E-score': escore(preds, y)}), axis=1)\n",
    "    else:\n",
    "        if use_calc_auc:\n",
    "            rbp_eval = df_sub.apply(lambda preds: pd.Series({'Median': median_calc(preds, y), 'AUC': calc_auc(y, preds), 'E-score': escore(preds, y, use_calc_auc=True)}), axis=1)\n",
    "        else:\n",
    "            rbp_eval = df_sub.apply(lambda preds: pd.Series({'Median': median_calc(preds, y), 'AUC': auc_calc(preds, y), 'E-score': escore(preds, y)}), axis=1)\n",
    "    rbp_eval[\"Z-score\"] = (rbp_eval[\"Median\"] - np.mean(rbp_eval[\"Median\"])) / np.std(rbp_eval[\"Median\"], ddof=1)\n",
    "    return rbp_eval[\"Z-score\"].values, rbp_eval[\"AUC\"].values, rbp_eval[\"E-score\"].values, "
   ]
  },
  {
   "cell_type": "code",
   "execution_count": null,
   "id": "20325975",
   "metadata": {
    "tags": []
   },
   "outputs": [],
   "source": [
    "def column_rnac_metrics_apply(sdata, kmer_presence_mtx, probe_id, n_kmers=None, return_cors=False, use_calc_auc=False, verbose=True):\n",
    "    observed = sdata[probe_id].values\n",
    "    preds = sdata[f\"{probe_id}_predictions\"].values\n",
    "    \n",
    "    # Get zscores, aucs and escores from observed intensities\n",
    "    observed_zscores, observed_aucs, observed_escores = rna_complete_metrics_apply(kmer_presence_mtx, observed, num_kmers=n_kmers, verbose=verbose, use_calc_auc=use_calc_auc)\n",
    "\n",
    "    # Get zscores, aucs, and escores from predicted intensities\n",
    "    preds_zscores, preds_aucs, preds_escores = rna_complete_metrics_apply(kmer_presence_mtx, preds, num_kmers=n_kmers, verbose=verbose, use_calc_auc=use_calc_auc)\n",
    "    \n",
    "    # Z-scores\n",
    "    zscore_pearson = pearsonr(preds_zscores, observed_zscores)[0]\n",
    "    zscore_spearman = spearmanr(preds_zscores, observed_zscores).correlation\n",
    "\n",
    "    # AUCs\n",
    "    auc_pearson = pearsonr(preds_aucs, observed_aucs)[0]\n",
    "    auc_spearman = spearmanr(preds_aucs, observed_aucs).correlation\n",
    "\n",
    "    # E-scores\n",
    "    escore_pearson = pearsonr(preds_escores, observed_escores)[0]\n",
    "    escore_spearman = spearmanr(preds_escores, observed_escores).correlation\n",
    "\n",
    "    # Intensities\n",
    "    intensity_pearson = pearsonr(observed, preds)[0]\n",
    "    intensity_spearman = spearmanr(observed, preds).correlation\n",
    "    \n",
    "    if return_cors:\n",
    "        pearson = {\"Z-score\": zscore_pearson, \"AUC\": auc_pearson, \"E-score\": escore_pearson, \"Intensity\": intensity_pearson}\n",
    "        spearman = {\"Z-score\": zscore_spearman, \"AUC\": auc_spearman, \"E-score\": escore_spearman, \"Intensity\": intensity_spearman}\n",
    "        return pearson, spearman\n",
    "    \n",
    "    fig, ax = plt.subplots(1, 4, figsize=(16, 4))\n",
    "    ax[0].scatter(observed_zscores, preds_zscores)\n",
    "    ax[0].set_title(\"Z-scores\")\n",
    "    ax[0].set_xlabel(\"Observed\")\n",
    "    ax[0].set_ylabel(\"Predicted\")\n",
    "    ax[0].text(0.75, 0.05, \"r=\" + str(round(zscore_pearson, 2)) + \"\\nrho=\" + str(round(zscore_spearman, 2)), transform=ax[0].transAxes)\n",
    "\n",
    "    ax[1].scatter(observed_aucs, preds_aucs)\n",
    "    ax[1].set_title(\"AUCs\")\n",
    "    ax[1].set_xlabel(\"Observed\")\n",
    "    ax[1].set_ylabel(\"Predicted\")\n",
    "    ax[1].text(0.75, 0.05, \"r=\" + str(round(auc_pearson, 2)) + \"\\nrho=\" + str(round(auc_spearman, 2)), transform=ax[1].transAxes)\n",
    "\n",
    "    ax[2].scatter(observed_escores, preds_escores)\n",
    "    ax[2].set_title(\"E-scores\")\n",
    "    ax[2].set_xlabel(\"Observed\")\n",
    "    ax[2].set_ylabel(\"Predicted\")\n",
    "    ax[2].text(0.75, 0.05, \"r=\" + str(round(escore_pearson, 2)) + \"\\nrho=\" + str(round(escore_spearman, 2)), transform=ax[2].transAxes)\n",
    "\n",
    "    ax[3].scatter(observed, preds)\n",
    "    ax[3].set_title(\"Intensities\")\n",
    "    ax[3].set_xlabel(\"Observed\")\n",
    "    ax[3].set_ylabel(\"Predicted\")\n",
    "    ax[3].text(0.75, 0.05, \"r=\" + str(round(intensity_pearson, 2)) + \"\\nrho=\" + str(round(intensity_spearman, 2)), transform=ax[3].transAxes)\n",
    "\n",
    "    plt.tight_layout()"
   ]
  },
  {
   "cell_type": "code",
   "execution_count": null,
   "id": "26653dc6",
   "metadata": {
    "tags": []
   },
   "outputs": [],
   "source": [
    "def summarize_rbps_apply(sdata, kmer_presence_mtx, probe_ids, n_kmers=100, verbose=False, use_calc_auc=False):\n",
    "    spearman_summary = pd.DataFrame()\n",
    "    pearson_summary = pd.DataFrame()\n",
    "    for i, probe_id in tqdm(enumerate(probe_ids), desc=\"Evaluating probes\", total=len(probe_ids)):\n",
    "        rs, rhos = column_rnac_metrics_apply(sdata, kmer_presence_mtx, probe_id=probe_id, n_kmers=n_kmers, return_cors=True, verbose=verbose, use_calc_auc=use_calc_auc)\n",
    "        pearson_summary = pd.concat([pearson_summary, pd.DataFrame(rs, index=[probe_id])], axis=0)\n",
    "        spearman_summary = pd.concat([spearman_summary, pd.DataFrame(rhos, index=[probe_id])], axis=0)\n",
    "    return pearson_summary, spearman_summary"
   ]
  },
  {
   "cell_type": "markdown",
   "id": "36850fcc",
   "metadata": {
    "tags": []
   },
   "source": [
    "# Working with predictions sent by Hayden on 08/24/2022\n",
    "Muiltitask model trained on the whole dataset"
   ]
  },
  {
   "cell_type": "code",
   "execution_count": 178,
   "id": "cdf28384-5f24-4a86-8b11-ba91089f7005",
   "metadata": {
    "execution": {
     "iopub.execute_input": "2022-08-26T23:42:25.740394Z",
     "iopub.status.busy": "2022-08-26T23:42:25.739726Z",
     "iopub.status.idle": "2022-08-26T23:42:34.146785Z",
     "shell.execute_reply": "2022-08-26T23:42:34.145797Z",
     "shell.execute_reply.started": "2022-08-26T23:42:25.740342Z"
    },
    "tags": []
   },
   "outputs": [],
   "source": [
    "# This dataset wasn't originally split on Set, so I manually did it\n",
    "sdata = eu.dl.read_h5sd(\"../../output/ray13/sequence_datum/SD_predict_RNAcomplete.h5\")\n",
    "sdata_set_a = sdata[:120326]\n",
    "sdata_set_b = sdata[120326:]"
   ]
  },
  {
   "cell_type": "code",
   "execution_count": 305,
   "id": "14617950-0e3d-4373-874b-f2d20ebc8883",
   "metadata": {
    "execution": {
     "iopub.execute_input": "2022-08-27T00:45:50.393596Z",
     "iopub.status.busy": "2022-08-27T00:45:50.393142Z",
     "iopub.status.idle": "2022-08-27T00:46:25.511681Z",
     "shell.execute_reply": "2022-08-27T00:46:25.510682Z",
     "shell.execute_reply.started": "2022-08-27T00:45:50.393559Z"
    },
    "tags": []
   },
   "outputs": [],
   "source": [
    "# For apply functions, we want preloaded kmer presence matrices\n",
    "a_presence_absence = np.load(\"/cellar/users/aklie/data/eugene/ray13/SetA_binary.npy\")\n",
    "b_presence_absence = np.load(\"/cellar/users/aklie/data/eugene/ray13/SetB_binary.npy\")"
   ]
  },
  {
   "cell_type": "markdown",
   "id": "44fb9963",
   "metadata": {
    "jp-MarkdownHeadingCollapsed": true,
    "tags": []
   },
   "source": [
    "# Testing out the pandas apply versions of eval metrics"
   ]
  },
  {
   "cell_type": "code",
   "execution_count": 199,
   "id": "453d3cfc-4e14-43db-85ba-880186396f4c",
   "metadata": {
    "execution": {
     "iopub.execute_input": "2022-08-26T23:48:11.628494Z",
     "iopub.status.busy": "2022-08-26T23:48:11.627990Z",
     "iopub.status.idle": "2022-08-26T23:48:16.496722Z",
     "shell.execute_reply": "2022-08-26T23:48:16.495750Z",
     "shell.execute_reply.started": "2022-08-26T23:48:11.628458Z"
    },
    "tags": []
   },
   "outputs": [],
   "source": [
    "# Choose the task\n",
    "probe_id = \"RNCMPT00001\"\n",
    "observed = sdata_set_a[probe_id].values\n",
    "preds = sdata_set_a[f\"{probe_id}_predictions\"].values"
   ]
  },
  {
   "cell_type": "code",
   "execution_count": 292,
   "id": "bf7ce3d1-33aa-4dc5-a30f-7edeb2183977",
   "metadata": {
    "execution": {
     "iopub.execute_input": "2022-08-27T00:41:52.360585Z",
     "iopub.status.busy": "2022-08-27T00:41:52.359961Z",
     "iopub.status.idle": "2022-08-27T00:42:01.595428Z",
     "shell.execute_reply": "2022-08-27T00:42:01.594245Z",
     "shell.execute_reply.started": "2022-08-27T00:41:52.360537Z"
    },
    "tags": []
   },
   "outputs": [],
   "source": [
    "# Test the apply version of teh functions\n",
    "metr = rna_complete_metrics_apply(a_presence_absence, observed, num_kmers=100, verbose=False)\n",
    "metr = rna_complete_metrics_apply(a_presence_absence, observed, num_kmers=100, verbose=True)\n",
    "column_rnac_metrics_apply(sdata=sdata_set_a, kmer_presence_mtx=a_presence_absence, probe_id=probe_id, n_kmers=100, verbose=True)\n",
    "column_rnac_metrics_apply(sdata=sdata_set_a, kmer_presence_mtx=a_presence_absence, probe_id=probe_id, n_kmers=100, use_calc_auc=True, verbose=False)"
   ]
  },
  {
   "cell_type": "code",
   "execution_count": 303,
   "id": "11909459-be22-4cc6-84ba-769e1b9a0612",
   "metadata": {
    "execution": {
     "iopub.execute_input": "2022-08-27T00:45:34.026011Z",
     "iopub.status.busy": "2022-08-27T00:45:34.025629Z",
     "iopub.status.idle": "2022-08-27T00:45:38.462030Z",
     "shell.execute_reply": "2022-08-27T00:45:38.460722Z",
     "shell.execute_reply.started": "2022-08-27T00:45:34.025965Z"
    },
    "tags": []
   },
   "outputs": [],
   "source": [
    "# Try to get all the targets z-scores etc\n",
    "all_probe_ids = sdata_set_b.seqs_annot.columns[~sdata_set_b.seqs_annot.columns.str.contains(\"predictions\")][:-1]\n",
    "pearson_df, spearman_df = summarize_rbps_apply(sdata_set_b, b_presence_absence, all_probe_ids, n_kmers=None, use_calc_auc=True, verbose=True)"
   ]
  },
  {
   "cell_type": "code",
   "execution_count": 300,
   "id": "0e46d525-2921-43d7-a547-53b0491e199d",
   "metadata": {
    "execution": {
     "iopub.execute_input": "2022-08-27T00:44:36.410541Z",
     "iopub.status.busy": "2022-08-27T00:44:36.410142Z",
     "iopub.status.idle": "2022-08-27T00:44:40.602099Z",
     "shell.execute_reply": "2022-08-27T00:44:40.600990Z",
     "shell.execute_reply.started": "2022-08-27T00:44:36.410502Z"
    },
    "tags": []
   },
   "outputs": [],
   "source": [
    "# Make Seaborn plottable dfs\n",
    "pearson_long = pearson_df.reset_index().melt(id_vars=\"index\", value_name=\"Pearson\", var_name=\"Metric\").rename({\"index\":\"RBP\"}, axis=1)\n",
    "spearman_long = spearman_df.reset_index().melt(id_vars=\"index\", value_name=\"Spearman\", var_name=\"Metric\").rename({\"index\":\"RBP\"}, axis=1)"
   ]
  },
  {
   "cell_type": "code",
   "execution_count": 301,
   "id": "3d347e71-b98d-41e9-91ed-4e97daeb0e09",
   "metadata": {
    "execution": {
     "iopub.execute_input": "2022-08-27T00:44:40.605025Z",
     "iopub.status.busy": "2022-08-27T00:44:40.604409Z",
     "iopub.status.idle": "2022-08-27T00:44:45.824147Z",
     "shell.execute_reply": "2022-08-27T00:44:45.823199Z",
     "shell.execute_reply.started": "2022-08-27T00:44:40.604968Z"
    },
    "tags": []
   },
   "outputs": [
    {
     "data": {
      "image/png": "[encoded data removed]",
      "text/plain": [
       "<Figure size 576x288 with 2 Axes>"
      ]
     },
     "metadata": {
      "needs_background": "light"
     },
     "output_type": "display_data"
    }
   ],
   "source": [
    "# Plot the results!\n",
    "fig, ax = plt.subplots(1, 2, figsize=(8, 4))\n",
    "sns.boxplot(data=pearson_long, x=\"Metric\", y=\"Pearson\", color=\"red\", ax=ax[0])\n",
    "sns.boxplot(data=spearman_long, x=\"Metric\", y=\"Spearman\", color=\"red\", ax=ax[1])\n",
    "plt.tight_layout()"
   ]
  },
  {
   "cell_type": "markdown",
   "id": "0fa6bedf",
   "metadata": {
    "jp-MarkdownHeadingCollapsed": true,
    "tags": []
   },
   "source": [
    "# Testing out the original for loop versions of eval metrics"
   ]
  },
  {
   "cell_type": "code",
   "execution_count": 164,
   "id": "959a7e8e-d561-460e-81b7-8f01d998c55a",
   "metadata": {
    "execution": {
     "iopub.execute_input": "2022-08-26T19:55:28.346717Z",
     "iopub.status.busy": "2022-08-26T19:55:28.346430Z",
     "iopub.status.idle": "2022-08-26T19:55:32.823954Z",
     "shell.execute_reply": "2022-08-26T19:55:32.822847Z",
     "shell.execute_reply.started": "2022-08-26T19:55:28.346688Z"
    },
    "tags": []
   },
   "outputs": [],
   "source": [
    "# Choose the task\n",
    "probe_id = \"RNCMPT00001\"\n",
    "observed = sdata[probe_id].values\n",
    "preds = sdata[f\"{probe_id}_predictions\"].values"
   ]
  },
  {
   "cell_type": "code",
   "execution_count": 3,
   "id": "11aa2fcc-c14f-4636-9768-f5473a61c7ab",
   "metadata": {
    "execution": {
     "iopub.execute_input": "2022-08-26T19:55:36.381070Z",
     "iopub.status.busy": "2022-08-26T19:55:36.380737Z",
     "iopub.status.idle": "2022-08-26T19:55:59.012989Z",
     "shell.execute_reply": "2022-08-26T19:55:59.011628Z",
     "shell.execute_reply.started": "2022-08-26T19:55:36.381037Z"
    },
    "tags": []
   },
   "outputs": [],
   "source": [
    "# Function calculates metrics on a single column or task\n",
    "evaluate_rbp(probe_id, sdata.seqs, n_kmers=10, verbose=True, use_calc_auc=True)"
   ]
  },
  {
   "cell_type": "code",
   "execution_count": 167,
   "id": "b2985cdb-3efe-4926-9ab6-e896921a0161",
   "metadata": {
    "execution": {
     "iopub.execute_input": "2022-08-26T19:56:50.810725Z",
     "iopub.status.busy": "2022-08-26T19:56:50.810103Z",
     "iopub.status.idle": "2022-08-26T19:56:55.313826Z",
     "shell.execute_reply": "2022-08-26T19:56:55.312771Z",
     "shell.execute_reply.started": "2022-08-26T19:56:50.810674Z"
    },
    "tags": []
   },
   "outputs": [],
   "source": [
    "# Get all columns for each rbp\n",
    "all_probe_ids = sdata.seqs_annot.columns[~sdata.seqs_annot.columns.str.contains(\"predictions\")][:-1]"
   ]
  },
  {
   "cell_type": "code",
   "execution_count": 169,
   "id": "faba68ea-560e-4cd7-9f84-900f3cd8b6da",
   "metadata": {
    "execution": {
     "iopub.execute_input": "2022-08-26T19:57:29.353971Z",
     "iopub.status.busy": "2022-08-26T19:57:29.353601Z",
     "iopub.status.idle": "2022-08-26T19:58:40.827062Z",
     "shell.execute_reply": "2022-08-26T19:58:40.825749Z",
     "shell.execute_reply.started": "2022-08-26T19:57:29.353934Z"
    },
    "tags": []
   },
   "outputs": [
    {
     "data": {
      "application/vnd.jupyter.widget-view+json": {
       "model_id": "07b1a6a77f6f477880db518e09f9a7cd",
       "version_major": 2,
       "version_minor": 0
      },
      "text/plain": [
       "Evaluating probes:   0%|          | 0/10 [00:00<?, ?it/s]"
      ]
     },
     "metadata": {},
     "output_type": "display_data"
    }
   ],
   "source": [
    "# Calc metrics for 10 of them\n",
    "pearson_df, spearman_df = summarize_rbps(all_probe_ids[:10], sdata.seqs, n_kmers=5, use_calc_auc=True)"
   ]
  },
  {
   "cell_type": "code",
   "execution_count": 171,
   "id": "fe121845-a836-48fc-903a-d28232674b09",
   "metadata": {
    "execution": {
     "iopub.execute_input": "2022-08-26T19:58:59.634062Z",
     "iopub.status.busy": "2022-08-26T19:58:59.633660Z",
     "iopub.status.idle": "2022-08-26T19:59:03.459360Z",
     "shell.execute_reply": "2022-08-26T19:59:03.458278Z",
     "shell.execute_reply.started": "2022-08-26T19:58:59.634023Z"
    },
    "tags": []
   },
   "outputs": [],
   "source": [
    "# Make Seaborn plottable dfs\n",
    "pearson_long = pearson_df.reset_index().melt(id_vars=\"index\", value_name=\"Pearson\", var_name=\"Metric\").rename({\"index\":\"RBP\"}, axis=1)\n",
    "spearman_long = spearman_df.reset_index().melt(id_vars=\"index\", value_name=\"Spearman\", var_name=\"Metric\").rename({\"index\":\"RBP\"}, axis=1)"
   ]
  },
  {
   "cell_type": "code",
   "execution_count": 173,
   "id": "f56c200a-d6ea-4f14-9b2a-f0d8dd956a76",
   "metadata": {
    "execution": {
     "iopub.execute_input": "2022-08-26T20:04:51.352112Z",
     "iopub.status.busy": "2022-08-26T20:04:51.351669Z",
     "iopub.status.idle": "2022-08-26T20:04:56.837960Z",
     "shell.execute_reply": "2022-08-26T20:04:56.836791Z",
     "shell.execute_reply.started": "2022-08-26T20:04:51.352074Z"
    },
    "tags": []
   },
   "outputs": [
    {
     "data": {
      "image/png": "[encoded data removed]",
      "text/plain": [
       "<Figure size 576x288 with 2 Axes>"
      ]
     },
     "metadata": {
      "needs_background": "light"
     },
     "output_type": "display_data"
    }
   ],
   "source": [
    "# Plot the results!\n",
    "fig, ax = plt.subplots(1, 2, figsize=(8, 4))\n",
    "sns.boxplot(data=pearson_long, x=\"Metric\", y=\"Pearson\", color=\"red\", ax=ax[0])\n",
    "sns.boxplot(data=spearman_long, x=\"Metric\", y=\"Spearman\", color=\"red\", ax=ax[1])\n",
    "plt.tight_layout()"
   ]
  },
  {
   "cell_type": "markdown",
   "id": "f18d95b1-b397-49e2-87a2-084f63797885",
   "metadata": {},
   "source": [
    "---"
   ]
  },
  {
   "cell_type": "markdown",
   "id": "607cfa23-b8f0-4552-9a87-37bc6b843529",
   "metadata": {},
   "source": [
    "# Scratch"
   ]
  },
  {
   "cell_type": "markdown",
   "id": "779f7bb1-45a8-476f-b87f-541c2a1d4d54",
   "metadata": {
    "jp-MarkdownHeadingCollapsed": true,
    "tags": []
   },
   "source": [
    "## Developing evaluate RBP"
   ]
  },
  {
   "cell_type": "code",
   "execution_count": 2,
   "id": "c5f99548-2e1f-4b49-a0b9-73182f42f811",
   "metadata": {},
   "outputs": [],
   "source": [
    "def evaluate_rbp(sdata, probe_id, n_kmers=100, return_cors=False, verbose=True, use_calc_auc=False):\n",
    "    seqs = sdata.seqs\n",
    "    observed = sdata[probe_id].values\n",
    "    preds = sdata[f\"{probe_id}_predictions\"].values\n",
    "    \n",
    "    # Get zscores, aucs and escores from observed intensities\n",
    "    observed_zscores, observed_aucs, observed_escores = eu.predict.rna_complete_metrics(seqs, observed, num_kmers=n_kmers, verbose=verbose, use_calc_auc=use_calc_auc)\n",
    "\n",
    "    # Get zscores, aucs, and escores from predicted intensities\n",
    "    preds_zscores, preds_aucs, preds_escores = eu.predict.rna_complete_metrics(seqs, preds, num_kmers=n_kmers, verbose=verbose, use_calc_auc=use_calc_auc)\n",
    "    \n",
    "    # Z-scores\n",
    "    zscore_pearson = pearsonr(preds_zscores, observed_zscores)[0]\n",
    "    zscore_spearman = spearmanr(preds_zscores, observed_zscores).correlation\n",
    "\n",
    "    # AUCs\n",
    "    auc_pearson = pearsonr(preds_aucs, observed_aucs)[0]\n",
    "    auc_spearman = spearmanr(preds_aucs, observed_aucs).correlation\n",
    "\n",
    "    # E-scores\n",
    "    escore_pearson = pearsonr(preds_escores, observed_escores)[0]\n",
    "    escore_spearman = spearmanr(preds_escores, observed_escores).correlation\n",
    "\n",
    "    # Intensities\n",
    "    intensity_pearson = pearsonr(observed, preds)[0]\n",
    "    intensity_spearman = spearmanr(observed, preds).correlation\n",
    "    \n",
    "    if return_cors:\n",
    "        pearson = {\"Z-score\": zscore_pearson, \"AUC\": auc_pearson, \"E-score\": escore_pearson, \"Intensity\": intensity_pearson}\n",
    "        spearman = {\"Z-score\": zscore_spearman, \"AUC\": auc_spearman, \"E-score\": escore_spearman, \"Intensity\": intensity_spearman}\n",
    "        return pearson, spearman\n",
    "    \n",
    "    fig, ax = plt.subplots(1, 4, figsize=(16, 4))\n",
    "    ax[0].scatter(observed_zscores, preds_zscores)\n",
    "    ax[0].set_title(\"Z-scores\")\n",
    "    ax[0].set_xlabel(\"Observed\")\n",
    "    ax[0].set_ylabel(\"Predicted\")\n",
    "    ax[0].text(0.75, 0.05, \"r=\" + str(round(zscore_pearson, 2)) + \"\\nrho=\" + str(round(zscore_spearman, 2)), transform=ax[0].transAxes)\n",
    "\n",
    "    ax[1].scatter(observed_aucs, preds_aucs)\n",
    "    ax[1].set_title(\"AUCs\")\n",
    "    ax[1].set_xlabel(\"Observed\")\n",
    "    ax[1].set_ylabel(\"Predicted\")\n",
    "    ax[1].text(0.75, 0.05, \"r=\" + str(round(auc_pearson, 2)) + \"\\nrho=\" + str(round(auc_spearman, 2)), transform=ax[1].transAxes)\n",
    "\n",
    "    ax[2].scatter(observed_escores, preds_escores)\n",
    "    ax[2].set_title(\"E-scores\")\n",
    "    ax[2].set_xlabel(\"Observed\")\n",
    "    ax[2].set_ylabel(\"Predicted\")\n",
    "    ax[2].text(0.75, 0.05, \"r=\" + str(round(escore_pearson, 2)) + \"\\nrho=\" + str(round(escore_spearman, 2)), transform=ax[2].transAxes)\n",
    "\n",
    "    ax[3].scatter(observed, preds)\n",
    "    ax[3].set_title(\"Intensities\")\n",
    "    ax[3].set_xlabel(\"Observed\")\n",
    "    ax[3].set_ylabel(\"Predicted\")\n",
    "    ax[3].text(0.75, 0.05, \"r=\" + str(round(intensity_pearson, 2)) + \"\\nrho=\" + str(round(intensity_spearman, 2)), transform=ax[3].transAxes)\n",
    "\n",
    "    plt.tight_layout()"
   ]
  },
  {
   "cell_type": "code",
   "execution_count": 90,
   "id": "8f2b1fa3-3a85-4e66-b994-b5f8b69eedaf",
   "metadata": {
    "execution": {
     "iopub.execute_input": "2022-08-26T18:37:59.508759Z",
     "iopub.status.busy": "2022-08-26T18:37:59.508400Z",
     "iopub.status.idle": "2022-08-26T18:38:07.145256Z",
     "shell.execute_reply": "2022-08-26T18:38:07.144163Z",
     "shell.execute_reply.started": "2022-08-26T18:37:59.508730Z"
    },
    "tags": []
   },
   "outputs": [],
   "source": [
    "# Get zscores, aucs and escores from observed intensities\n",
    "observed_zscores, observed_aucs, observed_escores = eu.predict.rna_complete_metrics(sdata.seqs, observed, num_kmers=100)\n",
    "\n",
    "# Get zscores, aucs, and escores from predicted intensities\n",
    "db_zscores, db_aucs, db_escores = eu.predict.rna_complete_metrics(sdata.seqs, preds, num_kmers=100)\n",
    "\n",
    "# Z-scores\n",
    "zscore_pearson = pearsonr(db_zscores, observed_zscores)[0]\n",
    "zscore_spearman = spearmanr(db_zscores, observed_zscores).correlation\n",
    "\n",
    "# AUCs\n",
    "auc_pearson = pearsonr(db_aucs, observed_aucs)[0]\n",
    "auc_spearman = spearmanr(db_aucs, observed_aucs).correlation\n",
    "\n",
    "# E-scores\n",
    "escore_pearson = pearsonr(db_escores, observed_escores)[0]\n",
    "escore_spearman = spearmanr(db_escores, observed_escores).correlation\n",
    "\n",
    "# Intensities\n",
    "intensity_pearson = pearsonr(observed, preds)[0]\n",
    "intensity_spearman = spearmanr(observed, preds).correlation\n",
    "\n",
    "fig, ax = plt.subplots(1, 4, figsize=(16, 4))\n",
    "\n",
    "ax[0].scatter(observed_zscores, db_zscores)\n",
    "ax[0].set_title(\"Z-scores\")\n",
    "ax[0].set_xlabel(\"Observed\")\n",
    "ax[0].set_ylabel(\"Predicted\")\n",
    "ax[0].text(0.75, 0.05, \"r=\" + str(round(zscore_pearson, 2)) + \"\\nrho=\" + str(round(zscore_spearman, 2)), transform=ax[0].transAxes)\n",
    "\n",
    "ax[1].scatter(observed_aucs, db_aucs)\n",
    "ax[1].set_title(\"AUCs\")\n",
    "ax[1].set_xlabel(\"Observed\")\n",
    "ax[1].set_ylabel(\"Predicted\")\n",
    "ax[1].text(0.75, 0.05, \"r=\" + str(round(auc_pearson, 2)) + \"\\nrho=\" + str(round(auc_spearman, 2)), transform=ax[1].transAxes)\n",
    "\n",
    "ax[2].scatter(observed_escores, db_escores)\n",
    "ax[2].set_title(\"E-scores\")\n",
    "ax[2].set_xlabel(\"Observed\")\n",
    "ax[2].set_ylabel(\"Predicted\")\n",
    "ax[2].text(0.75, 0.05, \"r=\" + str(round(escore_pearson, 2)) + \"\\nrho=\" + str(round(escore_spearman, 2)), transform=ax[2].transAxes)\n",
    "\n",
    "ax[3].scatter(observed, preds)\n",
    "ax[3].set_title(\"Intensities\")\n",
    "ax[3].set_xlabel(\"Observed\")\n",
    "ax[3].set_ylabel(\"Predicted\")\n",
    "ax[3].text(0.75, 0.05, \"r=\" + str(round(intensity_pearson, 2)) + \"\\nrho=\" + str(round(intensity_spearman, 2)), transform=ax[3].transAxes)\n",
    "\n",
    "plt.tight_layout()"
   ]
  },
  {
   "cell_type": "code",
   "execution_count": null,
   "id": "71bebe56-733a-47cd-b992-4e92dcf19225",
   "metadata": {},
   "outputs": [],
   "source": [
    "# Test out above\n",
    "df = pd.DataFrame(a_presence_absence)\n",
    "df_sub = df[:100]\n",
    "rbp_eval = df_sub.progress_apply(lambda x: pd.Series({'Median': median_calc(x, preds), 'AUC': auc_calc(x, preds), 'E-score': escore(x, preds)}), axis=1)\n",
    "rbp_eval[\"Z-score\"] = (rbp_eval[\"Median\"] - np.mean(rbp_eval[\"Median\"])) / np.std(rbp_eval[\"Median\"], ddof=1)\n",
    "rbp_eval"
   ]
  },
  {
   "cell_type": "markdown",
   "id": "613f7064",
   "metadata": {
    "execution": {
     "iopub.execute_input": "2022-08-26T04:23:33.585492Z",
     "iopub.status.busy": "2022-08-26T04:23:33.584922Z",
     "iopub.status.idle": "2022-08-26T04:23:38.364818Z",
     "shell.execute_reply": "2022-08-26T04:23:38.363426Z",
     "shell.execute_reply.started": "2022-08-26T04:23:33.585454Z"
    },
    "jp-MarkdownHeadingCollapsed": true,
    "tags": []
   },
   "source": [
    "## Developing DeepBind Evaluation Metrics"
   ]
  },
  {
   "cell_type": "code",
   "execution_count": null,
   "id": "48b09b55",
   "metadata": {},
   "outputs": [],
   "source": [
    "# Older attempts\n",
    "def rna_complete_zscores(probes, values):\n",
    "    kmers = generate_all_possible_kmers(n=7, alphabet=\"AGCU\")\n",
    "    probes_s = pd.Series(probes)\n",
    "    kmer_indeces = [np.where(probes_s.str.contains(kmer))[0] for kmer in kmers]\n",
    "    median_kmer_intensities = [np.nanmedian(values[l]) for l in kmer_indeces]\n",
    "    z_scores = (median_kmer_intensities - np.mean(median_kmer_intensities))/np.std(median_kmer_intensities, ddof=1)\n",
    "    return z_scores\n",
    "\n",
    "\n",
    "def rna_complete_zscores(probes, values):\n",
    "    kmers = generate_all_possible_kmers(n=7, alphabet=\"AGCU\")[:10]\n",
    "    probes_s = pd.Series(probes)\n",
    "    kmer_indeces = [np.where(probes_s.str.contains(kmer))[0] for kmer in kmers[:10]]\n",
    "    median_kmer_intensities = [np.nanmedian(values[l]) for l in kmer_indeces]\n",
    "    z_scores = (median_kmer_intensities - np.mean(median_kmer_intensities))/np.std(median_kmer_intensities, ddof=1)\n",
    "    return z_scores\n",
    "\n",
    "\n",
    "def rna_complete_aucs(probes, values):\n",
    "    kmers = generate_all_possible_kmers(n=7, alphabet=\"AGCU\")[:10]\n",
    "    kmers_in_probes(probes, kmers):\n",
    "    order = np.argsort(values)\n",
    "    true_sorted = values[order]\n",
    "    preds_sorted = kmer_hits[:, order]\n",
    "    nan_mask = (~np.isnan(true_sorted))\n",
    "    true_cleaned = true_sorted[nan_mask]\n",
    "    preds_cleaned = preds_sorted[:, nan_mask]\n",
    "    aucs = np.array([auc(true_cleaned, preds) for preds in preds_cleaned])\n",
    "    return aucs\n",
    "\n",
    "\n",
    "def rna_complete_aucs(probes, values):\n",
    "    kmers = generate_all_possible_kmers(n=7, alphabet=\"AGCU\")[:10]\n",
    "    probes_s = pd.Series(probes)\n",
    "    kmer_hits = np.array([probes_s.str.contains(kmer).astype(int).values for kmer in kmers[:10]])\n",
    "    order = np.argsort(values)\n",
    "    true_sorted = values[order]\n",
    "    preds_sorted = kmer_hits[:, order]\n",
    "    nan_mask = (~np.isnan(true_sorted))\n",
    "    true_cleaned = true_sorted[nan_mask]\n",
    "    preds_cleaned = preds_sorted[:, nan_mask]\n",
    "    aucs = np.array([auc(true_cleaned, preds) for preds in preds_cleaned])\n",
    "    return aucs\n",
    "\n",
    "\n",
    "def rna_complete_aucs(kmer_binary, values):\n",
    "    nan_mask = (~np.isnan(values))\n",
    "    true = values[nan_mask]\n",
    "    preds = kmer_binary[:, nan_mask]\n",
    "    order = np.argsort(true)\n",
    "    true_sorted = true[order]\n",
    "    preds_sorted = preds[:, order]\n",
    "    aucs = np.array([auc(true_sorted, preds) for preds in preds_sorted])\n",
    "    return aucs\n",
    "\n",
    "rna_complete_zscores(probes=sdata.seqs, values=sdata[\"RNCMPT00100\"])\n",
    "rna_complete_aucs(k_binary, sdata[\"RNCMPT00100\"].values)\n",
    "rna_complete_aucs(probes=sdata.seqs, values=sdata[\"RNCMPT00100\"].values)"
   ]
  },
  {
   "cell_type": "code",
   "execution_count": null,
   "id": "799b105c",
   "metadata": {
    "execution": {
     "iopub.execute_input": "2022-08-26T17:15:36.506858Z",
     "iopub.status.busy": "2022-08-26T17:15:36.506575Z",
     "iopub.status.idle": "2022-08-26T17:15:40.585836Z",
     "shell.execute_reply": "2022-08-26T17:15:40.584771Z",
     "shell.execute_reply.started": "2022-08-26T17:15:36.506830Z"
    },
    "tags": []
   },
   "outputs": [],
   "source": [
    "# Get the hits for k-mers\n",
    "possible_kmers = generate_all_possible_kmers(n=7, alphabet=\"AGCU\")\n",
    "k_binary = kmer_in_seqs(seqs=sdata.seqs, kmer=possible_kmers[0])\n",
    "np.unique(k_binary, return_counts=True)\n",
    "\n",
    "# Real data\n",
    "preds = k_binary\n",
    "y = sdata[\"RNCMPT00100\"].values\n",
    "\n",
    "# Pretend data\n",
    "#preds = np.array([0, 1, 1, 1, 0, 0, 0, 1])\n",
    "#y = np.array([0.2, 0.6, 0.8, 0.7, 0.5, 0.3, 0.1, 0.9])\n",
    "\n",
    "median_calc(preds=preds, y=y), calc_auc(y, preds), auc_calc(preds=preds, y=y), escore(preds=preds, y=y), escore(preds, y, use_calc_auc=True)\n",
    "rna_complete_metrics(probes=sdata.seqs, intensities=sdata[\"RNCMPT00100\"].values, n=7, alphabet=\"AGCU\", num_kmers=100)"
   ]
  },
  {
   "cell_type": "code",
   "execution_count": null,
   "id": "bdb34758",
   "metadata": {},
   "outputs": [],
   "source": [
    "# Implementing the escore function\n",
    "\n",
    "# Pull out one k-mers worth of hits and actuall probe intensities\n",
    "preds = k_binary\n",
    "y = sdata[\"RNCMPT00100\"].values\n",
    "\n",
    "preds = np.array([0, 1, 1, 1, 0, 0, 0, 1])\n",
    "y = np.array([0.2, 0.6, 0.8, 0.7, 0.5, 0.3, 0.1, 0.9])\n",
    "\n",
    "# Get the indices where the 7mers are hits and where they are not\n",
    "l_0 = np.where(preds == 0)[0]\n",
    "l_1 = np.where(preds == 1)[0]\n",
    "l_0, l_1\n",
    "\n",
    "# Get the probe intensities for k-mer hits and not\n",
    "y_0 = y[l_0]\n",
    "y_1 = y[l_1]\n",
    "y_0, y_1\n",
    "\n",
    "indeces_y_0, indeces_y_1 = np.argsort(y_0)[::-1], np.argsort(y_1)[::-1]\n",
    "indeces_y_0, indeces_y_1\n",
    "\n",
    "sorted_y_0, sorted_y_1 = np.sort(y_0)[::-1], np.sort(y_1)[::-1]\n",
    "sorted_y_0, sorted_y_1\n",
    "\n",
    "indeces_y_0_top = indeces_y_0[:int(len(sorted_y_0)/2)]\n",
    "indeces_y_1_top = indeces_y_1[:int(len(sorted_y_1)/2)]\n",
    "indeces_y_0_top, indeces_y_1_top\n",
    "\n",
    "sorted_y_0_top = sorted_y_0[:int(len(sorted_y_0)/2)]\n",
    "sorted_y_1_top = sorted_y_1[:int(len(sorted_y_1)/2)]\n",
    "sorted_y_0_top, sorted_y_1_top\n",
    "\n",
    "l_0_top = l_0[indeces_y_0_top]\n",
    "l_1_top = l_1[indeces_y_1_top]\n",
    "l_0_top, l_1_top\n",
    "\n",
    "l_top = np.concatenate([l_0_top, l_1_top])\n",
    "l_top\n",
    "\n",
    "preds[l_top], y[l_top]\n",
    "\n",
    "rna_complete_auc(preds=preds, y=y), rna_complete_auc(preds=preds[l_top], y=y[l_top])"
   ]
  },
  {
   "cell_type": "code",
   "execution_count": null,
   "id": "ee030e8d",
   "metadata": {
    "execution": {
     "iopub.execute_input": "2022-08-26T17:27:49.137595Z",
     "iopub.status.busy": "2022-08-26T17:27:49.137124Z",
     "iopub.status.idle": "2022-08-26T17:27:55.614955Z",
     "shell.execute_reply": "2022-08-26T17:27:55.613825Z",
     "shell.execute_reply.started": "2022-08-26T17:27:49.137559Z"
    },
    "tags": []
   },
   "outputs": [
    {
     "data": {
      "application/vnd.jupyter.widget-view+json": {
       "model_id": "",
       "version_major": 2,
       "version_minor": 0
      },
      "text/plain": [
       "Scoring k-mers:   0%|          | 0/10 [00:00<?, ?it/s]"
      ]
     },
     "metadata": {},
     "output_type": "display_data"
    }
   ],
   "source": [
    "# Implementing the rnacomplete_metrics function\n",
    "kmer_medians = []\n",
    "kmer_aucs = []\n",
    "kmer_escores = []\n",
    "y = sdata[\"RNCMPT00100\"].values\n",
    "for i, kmer in tqdm(enumerate(possible_kmers[:n]), desc=\"Scoring k-mers\", total=len(possible_kmers[:n])):\n",
    "    preds = kmer_in_seqs(seqs=sdata.seqs, kmer=kmer)\n",
    "    kmer_medians.append(median_calc(preds=preds, y=y))\n",
    "    kmer_aucs.append(auc_calc(preds=preds, y=y))\n",
    "    kmer_escores.append(escores(preds=preds, y=y))\n",
    "kmer_medians = np.array(kmer_medians)\n",
    "kmer_aucs = np.array(kmer_aucs)\n",
    "kmer_escore = np.array(kmer_escores)\n",
    "kmer_zscores = (kmer_medians - np.mean(kmer_medians))/np.std(kmer_medians, ddof=1)"
   ]
  }
 ],
 "metadata": {
  "kernelspec": {
   "display_name": "Python 3.7 eugene_dev",
   "language": "python",
   "name": "eugene_dev"
  },
  "language_info": {
   "codemirror_mode": {
    "name": "ipython",
    "version": 3
   },
   "file_extension": ".py",
   "mimetype": "text/x-python",
   "name": "python",
   "nbconvert_exporter": "python",
   "pygments_lexer": "ipython3",
   "version": "3.7.12"
  },
  "vscode": {
   "interpreter": {
    "hash": "949777d72b0d2535278d3dc13498b2535136f6dfe0678499012e853ee9abcab1"
   }
  }
 },
 "nbformat": 4,
 "nbformat_minor": 5
}
