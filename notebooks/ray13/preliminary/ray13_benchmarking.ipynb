{
 "cells": [
  {
   "cell_type": "markdown",
   "id": "c4731c43-b476-499a-8558-bd62d57266f3",
   "metadata": {},
   "source": [
    "# Ray13 et al 2013 Evaluation\n",
    "**Authorship:**\n",
    "Adam Klie, *08/31/2022*\n",
    "***\n",
    "**Description:**\n",
    "Notebook to perform simple training of models on the Ray et al dataset.\n",
    "***"
   ]
  },
  {
   "cell_type": "code",
   "execution_count": null,
   "id": "98202e0a-d780-436b-a62e-355e6a1fca0a",
   "metadata": {},
   "outputs": [],
   "source": [
    "set environment"
   ]
  },
  {
   "cell_type": "code",
   "execution_count": 4,
   "id": "7ae30eb5-35c7-41a3-82da-512c788b28a6",
   "metadata": {
    "execution": {
     "iopub.execute_input": "2022-09-01T04:28:55.476002Z",
     "iopub.status.busy": "2022-09-01T04:28:55.475849Z",
     "iopub.status.idle": "2022-09-01T04:28:55.478140Z",
     "shell.execute_reply": "2022-09-01T04:28:55.477833Z",
     "shell.execute_reply.started": "2022-09-01T04:28:55.475985Z"
    },
    "tags": []
   },
   "outputs": [],
   "source": [
    "import kipoi"
   ]
  },
  {
   "cell_type": "code",
   "execution_count": 8,
   "id": "96f14c43-ddbf-4c56-95d7-b7e0e8422e4a",
   "metadata": {
    "execution": {
     "iopub.execute_input": "2022-09-01T04:31:53.617567Z",
     "iopub.status.busy": "2022-09-01T04:31:53.617391Z",
     "iopub.status.idle": "2022-09-01T04:31:53.620387Z",
     "shell.execute_reply": "2022-09-01T04:31:53.620072Z",
     "shell.execute_reply.started": "2022-09-01T04:31:53.617549Z"
    },
    "tags": []
   },
   "outputs": [
    {
     "name": "stdout",
     "output_type": "stream",
     "text": [
      "env: GIT_LFS_SKIP_SMUDGE=1\n"
     ]
    }
   ],
   "source": [
    "%set_env GIT_LFS_SKIP_SMUDGE=1"
   ]
  },
  {
   "cell_type": "code",
   "execution_count": 9,
   "id": "2e056558-d57a-4c91-be0f-0e38c5d19bb0",
   "metadata": {
    "execution": {
     "iopub.execute_input": "2022-09-01T04:32:05.386984Z",
     "iopub.status.busy": "2022-09-01T04:32:05.386821Z",
     "iopub.status.idle": "2022-09-01T04:32:06.167467Z",
     "shell.execute_reply": "2022-09-01T04:32:06.167124Z",
     "shell.execute_reply.started": "2022-09-01T04:32:05.386965Z"
    }
   },
   "outputs": [
    {
     "name": "stdout",
     "output_type": "stream",
     "text": [
      "1\n"
     ]
    }
   ],
   "source": [
    "!echo $GIT_LFS_SKIP_SMUDGE"
   ]
  },
  {
   "cell_type": "code",
   "execution_count": 11,
   "id": "cee60b28-c853-455a-88ba-2dd4a330451c",
   "metadata": {
    "execution": {
     "iopub.execute_input": "2022-09-01T04:32:43.575139Z",
     "iopub.status.busy": "2022-09-01T04:32:43.574979Z",
     "iopub.status.idle": "2022-09-01T04:32:44.411802Z",
     "shell.execute_reply": "2022-09-01T04:32:44.411453Z",
     "shell.execute_reply.started": "2022-09-01T04:32:43.575122Z"
    }
   },
   "outputs": [
    {
     "name": "stdout",
     "output_type": "stream",
     "text": [
      "/bin/bash: git: command not found\n"
     ]
    }
   ],
   "source": [
    "!export GIT_LFS_SKIP_SMUDGE=1 && git clone git@github.com:kipoi/models.git"
   ]
  },
  {
   "cell_type": "code",
   "execution_count": 23,
   "id": "f4622c45-83f4-4240-8bec-09da3a8e4387",
   "metadata": {
    "execution": {
     "iopub.execute_input": "2022-09-01T04:41:14.504132Z",
     "iopub.status.busy": "2022-09-01T04:41:14.503978Z",
     "iopub.status.idle": "2022-09-01T04:41:33.392706Z",
     "shell.execute_reply": "2022-09-01T04:41:33.392381Z",
     "shell.execute_reply.started": "2022-09-01T04:41:14.504114Z"
    },
    "tags": []
   },
   "outputs": [
    {
     "name": "stdout",
     "output_type": "stream",
     "text": [
      "Already up to date.\n",
      "Using downloaded and verified file: /cellar/users/aklie/.kipoi/models/DeepBind/downloaded/model_files/Homo_sapiens/RBP/D00084.001_RNAcompete_A1CF/arch/127f7597630be937c0495a27e6f42e5f\n",
      "Using downloaded and verified file: /cellar/users/aklie/.kipoi/models/DeepBind/downloaded/model_files/Homo_sapiens/RBP/D00084.001_RNAcompete_A1CF/weights/a4caf255312f44e3fd4e038a79691f2d\n"
     ]
    },
    {
     "name": "stderr",
     "output_type": "stream",
     "text": [
      "2022-08-31 21:41:18.262202: I tensorflow/stream_executor/platform/default/dso_loader.cc:49] Successfully opened dynamic library libcudart.so.10.1\n",
      "2022-08-31 21:41:31.874842: I tensorflow/compiler/jit/xla_cpu_device.cc:41] Not creating XLA devices, tf_xla_enable_xla_devices not set\n",
      "2022-08-31 21:41:31.878615: I tensorflow/stream_executor/platform/default/dso_loader.cc:49] Successfully opened dynamic library libcuda.so.1\n",
      "2022-08-31 21:41:31.942790: I tensorflow/stream_executor/cuda/cuda_gpu_executor.cc:941] successful NUMA node read from SysFS had negative value (-1), but there must be at least one NUMA node, so returning NUMA node zero\n",
      "2022-08-31 21:41:31.943942: I tensorflow/core/common_runtime/gpu/gpu_device.cc:1720] Found device 0 with properties: \n",
      "pciBusID: 0000:44:00.0 name: Quadro RTX 5000 computeCapability: 7.5\n",
      "coreClock: 1.815GHz coreCount: 48 deviceMemorySize: 15.75GiB deviceMemoryBandwidth: 417.29GiB/s\n",
      "2022-08-31 21:41:31.943963: I tensorflow/stream_executor/platform/default/dso_loader.cc:49] Successfully opened dynamic library libcudart.so.10.1\n",
      "2022-08-31 21:41:31.990944: I tensorflow/stream_executor/platform/default/dso_loader.cc:49] Successfully opened dynamic library libcublas.so.10\n",
      "2022-08-31 21:41:31.990994: I tensorflow/stream_executor/platform/default/dso_loader.cc:49] Successfully opened dynamic library libcublasLt.so.10\n",
      "2022-08-31 21:41:32.011965: I tensorflow/stream_executor/platform/default/dso_loader.cc:49] Successfully opened dynamic library libcufft.so.10\n",
      "2022-08-31 21:41:32.022621: I tensorflow/stream_executor/platform/default/dso_loader.cc:49] Successfully opened dynamic library libcurand.so.10\n",
      "2022-08-31 21:41:32.060038: I tensorflow/stream_executor/platform/default/dso_loader.cc:49] Successfully opened dynamic library libcusolver.so.10\n",
      "2022-08-31 21:41:32.068744: I tensorflow/stream_executor/platform/default/dso_loader.cc:49] Successfully opened dynamic library libcusparse.so.10\n",
      "2022-08-31 21:41:32.134883: I tensorflow/stream_executor/platform/default/dso_loader.cc:49] Successfully opened dynamic library libcudnn.so.7\n",
      "2022-08-31 21:41:32.135197: I tensorflow/stream_executor/cuda/cuda_gpu_executor.cc:941] successful NUMA node read from SysFS had negative value (-1), but there must be at least one NUMA node, so returning NUMA node zero\n",
      "2022-08-31 21:41:32.136377: I tensorflow/stream_executor/cuda/cuda_gpu_executor.cc:941] successful NUMA node read from SysFS had negative value (-1), but there must be at least one NUMA node, so returning NUMA node zero\n",
      "2022-08-31 21:41:32.137411: I tensorflow/core/common_runtime/gpu/gpu_device.cc:1862] Adding visible gpu devices: 0\n",
      "2022-08-31 21:41:32.137959: I tensorflow/core/platform/cpu_feature_guard.cc:142] This TensorFlow binary is optimized with oneAPI Deep Neural Network Library (oneDNN) to use the following CPU instructions in performance-critical operations:  SSE4.1 SSE4.2 AVX AVX2 FMA\n",
      "To enable them in other operations, rebuild TensorFlow with the appropriate compiler flags.\n",
      "2022-08-31 21:41:32.138055: I tensorflow/compiler/jit/xla_gpu_device.cc:99] Not creating XLA devices, tf_xla_enable_xla_devices not set\n",
      "2022-08-31 21:41:32.138144: I tensorflow/stream_executor/cuda/cuda_gpu_executor.cc:941] successful NUMA node read from SysFS had negative value (-1), but there must be at least one NUMA node, so returning NUMA node zero\n",
      "2022-08-31 21:41:32.139238: I tensorflow/core/common_runtime/gpu/gpu_device.cc:1720] Found device 0 with properties: \n",
      "pciBusID: 0000:44:00.0 name: Quadro RTX 5000 computeCapability: 7.5\n",
      "coreClock: 1.815GHz coreCount: 48 deviceMemorySize: 15.75GiB deviceMemoryBandwidth: 417.29GiB/s\n",
      "2022-08-31 21:41:32.139277: I tensorflow/stream_executor/platform/default/dso_loader.cc:49] Successfully opened dynamic library libcudart.so.10.1\n",
      "2022-08-31 21:41:32.139296: I tensorflow/stream_executor/platform/default/dso_loader.cc:49] Successfully opened dynamic library libcublas.so.10\n",
      "2022-08-31 21:41:32.139306: I tensorflow/stream_executor/platform/default/dso_loader.cc:49] Successfully opened dynamic library libcublasLt.so.10\n",
      "2022-08-31 21:41:32.139316: I tensorflow/stream_executor/platform/default/dso_loader.cc:49] Successfully opened dynamic library libcufft.so.10\n",
      "2022-08-31 21:41:32.139326: I tensorflow/stream_executor/platform/default/dso_loader.cc:49] Successfully opened dynamic library libcurand.so.10\n",
      "2022-08-31 21:41:32.139335: I tensorflow/stream_executor/platform/default/dso_loader.cc:49] Successfully opened dynamic library libcusolver.so.10\n",
      "2022-08-31 21:41:32.139346: I tensorflow/stream_executor/platform/default/dso_loader.cc:49] Successfully opened dynamic library libcusparse.so.10\n",
      "2022-08-31 21:41:32.139356: I tensorflow/stream_executor/platform/default/dso_loader.cc:49] Successfully opened dynamic library libcudnn.so.7\n",
      "2022-08-31 21:41:32.139411: I tensorflow/stream_executor/cuda/cuda_gpu_executor.cc:941] successful NUMA node read from SysFS had negative value (-1), but there must be at least one NUMA node, so returning NUMA node zero\n",
      "2022-08-31 21:41:32.140492: I tensorflow/stream_executor/cuda/cuda_gpu_executor.cc:941] successful NUMA node read from SysFS had negative value (-1), but there must be at least one NUMA node, so returning NUMA node zero\n",
      "2022-08-31 21:41:32.141525: I tensorflow/core/common_runtime/gpu/gpu_device.cc:1862] Adding visible gpu devices: 0\n",
      "2022-08-31 21:41:32.142211: I tensorflow/stream_executor/platform/default/dso_loader.cc:49] Successfully opened dynamic library libcudart.so.10.1\n",
      "2022-08-31 21:41:33.248484: I tensorflow/core/common_runtime/gpu/gpu_device.cc:1261] Device interconnect StreamExecutor with strength 1 edge matrix:\n",
      "2022-08-31 21:41:33.248530: I tensorflow/core/common_runtime/gpu/gpu_device.cc:1267]      0 \n",
      "2022-08-31 21:41:33.248536: I tensorflow/core/common_runtime/gpu/gpu_device.cc:1280] 0:   N \n",
      "2022-08-31 21:41:33.249270: I tensorflow/stream_executor/cuda/cuda_gpu_executor.cc:941] successful NUMA node read from SysFS had negative value (-1), but there must be at least one NUMA node, so returning NUMA node zero\n",
      "2022-08-31 21:41:33.250384: I tensorflow/stream_executor/cuda/cuda_gpu_executor.cc:941] successful NUMA node read from SysFS had negative value (-1), but there must be at least one NUMA node, so returning NUMA node zero\n",
      "2022-08-31 21:41:33.251448: I tensorflow/stream_executor/cuda/cuda_gpu_executor.cc:941] successful NUMA node read from SysFS had negative value (-1), but there must be at least one NUMA node, so returning NUMA node zero\n",
      "2022-08-31 21:41:33.252482: I tensorflow/core/common_runtime/gpu/gpu_device.cc:1406] Created TensorFlow device (/job:localhost/replica:0/task:0/device:GPU:0 with 14911 MB memory) -> physical GPU (device: 0, name: Quadro RTX 5000, pci bus id: 0000:44:00.0, compute capability: 7.5)\n",
      "2022-08-31 21:41:33.377414: W tensorflow/core/util/tensor_slice_reader.cc:95] Could not open /cellar/users/aklie/.kipoi/models/DeepBind/downloaded/model_files/Homo_sapiens/RBP/D00084.001_RNAcompete_A1CF/weights/a4caf255312f44e3fd4e038a79691f2d: Data loss: not an sstable (bad magic number): perhaps your file is in a different file format and you need to use a different restore operator?\n"
     ]
    }
   ],
   "source": [
    "model = kipoi.get_model('DeepBind/Homo_sapiens/RBP/D00084.001_RNAcompete_A1CF')"
   ]
  },
  {
   "cell_type": "code",
   "execution_count": 24,
   "id": "8655b873-8494-4722-b070-585196291aa2",
   "metadata": {
    "execution": {
     "iopub.execute_input": "2022-09-01T04:45:12.321870Z",
     "iopub.status.busy": "2022-09-01T04:45:12.321708Z",
     "iopub.status.idle": "2022-09-01T04:45:12.324753Z",
     "shell.execute_reply": "2022-09-01T04:45:12.324406Z",
     "shell.execute_reply.started": "2022-09-01T04:45:12.321852Z"
    }
   },
   "outputs": [
    {
     "data": {
      "text/plain": [
       "<kipoi.model.KerasModel at 0x1555193de450>"
      ]
     },
     "execution_count": 24,
     "metadata": {},
     "output_type": "execute_result"
    }
   ],
   "source": [
    "model"
   ]
  },
  {
   "cell_type": "code",
   "execution_count": 25,
   "id": "b68743f0-6de8-49e9-89dc-44dfb1581169",
   "metadata": {
    "execution": {
     "iopub.execute_input": "2022-09-01T04:45:52.557187Z",
     "iopub.status.busy": "2022-09-01T04:45:52.557024Z",
     "iopub.status.idle": "2022-09-01T04:45:53.079871Z",
     "shell.execute_reply": "2022-09-01T04:45:53.079557Z",
     "shell.execute_reply.started": "2022-09-01T04:45:52.557168Z"
    }
   },
   "outputs": [
    {
     "name": "stdout",
     "output_type": "stream",
     "text": [
      "Downloading https://raw.githubusercontent.com/kipoi/kipoiseq/master/tests/data/intervals_51bp.tsv to /cellar/users/aklie/projects/EUGENe/EUGENe_paper/notebooks/ray13/example/intervals_file\n"
     ]
    },
    {
     "name": "stderr",
     "output_type": "stream",
     "text": [
      "8.19kB [00:00, 27.6kB/s]\n"
     ]
    },
    {
     "name": "stdout",
     "output_type": "stream",
     "text": [
      "Downloading https://raw.githubusercontent.com/kipoi/kipoiseq/master/tests/data/hg38_chr22_32000000_32300000.fa to /cellar/users/aklie/projects/EUGENe/EUGENe_paper/notebooks/ray13/example/fasta_file\n"
     ]
    },
    {
     "name": "stderr",
     "output_type": "stream",
     "text": [
      "303kB [00:00, 1.47MB/s]                            \n"
     ]
    }
   ],
   "source": [
    "dl_kwargs = model.default_dataloader.download_example('example')"
   ]
  },
  {
   "cell_type": "code",
   "execution_count": 26,
   "id": "c08789e9-745a-4899-9563-c5594a95c7cc",
   "metadata": {
    "execution": {
     "iopub.execute_input": "2022-09-01T04:46:15.621811Z",
     "iopub.status.busy": "2022-09-01T04:46:15.621651Z",
     "iopub.status.idle": "2022-09-01T04:46:38.426329Z",
     "shell.execute_reply": "2022-09-01T04:46:38.425963Z",
     "shell.execute_reply.started": "2022-09-01T04:46:15.621793Z"
    },
    "tags": []
   },
   "outputs": [
    {
     "name": "stderr",
     "output_type": "stream",
     "text": [
      "0it [00:00, ?it/s]2022-08-31 21:46:28.055111: I tensorflow/compiler/mlir/mlir_graph_optimization_pass.cc:116] None of the MLIR optimization passes are enabled (registered 2)\n",
      "2022-08-31 21:46:28.069598: I tensorflow/core/platform/profile_utils/cpu_utils.cc:112] CPU Frequency: 2999865000 Hz\n",
      "2022-08-31 21:46:28.162324: I tensorflow/stream_executor/platform/default/dso_loader.cc:49] Successfully opened dynamic library libcublas.so.10\n",
      "2022-08-31 21:46:30.137635: I tensorflow/stream_executor/platform/default/dso_loader.cc:49] Successfully opened dynamic library libcudnn.so.7\n",
      "3it [00:22,  7.60s/it]\n"
     ]
    },
    {
     "data": {
      "text/plain": [
       "array([-0.21315557,  0.20937382, -0.29284796,  0.32252452,  0.46879414,\n",
       "        1.9757667 ,  1.9748571 ,  3.4855967 ,  2.4593873 ,  2.4593873 ],\n",
       "      dtype=float32)"
      ]
     },
     "execution_count": 26,
     "metadata": {},
     "output_type": "execute_result"
    }
   ],
   "source": [
    "model.pipeline.predict(dl_kwargs, batch_size=4)"
   ]
  },
  {
   "cell_type": "code",
   "execution_count": 28,
   "id": "bbc897b4-e916-43fd-ba7c-4e088e718f2e",
   "metadata": {
    "execution": {
     "iopub.execute_input": "2022-09-01T04:48:03.365432Z",
     "iopub.status.busy": "2022-09-01T04:48:03.365275Z",
     "iopub.status.idle": "2022-09-01T04:48:03.368242Z",
     "shell.execute_reply": "2022-09-01T04:48:03.367919Z",
     "shell.execute_reply.started": "2022-09-01T04:48:03.365415Z"
    },
    "tags": []
   },
   "outputs": [
    {
     "data": {
      "text/plain": [
       "'/cellar/users/aklie/.kipoi/models/DeepBind/downloaded/model_files/Homo_sapiens/RBP/D00084.001_RNAcompete_A1CF/arch/127f7597630be937c0495a27e6f42e5f'"
      ]
     },
     "execution_count": 28,
     "metadata": {},
     "output_type": "execute_result"
    }
   ],
   "source": [
    "model.arch"
   ]
  },
  {
   "cell_type": "code",
   "execution_count": 29,
   "id": "54b27fa7-37df-4155-ac26-746d370b10be",
   "metadata": {
    "execution": {
     "iopub.execute_input": "2022-09-01T04:48:14.109303Z",
     "iopub.status.busy": "2022-09-01T04:48:14.109145Z",
     "iopub.status.idle": "2022-09-01T04:48:14.112142Z",
     "shell.execute_reply": "2022-09-01T04:48:14.111832Z",
     "shell.execute_reply.started": "2022-09-01T04:48:14.109286Z"
    }
   },
   "outputs": [
    {
     "data": {
      "text/plain": [
       "Dependencies(conda=['h5py=2.10.0', 'tensorflow=2.7.0', 'keras=2.7.0', 'python=3.7', 'bioconda::pysam=0.18.0', 'pip=20.2.4'], pip=[], conda_channels=['defaults'], conda_file=None)"
      ]
     },
     "execution_count": 29,
     "metadata": {},
     "output_type": "execute_result"
    }
   ],
   "source": [
    "model.dependencies"
   ]
  },
  {
   "cell_type": "code",
   "execution_count": 31,
   "id": "2ffb4218-9a95-4750-90a2-e2ead5582f63",
   "metadata": {
    "execution": {
     "iopub.execute_input": "2022-09-01T04:48:40.555168Z",
     "iopub.status.busy": "2022-09-01T04:48:40.555021Z",
     "iopub.status.idle": "2022-09-01T04:48:40.557990Z",
     "shell.execute_reply": "2022-09-01T04:48:40.557678Z",
     "shell.execute_reply.started": "2022-09-01T04:48:40.555150Z"
    },
    "tags": []
   },
   "outputs": [
    {
     "data": {
      "text/plain": [
       "<bound method KerasModel.predict_on_batch of <kipoi.model.KerasModel object at 0x1555193de450>>"
      ]
     },
     "execution_count": 31,
     "metadata": {},
     "output_type": "execute_result"
    }
   ],
   "source": [
    "model.predict_on_batch"
   ]
  },
  {
   "cell_type": "code",
   "execution_count": 14,
   "id": "ca4eed8a-5e48-4531-826a-60a68fd4e4bf",
   "metadata": {
    "execution": {
     "iopub.execute_input": "2022-09-01T04:40:41.581121Z",
     "iopub.status.busy": "2022-09-01T04:40:41.580958Z",
     "iopub.status.idle": "2022-09-01T04:40:41.583269Z",
     "shell.execute_reply": "2022-09-01T04:40:41.582959Z",
     "shell.execute_reply.started": "2022-09-01T04:40:41.581103Z"
    }
   },
   "outputs": [],
   "source": [
    "import os"
   ]
  },
  {
   "cell_type": "code",
   "execution_count": 16,
   "id": "2db0fbe5-293a-4a60-a2c8-7fb16d4c9053",
   "metadata": {
    "execution": {
     "iopub.execute_input": "2022-09-01T04:40:48.030014Z",
     "iopub.status.busy": "2022-09-01T04:40:48.029879Z",
     "iopub.status.idle": "2022-09-01T04:40:48.031968Z",
     "shell.execute_reply": "2022-09-01T04:40:48.031660Z",
     "shell.execute_reply.started": "2022-09-01T04:40:48.029998Z"
    },
    "tags": []
   },
   "outputs": [],
   "source": [
    "import sys"
   ]
  },
  {
   "cell_type": "code",
   "execution_count": 17,
   "id": "abc35715-a814-4371-a7ff-86599698824f",
   "metadata": {
    "execution": {
     "iopub.execute_input": "2022-09-01T04:40:48.104743Z",
     "iopub.status.busy": "2022-09-01T04:40:48.104630Z",
     "iopub.status.idle": "2022-09-01T04:40:48.106643Z",
     "shell.execute_reply": "2022-09-01T04:40:48.106331Z",
     "shell.execute_reply.started": "2022-09-01T04:40:48.104728Z"
    }
   },
   "outputs": [],
   "source": [
    "bin_dir = os.path.dirname(sys.executable)"
   ]
  },
  {
   "cell_type": "code",
   "execution_count": 19,
   "id": "1247384f-09fe-48d5-a2cd-b85cf736a5d2",
   "metadata": {
    "execution": {
     "iopub.execute_input": "2022-09-01T04:40:56.904367Z",
     "iopub.status.busy": "2022-09-01T04:40:56.904220Z",
     "iopub.status.idle": "2022-09-01T04:40:56.911311Z",
     "shell.execute_reply": "2022-09-01T04:40:56.910986Z",
     "shell.execute_reply.started": "2022-09-01T04:40:56.904350Z"
    },
    "tags": []
   },
   "outputs": [
    {
     "data": {
      "text/plain": [
       "'/cellar/users/aklie/opt/miniconda3/envs/eugene_benchmarks/bin'"
      ]
     },
     "execution_count": 19,
     "metadata": {},
     "output_type": "execute_result"
    }
   ],
   "source": [
    "bin_dir"
   ]
  },
  {
   "cell_type": "code",
   "execution_count": 20,
   "id": "cf1d1311-53ba-4eb3-a169-d131778d51dd",
   "metadata": {
    "execution": {
     "iopub.execute_input": "2022-09-01T04:41:01.866438Z",
     "iopub.status.busy": "2022-09-01T04:41:01.866296Z",
     "iopub.status.idle": "2022-09-01T04:41:01.868621Z",
     "shell.execute_reply": "2022-09-01T04:41:01.868309Z",
     "shell.execute_reply.started": "2022-09-01T04:41:01.866421Z"
    }
   },
   "outputs": [],
   "source": [
    "os.environ[\"PATH\"] += os.pathsep + bin_dir"
   ]
  },
  {
   "cell_type": "code",
   "execution_count": 21,
   "id": "13410fbc-89a7-480d-a840-727ed6ba8f88",
   "metadata": {
    "execution": {
     "iopub.execute_input": "2022-09-01T04:41:03.521962Z",
     "iopub.status.busy": "2022-09-01T04:41:03.521839Z",
     "iopub.status.idle": "2022-09-01T04:41:03.538359Z",
     "shell.execute_reply": "2022-09-01T04:41:03.537950Z",
     "shell.execute_reply.started": "2022-09-01T04:41:03.521946Z"
    },
    "tags": []
   },
   "outputs": [
    {
     "ename": "ModuleNotFoundError",
     "evalue": "No module named 'git'",
     "output_type": "error",
     "traceback": [
      "\u001b[0;31m---------------------------------------------------------------------------\u001b[0m",
      "\u001b[0;31mModuleNotFoundError\u001b[0m                       Traceback (most recent call last)",
      "\u001b[0;32m/tmp/ipykernel_3230955/2133793083.py\u001b[0m in \u001b[0;36m<module>\u001b[0;34m\u001b[0m\n\u001b[0;32m----> 1\u001b[0;31m \u001b[0;32mimport\u001b[0m \u001b[0mgit\u001b[0m\u001b[0;34m\u001b[0m\u001b[0;34m\u001b[0m\u001b[0m\n\u001b[0m",
      "\u001b[0;31mModuleNotFoundError\u001b[0m: No module named 'git'"
     ]
    }
   ],
   "source": [
    "import git"
   ]
  },
  {
   "cell_type": "code",
   "execution_count": 22,
   "id": "4f27699e-17dd-41b7-b796-66c00a5eec3a",
   "metadata": {
    "execution": {
     "iopub.execute_input": "2022-09-01T04:41:06.569903Z",
     "iopub.status.busy": "2022-09-01T04:41:06.569756Z",
     "iopub.status.idle": "2022-09-01T04:41:07.586492Z",
     "shell.execute_reply": "2022-09-01T04:41:07.586156Z",
     "shell.execute_reply.started": "2022-09-01T04:41:06.569886Z"
    },
    "tags": []
   },
   "outputs": [
    {
     "name": "stdout",
     "output_type": "stream",
     "text": [
      "usage: git [--version] [--help] [-C <path>] [-c <name>=<value>]\n",
      "           [--exec-path[=<path>]] [--html-path] [--man-path] [--info-path]\n",
      "           [-p | --paginate | -P | --no-pager] [--no-replace-objects] [--bare]\n",
      "           [--git-dir=<path>] [--work-tree=<path>] [--namespace=<name>]\n",
      "           [--super-prefix=<path>] [--config-env=<name>=<envvar>]\n",
      "           <command> [<args>]\n",
      "\n",
      "These are common Git commands used in various situations:\n",
      "\n",
      "start a working area (see also: git help tutorial)\n",
      "   clone     Clone a repository into a new directory\n",
      "   init      Create an empty Git repository or reinitialize an existing one\n",
      "\n",
      "work on the current change (see also: git help everyday)\n",
      "   add       Add file contents to the index\n",
      "   mv        Move or rename a file, a directory, or a symlink\n",
      "   restore   Restore working tree files\n",
      "   rm        Remove files from the working tree and from the index\n",
      "\n",
      "examine the history and state (see also: git help revisions)\n",
      "   bisect    Use binary search to find the commit that introduced a bug\n",
      "   diff      Show changes between commits, commit and working tree, etc\n",
      "   grep      Print lines matching a pattern\n",
      "   log       Show commit logs\n",
      "   show      Show various types of objects\n",
      "   status    Show the working tree status\n",
      "\n",
      "grow, mark and tweak your common history\n",
      "   branch    List, create, or delete branches\n",
      "   commit    Record changes to the repository\n",
      "   merge     Join two or more development histories together\n",
      "   rebase    Reapply commits on top of another base tip\n",
      "   reset     Reset current HEAD to the specified state\n",
      "   switch    Switch branches\n",
      "   tag       Create, list, delete or verify a tag object signed with GPG\n",
      "\n",
      "collaborate (see also: git help workflows)\n",
      "   fetch     Download objects and refs from another repository\n",
      "   pull      Fetch from and integrate with another repository or a local branch\n",
      "   push      Update remote refs along with associated objects\n",
      "\n",
      "'git help -a' and 'git help -g' list available subcommands and some\n",
      "concept guides. See 'git help <command>' or 'git help <concept>'\n",
      "to read about a specific subcommand or concept.\n",
      "See 'git help git' for an overview of the system.\n"
     ]
    }
   ],
   "source": [
    "!git --help"
   ]
  },
  {
   "cell_type": "code",
   "execution_count": null,
   "id": "8c49a9c0-c1e5-4aec-b73b-92c2a6f61d5d",
   "metadata": {},
   "outputs": [],
   "source": []
  },
  {
   "cell_type": "code",
   "execution_count": 10,
   "id": "63a469fe-9f5f-4726-8437-57653b6d08c8",
   "metadata": {
    "execution": {
     "iopub.execute_input": "2022-09-01T04:11:00.967622Z",
     "iopub.status.busy": "2022-09-01T04:11:00.967451Z",
     "iopub.status.idle": "2022-09-01T04:11:02.226203Z",
     "shell.execute_reply": "2022-09-01T04:11:02.225841Z",
     "shell.execute_reply.started": "2022-09-01T04:11:00.967602Z"
    },
    "tags": []
   },
   "outputs": [
    {
     "name": "stdout",
     "output_type": "stream",
     "text": [
      "usage: git [--version] [--help] [-C <path>] [-c <name>=<value>]\n",
      "           [--exec-path[=<path>]] [--html-path] [--man-path] [--info-path]\n",
      "           [-p | --paginate | -P | --no-pager] [--no-replace-objects] [--bare]\n",
      "           [--git-dir=<path>] [--work-tree=<path>] [--namespace=<name>]\n",
      "           [--super-prefix=<path>] [--config-env=<name>=<envvar>]\n",
      "           <command> [<args>]\n",
      "\n",
      "These are common Git commands used in various situations:\n",
      "\n",
      "start a working area (see also: git help tutorial)\n",
      "   clone             Clone a repository into a new directory\n",
      "   init              Create an empty Git repository or reinitialize an existing one\n",
      "\n",
      "work on the current change (see also: git help everyday)\n",
      "   add               Add file contents to the index\n",
      "   mv                Move or rename a file, a directory, or a symlink\n",
      "   restore           Restore working tree files\n",
      "   rm                Remove files from the working tree and from the index\n",
      "   sparse-checkout   Initialize and modify the sparse-checkout\n",
      "\n",
      "examine the history and state (see also: git help revisions)\n",
      "   bisect            Use binary search to find the commit that introduced a bug\n",
      "   diff              Show changes between commits, commit and working tree, etc\n",
      "   grep              Print lines matching a pattern\n",
      "   log               Show commit logs\n",
      "   show              Show various types of objects\n",
      "   status            Show the working tree status\n",
      "\n",
      "grow, mark and tweak your common history\n",
      "   branch            List, create, or delete branches\n",
      "   commit            Record changes to the repository\n",
      "   merge             Join two or more development histories together\n",
      "   rebase            Reapply commits on top of another base tip\n",
      "   reset             Reset current HEAD to the specified state\n",
      "   switch            Switch branches\n",
      "   tag               Create, list, delete or verify a tag object signed with GPG\n",
      "\n",
      "collaborate (see also: git help workflows)\n",
      "   fetch             Download objects and refs from another repository\n",
      "   pull              Fetch from and integrate with another repository or a local branch\n",
      "   push              Update remote refs along with associated objects\n",
      "\n",
      "'git help -a' and 'git help -g' list available subcommands and some\n",
      "concept guides. See 'git help <command>' or 'git help <concept>'\n",
      "to read about a specific subcommand or concept.\n",
      "See 'git help git' for an overview of the system.\n"
     ]
    }
   ],
   "source": [
    "%%bash\n",
    "module load git\n",
    "git --help"
   ]
  },
  {
   "cell_type": "code",
   "execution_count": null,
   "id": "9357ada2-72a2-488d-8081-3a9989a0ec56",
   "metadata": {},
   "outputs": [],
   "source": []
  }
 ],
 "metadata": {
  "kernelspec": {
   "display_name": "Python 3.7 eugene_benchmarks",
   "language": "python",
   "name": "eugene_benchmarks"
  },
  "language_info": {
   "codemirror_mode": {
    "name": "ipython",
    "version": 3
   },
   "file_extension": ".py",
   "mimetype": "text/x-python",
   "name": "python",
   "nbconvert_exporter": "python",
   "pygments_lexer": "ipython3",
   "version": "3.7.12"
  }
 },
 "nbformat": 4,
 "nbformat_minor": 5
}
