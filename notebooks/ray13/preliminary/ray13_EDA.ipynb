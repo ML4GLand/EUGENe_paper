{
 "cells": [
  {
   "cell_type": "markdown",
   "metadata": {},
   "source": [
    "# Ray et al 2013 Extract-Transform-Load\n",
    "**Authorship:**\n",
    "Adam Klie, *08/11/2022*\n",
    "***\n",
    "**Description:**\n",
    "Notebook to extract, transform, and load data from the Ray et al (2013) dataset.\n",
    "***"
   ]
  },
  {
   "cell_type": "code",
   "execution_count": 289,
   "metadata": {
    "execution": {
     "iopub.execute_input": "2022-08-26T22:28:42.802793Z",
     "iopub.status.busy": "2022-08-26T22:28:42.802440Z",
     "iopub.status.idle": "2022-08-26T22:28:47.549624Z",
     "shell.execute_reply": "2022-08-26T22:28:47.548365Z",
     "shell.execute_reply.started": "2022-08-26T22:28:42.802757Z"
    },
    "tags": []
   },
   "outputs": [],
   "source": [
    "if 'autoreload' not in get_ipython().extension_manager.loaded:\n",
    "    %load_ext autoreload\n",
    "%autoreload 2\n",
    "\n",
    "import os\n",
    "import numpy as np\n",
    "import pandas as pd\n",
    "import eugene as eu\n",
    "eu.settings.dataset_dir = \"/cellar/users/aklie/data/eugene\""
   ]
  },
  {
   "cell_type": "markdown",
   "metadata": {},
   "source": [
    "# Download and load in the dataset to a raw `SeqData` object"
   ]
  },
  {
   "cell_type": "code",
   "execution_count": 302,
   "metadata": {
    "execution": {
     "iopub.execute_input": "2022-08-26T23:14:04.368517Z",
     "iopub.status.busy": "2022-08-26T23:14:04.367947Z",
     "iopub.status.idle": "2022-08-26T23:14:31.433616Z",
     "shell.execute_reply": "2022-08-26T23:14:31.432302Z",
     "shell.execute_reply.started": "2022-08-26T23:14:04.368477Z"
    },
    "tags": []
   },
   "outputs": [],
   "source": [
    "sdataframe = eu.dl.read_csv(\n",
    "    os.path.join(eu.settings.dataset_dir, \"ray13\", \"norm_data.txt.gz\"),\n",
    "    sep=\"\\t\",\n",
    "    seq_col=\"RNA_Seq\",\n",
    "    name_col=\"Probe_ID\",\n",
    "    return_dataframe=True,\n",
    "    compression=\"gzip\",\n",
    "    na_values=\" NaN\"\n",
    ")"
   ]
  },
  {
   "cell_type": "code",
   "execution_count": 303,
   "metadata": {
    "execution": {
     "iopub.execute_input": "2022-08-26T23:14:31.442495Z",
     "iopub.status.busy": "2022-08-26T23:14:31.442149Z",
     "iopub.status.idle": "2022-08-26T23:14:36.058123Z",
     "shell.execute_reply": "2022-08-26T23:14:36.056959Z",
     "shell.execute_reply.started": "2022-08-26T23:14:31.442465Z"
    },
    "tags": []
   },
   "outputs": [
    {
     "data": {
      "text/html": [
       "<div>\n",
       "<style scoped>\n",
       "    .dataframe tbody tr th:only-of-type {\n",
       "        vertical-align: middle;\n",
       "    }\n",
       "\n",
       "    .dataframe tbody tr th {\n",
       "        vertical-align: top;\n",
       "    }\n",
       "\n",
       "    .dataframe thead th {\n",
       "        text-align: right;\n",
       "    }\n",
       "</style>\n",
       "<table border=\"1\" class=\"dataframe\">\n",
       "  <thead>\n",
       "    <tr style=\"text-align: right;\">\n",
       "      <th></th>\n",
       "      <th>Probe_Set</th>\n",
       "      <th>RNA_Seq</th>\n",
       "      <th>Probe_ID</th>\n",
       "      <th>RNCMPT00100</th>\n",
       "      <th>RNCMPT00101</th>\n",
       "      <th>RNCMPT00102</th>\n",
       "      <th>RNCMPT00103</th>\n",
       "      <th>RNCMPT00104</th>\n",
       "      <th>RNCMPT00105</th>\n",
       "      <th>RNCMPT00106</th>\n",
       "      <th>...</th>\n",
       "      <th>RNCMPT00008</th>\n",
       "      <th>RNCMPT00090</th>\n",
       "      <th>RNCMPT00091</th>\n",
       "      <th>RNCMPT00093</th>\n",
       "      <th>RNCMPT00094</th>\n",
       "      <th>RNCMPT00095</th>\n",
       "      <th>RNCMPT00096</th>\n",
       "      <th>RNCMPT00097</th>\n",
       "      <th>RNCMPT00099</th>\n",
       "      <th>RNCMPT00009</th>\n",
       "    </tr>\n",
       "  </thead>\n",
       "  <tbody>\n",
       "    <tr>\n",
       "      <th>0</th>\n",
       "      <td>SetA</td>\n",
       "      <td>AGAAGGCACCAACAGAAGCUCUAACCAGACUAGCCACC</td>\n",
       "      <td>RBD_v3_000001</td>\n",
       "      <td>1.122218</td>\n",
       "      <td>1.272641</td>\n",
       "      <td>-1.089717</td>\n",
       "      <td>-0.067146</td>\n",
       "      <td>0.831671</td>\n",
       "      <td>-0.070631</td>\n",
       "      <td>2.779642</td>\n",
       "      <td>...</td>\n",
       "      <td>5.734185</td>\n",
       "      <td>0.907487</td>\n",
       "      <td>1.282393</td>\n",
       "      <td>0.861743</td>\n",
       "      <td>-0.115417</td>\n",
       "      <td>0.126413</td>\n",
       "      <td>1.010198</td>\n",
       "      <td>-0.123415</td>\n",
       "      <td>-0.060651</td>\n",
       "      <td>-0.398931</td>\n",
       "    </tr>\n",
       "    <tr>\n",
       "      <th>1</th>\n",
       "      <td>SetA</td>\n",
       "      <td>AGAGGUCGAGUAUUAGUGAUAUUAGAGUGAGGUCCAUC</td>\n",
       "      <td>RBD_v3_000002</td>\n",
       "      <td>8.840295</td>\n",
       "      <td>-2.113002</td>\n",
       "      <td>2.397376</td>\n",
       "      <td>-1.809082</td>\n",
       "      <td>-0.963712</td>\n",
       "      <td>-0.202229</td>\n",
       "      <td>-0.121975</td>\n",
       "      <td>...</td>\n",
       "      <td>NaN</td>\n",
       "      <td>0.029810</td>\n",
       "      <td>0.986617</td>\n",
       "      <td>3.979510</td>\n",
       "      <td>-0.388808</td>\n",
       "      <td>-0.348266</td>\n",
       "      <td>0.216500</td>\n",
       "      <td>-1.098411</td>\n",
       "      <td>3.820988</td>\n",
       "      <td>NaN</td>\n",
       "    </tr>\n",
       "    <tr>\n",
       "      <th>2</th>\n",
       "      <td>SetA</td>\n",
       "      <td>AGAGAUGACUAUGCAUGCGAUGCUACGCUGAUCCCUGG</td>\n",
       "      <td>RBD_v3_000003</td>\n",
       "      <td>-0.353194</td>\n",
       "      <td>-0.183539</td>\n",
       "      <td>-0.467021</td>\n",
       "      <td>-1.865032</td>\n",
       "      <td>0.663077</td>\n",
       "      <td>0.626212</td>\n",
       "      <td>0.910989</td>\n",
       "      <td>...</td>\n",
       "      <td>0.198792</td>\n",
       "      <td>1.821554</td>\n",
       "      <td>1.289043</td>\n",
       "      <td>-1.282063</td>\n",
       "      <td>-0.640817</td>\n",
       "      <td>0.054688</td>\n",
       "      <td>-1.351889</td>\n",
       "      <td>0.470123</td>\n",
       "      <td>-0.057985</td>\n",
       "      <td>-1.057710</td>\n",
       "    </tr>\n",
       "    <tr>\n",
       "      <th>3</th>\n",
       "      <td>SetA</td>\n",
       "      <td>AGAGGUCGGGAGGUAUGAAACGCAGAAGAGGCAAC</td>\n",
       "      <td>RBD_v3_000004</td>\n",
       "      <td>1.386679</td>\n",
       "      <td>-0.236797</td>\n",
       "      <td>-0.031135</td>\n",
       "      <td>-0.997679</td>\n",
       "      <td>-0.079547</td>\n",
       "      <td>0.473447</td>\n",
       "      <td>6.296981</td>\n",
       "      <td>...</td>\n",
       "      <td>NaN</td>\n",
       "      <td>1.121754</td>\n",
       "      <td>1.009484</td>\n",
       "      <td>0.450070</td>\n",
       "      <td>-1.106999</td>\n",
       "      <td>1.617407</td>\n",
       "      <td>0.272935</td>\n",
       "      <td>0.621780</td>\n",
       "      <td>0.643033</td>\n",
       "      <td>NaN</td>\n",
       "    </tr>\n",
       "    <tr>\n",
       "      <th>4</th>\n",
       "      <td>SetA</td>\n",
       "      <td>AGAAAUCCCAGCCUGUCUAUGCUUGUGUGACUGUGAGC</td>\n",
       "      <td>RBD_v3_000005</td>\n",
       "      <td>-0.267395</td>\n",
       "      <td>1.387100</td>\n",
       "      <td>0.986554</td>\n",
       "      <td>-0.622790</td>\n",
       "      <td>-0.261790</td>\n",
       "      <td>-0.782576</td>\n",
       "      <td>-0.674672</td>\n",
       "      <td>...</td>\n",
       "      <td>NaN</td>\n",
       "      <td>0.472460</td>\n",
       "      <td>0.476233</td>\n",
       "      <td>-0.150370</td>\n",
       "      <td>-0.545728</td>\n",
       "      <td>-0.398383</td>\n",
       "      <td>-0.677650</td>\n",
       "      <td>-0.122340</td>\n",
       "      <td>-0.891034</td>\n",
       "      <td>NaN</td>\n",
       "    </tr>\n",
       "    <tr>\n",
       "      <th>...</th>\n",
       "      <td>...</td>\n",
       "      <td>...</td>\n",
       "      <td>...</td>\n",
       "      <td>...</td>\n",
       "      <td>...</td>\n",
       "      <td>...</td>\n",
       "      <td>...</td>\n",
       "      <td>...</td>\n",
       "      <td>...</td>\n",
       "      <td>...</td>\n",
       "      <td>...</td>\n",
       "      <td>...</td>\n",
       "      <td>...</td>\n",
       "      <td>...</td>\n",
       "      <td>...</td>\n",
       "      <td>...</td>\n",
       "      <td>...</td>\n",
       "      <td>...</td>\n",
       "      <td>...</td>\n",
       "      <td>...</td>\n",
       "      <td>...</td>\n",
       "    </tr>\n",
       "    <tr>\n",
       "      <th>241352</th>\n",
       "      <td>SetB</td>\n",
       "      <td>AGACAACUGCCCGGGCGAAUCGAAUUUAAGGAUGUAAA</td>\n",
       "      <td>RBD_v3_241353</td>\n",
       "      <td>1.674055</td>\n",
       "      <td>20.389858</td>\n",
       "      <td>0.770055</td>\n",
       "      <td>12.959504</td>\n",
       "      <td>11.324906</td>\n",
       "      <td>0.086366</td>\n",
       "      <td>7.169778</td>\n",
       "      <td>...</td>\n",
       "      <td>0.687683</td>\n",
       "      <td>-1.841742</td>\n",
       "      <td>-0.141082</td>\n",
       "      <td>7.559083</td>\n",
       "      <td>0.501589</td>\n",
       "      <td>2.483238</td>\n",
       "      <td>-0.078747</td>\n",
       "      <td>1.047783</td>\n",
       "      <td>0.134119</td>\n",
       "      <td>1.433700</td>\n",
       "    </tr>\n",
       "    <tr>\n",
       "      <th>241353</th>\n",
       "      <td>SetB</td>\n",
       "      <td>AGGCCCUAACAUACCCCCUAACGUGAGUUCCGUCCCCC</td>\n",
       "      <td>RBD_v3_241354</td>\n",
       "      <td>-0.426269</td>\n",
       "      <td>-0.821294</td>\n",
       "      <td>0.591560</td>\n",
       "      <td>0.627169</td>\n",
       "      <td>0.459313</td>\n",
       "      <td>2.148826</td>\n",
       "      <td>-0.224518</td>\n",
       "      <td>...</td>\n",
       "      <td>NaN</td>\n",
       "      <td>1.903628</td>\n",
       "      <td>0.193573</td>\n",
       "      <td>0.087378</td>\n",
       "      <td>-0.699687</td>\n",
       "      <td>-2.233314</td>\n",
       "      <td>0.752704</td>\n",
       "      <td>-0.246153</td>\n",
       "      <td>-1.003296</td>\n",
       "      <td>NaN</td>\n",
       "    </tr>\n",
       "    <tr>\n",
       "      <th>241354</th>\n",
       "      <td>SetB</td>\n",
       "      <td>AGACACGGUUAUGCGUACGCCCCUAGGGAUUGAGGUUGC</td>\n",
       "      <td>RBD_v3_241355</td>\n",
       "      <td>0.604869</td>\n",
       "      <td>-0.592981</td>\n",
       "      <td>-0.319087</td>\n",
       "      <td>-0.203019</td>\n",
       "      <td>0.625912</td>\n",
       "      <td>0.138792</td>\n",
       "      <td>0.195578</td>\n",
       "      <td>...</td>\n",
       "      <td>0.558631</td>\n",
       "      <td>-1.288070</td>\n",
       "      <td>0.400266</td>\n",
       "      <td>0.748016</td>\n",
       "      <td>0.156894</td>\n",
       "      <td>-0.426744</td>\n",
       "      <td>0.388496</td>\n",
       "      <td>0.169070</td>\n",
       "      <td>0.397499</td>\n",
       "      <td>NaN</td>\n",
       "    </tr>\n",
       "    <tr>\n",
       "      <th>241355</th>\n",
       "      <td>SetB</td>\n",
       "      <td>AGAUUUGAUGUUAGUUUUAUUCCUCCGGGCGGCGUAAGC</td>\n",
       "      <td>RBD_v3_241356</td>\n",
       "      <td>3.972188</td>\n",
       "      <td>1.513030</td>\n",
       "      <td>-1.339399</td>\n",
       "      <td>0.297040</td>\n",
       "      <td>-0.954315</td>\n",
       "      <td>1.459436</td>\n",
       "      <td>-0.456848</td>\n",
       "      <td>...</td>\n",
       "      <td>NaN</td>\n",
       "      <td>-0.019835</td>\n",
       "      <td>-1.293031</td>\n",
       "      <td>2.349549</td>\n",
       "      <td>2.965371</td>\n",
       "      <td>1.019436</td>\n",
       "      <td>-0.226711</td>\n",
       "      <td>18.726991</td>\n",
       "      <td>17.560194</td>\n",
       "      <td>NaN</td>\n",
       "    </tr>\n",
       "    <tr>\n",
       "      <th>241356</th>\n",
       "      <td>SetB</td>\n",
       "      <td>AGAUUCGCAACCAGAUAUGGACUACAGCUUAGGACCGU</td>\n",
       "      <td>RBD_v3_241357</td>\n",
       "      <td>6.721357</td>\n",
       "      <td>0.901949</td>\n",
       "      <td>-0.334034</td>\n",
       "      <td>-0.895239</td>\n",
       "      <td>-0.912853</td>\n",
       "      <td>0.035600</td>\n",
       "      <td>175.727903</td>\n",
       "      <td>...</td>\n",
       "      <td>-0.834070</td>\n",
       "      <td>-0.226717</td>\n",
       "      <td>-0.595780</td>\n",
       "      <td>7.172921</td>\n",
       "      <td>4.124859</td>\n",
       "      <td>0.861849</td>\n",
       "      <td>2.549737</td>\n",
       "      <td>6.358077</td>\n",
       "      <td>1.825678</td>\n",
       "      <td>NaN</td>\n",
       "    </tr>\n",
       "  </tbody>\n",
       "</table>\n",
       "<p>241357 rows × 247 columns</p>\n",
       "</div>"
      ],
      "text/plain": [
       "       Probe_Set                                  RNA_Seq       Probe_ID  \\\n",
       "0           SetA   AGAAGGCACCAACAGAAGCUCUAACCAGACUAGCCACC  RBD_v3_000001   \n",
       "1           SetA   AGAGGUCGAGUAUUAGUGAUAUUAGAGUGAGGUCCAUC  RBD_v3_000002   \n",
       "2           SetA   AGAGAUGACUAUGCAUGCGAUGCUACGCUGAUCCCUGG  RBD_v3_000003   \n",
       "3           SetA      AGAGGUCGGGAGGUAUGAAACGCAGAAGAGGCAAC  RBD_v3_000004   \n",
       "4           SetA   AGAAAUCCCAGCCUGUCUAUGCUUGUGUGACUGUGAGC  RBD_v3_000005   \n",
       "...          ...                                      ...            ...   \n",
       "241352      SetB   AGACAACUGCCCGGGCGAAUCGAAUUUAAGGAUGUAAA  RBD_v3_241353   \n",
       "241353      SetB   AGGCCCUAACAUACCCCCUAACGUGAGUUCCGUCCCCC  RBD_v3_241354   \n",
       "241354      SetB  AGACACGGUUAUGCGUACGCCCCUAGGGAUUGAGGUUGC  RBD_v3_241355   \n",
       "241355      SetB  AGAUUUGAUGUUAGUUUUAUUCCUCCGGGCGGCGUAAGC  RBD_v3_241356   \n",
       "241356      SetB   AGAUUCGCAACCAGAUAUGGACUACAGCUUAGGACCGU  RBD_v3_241357   \n",
       "\n",
       "        RNCMPT00100  RNCMPT00101  RNCMPT00102  RNCMPT00103  RNCMPT00104  \\\n",
       "0          1.122218     1.272641    -1.089717    -0.067146     0.831671   \n",
       "1          8.840295    -2.113002     2.397376    -1.809082    -0.963712   \n",
       "2         -0.353194    -0.183539    -0.467021    -1.865032     0.663077   \n",
       "3          1.386679    -0.236797    -0.031135    -0.997679    -0.079547   \n",
       "4         -0.267395     1.387100     0.986554    -0.622790    -0.261790   \n",
       "...             ...          ...          ...          ...          ...   \n",
       "241352     1.674055    20.389858     0.770055    12.959504    11.324906   \n",
       "241353    -0.426269    -0.821294     0.591560     0.627169     0.459313   \n",
       "241354     0.604869    -0.592981    -0.319087    -0.203019     0.625912   \n",
       "241355     3.972188     1.513030    -1.339399     0.297040    -0.954315   \n",
       "241356     6.721357     0.901949    -0.334034    -0.895239    -0.912853   \n",
       "\n",
       "        RNCMPT00105  RNCMPT00106  ...  RNCMPT00008  RNCMPT00090  RNCMPT00091  \\\n",
       "0         -0.070631     2.779642  ...     5.734185     0.907487     1.282393   \n",
       "1         -0.202229    -0.121975  ...          NaN     0.029810     0.986617   \n",
       "2          0.626212     0.910989  ...     0.198792     1.821554     1.289043   \n",
       "3          0.473447     6.296981  ...          NaN     1.121754     1.009484   \n",
       "4         -0.782576    -0.674672  ...          NaN     0.472460     0.476233   \n",
       "...             ...          ...  ...          ...          ...          ...   \n",
       "241352     0.086366     7.169778  ...     0.687683    -1.841742    -0.141082   \n",
       "241353     2.148826    -0.224518  ...          NaN     1.903628     0.193573   \n",
       "241354     0.138792     0.195578  ...     0.558631    -1.288070     0.400266   \n",
       "241355     1.459436    -0.456848  ...          NaN    -0.019835    -1.293031   \n",
       "241356     0.035600   175.727903  ...    -0.834070    -0.226717    -0.595780   \n",
       "\n",
       "        RNCMPT00093  RNCMPT00094  RNCMPT00095  RNCMPT00096  RNCMPT00097  \\\n",
       "0          0.861743    -0.115417     0.126413     1.010198    -0.123415   \n",
       "1          3.979510    -0.388808    -0.348266     0.216500    -1.098411   \n",
       "2         -1.282063    -0.640817     0.054688    -1.351889     0.470123   \n",
       "3          0.450070    -1.106999     1.617407     0.272935     0.621780   \n",
       "4         -0.150370    -0.545728    -0.398383    -0.677650    -0.122340   \n",
       "...             ...          ...          ...          ...          ...   \n",
       "241352     7.559083     0.501589     2.483238    -0.078747     1.047783   \n",
       "241353     0.087378    -0.699687    -2.233314     0.752704    -0.246153   \n",
       "241354     0.748016     0.156894    -0.426744     0.388496     0.169070   \n",
       "241355     2.349549     2.965371     1.019436    -0.226711    18.726991   \n",
       "241356     7.172921     4.124859     0.861849     2.549737     6.358077   \n",
       "\n",
       "        RNCMPT00099  RNCMPT00009  \n",
       "0         -0.060651    -0.398931  \n",
       "1          3.820988          NaN  \n",
       "2         -0.057985    -1.057710  \n",
       "3          0.643033          NaN  \n",
       "4         -0.891034          NaN  \n",
       "...             ...          ...  \n",
       "241352     0.134119     1.433700  \n",
       "241353    -1.003296          NaN  \n",
       "241354     0.397499          NaN  \n",
       "241355    17.560194          NaN  \n",
       "241356     1.825678          NaN  \n",
       "\n",
       "[241357 rows x 247 columns]"
      ]
     },
     "execution_count": 303,
     "metadata": {},
     "output_type": "execute_result"
    }
   ],
   "source": [
    "sdataframe"
   ]
  },
  {
   "cell_type": "code",
   "execution_count": 304,
   "metadata": {
    "execution": {
     "iopub.execute_input": "2022-08-26T23:15:29.817389Z",
     "iopub.status.busy": "2022-08-26T23:15:29.816895Z",
     "iopub.status.idle": "2022-08-26T23:15:34.554977Z",
     "shell.execute_reply": "2022-08-26T23:15:34.554131Z",
     "shell.execute_reply.started": "2022-08-26T23:15:29.817353Z"
    },
    "tags": []
   },
   "outputs": [],
   "source": [
    "sdata = eu.dl.SeqData(\n",
    "    seqs=sdataframe[\"RNA_Seq\"],\n",
    "    names=sdataframe[\"Probe_ID\"],\n",
    "    seqs_annot=sdataframe[sdataframe.columns.drop(pd.array(data=[\"RNA_Seq\"]))],\n",
    ")"
   ]
  },
  {
   "cell_type": "code",
   "execution_count": 308,
   "metadata": {
    "execution": {
     "iopub.execute_input": "2022-08-26T23:17:07.352161Z",
     "iopub.status.busy": "2022-08-26T23:17:07.351785Z",
     "iopub.status.idle": "2022-08-26T23:17:11.789767Z",
     "shell.execute_reply": "2022-08-26T23:17:11.788641Z",
     "shell.execute_reply.started": "2022-08-26T23:17:07.352123Z"
    },
    "tags": []
   },
   "outputs": [],
   "source": [
    "sdata.seqs_annot.set_index(\"Probe_ID\", inplace=True)"
   ]
  },
  {
   "cell_type": "code",
   "execution_count": 312,
   "metadata": {
    "execution": {
     "iopub.execute_input": "2022-08-26T23:17:35.819329Z",
     "iopub.status.busy": "2022-08-26T23:17:35.818858Z",
     "iopub.status.idle": "2022-08-26T23:17:40.453701Z",
     "shell.execute_reply": "2022-08-26T23:17:40.452447Z",
     "shell.execute_reply.started": "2022-08-26T23:17:35.819293Z"
    },
    "tags": []
   },
   "outputs": [
    {
     "data": {
      "text/plain": [
       "True"
      ]
     },
     "execution_count": 312,
     "metadata": {},
     "output_type": "execute_result"
    }
   ],
   "source": [
    "np.all(sdata.names == sdata.seqs_annot.index)"
   ]
  },
  {
   "cell_type": "markdown",
   "metadata": {},
   "source": [
    "# Generating a presence/absence matrix per probe"
   ]
  },
  {
   "cell_type": "code",
   "execution_count": 313,
   "metadata": {
    "execution": {
     "iopub.execute_input": "2022-08-26T23:17:40.455898Z",
     "iopub.status.busy": "2022-08-26T23:17:40.455456Z",
     "iopub.status.idle": "2022-08-26T23:17:45.296120Z",
     "shell.execute_reply": "2022-08-26T23:17:45.295146Z",
     "shell.execute_reply.started": "2022-08-26T23:17:40.455866Z"
    },
    "tags": []
   },
   "outputs": [],
   "source": [
    "a_probes = sdataframe[sdataframe[\"Probe_Set\"] == \"SetA\"][\"RNA_Seq\"]\n",
    "b_probes = sdataframe[sdataframe[\"Probe_Set\"] == \"SetB\"][\"RNA_Seq\"]"
   ]
  },
  {
   "cell_type": "code",
   "execution_count": 314,
   "metadata": {
    "execution": {
     "iopub.execute_input": "2022-08-26T23:17:45.297877Z",
     "iopub.status.busy": "2022-08-26T23:17:45.297596Z",
     "iopub.status.idle": "2022-08-26T23:17:49.371136Z",
     "shell.execute_reply": "2022-08-26T23:17:49.370119Z",
     "shell.execute_reply.started": "2022-08-26T23:17:45.297850Z"
    },
    "tags": []
   },
   "outputs": [
    {
     "data": {
      "text/plain": [
       "True"
      ]
     },
     "execution_count": 314,
     "metadata": {},
     "output_type": "execute_result"
    }
   ],
   "source": [
    "len(a_probes) + len(b_probes) == len(sdataframe)"
   ]
  },
  {
   "cell_type": "code",
   "execution_count": 292,
   "metadata": {
    "execution": {
     "iopub.execute_input": "2022-08-26T22:29:20.820170Z",
     "iopub.status.busy": "2022-08-26T22:29:20.819819Z",
     "iopub.status.idle": "2022-08-26T22:29:25.148356Z",
     "shell.execute_reply": "2022-08-26T22:29:25.146968Z",
     "shell.execute_reply.started": "2022-08-26T22:29:20.820142Z"
    },
    "tags": []
   },
   "outputs": [],
   "source": [
    "from eugene.predict._metrics import generate_all_possible_kmers, kmer_in_seqs"
   ]
  },
  {
   "cell_type": "code",
   "execution_count": 315,
   "metadata": {
    "execution": {
     "iopub.execute_input": "2022-08-26T23:17:59.351927Z",
     "iopub.status.busy": "2022-08-26T23:17:59.351593Z",
     "iopub.status.idle": "2022-08-26T23:18:03.073251Z",
     "shell.execute_reply": "2022-08-26T23:18:03.072052Z",
     "shell.execute_reply.started": "2022-08-26T23:17:59.351895Z"
    }
   },
   "outputs": [],
   "source": [
    "kmers = generate_all_possible_kmers(n=7, alphabet=\"ACGU\")"
   ]
  },
  {
   "cell_type": "code",
   "execution_count": 325,
   "metadata": {
    "execution": {
     "iopub.execute_input": "2022-08-26T23:21:37.388579Z",
     "iopub.status.busy": "2022-08-26T23:21:37.388159Z",
     "iopub.status.idle": "2022-08-26T23:21:40.946675Z",
     "shell.execute_reply": "2022-08-26T23:21:40.945511Z",
     "shell.execute_reply.started": "2022-08-26T23:21:37.388543Z"
    },
    "tags": []
   },
   "outputs": [
    {
     "data": {
      "text/plain": [
       "(120326, 121031, 16384)"
      ]
     },
     "execution_count": 325,
     "metadata": {},
     "output_type": "execute_result"
    }
   ],
   "source": [
    "len(a_probes), len(b_probes), len(kmers)"
   ]
  },
  {
   "cell_type": "code",
   "execution_count": 327,
   "metadata": {
    "execution": {
     "iopub.execute_input": "2022-08-26T23:22:50.478580Z",
     "iopub.status.busy": "2022-08-26T23:22:50.478031Z",
     "iopub.status.idle": "2022-08-26T23:41:23.564834Z",
     "shell.execute_reply": "2022-08-26T23:41:23.563643Z",
     "shell.execute_reply.started": "2022-08-26T23:22:50.478542Z"
    },
    "tags": []
   },
   "outputs": [
    {
     "data": {
      "application/vnd.jupyter.widget-view+json": {
       "model_id": "397488ad5cb1442ab6952ad206f511c5",
       "version_major": 2,
       "version_minor": 0
      },
      "text/plain": [
       "Searching for kmers in probes:   0%|          | 0/16384 [00:00<?, ?it/s]"
      ]
     },
     "metadata": {},
     "output_type": "display_data"
    }
   ],
   "source": [
    "a_hits = np.array([a_probes.str.contains(kmer).astype(int).values for i, kmer in tqdm(enumerate(kmers), desc=\"Searching for kmers in probes\", total=len(kmers))])"
   ]
  },
  {
   "cell_type": "code",
   "execution_count": 329,
   "metadata": {
    "execution": {
     "iopub.execute_input": "2022-08-26T23:41:37.422627Z",
     "iopub.status.busy": "2022-08-26T23:41:37.422278Z",
     "iopub.status.idle": "2022-08-26T23:41:57.284173Z",
     "shell.execute_reply": "2022-08-26T23:41:57.283034Z",
     "shell.execute_reply.started": "2022-08-26T23:41:37.422592Z"
    }
   },
   "outputs": [],
   "source": [
    "np.save(os.path.join(eu.settings.dataset_dir, \"ray13\", \"SetA_binary\"), a_hits)"
   ]
  },
  {
   "cell_type": "code",
   "execution_count": 330,
   "metadata": {
    "execution": {
     "iopub.execute_input": "2022-08-26T23:48:56.048723Z",
     "iopub.status.busy": "2022-08-26T23:48:56.048284Z",
     "iopub.status.idle": "2022-08-27T00:08:04.240694Z",
     "shell.execute_reply": "2022-08-27T00:08:04.239462Z",
     "shell.execute_reply.started": "2022-08-26T23:48:56.048693Z"
    },
    "tags": []
   },
   "outputs": [
    {
     "data": {
      "application/vnd.jupyter.widget-view+json": {
       "model_id": "e009110a91bf4722a25db578a55dda3f",
       "version_major": 2,
       "version_minor": 0
      },
      "text/plain": [
       "Searching for kmers in probes:   0%|          | 0/16384 [00:00<?, ?it/s]"
      ]
     },
     "metadata": {},
     "output_type": "display_data"
    }
   ],
   "source": [
    "b_hits = np.array([b_probes.str.contains(kmer).astype(int).values for i, kmer in tqdm(enumerate(kmers), desc=\"Searching for kmers in probes\", total=len(kmers))])"
   ]
  },
  {
   "cell_type": "code",
   "execution_count": 332,
   "metadata": {
    "execution": {
     "iopub.execute_input": "2022-08-27T00:16:43.689824Z",
     "iopub.status.busy": "2022-08-27T00:16:43.689392Z",
     "iopub.status.idle": "2022-08-27T00:17:02.749158Z",
     "shell.execute_reply": "2022-08-27T00:17:02.748283Z",
     "shell.execute_reply.started": "2022-08-27T00:16:43.689788Z"
    }
   },
   "outputs": [],
   "source": [
    "np.save(os.path.join(eu.settings.dataset_dir, \"ray13\", \"SetB_binary\"), b_hits)"
   ]
  },
  {
   "cell_type": "code",
   "execution_count": 331,
   "metadata": {
    "execution": {
     "iopub.execute_input": "2022-08-27T00:16:35.383419Z",
     "iopub.status.busy": "2022-08-27T00:16:35.382835Z",
     "iopub.status.idle": "2022-08-27T00:16:39.224094Z",
     "shell.execute_reply": "2022-08-27T00:16:39.223170Z",
     "shell.execute_reply.started": "2022-08-27T00:16:35.383373Z"
    },
    "tags": []
   },
   "outputs": [
    {
     "data": {
      "text/plain": [
       "((16384, 120326), (16384, 121031))"
      ]
     },
     "execution_count": 331,
     "metadata": {},
     "output_type": "execute_result"
    }
   ],
   "source": [
    "a_hits.shape, b_hits.shape"
   ]
  },
  {
   "cell_type": "code",
   "execution_count": 333,
   "metadata": {
    "execution": {
     "iopub.execute_input": "2022-08-27T00:17:10.459743Z",
     "iopub.status.busy": "2022-08-27T00:17:10.459254Z",
     "iopub.status.idle": "2022-08-27T00:17:26.268623Z",
     "shell.execute_reply": "2022-08-27T00:17:26.267495Z",
     "shell.execute_reply.started": "2022-08-27T00:17:10.459706Z"
    },
    "tags": []
   },
   "outputs": [
    {
     "data": {
      "text/plain": [
       "(False, False)"
      ]
     },
     "execution_count": 333,
     "metadata": {},
     "output_type": "execute_result"
    }
   ],
   "source": [
    "np.all((a_hits == 1).sum(axis=1) >= 155), np.all((b_hits == 1).sum(axis=1) >= 155)"
   ]
  },
  {
   "cell_type": "code",
   "execution_count": 28,
   "metadata": {
    "execution": {
     "iopub.execute_input": "2022-08-26T04:14:53.492686Z",
     "iopub.status.busy": "2022-08-26T04:14:53.492147Z",
     "iopub.status.idle": "2022-08-26T04:14:57.776242Z",
     "shell.execute_reply": "2022-08-26T04:14:57.775158Z",
     "shell.execute_reply.started": "2022-08-26T04:14:53.492640Z"
    },
    "tags": []
   },
   "outputs": [
    {
     "data": {
      "text/plain": [
       "<AxesSubplot:ylabel='Frequency'>"
      ]
     },
     "execution_count": 28,
     "metadata": {},
     "output_type": "execute_result"
    },
    {
     "data": {
      "image/png": "[encoded data removed]",
      "text/plain": [
       "<Figure size 432x288 with 1 Axes>"
      ]
     },
     "metadata": {
      "needs_background": "light"
     },
     "output_type": "display_data"
    }
   ],
   "source": [
    "sdata.seqs_annot.isna().sum(axis=1).plot(kind=\"hist\")"
   ]
  },
  {
   "cell_type": "code",
   "execution_count": 32,
   "metadata": {
    "execution": {
     "iopub.execute_input": "2022-08-26T04:16:01.360505Z",
     "iopub.status.busy": "2022-08-26T04:16:01.359957Z",
     "iopub.status.idle": "2022-08-26T04:16:05.904697Z",
     "shell.execute_reply": "2022-08-26T04:16:05.903657Z",
     "shell.execute_reply.started": "2022-08-26T04:16:01.360467Z"
    },
    "tags": []
   },
   "outputs": [
    {
     "data": {
      "text/plain": [
       "seq133747    104\n",
       "seq117002    103\n",
       "seq092826    102\n",
       "seq124203    102\n",
       "seq061395    102\n",
       "seq195223    102\n",
       "seq113624    102\n",
       "seq146323    101\n",
       "seq093392    101\n",
       "seq044638    100\n",
       "seq088282    100\n",
       "seq036382    100\n",
       "seq083383    100\n",
       "seq010609    100\n",
       "seq005807    100\n",
       "seq198815     99\n",
       "seq171734     99\n",
       "seq000748     99\n",
       "seq233144     99\n",
       "seq162007     99\n",
       "dtype: int64"
      ]
     },
     "execution_count": 32,
     "metadata": {},
     "output_type": "execute_result"
    }
   ],
   "source": [
    "sdata.seqs_annot.isna().sum(axis=1).sort_values(ascending=False)[:20]"
   ]
  },
  {
   "cell_type": "code",
   "execution_count": 33,
   "metadata": {
    "execution": {
     "iopub.execute_input": "2022-08-26T04:21:38.488462Z",
     "iopub.status.busy": "2022-08-26T04:21:38.487865Z",
     "iopub.status.idle": "2022-08-26T04:21:43.632406Z",
     "shell.execute_reply": "2022-08-26T04:21:43.631405Z",
     "shell.execute_reply.started": "2022-08-26T04:21:38.488422Z"
    }
   },
   "outputs": [
    {
     "data": {
      "image/png": "[encoded data removed]",
      "text/plain": [
       "<Figure size 720x360 with 1 Axes>"
      ]
     },
     "metadata": {
      "needs_background": "light"
     },
     "output_type": "display_data"
    }
   ],
   "source": [
    "eu.pl.violinplot(\n",
    "    sdata, \n",
    "    keys=\"RNCMPT00100\"\n",
    ")"
   ]
  },
  {
   "cell_type": "markdown",
   "metadata": {
    "execution": {
     "iopub.execute_input": "2022-08-26T04:23:33.585492Z",
     "iopub.status.busy": "2022-08-26T04:23:33.584922Z",
     "iopub.status.idle": "2022-08-26T04:23:38.364818Z",
     "shell.execute_reply": "2022-08-26T04:23:38.363426Z",
     "shell.execute_reply.started": "2022-08-26T04:23:33.585454Z"
    },
    "tags": []
   },
   "source": [
    "# DeepBind Evaluation Metrics"
   ]
  },
  {
   "cell_type": "code",
   "execution_count": 233,
   "metadata": {
    "execution": {
     "iopub.execute_input": "2022-08-26T17:05:36.354126Z",
     "iopub.status.busy": "2022-08-26T17:05:36.353759Z",
     "iopub.status.idle": "2022-08-26T17:05:40.221412Z",
     "shell.execute_reply": "2022-08-26T17:05:40.220408Z",
     "shell.execute_reply.started": "2022-08-26T17:05:36.354092Z"
    },
    "tags": []
   },
   "outputs": [],
   "source": [
    "# Useful helpers for generating and checking for kmers\n",
    "\n",
    "from itertools import product\n",
    "def generate_all_possible_kmers(n=7, alphabet=\"AGCU\"):\n",
    "    \"\"\"\n",
    "    Generate all possible kmers of length and alphabet provided\n",
    "    \"\"\"\n",
    "    return [''.join(c) for c in product(alphabet, repeat=n)]\n",
    "\n",
    "\n",
    "def kmer_in_seqs(seqs, kmer):\n",
    "    \"\"\"\n",
    "    Return a 0/1 array of whether a kmer is in each of the passed in sequences\n",
    "    \"\"\"\n",
    "    seqs_s = pd.Series(seqs)\n",
    "    kmer_binary = seqs_s.str.contains(kmer).astype(int).values\n",
    "    return kmer_binary\n",
    "\n",
    "\n",
    "def calc_auc(z, y, want_curve = False):\n",
    "    # https://github.com/jisraeli/DeepBind/blob/master/code/deepfind.py\n",
    "   \"\"\"Given predictions z and 0/1 targets y, computes AUC with optional ROC curve\"\"\"\n",
    "   z = z.ravel()\n",
    "   y = y.ravel()\n",
    "   assert len(z) == len(y)\n",
    "\n",
    "# Remove any pair with NaN in y    \n",
    "   m = ~np.isnan(y)\n",
    "   y = y[m]\n",
    "   z = z[m]\n",
    "   assert np.all(np.logical_or(y==0, y==1)), \"Cannot calculate AUC for non-binary targets\"\n",
    "\n",
    "   order = np.argsort(z,axis=0)[::-1].ravel()   # Sort by decreasing order of prediction strength\n",
    "   z = z[order]\n",
    "   y = y[order]\n",
    "   npos = np.count_nonzero(y)      # Total number of positives.\n",
    "   nneg = len(y)-npos              # Total number of negatives.\n",
    "   if nneg == 0 or npos == 0:\n",
    "       return (np.nan,None) if want_curve else 1\n",
    "\n",
    "   n = len(y)\n",
    "   fprate = np.zeros((n+1,1))\n",
    "   tprate = np.zeros((n+1,1))\n",
    "   ntpos,nfpos = 0.,0.\n",
    "   for i,yi in enumerate(y):\n",
    "       if yi: ntpos += 1\n",
    "       else:  nfpos += 1\n",
    "       tprate[i+1] = ntpos/npos\n",
    "       fprate[i+1] = nfpos/nneg\n",
    "   auc = float(np.trapz(tprate,fprate,axis=0))\n",
    "   if want_curve:\n",
    "       curve = np.hstack([fprate,tprate])\n",
    "       return auc, curve\n",
    "   return auc"
   ]
  },
  {
   "cell_type": "code",
   "execution_count": 235,
   "metadata": {
    "execution": {
     "iopub.execute_input": "2022-08-26T17:05:53.921218Z",
     "iopub.status.busy": "2022-08-26T17:05:53.920852Z",
     "iopub.status.idle": "2022-08-26T17:05:57.394914Z",
     "shell.execute_reply": "2022-08-26T17:05:57.393778Z",
     "shell.execute_reply.started": "2022-08-26T17:05:53.921183Z"
    },
    "tags": []
   },
   "outputs": [
    {
     "data": {
      "text/plain": [
       "(array([0, 1]), array([240993,    364]))"
      ]
     },
     "execution_count": 235,
     "metadata": {},
     "output_type": "execute_result"
    }
   ],
   "source": [
    "# Get the hits for k-mers\n",
    "possible_kmers = generate_all_possible_kmers(n=7, alphabet=\"AGCU\")\n",
    "k_binary = kmer_in_seqs(seqs=sdata.seqs, kmer=possible_kmers[0])\n",
    "np.unique(k_binary, return_counts=True)"
   ]
  },
  {
   "cell_type": "code",
   "execution_count": 255,
   "metadata": {
    "execution": {
     "iopub.execute_input": "2022-08-26T17:16:21.828495Z",
     "iopub.status.busy": "2022-08-26T17:16:21.827982Z",
     "iopub.status.idle": "2022-08-26T17:16:26.151818Z",
     "shell.execute_reply": "2022-08-26T17:16:26.150611Z",
     "shell.execute_reply.started": "2022-08-26T17:16:21.828458Z"
    },
    "tags": []
   },
   "outputs": [],
   "source": [
    "from sklearn.metrics import auc\n",
    "def median_calc(preds, y):\n",
    "    nan_mask = (~np.isnan(y))\n",
    "    y = y[nan_mask]\n",
    "    preds = preds[nan_mask]\n",
    "    indeces_1 = np.where(preds==1)[0]\n",
    "    return np.median(y[indeces_1])\n",
    "\n",
    "\n",
    "def auc_calc(preds, y):\n",
    "    nan_mask = (~np.isnan(y))\n",
    "    y = y[nan_mask]a\n",
    "    preds = preds[nan_mask]\n",
    "    order = np.argsort(y)\n",
    "    y_sorted = y[order]\n",
    "    preds_sorted = preds[order]\n",
    "    return auc(y_sorted, preds_sorted)\n",
    "\n",
    "\n",
    "def escore(preds, y, use_calc_auc=False):\n",
    "    nan_mask = (~np.isnan(y))\n",
    "    y = y[nan_mask]\n",
    "    preds = preds[nan_mask]\n",
    "    l_0 = np.where(preds == 0)[0]\n",
    "    l_1 = np.where(preds == 1)[0]\n",
    "    y_0 = y[l_0]\n",
    "    y_1 = y[l_1]\n",
    "    indeces_y_0, indeces_y_1 = np.argsort(y_0)[::-1], np.argsort(y_1)[::-1]\n",
    "    sorted_y_0, sorted_y_1 = np.sort(y_0)[::-1], np.sort(y_1)[::-1]\n",
    "    indeces_y_0_top = indeces_y_0[:int(len(sorted_y_0)/2)]\n",
    "    indeces_y_1_top = indeces_y_1[:int(len(sorted_y_1)/2)]\n",
    "    sorted_y_0_top = sorted_y_0[:int(len(sorted_y_0)/2)]\n",
    "    sorted_y_1_top = sorted_y_1[:int(len(sorted_y_1)/2)]\n",
    "    l_0_top = l_0[indeces_y_0_top]\n",
    "    l_1_top = l_1[indeces_y_1_top]\n",
    "    l_top = np.concatenate([l_0_top, l_1_top])\n",
    "    if use_calc_auc:\n",
    "        print(\"HERE\")\n",
    "        return calc_auc(y[l_top], preds[l_top])\n",
    "    else:\n",
    "        return auc_calc(preds=preds[l_top], y=y[l_top])"
   ]
  },
  {
   "cell_type": "code",
   "execution_count": 253,
   "metadata": {
    "execution": {
     "iopub.execute_input": "2022-08-26T17:15:36.506858Z",
     "iopub.status.busy": "2022-08-26T17:15:36.506575Z",
     "iopub.status.idle": "2022-08-26T17:15:40.585836Z",
     "shell.execute_reply": "2022-08-26T17:15:40.584771Z",
     "shell.execute_reply.started": "2022-08-26T17:15:36.506830Z"
    },
    "tags": []
   },
   "outputs": [],
   "source": [
    "# Real data\n",
    "preds = k_binary\n",
    "y = sdata[\"RNCMPT00100\"].values\n",
    "\n",
    "# Pretend data\n",
    "#preds = np.array([0, 1, 1, 1, 0, 0, 0, 1])\n",
    "#y = np.array([0.2, 0.6, 0.8, 0.7, 0.5, 0.3, 0.1, 0.9])"
   ]
  },
  {
   "cell_type": "code",
   "execution_count": 256,
   "metadata": {
    "execution": {
     "iopub.execute_input": "2022-08-26T17:16:26.154683Z",
     "iopub.status.busy": "2022-08-26T17:16:26.154136Z",
     "iopub.status.idle": "2022-08-26T17:16:31.118440Z",
     "shell.execute_reply": "2022-08-26T17:16:31.117483Z",
     "shell.execute_reply.started": "2022-08-26T17:16:26.154631Z"
    },
    "tags": []
   },
   "outputs": [
    {
     "name": "stdout",
     "output_type": "stream",
     "text": [
      "HERE\n"
     ]
    },
    {
     "data": {
      "text/plain": [
       "(-0.209522,\n",
       " 0.3975114205815928,\n",
       " 0.007971500000000535,\n",
       " 0.21076850000000052,\n",
       " 0.21094980526271168)"
      ]
     },
     "execution_count": 256,
     "metadata": {},
     "output_type": "execute_result"
    }
   ],
   "source": [
    "median_calc(preds=preds, y=y), calc_auc(y, preds), auc_calc(preds=preds, y=y), escore(preds=preds, y=y), escore(preds, y, use_calc_auc=True)"
   ]
  },
  {
   "cell_type": "code",
   "execution_count": 277,
   "metadata": {
    "execution": {
     "iopub.execute_input": "2022-08-26T17:32:37.049688Z",
     "iopub.status.busy": "2022-08-26T17:32:37.049323Z",
     "iopub.status.idle": "2022-08-26T17:32:41.307998Z",
     "shell.execute_reply": "2022-08-26T17:32:41.307029Z",
     "shell.execute_reply.started": "2022-08-26T17:32:37.049653Z"
    },
    "tags": []
   },
   "outputs": [],
   "source": [
    "from tqdm.auto import tqdm\n",
    "def rna_complete_metrics(probes, intensities, n=7, alphabet=\"AGCU\", num_kmers=None):\n",
    "    possible_kmers = generate_all_possible_kmers(n=n, alphabet=alphabet)\n",
    "    num_kmers = len(possible_kmers) if num_kmers is None else num_kmers\n",
    "    possible_kmers = possible_kmers[:num_kmers]\n",
    "    kmer_medians, kmer_aucs, kmer_escores = [], [], []\n",
    "    y = intensities\n",
    "    for i, kmer in tqdm(enumerate(possible_kmers), desc=\"Scoring k-mers\", total=len(possible_kmers)):\n",
    "        preds = kmer_in_seqs(seqs=probes, kmer=kmer)\n",
    "        kmer_medians.append(median_calc(preds=preds, y=y))\n",
    "        kmer_aucs.append(auc_calc(preds=preds, y=y))\n",
    "        kmer_escores.append(escores(preds=preds, y=y))\n",
    "    kmer_medians, kmer_aucs, kmer_escore = np.array(kmer_medians), np.array(kmer_aucs), np.array(kmer_escores)\n",
    "    kmer_zscores = (kmer_medians - np.mean(kmer_medians))/np.std(kmer_medians, ddof=1)\n",
    "    return kmer_zscores, kmer_aucs, kmer_escores"
   ]
  },
  {
   "cell_type": "code",
   "execution_count": 284,
   "metadata": {
    "execution": {
     "iopub.execute_input": "2022-08-26T17:43:29.673999Z",
     "iopub.status.busy": "2022-08-26T17:43:29.673640Z",
     "iopub.status.idle": "2022-08-26T17:43:57.033873Z",
     "shell.execute_reply": "2022-08-26T17:43:57.032809Z",
     "shell.execute_reply.started": "2022-08-26T17:43:29.673963Z"
    },
    "tags": []
   },
   "outputs": [
    {
     "data": {
      "application/vnd.jupyter.widget-view+json": {
       "model_id": "51b21f3e9e494d9ea16a8434db3894ca",
       "version_major": 2,
       "version_minor": 0
      },
      "text/plain": [
       "Scoring k-mers:   0%|          | 0/100 [00:00<?, ?it/s]"
      ]
     },
     "metadata": {},
     "output_type": "display_data"
    },
    {
     "data": {
      "text/plain": [
       "(array([-9.08162948e-01, -5.23714399e-01, -1.17897058e+00, -6.11969054e-01,\n",
       "        -4.97446474e-01,  4.75726688e-01, -2.58415749e-01, -7.00380132e-01,\n",
       "        -8.54483777e-01, -4.95498279e-01, -9.37664592e-01, -2.51552983e-01,\n",
       "        -9.54547053e-01, -3.16537373e-01, -7.80020068e-01, -5.44871512e-01,\n",
       "        -5.93215188e-01,  4.36088741e-01, -9.63915681e-04, -3.87292401e-01,\n",
       "         5.09917425e-02,  2.57989671e+00,  7.93595318e-01,  3.06606300e-01,\n",
       "         1.69740625e-01,  6.24671171e-01, -2.60685325e-01, -8.54483777e-01,\n",
       "         8.60940294e-01,  9.77342015e-02, -9.45901049e-01, -1.01570047e+00,\n",
       "        -5.56478204e-01, -7.57500640e-01, -3.66655755e-01, -8.06788551e-01,\n",
       "        -1.03970814e-01,  7.88362210e-01, -4.40738358e-01, -5.05864951e-01,\n",
       "        -8.02658947e-01,  4.80907806e-02, -4.66656461e-01, -6.54325941e-01,\n",
       "        -6.61623851e-01, -2.17034381e-01, -1.00251247e+00, -5.77737704e-01,\n",
       "        -4.93405036e-01,  2.20260023e-01, -1.25249006e+00, -8.82014474e-01,\n",
       "        -6.95403788e-02,  7.08924205e-01, -5.49100659e-01, -7.76527537e-01,\n",
       "        -8.40923202e-01, -2.35071538e-01, -9.68121848e-01, -9.73246880e-01,\n",
       "        -5.57311519e-01, -2.96458166e-01, -1.26529979e+00, -8.82378516e-01,\n",
       "        -8.54483777e-01,  2.51635916e-01, -4.78411045e-01, -5.82276856e-01,\n",
       "         2.85361020e-01,  1.79875869e+00,  4.68706702e-02,  9.55926090e-02,\n",
       "         5.45098697e-02,  6.79425404e-01,  4.69879259e-01, -6.82758211e-01,\n",
       "        -4.44799704e-01,  2.33823442e-01, -1.92930801e-01, -1.23185421e-01,\n",
       "         2.79559096e-01,  5.19895254e-01,  8.46930355e-01,  5.38967657e-01,\n",
       "         1.91658325e+00,  4.81938239e+00,  3.41098247e+00,  2.35203469e+00,\n",
       "         1.74151020e+00,  1.75229211e+00,  9.04921151e-01,  2.92027544e-01,\n",
       "         1.75071649e+00,  1.25366512e+00,  1.31268752e-01, -3.84684380e-01,\n",
       "         1.99287775e-01,  7.28465880e-01, -3.31247752e-02,  9.55926090e-02]),\n",
       " array([7.97150000e-03, 2.06927500e-01, 3.54050000e-02, 1.80965000e-02,\n",
       "        2.23785000e-02, 2.37807500e-01, 9.05310000e-02, 1.81720000e-01,\n",
       "        2.27855000e-02, 6.70475000e-02, 3.51960000e-02, 2.64600000e-02,\n",
       "        4.35240000e-02, 2.28320000e-02, 1.91730000e-02, 3.46390000e-02,\n",
       "        3.08430000e-02, 7.32815000e-02, 1.16667850e+00, 5.73220000e-02,\n",
       "        4.72120000e-02, 2.31542500e-01, 9.92850000e-02, 2.40106000e-01,\n",
       "        7.22250000e-02, 2.64224900e+00, 7.34470000e-02, 5.85345000e-02,\n",
       "        1.45513565e+01, 3.82089500e-01, 3.39195000e-02, 2.17238500e-01,\n",
       "        7.01855000e-02, 9.22940000e-02, 5.16170000e-02, 5.28000000e-02,\n",
       "        4.54490000e-02, 1.62420000e-01, 6.95165000e-02, 8.42610000e-02,\n",
       "        2.03631000e-01, 5.94790000e-02, 5.46410000e-02, 6.14590000e-02,\n",
       "        5.40605000e-02, 2.84095000e-02, 1.34765000e-02, 5.10420000e-02,\n",
       "        2.11257000e-01, 1.15873500e-01, 1.92525000e-02, 2.27115000e-02,\n",
       "        1.39787300e+00, 1.13212000e-01, 2.63513500e-01, 8.68615000e-02,\n",
       "        7.29245000e-02, 2.72345000e-02, 2.16202000e-01, 1.37516000e-01,\n",
       "        1.00562000e-01, 2.98080000e-02, 7.69730000e-02, 2.89050000e-02,\n",
       "        7.54330000e-02, 2.62355000e-02, 3.34730000e-02, 1.04988000e-01,\n",
       "        6.94056500e-01, 1.91767000e-01, 6.20615000e-02, 3.73277000e-01,\n",
       "        8.52841000e-01, 5.81865000e-02, 1.43588500e-01, 8.66775500e-01,\n",
       "        5.82085000e-02, 3.18547000e-01, 2.23025000e-02, 1.86621000e-01,\n",
       "        3.13500000e-02, 1.46765000e-01, 3.66824000e-01, 9.71550000e-02,\n",
       "        1.32663500e-01, 3.07669500e-01, 5.20150000e-01, 4.64984500e-01,\n",
       "        8.10360000e-02, 1.73046000e-01, 1.44928500e-01, 1.22023000e-01,\n",
       "        8.29047500e-01, 6.06236500e-01, 1.83745000e-01, 1.72436500e-01,\n",
       "        1.14361500e-01, 8.41775000e-02, 2.90630000e-02, 8.08320000e-02]),\n",
       " [0.21076850000000052,\n",
       "  0.34402249999999884,\n",
       "  0.27476850000000086,\n",
       "  0.16369099999999936,\n",
       "  0.15504000000000104,\n",
       "  0.242433500000003,\n",
       "  0.17335649999999933,\n",
       "  0.3388554999999954,\n",
       "  0.21452199999999935,\n",
       "  0.1988754999999992,\n",
       "  0.24287600000000117,\n",
       "  0.108208500000002,\n",
       "  0.25172200000000183,\n",
       "  0.12479600000000214,\n",
       "  0.19574349999999985,\n",
       "  0.1671484999999981,\n",
       "  0.17043500000000072,\n",
       "  0.06794800000000363,\n",
       "  1.204346500000002,\n",
       "  0.1705454999999992,\n",
       "  0.08509700000000021,\n",
       "  0.2288405000000031,\n",
       "  0.09870000000000217,\n",
       "  0.24686850000000157,\n",
       "  0.08482450000000132,\n",
       "  2.643538999999997,\n",
       "  0.13663149999999513,\n",
       "  0.25264299999999984,\n",
       "  14.548854000000013,\n",
       "  0.4084674999999949,\n",
       "  0.24391649999999976,\n",
       "  0.4324109999999975,\n",
       "  0.2108155000000012,\n",
       "  0.27071749999999517,\n",
       "  0.1556710000000024,\n",
       "  0.2386789999999979,\n",
       "  0.1016879999999981,\n",
       "  0.16006149999999725,\n",
       "  0.1950090000000014,\n",
       "  0.21511299999999903,\n",
       "  0.38307700000000533,\n",
       "  0.0884100000000014,\n",
       "  0.18128949999999622,\n",
       "  0.22021749999999923,\n",
       "  0.21465750000000147,\n",
       "  0.1005989999999996,\n",
       "  0.23145399999999983,\n",
       "  0.19542749999999998,\n",
       "  0.16284099999999885,\n",
       "  0.09812949999999818,\n",
       "  0.27856000000000053,\n",
       "  0.21649050000000275,\n",
       "  1.450291999999996,\n",
       "  0.11097100000000198,\n",
       "  0.4043549999999989,\n",
       "  0.27130799999999755,\n",
       "  0.2584620000000033,\n",
       "  0.09904999999999863,\n",
       "  0.4306950000000045,\n",
       "  0.35135249999999985,\n",
       "  0.2411504999999936,\n",
       "  0.11424249999999903,\n",
       "  0.3390889999999985,\n",
       "  0.22638250000000126,\n",
       "  0.27170899999999876,\n",
       "  0.024001999999997768,\n",
       "  0.15915399999999957,\n",
       "  0.25149350000000487,\n",
       "  0.6932880000000095,\n",
       "  0.19025900000000276,\n",
       "  0.09066799999999464,\n",
       "  0.4027765000000112,\n",
       "  0.8909465000000033,\n",
       "  0.05723399999999668,\n",
       "  0.14185000000000822,\n",
       "  1.0331149999999996,\n",
       "  0.1787770000000001,\n",
       "  0.3214524999999958,\n",
       "  0.10157750000000235,\n",
       "  0.2539795000000003,\n",
       "  0.028469500000001955,\n",
       "  0.14912749999999558,\n",
       "  0.3603709999999992,\n",
       "  0.09546450000000518,\n",
       "  0.1301730000000015,\n",
       "  0.3056404999999988,\n",
       "  0.518751,\n",
       "  0.4613795000000045,\n",
       "  0.0794310000000022,\n",
       "  0.17148649999999904,\n",
       "  0.14620600000000109,\n",
       "  0.1229230000000066,\n",
       "  0.8275970000000051,\n",
       "  0.6072740000000032,\n",
       "  0.1931030000000036,\n",
       "  0.28290650000000106,\n",
       "  0.12562600000000412,\n",
       "  0.08246700000000146,\n",
       "  0.07189850000000024,\n",
       "  0.09352050000000262])"
      ]
     },
     "execution_count": 284,
     "metadata": {},
     "output_type": "execute_result"
    }
   ],
   "source": [
    "rna_complete_metrics(probes=sdata.seqs, intensities=sdata[\"RNCMPT00100\"].values, n=7, alphabet=\"AGCU\", num_kmers=100)"
   ]
  },
  {
   "cell_type": "markdown",
   "metadata": {},
   "source": [
    "---"
   ]
  },
  {
   "cell_type": "markdown",
   "metadata": {},
   "source": [
    "# Scratch"
   ]
  },
  {
   "cell_type": "code",
   "execution_count": null,
   "metadata": {},
   "outputs": [],
   "source": [
    "# Implementing the escore function\n",
    "\n",
    "# Pull out one k-mers worth of hits and actuall probe intensities\n",
    "preds = k_binary\n",
    "y = sdata[\"RNCMPT00100\"].values\n",
    "\n",
    "preds = np.array([0, 1, 1, 1, 0, 0, 0, 1])\n",
    "y = np.array([0.2, 0.6, 0.8, 0.7, 0.5, 0.3, 0.1, 0.9])\n",
    "\n",
    "# Get the indices where the 7mers are hits and where they are not\n",
    "l_0 = np.where(preds == 0)[0]\n",
    "l_1 = np.where(preds == 1)[0]\n",
    "l_0, l_1\n",
    "\n",
    "# Get the probe intensities for k-mer hits and not\n",
    "y_0 = y[l_0]\n",
    "y_1 = y[l_1]\n",
    "y_0, y_1\n",
    "\n",
    "indeces_y_0, indeces_y_1 = np.argsort(y_0)[::-1], np.argsort(y_1)[::-1]\n",
    "indeces_y_0, indeces_y_1\n",
    "\n",
    "sorted_y_0, sorted_y_1 = np.sort(y_0)[::-1], np.sort(y_1)[::-1]\n",
    "sorted_y_0, sorted_y_1\n",
    "\n",
    "indeces_y_0_top = indeces_y_0[:int(len(sorted_y_0)/2)]\n",
    "indeces_y_1_top = indeces_y_1[:int(len(sorted_y_1)/2)]\n",
    "indeces_y_0_top, indeces_y_1_top\n",
    "\n",
    "sorted_y_0_top = sorted_y_0[:int(len(sorted_y_0)/2)]\n",
    "sorted_y_1_top = sorted_y_1[:int(len(sorted_y_1)/2)]\n",
    "sorted_y_0_top, sorted_y_1_top\n",
    "\n",
    "l_0_top = l_0[indeces_y_0_top]\n",
    "l_1_top = l_1[indeces_y_1_top]\n",
    "l_0_top, l_1_top\n",
    "\n",
    "l_top = np.concatenate([l_0_top, l_1_top])\n",
    "l_top\n",
    "\n",
    "preds[l_top], y[l_top]\n",
    "\n",
    "rna_complete_auc(preds=preds, y=y), rna_complete_auc(preds=preds[l_top], y=y[l_top])"
   ]
  },
  {
   "cell_type": "code",
   "execution_count": 271,
   "metadata": {
    "execution": {
     "iopub.execute_input": "2022-08-26T17:27:49.137595Z",
     "iopub.status.busy": "2022-08-26T17:27:49.137124Z",
     "iopub.status.idle": "2022-08-26T17:27:55.614955Z",
     "shell.execute_reply": "2022-08-26T17:27:55.613825Z",
     "shell.execute_reply.started": "2022-08-26T17:27:49.137559Z"
    },
    "tags": []
   },
   "outputs": [
    {
     "data": {
      "application/vnd.jupyter.widget-view+json": {
       "model_id": "",
       "version_major": 2,
       "version_minor": 0
      },
      "text/plain": [
       "Scoring k-mers:   0%|          | 0/10 [00:00<?, ?it/s]"
      ]
     },
     "metadata": {},
     "output_type": "display_data"
    }
   ],
   "source": [
    "# Implementing the rnacomplete_metrics function\n",
    "kmer_medians = []\n",
    "kmer_aucs = []\n",
    "kmer_escores = []\n",
    "y = sdata[\"RNCMPT00100\"].values\n",
    "for i, kmer in tqdm(enumerate(possible_kmers[:n]), desc=\"Scoring k-mers\", total=len(possible_kmers[:n])):\n",
    "    preds = kmer_in_seqs(seqs=sdata.seqs, kmer=kmer)\n",
    "    kmer_medians.append(median_calc(preds=preds, y=y))\n",
    "    kmer_aucs.append(auc_calc(preds=preds, y=y))\n",
    "    kmer_escores.append(escores(preds=preds, y=y))\n",
    "kmer_medians = np.array(kmer_medians)\n",
    "kmer_aucs = np.array(kmer_aucs)\n",
    "kmer_escore = np.array(kmer_escores)\n",
    "kmer_zscores = (kmer_medians - np.mean(kmer_medians))/np.std(kmer_medians, ddof=1)"
   ]
  },
  {
   "cell_type": "code",
   "execution_count": 139,
   "metadata": {
    "execution": {
     "iopub.execute_input": "2022-08-26T16:21:58.016193Z",
     "iopub.status.busy": "2022-08-26T16:21:58.015779Z",
     "iopub.status.idle": "2022-08-26T16:22:01.841158Z",
     "shell.execute_reply": "2022-08-26T16:22:01.840099Z",
     "shell.execute_reply.started": "2022-08-26T16:21:58.016158Z"
    }
   },
   "outputs": [],
   "source": [
    "# Older attempts\n",
    "\n",
    "from sklearn.metrics import auc\n",
    "def rna_complete_zscores(probes, values):\n",
    "    kmers = generate_all_possible_kmers(n=7, alphabet=\"AGCU\")\n",
    "    probes_s = pd.Series(probes)\n",
    "    kmer_indeces = [np.where(probes_s.str.contains(kmer))[0] for kmer in kmers]\n",
    "    median_kmer_intensities = [np.nanmedian(values[l]) for l in kmer_indeces]\n",
    "    z_scores = (median_kmer_intensities - np.mean(median_kmer_intensities))/np.std(median_kmer_intensities, ddof=1)\n",
    "    return z_scores\n",
    "\n",
    "\n",
    "def rna_complete_zscores(probes, values):\n",
    "    kmers = generate_all_possible_kmers(n=7, alphabet=\"AGCU\")[:10]\n",
    "    probes_s = pd.Series(probes)\n",
    "    kmer_indeces = [np.where(probes_s.str.contains(kmer))[0] for kmer in kmers[:10]]\n",
    "    median_kmer_intensities = [np.nanmedian(values[l]) for l in kmer_indeces]\n",
    "    z_scores = (median_kmer_intensities - np.mean(median_kmer_intensities))/np.std(median_kmer_intensities, ddof=1)\n",
    "    return z_scores\n",
    "\n",
    "\n",
    "def rna_complete_aucs(probes, values):\n",
    "    kmers = generate_all_possible_kmers(n=7, alphabet=\"AGCU\")[:10]\n",
    "    kmers_in_probes(probes, kmers):\n",
    "    order = np.argsort(values)\n",
    "    true_sorted = values[order]\n",
    "    preds_sorted = kmer_hits[:, order]\n",
    "    nan_mask = (~np.isnan(true_sorted))\n",
    "    true_cleaned = true_sorted[nan_mask]\n",
    "    preds_cleaned = preds_sorted[:, nan_mask]\n",
    "    aucs = np.array([auc(true_cleaned, preds) for preds in preds_cleaned])\n",
    "    return aucs\n",
    "\n",
    "\n",
    "def rna_complete_aucs(probes, values):\n",
    "    kmers = generate_all_possible_kmers(n=7, alphabet=\"AGCU\")[:10]\n",
    "    probes_s = pd.Series(probes)\n",
    "    kmer_hits = np.array([probes_s.str.contains(kmer).astype(int).values for kmer in kmers[:10]])\n",
    "    order = np.argsort(values)\n",
    "    true_sorted = values[order]\n",
    "    preds_sorted = kmer_hits[:, order]\n",
    "    nan_mask = (~np.isnan(true_sorted))\n",
    "    true_cleaned = true_sorted[nan_mask]\n",
    "    preds_cleaned = preds_sorted[:, nan_mask]\n",
    "    aucs = np.array([auc(true_cleaned, preds) for preds in preds_cleaned])\n",
    "    return aucs\n",
    "\n",
    "\n",
    "def rna_complete_aucs(kmer_binary, values):\n",
    "    \"\"\"\n",
    "    Returns RNAcomplete/DeepBind style AUCs for multiple k-mers at once\n",
    "    \n",
    "    Params\n",
    "    ------\n",
    "    kmer_binary\n",
    "        a \n",
    "    \n",
    "    \"\"\"\n",
    "    nan_mask = (~np.isnan(values))\n",
    "    true = values[nan_mask]\n",
    "    preds = kmer_binary[:, nan_mask]\n",
    "    order = np.argsort(true)\n",
    "    true_sorted = true[order]\n",
    "    preds_sorted = preds[:, order]\n",
    "    aucs = np.array([auc(true_sorted, preds) for preds in preds_sorted])\n",
    "    return aucs\n",
    "\n",
    "rna_complete_zscores(probes=sdata.seqs, values=sdata[\"RNCMPT00100\"])\n",
    "rna_complete_aucs(k_binary, sdata[\"RNCMPT00100\"].values)\n",
    "rna_complete_aucs(probes=sdata.seqs, values=sdata[\"RNCMPT00100\"].values)"
   ]
  }
 ],
 "metadata": {
  "kernelspec": {
   "display_name": "Python 3.7 eugene_dev",
   "language": "python",
   "name": "eugene_dev"
  },
  "language_info": {
   "codemirror_mode": {
    "name": "ipython",
    "version": 3
   },
   "file_extension": ".py",
   "mimetype": "text/x-python",
   "name": "python",
   "nbconvert_exporter": "python",
   "pygments_lexer": "ipython3",
   "version": "3.7.12"
  },
  "vscode": {
   "interpreter": {
    "hash": "949777d72b0d2535278d3dc13498b2535136f6dfe0678499012e853ee9abcab1"
   }
  }
 },
 "nbformat": 4,
 "nbformat_minor": 4
}
