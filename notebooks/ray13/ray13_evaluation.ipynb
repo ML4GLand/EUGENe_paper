{
 "cells": [
  {
   "cell_type": "markdown",
   "id": "85c10a31",
   "metadata": {},
   "source": [
    "# Ray et al 2013 Evaluation\n",
    "**Authorship:**\n",
    "Adam Klie, *08/31/2022*\n",
    "***\n",
    "**Description:**\n",
    "Notebook to evaluate trained models on the Ray et al dataset.\n",
    "***"
   ]
  },
  {
   "cell_type": "code",
   "execution_count": 20,
   "id": "4a935404",
   "metadata": {
    "execution": {
     "iopub.execute_input": "2022-09-05T17:49:37.023615Z",
     "iopub.status.busy": "2022-09-05T17:49:37.023085Z",
     "iopub.status.idle": "2022-09-05T17:49:40.550928Z",
     "shell.execute_reply": "2022-09-05T17:49:40.549353Z",
     "shell.execute_reply.started": "2022-09-05T17:49:37.023569Z"
    },
    "tags": [],
    "vscode": {
     "languageId": "python"
    }
   },
   "outputs": [],
   "source": [
    "if 'autoreload' not in get_ipython().extension_manager.loaded:\n",
    "    %load_ext autoreload\n",
    "%autoreload 2\n",
    "\n",
    "import os\n",
    "import glob\n",
    "import logging\n",
    "import torch\n",
    "import numpy as np\n",
    "import pandas as pd\n",
    "import eugene as eu\n",
    "import matplotlib\n",
    "import matplotlib.pyplot as plt\n",
    "import seaborn as sns\n",
    "from tqdm.auto import tqdm\n",
    "\n",
    "matplotlib.rcParams['pdf.fonttype'] = 42\n",
    "matplotlib.rcParams['ps.fonttype'] = 42"
   ]
  },
  {
   "cell_type": "code",
   "execution_count": 1,
   "id": "50ffafd6",
   "metadata": {
    "execution": {
     "iopub.execute_input": "2022-09-06T17:10:02.858745Z",
     "iopub.status.busy": "2022-09-06T17:10:02.858457Z",
     "iopub.status.idle": "2022-09-06T17:10:05.808084Z",
     "shell.execute_reply": "2022-09-06T17:10:05.807349Z",
     "shell.execute_reply.started": "2022-09-06T17:10:02.858684Z"
    },
    "tags": [],
    "vscode": {
     "languageId": "python"
    }
   },
   "outputs": [
    {
     "ename": "NameError",
     "evalue": "name 'eu' is not defined",
     "output_type": "error",
     "traceback": [
      "\u001b[0;31m---------------------------------------------------------------------------\u001b[0m",
      "\u001b[0;31mNameError\u001b[0m                                 Traceback (most recent call last)",
      "\u001b[0;32m/tmp/ipykernel_466910/3779213518.py\u001b[0m in \u001b[0;36m<module>\u001b[0;34m\u001b[0m\n\u001b[0;32m----> 1\u001b[0;31m \u001b[0meu\u001b[0m\u001b[0;34m.\u001b[0m\u001b[0msettings\u001b[0m\u001b[0;34m.\u001b[0m\u001b[0mdataset_dir\u001b[0m \u001b[0;34m=\u001b[0m \u001b[0;34m\"/cellar/users/aklie/data/eugene/ray13\"\u001b[0m\u001b[0;34m\u001b[0m\u001b[0;34m\u001b[0m\u001b[0m\n\u001b[0m\u001b[1;32m      2\u001b[0m \u001b[0meu\u001b[0m\u001b[0;34m.\u001b[0m\u001b[0msettings\u001b[0m\u001b[0;34m.\u001b[0m\u001b[0moutput_dir\u001b[0m \u001b[0;34m=\u001b[0m \u001b[0;34m\"/cellar/users/aklie/projects/EUGENe/EUGENe_paper/output/ray13\"\u001b[0m\u001b[0;34m\u001b[0m\u001b[0;34m\u001b[0m\u001b[0m\n\u001b[1;32m      3\u001b[0m \u001b[0meu\u001b[0m\u001b[0;34m.\u001b[0m\u001b[0msettings\u001b[0m\u001b[0;34m.\u001b[0m\u001b[0mlogging_dir\u001b[0m \u001b[0;34m=\u001b[0m \u001b[0;34m\"/cellar/users/aklie/projects/EUGENe/EUGENe_paper/logs/ray13\"\u001b[0m\u001b[0;34m\u001b[0m\u001b[0;34m\u001b[0m\u001b[0m\n\u001b[1;32m      4\u001b[0m \u001b[0meu\u001b[0m\u001b[0;34m.\u001b[0m\u001b[0msettings\u001b[0m\u001b[0;34m.\u001b[0m\u001b[0mconfig_dir\u001b[0m \u001b[0;34m=\u001b[0m \u001b[0;34m\"/cellar/users/aklie/projects/EUGENe/EUGENe_paper/configs/ray13\"\u001b[0m\u001b[0;34m\u001b[0m\u001b[0;34m\u001b[0m\u001b[0m\n\u001b[1;32m      5\u001b[0m \u001b[0mfigure_dir\u001b[0m \u001b[0;34m=\u001b[0m \u001b[0;34m\"/cellar/users/aklie/projects/EUGENe/EUGENe_paper/figures/ray13\"\u001b[0m\u001b[0;34m\u001b[0m\u001b[0;34m\u001b[0m\u001b[0m\n",
      "\u001b[0;31mNameError\u001b[0m: name 'eu' is not defined"
     ]
    }
   ],
   "source": [
    "eu.settings.dataset_dir = \"/cellar/users/aklie/data/eugene/ray13\"\n",
    "eu.settings.output_dir = \"/cellar/users/aklie/projects/EUGENe/EUGENe_paper/output/ray13\"\n",
    "eu.settings.logging_dir = \"/cellar/users/aklie/projects/EUGENe/EUGENe_paper/logs/ray13\"\n",
    "eu.settings.config_dir = \"/cellar/users/aklie/projects/EUGENe/EUGENe_paper/configs/ray13\"\n",
    "figure_dir = \"/cellar/users/aklie/projects/EUGENe/EUGENe_paper/figures/ray13\"\n",
    "eu.settings.verbosity = logging.ERROR"
   ]
  },
  {
   "cell_type": "markdown",
   "id": "94e853e3",
   "metadata": {},
   "source": [
    "# Load in the test `SeqData`"
   ]
  },
  {
   "cell_type": "code",
   "execution_count": 22,
   "id": "cdf28384-5f24-4a86-8b11-ba91089f7005",
   "metadata": {
    "execution": {
     "iopub.execute_input": "2022-09-05T17:49:42.810892Z",
     "iopub.status.busy": "2022-09-05T17:49:42.810521Z",
     "iopub.status.idle": "2022-09-05T17:49:46.983635Z",
     "shell.execute_reply": "2022-09-05T17:49:46.982412Z",
     "shell.execute_reply.started": "2022-09-05T17:49:42.810861Z"
    },
    "tags": [],
    "vscode": {
     "languageId": "python"
    }
   },
   "outputs": [
    {
     "data": {
      "text/plain": [
       "SeqData object with = 121031 seqs\n",
       "seqs = (121031,)\n",
       "names = (121031,)\n",
       "rev_seqs = None\n",
       "ohe_seqs = (121031, 41, 4)\n",
       "ohe_rev_seqs = None\n",
       "seqs_annot: 'Probe_Set', 'RNCMPT00001', 'RNCMPT00002', 'RNCMPT00003', 'RNCMPT00004', 'RNCMPT00005', 'RNCMPT00006', 'RNCMPT00007', 'RNCMPT00008', 'RNCMPT00009', 'RNCMPT00010', 'RNCMPT00011', 'RNCMPT00012', 'RNCMPT00013', 'RNCMPT00014', 'RNCMPT00015', 'RNCMPT00016', 'RNCMPT00017', 'RNCMPT00018', 'RNCMPT00019', 'RNCMPT00020', 'RNCMPT00021', 'RNCMPT00022', 'RNCMPT00023', 'RNCMPT00024', 'RNCMPT00025', 'RNCMPT00026', 'RNCMPT00027', 'RNCMPT00028', 'RNCMPT00029', 'RNCMPT00031', 'RNCMPT00032', 'RNCMPT00033', 'RNCMPT00034', 'RNCMPT00035', 'RNCMPT00036', 'RNCMPT00037', 'RNCMPT00038', 'RNCMPT00039', 'RNCMPT00040', 'RNCMPT00041', 'RNCMPT00042', 'RNCMPT00043', 'RNCMPT00044', 'RNCMPT00045', 'RNCMPT00046', 'RNCMPT00047', 'RNCMPT00049', 'RNCMPT00050', 'RNCMPT00051', 'RNCMPT00052', 'RNCMPT00053', 'RNCMPT00054', 'RNCMPT00055', 'RNCMPT00056', 'RNCMPT00057', 'RNCMPT00058', 'RNCMPT00059', 'RNCMPT00060', 'RNCMPT00061', 'RNCMPT00062', 'RNCMPT00063', 'RNCMPT00064', 'RNCMPT00065', 'RNCMPT00066', 'RNCMPT00067', 'RNCMPT00068', 'RNCMPT00069', 'RNCMPT00070', 'RNCMPT00071', 'RNCMPT00072', 'RNCMPT00073', 'RNCMPT00074', 'RNCMPT00075', 'RNCMPT00076', 'RNCMPT00077', 'RNCMPT00078', 'RNCMPT00079', 'RNCMPT00080', 'RNCMPT00081', 'RNCMPT00082', 'RNCMPT00083', 'RNCMPT00084', 'RNCMPT00085', 'RNCMPT00086', 'RNCMPT00087', 'RNCMPT00088', 'RNCMPT00089', 'RNCMPT00090', 'RNCMPT00091', 'RNCMPT00093', 'RNCMPT00094', 'RNCMPT00095', 'RNCMPT00096', 'RNCMPT00097', 'RNCMPT00099', 'RNCMPT00100', 'RNCMPT00101', 'RNCMPT00102', 'RNCMPT00103', 'RNCMPT00104', 'RNCMPT00105', 'RNCMPT00106', 'RNCMPT00107', 'RNCMPT00108', 'RNCMPT00109', 'RNCMPT00110', 'RNCMPT00111', 'RNCMPT00112', 'RNCMPT00113', 'RNCMPT00114', 'RNCMPT00116', 'RNCMPT00117', 'RNCMPT00118', 'RNCMPT00119', 'RNCMPT00120', 'RNCMPT00121', 'RNCMPT00122', 'RNCMPT00123', 'RNCMPT00124', 'RNCMPT00126', 'RNCMPT00127', 'RNCMPT00129', 'RNCMPT00131', 'RNCMPT00132', 'RNCMPT00133', 'RNCMPT00134', 'RNCMPT00136', 'RNCMPT00137', 'RNCMPT00138', 'RNCMPT00139', 'RNCMPT00140', 'RNCMPT00141', 'RNCMPT00142', 'RNCMPT00143', 'RNCMPT00144', 'RNCMPT00145', 'RNCMPT00146', 'RNCMPT00147', 'RNCMPT00148', 'RNCMPT00149', 'RNCMPT00150', 'RNCMPT00151', 'RNCMPT00152', 'RNCMPT00153', 'RNCMPT00154', 'RNCMPT00155', 'RNCMPT00156', 'RNCMPT00157', 'RNCMPT00158', 'RNCMPT00159', 'RNCMPT00160', 'RNCMPT00161', 'RNCMPT00162', 'RNCMPT00163', 'RNCMPT00164', 'RNCMPT00165', 'RNCMPT00166', 'RNCMPT00167', 'RNCMPT00168', 'RNCMPT00169', 'RNCMPT00170', 'RNCMPT00171', 'RNCMPT00172', 'RNCMPT00173', 'RNCMPT00174', 'RNCMPT00175', 'RNCMPT00176', 'RNCMPT00177', 'RNCMPT00178', 'RNCMPT00179', 'RNCMPT00180', 'RNCMPT00181', 'RNCMPT00182', 'RNCMPT00183', 'RNCMPT00184', 'RNCMPT00185', 'RNCMPT00186', 'RNCMPT00187', 'RNCMPT00197', 'RNCMPT00199', 'RNCMPT00200', 'RNCMPT00202', 'RNCMPT00203', 'RNCMPT00205', 'RNCMPT00206', 'RNCMPT00209', 'RNCMPT00212', 'RNCMPT00215', 'RNCMPT00216', 'RNCMPT00217', 'RNCMPT00218', 'RNCMPT00219', 'RNCMPT00220', 'RNCMPT00223', 'RNCMPT00224', 'RNCMPT00225', 'RNCMPT00226', 'RNCMPT00228', 'RNCMPT00229', 'RNCMPT00230', 'RNCMPT00232', 'RNCMPT00234', 'RNCMPT00235', 'RNCMPT00236', 'RNCMPT00237', 'RNCMPT00238', 'RNCMPT00239', 'RNCMPT00240', 'RNCMPT00241', 'RNCMPT00245', 'RNCMPT00246', 'RNCMPT00248', 'RNCMPT00249', 'RNCMPT00251', 'RNCMPT00252', 'RNCMPT00253', 'RNCMPT00254', 'RNCMPT00255', 'RNCMPT00256', 'RNCMPT00257', 'RNCMPT00258', 'RNCMPT00259', 'RNCMPT00261', 'RNCMPT00262', 'RNCMPT00263', 'RNCMPT00265', 'RNCMPT00268', 'RNCMPT00269', 'RNCMPT00270', 'RNCMPT00272', 'RNCMPT00273', 'RNCMPT00274', 'RNCMPT00278', 'RNCMPT00279', 'RNCMPT00280', 'RNCMPT00281', 'RNCMPT00282', 'RNCMPT00283', 'RNCMPT00284', 'RNCMPT00285', 'RNCMPT00287', 'RNCMPT00288', 'RNCMPT00289', 'RNCMPT00291'\n",
       "pos_annot: None\n",
       "seqsm: None\n",
       "uns: None"
      ]
     },
     "execution_count": 22,
     "metadata": {},
     "output_type": "execute_result"
    }
   ],
   "source": [
    "# Load the test data\n",
    "sdata_test = eu.dl.read_h5sd(os.path.join(eu.settings.dataset_dir, \"norm_setB_processed_ST.h5sd\"))\n",
    "target_mask = sdata_test.seqs_annot.columns.str.contains(\"RNCMPT\")\n",
    "target_cols = sdata_test.seqs_annot.columns[target_mask]\n",
    "sdata_test"
   ]
  },
  {
   "cell_type": "code",
   "execution_count": 4,
   "id": "7f4e39c6",
   "metadata": {
    "execution": {
     "iopub.execute_input": "2022-09-05T17:27:55.018761Z",
     "iopub.status.busy": "2022-09-05T17:27:55.018284Z",
     "iopub.status.idle": "2022-09-05T17:28:13.256674Z",
     "shell.execute_reply": "2022-09-05T17:28:13.255367Z",
     "shell.execute_reply.started": "2022-09-05T17:27:55.018728Z"
    },
    "vscode": {
     "languageId": "python"
    }
   },
   "outputs": [],
   "source": [
    "# Load in the Set B presence/absence predictions\n",
    "b_presence_absence = np.load(os.path.join(eu.settings.dataset_dir, \"SetB_binary.npy\"))\n",
    "setB_observed = sdata_test.seqs_annot[target_cols]"
   ]
  },
  {
   "cell_type": "markdown",
   "id": "3dd90ca6",
   "metadata": {},
   "source": [
    "# Get test set evaluations for each model"
   ]
  },
  {
   "cell_type": "markdown",
   "id": "5fda7c37",
   "metadata": {},
   "source": [
    "## SetA k-mer scores "
   ]
  },
  {
   "cell_type": "code",
   "execution_count": 7,
   "id": "3e6b2659",
   "metadata": {
    "execution": {
     "iopub.execute_input": "2022-09-05T17:29:01.519424Z",
     "iopub.status.busy": "2022-09-05T17:29:01.518961Z",
     "iopub.status.idle": "2022-09-05T17:29:22.045680Z",
     "shell.execute_reply": "2022-09-05T17:29:22.044650Z",
     "shell.execute_reply.started": "2022-09-05T17:29:01.519392Z"
    },
    "vscode": {
     "languageId": "python"
    }
   },
   "outputs": [],
   "source": [
    "# Load in the Set A presence/absence predictions\n",
    "a_presence_absence = np.load(os.path.join(eu.settings.dataset_dir, \"SetA_binary_ST.npy\"))\n",
    "setA_observed = eu.dl.read_h5sd(os.path.join(eu.settings.dataset_dir, eu.settings.dataset_dir, \"norm_setA_processed_ST.h5sd\")).seqs_annot[target_cols]"
   ]
  },
  {
   "cell_type": "code",
   "execution_count": 8,
   "id": "265b6dec",
   "metadata": {
    "execution": {
     "iopub.execute_input": "2022-09-05T17:31:42.594654Z",
     "iopub.status.busy": "2022-09-05T17:31:42.594038Z",
     "iopub.status.idle": "2022-09-05T17:31:56.107092Z",
     "shell.execute_reply": "2022-09-05T17:31:56.106105Z",
     "shell.execute_reply.started": "2022-09-05T17:31:42.594609Z"
    },
    "vscode": {
     "languageId": "python"
    }
   },
   "outputs": [
    {
     "data": {
      "application/vnd.jupyter.widget-view+json": {
       "model_id": "65e89fbcdab844dbb0badd1efed9f041",
       "version_major": 2,
       "version_minor": 0
      },
      "text/plain": [
       "  0%|          | 0/100 [00:00<?, ?it/s]"
      ]
     },
     "metadata": {},
     "output_type": "display_data"
    },
    {
     "data": {
      "application/vnd.jupyter.widget-view+json": {
       "model_id": "38b0f4e8c16e4b81a2510b0f40cd8ed8",
       "version_major": 2,
       "version_minor": 0
      },
      "text/plain": [
       "  0%|          | 0/100 [00:00<?, ?it/s]"
      ]
     },
     "metadata": {},
     "output_type": "display_data"
    }
   ],
   "source": [
    "# An example calculation of z-scores, aucs and e-scores for Set A and Set B\n",
    "a_metr = eu.predict.rna_complete_metrics_apply(a_presence_absence, setA_observed[\"RNCMPT00001\"].values, verbose=True, num_kmers=100)\n",
    "b_metr = eu.predict.rna_complete_metrics_apply(b_presence_absence, setB_observed[\"RNCMPT00001\"].values, verbose=True, num_kmers=100)"
   ]
  },
  {
   "cell_type": "code",
   "execution_count": 24,
   "id": "e2e67845",
   "metadata": {
    "execution": {
     "iopub.execute_input": "2022-09-05T17:50:19.942958Z",
     "iopub.status.busy": "2022-09-05T17:50:19.942461Z",
     "iopub.status.idle": "2022-09-05T17:53:19.919160Z",
     "shell.execute_reply": "2022-09-05T17:53:19.917719Z",
     "shell.execute_reply.started": "2022-09-05T17:50:19.942923Z"
    },
    "tags": [],
    "vscode": {
     "languageId": "python"
    }
   },
   "outputs": [
    {
     "data": {
      "application/vnd.jupyter.widget-view+json": {
       "model_id": "4b0a5b4d79c04fc8b5d6ddcf77ae756b",
       "version_major": 2,
       "version_minor": 0
      },
      "text/plain": [
       "Calcualting metrics on each task:   0%|          | 0/244 [00:00<?, ?it/s]"
      ]
     },
     "metadata": {},
     "output_type": "display_data"
    },
    {
     "data": {
      "application/vnd.jupyter.widget-view+json": {
       "model_id": "7531e2d9ff0643d99a51d067369dae2d",
       "version_major": 2,
       "version_minor": 0
      },
      "text/plain": [
       "  0%|          | 0/100 [00:00<?, ?it/s]"
      ]
     },
     "metadata": {},
     "output_type": "display_data"
    },
    {
     "data": {
      "application/vnd.jupyter.widget-view+json": {
       "model_id": "e3cac229955f4985a4c680d0e1fc49e1",
       "version_major": 2,
       "version_minor": 0
      },
      "text/plain": [
       "  0%|          | 0/100 [00:00<?, ?it/s]"
      ]
     },
     "metadata": {},
     "output_type": "display_data"
    },
    {
     "data": {
      "application/vnd.jupyter.widget-view+json": {
       "model_id": "2c47b344f1a7429e887016ef29356913",
       "version_major": 2,
       "version_minor": 0
      },
      "text/plain": [
       "  0%|          | 0/100 [00:00<?, ?it/s]"
      ]
     },
     "metadata": {},
     "output_type": "display_data"
    },
    {
     "data": {
      "application/vnd.jupyter.widget-view+json": {
       "model_id": "e278ca28c5424b888ef431a129a40f69",
       "version_major": 2,
       "version_minor": 0
      },
      "text/plain": [
       "  0%|          | 0/100 [00:00<?, ?it/s]"
      ]
     },
     "metadata": {},
     "output_type": "display_data"
    },
    {
     "data": {
      "application/vnd.jupyter.widget-view+json": {
       "model_id": "e75d17ec05df4b3fa235808b59e51027",
       "version_major": 2,
       "version_minor": 0
      },
      "text/plain": [
       "  0%|          | 0/100 [00:00<?, ?it/s]"
      ]
     },
     "metadata": {},
     "output_type": "display_data"
    },
    {
     "data": {
      "application/vnd.jupyter.widget-view+json": {
       "model_id": "12d4f07a7a674e53a77ee42d109753f3",
       "version_major": 2,
       "version_minor": 0
      },
      "text/plain": [
       "  0%|          | 0/100 [00:00<?, ?it/s]"
      ]
     },
     "metadata": {},
     "output_type": "display_data"
    }
   ],
   "source": [
    "# Performing the above calculation for all targets (TODO: parallelize and simplify)\n",
    "from scipy.stats import pearsonr, spearmanr\n",
    "pearson_setA_long = pd.DataFrame()\n",
    "spearman_setA_long = pd.DataFrame()\n",
    "for i, task in tqdm(enumerate(target_cols[:3]), desc=\"Calcualting metrics on each task\", total=len(target_cols)):\n",
    "    a_zscores, a_aucs, a_escores  = eu.predict.rna_complete_metrics_apply(a_presence_absence, setA_observed[task].values, verbose=True, use_calc_auc=True, num_kmers=100)\n",
    "    b_zscores, b_aucs, b_escores = eu.predict.rna_complete_metrics_apply(b_presence_absence, setB_observed[task].values, verbose=True, use_calc_auc=True, num_kmers=100) \n",
    "    \n",
    "    zscore_nan_mask = np.isnan(a_zscores) | np.isnan(b_zscores)\n",
    "    a_zscores = a_zscores[~zscore_nan_mask]\n",
    "    b_zscores = b_zscores[~zscore_nan_mask]\n",
    "    if len(a_zscores) > 0 and len(b_zscores) > 0:\n",
    "        pearson_setA_long = pearson_setA_long.append(pd.Series({\"RBP\": task, \"Metric\": \"Z-score\", \"Pearson\": pearsonr(a_zscores, b_zscores)[0]}), ignore_index=True)\n",
    "        spearman_setA_long = spearman_setA_long.append(pd.Series({\"RBP\": task, \"Metric\": \"Z-score\", \"Spearman\": spearmanr(a_zscores, b_zscores)[0]}), ignore_index=True)\n",
    "\n",
    "    auc_nan_mask = np.isnan(a_aucs) | np.isnan(b_aucs)\n",
    "    a_aucs = a_aucs[~auc_nan_mask]\n",
    "    b_aucs = b_aucs[~auc_nan_mask]\n",
    "    if len(a_aucs) > 0 and len(b_aucs) > 0:\n",
    "        pearson_setA_long = pearson_setA_long.append(pd.Series({\"RBP\": task, \"Metric\": \"AUC\", \"Pearson\": pearsonr(a_aucs, b_aucs)[0]}), ignore_index=True)\n",
    "        spearman_setA_long = spearman_setA_long.append(pd.Series({\"RBP\": task, \"Metric\": \"AUC\", \"Spearman\": spearmanr(a_aucs, b_aucs)[0]}), ignore_index=True)\n",
    "    \n",
    "    escore_nan_mask = np.isnan(a_escores) | np.isnan(b_escores)\n",
    "    a_escores = a_escores[~escore_nan_mask]\n",
    "    b_escores = b_escores[~escore_nan_mask]\n",
    "    if len(a_escores) > 0 and len(b_escores) > 0:\n",
    "        pearson_setA_long = pearson_setA_long.append(pd.Series({\"RBP\": task, \"Metric\": \"E-score\", \"Pearson\": pearsonr(a_escores, b_escores)[0]}), ignore_index=True)\n",
    "        spearman_setA_long = spearman_setA_long.append(pd.Series({\"RBP\": task, \"Metric\": \"E-score\", \"Spearman\": spearmanr(a_escores, b_escores)[0]}), ignore_index=True)\n",
    "\n",
    "pearson_setA_long[\"Model\"] = \"SetA\"\n",
    "spearman_setA_long[\"Model\"] = \"SetA\""
   ]
  },
  {
   "cell_type": "code",
   "execution_count": 9,
   "id": "d11c20e7",
   "metadata": {
    "vscode": {
     "languageId": "python"
    }
   },
   "outputs": [],
   "source": [
    "# Memory cleanup\n",
    "del a_presence_absence"
   ]
  },
  {
   "cell_type": "code",
   "execution_count": 25,
   "id": "85ae167d",
   "metadata": {
    "execution": {
     "iopub.execute_input": "2022-09-05T17:53:34.642279Z",
     "iopub.status.busy": "2022-09-05T17:53:34.641771Z",
     "iopub.status.idle": "2022-09-05T17:53:41.999394Z",
     "shell.execute_reply": "2022-09-05T17:53:41.998405Z",
     "shell.execute_reply.started": "2022-09-05T17:53:34.642245Z"
    },
    "vscode": {
     "languageId": "python"
    }
   },
   "outputs": [
    {
     "data": {
      "image/png": "[encoded data removed]",
      "text/plain": [
       "<Figure size 576x288 with 2 Axes>"
      ]
     },
     "metadata": {
      "needs_background": "light"
     },
     "output_type": "display_data"
    }
   ],
   "source": [
    "# Plot just the SetA results \n",
    "fig, ax = plt.subplots(1, 2, figsize=(8, 4))\n",
    "sns.boxplot(data=pearson_setA_long, x=\"Metric\", y=\"Pearson\", color=\"green\", ax=ax[0])\n",
    "sns.boxplot(data=spearman_setA_long, x=\"Metric\", y=\"Spearman\", color=\"green\", ax=ax[1])\n",
    "plt.tight_layout()\n",
    "plt.savefig(os.path.join(figure_dir, \"correlation_boxplots_setA.pdf\"))"
   ]
  },
  {
   "cell_type": "markdown",
   "id": "c10790af",
   "metadata": {},
   "source": [
    "## Single-task model evaluation "
   ]
  },
  {
   "cell_type": "code",
   "execution_count": 56,
   "id": "54475a73",
   "metadata": {
    "execution": {
     "iopub.execute_input": "2022-09-05T18:32:47.662327Z",
     "iopub.status.busy": "2022-09-05T18:32:47.661848Z",
     "iopub.status.idle": "2022-09-05T18:35:53.323740Z",
     "shell.execute_reply": "2022-09-05T18:35:53.322556Z",
     "shell.execute_reply.started": "2022-09-05T18:32:47.662293Z"
    },
    "tags": [],
    "vscode": {
     "languageId": "python"
    }
   },
   "outputs": [
    {
     "name": "stdout",
     "output_type": "stream",
     "text": [
      "Testing DeepBind SingleTask model on RNCMPT00001\n",
      "No transforms given, assuming just need to tensorize).\n"
     ]
    },
    {
     "name": "stderr",
     "output_type": "stream",
     "text": [
      "GPU available: False, used: False\n",
      "TPU available: False, using: 0 TPU cores\n",
      "IPU available: False, using: 0 IPUs\n"
     ]
    },
    {
     "data": {
      "application/vnd.jupyter.widget-view+json": {
       "model_id": "d8e3208e26dc46e8b26643387536d256",
       "version_major": 2,
       "version_minor": 0
      },
      "text/plain": [
       "Predicting: 0it [00:00, ?it/s]"
      ]
     },
     "metadata": {},
     "output_type": "display_data"
    },
    {
     "name": "stdout",
     "output_type": "stream",
     "text": [
      "Testing DeepBind SingleTask model on RNCMPT00002\n",
      "No transforms given, assuming just need to tensorize).\n"
     ]
    },
    {
     "name": "stderr",
     "output_type": "stream",
     "text": [
      "GPU available: False, used: False\n",
      "TPU available: False, using: 0 TPU cores\n",
      "IPU available: False, using: 0 IPUs\n"
     ]
    },
    {
     "data": {
      "application/vnd.jupyter.widget-view+json": {
       "model_id": "98d906ad120647459fd02af798469bd5",
       "version_major": 2,
       "version_minor": 0
      },
      "text/plain": [
       "Predicting: 0it [00:00, ?it/s]"
      ]
     },
     "metadata": {},
     "output_type": "display_data"
    },
    {
     "name": "stdout",
     "output_type": "stream",
     "text": [
      "Testing DeepBind SingleTask model on RNCMPT00003\n",
      "No transforms given, assuming just need to tensorize).\n"
     ]
    },
    {
     "name": "stderr",
     "output_type": "stream",
     "text": [
      "GPU available: False, used: False\n",
      "TPU available: False, using: 0 TPU cores\n",
      "IPU available: False, using: 0 IPUs\n"
     ]
    },
    {
     "data": {
      "application/vnd.jupyter.widget-view+json": {
       "model_id": "57a6319250894c8cadbfe9b8ab2e0603",
       "version_major": 2,
       "version_minor": 0
      },
      "text/plain": [
       "Predicting: 0it [00:00, ?it/s]"
      ]
     },
     "metadata": {},
     "output_type": "display_data"
    },
    {
     "name": "stdout",
     "output_type": "stream",
     "text": [
      "Testing DeepBind SingleTask model on RNCMPT00004\n",
      "No transforms given, assuming just need to tensorize).\n"
     ]
    },
    {
     "name": "stderr",
     "output_type": "stream",
     "text": [
      "GPU available: False, used: False\n",
      "TPU available: False, using: 0 TPU cores\n",
      "IPU available: False, using: 0 IPUs\n"
     ]
    },
    {
     "data": {
      "application/vnd.jupyter.widget-view+json": {
       "model_id": "71e2cc23c1594d80876ef439a79e8c51",
       "version_major": 2,
       "version_minor": 0
      },
      "text/plain": [
       "Predicting: 0it [00:00, ?it/s]"
      ]
     },
     "metadata": {},
     "output_type": "display_data"
    },
    {
     "name": "stdout",
     "output_type": "stream",
     "text": [
      "Testing DeepBind SingleTask model on RNCMPT00005\n",
      "No transforms given, assuming just need to tensorize).\n"
     ]
    },
    {
     "name": "stderr",
     "output_type": "stream",
     "text": [
      "GPU available: False, used: False\n",
      "TPU available: False, using: 0 TPU cores\n",
      "IPU available: False, using: 0 IPUs\n"
     ]
    },
    {
     "data": {
      "application/vnd.jupyter.widget-view+json": {
       "model_id": "457812a29a2846cd88ba2ab7ae23778e",
       "version_major": 2,
       "version_minor": 0
      },
      "text/plain": [
       "Predicting: 0it [00:00, ?it/s]"
      ]
     },
     "metadata": {},
     "output_type": "display_data"
    },
    {
     "name": "stdout",
     "output_type": "stream",
     "text": [
      "Testing DeepBind SingleTask model on RNCMPT00006\n",
      "No model trained for RNCMPT00006\n",
      "Testing DeepBind SingleTask model on RNCMPT00007\n",
      "No transforms given, assuming just need to tensorize).\n"
     ]
    },
    {
     "name": "stderr",
     "output_type": "stream",
     "text": [
      "GPU available: False, used: False\n",
      "TPU available: False, using: 0 TPU cores\n",
      "IPU available: False, using: 0 IPUs\n"
     ]
    },
    {
     "data": {
      "application/vnd.jupyter.widget-view+json": {
       "model_id": "ba398942fb4a44ea91f2405389ec7840",
       "version_major": 2,
       "version_minor": 0
      },
      "text/plain": [
       "Predicting: 0it [00:00, ?it/s]"
      ]
     },
     "metadata": {},
     "output_type": "display_data"
    },
    {
     "name": "stdout",
     "output_type": "stream",
     "text": [
      "SeqData object modified:\n",
      "    seqs_annot:\n",
      "        + RNCMPT00007_predictions_ST\n",
      "Testing DeepBind SingleTask model on RNCMPT00008\n",
      "No transforms given, assuming just need to tensorize).\n"
     ]
    },
    {
     "name": "stderr",
     "output_type": "stream",
     "text": [
      "GPU available: False, used: False\n",
      "TPU available: False, using: 0 TPU cores\n",
      "IPU available: False, using: 0 IPUs\n"
     ]
    },
    {
     "data": {
      "application/vnd.jupyter.widget-view+json": {
       "model_id": "d193738e9a7a403cb50857e1dc3da188",
       "version_major": 2,
       "version_minor": 0
      },
      "text/plain": [
       "Predicting: 0it [00:00, ?it/s]"
      ]
     },
     "metadata": {},
     "output_type": "display_data"
    },
    {
     "name": "stdout",
     "output_type": "stream",
     "text": [
      "SeqData object modified:\n",
      "    seqs_annot:\n",
      "        + RNCMPT00008_predictions_ST\n",
      "Testing DeepBind SingleTask model on RNCMPT00009\n",
      "No transforms given, assuming just need to tensorize).\n"
     ]
    },
    {
     "name": "stderr",
     "output_type": "stream",
     "text": [
      "GPU available: False, used: False\n",
      "TPU available: False, using: 0 TPU cores\n",
      "IPU available: False, using: 0 IPUs\n"
     ]
    },
    {
     "data": {
      "application/vnd.jupyter.widget-view+json": {
       "model_id": "918ed5ac099e4010936b36961498f087",
       "version_major": 2,
       "version_minor": 0
      },
      "text/plain": [
       "Predicting: 0it [00:00, ?it/s]"
      ]
     },
     "metadata": {},
     "output_type": "display_data"
    },
    {
     "name": "stdout",
     "output_type": "stream",
     "text": [
      "SeqData object modified:\n",
      "    seqs_annot:\n",
      "        + RNCMPT00009_predictions_ST\n",
      "Testing DeepBind SingleTask model on RNCMPT00010\n",
      "No model trained for RNCMPT00010\n",
      "Testing DeepBind SingleTask model on RNCMPT00011\n",
      "No transforms given, assuming just need to tensorize).\n"
     ]
    },
    {
     "name": "stderr",
     "output_type": "stream",
     "text": [
      "GPU available: False, used: False\n",
      "TPU available: False, using: 0 TPU cores\n",
      "IPU available: False, using: 0 IPUs\n"
     ]
    },
    {
     "data": {
      "application/vnd.jupyter.widget-view+json": {
       "model_id": "81bb36adbc234813a313fd9b2a3c280c",
       "version_major": 2,
       "version_minor": 0
      },
      "text/plain": [
       "Predicting: 0it [00:00, ?it/s]"
      ]
     },
     "metadata": {},
     "output_type": "display_data"
    },
    {
     "name": "stdout",
     "output_type": "stream",
     "text": [
      "SeqData object modified:\n",
      "    seqs_annot:\n",
      "        + RNCMPT00011_predictions_ST\n",
      "Testing DeepBind SingleTask model on RNCMPT00012\n",
      "No transforms given, assuming just need to tensorize).\n"
     ]
    },
    {
     "name": "stderr",
     "output_type": "stream",
     "text": [
      "GPU available: False, used: False\n",
      "TPU available: False, using: 0 TPU cores\n",
      "IPU available: False, using: 0 IPUs\n"
     ]
    },
    {
     "data": {
      "application/vnd.jupyter.widget-view+json": {
       "model_id": "27628ccda173476fb2db97d429ba3103",
       "version_major": 2,
       "version_minor": 0
      },
      "text/plain": [
       "Predicting: 0it [00:00, ?it/s]"
      ]
     },
     "metadata": {},
     "output_type": "display_data"
    },
    {
     "name": "stdout",
     "output_type": "stream",
     "text": [
      "SeqData object modified:\n",
      "    seqs_annot:\n",
      "        + RNCMPT00012_predictions_ST\n",
      "Testing DeepBind SingleTask model on RNCMPT00013\n",
      "No transforms given, assuming just need to tensorize).\n"
     ]
    },
    {
     "name": "stderr",
     "output_type": "stream",
     "text": [
      "GPU available: False, used: False\n",
      "TPU available: False, using: 0 TPU cores\n",
      "IPU available: False, using: 0 IPUs\n"
     ]
    },
    {
     "data": {
      "application/vnd.jupyter.widget-view+json": {
       "model_id": "b256ebc0c7a6497c8c58143bd44ad7c9",
       "version_major": 2,
       "version_minor": 0
      },
      "text/plain": [
       "Predicting: 0it [00:00, ?it/s]"
      ]
     },
     "metadata": {},
     "output_type": "display_data"
    },
    {
     "name": "stdout",
     "output_type": "stream",
     "text": [
      "SeqData object modified:\n",
      "    seqs_annot:\n",
      "        + RNCMPT00013_predictions_ST\n",
      "Testing DeepBind SingleTask model on RNCMPT00014\n",
      "No transforms given, assuming just need to tensorize).\n"
     ]
    },
    {
     "name": "stderr",
     "output_type": "stream",
     "text": [
      "GPU available: False, used: False\n",
      "TPU available: False, using: 0 TPU cores\n",
      "IPU available: False, using: 0 IPUs\n"
     ]
    },
    {
     "data": {
      "application/vnd.jupyter.widget-view+json": {
       "model_id": "fda84452534344ccbedc83f187bc8a6c",
       "version_major": 2,
       "version_minor": 0
      },
      "text/plain": [
       "Predicting: 0it [00:00, ?it/s]"
      ]
     },
     "metadata": {},
     "output_type": "display_data"
    },
    {
     "name": "stdout",
     "output_type": "stream",
     "text": [
      "SeqData object modified:\n",
      "    seqs_annot:\n",
      "        + RNCMPT00014_predictions_ST\n",
      "Testing DeepBind SingleTask model on RNCMPT00015\n",
      "No transforms given, assuming just need to tensorize).\n"
     ]
    },
    {
     "name": "stderr",
     "output_type": "stream",
     "text": [
      "GPU available: False, used: False\n",
      "TPU available: False, using: 0 TPU cores\n",
      "IPU available: False, using: 0 IPUs\n"
     ]
    },
    {
     "data": {
      "application/vnd.jupyter.widget-view+json": {
       "model_id": "8eaccb58bbf943eb9aca245f6a186ab4",
       "version_major": 2,
       "version_minor": 0
      },
      "text/plain": [
       "Predicting: 0it [00:00, ?it/s]"
      ]
     },
     "metadata": {},
     "output_type": "display_data"
    },
    {
     "name": "stdout",
     "output_type": "stream",
     "text": [
      "SeqData object modified:\n",
      "    seqs_annot:\n",
      "        + RNCMPT00015_predictions_ST\n",
      "Testing DeepBind SingleTask model on RNCMPT00016\n",
      "No transforms given, assuming just need to tensorize).\n"
     ]
    },
    {
     "name": "stderr",
     "output_type": "stream",
     "text": [
      "GPU available: False, used: False\n",
      "TPU available: False, using: 0 TPU cores\n",
      "IPU available: False, using: 0 IPUs\n"
     ]
    },
    {
     "data": {
      "application/vnd.jupyter.widget-view+json": {
       "model_id": "d36d56cc988c4393beba2ba7abf15898",
       "version_major": 2,
       "version_minor": 0
      },
      "text/plain": [
       "Predicting: 0it [00:00, ?it/s]"
      ]
     },
     "metadata": {},
     "output_type": "display_data"
    },
    {
     "name": "stdout",
     "output_type": "stream",
     "text": [
      "SeqData object modified:\n",
      "    seqs_annot:\n",
      "        + RNCMPT00016_predictions_ST\n",
      "Testing DeepBind SingleTask model on RNCMPT00017\n",
      "No transforms given, assuming just need to tensorize).\n"
     ]
    },
    {
     "name": "stderr",
     "output_type": "stream",
     "text": [
      "GPU available: False, used: False\n",
      "TPU available: False, using: 0 TPU cores\n",
      "IPU available: False, using: 0 IPUs\n"
     ]
    },
    {
     "data": {
      "application/vnd.jupyter.widget-view+json": {
       "model_id": "472351c413724eaf9e53a5515623eb92",
       "version_major": 2,
       "version_minor": 0
      },
      "text/plain": [
       "Predicting: 0it [00:00, ?it/s]"
      ]
     },
     "metadata": {},
     "output_type": "display_data"
    },
    {
     "name": "stdout",
     "output_type": "stream",
     "text": [
      "SeqData object modified:\n",
      "    seqs_annot:\n",
      "        + RNCMPT00017_predictions_ST\n",
      "Testing DeepBind SingleTask model on RNCMPT00018\n",
      "No transforms given, assuming just need to tensorize).\n"
     ]
    },
    {
     "name": "stderr",
     "output_type": "stream",
     "text": [
      "GPU available: False, used: False\n",
      "TPU available: False, using: 0 TPU cores\n",
      "IPU available: False, using: 0 IPUs\n"
     ]
    },
    {
     "data": {
      "application/vnd.jupyter.widget-view+json": {
       "model_id": "ff1bc794b9b6477fba90a3da604abcb5",
       "version_major": 2,
       "version_minor": 0
      },
      "text/plain": [
       "Predicting: 0it [00:00, ?it/s]"
      ]
     },
     "metadata": {},
     "output_type": "display_data"
    },
    {
     "name": "stdout",
     "output_type": "stream",
     "text": [
      "SeqData object modified:\n",
      "    seqs_annot:\n",
      "        + RNCMPT00018_predictions_ST\n",
      "Testing DeepBind SingleTask model on RNCMPT00019\n",
      "No transforms given, assuming just need to tensorize).\n"
     ]
    },
    {
     "name": "stderr",
     "output_type": "stream",
     "text": [
      "GPU available: False, used: False\n",
      "TPU available: False, using: 0 TPU cores\n",
      "IPU available: False, using: 0 IPUs\n"
     ]
    },
    {
     "data": {
      "application/vnd.jupyter.widget-view+json": {
       "model_id": "f9df0ff2eb6f43da9b54931eead872a3",
       "version_major": 2,
       "version_minor": 0
      },
      "text/plain": [
       "Predicting: 0it [00:00, ?it/s]"
      ]
     },
     "metadata": {},
     "output_type": "display_data"
    },
    {
     "name": "stdout",
     "output_type": "stream",
     "text": [
      "SeqData object modified:\n",
      "    seqs_annot:\n",
      "        + RNCMPT00019_predictions_ST\n",
      "Testing DeepBind SingleTask model on RNCMPT00020\n",
      "No transforms given, assuming just need to tensorize).\n"
     ]
    },
    {
     "name": "stderr",
     "output_type": "stream",
     "text": [
      "GPU available: False, used: False\n",
      "TPU available: False, using: 0 TPU cores\n",
      "IPU available: False, using: 0 IPUs\n"
     ]
    },
    {
     "data": {
      "application/vnd.jupyter.widget-view+json": {
       "model_id": "259fdb0251aa4c7bb050c2fa5e64a5ec",
       "version_major": 2,
       "version_minor": 0
      },
      "text/plain": [
       "Predicting: 0it [00:00, ?it/s]"
      ]
     },
     "metadata": {},
     "output_type": "display_data"
    },
    {
     "name": "stdout",
     "output_type": "stream",
     "text": [
      "SeqData object modified:\n",
      "    seqs_annot:\n",
      "        + RNCMPT00020_predictions_ST\n"
     ]
    }
   ],
   "source": [
    "# Get predictions on the test data from all single task models\n",
    "for i, target_col in enumerate(target_cols[:20]):\n",
    "    print(f\"Testing DeepBind SingleTask model on {target_col}\")\n",
    "    try:\n",
    "        model_file = glob.glob(os.path.join(eu.settings.logging_dir, \"DeepBind_ST\", target_col, \"checkpoints\", \"*\"))[0]\n",
    "        model = eu.models.DeepBind.load_from_checkpoint(model_file)\n",
    "    except:\n",
    "        print(f\"No model trained for {target_col}\")\n",
    "        continue\n",
    "    eu.settings.dl_num_workers = 0\n",
    "    eu.predict.predictions(\n",
    "        model,\n",
    "        sdata=sdata_test, \n",
    "        target=target_col,\n",
    "        name=\"DeepBind_ST\",\n",
    "        version=target_col,\n",
    "        file_label=\"test\",\n",
    "        suffix=\"_ST\"\n",
    "    )\n",
    "    del model"
   ]
  },
  {
   "cell_type": "code",
   "execution_count": 29,
   "id": "6891dd20",
   "metadata": {
    "execution": {
     "iopub.execute_input": "2022-09-05T17:55:19.635892Z",
     "iopub.status.busy": "2022-09-05T17:55:19.635410Z",
     "iopub.status.idle": "2022-09-05T17:58:16.025658Z",
     "shell.execute_reply": "2022-09-05T17:58:16.023980Z",
     "shell.execute_reply.started": "2022-09-05T17:55:19.635860Z"
    },
    "tags": [],
    "vscode": {
     "languageId": "python"
    }
   },
   "outputs": [
    {
     "data": {
      "application/vnd.jupyter.widget-view+json": {
       "model_id": "f58ea909b6d14baa81a29998cc0c4490",
       "version_major": 2,
       "version_minor": 0
      },
      "text/plain": [
       "Evaluating probes:   0%|          | 0/3 [00:00<?, ?it/s]"
      ]
     },
     "metadata": {},
     "output_type": "display_data"
    },
    {
     "data": {
      "application/vnd.jupyter.widget-view+json": {
       "model_id": "c0ef385476594b0a9ec217afdd9f50c0",
       "version_major": 2,
       "version_minor": 0
      },
      "text/plain": [
       "  0%|          | 0/100 [00:00<?, ?it/s]"
      ]
     },
     "metadata": {},
     "output_type": "display_data"
    },
    {
     "data": {
      "application/vnd.jupyter.widget-view+json": {
       "model_id": "66edae5eb5df47729409c547be581530",
       "version_major": 2,
       "version_minor": 0
      },
      "text/plain": [
       "  0%|          | 0/100 [00:00<?, ?it/s]"
      ]
     },
     "metadata": {},
     "output_type": "display_data"
    },
    {
     "data": {
      "application/vnd.jupyter.widget-view+json": {
       "model_id": "3f53be3ac9604e1fb2cbb1dfa35a13c7",
       "version_major": 2,
       "version_minor": 0
      },
      "text/plain": [
       "  0%|          | 0/100 [00:00<?, ?it/s]"
      ]
     },
     "metadata": {},
     "output_type": "display_data"
    },
    {
     "data": {
      "application/vnd.jupyter.widget-view+json": {
       "model_id": "700801836ef848d2a4b36b10bafdc6e2",
       "version_major": 2,
       "version_minor": 0
      },
      "text/plain": [
       "  0%|          | 0/100 [00:00<?, ?it/s]"
      ]
     },
     "metadata": {},
     "output_type": "display_data"
    },
    {
     "data": {
      "application/vnd.jupyter.widget-view+json": {
       "model_id": "832dfc79b5c240aebd5ebecd08798f62",
       "version_major": 2,
       "version_minor": 0
      },
      "text/plain": [
       "  0%|          | 0/100 [00:00<?, ?it/s]"
      ]
     },
     "metadata": {},
     "output_type": "display_data"
    },
    {
     "data": {
      "application/vnd.jupyter.widget-view+json": {
       "model_id": "2d471c9a295b4c92915c76c35bb9af89",
       "version_major": 2,
       "version_minor": 0
      },
      "text/plain": [
       "  0%|          | 0/100 [00:00<?, ?it/s]"
      ]
     },
     "metadata": {},
     "output_type": "display_data"
    }
   ],
   "source": [
    "# Get evaluation metrics for all single task models and format for plotting\n",
    "pearson_ST_df, spearman_ST_df = eu.predict.summarize_rbps_apply(sdata_test, b_presence_absence, target_cols[:3], use_calc_auc=True, verbose=True, n_kmers=100, preds_suffix=\"_predictions_ST\")\n",
    "pearson_ST_long = pearson_ST_df.reset_index().melt(id_vars=\"index\", value_name=\"Pearson\", var_name=\"Metric\").rename({\"index\":\"RBP\"}, axis=1)\n",
    "spearman_ST_long = spearman_ST_df.reset_index().melt(id_vars=\"index\", value_name=\"Spearman\", var_name=\"Metric\").rename({\"index\":\"RBP\"}, axis=1)\n",
    "pearson_ST_long[\"Model\"] = \"SingleTask\"\n",
    "spearman_ST_long[\"Model\"] = \"SingleTask\""
   ]
  },
  {
   "cell_type": "code",
   "execution_count": 30,
   "id": "2366f7ee",
   "metadata": {
    "execution": {
     "iopub.execute_input": "2022-09-05T17:58:21.113789Z",
     "iopub.status.busy": "2022-09-05T17:58:21.113311Z",
     "iopub.status.idle": "2022-09-05T17:58:26.091159Z",
     "shell.execute_reply": "2022-09-05T17:58:26.090167Z",
     "shell.execute_reply.started": "2022-09-05T17:58:21.113755Z"
    },
    "vscode": {
     "languageId": "python"
    }
   },
   "outputs": [
    {
     "data": {
      "image/png": "[encoded data removed]",
      "text/plain": [
       "<Figure size 576x288 with 2 Axes>"
      ]
     },
     "metadata": {
      "needs_background": "light"
     },
     "output_type": "display_data"
    }
   ],
   "source": [
    "# Plot just the single task model eval\n",
    "fig, ax = plt.subplots(1, 2, figsize=(8, 4))\n",
    "sns.boxplot(data=pearson_ST_long, x=\"Metric\", y=\"Pearson\", color=\"red\", ax=ax[0])\n",
    "sns.boxplot(data=spearman_ST_long, x=\"Metric\", y=\"Spearman\", color=\"red\", ax=ax[1])\n",
    "plt.tight_layout()\n",
    "plt.savefig(os.path.join(figure_dir, \"correlation_boxplots_ST.pdf\"))"
   ]
  },
  {
   "cell_type": "markdown",
   "id": "69f3fdc1",
   "metadata": {},
   "source": [
    "## Multitask model evaluation"
   ]
  },
  {
   "cell_type": "code",
   "execution_count": 35,
   "id": "902efa40",
   "metadata": {
    "execution": {
     "iopub.execute_input": "2022-09-05T17:59:33.140750Z",
     "iopub.status.busy": "2022-09-05T17:59:33.140216Z",
     "iopub.status.idle": "2022-09-05T17:59:35.308544Z",
     "shell.execute_reply": "2022-09-05T17:59:35.307573Z",
     "shell.execute_reply.started": "2022-09-05T17:59:33.140718Z"
    },
    "tags": [],
    "vscode": {
     "languageId": "python"
    }
   },
   "outputs": [
    {
     "data": {
      "text/plain": [
       "233"
      ]
     },
     "execution_count": 35,
     "metadata": {},
     "output_type": "execute_result"
    }
   ],
   "source": [
    "# Also need the multi-task columns (single task we could train on all the columns)\n",
    "sdata_training = eu.dl.read_h5sd(os.path.join(eu.settings.dataset_dir, eu.settings.dataset_dir, \"norm_setA_sub_MT.h5sd\"))\n",
    "target_mask_MT = sdata_training.seqs_annot.columns.str.contains(\"RNCMPT\")\n",
    "target_cols_MT = sdata_training.seqs_annot.columns[target_mask_MT]\n",
    "del sdata_training\n",
    "len(target_cols_MT)"
   ]
  },
  {
   "cell_type": "code",
   "execution_count": 36,
   "id": "4fb9c79f",
   "metadata": {
    "execution": {
     "iopub.execute_input": "2022-09-05T17:59:36.483603Z",
     "iopub.status.busy": "2022-09-05T17:59:36.483143Z",
     "iopub.status.idle": "2022-09-05T18:01:23.465110Z",
     "shell.execute_reply": "2022-09-05T18:01:23.463937Z",
     "shell.execute_reply.started": "2022-09-05T17:59:36.483570Z"
    },
    "tags": [],
    "vscode": {
     "languageId": "python"
    }
   },
   "outputs": [
    {
     "name": "stdout",
     "output_type": "stream",
     "text": [
      "Testing DeepBind MultiTask model on\n",
      "No transforms given, assuming just need to tensorize).\n"
     ]
    },
    {
     "name": "stderr",
     "output_type": "stream",
     "text": [
      "GPU available: False, used: False\n",
      "TPU available: False, using: 0 TPU cores\n",
      "IPU available: False, using: 0 IPUs\n",
      "/cellar/users/aklie/opt/miniconda3/envs/eugene_dev/lib/python3.7/site-packages/pytorch_lightning/trainer/data_loading.py:133: UserWarning: The dataloader, predict_dataloader 0, does not have many workers which may be a bottleneck. Consider increasing the value of the `num_workers` argument` (try 96 which is the number of cpus on this machine) in the `DataLoader` init to improve performance.\n",
      "  f\"The dataloader, {name}, does not have many workers which may be a bottleneck.\"\n"
     ]
    },
    {
     "data": {
      "application/vnd.jupyter.widget-view+json": {
       "model_id": "8f21c0b5468d49d2b3613a9737f8155e",
       "version_major": 2,
       "version_minor": 0
      },
      "text/plain": [
       "Predicting: 0it [00:00, ?it/s]"
      ]
     },
     "metadata": {},
     "output_type": "display_data"
    },
    {
     "name": "stderr",
     "output_type": "stream",
     "text": [
      "/cellar/users/aklie/opt/miniconda3/envs/eugene_dev/lib/python3.7/site-packages/pandas/core/frame.py:3636: PerformanceWarning: DataFrame is highly fragmented.  This is usually the result of calling `frame.insert` many times, which has poor performance.  Consider using pd.concat instead.  To get a de-fragmented frame, use `newframe = frame.copy()`\n",
      "  self[k1] = value[k2]\n"
     ]
    },
    {
     "name": "stdout",
     "output_type": "stream",
     "text": [
      "SeqData object modified:\n",
      "    seqs_annot:\n",
      "        + RNCMPT00187_predictions_MT, RNCMPT00138_predictions_MT, RNCMPT00073_predictions_MT, RNCMPT00117_predictions_MT, RNCMPT00197_predictions_MT, RNCMPT00076_predictions_MT, RNCMPT00139_predictions_MT, RNCMPT00265_predictions_MT, RNCMPT00285_predictions_MT, RNCMPT00284_predictions_MT, RNCMPT00012_predictions_MT, RNCMPT00121_predictions_MT, RNCMPT00291_predictions_MT, RNCMPT00056_predictions_MT, RNCMPT00143_predictions_MT, RNCMPT00091_predictions_MT, RNCMPT00111_predictions_MT, RNCMPT00241_predictions_MT, RNCMPT00239_predictions_MT, RNCMPT00068_predictions_MT, RNCMPT00086_predictions_MT, RNCMPT00236_predictions_MT, RNCMPT00023_predictions_MT, RNCMPT00090_predictions_MT, RNCMPT00057_predictions_MT, RNCMPT00219_predictions_MT, RNCMPT00010_predictions_MT, RNCMPT00175_predictions_MT, RNCMPT00203_predictions_MT, RNCMPT00226_predictions_MT, RNCMPT00258_predictions_MT, RNCMPT00038_predictions_MT, RNCMPT00289_predictions_MT, RNCMPT00184_predictions_MT, RNCMPT00256_predictions_MT, RNCMPT00029_predictions_MT, RNCMPT00110_predictions_MT, RNCMPT00083_predictions_MT, RNCMPT00051_predictions_MT, RNCMPT00069_predictions_MT, RNCMPT00253_predictions_MT, RNCMPT00006_predictions_MT, RNCMPT00170_predictions_MT, RNCMPT00094_predictions_MT, RNCMPT00157_predictions_MT, RNCMPT00259_predictions_MT, RNCMPT00132_predictions_MT, RNCMPT00112_predictions_MT, RNCMPT00037_predictions_MT, RNCMPT00080_predictions_MT, RNCMPT00257_predictions_MT, RNCMPT00215_predictions_MT, RNCMPT00240_predictions_MT, RNCMPT00095_predictions_MT, RNCMPT00150_predictions_MT, RNCMPT00067_predictions_MT, RNCMPT00230_predictions_MT, RNCMPT00126_predictions_MT, RNCMPT00052_predictions_MT, RNCMPT00178_predictions_MT, RNCMPT00183_predictions_MT, RNCMPT00007_predictions_MT, RNCMPT00026_predictions_MT, RNCMPT00251_predictions_MT, RNCMPT00059_predictions_MT, RNCMPT00218_predictions_MT, RNCMPT00166_predictions_MT, RNCMPT00172_predictions_MT, RNCMPT00087_predictions_MT, RNCMPT00003_predictions_MT, RNCMPT00082_predictions_MT, RNCMPT00046_predictions_MT, RNCMPT00136_predictions_MT, RNCMPT00103_predictions_MT, RNCMPT00232_predictions_MT, RNCMPT00281_predictions_MT, RNCMPT00079_predictions_MT, RNCMPT00066_predictions_MT, RNCMPT00036_predictions_MT, RNCMPT00114_predictions_MT, RNCMPT00186_predictions_MT, RNCMPT00169_predictions_MT, RNCMPT00084_predictions_MT, RNCMPT00027_predictions_MT, RNCMPT00134_predictions_MT, RNCMPT00004_predictions_MT, RNCMPT00220_predictions_MT, RNCMPT00149_predictions_MT, RNCMPT00017_predictions_MT, RNCMPT00099_predictions_MT, RNCMPT00070_predictions_MT, RNCMPT00065_predictions_MT, RNCMPT00171_predictions_MT, RNCMPT00160_predictions_MT, RNCMPT00209_predictions_MT, RNCMPT00033_predictions_MT, RNCMPT00018_predictions_MT, RNCMPT00034_predictions_MT, RNCMPT00063_predictions_MT, RNCMPT00173_predictions_MT, RNCMPT00072_predictions_MT, RNCMPT00185_predictions_MT, RNCMPT00021_predictions_MT, RNCMPT00123_predictions_MT, RNCMPT00272_predictions_MT, RNCMPT00053_predictions_MT, RNCMPT00088_predictions_MT, RNCMPT00035_predictions_MT, RNCMPT00049_predictions_MT, RNCMPT00024_predictions_MT, RNCMPT00137_predictions_MT, RNCMPT00177_predictions_MT, RNCMPT00107_predictions_MT, RNCMPT00174_predictions_MT, RNCMPT00180_predictions_MT, RNCMPT00235_predictions_MT, RNCMPT00202_predictions_MT, RNCMPT00055_predictions_MT, RNCMPT00101_predictions_MT, RNCMPT00081_predictions_MT, RNCMPT00109_predictions_MT, RNCMPT00206_predictions_MT, RNCMPT00252_predictions_MT, RNCMPT00212_predictions_MT, RNCMPT00118_predictions_MT, RNCMPT00249_predictions_MT, RNCMPT00237_predictions_MT, RNCMPT00158_predictions_MT, RNCMPT00205_predictions_MT, RNCMPT00022_predictions_MT, RNCMPT00011_predictions_MT, RNCMPT00156_predictions_MT, RNCMPT00054_predictions_MT, RNCMPT00255_predictions_MT, RNCMPT00181_predictions_MT, RNCMPT00140_predictions_MT, RNCMPT00179_predictions_MT, RNCMPT00224_predictions_MT, RNCMPT00001_predictions_MT, RNCMPT00113_predictions_MT, RNCMPT00164_predictions_MT, RNCMPT00246_predictions_MT, RNCMPT00071_predictions_MT, RNCMPT00100_predictions_MT, RNCMPT00217_predictions_MT, RNCMPT00238_predictions_MT, RNCMPT00014_predictions_MT, RNCMPT00176_predictions_MT, RNCMPT00028_predictions_MT, RNCMPT00093_predictions_MT, RNCMPT00102_predictions_MT, RNCMPT00248_predictions_MT, RNCMPT00078_predictions_MT, RNCMPT00064_predictions_MT, RNCMPT00025_predictions_MT, RNCMPT00282_predictions_MT, RNCMPT00167_predictions_MT, RNCMPT00122_predictions_MT, RNCMPT00155_predictions_MT, RNCMPT00225_predictions_MT, RNCMPT00152_predictions_MT, RNCMPT00077_predictions_MT, RNCMPT00280_predictions_MT, RNCMPT00279_predictions_MT, RNCMPT00200_predictions_MT, RNCMPT00042_predictions_MT, RNCMPT00163_predictions_MT, RNCMPT00041_predictions_MT, RNCMPT00216_predictions_MT, RNCMPT00032_predictions_MT, RNCMPT00047_predictions_MT, RNCMPT00096_predictions_MT, RNCMPT00040_predictions_MT, RNCMPT00245_predictions_MT, RNCMPT00261_predictions_MT, RNCMPT00108_predictions_MT, RNCMPT00074_predictions_MT, RNCMPT00142_predictions_MT, RNCMPT00162_predictions_MT, RNCMPT00031_predictions_MT, RNCMPT00199_predictions_MT, RNCMPT00182_predictions_MT, RNCMPT00005_predictions_MT, RNCMPT00147_predictions_MT, RNCMPT00127_predictions_MT, RNCMPT00116_predictions_MT, RNCMPT00106_predictions_MT, RNCMPT00268_predictions_MT, RNCMPT00165_predictions_MT, RNCMPT00050_predictions_MT, RNCMPT00013_predictions_MT, RNCMPT00124_predictions_MT, RNCMPT00043_predictions_MT, RNCMPT00283_predictions_MT, RNCMPT00016_predictions_MT, RNCMPT00075_predictions_MT, RNCMPT00270_predictions_MT, RNCMPT00141_predictions_MT, RNCMPT00146_predictions_MT, RNCMPT00062_predictions_MT, RNCMPT00229_predictions_MT, RNCMPT00254_predictions_MT, RNCMPT00168_predictions_MT, RNCMPT00269_predictions_MT, RNCMPT00151_predictions_MT, RNCMPT00044_predictions_MT, RNCMPT00274_predictions_MT, RNCMPT00278_predictions_MT, RNCMPT00020_predictions_MT, RNCMPT00161_predictions_MT, RNCMPT00133_predictions_MT, RNCMPT00045_predictions_MT, RNCMPT00234_predictions_MT, RNCMPT00273_predictions_MT, RNCMPT00104_predictions_MT, RNCMPT00263_predictions_MT, RNCMPT00039_predictions_MT, RNCMPT00153_predictions_MT, RNCMPT00002_predictions_MT, RNCMPT00228_predictions_MT, RNCMPT00159_predictions_MT, RNCMPT00287_predictions_MT, RNCMPT00019_predictions_MT, RNCMPT00105_predictions_MT, RNCMPT00288_predictions_MT, RNCMPT00085_predictions_MT, RNCMPT00223_predictions_MT, RNCMPT00262_predictions_MT, RNCMPT00131_predictions_MT, RNCMPT00089_predictions_MT, RNCMPT00120_predictions_MT, RNCMPT00119_predictions_MT, RNCMPT00148_predictions_MT\n"
     ]
    }
   ],
   "source": [
    "# Get predictions on the test data from all multi task models\n",
    "print(\"Testing DeepBind MultiTask model on\")\n",
    "version = 0\n",
    "model_file = glob.glob(os.path.join(eu.settings.logging_dir, \"DeepBind_MT\", f\"v{version}\", \"checkpoints\", \"*\"))[0]\n",
    "model = eu.models.DeepBind.load_from_checkpoint(model_file)\n",
    "eu.settings.dl_num_workers = 0\n",
    "eu.predict.predictions(\n",
    "    model,\n",
    "    sdata=sdata_test, \n",
    "    target=target_cols_MT,\n",
    "    name=\"DeepBind_MT\",\n",
    "    version=f\"v{version}\",\n",
    "    file_label=\"test\",\n",
    "    suffix=\"_MT\"\n",
    ")\n",
    "del model"
   ]
  },
  {
   "cell_type": "code",
   "execution_count": 37,
   "id": "f3241bcd",
   "metadata": {
    "execution": {
     "iopub.execute_input": "2022-09-05T18:02:28.700583Z",
     "iopub.status.busy": "2022-09-05T18:02:28.700095Z",
     "iopub.status.idle": "2022-09-05T18:05:23.983816Z",
     "shell.execute_reply": "2022-09-05T18:05:23.981820Z",
     "shell.execute_reply.started": "2022-09-05T18:02:28.700547Z"
    },
    "tags": [],
    "vscode": {
     "languageId": "python"
    }
   },
   "outputs": [
    {
     "data": {
      "application/vnd.jupyter.widget-view+json": {
       "model_id": "1ae360c733e0459d8bba47c736d94624",
       "version_major": 2,
       "version_minor": 0
      },
      "text/plain": [
       "Evaluating probes:   0%|          | 0/3 [00:00<?, ?it/s]"
      ]
     },
     "metadata": {},
     "output_type": "display_data"
    },
    {
     "data": {
      "application/vnd.jupyter.widget-view+json": {
       "model_id": "8a9bd2d6612c4a8ca8b8ca5f43e831c9",
       "version_major": 2,
       "version_minor": 0
      },
      "text/plain": [
       "  0%|          | 0/100 [00:00<?, ?it/s]"
      ]
     },
     "metadata": {},
     "output_type": "display_data"
    },
    {
     "data": {
      "application/vnd.jupyter.widget-view+json": {
       "model_id": "2cbd01679c124d06b5c6b60f1435b3fd",
       "version_major": 2,
       "version_minor": 0
      },
      "text/plain": [
       "  0%|          | 0/100 [00:00<?, ?it/s]"
      ]
     },
     "metadata": {},
     "output_type": "display_data"
    },
    {
     "data": {
      "application/vnd.jupyter.widget-view+json": {
       "model_id": "8e19d2aafb0e490cabb61f490ca8bc10",
       "version_major": 2,
       "version_minor": 0
      },
      "text/plain": [
       "  0%|          | 0/100 [00:00<?, ?it/s]"
      ]
     },
     "metadata": {},
     "output_type": "display_data"
    },
    {
     "data": {
      "application/vnd.jupyter.widget-view+json": {
       "model_id": "95e819a4911844f0b022781b249a0c35",
       "version_major": 2,
       "version_minor": 0
      },
      "text/plain": [
       "  0%|          | 0/100 [00:00<?, ?it/s]"
      ]
     },
     "metadata": {},
     "output_type": "display_data"
    },
    {
     "data": {
      "application/vnd.jupyter.widget-view+json": {
       "model_id": "84ed2dbbb2d244f6b7049ba602bcbf22",
       "version_major": 2,
       "version_minor": 0
      },
      "text/plain": [
       "  0%|          | 0/100 [00:00<?, ?it/s]"
      ]
     },
     "metadata": {},
     "output_type": "display_data"
    },
    {
     "data": {
      "application/vnd.jupyter.widget-view+json": {
       "model_id": "64534c0b00e04277a582b67c89154287",
       "version_major": 2,
       "version_minor": 0
      },
      "text/plain": [
       "  0%|          | 0/100 [00:00<?, ?it/s]"
      ]
     },
     "metadata": {},
     "output_type": "display_data"
    }
   ],
   "source": [
    "# Get evaluation metrics for all single task models and format for plotting\n",
    "pearson_MT_df, spearman_MT_df = eu.predict.summarize_rbps_apply(sdata_test, b_presence_absence, target_cols_MT[:3], use_calc_auc=True, verbose=True, n_kmers=100, preds_suffix=\"_predictions_MT\")\n",
    "pearson_MT_long = pearson_MT_df.reset_index().melt(id_vars=\"index\", value_name=\"Pearson\", var_name=\"Metric\").rename({\"index\":\"RBP\"}, axis=1)\n",
    "spearman_MT_long = spearman_MT_df.reset_index().melt(id_vars=\"index\", value_name=\"Spearman\", var_name=\"Metric\").rename({\"index\":\"RBP\"}, axis=1)\n",
    "pearson_MT_long[\"Model\"] = \"MultiTask\"\n",
    "spearman_MT_long[\"Model\"] = \"MultiTask\""
   ]
  },
  {
   "cell_type": "code",
   "execution_count": 38,
   "id": "b7716b42",
   "metadata": {
    "execution": {
     "iopub.execute_input": "2022-09-05T18:06:02.547800Z",
     "iopub.status.busy": "2022-09-05T18:06:02.547283Z",
     "iopub.status.idle": "2022-09-05T18:06:07.269569Z",
     "shell.execute_reply": "2022-09-05T18:06:07.268564Z",
     "shell.execute_reply.started": "2022-09-05T18:06:02.547763Z"
    },
    "vscode": {
     "languageId": "python"
    }
   },
   "outputs": [
    {
     "data": {
      "image/png": "[encoded data removed]",
      "text/plain": [
       "<Figure size 576x288 with 2 Axes>"
      ]
     },
     "metadata": {
      "needs_background": "light"
     },
     "output_type": "display_data"
    }
   ],
   "source": [
    "# Plot just the multi task model eval\n",
    "fig, ax = plt.subplots(1, 2, figsize=(8, 4))\n",
    "sns.boxplot(data=pearson_MT_long, x=\"Metric\", y=\"Pearson\", color=\"blue\", ax=ax[0])\n",
    "sns.boxplot(data=spearman_MT_long, x=\"Metric\", y=\"Spearman\", color=\"blue\", ax=ax[1])\n",
    "plt.tight_layout()\n",
    "plt.savefig(os.path.join(figure_dir, \"correlation_boxplots_MT.pdf\"))"
   ]
  },
  {
   "cell_type": "markdown",
   "id": "cf4339ff",
   "metadata": {},
   "source": [
    "# Model comparisons"
   ]
  },
  {
   "cell_type": "code",
   "execution_count": 39,
   "id": "2fc5d61b",
   "metadata": {
    "execution": {
     "iopub.execute_input": "2022-09-05T18:07:07.484297Z",
     "iopub.status.busy": "2022-09-05T18:07:07.483592Z",
     "iopub.status.idle": "2022-09-05T18:07:12.332402Z",
     "shell.execute_reply": "2022-09-05T18:07:12.331312Z",
     "shell.execute_reply.started": "2022-09-05T18:07:07.484246Z"
    },
    "vscode": {
     "languageId": "python"
    }
   },
   "outputs": [],
   "source": [
    "# Save the sdata with the predictions for the Set A, single task, and multitask models\n",
    "sdata_test.write_h5sd(os.path.join(eu.settings.output_dir, \"norm_test_predictions.h5sd\"))"
   ]
  },
  {
   "cell_type": "code",
   "execution_count": 40,
   "id": "4edb6c72",
   "metadata": {
    "execution": {
     "iopub.execute_input": "2022-09-05T18:08:12.850352Z",
     "iopub.status.busy": "2022-09-05T18:08:12.849868Z",
     "iopub.status.idle": "2022-09-05T18:08:15.696293Z",
     "shell.execute_reply": "2022-09-05T18:08:15.695348Z",
     "shell.execute_reply.started": "2022-09-05T18:08:12.850319Z"
    },
    "vscode": {
     "languageId": "python"
    }
   },
   "outputs": [],
   "source": [
    "# Concatenate the dataframes for plotting across models\n",
    "pearson_long = pd.concat([pearson_setA_long, pearson_MT_long, pearson_ST_long])\n",
    "spearman_long = pd.concat([spearman_setA_long, spearman_MT_long, spearman_ST_long])\n",
    "pearson_models = pearson_long.pivot(index=[\"RBP\", \"Metric\"], columns=\"Model\", values=\"Pearson\").reset_index()\n",
    "spearman_models = spearman_long.pivot(index=[\"RBP\", \"Metric\"], columns=\"Model\", values=\"Spearman\").reset_index()"
   ]
  },
  {
   "cell_type": "code",
   "execution_count": 50,
   "id": "aa885b6d",
   "metadata": {
    "execution": {
     "iopub.execute_input": "2022-09-05T18:11:22.227578Z",
     "iopub.status.busy": "2022-09-05T18:11:22.227181Z",
     "iopub.status.idle": "2022-09-05T18:11:24.625698Z",
     "shell.execute_reply": "2022-09-05T18:11:24.624675Z",
     "shell.execute_reply.started": "2022-09-05T18:11:22.227548Z"
    },
    "tags": [],
    "vscode": {
     "languageId": "python"
    }
   },
   "outputs": [],
   "source": [
    "# Helper function to plot the a line to apply to FacetGrid\n",
    "def const_line(*args, **kwargs):\n",
    "    x = np.arange(0, 1.01, 0.01)\n",
    "    plt.plot(x, x, c='k', ls='--')"
   ]
  },
  {
   "cell_type": "code",
   "execution_count": 51,
   "id": "9530d6af",
   "metadata": {
    "execution": {
     "iopub.execute_input": "2022-09-05T18:11:24.627462Z",
     "iopub.status.busy": "2022-09-05T18:11:24.626961Z",
     "iopub.status.idle": "2022-09-05T18:11:29.557999Z",
     "shell.execute_reply": "2022-09-05T18:11:29.556748Z",
     "shell.execute_reply.started": "2022-09-05T18:11:24.627427Z"
    },
    "tags": [],
    "vscode": {
     "languageId": "python"
    }
   },
   "outputs": [
    {
     "data": {
      "image/png": "[encoded data removed]",
      "text/plain": [
       "<Figure size 864x216 with 4 Axes>"
      ]
     },
     "metadata": {
      "needs_background": "light"
     },
     "output_type": "display_data"
    }
   ],
   "source": [
    "# Plot the evaluation metrics comparisons for single task vs SetA Pearson correlation\n",
    "g = sns.FacetGrid(pearson_models, col=\"Metric\", col_order=[\"Z-score\", \"AUC\", \"E-score\", \"Intensity\"])\n",
    "g.map(sns.scatterplot, \"SingleTask\", \"SetA\")\n",
    "g.map(const_line)\n",
    "plt.savefig(os.path.join(figure_dir, \"model_pearson_scatterplot_comparisons_ST_setA_.pdf\"))"
   ]
  },
  {
   "cell_type": "code",
   "execution_count": 52,
   "id": "80846e94",
   "metadata": {
    "execution": {
     "iopub.execute_input": "2022-09-05T18:11:29.561495Z",
     "iopub.status.busy": "2022-09-05T18:11:29.561161Z",
     "iopub.status.idle": "2022-09-05T18:11:35.962247Z",
     "shell.execute_reply": "2022-09-05T18:11:35.961076Z",
     "shell.execute_reply.started": "2022-09-05T18:11:29.561462Z"
    },
    "tags": [],
    "vscode": {
     "languageId": "python"
    }
   },
   "outputs": [
    {
     "data": {
      "image/png": "[encoded data removed]",
      "text/plain": [
       "<Figure size 864x216 with 4 Axes>"
      ]
     },
     "metadata": {
      "needs_background": "light"
     },
     "output_type": "display_data"
    }
   ],
   "source": [
    "# Plot the evaluation metrics comparisons for single task vs multitask using Pearson correlation\n",
    "g = sns.FacetGrid(pearson_models, col=\"Metric\", col_order=[\"Z-score\", \"AUC\", \"E-score\", \"Intensity\"])\n",
    "g.map(sns.scatterplot, \"SingleTask\", \"MultiTask\")\n",
    "g.map(const_line)\n",
    "plt.savefig(os.path.join(figure_dir, \"model_pearson_scatterplot_comparisons_ST_MT.pdf\"))"
   ]
  },
  {
   "cell_type": "code",
   "execution_count": 53,
   "id": "2ca6a0f1",
   "metadata": {
    "execution": {
     "iopub.execute_input": "2022-09-05T18:11:35.964589Z",
     "iopub.status.busy": "2022-09-05T18:11:35.964083Z",
     "iopub.status.idle": "2022-09-05T18:11:42.364802Z",
     "shell.execute_reply": "2022-09-05T18:11:42.363833Z",
     "shell.execute_reply.started": "2022-09-05T18:11:35.964539Z"
    },
    "tags": [],
    "vscode": {
     "languageId": "python"
    }
   },
   "outputs": [
    {
     "data": {
      "image/png": "[encoded data removed]",
      "text/plain": [
       "<Figure size 864x216 with 4 Axes>"
      ]
     },
     "metadata": {
      "needs_background": "light"
     },
     "output_type": "display_data"
    }
   ],
   "source": [
    "# Plot the evaluation metrics comparisons for single task vs SetA using Spearman correlation\n",
    "g = sns.FacetGrid(spearman_models, col=\"Metric\", col_order=[\"Z-score\", \"AUC\", \"E-score\", \"Intensity\"])\n",
    "g.map(sns.scatterplot, \"SingleTask\", \"SetA\")\n",
    "g.map(const_line)\n",
    "plt.savefig(os.path.join(figure_dir, \"model_spearman_scatterplot_comparisons_ST_setA.pdf\"))"
   ]
  },
  {
   "cell_type": "code",
   "execution_count": 54,
   "id": "c56dbd35",
   "metadata": {
    "execution": {
     "iopub.execute_input": "2022-09-05T18:11:42.366322Z",
     "iopub.status.busy": "2022-09-05T18:11:42.366017Z",
     "iopub.status.idle": "2022-09-05T18:11:48.817795Z",
     "shell.execute_reply": "2022-09-05T18:11:48.816883Z",
     "shell.execute_reply.started": "2022-09-05T18:11:42.366291Z"
    },
    "tags": [],
    "vscode": {
     "languageId": "python"
    }
   },
   "outputs": [
    {
     "data": {
      "image/png": "[encoded data removed]",
      "text/plain": [
       "<Figure size 864x216 with 4 Axes>"
      ]
     },
     "metadata": {
      "needs_background": "light"
     },
     "output_type": "display_data"
    }
   ],
   "source": [
    "# Plot the evaluation metrics comparisons for single task vs multitask using Spearman correlation\n",
    "g = sns.FacetGrid(spearman_models, col=\"Metric\", col_order=[\"Z-score\", \"AUC\", \"E-score\", \"Intensity\"])\n",
    "g.map(sns.scatterplot, \"SingleTask\", \"MultiTask\")\n",
    "g.map(const_line)\n",
    "plt.savefig(os.path.join(figure_dir, \"model_spearman_scatterplot_comparisons_ST_MT.pdf\"))"
   ]
  },
  {
   "cell_type": "markdown",
   "id": "f18d95b1-b397-49e2-87a2-084f63797885",
   "metadata": {},
   "source": [
    "---"
   ]
  },
  {
   "cell_type": "markdown",
   "id": "607cfa23-b8f0-4552-9a87-37bc6b843529",
   "metadata": {
    "jp-MarkdownHeadingCollapsed": true,
    "tags": []
   },
   "source": [
    "# Scratch"
   ]
  },
  {
   "cell_type": "code",
   "execution_count": null,
   "id": "67eb7297",
   "metadata": {
    "vscode": {
     "languageId": "python"
    }
   },
   "outputs": [
    {
     "data": {
      "application/vnd.jupyter.widget-view+json": {
       "model_id": "b352d9f579ae41d2a8ed311dc1897b5b",
       "version_major": 2,
       "version_minor": 0
      },
      "text/plain": [
       "  0%|          | 0/16384 [00:00<?, ?it/s]"
      ]
     },
     "metadata": {},
     "output_type": "display_data"
    },
    {
     "data": {
      "application/vnd.jupyter.widget-view+json": {
       "model_id": "461e6fdb9db84548b887a97865741a22",
       "version_major": 2,
       "version_minor": 0
      },
      "text/plain": [
       "  0%|          | 0/16384 [00:00<?, ?it/s]"
      ]
     },
     "metadata": {},
     "output_type": "display_data"
    },
    {
     "data": {
      "image/png": "[encoded data removed]",
      "text/plain": [
       "<Figure size 1600x400 with 4 Axes>"
      ]
     },
     "metadata": {},
     "output_type": "display_data"
    }
   ],
   "source": [
    "eu.predict.column_rnac_metrics_apply(sdata_test, b_presence_absence, probe_id=\"RNCMPT00001\", preds_suffix=\"_predictions_ST\", use_calc_auc=True, verbose=True, n_kmers=100)"
   ]
  },
  {
   "cell_type": "code",
   "execution_count": null,
   "id": "cff6c131",
   "metadata": {
    "vscode": {
     "languageId": "python"
    }
   },
   "outputs": [
    {
     "data": {
      "application/vnd.jupyter.widget-view+json": {
       "model_id": "60d47938f4af4ccd9a5abb6eaa40b5f7",
       "version_major": 2,
       "version_minor": 0
      },
      "text/plain": [
       "  0%|          | 0/100 [00:00<?, ?it/s]"
      ]
     },
     "metadata": {},
     "output_type": "display_data"
    },
    {
     "name": "stderr",
     "output_type": "stream",
     "text": [
      "/home/vscode/.local/lib/python3.7/site-packages/numpy/core/fromnumeric.py:3441: RuntimeWarning: Mean of empty slice.\n",
      "  out=out, **kwargs)\n",
      "/home/vscode/.local/lib/python3.7/site-packages/numpy/core/_methods.py:189: RuntimeWarning: invalid value encountered in double_scalars\n",
      "  ret = ret.dtype.type(ret / rcount)\n"
     ]
    },
    {
     "data": {
      "application/vnd.jupyter.widget-view+json": {
       "model_id": "ecc8419277ba4b038da3c3f9936c8d48",
       "version_major": 2,
       "version_minor": 0
      },
      "text/plain": [
       "  0%|          | 0/100 [00:00<?, ?it/s]"
      ]
     },
     "metadata": {},
     "output_type": "display_data"
    },
    {
     "data": {
      "image/png": "[encoded data removed]",
      "text/plain": [
       "<Figure size 1600x400 with 4 Axes>"
      ]
     },
     "metadata": {},
     "output_type": "display_data"
    }
   ],
   "source": [
    "eu.predict.column_rnac_metrics_apply(sdata_test, b_presence_absence, probe_id=\"RNCMPT00001\", preds_suffix=\"_predictions_MT\", use_calc_auc=True, verbose=True, n_kmers=100)"
   ]
  }
 ],
 "metadata": {
  "kernelspec": {
   "display_name": "Python 3.7 eugene_dev",
   "language": "python",
   "name": "eugene_dev"
  },
  "language_info": {
   "codemirror_mode": {
    "name": "ipython",
    "version": 3
   },
   "file_extension": ".py",
   "mimetype": "text/x-python",
   "name": "python",
   "nbconvert_exporter": "python",
   "pygments_lexer": "ipython3",
   "version": "3.7.12"
  },
  "vscode": {
   "interpreter": {
    "hash": "949777d72b0d2535278d3dc13498b2535136f6dfe0678499012e853ee9abcab1"
   }
  }
 },
 "nbformat": 4,
 "nbformat_minor": 5
}
