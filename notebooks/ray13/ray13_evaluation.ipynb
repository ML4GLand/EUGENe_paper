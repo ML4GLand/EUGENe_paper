{
 "cells": [
  {
   "cell_type": "markdown",
   "id": "85c10a31",
   "metadata": {},
   "source": [
    "# Ray et al 2013 Evaluation\n",
    "**Authorship:**\n",
    "Adam Klie, *08/31/2022*\n",
    "***\n",
    "**Description:**\n",
    "Notebook to evaluate trained models on the Ray et al dataset.\n",
    "***"
   ]
  },
  {
   "cell_type": "code",
   "execution_count": 1,
   "id": "4a935404",
   "metadata": {
    "execution": {
     "iopub.execute_input": "2022-09-08T00:20:32.832740Z",
     "iopub.status.busy": "2022-09-08T00:20:32.832052Z",
     "iopub.status.idle": "2022-09-08T00:21:34.059376Z",
     "shell.execute_reply": "2022-09-08T00:21:34.058546Z",
     "shell.execute_reply.started": "2022-09-08T00:20:32.832638Z"
    },
    "tags": [],
    "vscode": {
     "languageId": "python"
    }
   },
   "outputs": [
    {
     "name": "stderr",
     "output_type": "stream",
     "text": [
      "Global seed set to 13\n"
     ]
    },
    {
     "name": "stdout",
     "output_type": "stream",
     "text": [
      "GPU is available: True\n",
      "Number of GPUs: 1\n",
      "Current GPU: 0\n",
      "GPUs: Quadro RTX 5000\n"
     ]
    },
    {
     "name": "stderr",
     "output_type": "stream",
     "text": [
      "/mnt/beegfs/users/aklie/projects/EUGENe/eugene/external/kipoi_veff/seqplotting_deps.py:36: FutureWarning: arrays to stack must be passed as a \"sequence\" type such as list or tuple. Support for non-sequence iterables such as generators is deprecated as of NumPy 1.16 and will raise an error in the future.\n",
      "  min_coords = np.vstack(data.min(0) for data in polygons_data).min(0)\n",
      "/mnt/beegfs/users/aklie/projects/EUGENe/eugene/external/kipoi_veff/seqplotting_deps.py:37: FutureWarning: arrays to stack must be passed as a \"sequence\" type such as list or tuple. Support for non-sequence iterables such as generators is deprecated as of NumPy 1.16 and will raise an error in the future.\n",
      "  max_coords = np.vstack(data.max(0) for data in polygons_data).max(0)\n"
     ]
    },
    {
     "name": "stdout",
     "output_type": "stream",
     "text": [
      "Already up to date.\n"
     ]
    }
   ],
   "source": [
    "if 'autoreload' not in get_ipython().extension_manager.loaded:\n",
    "    %load_ext autoreload\n",
    "%autoreload 2\n",
    "\n",
    "import os\n",
    "import glob\n",
    "import logging\n",
    "import torch\n",
    "import numpy as np\n",
    "import pandas as pd\n",
    "import eugene as eu\n",
    "import matplotlib\n",
    "import matplotlib.pyplot as plt\n",
    "import seaborn as sns\n",
    "from tqdm.auto import tqdm\n",
    "\n",
    "matplotlib.rcParams['pdf.fonttype'] = 42\n",
    "matplotlib.rcParams['ps.fonttype'] = 42"
   ]
  },
  {
   "cell_type": "code",
   "execution_count": 51,
   "id": "50ffafd6",
   "metadata": {
    "execution": {
     "iopub.execute_input": "2022-09-08T00:39:47.067878Z",
     "iopub.status.busy": "2022-09-08T00:39:47.067549Z",
     "iopub.status.idle": "2022-09-08T00:39:48.746969Z",
     "shell.execute_reply": "2022-09-08T00:39:48.746331Z",
     "shell.execute_reply.started": "2022-09-08T00:39:47.067848Z"
    },
    "tags": [],
    "vscode": {
     "languageId": "python"
    }
   },
   "outputs": [],
   "source": [
    "eu.settings.dataset_dir = \"/cellar/users/aklie/data/eugene/ray13\"\n",
    "eu.settings.output_dir = \"/cellar/users/aklie/projects/EUGENe/EUGENe_paper/output/ray13\"\n",
    "eu.settings.logging_dir = \"/cellar/users/aklie/projects/EUGENe/EUGENe_paper/logs/ray13\"\n",
    "eu.settings.config_dir = \"/cellar/users/aklie/projects/EUGENe/EUGENe_paper/configs/ray13\"\n",
    "figure_dir = \"/cellar/users/aklie/projects/EUGENe/EUGENe_paper/figures/ray13\"\n",
    "eu.settings.verbosity = logging.ERROR\n",
    "number_kmers = 10"
   ]
  },
  {
   "cell_type": "markdown",
   "id": "94e853e3",
   "metadata": {},
   "source": [
    "# Load in the test `SeqData`"
   ]
  },
  {
   "cell_type": "code",
   "execution_count": 3,
   "id": "cdf28384-5f24-4a86-8b11-ba91089f7005",
   "metadata": {
    "execution": {
     "iopub.execute_input": "2022-09-08T00:21:35.730592Z",
     "iopub.status.busy": "2022-09-08T00:21:35.730423Z",
     "iopub.status.idle": "2022-09-08T00:21:38.394302Z",
     "shell.execute_reply": "2022-09-08T00:21:38.393693Z",
     "shell.execute_reply.started": "2022-09-08T00:21:35.730576Z"
    },
    "tags": [],
    "vscode": {
     "languageId": "python"
    }
   },
   "outputs": [
    {
     "data": {
      "text/plain": [
       "SeqData object with = 121031 seqs\n",
       "seqs = (121031,)\n",
       "names = (121031,)\n",
       "rev_seqs = None\n",
       "ohe_seqs = (121031, 41, 4)\n",
       "ohe_rev_seqs = None\n",
       "seqs_annot: 'Probe_Set', 'RNCMPT00001', 'RNCMPT00002', 'RNCMPT00003', 'RNCMPT00004', 'RNCMPT00005', 'RNCMPT00006', 'RNCMPT00007', 'RNCMPT00008', 'RNCMPT00009', 'RNCMPT00010', 'RNCMPT00011', 'RNCMPT00012', 'RNCMPT00013', 'RNCMPT00014', 'RNCMPT00015', 'RNCMPT00016', 'RNCMPT00017', 'RNCMPT00018', 'RNCMPT00019', 'RNCMPT00020', 'RNCMPT00021', 'RNCMPT00022', 'RNCMPT00023', 'RNCMPT00024', 'RNCMPT00025', 'RNCMPT00026', 'RNCMPT00027', 'RNCMPT00028', 'RNCMPT00029', 'RNCMPT00031', 'RNCMPT00032', 'RNCMPT00033', 'RNCMPT00034', 'RNCMPT00035', 'RNCMPT00036', 'RNCMPT00037', 'RNCMPT00038', 'RNCMPT00039', 'RNCMPT00040', 'RNCMPT00041', 'RNCMPT00042', 'RNCMPT00043', 'RNCMPT00044', 'RNCMPT00045', 'RNCMPT00046', 'RNCMPT00047', 'RNCMPT00049', 'RNCMPT00050', 'RNCMPT00051', 'RNCMPT00052', 'RNCMPT00053', 'RNCMPT00054', 'RNCMPT00055', 'RNCMPT00056', 'RNCMPT00057', 'RNCMPT00058', 'RNCMPT00059', 'RNCMPT00060', 'RNCMPT00061', 'RNCMPT00062', 'RNCMPT00063', 'RNCMPT00064', 'RNCMPT00065', 'RNCMPT00066', 'RNCMPT00067', 'RNCMPT00068', 'RNCMPT00069', 'RNCMPT00070', 'RNCMPT00071', 'RNCMPT00072', 'RNCMPT00073', 'RNCMPT00074', 'RNCMPT00075', 'RNCMPT00076', 'RNCMPT00077', 'RNCMPT00078', 'RNCMPT00079', 'RNCMPT00080', 'RNCMPT00081', 'RNCMPT00082', 'RNCMPT00083', 'RNCMPT00084', 'RNCMPT00085', 'RNCMPT00086', 'RNCMPT00087', 'RNCMPT00088', 'RNCMPT00089', 'RNCMPT00090', 'RNCMPT00091', 'RNCMPT00093', 'RNCMPT00094', 'RNCMPT00095', 'RNCMPT00096', 'RNCMPT00097', 'RNCMPT00099', 'RNCMPT00100', 'RNCMPT00101', 'RNCMPT00102', 'RNCMPT00103', 'RNCMPT00104', 'RNCMPT00105', 'RNCMPT00106', 'RNCMPT00107', 'RNCMPT00108', 'RNCMPT00109', 'RNCMPT00110', 'RNCMPT00111', 'RNCMPT00112', 'RNCMPT00113', 'RNCMPT00114', 'RNCMPT00116', 'RNCMPT00117', 'RNCMPT00118', 'RNCMPT00119', 'RNCMPT00120', 'RNCMPT00121', 'RNCMPT00122', 'RNCMPT00123', 'RNCMPT00124', 'RNCMPT00126', 'RNCMPT00127', 'RNCMPT00129', 'RNCMPT00131', 'RNCMPT00132', 'RNCMPT00133', 'RNCMPT00134', 'RNCMPT00136', 'RNCMPT00137', 'RNCMPT00138', 'RNCMPT00139', 'RNCMPT00140', 'RNCMPT00141', 'RNCMPT00142', 'RNCMPT00143', 'RNCMPT00144', 'RNCMPT00145', 'RNCMPT00146', 'RNCMPT00147', 'RNCMPT00148', 'RNCMPT00149', 'RNCMPT00150', 'RNCMPT00151', 'RNCMPT00152', 'RNCMPT00153', 'RNCMPT00154', 'RNCMPT00155', 'RNCMPT00156', 'RNCMPT00157', 'RNCMPT00158', 'RNCMPT00159', 'RNCMPT00160', 'RNCMPT00161', 'RNCMPT00162', 'RNCMPT00163', 'RNCMPT00164', 'RNCMPT00165', 'RNCMPT00166', 'RNCMPT00167', 'RNCMPT00168', 'RNCMPT00169', 'RNCMPT00170', 'RNCMPT00171', 'RNCMPT00172', 'RNCMPT00173', 'RNCMPT00174', 'RNCMPT00175', 'RNCMPT00176', 'RNCMPT00177', 'RNCMPT00178', 'RNCMPT00179', 'RNCMPT00180', 'RNCMPT00181', 'RNCMPT00182', 'RNCMPT00183', 'RNCMPT00184', 'RNCMPT00185', 'RNCMPT00186', 'RNCMPT00187', 'RNCMPT00197', 'RNCMPT00199', 'RNCMPT00200', 'RNCMPT00202', 'RNCMPT00203', 'RNCMPT00205', 'RNCMPT00206', 'RNCMPT00209', 'RNCMPT00212', 'RNCMPT00215', 'RNCMPT00216', 'RNCMPT00217', 'RNCMPT00218', 'RNCMPT00219', 'RNCMPT00220', 'RNCMPT00223', 'RNCMPT00224', 'RNCMPT00225', 'RNCMPT00226', 'RNCMPT00228', 'RNCMPT00229', 'RNCMPT00230', 'RNCMPT00232', 'RNCMPT00234', 'RNCMPT00235', 'RNCMPT00236', 'RNCMPT00237', 'RNCMPT00238', 'RNCMPT00239', 'RNCMPT00240', 'RNCMPT00241', 'RNCMPT00245', 'RNCMPT00246', 'RNCMPT00248', 'RNCMPT00249', 'RNCMPT00251', 'RNCMPT00252', 'RNCMPT00253', 'RNCMPT00254', 'RNCMPT00255', 'RNCMPT00256', 'RNCMPT00257', 'RNCMPT00258', 'RNCMPT00259', 'RNCMPT00261', 'RNCMPT00262', 'RNCMPT00263', 'RNCMPT00265', 'RNCMPT00268', 'RNCMPT00269', 'RNCMPT00270', 'RNCMPT00272', 'RNCMPT00273', 'RNCMPT00274', 'RNCMPT00278', 'RNCMPT00279', 'RNCMPT00280', 'RNCMPT00281', 'RNCMPT00282', 'RNCMPT00283', 'RNCMPT00284', 'RNCMPT00285', 'RNCMPT00287', 'RNCMPT00288', 'RNCMPT00289', 'RNCMPT00291'\n",
       "pos_annot: None\n",
       "seqsm: None\n",
       "uns: None"
      ]
     },
     "execution_count": 3,
     "metadata": {},
     "output_type": "execute_result"
    }
   ],
   "source": [
    "# Load the test data\n",
    "sdata_test = eu.dl.read_h5sd(os.path.join(eu.settings.dataset_dir, \"norm_setB_processed_ST.h5sd\"))\n",
    "target_mask = sdata_test.seqs_annot.columns.str.contains(\"RNCMPT\")\n",
    "target_cols = sdata_test.seqs_annot.columns[target_mask]\n",
    "sdata_test"
   ]
  },
  {
   "cell_type": "code",
   "execution_count": 5,
   "id": "7f4e39c6",
   "metadata": {
    "execution": {
     "iopub.execute_input": "2022-09-08T00:22:45.627116Z",
     "iopub.status.busy": "2022-09-08T00:22:45.626848Z",
     "iopub.status.idle": "2022-09-08T00:23:02.476685Z",
     "shell.execute_reply": "2022-09-08T00:23:02.476032Z",
     "shell.execute_reply.started": "2022-09-08T00:22:45.627098Z"
    },
    "tags": [],
    "vscode": {
     "languageId": "python"
    }
   },
   "outputs": [],
   "source": [
    "# Load in the Set B presence/absence predictions\n",
    "b_presence_absence = np.load(os.path.join(eu.settings.dataset_dir, \"setB_binary.npy\"))\n",
    "setB_observed = sdata_test.seqs_annot[target_cols]"
   ]
  },
  {
   "cell_type": "markdown",
   "id": "3dd90ca6",
   "metadata": {},
   "source": [
    "# Get test set evaluations for each model"
   ]
  },
  {
   "cell_type": "markdown",
   "id": "5fda7c37",
   "metadata": {
    "tags": []
   },
   "source": [
    "## SetA k-mer scores "
   ]
  },
  {
   "cell_type": "code",
   "execution_count": 7,
   "id": "3e6b2659",
   "metadata": {
    "execution": {
     "iopub.execute_input": "2022-09-05T17:29:01.519424Z",
     "iopub.status.busy": "2022-09-05T17:29:01.518961Z",
     "iopub.status.idle": "2022-09-05T17:29:22.045680Z",
     "shell.execute_reply": "2022-09-05T17:29:22.044650Z",
     "shell.execute_reply.started": "2022-09-05T17:29:01.519392Z"
    },
    "vscode": {
     "languageId": "python"
    }
   },
   "outputs": [],
   "source": [
    "# Load in the Set A presence/absence predictions\n",
    "a_presence_absence = np.load(os.path.join(eu.settings.dataset_dir, \"SetA_binary_ST.npy\"))\n",
    "setA_observed = eu.dl.read_h5sd(os.path.join(eu.settings.dataset_dir, eu.settings.dataset_dir, \"norm_setA_processed_ST.h5sd\")).seqs_annot[target_cols]"
   ]
  },
  {
   "cell_type": "code",
   "execution_count": 8,
   "id": "265b6dec",
   "metadata": {
    "execution": {
     "iopub.execute_input": "2022-09-05T17:31:42.594654Z",
     "iopub.status.busy": "2022-09-05T17:31:42.594038Z",
     "iopub.status.idle": "2022-09-05T17:31:56.107092Z",
     "shell.execute_reply": "2022-09-05T17:31:56.106105Z",
     "shell.execute_reply.started": "2022-09-05T17:31:42.594609Z"
    },
    "vscode": {
     "languageId": "python"
    }
   },
   "outputs": [
    {
     "data": {
      "application/vnd.jupyter.widget-view+json": {
       "model_id": "65e89fbcdab844dbb0badd1efed9f041",
       "version_major": 2,
       "version_minor": 0
      },
      "text/plain": [
       "  0%|          | 0/100 [00:00<?, ?it/s]"
      ]
     },
     "metadata": {},
     "output_type": "display_data"
    },
    {
     "data": {
      "application/vnd.jupyter.widget-view+json": {
       "model_id": "38b0f4e8c16e4b81a2510b0f40cd8ed8",
       "version_major": 2,
       "version_minor": 0
      },
      "text/plain": [
       "  0%|          | 0/100 [00:00<?, ?it/s]"
      ]
     },
     "metadata": {},
     "output_type": "display_data"
    }
   ],
   "source": [
    "# An example calculation of z-scores, aucs and e-scores for Set A and Set B\n",
    "a_metr = eu.predict.rna_complete_metrics_apply(a_presence_absence, setA_observed[\"RNCMPT00001\"].values, verbose=True, num_kmers=100)\n",
    "b_metr = eu.predict.rna_complete_metrics_apply(b_presence_absence, setB_observed[\"RNCMPT00001\"].values, verbose=True, num_kmers=100)"
   ]
  },
  {
   "cell_type": "code",
   "execution_count": 24,
   "id": "e2e67845",
   "metadata": {
    "execution": {
     "iopub.execute_input": "2022-09-05T17:50:19.942958Z",
     "iopub.status.busy": "2022-09-05T17:50:19.942461Z",
     "iopub.status.idle": "2022-09-05T17:53:19.919160Z",
     "shell.execute_reply": "2022-09-05T17:53:19.917719Z",
     "shell.execute_reply.started": "2022-09-05T17:50:19.942923Z"
    },
    "tags": [],
    "vscode": {
     "languageId": "python"
    }
   },
   "outputs": [
    {
     "data": {
      "application/vnd.jupyter.widget-view+json": {
       "model_id": "4b0a5b4d79c04fc8b5d6ddcf77ae756b",
       "version_major": 2,
       "version_minor": 0
      },
      "text/plain": [
       "Calcualting metrics on each task:   0%|          | 0/244 [00:00<?, ?it/s]"
      ]
     },
     "metadata": {},
     "output_type": "display_data"
    },
    {
     "data": {
      "application/vnd.jupyter.widget-view+json": {
       "model_id": "7531e2d9ff0643d99a51d067369dae2d",
       "version_major": 2,
       "version_minor": 0
      },
      "text/plain": [
       "  0%|          | 0/100 [00:00<?, ?it/s]"
      ]
     },
     "metadata": {},
     "output_type": "display_data"
    },
    {
     "data": {
      "application/vnd.jupyter.widget-view+json": {
       "model_id": "e3cac229955f4985a4c680d0e1fc49e1",
       "version_major": 2,
       "version_minor": 0
      },
      "text/plain": [
       "  0%|          | 0/100 [00:00<?, ?it/s]"
      ]
     },
     "metadata": {},
     "output_type": "display_data"
    },
    {
     "data": {
      "application/vnd.jupyter.widget-view+json": {
       "model_id": "2c47b344f1a7429e887016ef29356913",
       "version_major": 2,
       "version_minor": 0
      },
      "text/plain": [
       "  0%|          | 0/100 [00:00<?, ?it/s]"
      ]
     },
     "metadata": {},
     "output_type": "display_data"
    },
    {
     "data": {
      "application/vnd.jupyter.widget-view+json": {
       "model_id": "e278ca28c5424b888ef431a129a40f69",
       "version_major": 2,
       "version_minor": 0
      },
      "text/plain": [
       "  0%|          | 0/100 [00:00<?, ?it/s]"
      ]
     },
     "metadata": {},
     "output_type": "display_data"
    },
    {
     "data": {
      "application/vnd.jupyter.widget-view+json": {
       "model_id": "e75d17ec05df4b3fa235808b59e51027",
       "version_major": 2,
       "version_minor": 0
      },
      "text/plain": [
       "  0%|          | 0/100 [00:00<?, ?it/s]"
      ]
     },
     "metadata": {},
     "output_type": "display_data"
    },
    {
     "data": {
      "application/vnd.jupyter.widget-view+json": {
       "model_id": "12d4f07a7a674e53a77ee42d109753f3",
       "version_major": 2,
       "version_minor": 0
      },
      "text/plain": [
       "  0%|          | 0/100 [00:00<?, ?it/s]"
      ]
     },
     "metadata": {},
     "output_type": "display_data"
    }
   ],
   "source": [
    "# Performing the above calculation for all targets (TODO: parallelize and simplify)\n",
    "from scipy.stats import pearsonr, spearmanr\n",
    "pearson_setA_long = pd.DataFrame()\n",
    "spearman_setA_long = pd.DataFrame()\n",
    "for i, task in tqdm(enumerate(target_cols[:3]), desc=\"Calcualting metrics on each task\", total=len(target_cols)):\n",
    "    a_zscores, a_aucs, a_escores  = eu.predict.rna_complete_metrics_apply(a_presence_absence, setA_observed[task].values, verbose=True, use_calc_auc=True, num_kmers=100)\n",
    "    b_zscores, b_aucs, b_escores = eu.predict.rna_complete_metrics_apply(b_presence_absence, setB_observed[task].values, verbose=True, use_calc_auc=True, num_kmers=100) \n",
    "    \n",
    "    zscore_nan_mask = np.isnan(a_zscores) | np.isnan(b_zscores)\n",
    "    a_zscores = a_zscores[~zscore_nan_mask]\n",
    "    b_zscores = b_zscores[~zscore_nan_mask]\n",
    "    if len(a_zscores) > 0 and len(b_zscores) > 0:\n",
    "        pearson_setA_long = pearson_setA_long.append(pd.Series({\"RBP\": task, \"Metric\": \"Z-score\", \"Pearson\": pearsonr(a_zscores, b_zscores)[0]}), ignore_index=True)\n",
    "        spearman_setA_long = spearman_setA_long.append(pd.Series({\"RBP\": task, \"Metric\": \"Z-score\", \"Spearman\": spearmanr(a_zscores, b_zscores)[0]}), ignore_index=True)\n",
    "\n",
    "    auc_nan_mask = np.isnan(a_aucs) | np.isnan(b_aucs)\n",
    "    a_aucs = a_aucs[~auc_nan_mask]\n",
    "    b_aucs = b_aucs[~auc_nan_mask]\n",
    "    if len(a_aucs) > 0 and len(b_aucs) > 0:\n",
    "        pearson_setA_long = pearson_setA_long.append(pd.Series({\"RBP\": task, \"Metric\": \"AUC\", \"Pearson\": pearsonr(a_aucs, b_aucs)[0]}), ignore_index=True)\n",
    "        spearman_setA_long = spearman_setA_long.append(pd.Series({\"RBP\": task, \"Metric\": \"AUC\", \"Spearman\": spearmanr(a_aucs, b_aucs)[0]}), ignore_index=True)\n",
    "    \n",
    "    escore_nan_mask = np.isnan(a_escores) | np.isnan(b_escores)\n",
    "    a_escores = a_escores[~escore_nan_mask]\n",
    "    b_escores = b_escores[~escore_nan_mask]\n",
    "    if len(a_escores) > 0 and len(b_escores) > 0:\n",
    "        pearson_setA_long = pearson_setA_long.append(pd.Series({\"RBP\": task, \"Metric\": \"E-score\", \"Pearson\": pearsonr(a_escores, b_escores)[0]}), ignore_index=True)\n",
    "        spearman_setA_long = spearman_setA_long.append(pd.Series({\"RBP\": task, \"Metric\": \"E-score\", \"Spearman\": spearmanr(a_escores, b_escores)[0]}), ignore_index=True)\n",
    "\n",
    "pearson_setA_long[\"Model\"] = \"SetA\"\n",
    "spearman_setA_long[\"Model\"] = \"SetA\""
   ]
  },
  {
   "cell_type": "code",
   "execution_count": 9,
   "id": "d11c20e7",
   "metadata": {
    "vscode": {
     "languageId": "python"
    }
   },
   "outputs": [],
   "source": [
    "# Memory cleanup\n",
    "del a_presence_absence"
   ]
  },
  {
   "cell_type": "code",
   "execution_count": 25,
   "id": "85ae167d",
   "metadata": {
    "execution": {
     "iopub.execute_input": "2022-09-05T17:53:34.642279Z",
     "iopub.status.busy": "2022-09-05T17:53:34.641771Z",
     "iopub.status.idle": "2022-09-05T17:53:41.999394Z",
     "shell.execute_reply": "2022-09-05T17:53:41.998405Z",
     "shell.execute_reply.started": "2022-09-05T17:53:34.642245Z"
    },
    "vscode": {
     "languageId": "python"
    }
   },
   "outputs": [
    {
     "data": {
      "image/png": "[encoded data removed]",
      "text/plain": [
       "<Figure size 576x288 with 2 Axes>"
      ]
     },
     "metadata": {
      "needs_background": "light"
     },
     "output_type": "display_data"
    }
   ],
   "source": [
    "# Plot just the SetA results \n",
    "fig, ax = plt.subplots(1, 2, figsize=(8, 4))\n",
    "sns.boxplot(data=pearson_setA_long, x=\"Metric\", y=\"Pearson\", color=\"green\", ax=ax[0])\n",
    "sns.boxplot(data=spearman_setA_long, x=\"Metric\", y=\"Spearman\", color=\"green\", ax=ax[1])\n",
    "plt.tight_layout()\n",
    "plt.savefig(os.path.join(figure_dir, \"correlation_boxplots_setA.pdf\"))"
   ]
  },
  {
   "cell_type": "markdown",
   "id": "c10790af",
   "metadata": {
    "jp-MarkdownHeadingCollapsed": true,
    "tags": []
   },
   "source": [
    "## Single-task model evaluation "
   ]
  },
  {
   "cell_type": "code",
   "execution_count": 56,
   "id": "54475a73",
   "metadata": {
    "execution": {
     "iopub.execute_input": "2022-09-05T18:32:47.662327Z",
     "iopub.status.busy": "2022-09-05T18:32:47.661848Z",
     "iopub.status.idle": "2022-09-05T18:35:53.323740Z",
     "shell.execute_reply": "2022-09-05T18:35:53.322556Z",
     "shell.execute_reply.started": "2022-09-05T18:32:47.662293Z"
    },
    "tags": [],
    "vscode": {
     "languageId": "python"
    }
   },
   "outputs": [
    {
     "name": "stdout",
     "output_type": "stream",
     "text": [
      "Testing DeepBind SingleTask model on RNCMPT00001\n",
      "No transforms given, assuming just need to tensorize).\n"
     ]
    },
    {
     "name": "stderr",
     "output_type": "stream",
     "text": [
      "GPU available: False, used: False\n",
      "TPU available: False, using: 0 TPU cores\n",
      "IPU available: False, using: 0 IPUs\n"
     ]
    },
    {
     "data": {
      "application/vnd.jupyter.widget-view+json": {
       "model_id": "d8e3208e26dc46e8b26643387536d256",
       "version_major": 2,
       "version_minor": 0
      },
      "text/plain": [
       "Predicting: 0it [00:00, ?it/s]"
      ]
     },
     "metadata": {},
     "output_type": "display_data"
    },
    {
     "name": "stdout",
     "output_type": "stream",
     "text": [
      "Testing DeepBind SingleTask model on RNCMPT00002\n",
      "No transforms given, assuming just need to tensorize).\n"
     ]
    },
    {
     "name": "stderr",
     "output_type": "stream",
     "text": [
      "GPU available: False, used: False\n",
      "TPU available: False, using: 0 TPU cores\n",
      "IPU available: False, using: 0 IPUs\n"
     ]
    },
    {
     "data": {
      "application/vnd.jupyter.widget-view+json": {
       "model_id": "98d906ad120647459fd02af798469bd5",
       "version_major": 2,
       "version_minor": 0
      },
      "text/plain": [
       "Predicting: 0it [00:00, ?it/s]"
      ]
     },
     "metadata": {},
     "output_type": "display_data"
    },
    {
     "name": "stdout",
     "output_type": "stream",
     "text": [
      "Testing DeepBind SingleTask model on RNCMPT00003\n",
      "No transforms given, assuming just need to tensorize).\n"
     ]
    },
    {
     "name": "stderr",
     "output_type": "stream",
     "text": [
      "GPU available: False, used: False\n",
      "TPU available: False, using: 0 TPU cores\n",
      "IPU available: False, using: 0 IPUs\n"
     ]
    },
    {
     "data": {
      "application/vnd.jupyter.widget-view+json": {
       "model_id": "57a6319250894c8cadbfe9b8ab2e0603",
       "version_major": 2,
       "version_minor": 0
      },
      "text/plain": [
       "Predicting: 0it [00:00, ?it/s]"
      ]
     },
     "metadata": {},
     "output_type": "display_data"
    },
    {
     "name": "stdout",
     "output_type": "stream",
     "text": [
      "Testing DeepBind SingleTask model on RNCMPT00004\n",
      "No transforms given, assuming just need to tensorize).\n"
     ]
    },
    {
     "name": "stderr",
     "output_type": "stream",
     "text": [
      "GPU available: False, used: False\n",
      "TPU available: False, using: 0 TPU cores\n",
      "IPU available: False, using: 0 IPUs\n"
     ]
    },
    {
     "data": {
      "application/vnd.jupyter.widget-view+json": {
       "model_id": "71e2cc23c1594d80876ef439a79e8c51",
       "version_major": 2,
       "version_minor": 0
      },
      "text/plain": [
       "Predicting: 0it [00:00, ?it/s]"
      ]
     },
     "metadata": {},
     "output_type": "display_data"
    },
    {
     "name": "stdout",
     "output_type": "stream",
     "text": [
      "Testing DeepBind SingleTask model on RNCMPT00005\n",
      "No transforms given, assuming just need to tensorize).\n"
     ]
    },
    {
     "name": "stderr",
     "output_type": "stream",
     "text": [
      "GPU available: False, used: False\n",
      "TPU available: False, using: 0 TPU cores\n",
      "IPU available: False, using: 0 IPUs\n"
     ]
    },
    {
     "data": {
      "application/vnd.jupyter.widget-view+json": {
       "model_id": "457812a29a2846cd88ba2ab7ae23778e",
       "version_major": 2,
       "version_minor": 0
      },
      "text/plain": [
       "Predicting: 0it [00:00, ?it/s]"
      ]
     },
     "metadata": {},
     "output_type": "display_data"
    },
    {
     "name": "stdout",
     "output_type": "stream",
     "text": [
      "Testing DeepBind SingleTask model on RNCMPT00006\n",
      "No model trained for RNCMPT00006\n",
      "Testing DeepBind SingleTask model on RNCMPT00007\n",
      "No transforms given, assuming just need to tensorize).\n"
     ]
    },
    {
     "name": "stderr",
     "output_type": "stream",
     "text": [
      "GPU available: False, used: False\n",
      "TPU available: False, using: 0 TPU cores\n",
      "IPU available: False, using: 0 IPUs\n"
     ]
    },
    {
     "data": {
      "application/vnd.jupyter.widget-view+json": {
       "model_id": "ba398942fb4a44ea91f2405389ec7840",
       "version_major": 2,
       "version_minor": 0
      },
      "text/plain": [
       "Predicting: 0it [00:00, ?it/s]"
      ]
     },
     "metadata": {},
     "output_type": "display_data"
    },
    {
     "name": "stdout",
     "output_type": "stream",
     "text": [
      "SeqData object modified:\n",
      "    seqs_annot:\n",
      "        + RNCMPT00007_predictions_ST\n",
      "Testing DeepBind SingleTask model on RNCMPT00008\n",
      "No transforms given, assuming just need to tensorize).\n"
     ]
    },
    {
     "name": "stderr",
     "output_type": "stream",
     "text": [
      "GPU available: False, used: False\n",
      "TPU available: False, using: 0 TPU cores\n",
      "IPU available: False, using: 0 IPUs\n"
     ]
    },
    {
     "data": {
      "application/vnd.jupyter.widget-view+json": {
       "model_id": "d193738e9a7a403cb50857e1dc3da188",
       "version_major": 2,
       "version_minor": 0
      },
      "text/plain": [
       "Predicting: 0it [00:00, ?it/s]"
      ]
     },
     "metadata": {},
     "output_type": "display_data"
    },
    {
     "name": "stdout",
     "output_type": "stream",
     "text": [
      "SeqData object modified:\n",
      "    seqs_annot:\n",
      "        + RNCMPT00008_predictions_ST\n",
      "Testing DeepBind SingleTask model on RNCMPT00009\n",
      "No transforms given, assuming just need to tensorize).\n"
     ]
    },
    {
     "name": "stderr",
     "output_type": "stream",
     "text": [
      "GPU available: False, used: False\n",
      "TPU available: False, using: 0 TPU cores\n",
      "IPU available: False, using: 0 IPUs\n"
     ]
    },
    {
     "data": {
      "application/vnd.jupyter.widget-view+json": {
       "model_id": "918ed5ac099e4010936b36961498f087",
       "version_major": 2,
       "version_minor": 0
      },
      "text/plain": [
       "Predicting: 0it [00:00, ?it/s]"
      ]
     },
     "metadata": {},
     "output_type": "display_data"
    },
    {
     "name": "stdout",
     "output_type": "stream",
     "text": [
      "SeqData object modified:\n",
      "    seqs_annot:\n",
      "        + RNCMPT00009_predictions_ST\n",
      "Testing DeepBind SingleTask model on RNCMPT00010\n",
      "No model trained for RNCMPT00010\n",
      "Testing DeepBind SingleTask model on RNCMPT00011\n",
      "No transforms given, assuming just need to tensorize).\n"
     ]
    },
    {
     "name": "stderr",
     "output_type": "stream",
     "text": [
      "GPU available: False, used: False\n",
      "TPU available: False, using: 0 TPU cores\n",
      "IPU available: False, using: 0 IPUs\n"
     ]
    },
    {
     "data": {
      "application/vnd.jupyter.widget-view+json": {
       "model_id": "81bb36adbc234813a313fd9b2a3c280c",
       "version_major": 2,
       "version_minor": 0
      },
      "text/plain": [
       "Predicting: 0it [00:00, ?it/s]"
      ]
     },
     "metadata": {},
     "output_type": "display_data"
    },
    {
     "name": "stdout",
     "output_type": "stream",
     "text": [
      "SeqData object modified:\n",
      "    seqs_annot:\n",
      "        + RNCMPT00011_predictions_ST\n",
      "Testing DeepBind SingleTask model on RNCMPT00012\n",
      "No transforms given, assuming just need to tensorize).\n"
     ]
    },
    {
     "name": "stderr",
     "output_type": "stream",
     "text": [
      "GPU available: False, used: False\n",
      "TPU available: False, using: 0 TPU cores\n",
      "IPU available: False, using: 0 IPUs\n"
     ]
    },
    {
     "data": {
      "application/vnd.jupyter.widget-view+json": {
       "model_id": "27628ccda173476fb2db97d429ba3103",
       "version_major": 2,
       "version_minor": 0
      },
      "text/plain": [
       "Predicting: 0it [00:00, ?it/s]"
      ]
     },
     "metadata": {},
     "output_type": "display_data"
    },
    {
     "name": "stdout",
     "output_type": "stream",
     "text": [
      "SeqData object modified:\n",
      "    seqs_annot:\n",
      "        + RNCMPT00012_predictions_ST\n",
      "Testing DeepBind SingleTask model on RNCMPT00013\n",
      "No transforms given, assuming just need to tensorize).\n"
     ]
    },
    {
     "name": "stderr",
     "output_type": "stream",
     "text": [
      "GPU available: False, used: False\n",
      "TPU available: False, using: 0 TPU cores\n",
      "IPU available: False, using: 0 IPUs\n"
     ]
    },
    {
     "data": {
      "application/vnd.jupyter.widget-view+json": {
       "model_id": "b256ebc0c7a6497c8c58143bd44ad7c9",
       "version_major": 2,
       "version_minor": 0
      },
      "text/plain": [
       "Predicting: 0it [00:00, ?it/s]"
      ]
     },
     "metadata": {},
     "output_type": "display_data"
    },
    {
     "name": "stdout",
     "output_type": "stream",
     "text": [
      "SeqData object modified:\n",
      "    seqs_annot:\n",
      "        + RNCMPT00013_predictions_ST\n",
      "Testing DeepBind SingleTask model on RNCMPT00014\n",
      "No transforms given, assuming just need to tensorize).\n"
     ]
    },
    {
     "name": "stderr",
     "output_type": "stream",
     "text": [
      "GPU available: False, used: False\n",
      "TPU available: False, using: 0 TPU cores\n",
      "IPU available: False, using: 0 IPUs\n"
     ]
    },
    {
     "data": {
      "application/vnd.jupyter.widget-view+json": {
       "model_id": "fda84452534344ccbedc83f187bc8a6c",
       "version_major": 2,
       "version_minor": 0
      },
      "text/plain": [
       "Predicting: 0it [00:00, ?it/s]"
      ]
     },
     "metadata": {},
     "output_type": "display_data"
    },
    {
     "name": "stdout",
     "output_type": "stream",
     "text": [
      "SeqData object modified:\n",
      "    seqs_annot:\n",
      "        + RNCMPT00014_predictions_ST\n",
      "Testing DeepBind SingleTask model on RNCMPT00015\n",
      "No transforms given, assuming just need to tensorize).\n"
     ]
    },
    {
     "name": "stderr",
     "output_type": "stream",
     "text": [
      "GPU available: False, used: False\n",
      "TPU available: False, using: 0 TPU cores\n",
      "IPU available: False, using: 0 IPUs\n"
     ]
    },
    {
     "data": {
      "application/vnd.jupyter.widget-view+json": {
       "model_id": "8eaccb58bbf943eb9aca245f6a186ab4",
       "version_major": 2,
       "version_minor": 0
      },
      "text/plain": [
       "Predicting: 0it [00:00, ?it/s]"
      ]
     },
     "metadata": {},
     "output_type": "display_data"
    },
    {
     "name": "stdout",
     "output_type": "stream",
     "text": [
      "SeqData object modified:\n",
      "    seqs_annot:\n",
      "        + RNCMPT00015_predictions_ST\n",
      "Testing DeepBind SingleTask model on RNCMPT00016\n",
      "No transforms given, assuming just need to tensorize).\n"
     ]
    },
    {
     "name": "stderr",
     "output_type": "stream",
     "text": [
      "GPU available: False, used: False\n",
      "TPU available: False, using: 0 TPU cores\n",
      "IPU available: False, using: 0 IPUs\n"
     ]
    },
    {
     "data": {
      "application/vnd.jupyter.widget-view+json": {
       "model_id": "d36d56cc988c4393beba2ba7abf15898",
       "version_major": 2,
       "version_minor": 0
      },
      "text/plain": [
       "Predicting: 0it [00:00, ?it/s]"
      ]
     },
     "metadata": {},
     "output_type": "display_data"
    },
    {
     "name": "stdout",
     "output_type": "stream",
     "text": [
      "SeqData object modified:\n",
      "    seqs_annot:\n",
      "        + RNCMPT00016_predictions_ST\n",
      "Testing DeepBind SingleTask model on RNCMPT00017\n",
      "No transforms given, assuming just need to tensorize).\n"
     ]
    },
    {
     "name": "stderr",
     "output_type": "stream",
     "text": [
      "GPU available: False, used: False\n",
      "TPU available: False, using: 0 TPU cores\n",
      "IPU available: False, using: 0 IPUs\n"
     ]
    },
    {
     "data": {
      "application/vnd.jupyter.widget-view+json": {
       "model_id": "472351c413724eaf9e53a5515623eb92",
       "version_major": 2,
       "version_minor": 0
      },
      "text/plain": [
       "Predicting: 0it [00:00, ?it/s]"
      ]
     },
     "metadata": {},
     "output_type": "display_data"
    },
    {
     "name": "stdout",
     "output_type": "stream",
     "text": [
      "SeqData object modified:\n",
      "    seqs_annot:\n",
      "        + RNCMPT00017_predictions_ST\n",
      "Testing DeepBind SingleTask model on RNCMPT00018\n",
      "No transforms given, assuming just need to tensorize).\n"
     ]
    },
    {
     "name": "stderr",
     "output_type": "stream",
     "text": [
      "GPU available: False, used: False\n",
      "TPU available: False, using: 0 TPU cores\n",
      "IPU available: False, using: 0 IPUs\n"
     ]
    },
    {
     "data": {
      "application/vnd.jupyter.widget-view+json": {
       "model_id": "ff1bc794b9b6477fba90a3da604abcb5",
       "version_major": 2,
       "version_minor": 0
      },
      "text/plain": [
       "Predicting: 0it [00:00, ?it/s]"
      ]
     },
     "metadata": {},
     "output_type": "display_data"
    },
    {
     "name": "stdout",
     "output_type": "stream",
     "text": [
      "SeqData object modified:\n",
      "    seqs_annot:\n",
      "        + RNCMPT00018_predictions_ST\n",
      "Testing DeepBind SingleTask model on RNCMPT00019\n",
      "No transforms given, assuming just need to tensorize).\n"
     ]
    },
    {
     "name": "stderr",
     "output_type": "stream",
     "text": [
      "GPU available: False, used: False\n",
      "TPU available: False, using: 0 TPU cores\n",
      "IPU available: False, using: 0 IPUs\n"
     ]
    },
    {
     "data": {
      "application/vnd.jupyter.widget-view+json": {
       "model_id": "f9df0ff2eb6f43da9b54931eead872a3",
       "version_major": 2,
       "version_minor": 0
      },
      "text/plain": [
       "Predicting: 0it [00:00, ?it/s]"
      ]
     },
     "metadata": {},
     "output_type": "display_data"
    },
    {
     "name": "stdout",
     "output_type": "stream",
     "text": [
      "SeqData object modified:\n",
      "    seqs_annot:\n",
      "        + RNCMPT00019_predictions_ST\n",
      "Testing DeepBind SingleTask model on RNCMPT00020\n",
      "No transforms given, assuming just need to tensorize).\n"
     ]
    },
    {
     "name": "stderr",
     "output_type": "stream",
     "text": [
      "GPU available: False, used: False\n",
      "TPU available: False, using: 0 TPU cores\n",
      "IPU available: False, using: 0 IPUs\n"
     ]
    },
    {
     "data": {
      "application/vnd.jupyter.widget-view+json": {
       "model_id": "259fdb0251aa4c7bb050c2fa5e64a5ec",
       "version_major": 2,
       "version_minor": 0
      },
      "text/plain": [
       "Predicting: 0it [00:00, ?it/s]"
      ]
     },
     "metadata": {},
     "output_type": "display_data"
    },
    {
     "name": "stdout",
     "output_type": "stream",
     "text": [
      "SeqData object modified:\n",
      "    seqs_annot:\n",
      "        + RNCMPT00020_predictions_ST\n"
     ]
    }
   ],
   "source": [
    "# Get predictions on the test data from all single task models\n",
    "for i, target_col in enumerate(target_cols[:20]):\n",
    "    print(f\"Testing DeepBind SingleTask model on {target_col}\")\n",
    "    try:\n",
    "        model_file = glob.glob(os.path.join(eu.settings.logging_dir, \"DeepBind_ST\", target_col, \"checkpoints\", \"*\"))[0]\n",
    "        model = eu.models.DeepBind.load_from_checkpoint(model_file)\n",
    "    except:\n",
    "        print(f\"No model trained for {target_col}\")\n",
    "        continue\n",
    "    eu.settings.dl_num_workers = 0\n",
    "    eu.predict.predictions(\n",
    "        model,\n",
    "        sdata=sdata_test, \n",
    "        target=target_col,\n",
    "        name=\"DeepBind_ST\",\n",
    "        version=target_col,\n",
    "        file_label=\"test\",\n",
    "        suffix=\"_ST\"\n",
    "    )\n",
    "    del model"
   ]
  },
  {
   "cell_type": "code",
   "execution_count": 29,
   "id": "6891dd20",
   "metadata": {
    "execution": {
     "iopub.execute_input": "2022-09-05T17:55:19.635892Z",
     "iopub.status.busy": "2022-09-05T17:55:19.635410Z",
     "iopub.status.idle": "2022-09-05T17:58:16.025658Z",
     "shell.execute_reply": "2022-09-05T17:58:16.023980Z",
     "shell.execute_reply.started": "2022-09-05T17:55:19.635860Z"
    },
    "tags": [],
    "vscode": {
     "languageId": "python"
    }
   },
   "outputs": [
    {
     "data": {
      "application/vnd.jupyter.widget-view+json": {
       "model_id": "f58ea909b6d14baa81a29998cc0c4490",
       "version_major": 2,
       "version_minor": 0
      },
      "text/plain": [
       "Evaluating probes:   0%|          | 0/3 [00:00<?, ?it/s]"
      ]
     },
     "metadata": {},
     "output_type": "display_data"
    },
    {
     "data": {
      "application/vnd.jupyter.widget-view+json": {
       "model_id": "c0ef385476594b0a9ec217afdd9f50c0",
       "version_major": 2,
       "version_minor": 0
      },
      "text/plain": [
       "  0%|          | 0/100 [00:00<?, ?it/s]"
      ]
     },
     "metadata": {},
     "output_type": "display_data"
    },
    {
     "data": {
      "application/vnd.jupyter.widget-view+json": {
       "model_id": "66edae5eb5df47729409c547be581530",
       "version_major": 2,
       "version_minor": 0
      },
      "text/plain": [
       "  0%|          | 0/100 [00:00<?, ?it/s]"
      ]
     },
     "metadata": {},
     "output_type": "display_data"
    },
    {
     "data": {
      "application/vnd.jupyter.widget-view+json": {
       "model_id": "3f53be3ac9604e1fb2cbb1dfa35a13c7",
       "version_major": 2,
       "version_minor": 0
      },
      "text/plain": [
       "  0%|          | 0/100 [00:00<?, ?it/s]"
      ]
     },
     "metadata": {},
     "output_type": "display_data"
    },
    {
     "data": {
      "application/vnd.jupyter.widget-view+json": {
       "model_id": "700801836ef848d2a4b36b10bafdc6e2",
       "version_major": 2,
       "version_minor": 0
      },
      "text/plain": [
       "  0%|          | 0/100 [00:00<?, ?it/s]"
      ]
     },
     "metadata": {},
     "output_type": "display_data"
    },
    {
     "data": {
      "application/vnd.jupyter.widget-view+json": {
       "model_id": "832dfc79b5c240aebd5ebecd08798f62",
       "version_major": 2,
       "version_minor": 0
      },
      "text/plain": [
       "  0%|          | 0/100 [00:00<?, ?it/s]"
      ]
     },
     "metadata": {},
     "output_type": "display_data"
    },
    {
     "data": {
      "application/vnd.jupyter.widget-view+json": {
       "model_id": "2d471c9a295b4c92915c76c35bb9af89",
       "version_major": 2,
       "version_minor": 0
      },
      "text/plain": [
       "  0%|          | 0/100 [00:00<?, ?it/s]"
      ]
     },
     "metadata": {},
     "output_type": "display_data"
    }
   ],
   "source": [
    "# Get evaluation metrics for all single task models and format for plotting\n",
    "pearson_ST_df, spearman_ST_df = eu.predict.summarize_rbps_apply(sdata_test, b_presence_absence, target_cols[:3], use_calc_auc=True, verbose=True, n_kmers=100, preds_suffix=\"_predictions_ST\")\n",
    "pearson_ST_long = pearson_ST_df.reset_index().melt(id_vars=\"index\", value_name=\"Pearson\", var_name=\"Metric\").rename({\"index\":\"RBP\"}, axis=1)\n",
    "spearman_ST_long = spearman_ST_df.reset_index().melt(id_vars=\"index\", value_name=\"Spearman\", var_name=\"Metric\").rename({\"index\":\"RBP\"}, axis=1)\n",
    "pearson_ST_long[\"Model\"] = \"SingleTask\"\n",
    "spearman_ST_long[\"Model\"] = \"SingleTask\""
   ]
  },
  {
   "cell_type": "code",
   "execution_count": 30,
   "id": "2366f7ee",
   "metadata": {
    "execution": {
     "iopub.execute_input": "2022-09-05T17:58:21.113789Z",
     "iopub.status.busy": "2022-09-05T17:58:21.113311Z",
     "iopub.status.idle": "2022-09-05T17:58:26.091159Z",
     "shell.execute_reply": "2022-09-05T17:58:26.090167Z",
     "shell.execute_reply.started": "2022-09-05T17:58:21.113755Z"
    },
    "vscode": {
     "languageId": "python"
    }
   },
   "outputs": [
    {
     "data": {
      "image/png": "[encoded data removed]",
      "text/plain": [
       "<Figure size 576x288 with 2 Axes>"
      ]
     },
     "metadata": {
      "needs_background": "light"
     },
     "output_type": "display_data"
    }
   ],
   "source": [
    "# Plot just the single task model eval\n",
    "fig, ax = plt.subplots(1, 2, figsize=(8, 4))\n",
    "sns.boxplot(data=pearson_ST_long, x=\"Metric\", y=\"Pearson\", color=\"red\", ax=ax[0])\n",
    "sns.boxplot(data=spearman_ST_long, x=\"Metric\", y=\"Spearman\", color=\"red\", ax=ax[1])\n",
    "plt.tight_layout()\n",
    "plt.savefig(os.path.join(figure_dir, \"correlation_boxplots_ST.pdf\"))"
   ]
  },
  {
   "cell_type": "markdown",
   "id": "69f3fdc1",
   "metadata": {
    "jp-MarkdownHeadingCollapsed": true,
    "tags": []
   },
   "source": [
    "## Multitask model evaluation"
   ]
  },
  {
   "cell_type": "code",
   "execution_count": 35,
   "id": "902efa40",
   "metadata": {
    "execution": {
     "iopub.execute_input": "2022-09-05T17:59:33.140750Z",
     "iopub.status.busy": "2022-09-05T17:59:33.140216Z",
     "iopub.status.idle": "2022-09-05T17:59:35.308544Z",
     "shell.execute_reply": "2022-09-05T17:59:35.307573Z",
     "shell.execute_reply.started": "2022-09-05T17:59:33.140718Z"
    },
    "tags": [],
    "vscode": {
     "languageId": "python"
    }
   },
   "outputs": [
    {
     "data": {
      "text/plain": [
       "233"
      ]
     },
     "execution_count": 35,
     "metadata": {},
     "output_type": "execute_result"
    }
   ],
   "source": [
    "# Also need the multi-task columns (single task we could train on all the columns)\n",
    "sdata_training = eu.dl.read_h5sd(os.path.join(eu.settings.dataset_dir, eu.settings.dataset_dir, \"norm_setA_sub_MT.h5sd\"))\n",
    "target_mask_MT = sdata_training.seqs_annot.columns.str.contains(\"RNCMPT\")\n",
    "target_cols_MT = sdata_training.seqs_annot.columns[target_mask_MT]\n",
    "del sdata_training\n",
    "len(target_cols_MT)"
   ]
  },
  {
   "cell_type": "code",
   "execution_count": 36,
   "id": "4fb9c79f",
   "metadata": {
    "execution": {
     "iopub.execute_input": "2022-09-05T17:59:36.483603Z",
     "iopub.status.busy": "2022-09-05T17:59:36.483143Z",
     "iopub.status.idle": "2022-09-05T18:01:23.465110Z",
     "shell.execute_reply": "2022-09-05T18:01:23.463937Z",
     "shell.execute_reply.started": "2022-09-05T17:59:36.483570Z"
    },
    "tags": [],
    "vscode": {
     "languageId": "python"
    }
   },
   "outputs": [
    {
     "name": "stdout",
     "output_type": "stream",
     "text": [
      "Testing DeepBind MultiTask model on\n",
      "No transforms given, assuming just need to tensorize).\n"
     ]
    },
    {
     "name": "stderr",
     "output_type": "stream",
     "text": [
      "GPU available: False, used: False\n",
      "TPU available: False, using: 0 TPU cores\n",
      "IPU available: False, using: 0 IPUs\n",
      "/cellar/users/aklie/opt/miniconda3/envs/eugene_dev/lib/python3.7/site-packages/pytorch_lightning/trainer/data_loading.py:133: UserWarning: The dataloader, predict_dataloader 0, does not have many workers which may be a bottleneck. Consider increasing the value of the `num_workers` argument` (try 96 which is the number of cpus on this machine) in the `DataLoader` init to improve performance.\n",
      "  f\"The dataloader, {name}, does not have many workers which may be a bottleneck.\"\n"
     ]
    },
    {
     "data": {
      "application/vnd.jupyter.widget-view+json": {
       "model_id": "8f21c0b5468d49d2b3613a9737f8155e",
       "version_major": 2,
       "version_minor": 0
      },
      "text/plain": [
       "Predicting: 0it [00:00, ?it/s]"
      ]
     },
     "metadata": {},
     "output_type": "display_data"
    },
    {
     "name": "stderr",
     "output_type": "stream",
     "text": [
      "/cellar/users/aklie/opt/miniconda3/envs/eugene_dev/lib/python3.7/site-packages/pandas/core/frame.py:3636: PerformanceWarning: DataFrame is highly fragmented.  This is usually the result of calling `frame.insert` many times, which has poor performance.  Consider using pd.concat instead.  To get a de-fragmented frame, use `newframe = frame.copy()`\n",
      "  self[k1] = value[k2]\n"
     ]
    },
    {
     "name": "stdout",
     "output_type": "stream",
     "text": [
      "SeqData object modified:\n",
      "    seqs_annot:\n",
      "        + RNCMPT00187_predictions_MT, RNCMPT00138_predictions_MT, RNCMPT00073_predictions_MT, RNCMPT00117_predictions_MT, RNCMPT00197_predictions_MT, RNCMPT00076_predictions_MT, RNCMPT00139_predictions_MT, RNCMPT00265_predictions_MT, RNCMPT00285_predictions_MT, RNCMPT00284_predictions_MT, RNCMPT00012_predictions_MT, RNCMPT00121_predictions_MT, RNCMPT00291_predictions_MT, RNCMPT00056_predictions_MT, RNCMPT00143_predictions_MT, RNCMPT00091_predictions_MT, RNCMPT00111_predictions_MT, RNCMPT00241_predictions_MT, RNCMPT00239_predictions_MT, RNCMPT00068_predictions_MT, RNCMPT00086_predictions_MT, RNCMPT00236_predictions_MT, RNCMPT00023_predictions_MT, RNCMPT00090_predictions_MT, RNCMPT00057_predictions_MT, RNCMPT00219_predictions_MT, RNCMPT00010_predictions_MT, RNCMPT00175_predictions_MT, RNCMPT00203_predictions_MT, RNCMPT00226_predictions_MT, RNCMPT00258_predictions_MT, RNCMPT00038_predictions_MT, RNCMPT00289_predictions_MT, RNCMPT00184_predictions_MT, RNCMPT00256_predictions_MT, RNCMPT00029_predictions_MT, RNCMPT00110_predictions_MT, RNCMPT00083_predictions_MT, RNCMPT00051_predictions_MT, RNCMPT00069_predictions_MT, RNCMPT00253_predictions_MT, RNCMPT00006_predictions_MT, RNCMPT00170_predictions_MT, RNCMPT00094_predictions_MT, RNCMPT00157_predictions_MT, RNCMPT00259_predictions_MT, RNCMPT00132_predictions_MT, RNCMPT00112_predictions_MT, RNCMPT00037_predictions_MT, RNCMPT00080_predictions_MT, RNCMPT00257_predictions_MT, RNCMPT00215_predictions_MT, RNCMPT00240_predictions_MT, RNCMPT00095_predictions_MT, RNCMPT00150_predictions_MT, RNCMPT00067_predictions_MT, RNCMPT00230_predictions_MT, RNCMPT00126_predictions_MT, RNCMPT00052_predictions_MT, RNCMPT00178_predictions_MT, RNCMPT00183_predictions_MT, RNCMPT00007_predictions_MT, RNCMPT00026_predictions_MT, RNCMPT00251_predictions_MT, RNCMPT00059_predictions_MT, RNCMPT00218_predictions_MT, RNCMPT00166_predictions_MT, RNCMPT00172_predictions_MT, RNCMPT00087_predictions_MT, RNCMPT00003_predictions_MT, RNCMPT00082_predictions_MT, RNCMPT00046_predictions_MT, RNCMPT00136_predictions_MT, RNCMPT00103_predictions_MT, RNCMPT00232_predictions_MT, RNCMPT00281_predictions_MT, RNCMPT00079_predictions_MT, RNCMPT00066_predictions_MT, RNCMPT00036_predictions_MT, RNCMPT00114_predictions_MT, RNCMPT00186_predictions_MT, RNCMPT00169_predictions_MT, RNCMPT00084_predictions_MT, RNCMPT00027_predictions_MT, RNCMPT00134_predictions_MT, RNCMPT00004_predictions_MT, RNCMPT00220_predictions_MT, RNCMPT00149_predictions_MT, RNCMPT00017_predictions_MT, RNCMPT00099_predictions_MT, RNCMPT00070_predictions_MT, RNCMPT00065_predictions_MT, RNCMPT00171_predictions_MT, RNCMPT00160_predictions_MT, RNCMPT00209_predictions_MT, RNCMPT00033_predictions_MT, RNCMPT00018_predictions_MT, RNCMPT00034_predictions_MT, RNCMPT00063_predictions_MT, RNCMPT00173_predictions_MT, RNCMPT00072_predictions_MT, RNCMPT00185_predictions_MT, RNCMPT00021_predictions_MT, RNCMPT00123_predictions_MT, RNCMPT00272_predictions_MT, RNCMPT00053_predictions_MT, RNCMPT00088_predictions_MT, RNCMPT00035_predictions_MT, RNCMPT00049_predictions_MT, RNCMPT00024_predictions_MT, RNCMPT00137_predictions_MT, RNCMPT00177_predictions_MT, RNCMPT00107_predictions_MT, RNCMPT00174_predictions_MT, RNCMPT00180_predictions_MT, RNCMPT00235_predictions_MT, RNCMPT00202_predictions_MT, RNCMPT00055_predictions_MT, RNCMPT00101_predictions_MT, RNCMPT00081_predictions_MT, RNCMPT00109_predictions_MT, RNCMPT00206_predictions_MT, RNCMPT00252_predictions_MT, RNCMPT00212_predictions_MT, RNCMPT00118_predictions_MT, RNCMPT00249_predictions_MT, RNCMPT00237_predictions_MT, RNCMPT00158_predictions_MT, RNCMPT00205_predictions_MT, RNCMPT00022_predictions_MT, RNCMPT00011_predictions_MT, RNCMPT00156_predictions_MT, RNCMPT00054_predictions_MT, RNCMPT00255_predictions_MT, RNCMPT00181_predictions_MT, RNCMPT00140_predictions_MT, RNCMPT00179_predictions_MT, RNCMPT00224_predictions_MT, RNCMPT00001_predictions_MT, RNCMPT00113_predictions_MT, RNCMPT00164_predictions_MT, RNCMPT00246_predictions_MT, RNCMPT00071_predictions_MT, RNCMPT00100_predictions_MT, RNCMPT00217_predictions_MT, RNCMPT00238_predictions_MT, RNCMPT00014_predictions_MT, RNCMPT00176_predictions_MT, RNCMPT00028_predictions_MT, RNCMPT00093_predictions_MT, RNCMPT00102_predictions_MT, RNCMPT00248_predictions_MT, RNCMPT00078_predictions_MT, RNCMPT00064_predictions_MT, RNCMPT00025_predictions_MT, RNCMPT00282_predictions_MT, RNCMPT00167_predictions_MT, RNCMPT00122_predictions_MT, RNCMPT00155_predictions_MT, RNCMPT00225_predictions_MT, RNCMPT00152_predictions_MT, RNCMPT00077_predictions_MT, RNCMPT00280_predictions_MT, RNCMPT00279_predictions_MT, RNCMPT00200_predictions_MT, RNCMPT00042_predictions_MT, RNCMPT00163_predictions_MT, RNCMPT00041_predictions_MT, RNCMPT00216_predictions_MT, RNCMPT00032_predictions_MT, RNCMPT00047_predictions_MT, RNCMPT00096_predictions_MT, RNCMPT00040_predictions_MT, RNCMPT00245_predictions_MT, RNCMPT00261_predictions_MT, RNCMPT00108_predictions_MT, RNCMPT00074_predictions_MT, RNCMPT00142_predictions_MT, RNCMPT00162_predictions_MT, RNCMPT00031_predictions_MT, RNCMPT00199_predictions_MT, RNCMPT00182_predictions_MT, RNCMPT00005_predictions_MT, RNCMPT00147_predictions_MT, RNCMPT00127_predictions_MT, RNCMPT00116_predictions_MT, RNCMPT00106_predictions_MT, RNCMPT00268_predictions_MT, RNCMPT00165_predictions_MT, RNCMPT00050_predictions_MT, RNCMPT00013_predictions_MT, RNCMPT00124_predictions_MT, RNCMPT00043_predictions_MT, RNCMPT00283_predictions_MT, RNCMPT00016_predictions_MT, RNCMPT00075_predictions_MT, RNCMPT00270_predictions_MT, RNCMPT00141_predictions_MT, RNCMPT00146_predictions_MT, RNCMPT00062_predictions_MT, RNCMPT00229_predictions_MT, RNCMPT00254_predictions_MT, RNCMPT00168_predictions_MT, RNCMPT00269_predictions_MT, RNCMPT00151_predictions_MT, RNCMPT00044_predictions_MT, RNCMPT00274_predictions_MT, RNCMPT00278_predictions_MT, RNCMPT00020_predictions_MT, RNCMPT00161_predictions_MT, RNCMPT00133_predictions_MT, RNCMPT00045_predictions_MT, RNCMPT00234_predictions_MT, RNCMPT00273_predictions_MT, RNCMPT00104_predictions_MT, RNCMPT00263_predictions_MT, RNCMPT00039_predictions_MT, RNCMPT00153_predictions_MT, RNCMPT00002_predictions_MT, RNCMPT00228_predictions_MT, RNCMPT00159_predictions_MT, RNCMPT00287_predictions_MT, RNCMPT00019_predictions_MT, RNCMPT00105_predictions_MT, RNCMPT00288_predictions_MT, RNCMPT00085_predictions_MT, RNCMPT00223_predictions_MT, RNCMPT00262_predictions_MT, RNCMPT00131_predictions_MT, RNCMPT00089_predictions_MT, RNCMPT00120_predictions_MT, RNCMPT00119_predictions_MT, RNCMPT00148_predictions_MT\n"
     ]
    }
   ],
   "source": [
    "# Get predictions on the test data from all multi task models\n",
    "print(\"Testing DeepBind MultiTask model on\")\n",
    "version = 0\n",
    "model_file = glob.glob(os.path.join(eu.settings.logging_dir, \"DeepBind_MT\", f\"v{version}\", \"checkpoints\", \"*\"))[0]\n",
    "model = eu.models.DeepBind.load_from_checkpoint(model_file)\n",
    "eu.settings.dl_num_workers = 0\n",
    "eu.predict.predictions(\n",
    "    model,\n",
    "    sdata=sdata_test, \n",
    "    target=target_cols_MT,\n",
    "    name=\"DeepBind_MT\",\n",
    "    version=f\"v{version}\",\n",
    "    file_label=\"test\",\n",
    "    suffix=\"_MT\"\n",
    ")\n",
    "del model"
   ]
  },
  {
   "cell_type": "code",
   "execution_count": 37,
   "id": "f3241bcd",
   "metadata": {
    "execution": {
     "iopub.execute_input": "2022-09-05T18:02:28.700583Z",
     "iopub.status.busy": "2022-09-05T18:02:28.700095Z",
     "iopub.status.idle": "2022-09-05T18:05:23.983816Z",
     "shell.execute_reply": "2022-09-05T18:05:23.981820Z",
     "shell.execute_reply.started": "2022-09-05T18:02:28.700547Z"
    },
    "tags": [],
    "vscode": {
     "languageId": "python"
    }
   },
   "outputs": [
    {
     "data": {
      "application/vnd.jupyter.widget-view+json": {
       "model_id": "1ae360c733e0459d8bba47c736d94624",
       "version_major": 2,
       "version_minor": 0
      },
      "text/plain": [
       "Evaluating probes:   0%|          | 0/3 [00:00<?, ?it/s]"
      ]
     },
     "metadata": {},
     "output_type": "display_data"
    },
    {
     "data": {
      "application/vnd.jupyter.widget-view+json": {
       "model_id": "8a9bd2d6612c4a8ca8b8ca5f43e831c9",
       "version_major": 2,
       "version_minor": 0
      },
      "text/plain": [
       "  0%|          | 0/100 [00:00<?, ?it/s]"
      ]
     },
     "metadata": {},
     "output_type": "display_data"
    },
    {
     "data": {
      "application/vnd.jupyter.widget-view+json": {
       "model_id": "2cbd01679c124d06b5c6b60f1435b3fd",
       "version_major": 2,
       "version_minor": 0
      },
      "text/plain": [
       "  0%|          | 0/100 [00:00<?, ?it/s]"
      ]
     },
     "metadata": {},
     "output_type": "display_data"
    },
    {
     "data": {
      "application/vnd.jupyter.widget-view+json": {
       "model_id": "8e19d2aafb0e490cabb61f490ca8bc10",
       "version_major": 2,
       "version_minor": 0
      },
      "text/plain": [
       "  0%|          | 0/100 [00:00<?, ?it/s]"
      ]
     },
     "metadata": {},
     "output_type": "display_data"
    },
    {
     "data": {
      "application/vnd.jupyter.widget-view+json": {
       "model_id": "95e819a4911844f0b022781b249a0c35",
       "version_major": 2,
       "version_minor": 0
      },
      "text/plain": [
       "  0%|          | 0/100 [00:00<?, ?it/s]"
      ]
     },
     "metadata": {},
     "output_type": "display_data"
    },
    {
     "data": {
      "application/vnd.jupyter.widget-view+json": {
       "model_id": "84ed2dbbb2d244f6b7049ba602bcbf22",
       "version_major": 2,
       "version_minor": 0
      },
      "text/plain": [
       "  0%|          | 0/100 [00:00<?, ?it/s]"
      ]
     },
     "metadata": {},
     "output_type": "display_data"
    },
    {
     "data": {
      "application/vnd.jupyter.widget-view+json": {
       "model_id": "64534c0b00e04277a582b67c89154287",
       "version_major": 2,
       "version_minor": 0
      },
      "text/plain": [
       "  0%|          | 0/100 [00:00<?, ?it/s]"
      ]
     },
     "metadata": {},
     "output_type": "display_data"
    }
   ],
   "source": [
    "# Get evaluation metrics for all single task models and format for plotting\n",
    "pearson_MT_df, spearman_MT_df = eu.predict.summarize_rbps_apply(sdata_test, b_presence_absence, target_cols_MT[:3], use_calc_auc=True, verbose=True, n_kmers=100, preds_suffix=\"_predictions_MT\")\n",
    "pearson_MT_long = pearson_MT_df.reset_index().melt(id_vars=\"index\", value_name=\"Pearson\", var_name=\"Metric\").rename({\"index\":\"RBP\"}, axis=1)\n",
    "spearman_MT_long = spearman_MT_df.reset_index().melt(id_vars=\"index\", value_name=\"Spearman\", var_name=\"Metric\").rename({\"index\":\"RBP\"}, axis=1)\n",
    "pearson_MT_long[\"Model\"] = \"MultiTask\"\n",
    "spearman_MT_long[\"Model\"] = \"MultiTask\""
   ]
  },
  {
   "cell_type": "code",
   "execution_count": 38,
   "id": "b7716b42",
   "metadata": {
    "execution": {
     "iopub.execute_input": "2022-09-05T18:06:02.547800Z",
     "iopub.status.busy": "2022-09-05T18:06:02.547283Z",
     "iopub.status.idle": "2022-09-05T18:06:07.269569Z",
     "shell.execute_reply": "2022-09-05T18:06:07.268564Z",
     "shell.execute_reply.started": "2022-09-05T18:06:02.547763Z"
    },
    "vscode": {
     "languageId": "python"
    }
   },
   "outputs": [
    {
     "data": {
      "image/png": "[encoded data removed]",
      "text/plain": [
       "<Figure size 576x288 with 2 Axes>"
      ]
     },
     "metadata": {
      "needs_background": "light"
     },
     "output_type": "display_data"
    }
   ],
   "source": [
    "# Plot just the multi task model eval\n",
    "fig, ax = plt.subplots(1, 2, figsize=(8, 4))\n",
    "sns.boxplot(data=pearson_MT_long, x=\"Metric\", y=\"Pearson\", color=\"blue\", ax=ax[0])\n",
    "sns.boxplot(data=spearman_MT_long, x=\"Metric\", y=\"Spearman\", color=\"blue\", ax=ax[1])\n",
    "plt.tight_layout()\n",
    "plt.savefig(os.path.join(figure_dir, \"correlation_boxplots_MT.pdf\"))"
   ]
  },
  {
   "cell_type": "markdown",
   "id": "875251c4-4028-4039-a22d-bbf35a208ed8",
   "metadata": {},
   "source": [
    "## Kipoi models"
   ]
  },
  {
   "cell_type": "code",
   "execution_count": 6,
   "id": "e984ad0c-728c-44b4-adc7-32097b51dda4",
   "metadata": {
    "execution": {
     "iopub.execute_input": "2022-09-08T00:23:17.124557Z",
     "iopub.status.busy": "2022-09-08T00:23:17.124295Z",
     "iopub.status.idle": "2022-09-08T00:23:18.799598Z",
     "shell.execute_reply": "2022-09-08T00:23:18.798992Z",
     "shell.execute_reply.started": "2022-09-08T00:23:17.124536Z"
    },
    "tags": [],
    "vscode": {
     "languageId": "python"
    }
   },
   "outputs": [],
   "source": [
    "# We need to get the protein IDs from the motifs in the\n",
    "id_mapping = pd.read_excel(os.path.join(eu.settings.dataset_dir, \"hg19_motif_hits\", \"ID.mapping.xls\"), sheet_name=0)\n",
    "id_mp = id_mapping.set_index(\"Motif ID\")[\"Protein(s)\"]\n",
    "cols_w_ids = ~target_cols.map(id_mp).isna()\n",
    "target_cols_w_ids = target_cols[cols_w_ids]\n",
    "ids_w_target_cols = pd.Index([id.split(\"(\")[0].rstrip() for id in target_cols_w_ids.map(id_mp)])"
   ]
  },
  {
   "cell_type": "code",
   "execution_count": 7,
   "id": "c10071e7-25ea-4596-8af5-a6fe4b82529f",
   "metadata": {
    "execution": {
     "iopub.execute_input": "2022-09-08T00:23:19.488751Z",
     "iopub.status.busy": "2022-09-08T00:23:19.488536Z",
     "iopub.status.idle": "2022-09-08T00:23:21.068845Z",
     "shell.execute_reply": "2022-09-08T00:23:21.068216Z",
     "shell.execute_reply.started": "2022-09-08T00:23:19.488734Z"
    },
    "tags": [],
    "vscode": {
     "languageId": "python"
    }
   },
   "outputs": [],
   "source": [
    "# Get the kipoi models names\n",
    "db_model_names = eu.external.kipoi.get_model_names(\"DeepBind/Homo_sapiens/RBP/D\")"
   ]
  },
  {
   "cell_type": "code",
   "execution_count": 13,
   "id": "b0904f8b-0161-4d02-a26e-d86713d48b59",
   "metadata": {
    "execution": {
     "iopub.execute_input": "2022-09-08T00:24:35.658226Z",
     "iopub.status.busy": "2022-09-08T00:24:35.657523Z",
     "iopub.status.idle": "2022-09-08T00:25:40.821866Z",
     "shell.execute_reply": "2022-09-08T00:25:40.821426Z",
     "shell.execute_reply.started": "2022-09-08T00:24:35.658205Z"
    },
    "tags": [],
    "vscode": {
     "languageId": "python"
    }
   },
   "outputs": [
    {
     "data": {
      "application/vnd.jupyter.widget-view+json": {
       "model_id": "1cb45cfbeb1547e4bc1bdd49707efc77",
       "version_major": 2,
       "version_minor": 0
      },
      "text/plain": [
       "Importing models:   0%|          | 0/131 [00:00<?, ?it/s]"
      ]
     },
     "metadata": {},
     "output_type": "display_data"
    },
    {
     "name": "stdout",
     "output_type": "stream",
     "text": [
      "Predicting for protein:  A1CF  motif:  RNCMPT00001\n",
      "Using downloaded and verified file: /cellar/users/aklie/.kipoi/models/DeepBind/downloaded/model_files/Homo_sapiens/RBP/D00084.001_RNAcompete_A1CF/arch/127f7597630be937c0495a27e6f42e5f\n",
      "Using downloaded and verified file: /cellar/users/aklie/.kipoi/models/DeepBind/downloaded/model_files/Homo_sapiens/RBP/D00084.001_RNAcompete_A1CF/weights/a4caf255312f44e3fd4e038a79691f2d\n"
     ]
    },
    {
     "name": "stderr",
     "output_type": "stream",
     "text": [
      "2022-09-07 17:24:37.611552: W tensorflow/core/util/tensor_slice_reader.cc:95] Could not open /cellar/users/aklie/.kipoi/models/DeepBind/downloaded/model_files/Homo_sapiens/RBP/D00084.001_RNAcompete_A1CF/weights/a4caf255312f44e3fd4e038a79691f2d: Data loss: not an sstable (bad magic number): perhaps your file is in a different file format and you need to use a different restore operator?\n"
     ]
    },
    {
     "name": "stdout",
     "output_type": "stream",
     "text": [
      "Predicting for protein:  ANKHD1  motif:  RNCMPT00002\n",
      "Using downloaded and verified file: /cellar/users/aklie/.kipoi/models/DeepBind/downloaded/model_files/Homo_sapiens/RBP/D00085.001_RNAcompete_ANKHD1/arch/4b6baf31fd2bcad82c936a536bea804c\n",
      "Using downloaded and verified file: /cellar/users/aklie/.kipoi/models/DeepBind/downloaded/model_files/Homo_sapiens/RBP/D00085.001_RNAcompete_ANKHD1/weights/488b315616bdfaf723ea431bce2df302\n"
     ]
    },
    {
     "name": "stderr",
     "output_type": "stream",
     "text": [
      "2022-09-07 17:24:38.314824: W tensorflow/core/util/tensor_slice_reader.cc:95] Could not open /cellar/users/aklie/.kipoi/models/DeepBind/downloaded/model_files/Homo_sapiens/RBP/D00085.001_RNAcompete_ANKHD1/weights/488b315616bdfaf723ea431bce2df302: Data loss: not an sstable (bad magic number): perhaps your file is in a different file format and you need to use a different restore operator?\n"
     ]
    },
    {
     "name": "stdout",
     "output_type": "stream",
     "text": [
      "Predicting for protein:  CELF4  motif:  RNCMPT00004\n",
      "No model found for protein:  CELF4\n",
      "Predicting for protein:  CNOT4  motif:  RNCMPT00008\n",
      "Using downloaded and verified file: /cellar/users/aklie/.kipoi/models/DeepBind/downloaded/model_files/Homo_sapiens/RBP/D00201.001_RNAcompete_CNOT4/arch/367bfbfebbe3deccfcee7247a6cf9de9\n",
      "Using downloaded and verified file: /cellar/users/aklie/.kipoi/models/DeepBind/downloaded/model_files/Homo_sapiens/RBP/D00201.001_RNAcompete_CNOT4/weights/cc7c64aa43e265a965b765db2cc044fe\n"
     ]
    },
    {
     "name": "stderr",
     "output_type": "stream",
     "text": [
      "2022-09-07 17:24:38.966238: W tensorflow/core/util/tensor_slice_reader.cc:95] Could not open /cellar/users/aklie/.kipoi/models/DeepBind/downloaded/model_files/Homo_sapiens/RBP/D00201.001_RNAcompete_CNOT4/weights/cc7c64aa43e265a965b765db2cc044fe: Data loss: not an sstable (bad magic number): perhaps your file is in a different file format and you need to use a different restore operator?\n"
     ]
    },
    {
     "name": "stdout",
     "output_type": "stream",
     "text": [
      "Predicting for protein:  CPEB2  motif:  RNCMPT00012\n",
      "Using downloaded and verified file: /cellar/users/aklie/.kipoi/models/DeepBind/downloaded/model_files/Homo_sapiens/RBP/D00095.001_RNAcompete_CPEB2/arch/c6a22ad58256249558a0de864debded3\n",
      "Using downloaded and verified file: /cellar/users/aklie/.kipoi/models/DeepBind/downloaded/model_files/Homo_sapiens/RBP/D00095.001_RNAcompete_CPEB2/weights/dcfd4dd20b889cb98443a2b84f4dee99\n"
     ]
    },
    {
     "name": "stderr",
     "output_type": "stream",
     "text": [
      "2022-09-07 17:24:39.869777: W tensorflow/core/util/tensor_slice_reader.cc:95] Could not open /cellar/users/aklie/.kipoi/models/DeepBind/downloaded/model_files/Homo_sapiens/RBP/D00095.001_RNAcompete_CPEB2/weights/dcfd4dd20b889cb98443a2b84f4dee99: Data loss: not an sstable (bad magic number): perhaps your file is in a different file format and you need to use a different restore operator?\n"
     ]
    },
    {
     "name": "stdout",
     "output_type": "stream",
     "text": [
      "Predicting for protein:  DAZAP1  motif:  RNCMPT00013\n",
      "Using downloaded and verified file: /cellar/users/aklie/.kipoi/models/DeepBind/downloaded/model_files/Homo_sapiens/RBP/D00096.001_RNAcompete_DAZAP1/arch/9d0289f968d184b4b4b11608c72b29ae\n",
      "Using downloaded and verified file: /cellar/users/aklie/.kipoi/models/DeepBind/downloaded/model_files/Homo_sapiens/RBP/D00096.001_RNAcompete_DAZAP1/weights/d5c4ab8e15825ceffb2eb928faf82c2e\n"
     ]
    },
    {
     "name": "stderr",
     "output_type": "stream",
     "text": [
      "2022-09-07 17:24:40.581181: W tensorflow/core/util/tensor_slice_reader.cc:95] Could not open /cellar/users/aklie/.kipoi/models/DeepBind/downloaded/model_files/Homo_sapiens/RBP/D00096.001_RNAcompete_DAZAP1/weights/d5c4ab8e15825ceffb2eb928faf82c2e: Data loss: not an sstable (bad magic number): perhaps your file is in a different file format and you need to use a different restore operator?\n"
     ]
    },
    {
     "name": "stdout",
     "output_type": "stream",
     "text": [
      "Predicting for protein:  FMR1  motif:  RNCMPT00016\n",
      "Using downloaded and verified file: /cellar/users/aklie/.kipoi/models/DeepBind/downloaded/model_files/Homo_sapiens/RBP/D00099.001_RNAcompete_FMR1/arch/cb6cfce1c46c4a23288ebf5ed3a209ad\n",
      "Using downloaded and verified file: /cellar/users/aklie/.kipoi/models/DeepBind/downloaded/model_files/Homo_sapiens/RBP/D00099.001_RNAcompete_FMR1/weights/a9341a78eb350065fb73c1917a94c83a\n"
     ]
    },
    {
     "name": "stderr",
     "output_type": "stream",
     "text": [
      "2022-09-07 17:24:41.287048: W tensorflow/core/util/tensor_slice_reader.cc:95] Could not open /cellar/users/aklie/.kipoi/models/DeepBind/downloaded/model_files/Homo_sapiens/RBP/D00099.001_RNAcompete_FMR1/weights/a9341a78eb350065fb73c1917a94c83a: Data loss: not an sstable (bad magic number): perhaps your file is in a different file format and you need to use a different restore operator?\n"
     ]
    },
    {
     "name": "stdout",
     "output_type": "stream",
     "text": [
      "Predicting for protein:  RBFOX1  motif:  RNCMPT00017\n",
      "Using downloaded and verified file: /cellar/users/aklie/.kipoi/models/DeepBind/downloaded/model_files/Homo_sapiens/RBP/D00210.001_RNAcompete_RBFOX1/arch/dd107603901712c22dfeadcf9c0e58fd\n",
      "Using downloaded and verified file: /cellar/users/aklie/.kipoi/models/DeepBind/downloaded/model_files/Homo_sapiens/RBP/D00210.001_RNAcompete_RBFOX1/weights/b1366c13b8973f8ef222e6effe105a15\n"
     ]
    },
    {
     "name": "stderr",
     "output_type": "stream",
     "text": [
      "2022-09-07 17:24:42.014345: W tensorflow/core/util/tensor_slice_reader.cc:95] Could not open /cellar/users/aklie/.kipoi/models/DeepBind/downloaded/model_files/Homo_sapiens/RBP/D00210.001_RNAcompete_RBFOX1/weights/b1366c13b8973f8ef222e6effe105a15: Data loss: not an sstable (bad magic number): perhaps your file is in a different file format and you need to use a different restore operator?\n"
     ]
    },
    {
     "name": "stdout",
     "output_type": "stream",
     "text": [
      "Predicting for protein:  BX511012.1  motif:  RNCMPT00019\n",
      "No model found for protein:  BX511012.1\n",
      "Predicting for protein:  FXR1  motif:  RNCMPT00020\n",
      "Using downloaded and verified file: /cellar/users/aklie/.kipoi/models/DeepBind/downloaded/model_files/Homo_sapiens/RBP/D00206.001_RNAcompete_FXR1/arch/109afa6d9f1764d98e7bb9cfdb020a36\n",
      "Using downloaded and verified file: /cellar/users/aklie/.kipoi/models/DeepBind/downloaded/model_files/Homo_sapiens/RBP/D00206.001_RNAcompete_FXR1/weights/f4b28111dafd71c8c555e1dbd991fc43\n"
     ]
    },
    {
     "name": "stderr",
     "output_type": "stream",
     "text": [
      "2022-09-07 17:24:42.723941: W tensorflow/core/util/tensor_slice_reader.cc:95] Could not open /cellar/users/aklie/.kipoi/models/DeepBind/downloaded/model_files/Homo_sapiens/RBP/D00206.001_RNAcompete_FXR1/weights/f4b28111dafd71c8c555e1dbd991fc43: Data loss: not an sstable (bad magic number): perhaps your file is in a different file format and you need to use a different restore operator?\n"
     ]
    },
    {
     "name": "stdout",
     "output_type": "stream",
     "text": [
      "Predicting for protein:  G3BP1  motif:  RNCMPT00021\n",
      "No model found for protein:  G3BP1\n",
      "Predicting for protein:  HNRNPA1  motif:  RNCMPT00022\n",
      "Using downloaded and verified file: /cellar/users/aklie/.kipoi/models/DeepBind/downloaded/model_files/Homo_sapiens/RBP/D00105.001_RNAcompete_HNRNPA1/arch/54630e5cb857f65cdc6c0ada7d998aa7\n",
      "Using downloaded and verified file: /cellar/users/aklie/.kipoi/models/DeepBind/downloaded/model_files/Homo_sapiens/RBP/D00105.001_RNAcompete_HNRNPA1/weights/dc0e0922078b87d91e98d46bd26551c4\n"
     ]
    },
    {
     "name": "stderr",
     "output_type": "stream",
     "text": [
      "2022-09-07 17:24:43.400133: W tensorflow/core/util/tensor_slice_reader.cc:95] Could not open /cellar/users/aklie/.kipoi/models/DeepBind/downloaded/model_files/Homo_sapiens/RBP/D00105.001_RNAcompete_HNRNPA1/weights/dc0e0922078b87d91e98d46bd26551c4: Data loss: not an sstable (bad magic number): perhaps your file is in a different file format and you need to use a different restore operator?\n"
     ]
    },
    {
     "name": "stdout",
     "output_type": "stream",
     "text": [
      "Predicting for protein:  HNRNPA1  motif:  RNCMPT00023\n",
      "Using downloaded and verified file: /cellar/users/aklie/.kipoi/models/DeepBind/downloaded/model_files/Homo_sapiens/RBP/D00105.001_RNAcompete_HNRNPA1/arch/54630e5cb857f65cdc6c0ada7d998aa7\n",
      "Using downloaded and verified file: /cellar/users/aklie/.kipoi/models/DeepBind/downloaded/model_files/Homo_sapiens/RBP/D00105.001_RNAcompete_HNRNPA1/weights/dc0e0922078b87d91e98d46bd26551c4\n"
     ]
    },
    {
     "name": "stderr",
     "output_type": "stream",
     "text": [
      "2022-09-07 17:24:44.117495: W tensorflow/core/util/tensor_slice_reader.cc:95] Could not open /cellar/users/aklie/.kipoi/models/DeepBind/downloaded/model_files/Homo_sapiens/RBP/D00105.001_RNAcompete_HNRNPA1/weights/dc0e0922078b87d91e98d46bd26551c4: Data loss: not an sstable (bad magic number): perhaps your file is in a different file format and you need to use a different restore operator?\n"
     ]
    },
    {
     "name": "stdout",
     "output_type": "stream",
     "text": [
      "Predicting for protein:  HNRNPA1  motif:  RNCMPT00024\n",
      "Using downloaded and verified file: /cellar/users/aklie/.kipoi/models/DeepBind/downloaded/model_files/Homo_sapiens/RBP/D00105.001_RNAcompete_HNRNPA1/arch/54630e5cb857f65cdc6c0ada7d998aa7\n",
      "Using downloaded and verified file: /cellar/users/aklie/.kipoi/models/DeepBind/downloaded/model_files/Homo_sapiens/RBP/D00105.001_RNAcompete_HNRNPA1/weights/dc0e0922078b87d91e98d46bd26551c4\n"
     ]
    },
    {
     "name": "stderr",
     "output_type": "stream",
     "text": [
      "2022-09-07 17:24:44.839014: W tensorflow/core/util/tensor_slice_reader.cc:95] Could not open /cellar/users/aklie/.kipoi/models/DeepBind/downloaded/model_files/Homo_sapiens/RBP/D00105.001_RNAcompete_HNRNPA1/weights/dc0e0922078b87d91e98d46bd26551c4: Data loss: not an sstable (bad magic number): perhaps your file is in a different file format and you need to use a different restore operator?\n"
     ]
    },
    {
     "name": "stdout",
     "output_type": "stream",
     "text": [
      "Predicting for protein:  HNRNPC  motif:  RNCMPT00025\n",
      "Using downloaded and verified file: /cellar/users/aklie/.kipoi/models/DeepBind/downloaded/model_files/Homo_sapiens/RBP/D00108.001_RNAcompete_HNRNPC/arch/5c5934c57a3ddfa4df434a615144fa5c\n",
      "Using downloaded and verified file: /cellar/users/aklie/.kipoi/models/DeepBind/downloaded/model_files/Homo_sapiens/RBP/D00108.001_RNAcompete_HNRNPC/weights/e195c591a2f3054a2746a12d0e149840\n"
     ]
    },
    {
     "name": "stderr",
     "output_type": "stream",
     "text": [
      "2022-09-07 17:24:45.560369: W tensorflow/core/util/tensor_slice_reader.cc:95] Could not open /cellar/users/aklie/.kipoi/models/DeepBind/downloaded/model_files/Homo_sapiens/RBP/D00108.001_RNAcompete_HNRNPC/weights/e195c591a2f3054a2746a12d0e149840: Data loss: not an sstable (bad magic number): perhaps your file is in a different file format and you need to use a different restore operator?\n"
     ]
    },
    {
     "name": "stdout",
     "output_type": "stream",
     "text": [
      "Predicting for protein:  HNRNPK  motif:  RNCMPT00026\n",
      "Using downloaded and verified file: /cellar/users/aklie/.kipoi/models/DeepBind/downloaded/model_files/Homo_sapiens/RBP/D00109.001_RNAcompete_HNRNPK/arch/561ff8b07948396720122a37dd3ed4a5\n",
      "Using downloaded and verified file: /cellar/users/aklie/.kipoi/models/DeepBind/downloaded/model_files/Homo_sapiens/RBP/D00109.001_RNAcompete_HNRNPK/weights/3a4ffb1a818ab0995619b831d2ad118d\n"
     ]
    },
    {
     "name": "stderr",
     "output_type": "stream",
     "text": [
      "2022-09-07 17:24:46.289778: W tensorflow/core/util/tensor_slice_reader.cc:95] Could not open /cellar/users/aklie/.kipoi/models/DeepBind/downloaded/model_files/Homo_sapiens/RBP/D00109.001_RNAcompete_HNRNPK/weights/3a4ffb1a818ab0995619b831d2ad118d: Data loss: not an sstable (bad magic number): perhaps your file is in a different file format and you need to use a different restore operator?\n"
     ]
    },
    {
     "name": "stdout",
     "output_type": "stream",
     "text": [
      "Predicting for protein:  HNRNPL  motif:  RNCMPT00027\n",
      "Using downloaded and verified file: /cellar/users/aklie/.kipoi/models/DeepBind/downloaded/model_files/Homo_sapiens/RBP/D00110.001_RNAcompete_HNRNPL/arch/d7c9f53d4bf8b0ad2ced3a994b92e4ac\n",
      "Using downloaded and verified file: /cellar/users/aklie/.kipoi/models/DeepBind/downloaded/model_files/Homo_sapiens/RBP/D00110.001_RNAcompete_HNRNPL/weights/267c685c7097771f890437a4cca762fa\n"
     ]
    },
    {
     "name": "stderr",
     "output_type": "stream",
     "text": [
      "2022-09-07 17:24:47.004649: W tensorflow/core/util/tensor_slice_reader.cc:95] Could not open /cellar/users/aklie/.kipoi/models/DeepBind/downloaded/model_files/Homo_sapiens/RBP/D00110.001_RNAcompete_HNRNPL/weights/267c685c7097771f890437a4cca762fa: Data loss: not an sstable (bad magic number): perhaps your file is in a different file format and you need to use a different restore operator?\n"
     ]
    },
    {
     "name": "stdout",
     "output_type": "stream",
     "text": [
      "Predicting for protein:  ELAVL1  motif:  RNCMPT00032\n",
      "No model found for protein:  ELAVL1\n",
      "Predicting for protein:  IGF2BP1  motif:  RNCMPT00033\n",
      "No model found for protein:  IGF2BP1\n",
      "Predicting for protein:  KHDRBS1  motif:  RNCMPT00034\n",
      "Using downloaded and verified file: /cellar/users/aklie/.kipoi/models/DeepBind/downloaded/model_files/Homo_sapiens/RBP/D00211.001_RNAcompete_KHDRBS1/arch/5252ca72943dd4cc57d822c9ff7a796f\n",
      "Using downloaded and verified file: /cellar/users/aklie/.kipoi/models/DeepBind/downloaded/model_files/Homo_sapiens/RBP/D00211.001_RNAcompete_KHDRBS1/weights/fa3769dd6290c178a424ad3645e2b156\n"
     ]
    },
    {
     "name": "stderr",
     "output_type": "stream",
     "text": [
      "2022-09-07 17:24:47.714767: W tensorflow/core/util/tensor_slice_reader.cc:95] Could not open /cellar/users/aklie/.kipoi/models/DeepBind/downloaded/model_files/Homo_sapiens/RBP/D00211.001_RNAcompete_KHDRBS1/weights/fa3769dd6290c178a424ad3645e2b156: Data loss: not an sstable (bad magic number): perhaps your file is in a different file format and you need to use a different restore operator?\n"
     ]
    },
    {
     "name": "stdout",
     "output_type": "stream",
     "text": [
      "Predicting for protein:  LIN28A  motif:  RNCMPT00036\n",
      "Using downloaded and verified file: /cellar/users/aklie/.kipoi/models/DeepBind/downloaded/model_files/Homo_sapiens/RBP/D00118.001_RNAcompete_LIN28A/arch/2075f91bad7b3e34ca66d9855f753460\n",
      "Using downloaded and verified file: /cellar/users/aklie/.kipoi/models/DeepBind/downloaded/model_files/Homo_sapiens/RBP/D00118.001_RNAcompete_LIN28A/weights/db03347dcfc00053f7ac236ef591a3ef\n"
     ]
    },
    {
     "name": "stderr",
     "output_type": "stream",
     "text": [
      "2022-09-07 17:24:48.456980: W tensorflow/core/util/tensor_slice_reader.cc:95] Could not open /cellar/users/aklie/.kipoi/models/DeepBind/downloaded/model_files/Homo_sapiens/RBP/D00118.001_RNAcompete_LIN28A/weights/db03347dcfc00053f7ac236ef591a3ef: Data loss: not an sstable (bad magic number): perhaps your file is in a different file format and you need to use a different restore operator?\n"
     ]
    },
    {
     "name": "stdout",
     "output_type": "stream",
     "text": [
      "Predicting for protein:  MATR3  motif:  RNCMPT00037\n",
      "Using downloaded and verified file: /cellar/users/aklie/.kipoi/models/DeepBind/downloaded/model_files/Homo_sapiens/RBP/D00119.001_RNAcompete_MATR3/arch/8512f1da2508b25538c989d382085dc7\n",
      "Using downloaded and verified file: /cellar/users/aklie/.kipoi/models/DeepBind/downloaded/model_files/Homo_sapiens/RBP/D00119.001_RNAcompete_MATR3/weights/19e642cb19f6ebc5ccdb01c09fbd83a0\n"
     ]
    },
    {
     "name": "stderr",
     "output_type": "stream",
     "text": [
      "2022-09-07 17:24:49.171048: W tensorflow/core/util/tensor_slice_reader.cc:95] Could not open /cellar/users/aklie/.kipoi/models/DeepBind/downloaded/model_files/Homo_sapiens/RBP/D00119.001_RNAcompete_MATR3/weights/19e642cb19f6ebc5ccdb01c09fbd83a0: Data loss: not an sstable (bad magic number): perhaps your file is in a different file format and you need to use a different restore operator?\n"
     ]
    },
    {
     "name": "stdout",
     "output_type": "stream",
     "text": [
      "Predicting for protein:  MBNL1  motif:  RNCMPT00038\n",
      "Using downloaded and verified file: /cellar/users/aklie/.kipoi/models/DeepBind/downloaded/model_files/Homo_sapiens/RBP/D00120.001_RNAcompete_MBNL1/arch/3c106f20a0df32cb9cb80c980cf09aa1\n",
      "Using downloaded and verified file: /cellar/users/aklie/.kipoi/models/DeepBind/downloaded/model_files/Homo_sapiens/RBP/D00120.001_RNAcompete_MBNL1/weights/0595e728c47fd92c23f85b92bf8c878e\n"
     ]
    },
    {
     "name": "stderr",
     "output_type": "stream",
     "text": [
      "2022-09-07 17:24:49.900052: W tensorflow/core/util/tensor_slice_reader.cc:95] Could not open /cellar/users/aklie/.kipoi/models/DeepBind/downloaded/model_files/Homo_sapiens/RBP/D00120.001_RNAcompete_MBNL1/weights/0595e728c47fd92c23f85b92bf8c878e: Data loss: not an sstable (bad magic number): perhaps your file is in a different file format and you need to use a different restore operator?\n"
     ]
    },
    {
     "name": "stdout",
     "output_type": "stream",
     "text": [
      "Predicting for protein:  MSI1  motif:  RNCMPT00041\n",
      "Using downloaded and verified file: /cellar/users/aklie/.kipoi/models/DeepBind/downloaded/model_files/Homo_sapiens/RBP/D00123.001_RNAcompete_MSI1/arch/625b2c5ff8c457febe0fc5fecea4ae94\n",
      "Using downloaded and verified file: /cellar/users/aklie/.kipoi/models/DeepBind/downloaded/model_files/Homo_sapiens/RBP/D00123.001_RNAcompete_MSI1/weights/c189b586fe9a9b98192144a86e4f8d6b\n"
     ]
    },
    {
     "name": "stderr",
     "output_type": "stream",
     "text": [
      "2022-09-07 17:24:50.624121: W tensorflow/core/util/tensor_slice_reader.cc:95] Could not open /cellar/users/aklie/.kipoi/models/DeepBind/downloaded/model_files/Homo_sapiens/RBP/D00123.001_RNAcompete_MSI1/weights/c189b586fe9a9b98192144a86e4f8d6b: Data loss: not an sstable (bad magic number): perhaps your file is in a different file format and you need to use a different restore operator?\n"
     ]
    },
    {
     "name": "stdout",
     "output_type": "stream",
     "text": [
      "Predicting for protein:  PABPC1  motif:  RNCMPT00043\n",
      "Using downloaded and verified file: /cellar/users/aklie/.kipoi/models/DeepBind/downloaded/model_files/Homo_sapiens/RBP/D00200.001_RNAcompete_PABPC1/arch/4d14d019b2e4142060f52398158d385f\n",
      "Using downloaded and verified file: /cellar/users/aklie/.kipoi/models/DeepBind/downloaded/model_files/Homo_sapiens/RBP/D00200.001_RNAcompete_PABPC1/weights/891d520fbdfcbf28ced4ff65e4bc678c\n"
     ]
    },
    {
     "name": "stderr",
     "output_type": "stream",
     "text": [
      "2022-09-07 17:24:51.342486: W tensorflow/core/util/tensor_slice_reader.cc:95] Could not open /cellar/users/aklie/.kipoi/models/DeepBind/downloaded/model_files/Homo_sapiens/RBP/D00200.001_RNAcompete_PABPC1/weights/891d520fbdfcbf28ced4ff65e4bc678c: Data loss: not an sstable (bad magic number): perhaps your file is in a different file format and you need to use a different restore operator?\n"
     ]
    },
    {
     "name": "stdout",
     "output_type": "stream",
     "text": [
      "Predicting for protein:  PCBP1  motif:  RNCMPT00044\n",
      "Using downloaded and verified file: /cellar/users/aklie/.kipoi/models/DeepBind/downloaded/model_files/Homo_sapiens/RBP/D00224.001_RNAcompete_PCBP1/arch/825048378a82b893b33ae3cd7351efdc\n",
      "Using downloaded and verified file: /cellar/users/aklie/.kipoi/models/DeepBind/downloaded/model_files/Homo_sapiens/RBP/D00224.001_RNAcompete_PCBP1/weights/d8d37e84d8905f358c5361ac693a5ad4\n"
     ]
    },
    {
     "name": "stderr",
     "output_type": "stream",
     "text": [
      "2022-09-07 17:24:52.052429: W tensorflow/core/util/tensor_slice_reader.cc:95] Could not open /cellar/users/aklie/.kipoi/models/DeepBind/downloaded/model_files/Homo_sapiens/RBP/D00224.001_RNAcompete_PCBP1/weights/d8d37e84d8905f358c5361ac693a5ad4: Data loss: not an sstable (bad magic number): perhaps your file is in a different file format and you need to use a different restore operator?\n"
     ]
    },
    {
     "name": "stdout",
     "output_type": "stream",
     "text": [
      "Predicting for protein:  PPRC1  motif:  RNCMPT00045\n",
      "Using downloaded and verified file: /cellar/users/aklie/.kipoi/models/DeepBind/downloaded/model_files/Homo_sapiens/RBP/D00127.001_RNAcompete_PPRC1/arch/9df0e27c3d02f74869a9a8f2ec8b92ac\n",
      "Using downloaded and verified file: /cellar/users/aklie/.kipoi/models/DeepBind/downloaded/model_files/Homo_sapiens/RBP/D00127.001_RNAcompete_PPRC1/weights/5da9cb60200e4007919dfffa50bb8da0\n"
     ]
    },
    {
     "name": "stderr",
     "output_type": "stream",
     "text": [
      "2022-09-07 17:24:52.867616: W tensorflow/core/util/tensor_slice_reader.cc:95] Could not open /cellar/users/aklie/.kipoi/models/DeepBind/downloaded/model_files/Homo_sapiens/RBP/D00127.001_RNAcompete_PPRC1/weights/5da9cb60200e4007919dfffa50bb8da0: Data loss: not an sstable (bad magic number): perhaps your file is in a different file format and you need to use a different restore operator?\n"
     ]
    },
    {
     "name": "stdout",
     "output_type": "stream",
     "text": [
      "Predicting for protein:  PUM1  motif:  RNCMPT00046\n",
      "No model found for protein:  PUM1\n",
      "Predicting for protein:  QKI  motif:  RNCMPT00047\n",
      "Using downloaded and verified file: /cellar/users/aklie/.kipoi/models/DeepBind/downloaded/model_files/Homo_sapiens/RBP/D00129.001_RNAcompete_QKI/arch/ffdceb0b9137ee2934f7c221b24d9b3a\n",
      "Using downloaded and verified file: /cellar/users/aklie/.kipoi/models/DeepBind/downloaded/model_files/Homo_sapiens/RBP/D00129.001_RNAcompete_QKI/weights/e8dbb61d3ece489ec195c7c339a3ad7a\n"
     ]
    },
    {
     "name": "stderr",
     "output_type": "stream",
     "text": [
      "2022-09-07 17:24:53.588632: W tensorflow/core/util/tensor_slice_reader.cc:95] Could not open /cellar/users/aklie/.kipoi/models/DeepBind/downloaded/model_files/Homo_sapiens/RBP/D00129.001_RNAcompete_QKI/weights/e8dbb61d3ece489ec195c7c339a3ad7a: Data loss: not an sstable (bad magic number): perhaps your file is in a different file format and you need to use a different restore operator?\n"
     ]
    },
    {
     "name": "stdout",
     "output_type": "stream",
     "text": [
      "Predicting for protein:  RBM28  motif:  RNCMPT00049\n",
      "Using downloaded and verified file: /cellar/users/aklie/.kipoi/models/DeepBind/downloaded/model_files/Homo_sapiens/RBP/D00130.001_RNAcompete_RBM28/arch/71f89ddb62f8507a52be088ca3a14a5c\n",
      "Using downloaded and verified file: /cellar/users/aklie/.kipoi/models/DeepBind/downloaded/model_files/Homo_sapiens/RBP/D00130.001_RNAcompete_RBM28/weights/0387c30f6bb20821f7a605c198c3af1e\n"
     ]
    },
    {
     "name": "stderr",
     "output_type": "stream",
     "text": [
      "2022-09-07 17:24:54.283067: W tensorflow/core/util/tensor_slice_reader.cc:95] Could not open /cellar/users/aklie/.kipoi/models/DeepBind/downloaded/model_files/Homo_sapiens/RBP/D00130.001_RNAcompete_RBM28/weights/0387c30f6bb20821f7a605c198c3af1e: Data loss: not an sstable (bad magic number): perhaps your file is in a different file format and you need to use a different restore operator?\n"
     ]
    },
    {
     "name": "stdout",
     "output_type": "stream",
     "text": [
      "Predicting for protein:  CIRBP  motif:  RNCMPT00050\n",
      "No model found for protein:  CIRBP\n",
      "Predicting for protein:  RBM24  motif:  RNCMPT00051\n",
      "Using downloaded and verified file: /cellar/users/aklie/.kipoi/models/DeepBind/downloaded/model_files/Homo_sapiens/RBP/D00222.001_RNAcompete_RBM24/arch/5e5394c53b55640610645a2fefdf1832\n",
      "Using downloaded and verified file: /cellar/users/aklie/.kipoi/models/DeepBind/downloaded/model_files/Homo_sapiens/RBP/D00222.001_RNAcompete_RBM24/weights/cd7d435659a2c9c49a5e9031557f24dc\n"
     ]
    },
    {
     "name": "stderr",
     "output_type": "stream",
     "text": [
      "2022-09-07 17:24:55.007385: W tensorflow/core/util/tensor_slice_reader.cc:95] Could not open /cellar/users/aklie/.kipoi/models/DeepBind/downloaded/model_files/Homo_sapiens/RBP/D00222.001_RNAcompete_RBM24/weights/cd7d435659a2c9c49a5e9031557f24dc: Data loss: not an sstable (bad magic number): perhaps your file is in a different file format and you need to use a different restore operator?\n"
     ]
    },
    {
     "name": "stdout",
     "output_type": "stream",
     "text": [
      "Predicting for protein:  RBM14  motif:  RNCMPT00052\n",
      "No model found for protein:  RBM14\n",
      "Predicting for protein:  RBM41  motif:  RNCMPT00053\n",
      "Using downloaded and verified file: /cellar/users/aklie/.kipoi/models/DeepBind/downloaded/model_files/Homo_sapiens/RBP/D00134.001_RNAcompete_RBM41/arch/9eaf7219ed75fab4e8a84eb7dcedcb70\n",
      "Using downloaded and verified file: /cellar/users/aklie/.kipoi/models/DeepBind/downloaded/model_files/Homo_sapiens/RBP/D00134.001_RNAcompete_RBM41/weights/3b97d5e2ef39d1fee0a5ee835ff7f5f6\n"
     ]
    },
    {
     "name": "stderr",
     "output_type": "stream",
     "text": [
      "2022-09-07 17:24:55.729874: W tensorflow/core/util/tensor_slice_reader.cc:95] Could not open /cellar/users/aklie/.kipoi/models/DeepBind/downloaded/model_files/Homo_sapiens/RBP/D00134.001_RNAcompete_RBM41/weights/3b97d5e2ef39d1fee0a5ee835ff7f5f6: Data loss: not an sstable (bad magic number): perhaps your file is in a different file format and you need to use a different restore operator?\n"
     ]
    },
    {
     "name": "stdout",
     "output_type": "stream",
     "text": [
      "Predicting for protein:  RBM46  motif:  RNCMPT00054\n",
      "Using downloaded and verified file: /cellar/users/aklie/.kipoi/models/DeepBind/downloaded/model_files/Homo_sapiens/RBP/D00135.001_RNAcompete_RBM46/arch/ac66457a9c2d742f6bb4a42a89087a66\n",
      "Using downloaded and verified file: /cellar/users/aklie/.kipoi/models/DeepBind/downloaded/model_files/Homo_sapiens/RBP/D00135.001_RNAcompete_RBM46/weights/008f7a6c8ce6a50b136b6188f29458d0\n"
     ]
    },
    {
     "name": "stderr",
     "output_type": "stream",
     "text": [
      "2022-09-07 17:24:56.386996: W tensorflow/core/util/tensor_slice_reader.cc:95] Could not open /cellar/users/aklie/.kipoi/models/DeepBind/downloaded/model_files/Homo_sapiens/RBP/D00135.001_RNAcompete_RBM46/weights/008f7a6c8ce6a50b136b6188f29458d0: Data loss: not an sstable (bad magic number): perhaps your file is in a different file format and you need to use a different restore operator?\n"
     ]
    },
    {
     "name": "stdout",
     "output_type": "stream",
     "text": [
      "Predicting for protein:  RBM5  motif:  RNCMPT00055\n",
      "Using downloaded and verified file: /cellar/users/aklie/.kipoi/models/DeepBind/downloaded/model_files/Homo_sapiens/RBP/D00136.001_RNAcompete_RBM5/arch/d9584eebadca5198bcee20f19dc5f04a\n",
      "Using downloaded and verified file: /cellar/users/aklie/.kipoi/models/DeepBind/downloaded/model_files/Homo_sapiens/RBP/D00136.001_RNAcompete_RBM5/weights/a8157c0eb280c7eff41acd1d8b60661e\n"
     ]
    },
    {
     "name": "stderr",
     "output_type": "stream",
     "text": [
      "2022-09-07 17:24:57.116981: W tensorflow/core/util/tensor_slice_reader.cc:95] Could not open /cellar/users/aklie/.kipoi/models/DeepBind/downloaded/model_files/Homo_sapiens/RBP/D00136.001_RNAcompete_RBM5/weights/a8157c0eb280c7eff41acd1d8b60661e: Data loss: not an sstable (bad magic number): perhaps your file is in a different file format and you need to use a different restore operator?\n"
     ]
    },
    {
     "name": "stdout",
     "output_type": "stream",
     "text": [
      "Predicting for protein:  RBM8A  motif:  RNCMPT00056\n",
      "Using downloaded and verified file: /cellar/users/aklie/.kipoi/models/DeepBind/downloaded/model_files/Homo_sapiens/RBP/D00137.001_RNAcompete_RBM8A/arch/11e7dfec08f57e0ac875b2598facf5b7\n",
      "Using downloaded and verified file: /cellar/users/aklie/.kipoi/models/DeepBind/downloaded/model_files/Homo_sapiens/RBP/D00137.001_RNAcompete_RBM8A/weights/d7f16c16f7803d411d186854330b2461\n"
     ]
    },
    {
     "name": "stderr",
     "output_type": "stream",
     "text": [
      "2022-09-07 17:24:57.827702: W tensorflow/core/util/tensor_slice_reader.cc:95] Could not open /cellar/users/aklie/.kipoi/models/DeepBind/downloaded/model_files/Homo_sapiens/RBP/D00137.001_RNAcompete_RBM8A/weights/d7f16c16f7803d411d186854330b2461: Data loss: not an sstable (bad magic number): perhaps your file is in a different file format and you need to use a different restore operator?\n"
     ]
    },
    {
     "name": "stdout",
     "output_type": "stream",
     "text": [
      "Predicting for protein:  RBMS1  motif:  RNCMPT00057\n",
      "Using downloaded and verified file: /cellar/users/aklie/.kipoi/models/DeepBind/downloaded/model_files/Homo_sapiens/RBP/D00198.001_RNAcompete_RBMS1/arch/cd9827dc3b36fa123c028ce165e5aa68\n",
      "Using downloaded and verified file: /cellar/users/aklie/.kipoi/models/DeepBind/downloaded/model_files/Homo_sapiens/RBP/D00198.001_RNAcompete_RBMS1/weights/6e12e4fa996093ac9d3f3776665878c6\n"
     ]
    },
    {
     "name": "stderr",
     "output_type": "stream",
     "text": [
      "2022-09-07 17:24:58.521730: W tensorflow/core/util/tensor_slice_reader.cc:95] Could not open /cellar/users/aklie/.kipoi/models/DeepBind/downloaded/model_files/Homo_sapiens/RBP/D00198.001_RNAcompete_RBMS1/weights/6e12e4fa996093ac9d3f3776665878c6: Data loss: not an sstable (bad magic number): perhaps your file is in a different file format and you need to use a different restore operator?\n"
     ]
    },
    {
     "name": "stdout",
     "output_type": "stream",
     "text": [
      "Predicting for protein:  SRSF3  motif:  RNCMPT00058\n",
      "No model found for protein:  SRSF3\n",
      "Predicting for protein:  SAMD4A  motif:  RNCMPT00063\n",
      "Using downloaded and verified file: /cellar/users/aklie/.kipoi/models/DeepBind/downloaded/model_files/Homo_sapiens/RBP/D00144.001_RNAcompete_SAMD4A/arch/6f041801277f04922e9a59e4f95cf095\n",
      "Using downloaded and verified file: /cellar/users/aklie/.kipoi/models/DeepBind/downloaded/model_files/Homo_sapiens/RBP/D00144.001_RNAcompete_SAMD4A/weights/88d1a3c7b93b584217f99d2a484b9480\n"
     ]
    },
    {
     "name": "stderr",
     "output_type": "stream",
     "text": [
      "2022-09-07 17:24:59.259708: W tensorflow/core/util/tensor_slice_reader.cc:95] Could not open /cellar/users/aklie/.kipoi/models/DeepBind/downloaded/model_files/Homo_sapiens/RBP/D00144.001_RNAcompete_SAMD4A/weights/88d1a3c7b93b584217f99d2a484b9480: Data loss: not an sstable (bad magic number): perhaps your file is in a different file format and you need to use a different restore operator?\n"
     ]
    },
    {
     "name": "stdout",
     "output_type": "stream",
     "text": [
      "Predicting for protein:  SART3  motif:  RNCMPT00064\n",
      "Using downloaded and verified file: /cellar/users/aklie/.kipoi/models/DeepBind/downloaded/model_files/Homo_sapiens/RBP/D00145.001_RNAcompete_SART3/arch/59f80d136925af4cae3b35972cf48acd\n",
      "Using downloaded and verified file: /cellar/users/aklie/.kipoi/models/DeepBind/downloaded/model_files/Homo_sapiens/RBP/D00145.001_RNAcompete_SART3/weights/2a9f93b12b29930edbe67d4607136447\n"
     ]
    },
    {
     "name": "stderr",
     "output_type": "stream",
     "text": [
      "2022-09-07 17:24:59.961207: W tensorflow/core/util/tensor_slice_reader.cc:95] Could not open /cellar/users/aklie/.kipoi/models/DeepBind/downloaded/model_files/Homo_sapiens/RBP/D00145.001_RNAcompete_SART3/weights/2a9f93b12b29930edbe67d4607136447: Data loss: not an sstable (bad magic number): perhaps your file is in a different file format and you need to use a different restore operator?\n"
     ]
    },
    {
     "name": "stdout",
     "output_type": "stream",
     "text": [
      "Predicting for protein:  SRSF1  motif:  RNCMPT00067\n",
      "Using downloaded and verified file: /cellar/users/aklie/.kipoi/models/DeepBind/downloaded/model_files/Homo_sapiens/RBP/D00102.001_RNAcompete_SRSF10/arch/6f0dcc406969956d5105bf1675eebfe5\n",
      "Using downloaded and verified file: /cellar/users/aklie/.kipoi/models/DeepBind/downloaded/model_files/Homo_sapiens/RBP/D00102.001_RNAcompete_SRSF10/weights/b53399cfcd2c90855ba519ed10fbb4e3\n"
     ]
    },
    {
     "name": "stderr",
     "output_type": "stream",
     "text": [
      "2022-09-07 17:25:00.682200: W tensorflow/core/util/tensor_slice_reader.cc:95] Could not open /cellar/users/aklie/.kipoi/models/DeepBind/downloaded/model_files/Homo_sapiens/RBP/D00102.001_RNAcompete_SRSF10/weights/b53399cfcd2c90855ba519ed10fbb4e3: Data loss: not an sstable (bad magic number): perhaps your file is in a different file format and you need to use a different restore operator?\n"
     ]
    },
    {
     "name": "stdout",
     "output_type": "stream",
     "text": [
      "Predicting for protein:  SNRNP70  motif:  RNCMPT00070\n",
      "Using downloaded and verified file: /cellar/users/aklie/.kipoi/models/DeepBind/downloaded/model_files/Homo_sapiens/RBP/D00151.001_RNAcompete_SNRNP70/arch/4c7639faea65ffa2d0f7b21a16618bd0\n",
      "Using downloaded and verified file: /cellar/users/aklie/.kipoi/models/DeepBind/downloaded/model_files/Homo_sapiens/RBP/D00151.001_RNAcompete_SNRNP70/weights/446525d7e947bc47170e4158830b1d04\n"
     ]
    },
    {
     "name": "stderr",
     "output_type": "stream",
     "text": [
      "2022-09-07 17:25:01.394018: W tensorflow/core/util/tensor_slice_reader.cc:95] Could not open /cellar/users/aklie/.kipoi/models/DeepBind/downloaded/model_files/Homo_sapiens/RBP/D00151.001_RNAcompete_SNRNP70/weights/446525d7e947bc47170e4158830b1d04: Data loss: not an sstable (bad magic number): perhaps your file is in a different file format and you need to use a different restore operator?\n"
     ]
    },
    {
     "name": "stdout",
     "output_type": "stream",
     "text": [
      "Predicting for protein:  SNRPA  motif:  RNCMPT00071\n",
      "Using downloaded and verified file: /cellar/users/aklie/.kipoi/models/DeepBind/downloaded/model_files/Homo_sapiens/RBP/D00152.001_RNAcompete_SNRPA/arch/fd2997f6118b795787c9acd802748a7d\n",
      "Using downloaded and verified file: /cellar/users/aklie/.kipoi/models/DeepBind/downloaded/model_files/Homo_sapiens/RBP/D00152.001_RNAcompete_SNRPA/weights/99f690d06ab8d61b6c5430106e00df5a\n"
     ]
    },
    {
     "name": "stderr",
     "output_type": "stream",
     "text": [
      "2022-09-07 17:25:02.039737: W tensorflow/core/util/tensor_slice_reader.cc:95] Could not open /cellar/users/aklie/.kipoi/models/DeepBind/downloaded/model_files/Homo_sapiens/RBP/D00152.001_RNAcompete_SNRPA/weights/99f690d06ab8d61b6c5430106e00df5a: Data loss: not an sstable (bad magic number): perhaps your file is in a different file format and you need to use a different restore operator?\n"
     ]
    },
    {
     "name": "stdout",
     "output_type": "stream",
     "text": [
      "Predicting for protein:  SRSF2  motif:  RNCMPT00072\n",
      "Using downloaded and verified file: /cellar/users/aklie/.kipoi/models/DeepBind/downloaded/model_files/Homo_sapiens/RBP/D00153.001_RNAcompete_SRSF2/arch/9d27ae0d67219a40868b0a86613f0c1a\n",
      "Using downloaded and verified file: /cellar/users/aklie/.kipoi/models/DeepBind/downloaded/model_files/Homo_sapiens/RBP/D00153.001_RNAcompete_SRSF2/weights/d2aeda47bdae7637aa6007f0fa2e0409\n"
     ]
    },
    {
     "name": "stderr",
     "output_type": "stream",
     "text": [
      "2022-09-07 17:25:02.681750: W tensorflow/core/util/tensor_slice_reader.cc:95] Could not open /cellar/users/aklie/.kipoi/models/DeepBind/downloaded/model_files/Homo_sapiens/RBP/D00153.001_RNAcompete_SRSF2/weights/d2aeda47bdae7637aa6007f0fa2e0409: Data loss: not an sstable (bad magic number): perhaps your file is in a different file format and you need to use a different restore operator?\n"
     ]
    },
    {
     "name": "stdout",
     "output_type": "stream",
     "text": [
      "Predicting for protein:  SRSF7  motif:  RNCMPT00073\n",
      "Using downloaded and verified file: /cellar/users/aklie/.kipoi/models/DeepBind/downloaded/model_files/Homo_sapiens/RBP/D00154.001_RNAcompete_SRSF7/arch/8db75bf255b82c7b5596f6a911adaf8e\n",
      "Using downloaded and verified file: /cellar/users/aklie/.kipoi/models/DeepBind/downloaded/model_files/Homo_sapiens/RBP/D00154.001_RNAcompete_SRSF7/weights/ae56f1b739ad554f6f39b8cbfcbd5a90\n"
     ]
    },
    {
     "name": "stderr",
     "output_type": "stream",
     "text": [
      "2022-09-07 17:25:03.335746: W tensorflow/core/util/tensor_slice_reader.cc:95] Could not open /cellar/users/aklie/.kipoi/models/DeepBind/downloaded/model_files/Homo_sapiens/RBP/D00154.001_RNAcompete_SRSF7/weights/ae56f1b739ad554f6f39b8cbfcbd5a90: Data loss: not an sstable (bad magic number): perhaps your file is in a different file format and you need to use a different restore operator?\n"
     ]
    },
    {
     "name": "stdout",
     "output_type": "stream",
     "text": [
      "Predicting for protein:  SRSF1  motif:  RNCMPT00074\n",
      "Using downloaded and verified file: /cellar/users/aklie/.kipoi/models/DeepBind/downloaded/model_files/Homo_sapiens/RBP/D00102.001_RNAcompete_SRSF10/arch/6f0dcc406969956d5105bf1675eebfe5\n",
      "Using downloaded and verified file: /cellar/users/aklie/.kipoi/models/DeepBind/downloaded/model_files/Homo_sapiens/RBP/D00102.001_RNAcompete_SRSF10/weights/b53399cfcd2c90855ba519ed10fbb4e3\n"
     ]
    },
    {
     "name": "stderr",
     "output_type": "stream",
     "text": [
      "2022-09-07 17:25:04.054638: W tensorflow/core/util/tensor_slice_reader.cc:95] Could not open /cellar/users/aklie/.kipoi/models/DeepBind/downloaded/model_files/Homo_sapiens/RBP/D00102.001_RNAcompete_SRSF10/weights/b53399cfcd2c90855ba519ed10fbb4e3: Data loss: not an sstable (bad magic number): perhaps your file is in a different file format and you need to use a different restore operator?\n"
     ]
    },
    {
     "name": "stdout",
     "output_type": "stream",
     "text": [
      "Predicting for protein:  TUT1  motif:  RNCMPT00075\n",
      "No model found for protein:  TUT1\n",
      "Predicting for protein:  TARDBP  motif:  RNCMPT00076\n",
      "Using downloaded and verified file: /cellar/users/aklie/.kipoi/models/DeepBind/downloaded/model_files/Homo_sapiens/RBP/D00156.001_RNAcompete_TARDBP/arch/73470e75c69508d0afa27f03ecb07dad\n",
      "Using downloaded and verified file: /cellar/users/aklie/.kipoi/models/DeepBind/downloaded/model_files/Homo_sapiens/RBP/D00156.001_RNAcompete_TARDBP/weights/42fc8c19f5e1598ce46346eee123018f\n"
     ]
    },
    {
     "name": "stderr",
     "output_type": "stream",
     "text": [
      "2022-09-07 17:25:04.804612: W tensorflow/core/util/tensor_slice_reader.cc:95] Could not open /cellar/users/aklie/.kipoi/models/DeepBind/downloaded/model_files/Homo_sapiens/RBP/D00156.001_RNAcompete_TARDBP/weights/42fc8c19f5e1598ce46346eee123018f: Data loss: not an sstable (bad magic number): perhaps your file is in a different file format and you need to use a different restore operator?\n"
     ]
    },
    {
     "name": "stdout",
     "output_type": "stream",
     "text": [
      "Predicting for protein:  TIA1  motif:  RNCMPT00077\n",
      "Using downloaded and verified file: /cellar/users/aklie/.kipoi/models/DeepBind/downloaded/model_files/Homo_sapiens/RBP/D00157.001_RNAcompete_TIA1/arch/112f168d2c7a8f36608bb77ddd28f4ec\n",
      "Using downloaded and verified file: /cellar/users/aklie/.kipoi/models/DeepBind/downloaded/model_files/Homo_sapiens/RBP/D00157.001_RNAcompete_TIA1/weights/fbc6c4c43894bc2756dc70a640f5a25d\n"
     ]
    },
    {
     "name": "stderr",
     "output_type": "stream",
     "text": [
      "2022-09-07 17:25:05.525290: W tensorflow/core/util/tensor_slice_reader.cc:95] Could not open /cellar/users/aklie/.kipoi/models/DeepBind/downloaded/model_files/Homo_sapiens/RBP/D00157.001_RNAcompete_TIA1/weights/fbc6c4c43894bc2756dc70a640f5a25d: Data loss: not an sstable (bad magic number): perhaps your file is in a different file format and you need to use a different restore operator?\n"
     ]
    },
    {
     "name": "stdout",
     "output_type": "stream",
     "text": [
      "Predicting for protein:  U2AF2  motif:  RNCMPT00079\n",
      "Using downloaded and verified file: /cellar/users/aklie/.kipoi/models/DeepBind/downloaded/model_files/Homo_sapiens/RBP/D00159.001_RNAcompete_U2AF2/arch/7310f4d8d8cc987a429ba18987249fcb\n",
      "Using downloaded and verified file: /cellar/users/aklie/.kipoi/models/DeepBind/downloaded/model_files/Homo_sapiens/RBP/D00159.001_RNAcompete_U2AF2/weights/cd6a7ae66bc11f376ce07c2ac469dccc\n"
     ]
    },
    {
     "name": "stderr",
     "output_type": "stream",
     "text": [
      "2022-09-07 17:25:06.262541: W tensorflow/core/util/tensor_slice_reader.cc:95] Could not open /cellar/users/aklie/.kipoi/models/DeepBind/downloaded/model_files/Homo_sapiens/RBP/D00159.001_RNAcompete_U2AF2/weights/cd6a7ae66bc11f376ce07c2ac469dccc: Data loss: not an sstable (bad magic number): perhaps your file is in a different file format and you need to use a different restore operator?\n"
     ]
    },
    {
     "name": "stdout",
     "output_type": "stream",
     "text": [
      "Predicting for protein:  U2AF2  motif:  RNCMPT00080\n",
      "Using downloaded and verified file: /cellar/users/aklie/.kipoi/models/DeepBind/downloaded/model_files/Homo_sapiens/RBP/D00159.001_RNAcompete_U2AF2/arch/7310f4d8d8cc987a429ba18987249fcb\n",
      "Using downloaded and verified file: /cellar/users/aklie/.kipoi/models/DeepBind/downloaded/model_files/Homo_sapiens/RBP/D00159.001_RNAcompete_U2AF2/weights/cd6a7ae66bc11f376ce07c2ac469dccc\n"
     ]
    },
    {
     "name": "stderr",
     "output_type": "stream",
     "text": [
      "2022-09-07 17:25:06.994254: W tensorflow/core/util/tensor_slice_reader.cc:95] Could not open /cellar/users/aklie/.kipoi/models/DeepBind/downloaded/model_files/Homo_sapiens/RBP/D00159.001_RNAcompete_U2AF2/weights/cd6a7ae66bc11f376ce07c2ac469dccc: Data loss: not an sstable (bad magic number): perhaps your file is in a different file format and you need to use a different restore operator?\n"
     ]
    },
    {
     "name": "stdout",
     "output_type": "stream",
     "text": [
      "Predicting for protein:  CELF3  motif:  RNCMPT00081\n",
      "No model found for protein:  CELF3\n",
      "Predicting for protein:  CSDA  motif:  RNCMPT00083\n",
      "No model found for protein:  CSDA\n",
      "Predicting for protein:  CSDA  motif:  RNCMPT00084\n",
      "No model found for protein:  CSDA\n",
      "Predicting for protein:  ZC3H10  motif:  RNCMPT00085\n",
      "Using downloaded and verified file: /cellar/users/aklie/.kipoi/models/DeepBind/downloaded/model_files/Homo_sapiens/RBP/D00165.001_RNAcompete_ZC3H10/arch/deabcdbbc0ae2e9858e6bf20a36325b1\n",
      "Using downloaded and verified file: /cellar/users/aklie/.kipoi/models/DeepBind/downloaded/model_files/Homo_sapiens/RBP/D00165.001_RNAcompete_ZC3H10/weights/aa17ce5f701c2055df84b52154446e4d\n"
     ]
    },
    {
     "name": "stderr",
     "output_type": "stream",
     "text": [
      "2022-09-07 17:25:07.712982: W tensorflow/core/util/tensor_slice_reader.cc:95] Could not open /cellar/users/aklie/.kipoi/models/DeepBind/downloaded/model_files/Homo_sapiens/RBP/D00165.001_RNAcompete_ZC3H10/weights/aa17ce5f701c2055df84b52154446e4d: Data loss: not an sstable (bad magic number): perhaps your file is in a different file format and you need to use a different restore operator?\n"
     ]
    },
    {
     "name": "stdout",
     "output_type": "stream",
     "text": [
      "Predicting for protein:  ZCRB1  motif:  RNCMPT00087\n",
      "Using downloaded and verified file: /cellar/users/aklie/.kipoi/models/DeepBind/downloaded/model_files/Homo_sapiens/RBP/D00167.001_RNAcompete_ZCRB1/arch/bf964829e3046a3f1c5cc8c593ac23b2\n",
      "Using downloaded and verified file: /cellar/users/aklie/.kipoi/models/DeepBind/downloaded/model_files/Homo_sapiens/RBP/D00167.001_RNAcompete_ZCRB1/weights/b401b374d2ed4f20b99a2e6e459c42ac\n"
     ]
    },
    {
     "name": "stderr",
     "output_type": "stream",
     "text": [
      "2022-09-07 17:25:08.453600: W tensorflow/core/util/tensor_slice_reader.cc:95] Could not open /cellar/users/aklie/.kipoi/models/DeepBind/downloaded/model_files/Homo_sapiens/RBP/D00167.001_RNAcompete_ZCRB1/weights/b401b374d2ed4f20b99a2e6e459c42ac: Data loss: not an sstable (bad magic number): perhaps your file is in a different file format and you need to use a different restore operator?\n"
     ]
    },
    {
     "name": "stdout",
     "output_type": "stream",
     "text": [
      "Predicting for protein:  BX511012.1  motif:  RNCMPT00088\n",
      "No model found for protein:  BX511012.1\n",
      "Predicting for protein:  BX511012.1  motif:  RNCMPT00089\n",
      "No model found for protein:  BX511012.1\n",
      "Predicting for protein:  BX511012.1  motif:  RNCMPT00090\n",
      "No model found for protein:  BX511012.1\n",
      "Predicting for protein:  HNRNPL  motif:  RNCMPT00091\n",
      "Using downloaded and verified file: /cellar/users/aklie/.kipoi/models/DeepBind/downloaded/model_files/Homo_sapiens/RBP/D00110.001_RNAcompete_HNRNPL/arch/d7c9f53d4bf8b0ad2ced3a994b92e4ac\n",
      "Using downloaded and verified file: /cellar/users/aklie/.kipoi/models/DeepBind/downloaded/model_files/Homo_sapiens/RBP/D00110.001_RNAcompete_HNRNPL/weights/267c685c7097771f890437a4cca762fa\n"
     ]
    },
    {
     "name": "stderr",
     "output_type": "stream",
     "text": [
      "2022-09-07 17:25:09.183092: W tensorflow/core/util/tensor_slice_reader.cc:95] Could not open /cellar/users/aklie/.kipoi/models/DeepBind/downloaded/model_files/Homo_sapiens/RBP/D00110.001_RNAcompete_HNRNPL/weights/267c685c7097771f890437a4cca762fa: Data loss: not an sstable (bad magic number): perhaps your file is in a different file format and you need to use a different restore operator?\n"
     ]
    },
    {
     "name": "stdout",
     "output_type": "stream",
     "text": [
      "Predicting for protein:  PUM1  motif:  RNCMPT00101\n",
      "No model found for protein:  PUM1\n",
      "Predicting for protein:  PUM1  motif:  RNCMPT00102\n",
      "No model found for protein:  PUM1\n",
      "Predicting for protein:  PUM1  motif:  RNCMPT00103\n",
      "No model found for protein:  PUM1\n",
      "Predicting for protein:  PUM1  motif:  RNCMPT00104\n",
      "No model found for protein:  PUM1\n",
      "Predicting for protein:  PUM1  motif:  RNCMPT00105\n",
      "No model found for protein:  PUM1\n",
      "Predicting for protein:  SRSF1  motif:  RNCMPT00106\n",
      "Using downloaded and verified file: /cellar/users/aklie/.kipoi/models/DeepBind/downloaded/model_files/Homo_sapiens/RBP/D00102.001_RNAcompete_SRSF10/arch/6f0dcc406969956d5105bf1675eebfe5\n",
      "Using downloaded and verified file: /cellar/users/aklie/.kipoi/models/DeepBind/downloaded/model_files/Homo_sapiens/RBP/D00102.001_RNAcompete_SRSF10/weights/b53399cfcd2c90855ba519ed10fbb4e3\n"
     ]
    },
    {
     "name": "stderr",
     "output_type": "stream",
     "text": [
      "2022-09-07 17:25:09.906818: W tensorflow/core/util/tensor_slice_reader.cc:95] Could not open /cellar/users/aklie/.kipoi/models/DeepBind/downloaded/model_files/Homo_sapiens/RBP/D00102.001_RNAcompete_SRSF10/weights/b53399cfcd2c90855ba519ed10fbb4e3: Data loss: not an sstable (bad magic number): perhaps your file is in a different file format and you need to use a different restore operator?\n"
     ]
    },
    {
     "name": "stdout",
     "output_type": "stream",
     "text": [
      "Predicting for protein:  SRSF1  motif:  RNCMPT00107\n",
      "Using downloaded and verified file: /cellar/users/aklie/.kipoi/models/DeepBind/downloaded/model_files/Homo_sapiens/RBP/D00102.001_RNAcompete_SRSF10/arch/6f0dcc406969956d5105bf1675eebfe5\n",
      "Using downloaded and verified file: /cellar/users/aklie/.kipoi/models/DeepBind/downloaded/model_files/Homo_sapiens/RBP/D00102.001_RNAcompete_SRSF10/weights/b53399cfcd2c90855ba519ed10fbb4e3\n"
     ]
    },
    {
     "name": "stderr",
     "output_type": "stream",
     "text": [
      "2022-09-07 17:25:10.635537: W tensorflow/core/util/tensor_slice_reader.cc:95] Could not open /cellar/users/aklie/.kipoi/models/DeepBind/downloaded/model_files/Homo_sapiens/RBP/D00102.001_RNAcompete_SRSF10/weights/b53399cfcd2c90855ba519ed10fbb4e3: Data loss: not an sstable (bad magic number): perhaps your file is in a different file format and you need to use a different restore operator?\n"
     ]
    },
    {
     "name": "stdout",
     "output_type": "stream",
     "text": [
      "Predicting for protein:  SRSF1  motif:  RNCMPT00108\n",
      "Using downloaded and verified file: /cellar/users/aklie/.kipoi/models/DeepBind/downloaded/model_files/Homo_sapiens/RBP/D00102.001_RNAcompete_SRSF10/arch/6f0dcc406969956d5105bf1675eebfe5\n",
      "Using downloaded and verified file: /cellar/users/aklie/.kipoi/models/DeepBind/downloaded/model_files/Homo_sapiens/RBP/D00102.001_RNAcompete_SRSF10/weights/b53399cfcd2c90855ba519ed10fbb4e3\n"
     ]
    },
    {
     "name": "stderr",
     "output_type": "stream",
     "text": [
      "2022-09-07 17:25:11.360219: W tensorflow/core/util/tensor_slice_reader.cc:95] Could not open /cellar/users/aklie/.kipoi/models/DeepBind/downloaded/model_files/Homo_sapiens/RBP/D00102.001_RNAcompete_SRSF10/weights/b53399cfcd2c90855ba519ed10fbb4e3: Data loss: not an sstable (bad magic number): perhaps your file is in a different file format and you need to use a different restore operator?\n"
     ]
    },
    {
     "name": "stdout",
     "output_type": "stream",
     "text": [
      "Predicting for protein:  SRSF1  motif:  RNCMPT00109\n",
      "Using downloaded and verified file: /cellar/users/aklie/.kipoi/models/DeepBind/downloaded/model_files/Homo_sapiens/RBP/D00102.001_RNAcompete_SRSF10/arch/6f0dcc406969956d5105bf1675eebfe5\n",
      "Using downloaded and verified file: /cellar/users/aklie/.kipoi/models/DeepBind/downloaded/model_files/Homo_sapiens/RBP/D00102.001_RNAcompete_SRSF10/weights/b53399cfcd2c90855ba519ed10fbb4e3\n"
     ]
    },
    {
     "name": "stderr",
     "output_type": "stream",
     "text": [
      "2022-09-07 17:25:12.091943: W tensorflow/core/util/tensor_slice_reader.cc:95] Could not open /cellar/users/aklie/.kipoi/models/DeepBind/downloaded/model_files/Homo_sapiens/RBP/D00102.001_RNAcompete_SRSF10/weights/b53399cfcd2c90855ba519ed10fbb4e3: Data loss: not an sstable (bad magic number): perhaps your file is in a different file format and you need to use a different restore operator?\n"
     ]
    },
    {
     "name": "stdout",
     "output_type": "stream",
     "text": [
      "Predicting for protein:  SRSF1  motif:  RNCMPT00110\n",
      "Using downloaded and verified file: /cellar/users/aklie/.kipoi/models/DeepBind/downloaded/model_files/Homo_sapiens/RBP/D00102.001_RNAcompete_SRSF10/arch/6f0dcc406969956d5105bf1675eebfe5\n",
      "Using downloaded and verified file: /cellar/users/aklie/.kipoi/models/DeepBind/downloaded/model_files/Homo_sapiens/RBP/D00102.001_RNAcompete_SRSF10/weights/b53399cfcd2c90855ba519ed10fbb4e3\n"
     ]
    },
    {
     "name": "stderr",
     "output_type": "stream",
     "text": [
      "2022-09-07 17:25:12.824372: W tensorflow/core/util/tensor_slice_reader.cc:95] Could not open /cellar/users/aklie/.kipoi/models/DeepBind/downloaded/model_files/Homo_sapiens/RBP/D00102.001_RNAcompete_SRSF10/weights/b53399cfcd2c90855ba519ed10fbb4e3: Data loss: not an sstable (bad magic number): perhaps your file is in a different file format and you need to use a different restore operator?\n"
     ]
    },
    {
     "name": "stdout",
     "output_type": "stream",
     "text": [
      "Predicting for protein:  ELAVL1  motif:  RNCMPT00112\n",
      "No model found for protein:  ELAVL1\n",
      "Predicting for protein:  RBM14  motif:  RNCMPT00113\n",
      "No model found for protein:  RBM14\n",
      "Predicting for protein:  CSDA  motif:  RNCMPT00116\n",
      "No model found for protein:  CSDA\n",
      "Predicting for protein:  ELAVL1  motif:  RNCMPT00117\n",
      "No model found for protein:  ELAVL1\n",
      "Predicting for protein:  QKI  motif:  RNCMPT00118\n",
      "Using downloaded and verified file: /cellar/users/aklie/.kipoi/models/DeepBind/downloaded/model_files/Homo_sapiens/RBP/D00129.001_RNAcompete_QKI/arch/ffdceb0b9137ee2934f7c221b24d9b3a\n",
      "Using downloaded and verified file: /cellar/users/aklie/.kipoi/models/DeepBind/downloaded/model_files/Homo_sapiens/RBP/D00129.001_RNAcompete_QKI/weights/e8dbb61d3ece489ec195c7c339a3ad7a\n"
     ]
    },
    {
     "name": "stderr",
     "output_type": "stream",
     "text": [
      "2022-09-07 17:25:13.533673: W tensorflow/core/util/tensor_slice_reader.cc:95] Could not open /cellar/users/aklie/.kipoi/models/DeepBind/downloaded/model_files/Homo_sapiens/RBP/D00129.001_RNAcompete_QKI/weights/e8dbb61d3ece489ec195c7c339a3ad7a: Data loss: not an sstable (bad magic number): perhaps your file is in a different file format and you need to use a different restore operator?\n"
     ]
    },
    {
     "name": "stdout",
     "output_type": "stream",
     "text": [
      "Predicting for protein:  CELF6  motif:  RNCMPT00122\n",
      "No model found for protein:  CELF6\n",
      "Predicting for protein:  RBFOX1  motif:  RNCMPT00123\n",
      "Using downloaded and verified file: /cellar/users/aklie/.kipoi/models/DeepBind/downloaded/model_files/Homo_sapiens/RBP/D00210.001_RNAcompete_RBFOX1/arch/dd107603901712c22dfeadcf9c0e58fd\n",
      "Using downloaded and verified file: /cellar/users/aklie/.kipoi/models/DeepBind/downloaded/model_files/Homo_sapiens/RBP/D00210.001_RNAcompete_RBFOX1/weights/b1366c13b8973f8ef222e6effe105a15\n"
     ]
    },
    {
     "name": "stderr",
     "output_type": "stream",
     "text": [
      "2022-09-07 17:25:14.176187: W tensorflow/core/util/tensor_slice_reader.cc:95] Could not open /cellar/users/aklie/.kipoi/models/DeepBind/downloaded/model_files/Homo_sapiens/RBP/D00210.001_RNAcompete_RBFOX1/weights/b1366c13b8973f8ef222e6effe105a15: Data loss: not an sstable (bad magic number): perhaps your file is in a different file format and you need to use a different restore operator?\n"
     ]
    },
    {
     "name": "stdout",
     "output_type": "stream",
     "text": [
      "Predicting for protein:  CPEB2  motif:  RNCMPT00126\n",
      "Using downloaded and verified file: /cellar/users/aklie/.kipoi/models/DeepBind/downloaded/model_files/Homo_sapiens/RBP/D00095.001_RNAcompete_CPEB2/arch/c6a22ad58256249558a0de864debded3\n",
      "Using downloaded and verified file: /cellar/users/aklie/.kipoi/models/DeepBind/downloaded/model_files/Homo_sapiens/RBP/D00095.001_RNAcompete_CPEB2/weights/dcfd4dd20b889cb98443a2b84f4dee99\n"
     ]
    },
    {
     "name": "stderr",
     "output_type": "stream",
     "text": [
      "2022-09-07 17:25:14.887668: W tensorflow/core/util/tensor_slice_reader.cc:95] Could not open /cellar/users/aklie/.kipoi/models/DeepBind/downloaded/model_files/Homo_sapiens/RBP/D00095.001_RNAcompete_CPEB2/weights/dcfd4dd20b889cb98443a2b84f4dee99: Data loss: not an sstable (bad magic number): perhaps your file is in a different file format and you need to use a different restore operator?\n"
     ]
    },
    {
     "name": "stdout",
     "output_type": "stream",
     "text": [
      "Predicting for protein:  SRSF3  motif:  RNCMPT00127\n",
      "No model found for protein:  SRSF3\n",
      "Predicting for protein:  MEX3B  motif:  RNCMPT00129\n",
      "No model found for protein:  MEX3B\n",
      "Predicting for protein:  ELAVL2  motif:  RNCMPT00132\n",
      "No model found for protein:  ELAVL2\n",
      "Predicting for protein:  SRSF4  motif:  RNCMPT00134\n",
      "No model found for protein:  SRSF4\n",
      "Predicting for protein:  ELAVL1  motif:  RNCMPT00136\n",
      "No model found for protein:  ELAVL1\n",
      "Predicting for protein:  SNRNP70  motif:  RNCMPT00143\n",
      "Using downloaded and verified file: /cellar/users/aklie/.kipoi/models/DeepBind/downloaded/model_files/Homo_sapiens/RBP/D00151.001_RNAcompete_SNRNP70/arch/4c7639faea65ffa2d0f7b21a16618bd0\n",
      "Using downloaded and verified file: /cellar/users/aklie/.kipoi/models/DeepBind/downloaded/model_files/Homo_sapiens/RBP/D00151.001_RNAcompete_SNRNP70/weights/446525d7e947bc47170e4158830b1d04\n"
     ]
    },
    {
     "name": "stderr",
     "output_type": "stream",
     "text": [
      "2022-09-07 17:25:15.599355: W tensorflow/core/util/tensor_slice_reader.cc:95] Could not open /cellar/users/aklie/.kipoi/models/DeepBind/downloaded/model_files/Homo_sapiens/RBP/D00151.001_RNAcompete_SNRNP70/weights/446525d7e947bc47170e4158830b1d04: Data loss: not an sstable (bad magic number): perhaps your file is in a different file format and you need to use a different restore operator?\n"
     ]
    },
    {
     "name": "stdout",
     "output_type": "stream",
     "text": [
      "Predicting for protein:  SNRPA  motif:  RNCMPT00145\n",
      "Using downloaded and verified file: /cellar/users/aklie/.kipoi/models/DeepBind/downloaded/model_files/Homo_sapiens/RBP/D00152.001_RNAcompete_SNRPA/arch/fd2997f6118b795787c9acd802748a7d\n",
      "Using downloaded and verified file: /cellar/users/aklie/.kipoi/models/DeepBind/downloaded/model_files/Homo_sapiens/RBP/D00152.001_RNAcompete_SNRPA/weights/99f690d06ab8d61b6c5430106e00df5a\n"
     ]
    },
    {
     "name": "stderr",
     "output_type": "stream",
     "text": [
      "2022-09-07 17:25:16.239565: W tensorflow/core/util/tensor_slice_reader.cc:95] Could not open /cellar/users/aklie/.kipoi/models/DeepBind/downloaded/model_files/Homo_sapiens/RBP/D00152.001_RNAcompete_SNRPA/weights/99f690d06ab8d61b6c5430106e00df5a: Data loss: not an sstable (bad magic number): perhaps your file is in a different file format and you need to use a different restore operator?\n"
     ]
    },
    {
     "name": "stdout",
     "output_type": "stream",
     "text": [
      "Predicting for protein:  RBM42  motif:  RNCMPT00147\n",
      "Using downloaded and verified file: /cellar/users/aklie/.kipoi/models/DeepBind/downloaded/model_files/Homo_sapiens/RBP/D00197.001_RNAcompete_RBM42/arch/34db638bc572fcec20cfcda5e56cb191\n",
      "Using downloaded and verified file: /cellar/users/aklie/.kipoi/models/DeepBind/downloaded/model_files/Homo_sapiens/RBP/D00197.001_RNAcompete_RBM42/weights/0d20690cb891579d140c4872ed10f27e\n"
     ]
    },
    {
     "name": "stderr",
     "output_type": "stream",
     "text": [
      "2022-09-07 17:25:16.889276: W tensorflow/core/util/tensor_slice_reader.cc:95] Could not open /cellar/users/aklie/.kipoi/models/DeepBind/downloaded/model_files/Homo_sapiens/RBP/D00197.001_RNAcompete_RBM42/weights/0d20690cb891579d140c4872ed10f27e: Data loss: not an sstable (bad magic number): perhaps your file is in a different file format and you need to use a different restore operator?\n"
     ]
    },
    {
     "name": "stdout",
     "output_type": "stream",
     "text": [
      "Predicting for protein:  ENOX1  motif:  RNCMPT00149\n",
      "Using downloaded and verified file: /cellar/users/aklie/.kipoi/models/DeepBind/downloaded/model_files/Homo_sapiens/RBP/D00195.001_RNAcompete_ENOX1/arch/2ed1d70715de12240ffe205914050d30\n",
      "Using downloaded and verified file: /cellar/users/aklie/.kipoi/models/DeepBind/downloaded/model_files/Homo_sapiens/RBP/D00195.001_RNAcompete_ENOX1/weights/1f00e56249fe72028578caab8b8215c7\n"
     ]
    },
    {
     "name": "stderr",
     "output_type": "stream",
     "text": [
      "2022-09-07 17:25:17.548171: W tensorflow/core/util/tensor_slice_reader.cc:95] Could not open /cellar/users/aklie/.kipoi/models/DeepBind/downloaded/model_files/Homo_sapiens/RBP/D00195.001_RNAcompete_ENOX1/weights/1f00e56249fe72028578caab8b8215c7: Data loss: not an sstable (bad magic number): perhaps your file is in a different file format and you need to use a different restore operator?\n"
     ]
    },
    {
     "name": "stdout",
     "output_type": "stream",
     "text": [
      "Predicting for protein:  ESRP1  motif:  RNCMPT00150\n",
      "No model found for protein:  ESRP1\n",
      "Predicting for protein:  RBM42  motif:  RNCMPT00151\n",
      "Using downloaded and verified file: /cellar/users/aklie/.kipoi/models/DeepBind/downloaded/model_files/Homo_sapiens/RBP/D00197.001_RNAcompete_RBM42/arch/34db638bc572fcec20cfcda5e56cb191\n",
      "Using downloaded and verified file: /cellar/users/aklie/.kipoi/models/DeepBind/downloaded/model_files/Homo_sapiens/RBP/D00197.001_RNAcompete_RBM42/weights/0d20690cb891579d140c4872ed10f27e\n"
     ]
    },
    {
     "name": "stderr",
     "output_type": "stream",
     "text": [
      "2022-09-07 17:25:18.246489: W tensorflow/core/util/tensor_slice_reader.cc:95] Could not open /cellar/users/aklie/.kipoi/models/DeepBind/downloaded/model_files/Homo_sapiens/RBP/D00197.001_RNAcompete_RBM42/weights/0d20690cb891579d140c4872ed10f27e: Data loss: not an sstable (bad magic number): perhaps your file is in a different file format and you need to use a different restore operator?\n"
     ]
    },
    {
     "name": "stdout",
     "output_type": "stream",
     "text": [
      "Predicting for protein:  RBMS1  motif:  RNCMPT00152\n",
      "Using downloaded and verified file: /cellar/users/aklie/.kipoi/models/DeepBind/downloaded/model_files/Homo_sapiens/RBP/D00198.001_RNAcompete_RBMS1/arch/cd9827dc3b36fa123c028ce165e5aa68\n",
      "Using downloaded and verified file: /cellar/users/aklie/.kipoi/models/DeepBind/downloaded/model_files/Homo_sapiens/RBP/D00198.001_RNAcompete_RBMS1/weights/6e12e4fa996093ac9d3f3776665878c6\n"
     ]
    },
    {
     "name": "stderr",
     "output_type": "stream",
     "text": [
      "2022-09-07 17:25:18.896538: W tensorflow/core/util/tensor_slice_reader.cc:95] Could not open /cellar/users/aklie/.kipoi/models/DeepBind/downloaded/model_files/Homo_sapiens/RBP/D00198.001_RNAcompete_RBMS1/weights/6e12e4fa996093ac9d3f3776665878c6: Data loss: not an sstable (bad magic number): perhaps your file is in a different file format and you need to use a different restore operator?\n"
     ]
    },
    {
     "name": "stdout",
     "output_type": "stream",
     "text": [
      "Predicting for protein:  PABPC1  motif:  RNCMPT00153\n",
      "Using downloaded and verified file: /cellar/users/aklie/.kipoi/models/DeepBind/downloaded/model_files/Homo_sapiens/RBP/D00200.001_RNAcompete_PABPC1/arch/4d14d019b2e4142060f52398158d385f\n",
      "Using downloaded and verified file: /cellar/users/aklie/.kipoi/models/DeepBind/downloaded/model_files/Homo_sapiens/RBP/D00200.001_RNAcompete_PABPC1/weights/891d520fbdfcbf28ced4ff65e4bc678c\n"
     ]
    },
    {
     "name": "stderr",
     "output_type": "stream",
     "text": [
      "2022-09-07 17:25:19.618915: W tensorflow/core/util/tensor_slice_reader.cc:95] Could not open /cellar/users/aklie/.kipoi/models/DeepBind/downloaded/model_files/Homo_sapiens/RBP/D00200.001_RNAcompete_PABPC1/weights/891d520fbdfcbf28ced4ff65e4bc678c: Data loss: not an sstable (bad magic number): perhaps your file is in a different file format and you need to use a different restore operator?\n"
     ]
    },
    {
     "name": "stdout",
     "output_type": "stream",
     "text": [
      "Predicting for protein:  RBM5  motif:  RNCMPT00154\n",
      "Using downloaded and verified file: /cellar/users/aklie/.kipoi/models/DeepBind/downloaded/model_files/Homo_sapiens/RBP/D00136.001_RNAcompete_RBM5/arch/d9584eebadca5198bcee20f19dc5f04a\n",
      "Using downloaded and verified file: /cellar/users/aklie/.kipoi/models/DeepBind/downloaded/model_files/Homo_sapiens/RBP/D00136.001_RNAcompete_RBM5/weights/a8157c0eb280c7eff41acd1d8b60661e\n"
     ]
    },
    {
     "name": "stderr",
     "output_type": "stream",
     "text": [
      "2022-09-07 17:25:20.333721: W tensorflow/core/util/tensor_slice_reader.cc:95] Could not open /cellar/users/aklie/.kipoi/models/DeepBind/downloaded/model_files/Homo_sapiens/RBP/D00136.001_RNAcompete_RBM5/weights/a8157c0eb280c7eff41acd1d8b60661e: Data loss: not an sstable (bad magic number): perhaps your file is in a different file format and you need to use a different restore operator?\n"
     ]
    },
    {
     "name": "stdout",
     "output_type": "stream",
     "text": [
      "Predicting for protein:  PABPC1  motif:  RNCMPT00155\n",
      "Using downloaded and verified file: /cellar/users/aklie/.kipoi/models/DeepBind/downloaded/model_files/Homo_sapiens/RBP/D00200.001_RNAcompete_PABPC1/arch/4d14d019b2e4142060f52398158d385f\n",
      "Using downloaded and verified file: /cellar/users/aklie/.kipoi/models/DeepBind/downloaded/model_files/Homo_sapiens/RBP/D00200.001_RNAcompete_PABPC1/weights/891d520fbdfcbf28ced4ff65e4bc678c\n"
     ]
    },
    {
     "name": "stderr",
     "output_type": "stream",
     "text": [
      "2022-09-07 17:25:21.042753: W tensorflow/core/util/tensor_slice_reader.cc:95] Could not open /cellar/users/aklie/.kipoi/models/DeepBind/downloaded/model_files/Homo_sapiens/RBP/D00200.001_RNAcompete_PABPC1/weights/891d520fbdfcbf28ced4ff65e4bc678c: Data loss: not an sstable (bad magic number): perhaps your file is in a different file format and you need to use a different restore operator?\n"
     ]
    },
    {
     "name": "stdout",
     "output_type": "stream",
     "text": [
      "Predicting for protein:  CNOT4  motif:  RNCMPT00156\n",
      "Using downloaded and verified file: /cellar/users/aklie/.kipoi/models/DeepBind/downloaded/model_files/Homo_sapiens/RBP/D00201.001_RNAcompete_CNOT4/arch/367bfbfebbe3deccfcee7247a6cf9de9\n",
      "Using downloaded and verified file: /cellar/users/aklie/.kipoi/models/DeepBind/downloaded/model_files/Homo_sapiens/RBP/D00201.001_RNAcompete_CNOT4/weights/cc7c64aa43e265a965b765db2cc044fe\n"
     ]
    },
    {
     "name": "stderr",
     "output_type": "stream",
     "text": [
      "2022-09-07 17:25:21.773407: W tensorflow/core/util/tensor_slice_reader.cc:95] Could not open /cellar/users/aklie/.kipoi/models/DeepBind/downloaded/model_files/Homo_sapiens/RBP/D00201.001_RNAcompete_CNOT4/weights/cc7c64aa43e265a965b765db2cc044fe: Data loss: not an sstable (bad magic number): perhaps your file is in a different file format and you need to use a different restore operator?\n"
     ]
    },
    {
     "name": "stdout",
     "output_type": "stream",
     "text": [
      "Predicting for protein:  PABPN1  motif:  RNCMPT00157\n",
      "Using downloaded and verified file: /cellar/users/aklie/.kipoi/models/DeepBind/downloaded/model_files/Homo_sapiens/RBP/D00202.001_RNAcompete_PABPN1/arch/45cc54576b0eddb5b74a63b20c932d4d\n",
      "Using downloaded and verified file: /cellar/users/aklie/.kipoi/models/DeepBind/downloaded/model_files/Homo_sapiens/RBP/D00202.001_RNAcompete_PABPN1/weights/096d24ffaae8f3b3d4262c4f14ef3596\n"
     ]
    },
    {
     "name": "stderr",
     "output_type": "stream",
     "text": [
      "2022-09-07 17:25:22.502716: W tensorflow/core/util/tensor_slice_reader.cc:95] Could not open /cellar/users/aklie/.kipoi/models/DeepBind/downloaded/model_files/Homo_sapiens/RBP/D00202.001_RNAcompete_PABPN1/weights/096d24ffaae8f3b3d4262c4f14ef3596: Data loss: not an sstable (bad magic number): perhaps your file is in a different file format and you need to use a different restore operator?\n"
     ]
    },
    {
     "name": "stdout",
     "output_type": "stream",
     "text": [
      "Predicting for protein:  CPEB2  motif:  RNCMPT00158\n",
      "Using downloaded and verified file: /cellar/users/aklie/.kipoi/models/DeepBind/downloaded/model_files/Homo_sapiens/RBP/D00095.001_RNAcompete_CPEB2/arch/c6a22ad58256249558a0de864debded3\n",
      "Using downloaded and verified file: /cellar/users/aklie/.kipoi/models/DeepBind/downloaded/model_files/Homo_sapiens/RBP/D00095.001_RNAcompete_CPEB2/weights/dcfd4dd20b889cb98443a2b84f4dee99\n"
     ]
    },
    {
     "name": "stderr",
     "output_type": "stream",
     "text": [
      "2022-09-07 17:25:23.219572: W tensorflow/core/util/tensor_slice_reader.cc:95] Could not open /cellar/users/aklie/.kipoi/models/DeepBind/downloaded/model_files/Homo_sapiens/RBP/D00095.001_RNAcompete_CPEB2/weights/dcfd4dd20b889cb98443a2b84f4dee99: Data loss: not an sstable (bad magic number): perhaps your file is in a different file format and you need to use a different restore operator?\n"
     ]
    },
    {
     "name": "stdout",
     "output_type": "stream",
     "text": [
      "Predicting for protein:  HNRNPC  motif:  RNCMPT00159\n",
      "Using downloaded and verified file: /cellar/users/aklie/.kipoi/models/DeepBind/downloaded/model_files/Homo_sapiens/RBP/D00108.001_RNAcompete_HNRNPC/arch/5c5934c57a3ddfa4df434a615144fa5c\n",
      "Using downloaded and verified file: /cellar/users/aklie/.kipoi/models/DeepBind/downloaded/model_files/Homo_sapiens/RBP/D00108.001_RNAcompete_HNRNPC/weights/e195c591a2f3054a2746a12d0e149840\n"
     ]
    },
    {
     "name": "stderr",
     "output_type": "stream",
     "text": [
      "2022-09-07 17:25:23.926683: W tensorflow/core/util/tensor_slice_reader.cc:95] Could not open /cellar/users/aklie/.kipoi/models/DeepBind/downloaded/model_files/Homo_sapiens/RBP/D00108.001_RNAcompete_HNRNPC/weights/e195c591a2f3054a2746a12d0e149840: Data loss: not an sstable (bad magic number): perhaps your file is in a different file format and you need to use a different restore operator?\n"
     ]
    },
    {
     "name": "stdout",
     "output_type": "stream",
     "text": [
      "Predicting for protein:  HNRNPF  motif:  RNCMPT00160\n",
      "No model found for protein:  HNRNPF\n",
      "Predicting for protein:  FXR1  motif:  RNCMPT00161\n",
      "Using downloaded and verified file: /cellar/users/aklie/.kipoi/models/DeepBind/downloaded/model_files/Homo_sapiens/RBP/D00206.001_RNAcompete_FXR1/arch/109afa6d9f1764d98e7bb9cfdb020a36\n",
      "Using downloaded and verified file: /cellar/users/aklie/.kipoi/models/DeepBind/downloaded/model_files/Homo_sapiens/RBP/D00206.001_RNAcompete_FXR1/weights/f4b28111dafd71c8c555e1dbd991fc43\n"
     ]
    },
    {
     "name": "stderr",
     "output_type": "stream",
     "text": [
      "2022-09-07 17:25:24.639344: W tensorflow/core/util/tensor_slice_reader.cc:95] Could not open /cellar/users/aklie/.kipoi/models/DeepBind/downloaded/model_files/Homo_sapiens/RBP/D00206.001_RNAcompete_FXR1/weights/f4b28111dafd71c8c555e1dbd991fc43: Data loss: not an sstable (bad magic number): perhaps your file is in a different file format and you need to use a different restore operator?\n"
     ]
    },
    {
     "name": "stdout",
     "output_type": "stream",
     "text": [
      "Predicting for protein:  LIN28A  motif:  RNCMPT00162\n",
      "Using downloaded and verified file: /cellar/users/aklie/.kipoi/models/DeepBind/downloaded/model_files/Homo_sapiens/RBP/D00118.001_RNAcompete_LIN28A/arch/2075f91bad7b3e34ca66d9855f753460\n",
      "Using downloaded and verified file: /cellar/users/aklie/.kipoi/models/DeepBind/downloaded/model_files/Homo_sapiens/RBP/D00118.001_RNAcompete_LIN28A/weights/db03347dcfc00053f7ac236ef591a3ef\n"
     ]
    },
    {
     "name": "stderr",
     "output_type": "stream",
     "text": [
      "2022-09-07 17:25:25.281183: W tensorflow/core/util/tensor_slice_reader.cc:95] Could not open /cellar/users/aklie/.kipoi/models/DeepBind/downloaded/model_files/Homo_sapiens/RBP/D00118.001_RNAcompete_LIN28A/weights/db03347dcfc00053f7ac236ef591a3ef: Data loss: not an sstable (bad magic number): perhaps your file is in a different file format and you need to use a different restore operator?\n"
     ]
    },
    {
     "name": "stdout",
     "output_type": "stream",
     "text": [
      "Predicting for protein:  SRSF1  motif:  RNCMPT00163\n",
      "Using downloaded and verified file: /cellar/users/aklie/.kipoi/models/DeepBind/downloaded/model_files/Homo_sapiens/RBP/D00102.001_RNAcompete_SRSF10/arch/6f0dcc406969956d5105bf1675eebfe5\n",
      "Using downloaded and verified file: /cellar/users/aklie/.kipoi/models/DeepBind/downloaded/model_files/Homo_sapiens/RBP/D00102.001_RNAcompete_SRSF10/weights/b53399cfcd2c90855ba519ed10fbb4e3\n"
     ]
    },
    {
     "name": "stderr",
     "output_type": "stream",
     "text": [
      "2022-09-07 17:25:26.013890: W tensorflow/core/util/tensor_slice_reader.cc:95] Could not open /cellar/users/aklie/.kipoi/models/DeepBind/downloaded/model_files/Homo_sapiens/RBP/D00102.001_RNAcompete_SRSF10/weights/b53399cfcd2c90855ba519ed10fbb4e3: Data loss: not an sstable (bad magic number): perhaps your file is in a different file format and you need to use a different restore operator?\n"
     ]
    },
    {
     "name": "stdout",
     "output_type": "stream",
     "text": [
      "Predicting for protein:  ZNF638  motif:  RNCMPT00164\n",
      "Using downloaded and verified file: /cellar/users/aklie/.kipoi/models/DeepBind/downloaded/model_files/Homo_sapiens/RBP/D00207.001_RNAcompete_ZNF638/arch/90a15f45d78acfd822667b0de9c11cb3\n",
      "Using downloaded and verified file: /cellar/users/aklie/.kipoi/models/DeepBind/downloaded/model_files/Homo_sapiens/RBP/D00207.001_RNAcompete_ZNF638/weights/6b970f0770a1923bdba60d98547ad78f\n"
     ]
    },
    {
     "name": "stderr",
     "output_type": "stream",
     "text": [
      "2022-09-07 17:25:26.745396: W tensorflow/core/util/tensor_slice_reader.cc:95] Could not open /cellar/users/aklie/.kipoi/models/DeepBind/downloaded/model_files/Homo_sapiens/RBP/D00207.001_RNAcompete_ZNF638/weights/6b970f0770a1923bdba60d98547ad78f: Data loss: not an sstable (bad magic number): perhaps your file is in a different file format and you need to use a different restore operator?\n"
     ]
    },
    {
     "name": "stdout",
     "output_type": "stream",
     "text": [
      "Predicting for protein:  TIA1  motif:  RNCMPT00165\n",
      "Using downloaded and verified file: /cellar/users/aklie/.kipoi/models/DeepBind/downloaded/model_files/Homo_sapiens/RBP/D00157.001_RNAcompete_TIA1/arch/112f168d2c7a8f36608bb77ddd28f4ec\n",
      "Using downloaded and verified file: /cellar/users/aklie/.kipoi/models/DeepBind/downloaded/model_files/Homo_sapiens/RBP/D00157.001_RNAcompete_TIA1/weights/fbc6c4c43894bc2756dc70a640f5a25d\n"
     ]
    },
    {
     "name": "stderr",
     "output_type": "stream",
     "text": [
      "2022-09-07 17:25:27.396839: W tensorflow/core/util/tensor_slice_reader.cc:95] Could not open /cellar/users/aklie/.kipoi/models/DeepBind/downloaded/model_files/Homo_sapiens/RBP/D00157.001_RNAcompete_TIA1/weights/fbc6c4c43894bc2756dc70a640f5a25d: Data loss: not an sstable (bad magic number): perhaps your file is in a different file format and you need to use a different restore operator?\n"
     ]
    },
    {
     "name": "stdout",
     "output_type": "stream",
     "text": [
      "Predicting for protein:  CELF3  motif:  RNCMPT00166\n",
      "No model found for protein:  CELF3\n",
      "Predicting for protein:  HNRNPC  motif:  RNCMPT00167\n",
      "Using downloaded and verified file: /cellar/users/aklie/.kipoi/models/DeepBind/downloaded/model_files/Homo_sapiens/RBP/D00108.001_RNAcompete_HNRNPC/arch/5c5934c57a3ddfa4df434a615144fa5c\n",
      "Using downloaded and verified file: /cellar/users/aklie/.kipoi/models/DeepBind/downloaded/model_files/Homo_sapiens/RBP/D00108.001_RNAcompete_HNRNPC/weights/e195c591a2f3054a2746a12d0e149840\n"
     ]
    },
    {
     "name": "stderr",
     "output_type": "stream",
     "text": [
      "2022-09-07 17:25:28.108093: W tensorflow/core/util/tensor_slice_reader.cc:95] Could not open /cellar/users/aklie/.kipoi/models/DeepBind/downloaded/model_files/Homo_sapiens/RBP/D00108.001_RNAcompete_HNRNPC/weights/e195c591a2f3054a2746a12d0e149840: Data loss: not an sstable (bad magic number): perhaps your file is in a different file format and you need to use a different restore operator?\n"
     ]
    },
    {
     "name": "stdout",
     "output_type": "stream",
     "text": [
      "Predicting for protein:  RBFOX1  motif:  RNCMPT00168\n",
      "Using downloaded and verified file: /cellar/users/aklie/.kipoi/models/DeepBind/downloaded/model_files/Homo_sapiens/RBP/D00210.001_RNAcompete_RBFOX1/arch/dd107603901712c22dfeadcf9c0e58fd\n",
      "Using downloaded and verified file: /cellar/users/aklie/.kipoi/models/DeepBind/downloaded/model_files/Homo_sapiens/RBP/D00210.001_RNAcompete_RBFOX1/weights/b1366c13b8973f8ef222e6effe105a15\n"
     ]
    },
    {
     "name": "stderr",
     "output_type": "stream",
     "text": [
      "2022-09-07 17:25:28.841707: W tensorflow/core/util/tensor_slice_reader.cc:95] Could not open /cellar/users/aklie/.kipoi/models/DeepBind/downloaded/model_files/Homo_sapiens/RBP/D00210.001_RNAcompete_RBFOX1/weights/b1366c13b8973f8ef222e6effe105a15: Data loss: not an sstable (bad magic number): perhaps your file is in a different file format and you need to use a different restore operator?\n"
     ]
    },
    {
     "name": "stdout",
     "output_type": "stream",
     "text": [
      "Predicting for protein:  KHDRBS1  motif:  RNCMPT00169\n",
      "Using downloaded and verified file: /cellar/users/aklie/.kipoi/models/DeepBind/downloaded/model_files/Homo_sapiens/RBP/D00211.001_RNAcompete_KHDRBS1/arch/5252ca72943dd4cc57d822c9ff7a796f\n",
      "Using downloaded and verified file: /cellar/users/aklie/.kipoi/models/DeepBind/downloaded/model_files/Homo_sapiens/RBP/D00211.001_RNAcompete_KHDRBS1/weights/fa3769dd6290c178a424ad3645e2b156\n"
     ]
    },
    {
     "name": "stderr",
     "output_type": "stream",
     "text": [
      "2022-09-07 17:25:29.563736: W tensorflow/core/util/tensor_slice_reader.cc:95] Could not open /cellar/users/aklie/.kipoi/models/DeepBind/downloaded/model_files/Homo_sapiens/RBP/D00211.001_RNAcompete_KHDRBS1/weights/fa3769dd6290c178a424ad3645e2b156: Data loss: not an sstable (bad magic number): perhaps your file is in a different file format and you need to use a different restore operator?\n"
     ]
    },
    {
     "name": "stdout",
     "output_type": "stream",
     "text": [
      "Predicting for protein:  RBM6  motif:  RNCMPT00170\n",
      "Using downloaded and verified file: /cellar/users/aklie/.kipoi/models/DeepBind/downloaded/model_files/Homo_sapiens/RBP/D00212.001_RNAcompete_RBM6/arch/cbf5e82da87fe47f14252af78d69a5b0\n",
      "Using downloaded and verified file: /cellar/users/aklie/.kipoi/models/DeepBind/downloaded/model_files/Homo_sapiens/RBP/D00212.001_RNAcompete_RBM6/weights/e507bef8d07fe732fb92296343bdd79a\n"
     ]
    },
    {
     "name": "stderr",
     "output_type": "stream",
     "text": [
      "2022-09-07 17:25:30.268367: W tensorflow/core/util/tensor_slice_reader.cc:95] Could not open /cellar/users/aklie/.kipoi/models/DeepBind/downloaded/model_files/Homo_sapiens/RBP/D00212.001_RNAcompete_RBM6/weights/e507bef8d07fe732fb92296343bdd79a: Data loss: not an sstable (bad magic number): perhaps your file is in a different file format and you need to use a different restore operator?\n"
     ]
    },
    {
     "name": "stdout",
     "output_type": "stream",
     "text": [
      "Predicting for protein:  PABPC5  motif:  RNCMPT00171\n",
      "Using downloaded and verified file: /cellar/users/aklie/.kipoi/models/DeepBind/downloaded/model_files/Homo_sapiens/RBP/D00213.001_RNAcompete_PABPC5/arch/0e4f5bd1f9c58839b14cf3cb68c9b521\n",
      "Using downloaded and verified file: /cellar/users/aklie/.kipoi/models/DeepBind/downloaded/model_files/Homo_sapiens/RBP/D00213.001_RNAcompete_PABPC5/weights/4c0459e190a70c67f6162c32c79763c0\n"
     ]
    },
    {
     "name": "stderr",
     "output_type": "stream",
     "text": [
      "2022-09-07 17:25:30.910039: W tensorflow/core/util/tensor_slice_reader.cc:95] Could not open /cellar/users/aklie/.kipoi/models/DeepBind/downloaded/model_files/Homo_sapiens/RBP/D00213.001_RNAcompete_PABPC5/weights/4c0459e190a70c67f6162c32c79763c0: Data loss: not an sstable (bad magic number): perhaps your file is in a different file format and you need to use a different restore operator?\n"
     ]
    },
    {
     "name": "stdout",
     "output_type": "stream",
     "text": [
      "Predicting for protein:  IGF2BP1  motif:  RNCMPT00172\n",
      "No model found for protein:  IGF2BP1\n",
      "Predicting for protein:  RBMS1  motif:  RNCMPT00173\n",
      "Using downloaded and verified file: /cellar/users/aklie/.kipoi/models/DeepBind/downloaded/model_files/Homo_sapiens/RBP/D00198.001_RNAcompete_RBMS1/arch/cd9827dc3b36fa123c028ce165e5aa68\n",
      "Using downloaded and verified file: /cellar/users/aklie/.kipoi/models/DeepBind/downloaded/model_files/Homo_sapiens/RBP/D00198.001_RNAcompete_RBMS1/weights/6e12e4fa996093ac9d3f3776665878c6\n"
     ]
    },
    {
     "name": "stderr",
     "output_type": "stream",
     "text": [
      "2022-09-07 17:25:31.554288: W tensorflow/core/util/tensor_slice_reader.cc:95] Could not open /cellar/users/aklie/.kipoi/models/DeepBind/downloaded/model_files/Homo_sapiens/RBP/D00198.001_RNAcompete_RBMS1/weights/6e12e4fa996093ac9d3f3776665878c6: Data loss: not an sstable (bad magic number): perhaps your file is in a different file format and you need to use a different restore operator?\n"
     ]
    },
    {
     "name": "stdout",
     "output_type": "stream",
     "text": [
      "Predicting for protein:  MSI1  motif:  RNCMPT00176\n",
      "Using downloaded and verified file: /cellar/users/aklie/.kipoi/models/DeepBind/downloaded/model_files/Homo_sapiens/RBP/D00123.001_RNAcompete_MSI1/arch/625b2c5ff8c457febe0fc5fecea4ae94\n",
      "Using downloaded and verified file: /cellar/users/aklie/.kipoi/models/DeepBind/downloaded/model_files/Homo_sapiens/RBP/D00123.001_RNAcompete_MSI1/weights/c189b586fe9a9b98192144a86e4f8d6b\n"
     ]
    },
    {
     "name": "stderr",
     "output_type": "stream",
     "text": [
      "2022-09-07 17:25:32.261930: W tensorflow/core/util/tensor_slice_reader.cc:95] Could not open /cellar/users/aklie/.kipoi/models/DeepBind/downloaded/model_files/Homo_sapiens/RBP/D00123.001_RNAcompete_MSI1/weights/c189b586fe9a9b98192144a86e4f8d6b: Data loss: not an sstable (bad magic number): perhaps your file is in a different file format and you need to use a different restore operator?\n"
     ]
    },
    {
     "name": "stdout",
     "output_type": "stream",
     "text": [
      "Predicting for protein:  NONO  motif:  RNCMPT00177\n",
      "No model found for protein:  NONO\n",
      "Predicting for protein:  HNRPLL  motif:  RNCMPT00178\n",
      "Using downloaded and verified file: /cellar/users/aklie/.kipoi/models/DeepBind/downloaded/model_files/Homo_sapiens/RBP/D00216.001_RNAcompete_HNRPLL/arch/0c8a9894d9d67bbb70f0ba7b8addc407\n",
      "Using downloaded and verified file: /cellar/users/aklie/.kipoi/models/DeepBind/downloaded/model_files/Homo_sapiens/RBP/D00216.001_RNAcompete_HNRPLL/weights/f520229401db446bf67f867c86d2963a\n"
     ]
    },
    {
     "name": "stderr",
     "output_type": "stream",
     "text": [
      "2022-09-07 17:25:32.986137: W tensorflow/core/util/tensor_slice_reader.cc:95] Could not open /cellar/users/aklie/.kipoi/models/DeepBind/downloaded/model_files/Homo_sapiens/RBP/D00216.001_RNAcompete_HNRPLL/weights/f520229401db446bf67f867c86d2963a: Data loss: not an sstable (bad magic number): perhaps your file is in a different file format and you need to use a different restore operator?\n"
     ]
    },
    {
     "name": "stdout",
     "output_type": "stream",
     "text": [
      "Predicting for protein:  RBM24  motif:  RNCMPT00179\n",
      "Using downloaded and verified file: /cellar/users/aklie/.kipoi/models/DeepBind/downloaded/model_files/Homo_sapiens/RBP/D00222.001_RNAcompete_RBM24/arch/5e5394c53b55640610645a2fefdf1832\n",
      "Using downloaded and verified file: /cellar/users/aklie/.kipoi/models/DeepBind/downloaded/model_files/Homo_sapiens/RBP/D00222.001_RNAcompete_RBM24/weights/cd7d435659a2c9c49a5e9031557f24dc\n"
     ]
    },
    {
     "name": "stderr",
     "output_type": "stream",
     "text": [
      "2022-09-07 17:25:33.706704: W tensorflow/core/util/tensor_slice_reader.cc:95] Could not open /cellar/users/aklie/.kipoi/models/DeepBind/downloaded/model_files/Homo_sapiens/RBP/D00222.001_RNAcompete_RBM24/weights/cd7d435659a2c9c49a5e9031557f24dc: Data loss: not an sstable (bad magic number): perhaps your file is in a different file format and you need to use a different restore operator?\n"
     ]
    },
    {
     "name": "stdout",
     "output_type": "stream",
     "text": [
      "Predicting for protein:  RBM24  motif:  RNCMPT00184\n",
      "Using downloaded and verified file: /cellar/users/aklie/.kipoi/models/DeepBind/downloaded/model_files/Homo_sapiens/RBP/D00222.001_RNAcompete_RBM24/arch/5e5394c53b55640610645a2fefdf1832\n",
      "Using downloaded and verified file: /cellar/users/aklie/.kipoi/models/DeepBind/downloaded/model_files/Homo_sapiens/RBP/D00222.001_RNAcompete_RBM24/weights/cd7d435659a2c9c49a5e9031557f24dc\n"
     ]
    },
    {
     "name": "stderr",
     "output_type": "stream",
     "text": [
      "2022-09-07 17:25:34.418097: W tensorflow/core/util/tensor_slice_reader.cc:95] Could not open /cellar/users/aklie/.kipoi/models/DeepBind/downloaded/model_files/Homo_sapiens/RBP/D00222.001_RNAcompete_RBM24/weights/cd7d435659a2c9c49a5e9031557f24dc: Data loss: not an sstable (bad magic number): perhaps your file is in a different file format and you need to use a different restore operator?\n"
     ]
    },
    {
     "name": "stdout",
     "output_type": "stream",
     "text": [
      "Predicting for protein:  KHDRBS1  motif:  RNCMPT00185\n",
      "Using downloaded and verified file: /cellar/users/aklie/.kipoi/models/DeepBind/downloaded/model_files/Homo_sapiens/RBP/D00211.001_RNAcompete_KHDRBS1/arch/5252ca72943dd4cc57d822c9ff7a796f\n",
      "Using downloaded and verified file: /cellar/users/aklie/.kipoi/models/DeepBind/downloaded/model_files/Homo_sapiens/RBP/D00211.001_RNAcompete_KHDRBS1/weights/fa3769dd6290c178a424ad3645e2b156\n"
     ]
    },
    {
     "name": "stderr",
     "output_type": "stream",
     "text": [
      "2022-09-07 17:25:35.126731: W tensorflow/core/util/tensor_slice_reader.cc:95] Could not open /cellar/users/aklie/.kipoi/models/DeepBind/downloaded/model_files/Homo_sapiens/RBP/D00211.001_RNAcompete_KHDRBS1/weights/fa3769dd6290c178a424ad3645e2b156: Data loss: not an sstable (bad magic number): perhaps your file is in a different file format and you need to use a different restore operator?\n"
     ]
    },
    {
     "name": "stdout",
     "output_type": "stream",
     "text": [
      "Predicting for protein:  PCBP1  motif:  RNCMPT00186\n",
      "Using downloaded and verified file: /cellar/users/aklie/.kipoi/models/DeepBind/downloaded/model_files/Homo_sapiens/RBP/D00224.001_RNAcompete_PCBP1/arch/825048378a82b893b33ae3cd7351efdc\n",
      "Using downloaded and verified file: /cellar/users/aklie/.kipoi/models/DeepBind/downloaded/model_files/Homo_sapiens/RBP/D00224.001_RNAcompete_PCBP1/weights/d8d37e84d8905f358c5361ac693a5ad4\n"
     ]
    },
    {
     "name": "stderr",
     "output_type": "stream",
     "text": [
      "2022-09-07 17:25:35.852674: W tensorflow/core/util/tensor_slice_reader.cc:95] Could not open /cellar/users/aklie/.kipoi/models/DeepBind/downloaded/model_files/Homo_sapiens/RBP/D00224.001_RNAcompete_PCBP1/weights/d8d37e84d8905f358c5361ac693a5ad4: Data loss: not an sstable (bad magic number): perhaps your file is in a different file format and you need to use a different restore operator?\n"
     ]
    },
    {
     "name": "stdout",
     "output_type": "stream",
     "text": [
      "Predicting for protein:  CELF3  motif:  RNCMPT00187\n",
      "No model found for protein:  CELF3\n",
      "Predicting for protein:  PCBP1  motif:  RNCMPT00215\n",
      "Using downloaded and verified file: /cellar/users/aklie/.kipoi/models/DeepBind/downloaded/model_files/Homo_sapiens/RBP/D00224.001_RNAcompete_PCBP1/arch/825048378a82b893b33ae3cd7351efdc\n",
      "Using downloaded and verified file: /cellar/users/aklie/.kipoi/models/DeepBind/downloaded/model_files/Homo_sapiens/RBP/D00224.001_RNAcompete_PCBP1/weights/d8d37e84d8905f358c5361ac693a5ad4\n"
     ]
    },
    {
     "name": "stderr",
     "output_type": "stream",
     "text": [
      "2022-09-07 17:25:36.568959: W tensorflow/core/util/tensor_slice_reader.cc:95] Could not open /cellar/users/aklie/.kipoi/models/DeepBind/downloaded/model_files/Homo_sapiens/RBP/D00224.001_RNAcompete_PCBP1/weights/d8d37e84d8905f358c5361ac693a5ad4: Data loss: not an sstable (bad magic number): perhaps your file is in a different file format and you need to use a different restore operator?\n"
     ]
    },
    {
     "name": "stdout",
     "output_type": "stream",
     "text": [
      "Predicting for protein:  SF3B4  motif:  RNCMPT00224\n",
      "No model found for protein:  SF3B4\n",
      "Predicting for protein:  SF3B4  motif:  RNCMPT00232\n",
      "No model found for protein:  SF3B4\n",
      "Predicting for protein:  SF3B4  motif:  RNCMPT00237\n",
      "No model found for protein:  SF3B4\n",
      "Predicting for protein:  PCBP1  motif:  RNCMPT00239\n",
      "Using downloaded and verified file: /cellar/users/aklie/.kipoi/models/DeepBind/downloaded/model_files/Homo_sapiens/RBP/D00224.001_RNAcompete_PCBP1/arch/825048378a82b893b33ae3cd7351efdc\n",
      "Using downloaded and verified file: /cellar/users/aklie/.kipoi/models/DeepBind/downloaded/model_files/Homo_sapiens/RBP/D00224.001_RNAcompete_PCBP1/weights/d8d37e84d8905f358c5361ac693a5ad4\n"
     ]
    },
    {
     "name": "stderr",
     "output_type": "stream",
     "text": [
      "2022-09-07 17:25:37.277119: W tensorflow/core/util/tensor_slice_reader.cc:95] Could not open /cellar/users/aklie/.kipoi/models/DeepBind/downloaded/model_files/Homo_sapiens/RBP/D00224.001_RNAcompete_PCBP1/weights/d8d37e84d8905f358c5361ac693a5ad4: Data loss: not an sstable (bad magic number): perhaps your file is in a different file format and you need to use a different restore operator?\n"
     ]
    },
    {
     "name": "stdout",
     "output_type": "stream",
     "text": [
      "Predicting for protein:  RBM45  motif:  RNCMPT00241\n",
      "Using downloaded and verified file: /cellar/users/aklie/.kipoi/models/DeepBind/downloaded/model_files/Homo_sapiens/RBP/D00256.001_RNAcompete_RBM45/arch/04eb396b70189d8c347af7b733a8ba6d\n",
      "Using downloaded and verified file: /cellar/users/aklie/.kipoi/models/DeepBind/downloaded/model_files/Homo_sapiens/RBP/D00256.001_RNAcompete_RBM45/weights/da39849926b3a8f799c44f82ace98b06\n"
     ]
    },
    {
     "name": "stderr",
     "output_type": "stream",
     "text": [
      "2022-09-07 17:25:37.989779: W tensorflow/core/util/tensor_slice_reader.cc:95] Could not open /cellar/users/aklie/.kipoi/models/DeepBind/downloaded/model_files/Homo_sapiens/RBP/D00256.001_RNAcompete_RBM45/weights/da39849926b3a8f799c44f82ace98b06: Data loss: not an sstable (bad magic number): perhaps your file is in a different file format and you need to use a different restore operator?\n"
     ]
    },
    {
     "name": "stdout",
     "output_type": "stream",
     "text": [
      "Predicting for protein:  HNRNPAB  motif:  RNCMPT00245\n",
      "No model found for protein:  HNRNPAB\n",
      "Predicting for protein:  PCBP1  motif:  RNCMPT00246\n",
      "Using downloaded and verified file: /cellar/users/aklie/.kipoi/models/DeepBind/downloaded/model_files/Homo_sapiens/RBP/D00224.001_RNAcompete_PCBP1/arch/825048378a82b893b33ae3cd7351efdc\n",
      "Using downloaded and verified file: /cellar/users/aklie/.kipoi/models/DeepBind/downloaded/model_files/Homo_sapiens/RBP/D00224.001_RNAcompete_PCBP1/weights/d8d37e84d8905f358c5361ac693a5ad4\n"
     ]
    },
    {
     "name": "stderr",
     "output_type": "stream",
     "text": [
      "2022-09-07 17:25:38.701953: W tensorflow/core/util/tensor_slice_reader.cc:95] Could not open /cellar/users/aklie/.kipoi/models/DeepBind/downloaded/model_files/Homo_sapiens/RBP/D00224.001_RNAcompete_PCBP1/weights/d8d37e84d8905f358c5361ac693a5ad4: Data loss: not an sstable (bad magic number): perhaps your file is in a different file format and you need to use a different restore operator?\n"
     ]
    },
    {
     "name": "stdout",
     "output_type": "stream",
     "text": [
      "Predicting for protein:  PTBP1  motif:  RNCMPT00268\n",
      "Using downloaded and verified file: /cellar/users/aklie/.kipoi/models/DeepBind/downloaded/model_files/Homo_sapiens/RBP/D00274.001_RNAcompete_PTBP1/arch/a928dec67ddf99bc307a06202a714bec\n",
      "Using downloaded and verified file: /cellar/users/aklie/.kipoi/models/DeepBind/downloaded/model_files/Homo_sapiens/RBP/D00274.001_RNAcompete_PTBP1/weights/3fed4418137ea50b90ae1ddbd41581c6\n"
     ]
    },
    {
     "name": "stderr",
     "output_type": "stream",
     "text": [
      "2022-09-07 17:25:39.431629: W tensorflow/core/util/tensor_slice_reader.cc:95] Could not open /cellar/users/aklie/.kipoi/models/DeepBind/downloaded/model_files/Homo_sapiens/RBP/D00274.001_RNAcompete_PTBP1/weights/3fed4418137ea50b90ae1ddbd41581c6: Data loss: not an sstable (bad magic number): perhaps your file is in a different file format and you need to use a different restore operator?\n"
     ]
    },
    {
     "name": "stdout",
     "output_type": "stream",
     "text": [
      "Predicting for protein:  PTBP1  motif:  RNCMPT00269\n",
      "Using downloaded and verified file: /cellar/users/aklie/.kipoi/models/DeepBind/downloaded/model_files/Homo_sapiens/RBP/D00274.001_RNAcompete_PTBP1/arch/a928dec67ddf99bc307a06202a714bec\n",
      "Using downloaded and verified file: /cellar/users/aklie/.kipoi/models/DeepBind/downloaded/model_files/Homo_sapiens/RBP/D00274.001_RNAcompete_PTBP1/weights/3fed4418137ea50b90ae1ddbd41581c6\n"
     ]
    },
    {
     "name": "stderr",
     "output_type": "stream",
     "text": [
      "2022-09-07 17:25:40.166258: W tensorflow/core/util/tensor_slice_reader.cc:95] Could not open /cellar/users/aklie/.kipoi/models/DeepBind/downloaded/model_files/Homo_sapiens/RBP/D00274.001_RNAcompete_PTBP1/weights/3fed4418137ea50b90ae1ddbd41581c6: Data loss: not an sstable (bad magic number): perhaps your file is in a different file format and you need to use a different restore operator?\n"
     ]
    },
    {
     "name": "stdout",
     "output_type": "stream",
     "text": [
      "Predicting for protein:  EIF2S1  motif:  RNCMPT00273\n",
      "No model found for protein:  EIF2S1\n"
     ]
    }
   ],
   "source": [
    "# Get predictions with each model and store them in sdata\n",
    "target_cols_w_model = []\n",
    "for i, (protein_id , motif_id) in tqdm(enumerate(zip(ids_w_target_cols, target_cols_w_ids)), desc=\"Importing models\", total=len(ids_w_target_cols)):\n",
    "    print(\"Predicting for protein: \", protein_id, \" motif: \", motif_id)\n",
    "    db_model_name = db_model_names[db_model_names.str.contains(protein_id)]\n",
    "    if len(db_model_name) == 0:\n",
    "        print(\"No model found for protein: \", protein_id)\n",
    "        continue\n",
    "    try:\n",
    "        model = eu.external.kipoi.get_model(db_model_name.values[0])\n",
    "        sdata_test[f\"{motif_id}_predictions_kipoi\"] = model(sdata_test.ohe_seqs).cpu().numpy()\n",
    "        target_cols_w_model.append(motif_id)\n",
    "    except:\n",
    "        print(\"Failed to load model\")\n",
    "    if len(target_cols_w_model) == 200:\n",
    "        break"
   ]
  },
  {
   "cell_type": "code",
   "execution_count": 29,
   "id": "622b2e55-e2d1-4aa3-9cc0-238af29dfe50",
   "metadata": {
    "execution": {
     "iopub.execute_input": "2022-09-06T16:07:41.886495Z",
     "iopub.status.busy": "2022-09-06T16:07:41.886326Z",
     "iopub.status.idle": "2022-09-06T16:07:46.693544Z",
     "shell.execute_reply": "2022-09-06T16:07:46.692891Z",
     "shell.execute_reply.started": "2022-09-06T16:07:41.886479Z"
    },
    "tags": [],
    "vscode": {
     "languageId": "python"
    }
   },
   "outputs": [],
   "source": [
    "# Save the sdata with kipoi predictions\n",
    "sdata_test.write_h5sd(os.path.join(eu.settings.output_dir, \"norm_test_predictions.h5sd\"))"
   ]
  },
  {
   "cell_type": "code",
   "execution_count": 22,
   "id": "fc2c179d-fa9a-48d5-b2ca-8a274dd756bb",
   "metadata": {
    "execution": {
     "iopub.execute_input": "2022-09-08T00:29:23.683862Z",
     "iopub.status.busy": "2022-09-08T00:29:23.683097Z",
     "iopub.status.idle": "2022-09-08T00:29:25.442725Z",
     "shell.execute_reply": "2022-09-08T00:29:25.442132Z",
     "shell.execute_reply.started": "2022-09-08T00:29:23.683842Z"
    },
    "tags": []
   },
   "outputs": [
    {
     "data": {
      "text/plain": [
       "'RNCMPT00067'"
      ]
     },
     "execution_count": 22,
     "metadata": {},
     "output_type": "execute_result"
    }
   ],
   "source": [
    "target_cols_w_model[32]"
   ]
  },
  {
   "cell_type": "code",
   "execution_count": 24,
   "id": "d149646a-073e-4051-9cff-66d9396e320b",
   "metadata": {
    "execution": {
     "iopub.execute_input": "2022-09-08T00:30:02.514605Z",
     "iopub.status.busy": "2022-09-08T00:30:02.514310Z",
     "iopub.status.idle": "2022-09-08T00:30:05.571845Z",
     "shell.execute_reply": "2022-09-08T00:30:05.571201Z",
     "shell.execute_reply.started": "2022-09-08T00:30:02.514584Z"
    },
    "tags": []
   },
   "outputs": [
    {
     "data": {
      "application/vnd.jupyter.widget-view+json": {
       "model_id": "c848d0f0ea784eae90b95042bb292294",
       "version_major": 2,
       "version_minor": 0
      },
      "text/plain": [
       "  0%|          | 0/10 [00:00<?, ?it/s]"
      ]
     },
     "metadata": {},
     "output_type": "display_data"
    },
    {
     "data": {
      "application/vnd.jupyter.widget-view+json": {
       "model_id": "7b7e64a1e0c64a7abbc96a48160d29e4",
       "version_major": 2,
       "version_minor": 0
      },
      "text/plain": [
       "  0%|          | 0/10 [00:00<?, ?it/s]"
      ]
     },
     "metadata": {},
     "output_type": "display_data"
    },
    {
     "name": "stdout",
     "output_type": "stream",
     "text": [
      "[-1.73095739 -0.22941868  0.84253788 -0.99444321 -0.72853675  0.91244288\n",
      "  1.46666913 -0.34362785  0.78709417  0.01823982] [nan nan nan nan nan nan nan nan nan nan]\n"
     ]
    },
    {
     "ename": "ValueError",
     "evalue": "x and y must have length at least 2.",
     "output_type": "error",
     "traceback": [
      "\u001b[0;31m---------------------------------------------------------------------------\u001b[0m",
      "\u001b[0;31mValueError\u001b[0m                                Traceback (most recent call last)",
      "\u001b[0;32m/tmp/ipykernel_603918/2396396417.py\u001b[0m in \u001b[0;36m<module>\u001b[0;34m\u001b[0m\n\u001b[0;32m----> 1\u001b[0;31m \u001b[0meu\u001b[0m\u001b[0;34m.\u001b[0m\u001b[0mpredict\u001b[0m\u001b[0;34m.\u001b[0m\u001b[0mrnacomplete_metrics_sdata_plot\u001b[0m\u001b[0;34m(\u001b[0m\u001b[0msdata_test\u001b[0m\u001b[0;34m,\u001b[0m \u001b[0mb_presence_absence\u001b[0m\u001b[0;34m[\u001b[0m\u001b[0;34m:\u001b[0m\u001b[0;36m10\u001b[0m\u001b[0;34m,\u001b[0m \u001b[0;34m:\u001b[0m\u001b[0;34m]\u001b[0m\u001b[0;34m,\u001b[0m \u001b[0mtarget_cols_w_model\u001b[0m\u001b[0;34m[\u001b[0m\u001b[0;36m32\u001b[0m\u001b[0;34m]\u001b[0m\u001b[0;34m,\u001b[0m \u001b[0mverbose\u001b[0m\u001b[0;34m=\u001b[0m\u001b[0;32mTrue\u001b[0m\u001b[0;34m,\u001b[0m \u001b[0mpreds_suffix\u001b[0m\u001b[0;34m=\u001b[0m\u001b[0;34m\"_predictions_kipoi\"\u001b[0m\u001b[0;34m)\u001b[0m\u001b[0;34m\u001b[0m\u001b[0;34m\u001b[0m\u001b[0m\n\u001b[0m",
      "\u001b[0;32m/mnt/beegfs/users/aklie/projects/EUGENe/eugene/predict/_metrics.py\u001b[0m in \u001b[0;36mrnacomplete_metrics_sdata_plot\u001b[0;34m(sdata, kmer_presence_mtx, target_key, return_cors, verbose, preds_suffix, **kwargs)\u001b[0m\n\u001b[1;32m    162\u001b[0m     \u001b[0mpreds_zscores\u001b[0m \u001b[0;34m=\u001b[0m \u001b[0mpreds_zscores\u001b[0m\u001b[0;34m[\u001b[0m\u001b[0;34m~\u001b[0m\u001b[0mzscore_nan_mask\u001b[0m\u001b[0;34m]\u001b[0m\u001b[0;34m\u001b[0m\u001b[0;34m\u001b[0m\u001b[0m\n\u001b[1;32m    163\u001b[0m     \u001b[0mobserved_zscores\u001b[0m \u001b[0;34m=\u001b[0m \u001b[0mobserved_zscores\u001b[0m\u001b[0;34m[\u001b[0m\u001b[0;34m~\u001b[0m\u001b[0mzscore_nan_mask\u001b[0m\u001b[0;34m]\u001b[0m\u001b[0;34m\u001b[0m\u001b[0;34m\u001b[0m\u001b[0m\n\u001b[0;32m--> 164\u001b[0;31m     \u001b[0mzscore_pearson\u001b[0m \u001b[0;34m=\u001b[0m \u001b[0mpearsonr\u001b[0m\u001b[0;34m(\u001b[0m\u001b[0mpreds_zscores\u001b[0m\u001b[0;34m,\u001b[0m \u001b[0mobserved_zscores\u001b[0m\u001b[0;34m)\u001b[0m\u001b[0;34m[\u001b[0m\u001b[0;36m0\u001b[0m\u001b[0;34m]\u001b[0m\u001b[0;34m\u001b[0m\u001b[0;34m\u001b[0m\u001b[0m\n\u001b[0m\u001b[1;32m    165\u001b[0m     \u001b[0mzscore_spearman\u001b[0m \u001b[0;34m=\u001b[0m \u001b[0mspearmanr\u001b[0m\u001b[0;34m(\u001b[0m\u001b[0mpreds_zscores\u001b[0m\u001b[0;34m,\u001b[0m \u001b[0mobserved_zscores\u001b[0m\u001b[0;34m)\u001b[0m\u001b[0;34m.\u001b[0m\u001b[0mcorrelation\u001b[0m\u001b[0;34m\u001b[0m\u001b[0;34m\u001b[0m\u001b[0m\n\u001b[1;32m    166\u001b[0m \u001b[0;34m\u001b[0m\u001b[0m\n",
      "\u001b[0;32m~/opt/miniconda3/envs/eugene_dev/lib/python3.7/site-packages/scipy/stats/stats.py\u001b[0m in \u001b[0;36mpearsonr\u001b[0;34m(x, y)\u001b[0m\n\u001b[1;32m   4014\u001b[0m \u001b[0;34m\u001b[0m\u001b[0m\n\u001b[1;32m   4015\u001b[0m     \u001b[0;32mif\u001b[0m \u001b[0mn\u001b[0m \u001b[0;34m<\u001b[0m \u001b[0;36m2\u001b[0m\u001b[0;34m:\u001b[0m\u001b[0;34m\u001b[0m\u001b[0;34m\u001b[0m\u001b[0m\n\u001b[0;32m-> 4016\u001b[0;31m         \u001b[0;32mraise\u001b[0m \u001b[0mValueError\u001b[0m\u001b[0;34m(\u001b[0m\u001b[0;34m'x and y must have length at least 2.'\u001b[0m\u001b[0;34m)\u001b[0m\u001b[0;34m\u001b[0m\u001b[0;34m\u001b[0m\u001b[0m\n\u001b[0m\u001b[1;32m   4017\u001b[0m \u001b[0;34m\u001b[0m\u001b[0m\n\u001b[1;32m   4018\u001b[0m     \u001b[0mx\u001b[0m \u001b[0;34m=\u001b[0m \u001b[0mnp\u001b[0m\u001b[0;34m.\u001b[0m\u001b[0masarray\u001b[0m\u001b[0;34m(\u001b[0m\u001b[0mx\u001b[0m\u001b[0;34m)\u001b[0m\u001b[0;34m\u001b[0m\u001b[0;34m\u001b[0m\u001b[0m\n",
      "\u001b[0;31mValueError\u001b[0m: x and y must have length at least 2."
     ]
    }
   ],
   "source": [
    "eu.predict.rnacomplete_metrics_sdata_plot(sdata_test, b_presence_absence[:10, :], target_cols_w_model[32], verbose=True, preds_suffix=\"_predictions_kipoi\")"
   ]
  },
  {
   "cell_type": "code",
   "execution_count": 34,
   "id": "261d8c5d-4e94-4001-a590-15afdd5b43a9",
   "metadata": {
    "execution": {
     "iopub.execute_input": "2022-09-08T00:32:56.335219Z",
     "iopub.status.busy": "2022-09-08T00:32:56.334971Z",
     "iopub.status.idle": "2022-09-08T00:32:58.321514Z",
     "shell.execute_reply": "2022-09-08T00:32:58.320973Z",
     "shell.execute_reply.started": "2022-09-08T00:32:56.335192Z"
    },
    "tags": []
   },
   "outputs": [
    {
     "data": {
      "application/vnd.jupyter.widget-view+json": {
       "model_id": "4a819cbd22ce47a7ab325d63ef69e73c",
       "version_major": 2,
       "version_minor": 0
      },
      "text/plain": [
       "  0%|          | 0/10 [00:00<?, ?it/s]"
      ]
     },
     "metadata": {},
     "output_type": "display_data"
    }
   ],
   "source": [
    "observed_zscores, observed_aucs, observed_escores = eu.predict.rnacomplete_metrics(\n",
    "        b_presence_absence[:10],\n",
    "        sdata_test[f\"{target_cols_w_model[32]}_predictions_kipoi\"].values,\n",
    "        verbose=True,\n",
    "    )"
   ]
  },
  {
   "cell_type": "code",
   "execution_count": 42,
   "id": "349c1627-f289-421d-a41c-509123f0118d",
   "metadata": {
    "execution": {
     "iopub.execute_input": "2022-09-08T00:34:38.334909Z",
     "iopub.status.busy": "2022-09-08T00:34:38.334421Z",
     "iopub.status.idle": "2022-09-08T00:34:40.052321Z",
     "shell.execute_reply": "2022-09-08T00:34:40.051898Z",
     "shell.execute_reply.started": "2022-09-08T00:34:38.334884Z"
    },
    "tags": []
   },
   "outputs": [
    {
     "data": {
      "text/plain": [
       "(10, 121031)"
      ]
     },
     "execution_count": 42,
     "metadata": {},
     "output_type": "execute_result"
    }
   ],
   "source": [
    "b_presence_absence[:10, ].shape"
   ]
  },
  {
   "cell_type": "code",
   "execution_count": 44,
   "id": "fdfd6315-f8cd-4af5-9efe-fd44c58f09e7",
   "metadata": {
    "execution": {
     "iopub.execute_input": "2022-09-08T00:35:03.862667Z",
     "iopub.status.busy": "2022-09-08T00:35:03.862009Z",
     "iopub.status.idle": "2022-09-08T00:35:05.677685Z",
     "shell.execute_reply": "2022-09-08T00:35:05.677242Z",
     "shell.execute_reply.started": "2022-09-08T00:35:03.862645Z"
    },
    "tags": []
   },
   "outputs": [
    {
     "data": {
      "text/plain": [
       "0.0153953135"
      ]
     },
     "execution_count": 44,
     "metadata": {},
     "output_type": "execute_result"
    }
   ],
   "source": [
    "eu.predict.median_calc(b_presence_absence[0, :], sdata_test[f\"{target_cols_w_model[32]}_predictions_kipoi\"].values)"
   ]
  },
  {
   "cell_type": "code",
   "execution_count": 45,
   "id": "b7ab3607-d989-406b-8e2c-f0f92f310c10",
   "metadata": {
    "execution": {
     "iopub.execute_input": "2022-09-08T00:35:09.421600Z",
     "iopub.status.busy": "2022-09-08T00:35:09.420962Z",
     "iopub.status.idle": "2022-09-08T00:35:11.482461Z",
     "shell.execute_reply": "2022-09-08T00:35:11.482024Z",
     "shell.execute_reply.started": "2022-09-08T00:35:09.421580Z"
    }
   },
   "outputs": [
    {
     "data": {
      "text/plain": [
       "0.0153953135"
      ]
     },
     "execution_count": 45,
     "metadata": {},
     "output_type": "execute_result"
    }
   ],
   "source": [
    "eu.predict.median_calc(b_presence_absence[1, :], sdata_test[f\"{target_cols_w_model[32]}_predictions_kipoi\"].values)"
   ]
  },
  {
   "cell_type": "code",
   "execution_count": 46,
   "id": "1c38bcd9-5de0-4a10-a048-b01ed366990e",
   "metadata": {
    "execution": {
     "iopub.execute_input": "2022-09-08T00:35:20.334747Z",
     "iopub.status.busy": "2022-09-08T00:35:20.334211Z",
     "iopub.status.idle": "2022-09-08T00:35:22.396514Z",
     "shell.execute_reply": "2022-09-08T00:35:22.396048Z",
     "shell.execute_reply.started": "2022-09-08T00:35:20.334725Z"
    },
    "tags": []
   },
   "outputs": [
    {
     "data": {
      "text/plain": [
       "RBD_v3_120327    0.479897\n",
       "RBD_v3_120328    0.015395\n",
       "RBD_v3_120329    0.015395\n",
       "RBD_v3_120330    0.015395\n",
       "RBD_v3_120331    0.015395\n",
       "                   ...   \n",
       "RBD_v3_241353    0.015395\n",
       "RBD_v3_241354    0.015395\n",
       "RBD_v3_241355    0.015395\n",
       "RBD_v3_241356    0.015395\n",
       "RBD_v3_241357    0.015395\n",
       "Name: RNCMPT00067_predictions_kipoi, Length: 121031, dtype: float32"
      ]
     },
     "execution_count": 46,
     "metadata": {},
     "output_type": "execute_result"
    }
   ],
   "source": [
    "sdata_test[f\"{target_cols_w_model[32]}_predictions_kipoi\"]"
   ]
  },
  {
   "cell_type": "code",
   "execution_count": 49,
   "id": "e4af70cb-2f80-4d12-95dd-3a579f7b5d56",
   "metadata": {
    "execution": {
     "iopub.execute_input": "2022-09-08T00:37:56.535092Z",
     "iopub.status.busy": "2022-09-08T00:37:56.534609Z",
     "iopub.status.idle": "2022-09-08T00:38:47.394429Z",
     "shell.execute_reply": "2022-09-08T00:38:47.393838Z",
     "shell.execute_reply.started": "2022-09-08T00:37:56.535069Z"
    },
    "tags": [],
    "vscode": {
     "languageId": "python"
    }
   },
   "outputs": [
    {
     "data": {
      "application/vnd.jupyter.widget-view+json": {
       "model_id": "efc1c0127b8247a5bed6ddbae94afab7",
       "version_major": 2,
       "version_minor": 0
      },
      "text/plain": [
       "Evaluating probes:   0%|          | 0/89 [00:00<?, ?it/s]"
      ]
     },
     "metadata": {},
     "output_type": "display_data"
    },
    {
     "name": "stdout",
     "output_type": "stream",
     "text": [
      "[ 1.71736267 -0.23371314 -0.08938564 -0.60749944 -0.78676443] [ 1.78216745 -0.52248655 -0.32209777 -0.40711122 -0.53047191]\n",
      "[-1.56080523 -0.06866738  0.91892927  0.83605484 -0.12551149] [-1.56443995 -0.12805677  1.16499656  0.12271122  0.40478894]\n",
      "[ 0.95277485 -0.53623944 -0.94474474 -0.6773363   1.20554563] [ 1.45853818  0.37507578  0.02714841 -0.93420055 -0.92656183]\n",
      "[-0.83944646  0.68873242  1.28141607 -0.04587696 -1.08482508] [-1.32698207  0.68350411  1.09956045  0.25096915 -0.70705164]\n",
      "[ 1.5856315  -0.6252221  -0.74979089 -0.61053376  0.39991525] [ 1.50221207 -0.38530225 -0.73050686 -0.89555723  0.50915426]\n",
      "[ 1.54897708 -0.48249085 -0.09492655 -1.15169929  0.18013962] [ 1.20263064 -0.68294055  0.78654531 -1.20786663 -0.09836877]\n",
      "[ 0.88240204 -1.46323839  0.17180587  0.89990356 -0.49087308] [ 0.05687799 -1.2412467   1.1674195  -0.73080193  0.74775114]\n",
      "[ 1.19464584 -0.52267725 -0.45822231 -1.1234405   0.90969422] [ 1.19457799 -1.19788699  0.35366075 -0.86495884  0.51460709]\n",
      "[ 1.00604062 -0.45659232 -1.35798547 -0.1472815   0.95581868] [ 1.14256917 -0.56720681 -1.02645754 -0.55466187  1.00575705]\n",
      "[ 1.00397414 -0.42717143 -1.43530699 -0.00717628  0.86568056] [ 1.14256917 -0.56720681 -1.02645754 -0.55466187  1.00575705]\n",
      "[ 1.10918525 -0.30103766 -1.07888804 -0.72440731  0.99514775] [ 1.14256917 -0.56720681 -1.02645754 -0.55466187  1.00575705]\n",
      "[-1.12977996  0.87364571  1.03251691  0.15626446 -0.93264713] [-0.96802346  1.08019999  0.58023059  0.46611325 -1.15852037]\n",
      "[-0.43662718  0.4755159   1.38656768 -0.14496573 -1.28049066] [-0.3732267   0.93465887  0.71882403  0.26840882 -1.54866502]\n",
      "[ 1.01269818  1.10942058 -0.34420443 -0.73952159 -1.03839274] [ 1.35385902  0.70185751 -0.35217334 -0.62882987 -1.07471332]\n",
      "[ 1.71884317 -0.64351314 -0.10157518 -0.21572042 -0.75803442] [ 1.65737544 -0.18726303 -0.11891134 -0.29413814 -1.05706294]\n",
      "[ 0.47857001 -0.65912998 -1.37361577  0.42926104  1.1249147 ] [ 0.98158535 -0.60916458 -1.33551415  0.0243617   0.93873168]\n",
      "[-1.44546123 -0.14515283 -0.21124936  1.23379077  0.56807265] [-1.30617848 -0.10432325 -0.5320849   1.20907332  0.73351332]\n",
      "[-0.51765998 -1.10149147 -0.4041034   0.61877565  1.4044792 ] [-0.34913344 -1.04404892  0.76772712  1.31349373 -0.6880385 ]\n",
      "[ 1.56751782  0.32645686 -0.7917783  -0.86888939 -0.23330699] [ 1.72459048 -0.01592494 -0.64879868 -0.67645217 -0.38341469]\n",
      "[ 1.68716903 -0.15173515 -0.34496624 -0.20611378 -0.98435386] [ 1.75902191 -0.40424968 -0.17314011 -0.67543102 -0.5062011 ]\n",
      "[-0.2696814   0.47513302  1.26769089 -0.02614677 -1.44699575] [-0.38690805  0.51082954  1.27501799  0.00237376 -1.40131325]\n",
      "[-1.47089778 -0.29224295  0.70407516  1.11882134 -0.05975578] [-1.48404574 -0.10784189  0.94505817  0.90807243 -0.26124296]\n",
      "[ 1.27393625  0.02134208 -1.52819469  0.0324138   0.20050256] [ 0.06089632  0.65000888  0.55492441  0.47719255 -1.74302216]\n",
      "[-0.3990661  -0.47589638 -1.12917312  0.59527717  1.40885842] [-0.13531876 -0.64268732 -1.23873757  0.99188601  1.02485765]\n",
      "[ 0.15443796  0.4166095  -1.74708201  0.4166095   0.75942504] [-0.58455607 -0.46459024 -0.37606085 -0.35637272  1.78157987]\n",
      "[-0.89144014  1.31286115  0.35151056  0.34135932 -1.1142909 ] [-0.93201584  1.15257371  0.59940886  0.33414587 -1.1541126 ]\n",
      "[ 1.49014731 -0.38291739  0.41385158 -0.37020907 -1.15087244] [ 1.59588472 -0.35356541  0.2476043  -0.4648731  -1.02505052]\n",
      "[ 0.4800022  -0.25841141 -1.06436757 -0.63094396  1.47372074] [ 0.42472778 -0.55008136 -0.70632582 -0.74007451  1.57175392]\n",
      "[-1.19263936 -0.22459194  0.93727672  1.11562104 -0.63566646] [-1.42113459 -0.54864093  0.64943714  1.09946083  0.22087754]\n",
      "[ 0.69167278  1.03076207  0.35634392 -0.74657824 -1.33220053] [ 1.01026777  0.75639017  0.33979684 -0.86192241 -1.24453236]\n",
      "[-0.59157874 -0.85980043 -0.56513951  0.47995006  1.53656861] [-1.45729642 -0.24076023  0.48178465 -0.04245851  1.25873051]\n",
      "[ 1.44938642 -0.63984514  0.57522812 -1.0087679  -0.3760015 ] [ 1.68382656 -0.11450687 -0.05479262 -0.78657146 -0.72795562]\n",
      "[ 0.97108767  0.04408227  0.98284701 -0.78334512 -1.21467183] [nan nan nan nan nan]\n",
      "[-1.08991029 -0.3591518  -0.55630458  1.42864285  0.57672381] [-0.25523035 -0.65879104 -1.12376629  0.73454207  1.30324561]\n",
      "[-0.43828472  1.73828383 -0.5328645  -0.06101226 -0.70612235] [-0.14998364  1.72956686 -0.32481107 -0.41131366 -0.84345849]\n",
      "[-0.16330174 -1.13003563 -0.34436119  0.03248453  1.60521405] [ 0.67472935 -1.26404508 -0.60283017 -0.06457832  1.25672422]\n",
      "[ 0.55581806  0.66032202  0.90714541 -1.35993597 -0.76334952] [-0.14259209  0.43344069  1.3558169  -1.37005186 -0.27661363]\n",
      "[ 0.9048942  -0.31976235  1.0947036  -0.35534627 -1.32448918] [nan nan nan nan nan]\n",
      "[-0.1956491  -1.11905893  0.11681062 -0.39561269  1.5935101 ] [ 0.18596082 -0.86893082 -0.26782841 -0.68361695  1.63441537]\n",
      "[ 0.57527322 -0.57082664 -1.47606739  0.53380937  0.93781144] [ 0.56065362 -0.4753979  -1.32414411 -0.06571438  1.30460276]\n",
      "[-1.63618107  1.01217026  0.38030642 -0.12724013  0.37094453] [-1.66229233  0.77378832  0.74583088  0.26053798 -0.11786485]\n",
      "[-0.95858218  1.29271027  0.52916918 -1.04701814  0.18372087] [-1.66229233  0.77378832  0.74583088  0.26053798 -0.11786485]\n",
      "[ 0.96385397 -1.58357634  0.677487   -0.25539332  0.1976287 ] [ 1.23140604 -1.3112474   0.48587705  0.26908408 -0.67511976]\n",
      "[ 1.5443064  -0.62927917 -1.09594673  0.11927214  0.06164736] [ 1.68860654 -0.62541773 -0.68322576 -0.52049416  0.14053112]\n",
      "[ 0.98330349  1.16625858 -0.74728623 -0.44488638 -0.95738946] [ 1.35385902  0.70185751 -0.35217334 -0.62882987 -1.07471332]\n",
      "[ 1.38218984 -0.16331184 -0.343938   -1.32116314  0.44622314] [nan nan nan nan nan]\n",
      "[ 1.62384213 -0.15960838 -0.78892138 -0.83123575  0.15592338] [nan nan nan nan nan]\n",
      "[ 0.88045784 -0.44781325 -0.16584377 -1.35019164  1.08339082] [nan nan nan nan nan]\n",
      "[ 1.09997107  0.28495072  0.44201829 -1.56332831 -0.26361176] [nan nan nan nan nan]\n",
      "[ 1.41657698  0.17722859  0.26105218 -0.63289299 -1.22196477] [nan nan nan nan nan]\n",
      "[ 1.54504916 -0.47214674  0.05187655 -1.17665551  0.05187655] [ 0.06089632  0.65000888  0.55492441  0.47719255 -1.74302216]\n",
      "[-0.68491201 -0.61392719  0.10397023 -0.50468239  1.69955136] [ 0.05687799 -1.2412467   1.1674195  -0.73080193  0.74775114]\n",
      "[-1.09173398 -0.18442724 -0.18442724 -0.18442724  1.64501571] [-1.32698207  0.68350411  1.09956045  0.25096915 -0.70705164]\n",
      "[-0.62057274  0.93056954  1.15625076 -0.32259179 -1.14365577] [-0.25523035 -0.65879104 -1.12376629  0.73454207  1.30324561]\n",
      "[ 0.08811638  1.57719468 -1.10408556 -0.02743247 -0.53379303] [-0.14998364  1.72956686 -0.32481107 -0.41131366 -0.84345849]\n",
      "[-0.46476126  0.9297479  -1.03884421 -0.62841604  1.2022736 ] [-1.47123059  0.12414795  0.67971221  1.08713312 -0.41976269]\n",
      "[-0.4084662   0.52668681  1.4990936  -0.82629378 -0.79102043] [-0.61421328  0.78407876  1.33817642 -0.553832   -0.9542099 ]\n",
      "[-1.2248206  -0.25908433 -0.41040639  1.43194876  0.46236257] [-1.47123059  0.12414795  0.67971221  1.08713312 -0.41976269]\n",
      "[ 0.481963    0.94909659  0.72274081 -0.96477305 -1.18902734] [ 1.01026777  0.75639017  0.33979684 -0.86192241 -1.24453236]\n",
      "[ 0.17870426  0.41111533  1.35608783 -0.79020125 -1.15570617] [ 1.75902191 -0.40424968 -0.17314011 -0.67543102 -0.5062011 ]\n",
      "[ 0.57466383  0.22120029  1.11443582 -0.42872723 -1.48157271] [ 0.42472778 -0.55008136 -0.70632582 -0.74007451  1.57175392]\n",
      "[ 1.48618361 -0.28046658  0.43774175 -1.11370591 -0.52975287] [ 1.75902191 -0.40424968 -0.17314011 -0.67543102 -0.5062011 ]\n",
      "[ 0.26967358 -1.74184345  0.17026389  0.74257219  0.55933379] [ 1.45853818  0.37507578  0.02714841 -0.93420055 -0.92656183]\n",
      "[ 1.15657836 -0.08929334  0.84938803 -0.73916148 -1.17751156] [ 1.29235518  0.05156623  0.59443225 -0.75100044 -1.18735322]\n",
      "[-0.7271131  -0.23355445 -0.09060336 -0.66934669  1.72061759] [-1.32698207  0.68350411  1.09956045  0.25096915 -0.70705164]\n",
      "[-0.62592944 -0.02924567 -0.55329153 -0.52957216  1.73803879] [-0.96802346  1.08019999  0.58023059  0.46611325 -1.15852037]\n",
      "[ 1.08972608 -0.87812591  0.6261388  -1.22461103  0.38687205] [ 1.19457799 -1.19788699  0.35366075 -0.86495884  0.51460709]\n",
      "[ 1.16595893 -0.86872686 -0.85496447 -0.42801303  0.98574542] [ 0.98158535 -0.60916458 -1.33551415  0.0243617   0.93873168]\n",
      "[ 1.55079036 -0.8617927  -0.89687094  0.21878321 -0.01090993] [nan nan nan nan nan]\n",
      "[-1.12097436 -0.31574126 -0.65338409  0.917467    1.17263271] [-1.04122319 -0.4859959  -0.61313781  0.98905982  1.15129708]\n",
      "[ 0.73853659  1.38166481 -0.85745418 -0.55052462 -0.71222259] [ 0.56065362 -0.4753979  -1.32414411 -0.06571438  1.30460276]\n",
      "[-1.15786694  1.01155628  1.08686396 -0.54934788 -0.39120542] [-0.96802346  1.08019999  0.58023059  0.46611325 -1.15852037]\n",
      "[-0.1339179  -1.4642084   1.32834633 -0.00161122  0.27139119] [ 0.05687799 -1.2412467   1.1674195  -0.73080193  0.74775114]\n",
      "[ 1.58990671 -0.05002311  0.07807025 -0.53084742 -1.08710643] [ 1.65737544 -0.18726303 -0.11891134 -0.29413814 -1.05706294]\n",
      "[-1.63527395  0.78872529 -0.16926887  0.79004076  0.22577677] [-1.52777699  0.43245839  1.06083787  0.43730331 -0.40282257]\n",
      "[ 1.70505888 -0.33867331 -0.22553194 -0.19864971 -0.94220392] [ 1.55064589 -0.09855467 -0.12523472 -0.0761351  -1.2507214 ]\n",
      "[ 1.60162417  0.28651932 -0.94206916 -0.379005   -0.56706933] [ 1.01026777  0.75639017  0.33979684 -0.86192241 -1.24453236]\n",
      "[ 0.85955606 -0.32335737 -1.51320806  0.04718216  0.9298272 ] [ 1.72459048 -0.01592494 -0.64879868 -0.67645217 -0.38341469]\n",
      "[ 0.52852009  1.40330974 -0.11878483 -0.6900596  -1.12298539] [ 0.47445878  1.16577794  0.4233643  -0.80008003 -1.26352099]\n",
      "[-0.37717543 -0.87334097 -0.4351566  -0.01882069  1.7044937 ] [-0.58455607 -0.46459024 -0.37606085 -0.35637272  1.78157987]\n",
      "[-0.59337052 -0.89591407 -0.228871    0.04764753  1.67050806] [-0.58455607 -0.46459024 -0.37606085 -0.35637272  1.78157987]\n",
      "[ 1.78317048 -0.4321561  -0.57535144 -0.4168862  -0.35877674] [ 1.65737544 -0.18726303 -0.11891134 -0.29413814 -1.05706294]\n",
      "[-0.67581164  0.83112543  1.27143264 -0.38309644 -1.04364999] [-0.38690805  0.51082954  1.27501799  0.00237376 -1.40131325]\n",
      "[-0.67953648  1.01960902  0.92197494  0.02174264 -1.28379012] [-0.38690805  0.51082954  1.27501799  0.00237376 -1.40131325]\n",
      "[-0.65825631  0.47041195  1.22418803  0.29107806 -1.32742173] [-0.38690805  0.51082954  1.27501799  0.00237376 -1.40131325]\n",
      "[-0.21330812 -0.14300516  1.64764104 -1.08473363 -0.20659412] [-0.25881877 -0.28754047  1.76146822 -0.67581174 -0.53929724]\n",
      "[-0.71191397  0.72903618  0.85217404  0.52910656 -1.3984028 ] [-0.38690805  0.51082954  1.27501799  0.00237376 -1.40131325]\n",
      "[-1.43422006 -0.0803086  -0.24417425  1.28581445  0.47288846] [-1.223402   -0.22756878  0.08475693  1.55231522 -0.18610136]\n",
      "[-1.41045006 -0.26003198  0.21764495  1.37459941  0.07823767] [-1.223402   -0.22756878  0.08475693  1.55231522 -0.18610136]\n"
     ]
    }
   ],
   "source": [
    "# Evaluate the predictions using the RNAcompete metrics\n",
    "pearson_kipoi_df, spearman_kipoi_df = eu.predict.rnacomplete_metrics_sdata_table(sdata_test, b_presence_absence, target_cols_w_model, verbose=False, num_kmers=5, preds_suffix=\"_predictions_kipoi\")\n",
    "pearson_kipoi_long = pearson_kipoi_df.reset_index().melt(id_vars=\"index\", value_name=\"Pearson\", var_name=\"Metric\").rename({\"index\":\"RBP\"}, axis=1)\n",
    "spearman_kipoi_long = spearman_kipoi_df.reset_index().melt(id_vars=\"index\", value_name=\"Spearman\", var_name=\"Metric\").rename({\"index\":\"RBP\"}, axis=1)\n",
    "pearson_kipoi_long[\"Model\"] = \"Kipoi\"\n",
    "spearman_kipoi_long[\"Model\"] = \"Kipoi\""
   ]
  },
  {
   "cell_type": "code",
   "execution_count": 50,
   "id": "d00328da-dce8-447e-8b9d-5ac8d55d4584",
   "metadata": {
    "execution": {
     "iopub.execute_input": "2022-09-08T00:39:04.161895Z",
     "iopub.status.busy": "2022-09-08T00:39:04.161652Z",
     "iopub.status.idle": "2022-09-08T00:39:07.400136Z",
     "shell.execute_reply": "2022-09-08T00:39:07.399707Z",
     "shell.execute_reply.started": "2022-09-08T00:39:04.161878Z"
    },
    "tags": [],
    "vscode": {
     "languageId": "python"
    }
   },
   "outputs": [
    {
     "data": {
      "image/png": "[encoded data removed]",
      "text/plain": [
       "<Figure size 576x288 with 2 Axes>"
      ]
     },
     "metadata": {
      "needs_background": "light"
     },
     "output_type": "display_data"
    }
   ],
   "source": [
    "# Plot just the kipoi results as boxplots\n",
    "fig, ax = plt.subplots(1, 2, figsize=(8, 4))\n",
    "sns.boxplot(data=pearson_kipoi_long, x=\"Metric\", y=\"Pearson\", color=\"orange\", ax=ax[0])\n",
    "sns.boxplot(data=spearman_kipoi_long, x=\"Metric\", y=\"Spearman\", color=\"orange\", ax=ax[1])\n",
    "plt.tight_layout()\n",
    "plt.savefig(os.path.join(figure_dir, \"correlation_boxplots_kipoi_10kmers_.pdf\"))"
   ]
  },
  {
   "cell_type": "code",
   "execution_count": 52,
   "id": "859fd5c3-6396-4a37-943d-efadbe8fb881",
   "metadata": {
    "execution": {
     "iopub.execute_input": "2022-09-08T00:40:09.459095Z",
     "iopub.status.busy": "2022-09-08T00:40:09.458853Z",
     "iopub.status.idle": "2022-09-08T00:40:11.289148Z",
     "shell.execute_reply": "2022-09-08T00:40:11.288557Z",
     "shell.execute_reply.started": "2022-09-08T00:40:09.459077Z"
    }
   },
   "outputs": [],
   "source": [
    "pearson_kipoi_long.to_csv(os.path.join(eu.settings.output_dir, f\"pearson_performance_{number_kmers}kmers_kipoi.tsv\"), index=False, sep=\"\\t\")\n",
    "spearman_kipoi_long.to_csv(os.path.join(eu.settings.output_dir, f\"spearman_performance_{number_kmers}kmers_kipoi.tsv\"), index=False, sep=\"\\t\")"
   ]
  },
  {
   "cell_type": "markdown",
   "id": "f18d95b1-b397-49e2-87a2-084f63797885",
   "metadata": {},
   "source": [
    "---"
   ]
  },
  {
   "cell_type": "markdown",
   "id": "607cfa23-b8f0-4552-9a87-37bc6b843529",
   "metadata": {
    "tags": []
   },
   "source": [
    "# Scratch"
   ]
  },
  {
   "cell_type": "code",
   "execution_count": null,
   "id": "67eb7297",
   "metadata": {
    "vscode": {
     "languageId": "python"
    }
   },
   "outputs": [
    {
     "data": {
      "application/vnd.jupyter.widget-view+json": {
       "model_id": "b352d9f579ae41d2a8ed311dc1897b5b",
       "version_major": 2,
       "version_minor": 0
      },
      "text/plain": [
       "  0%|          | 0/16384 [00:00<?, ?it/s]"
      ]
     },
     "metadata": {},
     "output_type": "display_data"
    },
    {
     "data": {
      "application/vnd.jupyter.widget-view+json": {
       "model_id": "461e6fdb9db84548b887a97865741a22",
       "version_major": 2,
       "version_minor": 0
      },
      "text/plain": [
       "  0%|          | 0/16384 [00:00<?, ?it/s]"
      ]
     },
     "metadata": {},
     "output_type": "display_data"
    },
    {
     "data": {
      "image/png": "[encoded data removed]",
      "text/plain": [
       "<Figure size 1600x400 with 4 Axes>"
      ]
     },
     "metadata": {},
     "output_type": "display_data"
    }
   ],
   "source": [
    "eu.predict.column_rnac_metrics_apply(sdata_test, b_presence_absence, probe_id=\"RNCMPT00001\", preds_suffix=\"_predictions_ST\", use_calc_auc=True, verbose=True, n_kmers=100)"
   ]
  },
  {
   "cell_type": "code",
   "execution_count": null,
   "id": "cff6c131",
   "metadata": {
    "vscode": {
     "languageId": "python"
    }
   },
   "outputs": [
    {
     "data": {
      "application/vnd.jupyter.widget-view+json": {
       "model_id": "60d47938f4af4ccd9a5abb6eaa40b5f7",
       "version_major": 2,
       "version_minor": 0
      },
      "text/plain": [
       "  0%|          | 0/100 [00:00<?, ?it/s]"
      ]
     },
     "metadata": {},
     "output_type": "display_data"
    },
    {
     "name": "stderr",
     "output_type": "stream",
     "text": [
      "/home/vscode/.local/lib/python3.7/site-packages/numpy/core/fromnumeric.py:3441: RuntimeWarning: Mean of empty slice.\n",
      "  out=out, **kwargs)\n",
      "/home/vscode/.local/lib/python3.7/site-packages/numpy/core/_methods.py:189: RuntimeWarning: invalid value encountered in double_scalars\n",
      "  ret = ret.dtype.type(ret / rcount)\n"
     ]
    },
    {
     "data": {
      "application/vnd.jupyter.widget-view+json": {
       "model_id": "ecc8419277ba4b038da3c3f9936c8d48",
       "version_major": 2,
       "version_minor": 0
      },
      "text/plain": [
       "  0%|          | 0/100 [00:00<?, ?it/s]"
      ]
     },
     "metadata": {},
     "output_type": "display_data"
    },
    {
     "data": {
      "image/png": "[encoded data removed]",
      "text/plain": [
       "<Figure size 1600x400 with 4 Axes>"
      ]
     },
     "metadata": {},
     "output_type": "display_data"
    }
   ],
   "source": [
    "eu.predict.column_rnac_metrics_apply(sdata_test, b_presence_absence, probe_id=\"RNCMPT00001\", preds_suffix=\"_predictions_MT\", use_calc_auc=True, verbose=True, n_kmers=100)"
   ]
  }
 ],
 "metadata": {
  "kernelspec": {
   "display_name": "Python 3.7 eugene_dev",
   "language": "python",
   "name": "eugene_dev"
  },
  "language_info": {
   "codemirror_mode": {
    "name": "ipython",
    "version": 3
   },
   "file_extension": ".py",
   "mimetype": "text/x-python",
   "name": "python",
   "nbconvert_exporter": "python",
   "pygments_lexer": "ipython3",
   "version": "3.7.12"
  },
  "vscode": {
   "interpreter": {
    "hash": "949777d72b0d2535278d3dc13498b2535136f6dfe0678499012e853ee9abcab1"
   }
  }
 },
 "nbformat": 4,
 "nbformat_minor": 5
}
