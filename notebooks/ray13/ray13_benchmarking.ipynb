{
 "cells": [
  {
   "cell_type": "code",
   "execution_count": null,
   "id": "0254b4bd-506f-4291-8471-dbb597833637",
   "metadata": {},
   "outputs": [],
   "source": []
  }
 ],
 "metadata": {
  "kernelspec": {
   "display_name": "",
   "name": ""
  },
  "language_info": {
   "name": ""
  }
 },
 "nbformat": 4,
 "nbformat_minor": 5
}
