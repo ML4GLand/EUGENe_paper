{
 "cells": [
  {
   "attachments": {},
   "cell_type": "markdown",
   "id": "b86bbb98",
   "metadata": {},
   "source": [
    "# Ray et al 2013 GPU Utilization Analysis\n",
    "**Authorship:**\n",
    "David Laub (last updated: *07/19/2023*)\n",
    "***\n",
    "**Description:**\n",
    "Notebook to analyze GPU utilization of the Ray et al 2013 dataset\n",
    "***"
   ]
  },
  {
   "cell_type": "code",
   "execution_count": null,
   "id": "3c33ef42-27cc-4234-87c5-0bb9b7a95b51",
   "metadata": {
    "execution": {
     "iopub.execute_input": "2023-06-17T01:08:01.254425Z",
     "iopub.status.busy": "2023-06-17T01:08:01.254206Z",
     "iopub.status.idle": "2023-06-17T01:08:01.257513Z",
     "shell.execute_reply": "2023-06-17T01:08:01.257120Z",
     "shell.execute_reply.started": "2023-06-17T01:08:01.254409Z"
    },
    "tags": []
   },
   "outputs": [],
   "source": [
    "# General imports\n",
    "import os\n",
    "import sys\n",
    "import torch\n",
    "import wandb\n",
    "from tqdm.auto import tqdm\n",
    "import pandas as pd\n",
    "import pytorch_lightning as pl\n",
    "import xarray as xr\n",
    "\n",
    "# EUGENe imports and settings\n",
    "import eugene as eu\n",
    "import eugene.train\n",
    "import eugene.models\n",
    "import eugene.models.zoo\n",
    "from eugene import settings\n",
    "settings.dataset_dir = \"/cellar/users/aklie/data/eugene/revision/ray13\"\n",
    "settings.output_dir = \"/cellar/users/dlaub/projects/ML4GLand/EUGENe_paper/output/ray13\"\n",
    "settings.logging_dir = \"/cellar/users/dlaub/projects/ML4GLand/EUGENe_paper/logs/ray13\"\n",
    "settings.config_dir = \"/cellar/users/dlaub/projects/ML4GLand/EUGENe_paper/configs/ray13\"\n",
    "\n",
    "# EUGENe packages\n",
    "import seqdata as sd\n",
    "\n",
    "# Print versions\n",
    "print(f\"Python version: {sys.version}\")\n",
    "print(f\"PyTorch version: {torch.__version__}\")\n",
    "print(f\"Eugene version: {eu.__version__}\")\n",
    "print(f\"SeqData version: {sd.__version__}\")\n",
    "print(f\"MotifData version: {md.__version__}\")\n",
    "print(f\"WandB version: {wandb.__version__}\")"
   ]
  },
  {
   "cell_type": "code",
   "execution_count": null,
   "id": "ad7783a4-bf64-4d89-878b-70e784db7a32",
   "metadata": {
    "execution": {
     "iopub.execute_input": "2023-06-17T00:25:27.504113Z",
     "iopub.status.busy": "2023-06-17T00:25:27.503024Z",
     "iopub.status.idle": "2023-06-17T00:25:40.983499Z",
     "shell.execute_reply": "2023-06-17T00:25:40.983002Z",
     "shell.execute_reply.started": "2023-06-17T00:25:27.504090Z"
    }
   },
   "outputs": [],
   "source": [
    "# Login to wandb\n",
    "wandb.login()"
   ]
  },
  {
   "attachments": {},
   "cell_type": "markdown",
   "id": "ecf83ac5",
   "metadata": {},
   "source": [
    "# Load the data"
   ]
  },
  {
   "cell_type": "code",
   "execution_count": null,
   "id": "c9dd61fd-78bf-475b-94c5-6a0e459b06de",
   "metadata": {
    "execution": {
     "iopub.execute_input": "2023-06-17T01:26:33.722171Z",
     "iopub.status.busy": "2023-06-17T01:26:33.721963Z",
     "iopub.status.idle": "2023-06-17T01:26:34.375398Z",
     "shell.execute_reply": "2023-06-17T01:26:34.375004Z",
     "shell.execute_reply.started": "2023-06-17T01:26:33.722155Z"
    },
    "tags": []
   },
   "outputs": [],
   "source": [
    "# Load data\n",
    "sdata = sd.open_zarr('/cellar/users/aklie/data/eugene/revision/ray13/norm_setA_MT.zarr')\n",
    "target_cols_MT = [n for n in sdata.data_vars.keys() if 'RNCMPT' in n]\n",
    "sdata = (\n",
    "    sdata\n",
    "    .assign(\n",
    "        target=xr.concat(\n",
    "            sdata[target_cols_MT].data_vars.values(),\n",
    "            dim=xr.DataArray(target_cols_MT, dims='_targets')\n",
    "        )\n",
    "    )\n",
    "    .drop(target_cols_MT)\n",
    "    .transpose('_sequence', '_targets', '_ohe', 'length')\n",
    ")\n",
    "sdata"
   ]
  },
  {
   "attachments": {},
   "cell_type": "markdown",
   "id": "cddd5f5d",
   "metadata": {},
   "source": [
    "# Load the model"
   ]
  },
  {
   "cell_type": "code",
   "execution_count": null,
   "id": "38651a9c-474e-45b3-a871-7e5547aed5a8",
   "metadata": {
    "execution": {
     "iopub.execute_input": "2023-06-17T01:01:56.699475Z",
     "iopub.status.busy": "2023-06-17T01:01:56.698247Z",
     "iopub.status.idle": "2023-06-17T01:01:56.746782Z",
     "shell.execute_reply": "2023-06-17T01:01:56.746301Z",
     "shell.execute_reply.started": "2023-06-17T01:01:56.699455Z"
    },
    "tags": []
   },
   "outputs": [],
   "source": [
    "# Define the architecture to be trained\n",
    "arch = eu.models.zoo.DeepBind(\n",
    "    input_len=41,  # Length of padded sequences\n",
    "    output_dim=len(target_cols_MT),  # Number of multitask outputs\n",
    "    conv_kwargs=dict(input_channels=4, conv_channels=[1024], conv_kernels=[16], dropout_rates=0.25, batchnorm=0.25),\n",
    "    dense_kwargs=dict(hidden_dims=[512], dropout_rates=0.25, batchnorm=True),\n",
    ")\n",
    "\n",
    "# Initialize the model prior to conv filter initialization\n",
    "eu.models.init_weights(arch)\n",
    "\n",
    "# Wrap the model in a SequenceModule\n",
    "model = eu.models.SequenceModule(\n",
    "    arch=arch,\n",
    "    task=\"regression\",\n",
    "    loss_fxn=\"mse\",\n",
    "    optimizer=\"adam\",\n",
    "    optimizer_lr=0.0005,\n",
    ").cuda()"
   ]
  },
  {
   "cell_type": "code",
   "execution_count": null,
   "id": "33c647e8-96c8-4a9c-b53c-d18244ef4ec7",
   "metadata": {
    "execution": {
     "iopub.execute_input": "2023-06-17T01:26:38.587497Z",
     "iopub.status.busy": "2023-06-17T01:26:38.587284Z",
     "iopub.status.idle": "2023-06-17T01:26:44.147365Z",
     "shell.execute_reply": "2023-06-17T01:26:44.146894Z",
     "shell.execute_reply.started": "2023-06-17T01:26:38.587482Z"
    },
    "tags": []
   },
   "outputs": [],
   "source": [
    "# Load dataset into memory\n",
    "sdata[['ohe_seq', 'target']].load();"
   ]
  },
  {
   "cell_type": "code",
   "execution_count": null,
   "id": "7548e310-e116-4dee-9b74-ad63fefc440e",
   "metadata": {
    "execution": {
     "iopub.execute_input": "2023-06-17T01:26:44.150953Z",
     "iopub.status.busy": "2023-06-17T01:26:44.149882Z",
     "iopub.status.idle": "2023-06-17T01:26:44.223686Z",
     "shell.execute_reply": "2023-06-17T01:26:44.223202Z",
     "shell.execute_reply.started": "2023-06-17T01:26:44.150937Z"
    },
    "tags": []
   },
   "outputs": [],
   "source": [
    "# Build a dataloader\n",
    "train_sdata = sdata.sel(_sequence=(sdata.train_val == True).compute())\n",
    "dl = sd.get_torch_dataloader(\n",
    "    train_sdata,\n",
    "    sample_dims='_sequence',\n",
    "    variables=['ohe_seq', 'target'],\n",
    "    batch_size=2**14,\n",
    ")"
   ]
  },
  {
   "attachments": {},
   "cell_type": "markdown",
   "id": "7a5ee852-1fb7-43e1-9311-9df5ae80f06c",
   "metadata": {},
   "source": [
    "## PyTorch run"
   ]
  },
  {
   "cell_type": "code",
   "execution_count": null,
   "id": "4c54054c-7445-48ae-a4f9-79ae13e3544c",
   "metadata": {
    "execution": {
     "iopub.execute_input": "2023-06-17T01:13:09.338709Z",
     "iopub.status.busy": "2023-06-17T01:13:09.338484Z",
     "iopub.status.idle": "2023-06-17T01:13:09.342050Z",
     "shell.execute_reply": "2023-06-17T01:13:09.341624Z",
     "shell.execute_reply.started": "2023-06-17T01:13:09.338692Z"
    },
    "tags": []
   },
   "outputs": [],
   "source": [
    "def train(model, dloader, optim, loss_fn):\n",
    "    model.train()\n",
    "    for batch in tqdm(dloader, position=1, leave=False):\n",
    "        pred = model(batch['ohe_seq'].cuda())\n",
    "        loss = loss_fn(pred.squeeze(), batch['target'].cuda())\n",
    "        loss.backward()\n",
    "        optim.step()\n",
    "        optim.zero_grad()"
   ]
  },
  {
   "cell_type": "code",
   "execution_count": null,
   "id": "490ca041-e00c-4d62-8953-ac44bed42bb8",
   "metadata": {
    "execution": {
     "iopub.execute_input": "2023-06-17T01:15:35.450826Z",
     "iopub.status.busy": "2023-06-17T01:15:35.450606Z",
     "iopub.status.idle": "2023-06-17T01:19:10.942137Z",
     "shell.execute_reply": "2023-06-17T01:19:10.941610Z",
     "shell.execute_reply.started": "2023-06-17T01:15:35.450809Z"
    },
    "tags": []
   },
   "outputs": [],
   "source": [
    "epochs = 10\n",
    "optim = torch.optim.Adam(model.parameters())\n",
    "with wandb.init(project='EUGENe GPU Utilization', name='Native PyTorch', tags=['Ray13']):\n",
    "    for _ in tqdm(range(epochs), position=0):\n",
    "        train(model, dl, optim, model.loss_fxn)"
   ]
  },
  {
   "attachments": {},
   "cell_type": "markdown",
   "id": "9195b97e-e41d-46f4-b0a1-1f82eac1f515",
   "metadata": {
    "execution": {
     "iopub.execute_input": "2023-06-17T00:23:35.951300Z",
     "iopub.status.busy": "2023-06-17T00:23:35.951133Z",
     "iopub.status.idle": "2023-06-17T00:23:35.953282Z",
     "shell.execute_reply": "2023-06-17T00:23:35.952913Z",
     "shell.execute_reply.started": "2023-06-17T00:23:35.951286Z"
    },
    "tags": []
   },
   "source": [
    "## Lightning run"
   ]
  },
  {
   "cell_type": "code",
   "execution_count": null,
   "id": "5d54f96b-7ac6-4d2b-8258-87b8717fc292",
   "metadata": {
    "execution": {
     "iopub.execute_input": "2023-06-17T01:19:10.944277Z",
     "iopub.status.busy": "2023-06-17T01:19:10.944010Z",
     "iopub.status.idle": "2023-06-17T01:19:10.967917Z",
     "shell.execute_reply": "2023-06-17T01:19:10.967489Z",
     "shell.execute_reply.started": "2023-06-17T01:19:10.944259Z"
    }
   },
   "outputs": [],
   "source": [
    "# Define the architecture to be trained\n",
    "arch = eu.models.zoo.DeepBind(\n",
    "    input_len=41,  # Length of padded sequences\n",
    "    output_dim=len(target_cols_MT),  # Number of multitask outputs\n",
    "    conv_kwargs=dict(input_channels=4, conv_channels=[1024], conv_kernels=[16], dropout_rates=0.25, batchnorm=0.25),\n",
    "    dense_kwargs=dict(hidden_dims=[512], dropout_rates=0.25, batchnorm=True),\n",
    ")\n",
    "\n",
    "# Initialize the model prior to conv filter initialization\n",
    "eu.models.init_weights(arch)\n",
    "\n",
    "# Wrap the model in a SequenceModule\n",
    "model = eu.models.SequenceModule(\n",
    "    arch=arch,\n",
    "    task=\"regression\",\n",
    "    loss_fxn=\"mse\",\n",
    "    optimizer=\"adam\",\n",
    "    optimizer_lr=0.0005,\n",
    ").cuda()"
   ]
  },
  {
   "cell_type": "code",
   "execution_count": null,
   "id": "9a7c3e8c-4470-4c03-8432-e01d6c2088a7",
   "metadata": {
    "execution": {
     "iopub.execute_input": "2023-06-17T01:19:10.971090Z",
     "iopub.status.busy": "2023-06-17T01:19:10.970046Z",
     "iopub.status.idle": "2023-06-17T01:19:15.004225Z",
     "shell.execute_reply": "2023-06-17T01:19:15.003845Z",
     "shell.execute_reply.started": "2023-06-17T01:19:10.971075Z"
    }
   },
   "outputs": [],
   "source": [
    "trainer = pl.Trainer(max_epochs=10, logger=False)"
   ]
  },
  {
   "cell_type": "code",
   "execution_count": null,
   "id": "ad8245f0-d349-4a04-9858-44d67791b9cf",
   "metadata": {
    "execution": {
     "iopub.execute_input": "2023-06-17T01:19:15.007453Z",
     "iopub.status.busy": "2023-06-17T01:19:15.006392Z",
     "iopub.status.idle": "2023-06-17T01:23:02.082833Z",
     "shell.execute_reply": "2023-06-17T01:23:02.082411Z",
     "shell.execute_reply.started": "2023-06-17T01:19:15.007437Z"
    }
   },
   "outputs": [],
   "source": [
    "with wandb.init(project='EUGENe GPU Utilization', name='PL no val', tags=['Ray13']):\n",
    "    trainer.fit(model, dl)"
   ]
  },
  {
   "attachments": {},
   "cell_type": "markdown",
   "id": "f11ab461-797c-4f88-bd95-bbbfa071f829",
   "metadata": {},
   "source": [
    "## EUGENe run"
   ]
  },
  {
   "cell_type": "code",
   "execution_count": null,
   "id": "141d0118-5657-4605-87fd-c26e2333fcc2",
   "metadata": {
    "execution": {
     "iopub.execute_input": "2023-06-17T01:32:01.706465Z",
     "iopub.status.busy": "2023-06-17T01:32:01.706248Z",
     "iopub.status.idle": "2023-06-17T01:32:01.748814Z",
     "shell.execute_reply": "2023-06-17T01:32:01.748353Z",
     "shell.execute_reply.started": "2023-06-17T01:32:01.706450Z"
    },
    "tags": []
   },
   "outputs": [],
   "source": [
    "# Define the architecture to be trained\n",
    "arch = eu.models.zoo.DeepBind(\n",
    "    input_len=41,  # Length of padded sequences\n",
    "    output_dim=len(target_cols_MT),  # Number of multitask outputs\n",
    "    conv_kwargs=dict(input_channels=4, conv_channels=[1024], conv_kernels=[16], dropout_rates=0.25, batchnorm=0.25),\n",
    "    dense_kwargs=dict(hidden_dims=[512], dropout_rates=0.25, batchnorm=True),\n",
    ")\n",
    "\n",
    "# Initialize the model prior to conv filter initialization\n",
    "eu.models.init_weights(arch)\n",
    "\n",
    "# Wrap the model in a SequenceModule\n",
    "model = eu.models.SequenceModule(\n",
    "    arch=arch,\n",
    "    task=\"regression\",\n",
    "    loss_fxn=\"mse\",\n",
    "    optimizer=\"adam\",\n",
    "    optimizer_lr=0.0005,\n",
    ").cuda()"
   ]
  },
  {
   "cell_type": "code",
   "execution_count": null,
   "id": "1488e789-d83d-4b14-b4e8-fc2835a63cb0",
   "metadata": {
    "execution": {
     "iopub.execute_input": "2023-06-17T01:33:31.309025Z",
     "iopub.status.busy": "2023-06-17T01:33:31.308804Z",
     "iopub.status.idle": "2023-06-17T01:34:25.744802Z",
     "shell.execute_reply": "2023-06-17T01:34:25.744370Z",
     "shell.execute_reply.started": "2023-06-17T01:33:31.309006Z"
    },
    "tags": []
   },
   "outputs": [],
   "source": [
    "# Fit the model\n",
    "with wandb.init(project='EUGENe GPU Utilization', name='EUGENe', tags=['Ray13']):\n",
    "    eu.train.fit_sequence_module(\n",
    "        model,\n",
    "        sdata,\n",
    "        seq_var=\"ohe_seq\",\n",
    "        target_vars=['target'],\n",
    "        in_memory=True,\n",
    "        train_var=\"train_val\",\n",
    "        epochs=10,\n",
    "        batch_size=2**14,\n",
    "        drop_last=False,\n",
    "        early_stopping_metric=None,\n",
    "        model_checkpoint_monitor=None,\n",
    "    )"
   ]
  },
  {
   "attachments": {},
   "cell_type": "markdown",
   "id": "b2a15804",
   "metadata": {},
   "source": [
    "# DONE!"
   ]
  },
  {
   "attachments": {},
   "cell_type": "markdown",
   "id": "45de1761",
   "metadata": {},
   "source": [
    "---"
   ]
  },
  {
   "attachments": {},
   "cell_type": "markdown",
   "id": "1c6019b1",
   "metadata": {},
   "source": [
    "# Scratch"
   ]
  }
 ],
 "metadata": {
  "kernelspec": {
   "display_name": "EUGENe",
   "language": "python",
   "name": "eugene-dev"
  },
  "language_info": {
   "codemirror_mode": {
    "name": "ipython",
    "version": 3
   },
   "file_extension": ".py",
   "mimetype": "text/x-python",
   "name": "python",
   "nbconvert_exporter": "python",
   "pygments_lexer": "ipython3",
   "version": "3.9.15"
  }
 },
 "nbformat": 4,
 "nbformat_minor": 5
}
