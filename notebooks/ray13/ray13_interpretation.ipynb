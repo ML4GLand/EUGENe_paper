{
 "cells": [
  {
   "cell_type": "markdown",
   "metadata": {},
   "source": [
    "# Ray et al 2013 Intepretation\n",
    "**Authorship:**\n",
    "Adam Klie, *09/03/2022*\n",
    "***\n",
    "**Description:**\n",
    "Notebook to interpret the trained models on the Ray et al dataset.\n",
    "***"
   ]
  },
  {
   "cell_type": "code",
   "execution_count": 1,
   "metadata": {
    "execution": {
     "iopub.execute_input": "2022-09-05T19:16:54.340198Z",
     "iopub.status.busy": "2022-09-05T19:16:54.339957Z",
     "iopub.status.idle": "2022-09-05T19:17:50.501632Z",
     "shell.execute_reply": "2022-09-05T19:17:50.500891Z",
     "shell.execute_reply.started": "2022-09-05T19:16:54.340153Z"
    },
    "tags": [],
    "vscode": {
     "languageId": "python"
    }
   },
   "outputs": [
    {
     "name": "stderr",
     "output_type": "stream",
     "text": [
      "Global seed set to 13\n"
     ]
    },
    {
     "name": "stdout",
     "output_type": "stream",
     "text": [
      "GPU is available: True\n",
      "Number of GPUs: 1\n",
      "Current GPU: 0\n",
      "GPUs: Quadro RTX 5000\n"
     ]
    },
    {
     "name": "stderr",
     "output_type": "stream",
     "text": [
      "/mnt/beegfs/users/aklie/projects/EUGENe/eugene/external/kipoi_veff/seqplotting_deps.py:36: FutureWarning: arrays to stack must be passed as a \"sequence\" type such as list or tuple. Support for non-sequence iterables such as generators is deprecated as of NumPy 1.16 and will raise an error in the future.\n",
      "  min_coords = np.vstack(data.min(0) for data in polygons_data).min(0)\n",
      "/mnt/beegfs/users/aklie/projects/EUGENe/eugene/external/kipoi_veff/seqplotting_deps.py:37: FutureWarning: arrays to stack must be passed as a \"sequence\" type such as list or tuple. Support for non-sequence iterables such as generators is deprecated as of NumPy 1.16 and will raise an error in the future.\n",
      "  max_coords = np.vstack(data.max(0) for data in polygons_data).max(0)\n"
     ]
    }
   ],
   "source": [
    "if 'autoreload' not in get_ipython().extension_manager.loaded:\n",
    "    %load_ext autoreload\n",
    "%autoreload 2\n",
    "\n",
    "import os\n",
    "import glob\n",
    "import logging\n",
    "import torch\n",
    "import numpy as np\n",
    "import pandas as pd\n",
    "import eugene as eu\n",
    "import matplotlib.pyplot as plt\n",
    "import matplotlib\n",
    "\n",
    "matplotlib.rcParams['pdf.fonttype'] = 42\n",
    "matplotlib.rcParams['ps.fonttype'] = 42"
   ]
  },
  {
   "cell_type": "code",
   "execution_count": 2,
   "metadata": {
    "execution": {
     "iopub.execute_input": "2022-09-05T19:17:50.504366Z",
     "iopub.status.busy": "2022-09-05T19:17:50.504011Z",
     "iopub.status.idle": "2022-09-05T19:17:53.434739Z",
     "shell.execute_reply": "2022-09-05T19:17:53.434103Z",
     "shell.execute_reply.started": "2022-09-05T19:17:50.504348Z"
    },
    "tags": [],
    "vscode": {
     "languageId": "python"
    }
   },
   "outputs": [],
   "source": [
    "eu.settings.dataset_dir = \"/cellar/users/aklie/data/eugene/ray13\"\n",
    "eu.settings.output_dir = \"/cellar/users/aklie/projects/EUGENe/EUGENe_paper/output/ray13\"\n",
    "eu.settings.logging_dir = \"/cellar/users/aklie/projects/EUGENe/EUGENe_paper/logs/ray13\"\n",
    "eu.settings.config_dir = \"/cellar/users/aklie/projects/EUGENe/EUGENe_paper/configs/ray13\"\n",
    "figure_dir = \"/cellar/users/aklie/projects/EUGENe/EUGENe_paper/figures/ray13\"\n",
    "eu.settings.verbosity = logging.ERROR"
   ]
  },
  {
   "cell_type": "markdown",
   "metadata": {},
   "source": [
    "# Load the test `SeqData`"
   ]
  },
  {
   "cell_type": "code",
   "execution_count": 3,
   "metadata": {
    "execution": {
     "iopub.execute_input": "2022-09-05T19:17:53.435591Z",
     "iopub.status.busy": "2022-09-05T19:17:53.435432Z",
     "iopub.status.idle": "2022-09-05T19:17:57.430580Z",
     "shell.execute_reply": "2022-09-05T19:17:57.429994Z",
     "shell.execute_reply.started": "2022-09-05T19:17:53.435575Z"
    },
    "tags": [],
    "vscode": {
     "languageId": "python"
    }
   },
   "outputs": [
    {
     "data": {
      "text/plain": [
       "Index(['Probe_Set', 'RNCMPT00001', 'RNCMPT00001_predictions_MT',\n",
       "       'RNCMPT00001_predictions_ST', 'RNCMPT00002'],\n",
       "      dtype='object')"
      ]
     },
     "execution_count": 3,
     "metadata": {},
     "output_type": "execute_result"
    }
   ],
   "source": [
    "sdata_test = eu.dl.read_h5sd(os.path.join(eu.settings.output_dir, \"norm_test_predictions.h5sd\"))\n",
    "target_mask = sdata_test.seqs_annot.columns.str.contains(\"RNCMPT\") & ~sdata_test.seqs_annot.columns.str.contains(\"ST|MT|kipoi\")\n",
    "target_cols = sdata_test.seqs_annot.columns[target_mask]\n",
    "sdata_test.seqs_annot.columns[:5]"
   ]
  },
  {
   "cell_type": "markdown",
   "metadata": {},
   "source": [
    "# Feature Attribution"
   ]
  },
  {
   "cell_type": "markdown",
   "metadata": {},
   "source": [
    "## Single task models"
   ]
  },
  {
   "cell_type": "code",
   "execution_count": 4,
   "metadata": {
    "execution": {
     "iopub.execute_input": "2022-09-05T18:26:33.519539Z",
     "iopub.status.busy": "2022-09-05T18:26:33.519318Z",
     "iopub.status.idle": "2022-09-05T18:26:56.133153Z",
     "shell.execute_reply": "2022-09-05T18:26:56.132507Z",
     "shell.execute_reply.started": "2022-09-05T18:26:33.519522Z"
    },
    "tags": [],
    "vscode": {
     "languageId": "python"
    }
   },
   "outputs": [
    {
     "name": "stdout",
     "output_type": "stream",
     "text": [
      "Testing DeepBind SingleTask model on RNCMPT00001\n",
      "No transforms given, assuming just need to tensorize).\n"
     ]
    },
    {
     "data": {
      "application/vnd.jupyter.widget-view+json": {
       "model_id": "7177cacf3c924fc6ab21730419f9e5d8",
       "version_major": 2,
       "version_minor": 0
      },
      "text/plain": [
       "Computing saliency on batches:   0%|          | 0/945 [00:00<?, ?it/s]"
      ]
     },
     "metadata": {},
     "output_type": "display_data"
    },
    {
     "name": "stdout",
     "output_type": "stream",
     "text": [
      "Testing DeepBind SingleTask model on RNCMPT00002\n",
      "No transforms given, assuming just need to tensorize).\n"
     ]
    },
    {
     "data": {
      "application/vnd.jupyter.widget-view+json": {
       "model_id": "329bea367e3c424b8dd2e3cdf6c173d8",
       "version_major": 2,
       "version_minor": 0
      },
      "text/plain": [
       "Computing saliency on batches:   0%|          | 0/945 [00:00<?, ?it/s]"
      ]
     },
     "metadata": {},
     "output_type": "display_data"
    },
    {
     "name": "stdout",
     "output_type": "stream",
     "text": [
      "Testing DeepBind SingleTask model on RNCMPT00003\n",
      "No transforms given, assuming just need to tensorize).\n"
     ]
    },
    {
     "data": {
      "application/vnd.jupyter.widget-view+json": {
       "model_id": "f80c618c1b5c4c75bdb313437190ef7e",
       "version_major": 2,
       "version_minor": 0
      },
      "text/plain": [
       "Computing saliency on batches:   0%|          | 0/945 [00:00<?, ?it/s]"
      ]
     },
     "metadata": {},
     "output_type": "display_data"
    }
   ],
   "source": [
    "for i, target_col in enumerate(target_cols[:3]):\n",
    "    print(f\"Testing DeepBind SingleTask model on {target_col}\")\n",
    "    model_file = glob.glob(os.path.join(eu.settings.logging_dir, \"DeepBind_ST\", target_col, \"checkpoints\", \"*\"))[0]\n",
    "    model = eu.models.DeepBind.load_from_checkpoint(model_file)\n",
    "    eu.interpret.feature_attribution(\n",
    "        model,\n",
    "        sdata_test,\n",
    "        saliency_method=\"InputXGradient\",\n",
    "        suffix=f\"_{target_col}_ST\"\n",
    "    )"
   ]
  },
  {
   "cell_type": "markdown",
   "metadata": {},
   "source": [
    "## Multi-task"
   ]
  },
  {
   "cell_type": "code",
   "execution_count": 5,
   "metadata": {
    "execution": {
     "iopub.execute_input": "2022-09-05T18:26:56.134217Z",
     "iopub.status.busy": "2022-09-05T18:26:56.134054Z",
     "iopub.status.idle": "2022-09-05T18:27:22.142172Z",
     "shell.execute_reply": "2022-09-05T18:27:22.141527Z",
     "shell.execute_reply.started": "2022-09-05T18:26:56.134199Z"
    },
    "tags": [],
    "vscode": {
     "languageId": "python"
    }
   },
   "outputs": [
    {
     "name": "stdout",
     "output_type": "stream",
     "text": [
      "Testing DeepBind MultiTask model on RNCMPT00001\n",
      "No transforms given, assuming just need to tensorize).\n"
     ]
    },
    {
     "data": {
      "application/vnd.jupyter.widget-view+json": {
       "model_id": "d23115b43bcc4ca18c27784c2e2c134e",
       "version_major": 2,
       "version_minor": 0
      },
      "text/plain": [
       "Computing saliency on batches:   0%|          | 0/945 [00:00<?, ?it/s]"
      ]
     },
     "metadata": {},
     "output_type": "display_data"
    },
    {
     "name": "stdout",
     "output_type": "stream",
     "text": [
      "No transforms given, assuming just need to tensorize).\n"
     ]
    },
    {
     "data": {
      "application/vnd.jupyter.widget-view+json": {
       "model_id": "3307f9f393164ae5982863be9a8b052a",
       "version_major": 2,
       "version_minor": 0
      },
      "text/plain": [
       "Computing saliency on batches:   0%|          | 0/945 [00:00<?, ?it/s]"
      ]
     },
     "metadata": {},
     "output_type": "display_data"
    },
    {
     "name": "stdout",
     "output_type": "stream",
     "text": [
      "No transforms given, assuming just need to tensorize).\n"
     ]
    },
    {
     "data": {
      "application/vnd.jupyter.widget-view+json": {
       "model_id": "49c03c230b514f3dae1eacaa34779e72",
       "version_major": 2,
       "version_minor": 0
      },
      "text/plain": [
       "Computing saliency on batches:   0%|          | 0/945 [00:00<?, ?it/s]"
      ]
     },
     "metadata": {},
     "output_type": "display_data"
    }
   ],
   "source": [
    "print(f\"Testing DeepBind MultiTask model on {target_cols[0]}\")\n",
    "version = 0\n",
    "model_file = glob.glob(os.path.join(eu.settings.logging_dir, \"DeepBind_MT\", f\"v{version}\", \"checkpoints\", \"*\"))[0]\n",
    "model = eu.models.DeepBind.load_from_checkpoint(model_file)\n",
    "for i, target_col in enumerate(target_cols[:3]):\n",
    "    eu.interpret.feature_attribution(\n",
    "        model,\n",
    "        sdata_test,\n",
    "        saliency_method=\"InputXGradient\",\n",
    "        target=i,\n",
    "        suffix=f\"_{target_col}_MT\"\n",
    "    )"
   ]
  },
  {
   "cell_type": "markdown",
   "metadata": {},
   "source": [
    "# Plot feature attributions "
   ]
  },
  {
   "cell_type": "code",
   "execution_count": 6,
   "metadata": {
    "execution": {
     "iopub.execute_input": "2022-09-05T18:27:22.143148Z",
     "iopub.status.busy": "2022-09-05T18:27:22.142986Z",
     "iopub.status.idle": "2022-09-05T18:27:51.945192Z",
     "shell.execute_reply": "2022-09-05T18:27:51.944697Z",
     "shell.execute_reply.started": "2022-09-05T18:27:22.143133Z"
    },
    "tags": [],
    "vscode": {
     "languageId": "python"
    }
   },
   "outputs": [
    {
     "name": "stdout",
     "output_type": "stream",
     "text": [
      "Generating feature attribution scores for DeepBind models on RNCMPT00001\n"
     ]
    },
    {
     "data": {
      "application/vnd.jupyter.widget-view+json": {
       "model_id": "9ac2907ee15643b5b7694af95b998df0",
       "version_major": 2,
       "version_minor": 0
      },
      "text/plain": [
       "Importance values: 0it [00:00, ?it/s]"
      ]
     },
     "metadata": {},
     "output_type": "display_data"
    },
    {
     "data": {
      "application/vnd.jupyter.widget-view+json": {
       "model_id": "97218fbf94d54943a1fb13062d84564e",
       "version_major": 2,
       "version_minor": 0
      },
      "text/plain": [
       "Importance values: 0it [00:00, ?it/s]"
      ]
     },
     "metadata": {},
     "output_type": "display_data"
    },
    {
     "name": "stdout",
     "output_type": "stream",
     "text": [
      "Generating feature attribution scores for DeepBind models on RNCMPT00002\n"
     ]
    },
    {
     "data": {
      "application/vnd.jupyter.widget-view+json": {
       "model_id": "18f6d7dda4ea42d897d3c8a140512870",
       "version_major": 2,
       "version_minor": 0
      },
      "text/plain": [
       "Importance values: 0it [00:00, ?it/s]"
      ]
     },
     "metadata": {},
     "output_type": "display_data"
    },
    {
     "data": {
      "application/vnd.jupyter.widget-view+json": {
       "model_id": "005b30e28b0548acbcafb6844be1ab0a",
       "version_major": 2,
       "version_minor": 0
      },
      "text/plain": [
       "Importance values: 0it [00:00, ?it/s]"
      ]
     },
     "metadata": {},
     "output_type": "display_data"
    },
    {
     "name": "stdout",
     "output_type": "stream",
     "text": [
      "Generating feature attribution scores for DeepBind models on RNCMPT00003\n"
     ]
    },
    {
     "data": {
      "application/vnd.jupyter.widget-view+json": {
       "model_id": "5d981f268b284d0c9d27ad8c167fd6e0",
       "version_major": 2,
       "version_minor": 0
      },
      "text/plain": [
       "Importance values: 0it [00:00, ?it/s]"
      ]
     },
     "metadata": {},
     "output_type": "display_data"
    },
    {
     "data": {
      "application/vnd.jupyter.widget-view+json": {
       "model_id": "1c3203b6b3de4dda831f29b54e3c0bdf",
       "version_major": 2,
       "version_minor": 0
      },
      "text/plain": [
       "Importance values: 0it [00:00, ?it/s]"
      ]
     },
     "metadata": {},
     "output_type": "display_data"
    }
   ],
   "source": [
    "for i, target_col in enumerate(target_cols[:3]):\n",
    "    print(f\"Generating feature attribution scores for DeepBind models on {target_col}\")\n",
    "    top3_index = sdata_test[target_col].sort_values(ascending=False).index[:3]\n",
    "    bottom3_index = sdata_test[target_col].sort_values(ascending=False).index[-3:]\n",
    "    eu.pl.lm_multiseq_track(\n",
    "        sdata_test,\n",
    "        seq_ids=top3_index,\n",
    "        uns_keys=[f\"InputXGradient_imps_{target_col}_ST\", f\"InputXGradient_imps_{target_col}_MT\"],\n",
    "        alphabet=\"RNA\",\n",
    "        width=18,\n",
    "        height=6,\n",
    "        ylabels=[\"DeepBind SingleTask\", \"DeepBind MultiTask\"],\n",
    "        save=os.path.join(figure_dir, \"feature_attr\", f\"model_top3_feature_attr_{target_col}_STandMT.pdf\")\n",
    "    )\n",
    "    plt.close()\n",
    "    eu.pl.lm_multiseq_track(\n",
    "        sdata_test,\n",
    "        seq_ids=bottom3_index,\n",
    "        uns_keys=[f\"InputXGradient_imps_{target_col}_ST\", f\"InputXGradient_imps_{target_col}_MT\"],\n",
    "        alphabet=\"RNA\",\n",
    "        width=18,\n",
    "        height=6,\n",
    "        ylabels=[\"DeepBind SingleTask\", \"DeepBind MultiTask\"],\n",
    "        save=os.path.join(figure_dir, \"feature_attr\", f\"model_bottom3_feature_attr_{target_col}_STandMT.pdf\")\n",
    "    )\n",
    "    plt.close()"
   ]
  },
  {
   "cell_type": "markdown",
   "metadata": {},
   "source": [
    "# Filter viz"
   ]
  },
  {
   "cell_type": "markdown",
   "metadata": {},
   "source": [
    "## Single task "
   ]
  },
  {
   "cell_type": "code",
   "execution_count": 4,
   "metadata": {
    "execution": {
     "iopub.execute_input": "2022-09-05T19:17:57.438543Z",
     "iopub.status.busy": "2022-09-05T19:17:57.438158Z",
     "iopub.status.idle": "2022-09-05T19:20:38.287864Z",
     "shell.execute_reply": "2022-09-05T19:20:38.287214Z",
     "shell.execute_reply.started": "2022-09-05T19:17:57.438525Z"
    },
    "tags": [],
    "vscode": {
     "languageId": "python"
    }
   },
   "outputs": [
    {
     "name": "stdout",
     "output_type": "stream",
     "text": [
      "Generating pfms for DeepBind models on RNCMPT00001\n",
      "No transforms given, assuming just need to tensorize).\n"
     ]
    },
    {
     "data": {
      "application/vnd.jupyter.widget-view+json": {
       "model_id": "046bf15d71e44603b2214915f2611df6",
       "version_major": 2,
       "version_minor": 0
      },
      "text/plain": [
       "Getting maximial activating seqlets:   0%|          | 0/945 [00:00<?, ?it/s]"
      ]
     },
     "metadata": {},
     "output_type": "display_data"
    },
    {
     "data": {
      "application/vnd.jupyter.widget-view+json": {
       "model_id": "40b04ec3034b4eca92576a9e09e556d8",
       "version_major": 2,
       "version_minor": 0
      },
      "text/plain": [
       "Getting PFMs from filters:   0%|          | 0/16 [00:00<?, ?it/s]"
      ]
     },
     "metadata": {},
     "output_type": "display_data"
    },
    {
     "name": "stdout",
     "output_type": "stream",
     "text": [
      "Generating pfms for DeepBind models on RNCMPT00002\n",
      "No transforms given, assuming just need to tensorize).\n"
     ]
    },
    {
     "data": {
      "application/vnd.jupyter.widget-view+json": {
       "model_id": "c8c6da9b4b1647b89cb087c819ef6421",
       "version_major": 2,
       "version_minor": 0
      },
      "text/plain": [
       "Getting maximial activating seqlets:   0%|          | 0/945 [00:00<?, ?it/s]"
      ]
     },
     "metadata": {},
     "output_type": "display_data"
    },
    {
     "data": {
      "application/vnd.jupyter.widget-view+json": {
       "model_id": "09ca560ae9684f13888c50a48e329dd9",
       "version_major": 2,
       "version_minor": 0
      },
      "text/plain": [
       "Getting PFMs from filters:   0%|          | 0/16 [00:00<?, ?it/s]"
      ]
     },
     "metadata": {},
     "output_type": "display_data"
    },
    {
     "name": "stdout",
     "output_type": "stream",
     "text": [
      "Generating pfms for DeepBind models on RNCMPT00003\n",
      "No transforms given, assuming just need to tensorize).\n"
     ]
    },
    {
     "data": {
      "application/vnd.jupyter.widget-view+json": {
       "model_id": "d7fac696f10f42f0b9d614b8962a3428",
       "version_major": 2,
       "version_minor": 0
      },
      "text/plain": [
       "Getting maximial activating seqlets:   0%|          | 0/945 [00:00<?, ?it/s]"
      ]
     },
     "metadata": {},
     "output_type": "display_data"
    },
    {
     "data": {
      "application/vnd.jupyter.widget-view+json": {
       "model_id": "44b2c83470164bb9a47e0b448ccfcc7a",
       "version_major": 2,
       "version_minor": 0
      },
      "text/plain": [
       "Getting PFMs from filters:   0%|          | 0/16 [00:00<?, ?it/s]"
      ]
     },
     "metadata": {},
     "output_type": "display_data"
    }
   ],
   "source": [
    "# Grab the pfms for the 16 filters of each single task model\n",
    "for i, target_col in enumerate(target_cols[:3]):\n",
    "    print(f\"Generating pfms for DeepBind models on {target_col}\")\n",
    "    model_file = glob.glob(os.path.join(eu.settings.logging_dir, \"DeepBind_ST\", target_col, \"checkpoints\", \"*\"))[0]\n",
    "    model = eu.models.DeepBind.load_from_checkpoint(model_file)\n",
    "    eu.interpret.generate_pfms(model, sdata_test, key_name=f\"pfms_{target_col}_ST\", alphabet=\"RNA\")"
   ]
  },
  {
   "cell_type": "markdown",
   "metadata": {},
   "source": [
    "## Multitask"
   ]
  },
  {
   "cell_type": "code",
   "execution_count": 8,
   "metadata": {
    "execution": {
     "iopub.execute_input": "2022-09-05T18:30:39.358177Z",
     "iopub.status.busy": "2022-09-05T18:30:39.357597Z",
     "iopub.status.idle": "2022-09-05T18:48:35.384667Z",
     "shell.execute_reply": "2022-09-05T18:48:35.384018Z",
     "shell.execute_reply.started": "2022-09-05T18:30:39.358155Z"
    },
    "tags": [],
    "vscode": {
     "languageId": "python"
    }
   },
   "outputs": [
    {
     "name": "stdout",
     "output_type": "stream",
     "text": [
      "No transforms given, assuming just need to tensorize).\n"
     ]
    },
    {
     "data": {
      "application/vnd.jupyter.widget-view+json": {
       "model_id": "73f7059173ec49bab1fddc643a4e4b69",
       "version_major": 2,
       "version_minor": 0
      },
      "text/plain": [
       "Getting maximial activating seqlets:   0%|          | 0/945 [00:00<?, ?it/s]"
      ]
     },
     "metadata": {},
     "output_type": "display_data"
    },
    {
     "data": {
      "application/vnd.jupyter.widget-view+json": {
       "model_id": "1a106e4574f546dc80caff6720bcbd14",
       "version_major": 2,
       "version_minor": 0
      },
      "text/plain": [
       "Getting PFMs from filters:   0%|          | 0/512 [00:00<?, ?it/s]"
      ]
     },
     "metadata": {},
     "output_type": "display_data"
    }
   ],
   "source": [
    "# Grab the pfms for all filters of the multitask model\n",
    "version = 0\n",
    "model_file = glob.glob(os.path.join(eu.settings.logging_dir, \"DeepBind_MT\", f\"v{version}\", \"checkpoints\", \"*\"))[0]\n",
    "model = eu.models.DeepBind.load_from_checkpoint(model_file)\n",
    "eu.interpret.generate_pfms(model, sdata_test, key_name=f\"pfms_MT\", alphabet=\"RNA\")"
   ]
  },
  {
   "cell_type": "markdown",
   "metadata": {},
   "source": [
    "# Plot filter viz"
   ]
  },
  {
   "cell_type": "code",
   "execution_count": 5,
   "metadata": {
    "execution": {
     "iopub.execute_input": "2022-09-05T19:20:38.289216Z",
     "iopub.status.busy": "2022-09-05T19:20:38.289055Z",
     "iopub.status.idle": "2022-09-05T19:21:01.000740Z",
     "shell.execute_reply": "2022-09-05T19:21:01.000219Z",
     "shell.execute_reply.started": "2022-09-05T19:20:38.289200Z"
    },
    "tags": [],
    "vscode": {
     "languageId": "python"
    }
   },
   "outputs": [
    {
     "name": "stdout",
     "output_type": "stream",
     "text": [
      "Plotting filter visualizations for DeepBind models on RNCMPT00001\n",
      "Plotting filter visualizations for DeepBind models on RNCMPT00002\n",
      "Plotting filter visualizations for DeepBind models on RNCMPT00003\n"
     ]
    }
   ],
   "source": [
    "# Visualizations for all 16 filters for DeepBind SingleTask models\n",
    "for i, target_col in enumerate(target_cols[:3]):\n",
    "    print(f\"Plotting filter visualizations for DeepBind models on {target_col}\")\n",
    "    eu.pl.lm_multifilter_viz(\n",
    "        sdata_test,\n",
    "        filter_ids=range(0,16),\n",
    "        uns_key=f\"pfms_{target_col}_ST\",\n",
    "        titles=[f\"filter {i}\" for i in range(16)],\n",
    "        num_rows=4,\n",
    "        num_cols=4,\n",
    "        save=os.path.join(figure_dir, \"filter_viz\", f\"model_filters_viz_{target_col}_ST.pdf\")\n",
    "    )\n",
    "    plt.close()"
   ]
  },
  {
   "cell_type": "code",
   "execution_count": 13,
   "metadata": {
    "execution": {
     "iopub.execute_input": "2022-09-05T18:53:10.200789Z",
     "iopub.status.busy": "2022-09-05T18:53:10.200514Z",
     "iopub.status.idle": "2022-09-05T18:56:21.168780Z",
     "shell.execute_reply": "2022-09-05T18:56:21.168252Z",
     "shell.execute_reply.started": "2022-09-05T18:53:10.200772Z"
    },
    "tags": [],
    "vscode": {
     "languageId": "python"
    }
   },
   "outputs": [
    {
     "name": "stdout",
     "output_type": "stream",
     "text": [
      "Plotting and saving filters 1-32\n",
      "Plotting and saving filters 33-64\n",
      "Plotting and saving filters 65-96\n",
      "Plotting and saving filters 97-128\n",
      "Plotting and saving filters 129-160\n",
      "Plotting and saving filters 161-192\n",
      "Plotting and saving filters 193-224\n",
      "Plotting and saving filters 225-256\n",
      "Plotting and saving filters 257-288\n",
      "Plotting and saving filters 289-320\n",
      "Plotting and saving filters 321-352\n",
      "Plotting and saving filters 353-384\n",
      "Plotting and saving filters 385-416\n",
      "Plotting and saving filters 417-448\n",
      "Plotting and saving filters 449-480\n",
      "Plotting and saving filters 481-512\n"
     ]
    }
   ],
   "source": [
    "# Visualizations for all filters of the multitask model\n",
    "for i in range(16):\n",
    "    start_filter = i*32\n",
    "    end_filter = (i*32) + 32\n",
    "    print(f\"Plotting and saving filters {start_filter+1}-{end_filter}\")\n",
    "    eu.pl.lm_multifilter_viz(\n",
    "        sdata_test,\n",
    "        filter_ids=list(sdata_test.uns[\"pfms_MT\"].keys())[start_filter:end_filter],\n",
    "        num_rows=8,\n",
    "        num_cols=4,\n",
    "        uns_key=\"pfms_MT\",\n",
    "        titles=[f\"filter {i}\" for i in range(32)],\n",
    "        save=os.path.join(figure_dir, \"filter_viz\", f\"model_filters{start_filter+1}-{end_filter}_viz_MT.pdf\")\n",
    "    )\n",
    "    plt.tight_layout()\n",
    "    plt.close()"
   ]
  },
  {
   "cell_type": "markdown",
   "metadata": {},
   "source": [
    "# Save"
   ]
  },
  {
   "cell_type": "code",
   "execution_count": 9,
   "metadata": {
    "execution": {
     "iopub.execute_input": "2022-09-05T18:51:48.284415Z",
     "iopub.status.busy": "2022-09-05T18:51:48.284178Z",
     "iopub.status.idle": "2022-09-05T18:51:52.505414Z",
     "shell.execute_reply": "2022-09-05T18:51:52.504892Z",
     "shell.execute_reply.started": "2022-09-05T18:51:48.284398Z"
    },
    "vscode": {
     "languageId": "python"
    }
   },
   "outputs": [],
   "source": [
    "# Save the SeqData with predictions and interpretations\n",
    "sdata_test.write_h5sd(os.path.join(eu.settings.output_dir, \"norm_test_predictions_and_intepretations.h5sd\"))"
   ]
  },
  {
   "cell_type": "markdown",
   "metadata": {},
   "source": [
    "---"
   ]
  },
  {
   "cell_type": "markdown",
   "metadata": {},
   "source": [
    "# Scratch"
   ]
  }
 ],
 "metadata": {
  "kernelspec": {
   "display_name": "Python 3.7 eugene_dev",
   "language": "python",
   "name": "eugene_dev"
  },
  "language_info": {
   "codemirror_mode": {
    "name": "ipython",
    "version": 3
   },
   "file_extension": ".py",
   "mimetype": "text/x-python",
   "name": "python",
   "nbconvert_exporter": "python",
   "pygments_lexer": "ipython3",
   "version": "3.7.12"
  },
  "vscode": {
   "interpreter": {
    "hash": "949777d72b0d2535278d3dc13498b2535136f6dfe0678499012e853ee9abcab1"
   }
  }
 },
 "nbformat": 4,
 "nbformat_minor": 4
}
