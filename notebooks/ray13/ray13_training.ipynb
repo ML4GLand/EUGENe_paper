{
 "cells": [
  {
   "attachments": {},
   "cell_type": "markdown",
   "metadata": {},
   "source": [
    "# Ray et al 2013 Training \n",
    "**Authorship:**\n",
    "Adam Klie, *06/07/2023*\n",
    "***\n",
    "**Description:**\n",
    "Notebook to perform simple training of *single task* and *multitask* models on the Ray et al (2013) dataset.\n",
    "Also take a look at the `ray13_training_ST.py` script for usage. The script was run because all 244 models took several hours to train.\n",
    "***"
   ]
  },
  {
   "cell_type": "code",
   "execution_count": 9,
   "metadata": {},
   "outputs": [
    {
     "name": "stdout",
     "output_type": "stream",
     "text": [
      "Python version: 3.9.16 | packaged by conda-forge | (main, Feb  1 2023, 21:39:03) \n",
      "[GCC 11.3.0]\n",
      "NumPy version: 1.23.5\n",
      "Pandas version: 1.5.2\n",
      "Eugene version: 0.0.8\n",
      "PyTorch version: 2.0.0\n",
      "PyTorch Lightning version: 2.0.0\n"
     ]
    }
   ],
   "source": [
    "# General imports\n",
    "import os\n",
    "import sys\n",
    "import torch\n",
    "import numpy as np\n",
    "import pandas as pd\n",
    "from copy import deepcopy \n",
    "import pytorch_lightning\n",
    "\n",
    "# EUGENe imports and settings\n",
    "import eugene as eu\n",
    "from eugene import models\n",
    "from eugene.models import zoo\n",
    "from eugene import train\n",
    "from eugene import evaluate\n",
    "from eugene import settings\n",
    "settings.dataset_dir = \"/cellar/users/aklie/data/eugene/revision/ray13\"\n",
    "settings.output_dir = \"/cellar/users/aklie/projects/ML4GLand/EUGENe_paper/output/revision/ray13\"\n",
    "settings.logging_dir = \"/cellar/users/aklie/projects/ML4GLand/EUGENe_paper/logs/revision/ray13\"\n",
    "settings.config_dir = \"/cellar/users/aklie/projects/ML4GLand/EUGENe_paper/configs/ray13\"\n",
    "\n",
    "# EUGENe packages\n",
    "import seqdata as sd\n",
    "\n",
    "# Print versions\n",
    "print(f\"Python version: {sys.version}\")\n",
    "print(f\"NumPy version: {np.__version__}\")\n",
    "print(f\"Pandas version: {pd.__version__}\")\n",
    "print(f\"Eugene version: {eu.__version__}\")\n",
    "#print(f\"SeqData version: {sd.__version__}\")\n",
    "print(f\"PyTorch version: {torch.__version__}\")\n",
    "print(f\"PyTorch Lightning version: {pytorch_lightning.__version__}\")\n"
   ]
  },
  {
   "attachments": {},
   "cell_type": "markdown",
   "metadata": {
    "tags": []
   },
   "source": [
    "# Load in the SetA training `SeqData`'s for single task and multi-task models"
   ]
  },
  {
   "cell_type": "code",
   "execution_count": 39,
   "metadata": {},
   "outputs": [],
   "source": [
    "# Load in the training SetA processed data for single task and multitask models\n",
    "sdata_training_ST = sd.open_zarr(os.path.join(settings.dataset_dir, \"norm_setA_ST.zarr\"))\n",
    "sdata_training_MT = sd.open_zarr(os.path.join(settings.dataset_dir, \"norm_setA_MT.zarr\"))"
   ]
  },
  {
   "cell_type": "code",
   "execution_count": 40,
   "metadata": {
    "tags": []
   },
   "outputs": [],
   "source": [
    "# Grab the prediction columns for single task and multitask\n",
    "ST_keys = pd.Index(sdata_training_ST.data_vars.keys())\n",
    "target_mask_ST = ST_keys.str.contains(\"RNCMPT\")\n",
    "target_cols_ST = ST_keys[target_mask_ST]\n",
    "MT_keys = pd.Index(sdata_training_MT.data_vars.keys())\n",
    "target_mask_MT = MT_keys.str.contains(\"RNCMPT\")\n",
    "target_cols_MT = MT_keys[target_mask_MT]"
   ]
  },
  {
   "attachments": {},
   "cell_type": "markdown",
   "metadata": {},
   "source": [
    "# Train single task models"
   ]
  },
  {
   "cell_type": "code",
   "execution_count": 41,
   "metadata": {
    "tags": []
   },
   "outputs": [],
   "source": [
    "# Instantiation function\n",
    "from pytorch_lightning import seed_everything\n",
    "def prep_new_model(\n",
    "    seed,\n",
    "    conv_dropout = 0,\n",
    "    dense_dropout = 0,\n",
    "    batchnorm = True\n",
    "):\n",
    "    # Set a seed\n",
    "    seed_everything(seed)\n",
    "\n",
    "    model = models.zoo.DeepBind(\n",
    "        input_len=41, # Length of padded sequences\n",
    "        output_dim=1, # Number of multitask outputs\n",
    "        conv_kwargs=dict(input_channels=4, conv_channels=[16], conv_kernels=[16], dropout_rates=conv_dropout, batchnorm=batchnorm),\n",
    "        dense_kwargs=dict(hidden_dims=[32], dropout_rates=dense_dropout, batchnorm=batchnorm),\n",
    "    )\n",
    "    \n",
    "    # Initialize the model prior to conv filter initialization\n",
    "    models.init_weights(model)\n",
    "\n",
    "    module = models.SequenceModule(\n",
    "        arch=model,\n",
    "        task=\"regression\",\n",
    "        loss_fxn=\"mse\",\n",
    "        optimizer=\"adam\",\n",
    "        optimizer_lr=0.0005,\n",
    "        scheduler_kwargs=dict(patience=2)\n",
    "    )\n",
    "\n",
    "    # Return the model\n",
    "    return module"
   ]
  },
  {
   "cell_type": "code",
   "execution_count": 42,
   "metadata": {},
   "outputs": [
    {
     "name": "stderr",
     "output_type": "stream",
     "text": [
      "[rank: 0] Global seed set to 13\n"
     ]
    }
   ],
   "source": [
    "model = prep_new_model(seed=13, conv_dropout=0.5, dense_dropout=0.5, batchnorm=True)"
   ]
  },
  {
   "cell_type": "code",
   "execution_count": 43,
   "metadata": {
    "tags": []
   },
   "outputs": [
    {
     "name": "stderr",
     "output_type": "stream",
     "text": [
      "[rank: 0] Global seed set to 0\n"
     ]
    },
    {
     "name": "stdout",
     "output_type": "stream",
     "text": [
      "Training DeepBind SingleTask model on RNCMPT00001\n",
      "Dropping 610 sequences with NaN targets.\n",
      "Loading ohe_seq and ['RNCMPT00001'] into memory\n"
     ]
    },
    {
     "name": "stderr",
     "output_type": "stream",
     "text": [
      "[rank: 0] Global seed set to 0\n",
      "/cellar/users/aklie/opt/miniconda3/envs/ml4gland/lib/python3.9/site-packages/lightning_fabric/plugins/environments/slurm.py:165: PossibleUserWarning: The `srun` command is available on your system but is not used. HINT: If your intention is to run Lightning on SLURM, prepend your python command with `srun` like so: srun python /cellar/users/aklie/opt/miniconda3/envs/ml4gland/lib ...\n",
      "  rank_zero_warn(\n",
      "GPU available: True (cuda), used: True\n",
      "TPU available: False, using: 0 TPU cores\n",
      "IPU available: False, using: 0 IPUs\n",
      "HPU available: False, using: 0 HPUs\n",
      "LOCAL_RANK: 0 - CUDA_VISIBLE_DEVICES: [0]\n",
      "\n",
      "  | Name         | Type     | Params\n",
      "------------------------------------------\n",
      "0 | arch         | DeepBind | 2.2 K \n",
      "1 | train_metric | R2Score  | 0     \n",
      "2 | val_metric   | R2Score  | 0     \n",
      "3 | test_metric  | R2Score  | 0     \n",
      "------------------------------------------\n",
      "2.2 K     Trainable params\n",
      "0         Non-trainable params\n",
      "2.2 K     Total params\n",
      "0.009     Total estimated model params size (MB)\n"
     ]
    },
    {
     "data": {
      "application/vnd.jupyter.widget-view+json": {
       "model_id": "3d622fa9497542ea96d2a35b06bf91b0",
       "version_major": 2,
       "version_minor": 0
      },
      "text/plain": [
       "Sanity Checking: 0it [00:00, ?it/s]"
      ]
     },
     "metadata": {},
     "output_type": "display_data"
    },
    {
     "data": {
      "application/vnd.jupyter.widget-view+json": {
       "model_id": "615dbf4aa54b4b0f87ac75227e34a766",
       "version_major": 2,
       "version_minor": 0
      },
      "text/plain": [
       "Training: 0it [00:00, ?it/s]"
      ]
     },
     "metadata": {},
     "output_type": "display_data"
    },
    {
     "data": {
      "application/vnd.jupyter.widget-view+json": {
       "model_id": "2cf083807d044651ba331dbf98ba55e7",
       "version_major": 2,
       "version_minor": 0
      },
      "text/plain": [
       "Validation: 0it [00:00, ?it/s]"
      ]
     },
     "metadata": {},
     "output_type": "display_data"
    },
    {
     "data": {
      "application/vnd.jupyter.widget-view+json": {
       "model_id": "7fd8075af6964592a51600743e124643",
       "version_major": 2,
       "version_minor": 0
      },
      "text/plain": [
       "Validation: 0it [00:00, ?it/s]"
      ]
     },
     "metadata": {},
     "output_type": "display_data"
    },
    {
     "data": {
      "application/vnd.jupyter.widget-view+json": {
       "model_id": "03dd61147e364912812f27d716fe3db6",
       "version_major": 2,
       "version_minor": 0
      },
      "text/plain": [
       "Validation: 0it [00:00, ?it/s]"
      ]
     },
     "metadata": {},
     "output_type": "display_data"
    },
    {
     "data": {
      "application/vnd.jupyter.widget-view+json": {
       "model_id": "e72176f7ac6a44c09320c907c38b9573",
       "version_major": 2,
       "version_minor": 0
      },
      "text/plain": [
       "Validation: 0it [00:00, ?it/s]"
      ]
     },
     "metadata": {},
     "output_type": "display_data"
    },
    {
     "data": {
      "application/vnd.jupyter.widget-view+json": {
       "model_id": "f4ac27e360474739a115d5dda888cc80",
       "version_major": 2,
       "version_minor": 0
      },
      "text/plain": [
       "Validation: 0it [00:00, ?it/s]"
      ]
     },
     "metadata": {},
     "output_type": "display_data"
    },
    {
     "name": "stderr",
     "output_type": "stream",
     "text": [
      "`Trainer.fit` stopped: `max_epochs=5` reached.\n"
     ]
    },
    {
     "name": "stdout",
     "output_type": "stream",
     "text": [
      "0x15542b5bb0b0\n",
      "Loading ohe_seq and ['RNCMPT00001'] into memory\n"
     ]
    },
    {
     "name": "stderr",
     "output_type": "stream",
     "text": [
      "/cellar/users/aklie/opt/miniconda3/envs/ml4gland/lib/python3.9/site-packages/lightning_fabric/plugins/environments/slurm.py:165: PossibleUserWarning: The `srun` command is available on your system but is not used. HINT: If your intention is to run Lightning on SLURM, prepend your python command with `srun` like so: srun python /cellar/users/aklie/opt/miniconda3/envs/ml4gland/lib ...\n",
      "  rank_zero_warn(\n",
      "GPU available: True (cuda), used: True\n",
      "TPU available: False, using: 0 TPU cores\n",
      "IPU available: False, using: 0 IPUs\n",
      "HPU available: False, using: 0 HPUs\n",
      "GPU available: True (cuda), used: True\n",
      "TPU available: False, using: 0 TPU cores\n",
      "IPU available: False, using: 0 IPUs\n",
      "HPU available: False, using: 0 HPUs\n",
      "LOCAL_RANK: 0 - CUDA_VISIBLE_DEVICES: [0]\n"
     ]
    },
    {
     "data": {
      "application/vnd.jupyter.widget-view+json": {
       "model_id": "e3ad797fefc94b6bb1e27f7b1d665ba7",
       "version_major": 2,
       "version_minor": 0
      },
      "text/plain": [
       "Predicting: 0it [00:00, ?it/s]"
      ]
     },
     "metadata": {},
     "output_type": "display_data"
    },
    {
     "name": "stderr",
     "output_type": "stream",
     "text": [
      "/cellar/users/aklie/opt/miniconda3/envs/ml4gland/lib/python3.9/site-packages/lightning_fabric/plugins/environments/slurm.py:165: PossibleUserWarning: The `srun` command is available on your system but is not used. HINT: If your intention is to run Lightning on SLURM, prepend your python command with `srun` like so: srun python /cellar/users/aklie/opt/miniconda3/envs/ml4gland/lib ...\n",
      "  rank_zero_warn(\n",
      "LOCAL_RANK: 0 - CUDA_VISIBLE_DEVICES: [0]\n"
     ]
    },
    {
     "data": {
      "application/vnd.jupyter.widget-view+json": {
       "model_id": "3ffa8479639e4ba2855e17b0deb989d7",
       "version_major": 2,
       "version_minor": 0
      },
      "text/plain": [
       "Predicting: 0it [00:00, ?it/s]"
      ]
     },
     "metadata": {},
     "output_type": "display_data"
    },
    {
     "name": "stdout",
     "output_type": "stream",
     "text": [
      "Adding RNCMPT00001_predictions_ST to sdata\n"
     ]
    }
   ],
   "source": [
    "# Train a model on each target prediction!\n",
    "for i, target_col in enumerate(target_cols_ST[:1]):\n",
    "    print(f\"Training DeepBind SingleTask model on {target_col}\")\n",
    "\n",
    "    # Initialize the model\n",
    "    model = prep_new_model(seed=i, conv_dropout=0.5, dense_dropout=0.5, batchnorm=True)\n",
    "\n",
    "    # Fit the model\n",
    "    train.fit_sequence_module(\n",
    "        model,\n",
    "        sdata_training_ST,\n",
    "        seq_key=\"ohe_seq\",\n",
    "        target_keys=target_col,\n",
    "        in_memory=True,\n",
    "        train_key=\"train_val\",\n",
    "        epochs=5,\n",
    "        batch_size=100,\n",
    "        num_workers=4,\n",
    "        prefetch_factor=2,\n",
    "        drop_last=False,\n",
    "        early_stopping_patience=3,\n",
    "        name=\"DeepBind_ST\",\n",
    "        version=target_col,\n",
    "        transforms={\"ohe_seq\": lambda x: torch.tensor(x, dtype=torch.float32), \"target\": lambda x: torch.tensor(x, dtype=torch.float32)},\n",
    "        seed=i\n",
    "    )\n",
    "\n",
    "    evaluate.train_val_predictions_sequence_module(\n",
    "        model,\n",
    "        sdata=sdata_training_ST,\n",
    "        seq_key=\"ohe_seq\",\n",
    "        target_keys=target_col,\n",
    "        in_memory=True,\n",
    "        train_key=\"train_val\",\n",
    "        batch_size=1024,\n",
    "        num_workers=4,\n",
    "        prefetch_factor=2,\n",
    "        name=\"DeepBind_ST\",\n",
    "        version=target_col,\n",
    "        transforms={\"ohe_seq\": lambda x: torch.tensor(x, dtype=torch.float32), \"target\": lambda x: torch.tensor(x, dtype=torch.float32)},\n",
    "        suffix=\"_ST\"\n",
    "    )\n",
    "\n",
    "# Save the predictions!\n",
    "sd.to_zarr(sdata_training_ST, os.path.join(settings.output_dir, f\"norm_setA_predictions_ST.zarr\"), load_first=True, mode=\"w\")"
   ]
  },
  {
   "attachments": {},
   "cell_type": "markdown",
   "metadata": {},
   "source": [
    "# Train multi-task model"
   ]
  },
  {
   "cell_type": "code",
   "execution_count": 44,
   "metadata": {
    "tags": []
   },
   "outputs": [],
   "source": [
    "# Define the version for saving\n",
    "model_version = 0"
   ]
  },
  {
   "cell_type": "code",
   "execution_count": 45,
   "metadata": {},
   "outputs": [],
   "source": [
    "arch = models.zoo.DeepBind(\n",
    "    input_len=41, # Length of padded sequences\n",
    "    output_dim=len(target_cols_MT), # Number of multitask outputs\n",
    "    conv_kwargs=dict(input_channels=4, conv_channels=[1024], conv_kernels=[16], dropout_rates=0.25, batchnorm=0.25),\n",
    "    dense_kwargs=dict(hidden_dims=[512], dropout_rates=0.25, batchnorm=True),\n",
    ")\n",
    "\n",
    "# Initialize the model prior to conv filter initialization\n",
    "models.init_weights(arch)\n",
    "\n",
    "model = models.SequenceModule(\n",
    "    arch=arch,\n",
    "    task=\"regression\",\n",
    "    loss_fxn=\"mse\",\n",
    "    optimizer=\"adam\",\n",
    "    optimizer_lr=0.0005,\n",
    "    scheduler_kwargs=dict(patience=2)\n",
    ")"
   ]
  },
  {
   "cell_type": "code",
   "execution_count": 46,
   "metadata": {},
   "outputs": [
    {
     "name": "stdout",
     "output_type": "stream",
     "text": [
      "Dropping 0 sequences with NaN targets.\n",
      "Loading ohe_seq and Index(['RNCMPT00001', 'RNCMPT00002', 'RNCMPT00003', 'RNCMPT00004',\n",
      "       'RNCMPT00005', 'RNCMPT00006', 'RNCMPT00007', 'RNCMPT00010',\n",
      "       'RNCMPT00011', 'RNCMPT00012',\n",
      "       ...\n",
      "       'RNCMPT00280', 'RNCMPT00281', 'RNCMPT00282', 'RNCMPT00283',\n",
      "       'RNCMPT00284', 'RNCMPT00285', 'RNCMPT00287', 'RNCMPT00288',\n",
      "       'RNCMPT00289', 'RNCMPT00291'],\n",
      "      dtype='object', length=233) into memory\n"
     ]
    },
    {
     "name": "stderr",
     "output_type": "stream",
     "text": [
      "[rank: 0] Global seed set to 42\n",
      "/cellar/users/aklie/opt/miniconda3/envs/ml4gland/lib/python3.9/site-packages/lightning_fabric/plugins/environments/slurm.py:165: PossibleUserWarning: The `srun` command is available on your system but is not used. HINT: If your intention is to run Lightning on SLURM, prepend your python command with `srun` like so: srun python /cellar/users/aklie/opt/miniconda3/envs/ml4gland/lib ...\n",
      "  rank_zero_warn(\n",
      "GPU available: True (cuda), used: True\n",
      "TPU available: False, using: 0 TPU cores\n",
      "IPU available: False, using: 0 IPUs\n",
      "HPU available: False, using: 0 HPUs\n",
      "LOCAL_RANK: 0 - CUDA_VISIBLE_DEVICES: [0]\n",
      "\n",
      "  | Name         | Type     | Params\n",
      "------------------------------------------\n",
      "0 | arch         | DeepBind | 1.2 M \n",
      "1 | train_metric | R2Score  | 0     \n",
      "2 | val_metric   | R2Score  | 0     \n",
      "3 | test_metric  | R2Score  | 0     \n",
      "------------------------------------------\n",
      "1.2 M     Trainable params\n",
      "0         Non-trainable params\n",
      "1.2 M     Total params\n",
      "4.953     Total estimated model params size (MB)\n"
     ]
    },
    {
     "data": {
      "application/vnd.jupyter.widget-view+json": {
       "model_id": "efb0dddace5447e39bda331060e6c7e8",
       "version_major": 2,
       "version_minor": 0
      },
      "text/plain": [
       "Sanity Checking: 0it [00:00, ?it/s]"
      ]
     },
     "metadata": {},
     "output_type": "display_data"
    },
    {
     "data": {
      "application/vnd.jupyter.widget-view+json": {
       "model_id": "179eb5f8280844eba43c7c51beae7446",
       "version_major": 2,
       "version_minor": 0
      },
      "text/plain": [
       "Training: 0it [00:00, ?it/s]"
      ]
     },
     "metadata": {},
     "output_type": "display_data"
    },
    {
     "data": {
      "application/vnd.jupyter.widget-view+json": {
       "model_id": "567aebd41d6e460db42f326a5f7f3cfa",
       "version_major": 2,
       "version_minor": 0
      },
      "text/plain": [
       "Validation: 0it [00:00, ?it/s]"
      ]
     },
     "metadata": {},
     "output_type": "display_data"
    },
    {
     "data": {
      "application/vnd.jupyter.widget-view+json": {
       "model_id": "203f39b775744b5d8032faddd91ed112",
       "version_major": 2,
       "version_minor": 0
      },
      "text/plain": [
       "Validation: 0it [00:00, ?it/s]"
      ]
     },
     "metadata": {},
     "output_type": "display_data"
    },
    {
     "data": {
      "application/vnd.jupyter.widget-view+json": {
       "model_id": "a1e23ec3e6e349939bb206d8318d38d8",
       "version_major": 2,
       "version_minor": 0
      },
      "text/plain": [
       "Validation: 0it [00:00, ?it/s]"
      ]
     },
     "metadata": {},
     "output_type": "display_data"
    },
    {
     "data": {
      "application/vnd.jupyter.widget-view+json": {
       "model_id": "1088c5e6bc2042b68461ea1e57b2d5e7",
       "version_major": 2,
       "version_minor": 0
      },
      "text/plain": [
       "Validation: 0it [00:00, ?it/s]"
      ]
     },
     "metadata": {},
     "output_type": "display_data"
    },
    {
     "data": {
      "application/vnd.jupyter.widget-view+json": {
       "model_id": "3c345144026544a8962c516e347d42ab",
       "version_major": 2,
       "version_minor": 0
      },
      "text/plain": [
       "Validation: 0it [00:00, ?it/s]"
      ]
     },
     "metadata": {},
     "output_type": "display_data"
    },
    {
     "data": {
      "application/vnd.jupyter.widget-view+json": {
       "model_id": "92f500ffb1ba4f1a9f1b7dee6e1c559f",
       "version_major": 2,
       "version_minor": 0
      },
      "text/plain": [
       "Validation: 0it [00:00, ?it/s]"
      ]
     },
     "metadata": {},
     "output_type": "display_data"
    },
    {
     "data": {
      "application/vnd.jupyter.widget-view+json": {
       "model_id": "391edd96971e4ec29661d0d591d40d63",
       "version_major": 2,
       "version_minor": 0
      },
      "text/plain": [
       "Validation: 0it [00:00, ?it/s]"
      ]
     },
     "metadata": {},
     "output_type": "display_data"
    },
    {
     "data": {
      "application/vnd.jupyter.widget-view+json": {
       "model_id": "0645b6b24cfa4225a963689f64199b04",
       "version_major": 2,
       "version_minor": 0
      },
      "text/plain": [
       "Validation: 0it [00:00, ?it/s]"
      ]
     },
     "metadata": {},
     "output_type": "display_data"
    },
    {
     "data": {
      "application/vnd.jupyter.widget-view+json": {
       "model_id": "9dc7010ff49e4520b3abc97b51de8b53",
       "version_major": 2,
       "version_minor": 0
      },
      "text/plain": [
       "Validation: 0it [00:00, ?it/s]"
      ]
     },
     "metadata": {},
     "output_type": "display_data"
    },
    {
     "data": {
      "application/vnd.jupyter.widget-view+json": {
       "model_id": "e3a7dde6a58c41c3a1c908438f5b23f6",
       "version_major": 2,
       "version_minor": 0
      },
      "text/plain": [
       "Validation: 0it [00:00, ?it/s]"
      ]
     },
     "metadata": {},
     "output_type": "display_data"
    },
    {
     "data": {
      "application/vnd.jupyter.widget-view+json": {
       "model_id": "32b1f1bcb0bb4e12ac3f4ce0ee1fd989",
       "version_major": 2,
       "version_minor": 0
      },
      "text/plain": [
       "Validation: 0it [00:00, ?it/s]"
      ]
     },
     "metadata": {},
     "output_type": "display_data"
    },
    {
     "data": {
      "application/vnd.jupyter.widget-view+json": {
       "model_id": "217040020965487d8afd958eb9d5fc98",
       "version_major": 2,
       "version_minor": 0
      },
      "text/plain": [
       "Validation: 0it [00:00, ?it/s]"
      ]
     },
     "metadata": {},
     "output_type": "display_data"
    },
    {
     "data": {
      "application/vnd.jupyter.widget-view+json": {
       "model_id": "1ed74695688a49cb8b504bf757d81168",
       "version_major": 2,
       "version_minor": 0
      },
      "text/plain": [
       "Validation: 0it [00:00, ?it/s]"
      ]
     },
     "metadata": {},
     "output_type": "display_data"
    },
    {
     "data": {
      "application/vnd.jupyter.widget-view+json": {
       "model_id": "b95bb4448ffb40d387a9af278b0644c6",
       "version_major": 2,
       "version_minor": 0
      },
      "text/plain": [
       "Validation: 0it [00:00, ?it/s]"
      ]
     },
     "metadata": {},
     "output_type": "display_data"
    },
    {
     "data": {
      "application/vnd.jupyter.widget-view+json": {
       "model_id": "fe5abdcd617840ef98607b071cedd485",
       "version_major": 2,
       "version_minor": 0
      },
      "text/plain": [
       "Validation: 0it [00:00, ?it/s]"
      ]
     },
     "metadata": {},
     "output_type": "display_data"
    },
    {
     "data": {
      "application/vnd.jupyter.widget-view+json": {
       "model_id": "5de49dc7c79f4770a16e1cb0f1eeb9d8",
       "version_major": 2,
       "version_minor": 0
      },
      "text/plain": [
       "Validation: 0it [00:00, ?it/s]"
      ]
     },
     "metadata": {},
     "output_type": "display_data"
    },
    {
     "data": {
      "application/vnd.jupyter.widget-view+json": {
       "model_id": "0a7c889a9dc04945b61c7adc2cc692ec",
       "version_major": 2,
       "version_minor": 0
      },
      "text/plain": [
       "Validation: 0it [00:00, ?it/s]"
      ]
     },
     "metadata": {},
     "output_type": "display_data"
    },
    {
     "data": {
      "application/vnd.jupyter.widget-view+json": {
       "model_id": "c189fbf92e634a539f67bf57402c5ead",
       "version_major": 2,
       "version_minor": 0
      },
      "text/plain": [
       "Validation: 0it [00:00, ?it/s]"
      ]
     },
     "metadata": {},
     "output_type": "display_data"
    },
    {
     "data": {
      "application/vnd.jupyter.widget-view+json": {
       "model_id": "03a8455c7a1c4d378f63da290c318cbb",
       "version_major": 2,
       "version_minor": 0
      },
      "text/plain": [
       "Validation: 0it [00:00, ?it/s]"
      ]
     },
     "metadata": {},
     "output_type": "display_data"
    },
    {
     "data": {
      "application/vnd.jupyter.widget-view+json": {
       "model_id": "0b16f1d1405e4b8a808308138234ce19",
       "version_major": 2,
       "version_minor": 0
      },
      "text/plain": [
       "Validation: 0it [00:00, ?it/s]"
      ]
     },
     "metadata": {},
     "output_type": "display_data"
    },
    {
     "data": {
      "application/vnd.jupyter.widget-view+json": {
       "model_id": "dff75ec3a99b4472b4d7317f17efc1e5",
       "version_major": 2,
       "version_minor": 0
      },
      "text/plain": [
       "Validation: 0it [00:00, ?it/s]"
      ]
     },
     "metadata": {},
     "output_type": "display_data"
    },
    {
     "data": {
      "application/vnd.jupyter.widget-view+json": {
       "model_id": "f932bb6a1a4444e89855e66b0108fa58",
       "version_major": 2,
       "version_minor": 0
      },
      "text/plain": [
       "Validation: 0it [00:00, ?it/s]"
      ]
     },
     "metadata": {},
     "output_type": "display_data"
    },
    {
     "data": {
      "application/vnd.jupyter.widget-view+json": {
       "model_id": "fa95d475f08f4f4fabff2a53324051f6",
       "version_major": 2,
       "version_minor": 0
      },
      "text/plain": [
       "Validation: 0it [00:00, ?it/s]"
      ]
     },
     "metadata": {},
     "output_type": "display_data"
    },
    {
     "data": {
      "application/vnd.jupyter.widget-view+json": {
       "model_id": "3c6dff27129d4cbdbf41dc6b0f3b53b3",
       "version_major": 2,
       "version_minor": 0
      },
      "text/plain": [
       "Validation: 0it [00:00, ?it/s]"
      ]
     },
     "metadata": {},
     "output_type": "display_data"
    },
    {
     "data": {
      "application/vnd.jupyter.widget-view+json": {
       "model_id": "59a546a6904047c0a286e574a01ecaf8",
       "version_major": 2,
       "version_minor": 0
      },
      "text/plain": [
       "Validation: 0it [00:00, ?it/s]"
      ]
     },
     "metadata": {},
     "output_type": "display_data"
    },
    {
     "data": {
      "application/vnd.jupyter.widget-view+json": {
       "model_id": "92011df692374d45b8ece4e96976e494",
       "version_major": 2,
       "version_minor": 0
      },
      "text/plain": [
       "Validation: 0it [00:00, ?it/s]"
      ]
     },
     "metadata": {},
     "output_type": "display_data"
    },
    {
     "data": {
      "application/vnd.jupyter.widget-view+json": {
       "model_id": "f5c321dc75e446a89408881f6d74cbd5",
       "version_major": 2,
       "version_minor": 0
      },
      "text/plain": [
       "Validation: 0it [00:00, ?it/s]"
      ]
     },
     "metadata": {},
     "output_type": "display_data"
    },
    {
     "data": {
      "application/vnd.jupyter.widget-view+json": {
       "model_id": "eb3565c3ba9a496ca81840f5924eb25c",
       "version_major": 2,
       "version_minor": 0
      },
      "text/plain": [
       "Validation: 0it [00:00, ?it/s]"
      ]
     },
     "metadata": {},
     "output_type": "display_data"
    },
    {
     "data": {
      "application/vnd.jupyter.widget-view+json": {
       "model_id": "5ab90c5216764d89b2b53786995bd1e1",
       "version_major": 2,
       "version_minor": 0
      },
      "text/plain": [
       "Validation: 0it [00:00, ?it/s]"
      ]
     },
     "metadata": {},
     "output_type": "display_data"
    },
    {
     "data": {
      "application/vnd.jupyter.widget-view+json": {
       "model_id": "8f43d967987c4620b75652a8b6e07cec",
       "version_major": 2,
       "version_minor": 0
      },
      "text/plain": [
       "Validation: 0it [00:00, ?it/s]"
      ]
     },
     "metadata": {},
     "output_type": "display_data"
    },
    {
     "data": {
      "application/vnd.jupyter.widget-view+json": {
       "model_id": "db5b45c7951244aeafde566994235a20",
       "version_major": 2,
       "version_minor": 0
      },
      "text/plain": [
       "Validation: 0it [00:00, ?it/s]"
      ]
     },
     "metadata": {},
     "output_type": "display_data"
    },
    {
     "data": {
      "application/vnd.jupyter.widget-view+json": {
       "model_id": "48395f5eb35f461ab54c42a32c78bf0b",
       "version_major": 2,
       "version_minor": 0
      },
      "text/plain": [
       "Validation: 0it [00:00, ?it/s]"
      ]
     },
     "metadata": {},
     "output_type": "display_data"
    },
    {
     "data": {
      "application/vnd.jupyter.widget-view+json": {
       "model_id": "358706232aa742d0bea8951ae71e9bfa",
       "version_major": 2,
       "version_minor": 0
      },
      "text/plain": [
       "Validation: 0it [00:00, ?it/s]"
      ]
     },
     "metadata": {},
     "output_type": "display_data"
    },
    {
     "name": "stdout",
     "output_type": "stream",
     "text": [
      "0x15542b5bb9e0\n",
      "Loading ohe_seq and Index(['RNCMPT00001', 'RNCMPT00002', 'RNCMPT00003', 'RNCMPT00004',\n",
      "       'RNCMPT00005', 'RNCMPT00006', 'RNCMPT00007', 'RNCMPT00010',\n",
      "       'RNCMPT00011', 'RNCMPT00012',\n",
      "       ...\n",
      "       'RNCMPT00280', 'RNCMPT00281', 'RNCMPT00282', 'RNCMPT00283',\n",
      "       'RNCMPT00284', 'RNCMPT00285', 'RNCMPT00287', 'RNCMPT00288',\n",
      "       'RNCMPT00289', 'RNCMPT00291'],\n",
      "      dtype='object', length=233) into memory\n"
     ]
    },
    {
     "name": "stderr",
     "output_type": "stream",
     "text": [
      "/cellar/users/aklie/opt/miniconda3/envs/ml4gland/lib/python3.9/site-packages/lightning_fabric/plugins/environments/slurm.py:165: PossibleUserWarning: The `srun` command is available on your system but is not used. HINT: If your intention is to run Lightning on SLURM, prepend your python command with `srun` like so: srun python /cellar/users/aklie/opt/miniconda3/envs/ml4gland/lib ...\n",
      "  rank_zero_warn(\n",
      "GPU available: True (cuda), used: True\n",
      "TPU available: False, using: 0 TPU cores\n",
      "IPU available: False, using: 0 IPUs\n",
      "HPU available: False, using: 0 HPUs\n",
      "GPU available: True (cuda), used: True\n",
      "TPU available: False, using: 0 TPU cores\n",
      "IPU available: False, using: 0 IPUs\n",
      "HPU available: False, using: 0 HPUs\n",
      "LOCAL_RANK: 0 - CUDA_VISIBLE_DEVICES: [0]\n"
     ]
    },
    {
     "data": {
      "application/vnd.jupyter.widget-view+json": {
       "model_id": "7ea6dcac5ce24310a055d90fefe94db9",
       "version_major": 2,
       "version_minor": 0
      },
      "text/plain": [
       "Predicting: 0it [00:00, ?it/s]"
      ]
     },
     "metadata": {},
     "output_type": "display_data"
    },
    {
     "name": "stderr",
     "output_type": "stream",
     "text": [
      "/cellar/users/aklie/opt/miniconda3/envs/ml4gland/lib/python3.9/site-packages/lightning_fabric/plugins/environments/slurm.py:165: PossibleUserWarning: The `srun` command is available on your system but is not used. HINT: If your intention is to run Lightning on SLURM, prepend your python command with `srun` like so: srun python /cellar/users/aklie/opt/miniconda3/envs/ml4gland/lib ...\n",
      "  rank_zero_warn(\n",
      "LOCAL_RANK: 0 - CUDA_VISIBLE_DEVICES: [0]\n"
     ]
    },
    {
     "data": {
      "application/vnd.jupyter.widget-view+json": {
       "model_id": "060a15615fb440e5bf6989269e986a0b",
       "version_major": 2,
       "version_minor": 0
      },
      "text/plain": [
       "Predicting: 0it [00:00, ?it/s]"
      ]
     },
     "metadata": {},
     "output_type": "display_data"
    },
    {
     "name": "stdout",
     "output_type": "stream",
     "text": [
      "Adding RNCMPT00001_predictions_MT to sdata\n",
      "Adding RNCMPT00002_predictions_MT to sdata\n",
      "Adding RNCMPT00003_predictions_MT to sdata\n",
      "Adding RNCMPT00004_predictions_MT to sdata\n",
      "Adding RNCMPT00005_predictions_MT to sdata\n",
      "Adding RNCMPT00006_predictions_MT to sdata\n",
      "Adding RNCMPT00007_predictions_MT to sdata\n",
      "Adding RNCMPT00010_predictions_MT to sdata\n",
      "Adding RNCMPT00011_predictions_MT to sdata\n",
      "Adding RNCMPT00012_predictions_MT to sdata\n",
      "Adding RNCMPT00013_predictions_MT to sdata\n",
      "Adding RNCMPT00014_predictions_MT to sdata\n",
      "Adding RNCMPT00016_predictions_MT to sdata\n",
      "Adding RNCMPT00017_predictions_MT to sdata\n",
      "Adding RNCMPT00018_predictions_MT to sdata\n",
      "Adding RNCMPT00019_predictions_MT to sdata\n",
      "Adding RNCMPT00020_predictions_MT to sdata\n",
      "Adding RNCMPT00021_predictions_MT to sdata\n",
      "Adding RNCMPT00022_predictions_MT to sdata\n",
      "Adding RNCMPT00023_predictions_MT to sdata\n",
      "Adding RNCMPT00024_predictions_MT to sdata\n",
      "Adding RNCMPT00025_predictions_MT to sdata\n",
      "Adding RNCMPT00026_predictions_MT to sdata\n",
      "Adding RNCMPT00027_predictions_MT to sdata\n",
      "Adding RNCMPT00028_predictions_MT to sdata\n",
      "Adding RNCMPT00029_predictions_MT to sdata\n",
      "Adding RNCMPT00031_predictions_MT to sdata\n",
      "Adding RNCMPT00032_predictions_MT to sdata\n",
      "Adding RNCMPT00033_predictions_MT to sdata\n",
      "Adding RNCMPT00034_predictions_MT to sdata\n",
      "Adding RNCMPT00035_predictions_MT to sdata\n",
      "Adding RNCMPT00036_predictions_MT to sdata\n",
      "Adding RNCMPT00037_predictions_MT to sdata\n",
      "Adding RNCMPT00038_predictions_MT to sdata\n",
      "Adding RNCMPT00039_predictions_MT to sdata\n",
      "Adding RNCMPT00040_predictions_MT to sdata\n",
      "Adding RNCMPT00041_predictions_MT to sdata\n",
      "Adding RNCMPT00042_predictions_MT to sdata\n",
      "Adding RNCMPT00043_predictions_MT to sdata\n",
      "Adding RNCMPT00044_predictions_MT to sdata\n",
      "Adding RNCMPT00045_predictions_MT to sdata\n",
      "Adding RNCMPT00046_predictions_MT to sdata\n",
      "Adding RNCMPT00047_predictions_MT to sdata\n",
      "Adding RNCMPT00049_predictions_MT to sdata\n",
      "Adding RNCMPT00050_predictions_MT to sdata\n",
      "Adding RNCMPT00051_predictions_MT to sdata\n",
      "Adding RNCMPT00052_predictions_MT to sdata\n",
      "Adding RNCMPT00053_predictions_MT to sdata\n",
      "Adding RNCMPT00054_predictions_MT to sdata\n",
      "Adding RNCMPT00055_predictions_MT to sdata\n",
      "Adding RNCMPT00056_predictions_MT to sdata\n",
      "Adding RNCMPT00057_predictions_MT to sdata\n",
      "Adding RNCMPT00059_predictions_MT to sdata\n",
      "Adding RNCMPT00062_predictions_MT to sdata\n",
      "Adding RNCMPT00063_predictions_MT to sdata\n",
      "Adding RNCMPT00064_predictions_MT to sdata\n",
      "Adding RNCMPT00065_predictions_MT to sdata\n",
      "Adding RNCMPT00066_predictions_MT to sdata\n",
      "Adding RNCMPT00067_predictions_MT to sdata\n",
      "Adding RNCMPT00068_predictions_MT to sdata\n",
      "Adding RNCMPT00069_predictions_MT to sdata\n",
      "Adding RNCMPT00070_predictions_MT to sdata\n",
      "Adding RNCMPT00071_predictions_MT to sdata\n",
      "Adding RNCMPT00072_predictions_MT to sdata\n",
      "Adding RNCMPT00073_predictions_MT to sdata\n",
      "Adding RNCMPT00074_predictions_MT to sdata\n",
      "Adding RNCMPT00075_predictions_MT to sdata\n",
      "Adding RNCMPT00076_predictions_MT to sdata\n",
      "Adding RNCMPT00077_predictions_MT to sdata\n",
      "Adding RNCMPT00078_predictions_MT to sdata\n",
      "Adding RNCMPT00079_predictions_MT to sdata\n",
      "Adding RNCMPT00080_predictions_MT to sdata\n",
      "Adding RNCMPT00081_predictions_MT to sdata\n",
      "Adding RNCMPT00082_predictions_MT to sdata\n",
      "Adding RNCMPT00083_predictions_MT to sdata\n",
      "Adding RNCMPT00084_predictions_MT to sdata\n",
      "Adding RNCMPT00085_predictions_MT to sdata\n",
      "Adding RNCMPT00086_predictions_MT to sdata\n",
      "Adding RNCMPT00087_predictions_MT to sdata\n",
      "Adding RNCMPT00088_predictions_MT to sdata\n",
      "Adding RNCMPT00089_predictions_MT to sdata\n",
      "Adding RNCMPT00090_predictions_MT to sdata\n",
      "Adding RNCMPT00091_predictions_MT to sdata\n",
      "Adding RNCMPT00093_predictions_MT to sdata\n",
      "Adding RNCMPT00094_predictions_MT to sdata\n",
      "Adding RNCMPT00095_predictions_MT to sdata\n",
      "Adding RNCMPT00096_predictions_MT to sdata\n",
      "Adding RNCMPT00099_predictions_MT to sdata\n",
      "Adding RNCMPT00100_predictions_MT to sdata\n",
      "Adding RNCMPT00101_predictions_MT to sdata\n",
      "Adding RNCMPT00102_predictions_MT to sdata\n",
      "Adding RNCMPT00103_predictions_MT to sdata\n",
      "Adding RNCMPT00104_predictions_MT to sdata\n",
      "Adding RNCMPT00105_predictions_MT to sdata\n",
      "Adding RNCMPT00106_predictions_MT to sdata\n",
      "Adding RNCMPT00107_predictions_MT to sdata\n",
      "Adding RNCMPT00108_predictions_MT to sdata\n",
      "Adding RNCMPT00109_predictions_MT to sdata\n",
      "Adding RNCMPT00110_predictions_MT to sdata\n",
      "Adding RNCMPT00111_predictions_MT to sdata\n",
      "Adding RNCMPT00112_predictions_MT to sdata\n",
      "Adding RNCMPT00113_predictions_MT to sdata\n",
      "Adding RNCMPT00114_predictions_MT to sdata\n",
      "Adding RNCMPT00116_predictions_MT to sdata\n",
      "Adding RNCMPT00117_predictions_MT to sdata\n",
      "Adding RNCMPT00118_predictions_MT to sdata\n",
      "Adding RNCMPT00119_predictions_MT to sdata\n",
      "Adding RNCMPT00120_predictions_MT to sdata\n",
      "Adding RNCMPT00121_predictions_MT to sdata\n",
      "Adding RNCMPT00122_predictions_MT to sdata\n",
      "Adding RNCMPT00123_predictions_MT to sdata\n",
      "Adding RNCMPT00124_predictions_MT to sdata\n",
      "Adding RNCMPT00126_predictions_MT to sdata\n",
      "Adding RNCMPT00127_predictions_MT to sdata\n",
      "Adding RNCMPT00131_predictions_MT to sdata\n",
      "Adding RNCMPT00132_predictions_MT to sdata\n",
      "Adding RNCMPT00133_predictions_MT to sdata\n",
      "Adding RNCMPT00134_predictions_MT to sdata\n",
      "Adding RNCMPT00136_predictions_MT to sdata\n",
      "Adding RNCMPT00137_predictions_MT to sdata\n",
      "Adding RNCMPT00138_predictions_MT to sdata\n",
      "Adding RNCMPT00139_predictions_MT to sdata\n",
      "Adding RNCMPT00140_predictions_MT to sdata\n",
      "Adding RNCMPT00141_predictions_MT to sdata\n",
      "Adding RNCMPT00142_predictions_MT to sdata\n",
      "Adding RNCMPT00143_predictions_MT to sdata\n",
      "Adding RNCMPT00146_predictions_MT to sdata\n",
      "Adding RNCMPT00147_predictions_MT to sdata\n",
      "Adding RNCMPT00148_predictions_MT to sdata\n",
      "Adding RNCMPT00149_predictions_MT to sdata\n",
      "Adding RNCMPT00150_predictions_MT to sdata\n",
      "Adding RNCMPT00151_predictions_MT to sdata\n",
      "Adding RNCMPT00152_predictions_MT to sdata\n",
      "Adding RNCMPT00153_predictions_MT to sdata\n",
      "Adding RNCMPT00155_predictions_MT to sdata\n",
      "Adding RNCMPT00156_predictions_MT to sdata\n",
      "Adding RNCMPT00157_predictions_MT to sdata\n",
      "Adding RNCMPT00158_predictions_MT to sdata\n",
      "Adding RNCMPT00159_predictions_MT to sdata\n",
      "Adding RNCMPT00160_predictions_MT to sdata\n",
      "Adding RNCMPT00161_predictions_MT to sdata\n",
      "Adding RNCMPT00162_predictions_MT to sdata\n",
      "Adding RNCMPT00163_predictions_MT to sdata\n",
      "Adding RNCMPT00164_predictions_MT to sdata\n",
      "Adding RNCMPT00165_predictions_MT to sdata\n",
      "Adding RNCMPT00166_predictions_MT to sdata\n",
      "Adding RNCMPT00167_predictions_MT to sdata\n",
      "Adding RNCMPT00168_predictions_MT to sdata\n",
      "Adding RNCMPT00169_predictions_MT to sdata\n",
      "Adding RNCMPT00170_predictions_MT to sdata\n",
      "Adding RNCMPT00171_predictions_MT to sdata\n",
      "Adding RNCMPT00172_predictions_MT to sdata\n",
      "Adding RNCMPT00173_predictions_MT to sdata\n",
      "Adding RNCMPT00174_predictions_MT to sdata\n",
      "Adding RNCMPT00175_predictions_MT to sdata\n",
      "Adding RNCMPT00176_predictions_MT to sdata\n",
      "Adding RNCMPT00177_predictions_MT to sdata\n",
      "Adding RNCMPT00178_predictions_MT to sdata\n",
      "Adding RNCMPT00179_predictions_MT to sdata\n",
      "Adding RNCMPT00180_predictions_MT to sdata\n",
      "Adding RNCMPT00181_predictions_MT to sdata\n",
      "Adding RNCMPT00182_predictions_MT to sdata\n",
      "Adding RNCMPT00183_predictions_MT to sdata\n",
      "Adding RNCMPT00184_predictions_MT to sdata\n",
      "Adding RNCMPT00185_predictions_MT to sdata\n",
      "Adding RNCMPT00186_predictions_MT to sdata\n",
      "Adding RNCMPT00187_predictions_MT to sdata\n",
      "Adding RNCMPT00197_predictions_MT to sdata\n",
      "Adding RNCMPT00199_predictions_MT to sdata\n",
      "Adding RNCMPT00200_predictions_MT to sdata\n",
      "Adding RNCMPT00202_predictions_MT to sdata\n",
      "Adding RNCMPT00203_predictions_MT to sdata\n",
      "Adding RNCMPT00205_predictions_MT to sdata\n",
      "Adding RNCMPT00206_predictions_MT to sdata\n",
      "Adding RNCMPT00209_predictions_MT to sdata\n",
      "Adding RNCMPT00212_predictions_MT to sdata\n",
      "Adding RNCMPT00215_predictions_MT to sdata\n",
      "Adding RNCMPT00216_predictions_MT to sdata\n",
      "Adding RNCMPT00217_predictions_MT to sdata\n",
      "Adding RNCMPT00218_predictions_MT to sdata\n",
      "Adding RNCMPT00219_predictions_MT to sdata\n",
      "Adding RNCMPT00220_predictions_MT to sdata\n",
      "Adding RNCMPT00223_predictions_MT to sdata\n",
      "Adding RNCMPT00224_predictions_MT to sdata\n",
      "Adding RNCMPT00225_predictions_MT to sdata\n",
      "Adding RNCMPT00226_predictions_MT to sdata\n",
      "Adding RNCMPT00228_predictions_MT to sdata\n",
      "Adding RNCMPT00229_predictions_MT to sdata\n",
      "Adding RNCMPT00230_predictions_MT to sdata\n",
      "Adding RNCMPT00232_predictions_MT to sdata\n",
      "Adding RNCMPT00234_predictions_MT to sdata\n",
      "Adding RNCMPT00235_predictions_MT to sdata\n",
      "Adding RNCMPT00236_predictions_MT to sdata\n",
      "Adding RNCMPT00237_predictions_MT to sdata\n",
      "Adding RNCMPT00238_predictions_MT to sdata\n",
      "Adding RNCMPT00239_predictions_MT to sdata\n",
      "Adding RNCMPT00240_predictions_MT to sdata\n",
      "Adding RNCMPT00241_predictions_MT to sdata\n",
      "Adding RNCMPT00245_predictions_MT to sdata\n",
      "Adding RNCMPT00246_predictions_MT to sdata\n",
      "Adding RNCMPT00248_predictions_MT to sdata\n",
      "Adding RNCMPT00249_predictions_MT to sdata\n",
      "Adding RNCMPT00251_predictions_MT to sdata\n",
      "Adding RNCMPT00252_predictions_MT to sdata\n",
      "Adding RNCMPT00253_predictions_MT to sdata\n",
      "Adding RNCMPT00254_predictions_MT to sdata\n",
      "Adding RNCMPT00255_predictions_MT to sdata\n",
      "Adding RNCMPT00256_predictions_MT to sdata\n",
      "Adding RNCMPT00257_predictions_MT to sdata\n",
      "Adding RNCMPT00258_predictions_MT to sdata\n",
      "Adding RNCMPT00259_predictions_MT to sdata\n",
      "Adding RNCMPT00261_predictions_MT to sdata\n",
      "Adding RNCMPT00262_predictions_MT to sdata\n",
      "Adding RNCMPT00263_predictions_MT to sdata\n",
      "Adding RNCMPT00265_predictions_MT to sdata\n",
      "Adding RNCMPT00268_predictions_MT to sdata\n",
      "Adding RNCMPT00269_predictions_MT to sdata\n",
      "Adding RNCMPT00270_predictions_MT to sdata\n",
      "Adding RNCMPT00272_predictions_MT to sdata\n",
      "Adding RNCMPT00273_predictions_MT to sdata\n",
      "Adding RNCMPT00274_predictions_MT to sdata\n",
      "Adding RNCMPT00278_predictions_MT to sdata\n",
      "Adding RNCMPT00279_predictions_MT to sdata\n",
      "Adding RNCMPT00280_predictions_MT to sdata\n",
      "Adding RNCMPT00281_predictions_MT to sdata\n",
      "Adding RNCMPT00282_predictions_MT to sdata\n",
      "Adding RNCMPT00283_predictions_MT to sdata\n",
      "Adding RNCMPT00284_predictions_MT to sdata\n",
      "Adding RNCMPT00285_predictions_MT to sdata\n",
      "Adding RNCMPT00287_predictions_MT to sdata\n",
      "Adding RNCMPT00288_predictions_MT to sdata\n",
      "Adding RNCMPT00289_predictions_MT to sdata\n",
      "Adding RNCMPT00291_predictions_MT to sdata\n"
     ]
    }
   ],
   "source": [
    "# Fit the model\n",
    "train.fit_sequence_module(\n",
    "    model,\n",
    "    sdata_training_MT,\n",
    "    seq_key=\"ohe_seq\",\n",
    "    target_keys=target_cols_MT,\n",
    "    in_memory=True,\n",
    "    train_key=\"train_val\",\n",
    "    epochs=100,\n",
    "    batch_size=1024,\n",
    "    num_workers=4,\n",
    "    prefetch_factor=2,\n",
    "    drop_last=False,\n",
    "    early_stopping_patience=5,\n",
    "    name=\"DeepBind_MT\",\n",
    "    version=f\"v{model_version}\",\n",
    "    transforms={\"ohe_seq\": lambda x: torch.tensor(x, dtype=torch.float32), \"target\": lambda x: torch.tensor(x, dtype=torch.float32)},\n",
    "    seed=42\n",
    ")\n",
    "\n",
    "# Get training predictions\n",
    "evaluate.train_val_predictions_sequence_module(\n",
    "    model,\n",
    "    sdata=sdata_training_MT,\n",
    "    seq_key=\"ohe_seq\",\n",
    "    target_keys=target_cols_MT,\n",
    "    in_memory=True,\n",
    "    train_key=\"train_val\",\n",
    "    batch_size=1024,\n",
    "    num_workers=4,\n",
    "    prefetch_factor=2,\n",
    "    name=\"DeepBind_MT\",\n",
    "    version=f\"v{model_version}\",\n",
    "    transforms={\"ohe_seq\": lambda x: torch.tensor(x, dtype=torch.float32), \"target\": lambda x: torch.tensor(x, dtype=torch.float32)},\n",
    "    suffix=\"_MT\"\n",
    ")\n",
    "\n",
    "# Save the predictions!\n",
    "sd.to_zarr(sdata_training_MT, os.path.join(settings.output_dir, f\"norm_setA_predictions_v{model_version}_MT.zarr\"), load_first=True, mode=\"w\")"
   ]
  },
  {
   "attachments": {},
   "cell_type": "markdown",
   "metadata": {},
   "source": [
    "# DONE!"
   ]
  },
  {
   "attachments": {},
   "cell_type": "markdown",
   "metadata": {},
   "source": [
    "---"
   ]
  },
  {
   "attachments": {},
   "cell_type": "markdown",
   "metadata": {},
   "source": [
    "# Scratch"
   ]
  },
  {
   "cell_type": "code",
   "execution_count": 50,
   "metadata": {},
   "outputs": [
    {
     "name": "stdout",
     "output_type": "stream",
     "text": [
      "norm_setA_predictions_ST.zarr 120326 252\n",
      "245\n",
      "norm_setA_predictions_v0_MT.zarr 110645 472\n",
      "466\n"
     ]
    },
    {
     "ename": "",
     "evalue": "",
     "output_type": "error",
     "traceback": [
      "\u001b[1;31mThe Kernel crashed while executing code in the the current cell or a previous cell. Please review the code in the cell(s) to identify a possible cause of the failure. Click <a href='https://aka.ms/vscodeJupyterKernelCrash'>here</a> for more info. View Jupyter <a href='command:jupyter.viewOutput'>log</a> for further details."
     ]
    }
   ],
   "source": [
    "# Double check we predicted on all the columns\n",
    "for zarr in [f\"norm_setA_predictions_ST.zarr\", f\"norm_setA_predictions_v{model_version}_MT.zarr\"]:\n",
    "    sdata = sd.open_zarr(os.path.join(settings.output_dir, zarr))\n",
    "    keys = pd.Index(sdata.data_vars.keys())\n",
    "    print(zarr, sdata.dims[\"_sequence\"], len(sdata.data_vars))\n",
    "    print(np.sum(keys.str.contains(\"RNCMPT\")))"
   ]
  }
 ],
 "metadata": {
  "kernelspec": {
   "display_name": "Python 3.9 ml4gland",
   "language": "python",
   "name": "ml4gland"
  },
  "language_info": {
   "codemirror_mode": {
    "name": "ipython",
    "version": 3
   },
   "file_extension": ".py",
   "mimetype": "text/x-python",
   "name": "python",
   "nbconvert_exporter": "python",
   "pygments_lexer": "ipython3",
   "version": "3.9.16"
  },
  "vscode": {
   "interpreter": {
    "hash": "949777d72b0d2535278d3dc13498b2535136f6dfe0678499012e853ee9abcab1"
   }
  }
 },
 "nbformat": 4,
 "nbformat_minor": 4
}
