{
 "cells": [
  {
   "attachments": {},
   "cell_type": "markdown",
   "metadata": {},
   "source": [
    "# Kopp et al 2021 Training \n",
    "**Authorship:**\n",
    "Adam Klie (last updated: *06/10/2023*)\n",
    "***\n",
    "**Description:**\n",
    "Notebook to train models on the Kopp et al (2021) dataset. You can also use the `kopp21_training.py` script as well if you want to run it that way.\n",
    "***"
   ]
  },
  {
   "cell_type": "code",
   "execution_count": null,
   "metadata": {},
   "outputs": [],
   "source": [
    "# General imports\n",
    "import os\n",
    "import sys\n",
    "import torch\n",
    "import numpy as np\n",
    "import pandas as pd\n",
    "from copy import deepcopy \n",
    "import pytorch_lightning\n",
    "from itertools import product\n",
    "\n",
    "# EUGENe imports and settings\n",
    "import eugene as eu\n",
    "from eugene import dataload as dl\n",
    "from eugene import models, train, evaluate\n",
    "from eugene.dataload._augment import RandomRC\n",
    "from eugene import settings\n",
    "settings.dataset_dir = \"/cellar/users/aklie/data/eugene/revision/kopp21\"\n",
    "settings.output_dir = \"/cellar/users/aklie/projects/ML4GLand/EUGENe_paper/output/kopp21\"\n",
    "settings.logging_dir = \"/cellar/users/aklie/projects/ML4GLand/EUGENe_paper/logs/kopp21\"\n",
    "settings.config_dir = \"/cellar/users/aklie/projects/ML4GLand/EUGENe_paper/configs/kopp21\"\n",
    "\n",
    "# EUGENe packages\n",
    "import seqdata as sd\n",
    "\n",
    "# Print versions\n",
    "print(f\"Python version: {sys.version}\")\n",
    "print(f\"NumPy version: {np.__version__}\")\n",
    "print(f\"Pandas version: {pd.__version__}\")\n",
    "print(f\"Eugene version: {eu.__version__}\")\n",
    "print(f\"SeqData version: {sd.__version__}\")\n",
    "print(f\"PyTorch version: {torch.__version__}\")\n",
    "print(f\"PyTorch Lightning version: {pytorch_lightning.__version__}\")"
   ]
  },
  {
   "attachments": {},
   "cell_type": "markdown",
   "metadata": {},
   "source": [
    "# Load in the `SeqData`"
   ]
  },
  {
   "cell_type": "code",
   "execution_count": null,
   "metadata": {
    "tags": []
   },
   "outputs": [],
   "source": [
    "sdata = sd.open_zarr(os.path.join(settings.dataset_dir, 'kopp21_train.zarr'))\n",
    "sdata"
   ]
  },
  {
   "attachments": {},
   "cell_type": "markdown",
   "metadata": {},
   "source": [
    "# Model instantiation and initialization "
   ]
  },
  {
   "cell_type": "code",
   "execution_count": null,
   "metadata": {
    "tags": []
   },
   "outputs": [],
   "source": [
    "def prep_new_model(\n",
    "    config,\n",
    "    seed,\n",
    "):\n",
    "    # Instantiate the model\n",
    "    model = eu.models.load_config(\n",
    "        config_path=config,\n",
    "        seed=seed\n",
    "    )\n",
    "    \n",
    "    # Initialize the model prior to conv filter initialization\n",
    "    eu.models.init_weights(model)\n",
    "\n",
    "    # Return the model\n",
    "    return model "
   ]
  },
  {
   "cell_type": "code",
   "execution_count": null,
   "metadata": {},
   "outputs": [],
   "source": [
    "# Test the instantiation of each model to make sure this is working properly\n",
    "model = prep_new_model(\"dscnn.yaml\", seed=0)\n",
    "model = prep_new_model(\"dshybrid.yaml\", seed=0)\n",
    "model = prep_new_model(\"dsfcn.yaml\", seed=0)\n",
    "model = prep_new_model(\"kopp21_cnn.yaml\", seed=0)"
   ]
  },
  {
   "cell_type": "code",
   "execution_count": null,
   "metadata": {},
   "outputs": [],
   "source": [
    "configs = [\"dsfcn.yaml\", \"dscnn.yaml\", \"dshybrid.yaml\", \"dskopp21_cnn.yaml\"]\n",
    "trials = 1\n",
    "\n",
    "for config, trial in product(configs, range(1, trials+1)):\n",
    "    model_name = config.split('.')[0]\n",
    "    print(model_name)\n",
    "    \n",
    "    # Initialize the model\n",
    "    model = prep_new_model(os.path.join(eu.settings.config_dir, config), seed=trial)\n",
    "    \n",
    "    transforms = {\n",
    "        \"target\": lambda x: torch.tensor(x, dtype=torch.float32)\n",
    "    }\n",
    "    if (model_name != 'kopp21_cnn') and (not model_name.startswith('ds')):\n",
    "        random_rc = RandomRC()\n",
    "        def ohe_seq_transform(x):\n",
    "            x = torch.tensor(x, dtype=torch.float32).swapaxes(1, 2)\n",
    "            return random_rc(x)\n",
    "        transforms[\"ohe_seq\"] = ohe_seq_transform\n",
    "    else:\n",
    "        transforms[\"ohe_seq\"] = lambda x: torch.tensor(x, dtype=torch.float32).swapaxes(1, 2)\n",
    "        \n",
    "    \n",
    "    # Fit the model\n",
    "    eu.train.fit_sequence_module(\n",
    "        model,\n",
    "        sdata,\n",
    "        gpus=1,\n",
    "        seq_var=\"ohe_seq\",\n",
    "        target_vars=[\"target\"],\n",
    "        in_memory=True,\n",
    "        train_var=\"train_val\",\n",
    "        epochs=25,\n",
    "        early_stopping_metric='val_loss_epoch',\n",
    "        early_stopping_patience=5,\n",
    "        batch_size=64,\n",
    "        num_workers=4,\n",
    "        prefetch_factor=2,\n",
    "        drop_last=False,\n",
    "        name=model_name,\n",
    "        version=f\"trial_{trial}\",\n",
    "        transforms=transforms,\n",
    "        seed=trial,\n",
    "    )\n",
    "    \n",
    "    # Evaluate the model on train and validation sets\n",
    "    evaluate.train_val_predictions_sequence_module(\n",
    "        model,\n",
    "        sdata,\n",
    "        seq_var=\"ohe_seq\",\n",
    "        target_vars=[\"target\"],\n",
    "        in_memory=True,\n",
    "        train_var=\"train_val\",\n",
    "        batch_size=1024,\n",
    "        num_workers=4,\n",
    "        prefetch_factor=2,\n",
    "        name=model_name,\n",
    "        version=f\"trial_{trial}\",\n",
    "        transforms=transforms,\n",
    "        prefix=f\"{model_name}_trial_{trial}_\"\n",
    "    )\n",
    "    \n",
    "    del model"
   ]
  },
  {
   "attachments": {},
   "cell_type": "markdown",
   "metadata": {},
   "source": [
    "# DONE!"
   ]
  },
  {
   "attachments": {},
   "cell_type": "markdown",
   "metadata": {},
   "source": [
    "---"
   ]
  },
  {
   "attachments": {},
   "cell_type": "markdown",
   "metadata": {},
   "source": [
    "# Scratch"
   ]
  }
 ],
 "metadata": {
  "kernelspec": {
   "display_name": "Python 3.9 ml4gland",
   "language": "python",
   "name": "ml4gland"
  },
  "vscode": {
   "interpreter": {
    "hash": "949777d72b0d2535278d3dc13498b2535136f6dfe0678499012e853ee9abcab1"
   }
  }
 },
 "nbformat": 4,
 "nbformat_minor": 4
}
