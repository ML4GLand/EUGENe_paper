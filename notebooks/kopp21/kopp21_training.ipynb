{
 "cells": [
  {
   "cell_type": "markdown",
   "metadata": {},
   "source": [
    "# Kopp et al 2021 Training "
   ]
  },
  {
   "cell_type": "markdown",
   "metadata": {
    "tags": []
   },
   "source": [
    "**Authorship:**\n",
    "Adam Klie, *08/07/2022*\n",
    "***\n",
    "**Description:**\n",
    "Notebook to train models on the Kopp et al (2021) dataset. You can also use the `kopp21_training_{FCN|CNN|Hybrid|Kopp21CNN}.py` script as well if you want to run it that way.\n",
    "***"
   ]
  },
  {
   "cell_type": "code",
   "execution_count": null,
   "metadata": {
    "tags": []
   },
   "outputs": [],
   "source": [
    "if 'autoreload' not in get_ipython().extension_manager.loaded:\n",
    "    %load_ext autoreload \n",
    "%autoreload 2\n",
    "\n",
    "import os\n",
    "import logging\n",
    "import torch\n",
    "import numpy as np\n",
    "import pandas as pd\n",
    "import eugene as eu"
   ]
  },
  {
   "cell_type": "code",
   "execution_count": null,
   "metadata": {
    "tags": []
   },
   "outputs": [],
   "source": [
    "# Configure EUGENe \n",
    "eu.settings.dataset_dir = \"/cellar/users/aklie/data/eugene/kopp21\"\n",
    "eu.settings.output_dir = \"/cellar/users/aklie/projects/EUGENe/EUGENe_paper/output/kopp21\"\n",
    "eu.settings.logging_dir = \"/cellar/users/aklie/projects/EUGENe/EUGENe_paper/logs/kopp21\"\n",
    "eu.settings.config_dir = \"/cellar/users/aklie/projects/EUGENe/EUGENe_paper/configs/kopp21\"\n",
    "eu.settings.verbosity = logging.ERROR"
   ]
  },
  {
   "cell_type": "markdown",
   "metadata": {},
   "source": [
    "# Load in the `SeqData`"
   ]
  },
  {
   "cell_type": "code",
   "execution_count": null,
   "metadata": {
    "tags": []
   },
   "outputs": [],
   "source": [
    "sdata = eu.dl.read_h5sd(filename=os.path.join(eu.settings.dataset_dir, \"jund_train_processed.h5sd\"))\n",
    "sdata"
   ]
  },
  {
   "cell_type": "markdown",
   "metadata": {},
   "source": [
    "# Model instantiation and initialization "
   ]
  },
  {
   "cell_type": "code",
   "execution_count": null,
   "metadata": {
    "tags": []
   },
   "outputs": [],
   "source": [
    "from pytorch_lightning import seed_everything\n",
    "def prep_new_model(\n",
    "    seed,\n",
    "    arch,\n",
    "    config\n",
    "):\n",
    "    # Instantiate the model\n",
    "    model = eu.models.load_config(\n",
    "        arch=arch,\n",
    "        model_config=config\n",
    "    )\n",
    "\n",
    "    # Set a seed\n",
    "    seed_everything(seed)\n",
    "    \n",
    "    # Initialize the model prior to conv filter initialization\n",
    "    eu.models.init_weights(model)\n",
    "\n",
    "    # Return the model\n",
    "    return model "
   ]
  },
  {
   "cell_type": "code",
   "execution_count": null,
   "metadata": {
    "tags": []
   },
   "outputs": [],
   "source": [
    "# Just make sure the model is taking in the proper data\n",
    "model_types = [\"FCN\", \"CNN\", \"RNN\", \"Hybrid\", \"Kopp21CNN\"]\n",
    "model_names = [\"dsFCN\", \"dsCNN\", \"dsRNN\", \"dsHybrid\", \"Kopp21CNN\"]\n",
    "for model_name, model_type in zip(model_names, model_types):\n",
    "    print(model_name, model_type)\n",
    "    model = prep_new_model(0, model_type, os.path.join(eu.settings.config_dir, f\"{model_name}.yaml\"))\n",
    "    if model_type == \"RNN\":\n",
    "        sdataloader = sdata.to_dataset(transform_kwargs={\"transpose\": False}).to_dataloader() \n",
    "    else:\n",
    "        sdataloader = sdata.to_dataset(transform_kwargs={\"transpose\": True}).to_dataloader()\n",
    "    test_seqs = next(iter(sdataloader))\n",
    "    print(model(test_seqs[1], test_seqs[2]).size())\n",
    "    print()"
   ]
  },
  {
   "cell_type": "code",
   "execution_count": null,
   "metadata": {},
   "outputs": [],
   "source": [
    "# Train 5 models with 5 different random initializations\n",
    "model_types = [\"FCN\", \"CNN\", \"Hybrid\", \"Kopp21CNN\"]\n",
    "model_names = [\"dsFCN\", \"dsCNN\", \"dsHybrid\", \"Kopp21CNN\"]\n",
    "trials = 5\n",
    "for model_name, model_type in zip(model_names, model_types):\n",
    "    for trial in range(1, trials+1):\n",
    "        print(f\"{model_name} trial {trial}\")\n",
    "\n",
    "        # Initialize the model\n",
    "        model = prep_new_model(\n",
    "            arch=model_type, \n",
    "            config=os.path.join(eu.settings.config_dir, f\"{model_name}.yaml\"),\n",
    "            seed=trial\n",
    "        )\n",
    "\n",
    "        # Train the model\n",
    "        eu.train.fit(\n",
    "            model=model, \n",
    "            sdata=sdata, \n",
    "            gpus=1, \n",
    "            target_keys=\"target\",\n",
    "            train_key=\"train_val\",\n",
    "            epochs=30,\n",
    "            early_stopping_metric=\"val_loss\",\n",
    "            early_stopping_patience=5,\n",
    "            transform_kwargs=t_kwargs,\n",
    "            batch_size=64,\n",
    "            num_workers=4,\n",
    "            name=model_name,\n",
    "            seed=trial,\n",
    "            version=f\"trial_{trial}\",\n",
    "            verbosity=logging.ERROR\n",
    "        )\n",
    "        # Get predictions on the training data\n",
    "        eu.settings.dl_num_workers = 0\n",
    "        eu.evaluate.train_val_predictions(\n",
    "            model,\n",
    "            sdata=sdata, \n",
    "            target_keys=\"target\",\n",
    "            train_key=\"train_val\",\n",
    "            transform_kwargs=t_kwargs,\n",
    "            name=model_name,\n",
    "            version=f\"trial_{trial}\",\n",
    "            prefix=f\"{model_name}_trial_{trial}_\"\n",
    "        )\n",
    "        del model \n",
    "sdata.write_h5sd(os.path.join(eu.settings.output_dir, \"train_predictions.h5sd\"))"
   ]
  },
  {
   "cell_type": "markdown",
   "metadata": {},
   "source": [
    "---"
   ]
  },
  {
   "cell_type": "markdown",
   "metadata": {},
   "source": [
    "## Scratch"
   ]
  }
 ],
 "metadata": {
  "kernelspec": {
   "display_name": "Python 3.7 eugene_dev",
   "language": "python",
   "name": "eugene_dev"
  },
  "language_info": {
   "codemirror_mode": {
    "name": "ipython",
    "version": 3
   },
   "file_extension": ".py",
   "mimetype": "text/x-python",
   "name": "python",
   "nbconvert_exporter": "python",
   "pygments_lexer": "ipython3",
   "version": "3.7.12"
  },
  "vscode": {
   "interpreter": {
    "hash": "949777d72b0d2535278d3dc13498b2535136f6dfe0678499012e853ee9abcab1"
   }
  }
 },
 "nbformat": 4,
 "nbformat_minor": 4
}
