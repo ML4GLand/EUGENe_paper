{
 "cells": [
  {
   "attachments": {},
   "cell_type": "markdown",
   "metadata": {},
   "source": [
    "# Kopp21 et al 2021 Exploratory Data Analysis\n",
    "**Authorship:**\n",
    "Adam Klie, *08/07/2022*\n",
    "***\n",
    "**Description:**\n",
    "This notebook is meant to be a quick exploratory data analysis of the Kopp21 et al (2021) dataset. The goal is to get a feel for the data and to identify any issues that may need to be addressed before we can begin to analyze the data.\n",
    "***"
   ]
  },
  {
   "cell_type": "code",
   "execution_count": null,
   "metadata": {},
   "outputs": [],
   "source": [
    "if 'autoreload' not in get_ipython().extension_manager.loaded:\n",
    "    %load_ext autoreload \n",
    "%autoreload 2"
   ]
  },
  {
   "cell_type": "code",
   "execution_count": null,
   "metadata": {},
   "outputs": [],
   "source": [
    "import os\n",
    "import numpy as np\n",
    "import pandas as pd\n",
    "import eugene as eu\n",
    "\n",
    "# Configure EUGENe \n",
    "eu.settings.dataset_dir = \"/cellar/users/aklie/data/eugene\"\n",
    "eu.settings.logging_dir = \"/cellar/users/aklie/projects/EUGENe/EUGENe_paper/logs/jund\"\n",
    "eu.settings.output_dir = \"/cellar/users/aklie/projects/EUGENe/EUGENe_paper/output/jund\" "
   ]
  },
  {
   "attachments": {},
   "cell_type": "markdown",
   "metadata": {},
   "source": [
    "# Data Extraction"
   ]
  },
  {
   "cell_type": "code",
   "execution_count": null,
   "metadata": {},
   "outputs": [],
   "source": [
    "sdata = eu.dl.read_h5sd(\n",
    "    filename=os.path.join(eu.settings.dataset_dir, \"kopp21\", \"junD\", \"jund_processed.h5sd\"),\n",
    ")\n",
    "sdata"
   ]
  },
  {
   "attachments": {},
   "cell_type": "markdown",
   "metadata": {},
   "source": [
    "# Data Visualization"
   ]
  },
  {
   "cell_type": "code",
   "execution_count": null,
   "metadata": {},
   "outputs": [],
   "source": [
    "# Double check that the sequences are the same length\n",
    "eu.pl.histplot(\n",
    "    sdata, \n",
    "    keys=\"seq_len\", \n",
    "    orient=\"h\",\n",
    "    bins=10,\n",
    "    figsize=(4,4)\n",
    ")"
   ]
  },
  {
   "cell_type": "code",
   "execution_count": null,
   "metadata": {},
   "outputs": [],
   "source": [
    "# See the distribution of sequence labels, its clear we have some unbalanced classes\n",
    "eu.pl.countplot(\n",
    "    sdata,\n",
    "    keys=\"target\",\n",
    "    figsize=(4,4)\n",
    ")"
   ]
  },
  {
   "cell_type": "code",
   "execution_count": null,
   "metadata": {},
   "outputs": [],
   "source": [
    "def Set_Chr_Nr_ (Chr):\n",
    "    \"\"\" Sort by chromosome \"\"\"\n",
    "    if Chr: \n",
    "        New = Chr[3:]\n",
    "        if New == 'X': New = 23\n",
    "        elif New == 'Y': New = 24\n",
    "        elif New == 'M': New = 25\n",
    "        else: New = int(New)\n",
    "    else:\n",
    "        New = 0\n",
    "    return New\n",
    "ord = sorted(np.unique(sdata[\"chr\"].values), key=lambda x: Set_Chr_Nr_(x))"
   ]
  },
  {
   "cell_type": "code",
   "execution_count": null,
   "metadata": {},
   "outputs": [],
   "source": [
    "# Check the distribution of sequences on chromosomes\n",
    "eu.pl.countplot(\n",
    "    sdata,\n",
    "    keys=\"chr\",\n",
    "    xtick_rot=90,\n",
    "    order=ord\n",
    ")"
   ]
  },
  {
   "attachments": {},
   "cell_type": "markdown",
   "metadata": {},
   "source": [
    "---"
   ]
  },
  {
   "attachments": {},
   "cell_type": "markdown",
   "metadata": {},
   "source": [
    "# Scratch"
   ]
  }
 ],
 "metadata": {
  "kernelspec": {
   "display_name": "Python 3.7 eugene_dev",
   "language": "python",
   "name": "eugene_dev"
  },
  "language_info": {
   "codemirror_mode": {
    "name": "ipython",
    "version": 3
   },
   "file_extension": ".py",
   "mimetype": "text/x-python",
   "name": "python",
   "nbconvert_exporter": "python",
   "pygments_lexer": "ipython3",
   "version": "3.7.12"
  }
 },
 "nbformat": 4,
 "nbformat_minor": 4
}
