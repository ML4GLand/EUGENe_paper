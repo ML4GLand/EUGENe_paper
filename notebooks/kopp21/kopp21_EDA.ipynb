{
 "cells": [
  {
   "attachments": {},
   "cell_type": "markdown",
   "metadata": {},
   "source": [
    "# Kopp et al 2021 Exploratory Data Analysis\n",
    "**Authorship:**\n",
    "Adam Klie (last updated: *06/10/2023*)\n",
    "***\n",
    "**Description:**\n",
    "This notebook is meant to be a quick exploratory data analysis of the Kopp21 et al (2021) dataset. The goal is to get a feel for the data and to identify any issues that may need to be addressed before we can begin to analyze the data.\n",
    "***"
   ]
  },
  {
   "cell_type": "code",
   "execution_count": null,
   "metadata": {},
   "outputs": [],
   "source": [
    "# General imports\n",
    "import os\n",
    "import sys\n",
    "import xarray as xr\n",
    "import numpy as np\n",
    "import pandas as pd\n",
    "import matplotlib.pyplot as plt\n",
    "\n",
    "# EUGENe imports\n",
    "import eugene as eu\n",
    "from eugene import plot as pl\n",
    "from eugene import settings\n",
    "settings.dataset_dir = \"/cellar/users/aklie/data/eugene/revision/kopp21\"\n",
    "\n",
    "# EUGENe packages\n",
    "import seqdatasets\n",
    "import seqdata as sd\n",
    "import seqpro as sp\n",
    "\n",
    "# Print versions\n",
    "print(f\"Python version: {sys.version}\")\n",
    "print(f\"NumPy version: {np.__version__}\")\n",
    "print(f\"Pandas version: {pd.__version__}\")\n",
    "print(f\"Xarray version: {xr.__version__}\")\n",
    "print(f\"Eugene version: {eu.__version__}\")\n",
    "print(f\"SeqDatasets version: {seqdatasets.__version__}\")\n",
    "print(f\"SeqData version: {sd.__version__}\")\n",
    "print(f\"SeqPro version: {sp.__version__}\")"
   ]
  },
  {
   "attachments": {},
   "cell_type": "markdown",
   "metadata": {},
   "source": [
    "# Data Extraction"
   ]
  },
  {
   "cell_type": "code",
   "execution_count": null,
   "metadata": {},
   "outputs": [],
   "source": [
    "# Load data\n",
    "sdata = sd.open_zarr(os.path.join(settings.dataset_dir, 'kopp21.zarr'))\n",
    "sdata"
   ]
  },
  {
   "cell_type": "code",
   "execution_count": null,
   "metadata": {},
   "outputs": [],
   "source": [
    "# Create sequence length variable\n",
    "sdata[\"seq_len\"] = xr.DataArray(sp.length(sdata['seq'].values), dims=[\"_sequence\"])"
   ]
  },
  {
   "attachments": {},
   "cell_type": "markdown",
   "metadata": {},
   "source": [
    "# Data Visualization"
   ]
  },
  {
   "cell_type": "code",
   "execution_count": null,
   "metadata": {},
   "outputs": [],
   "source": [
    "# Double check that the sequences are the same length\n",
    "pl.histplot(\n",
    "    sdata, \n",
    "    vars=\"seq_len\", \n",
    "    orient=\"h\",\n",
    "    bins=10,\n",
    "    figsize=(4,4)\n",
    ")"
   ]
  },
  {
   "cell_type": "code",
   "execution_count": null,
   "metadata": {},
   "outputs": [],
   "source": [
    "def Set_Chr_Nr_ (Chr):\n",
    "    \"\"\" Sort by chromosome \"\"\"\n",
    "    if Chr: \n",
    "        New = Chr[3:]\n",
    "        if New == 'X': New = 23\n",
    "        elif New == 'Y': New = 24\n",
    "        elif New == 'M': New = 25\n",
    "        else: New = int(New)\n",
    "    else:\n",
    "        New = 0\n",
    "    return New\n",
    "ord = sorted(np.unique(sdata[\"chrom\"].values), key=lambda x: Set_Chr_Nr_(x))"
   ]
  },
  {
   "cell_type": "code",
   "execution_count": null,
   "metadata": {},
   "outputs": [],
   "source": [
    "# Check the distribution of sequences on chromosomes\n",
    "pl.countplot(\n",
    "    sdata,\n",
    "    vars=\"chrom\",\n",
    "    xtick_rot=90,\n",
    "    order=ord\n",
    ")"
   ]
  },
  {
   "attachments": {},
   "cell_type": "markdown",
   "metadata": {},
   "source": [
    "# DONE!"
   ]
  },
  {
   "attachments": {},
   "cell_type": "markdown",
   "metadata": {},
   "source": [
    "---"
   ]
  },
  {
   "attachments": {},
   "cell_type": "markdown",
   "metadata": {},
   "source": [
    "# Scratch"
   ]
  }
 ],
 "metadata": {
  "kernelspec": {
   "display_name": "Python 3.9 ml4gland",
   "language": "python",
   "name": "ml4gland"
  }
 },
 "nbformat": 4,
 "nbformat_minor": 4
}
