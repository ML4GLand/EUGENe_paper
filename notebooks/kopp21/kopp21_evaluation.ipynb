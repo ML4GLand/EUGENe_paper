{
 "cells": [
  {
   "attachments": {},
   "cell_type": "markdown",
   "metadata": {},
   "source": [
    "# Kopp et al 2021 Evaluation \n",
    "**Authorship:**\n",
    "Adam Klie, *08/12/2022*\n",
    "***\n",
    "**Description:**\n",
    "Notebook to perform a brief evaluation of trained models on the Kopp et al (2021) dataset.\n",
    "***"
   ]
  },
  {
   "cell_type": "code",
   "execution_count": null,
   "metadata": {
    "tags": []
   },
   "outputs": [],
   "source": [
    "# General imports\n",
    "import os\n",
    "import sys\n",
    "import glob\n",
    "import torch\n",
    "import numpy as np\n",
    "\n",
    "# EUGENe imports and settings\n",
    "import eugene as eu\n",
    "from eugene import dataload as dl\n",
    "from eugene import models\n",
    "from eugene import evaluate\n",
    "from eugene import settings\n",
    "settings.dataset_dir = \"/cellar/users/aklie/data/eugene/revision/kopp21\"\n",
    "settings.output_dir = \"/cellar/users/aklie/projects/ML4GLand/EUGENe_paper/output/revision/kopp21\"\n",
    "settings.logging_dir = \"/cellar/users/aklie/projects/ML4GLand/EUGENe_paper/logs/revision/kopp21\"\n",
    "settings.config_dir = \"/cellar/users/aklie/projects/ML4GLand/EUGENe_paper/configs/kopp21\"\n",
    "\n",
    "# EUGENe packages\n",
    "import seqdata as sd\n",
    "\n",
    "# kopp21 helpers\n",
    "sys.path.append(\"/cellar/users/aklie/projects/ML4GLand/EUGENe_paper/scripts/kopp21\")\n",
    "from kopp21_helpers import load_checkpoint_from_arch_config\n",
    "\n",
    "# For illustrator editing\n",
    "import matplotlib\n",
    "matplotlib.rcParams['pdf.fonttype'] = 42\n",
    "matplotlib.rcParams['ps.fonttype'] = 42\n",
    "\n",
    "# Print versions\n",
    "print(f\"Python version: {sys.version}\")\n",
    "print(f\"NumPy version: {np.__version__}\")\n",
    "print(f\"Eugene version: {eu.__version__}\")\n",
    "print(f\"SeqData version: {sd.__version__}\")\n",
    "print(f\"PyTorch version: {torch.__version__}\")"
   ]
  },
  {
   "attachments": {},
   "cell_type": "markdown",
   "metadata": {},
   "source": [
    "# Load in the test `SeqData`(s)"
   ]
  },
  {
   "cell_type": "code",
   "execution_count": null,
   "metadata": {
    "tags": []
   },
   "outputs": [],
   "source": [
    "sdata = sd.open_zarr(os.path.join(settings.dataset_dir, 'kopp21_test.zarr'))\n",
    "sdata"
   ]
  },
  {
   "attachments": {},
   "cell_type": "markdown",
   "metadata": {},
   "source": [
    "# Get test set predictions for each model"
   ]
  },
  {
   "cell_type": "code",
   "execution_count": null,
   "metadata": {},
   "outputs": [],
   "source": [
    "from itertools import product\n",
    "configs = [\"dsfcn.yaml\", \"dscnn.yaml\", \"dshybrid.yaml\", \"kopp21_cnn.yaml\"]\n",
    "trials = 5\n",
    "\n",
    "for config, trial in product(configs, range(1, trials+1)):\n",
    "    model_name = config.split('.')[0]\n",
    "    print(model_name)\n",
    "\n",
    "    # Load the model\n",
    "    model_file = glob.glob(os.path.join(settings.logging_dir, model_name, f\"trial_{trial}\", \"checkpoints\", \"*\"))[0]\n",
    "    if \"ds\" in model_name or model_name == \"kopp21_dscnn_nn\":\n",
    "        if \"hybrid\" in model_name:\n",
    "            arch_name = \"dsHybrid\"\n",
    "        else:\n",
    "            arch_name = model_name[:2] + model_name[2:].upper()\n",
    "        best_model = load_checkpoint_from_arch_config(\n",
    "            ckpt_path=model_file,\n",
    "            config_path=config,\n",
    "            arch_name=arch_name\n",
    "        )\n",
    "    else:\n",
    "        model = models.load_config(config_path=config)\n",
    "        best_model = models.SequenceModule.load_from_checkpoint(model_file, arch=model.arch)\n",
    "    \n",
    "    # Set-up transforms\n",
    "    transforms = {\n",
    "        \"target\": lambda x: torch.tensor(x, dtype=torch.float32),\n",
    "        \"ohe_seq\": lambda x: torch.tensor(x, dtype=torch.float32).swapaxes(1, 2)\n",
    "    }\n",
    "    \n",
    "    # Evaluate\n",
    "    evaluate.predictions_sequence_module(\n",
    "        model=best_model,\n",
    "        sdata=sdata,\n",
    "        seq_var=\"ohe_seq\",\n",
    "        target_vars=\"target\",\n",
    "        gpus=1,\n",
    "        batch_size=2048,\n",
    "        num_workers=4,\n",
    "        prefetch_factor=2,\n",
    "        in_memory=True,\n",
    "        transforms=transforms,\n",
    "        file_label=\"test\",\n",
    "        name=model_name,\n",
    "        version=f\"trial_{trial}\",\n",
    "        prefix=f\"{model_name}_trial_{trial}_\"\n",
    "    )\n",
    "\n",
    "# Save the predictions\n",
    "pred_vars = [k for k in sdata.data_vars.keys() if \"predictions\" in k]\n",
    "(\n",
    "    sdata[['chrom', 'chromStart', 'chromEnd', 'target', *pred_vars]]\n",
    "    .to_dataframe()\n",
    "    .to_csv(os.path.join(settings.output_dir, f\"test_predictions_all.tsv\"), sep=\"\\t\", index=False)\n",
    ")\n",
    "sd.to_zarr(sdata, os.path.join(settings.output_dir, f\"test_predictions_all.zarr\"), mode=\"w\")"
   ]
  },
  {
   "attachments": {},
   "cell_type": "markdown",
   "metadata": {},
   "source": [
    "# DONE!"
   ]
  },
  {
   "attachments": {},
   "cell_type": "markdown",
   "metadata": {},
   "source": [
    "---"
   ]
  },
  {
   "attachments": {},
   "cell_type": "markdown",
   "metadata": {},
   "source": [
    "# Scratch"
   ]
  }
 ],
 "metadata": {
  "kernelspec": {
   "display_name": "Python 3.9 ml4gland",
   "language": "python",
   "name": "ml4gland"
  },
  "language_info": {
   "codemirror_mode": {
    "name": "ipython",
    "version": 3
   },
   "file_extension": ".py",
   "mimetype": "text/x-python",
   "name": "python",
   "nbconvert_exporter": "python",
   "pygments_lexer": "ipython3",
   "version": "3.9.16"
  },
  "vscode": {
   "interpreter": {
    "hash": "949777d72b0d2535278d3dc13498b2535136f6dfe0678499012e853ee9abcab1"
   }
  }
 },
 "nbformat": 4,
 "nbformat_minor": 4
}
