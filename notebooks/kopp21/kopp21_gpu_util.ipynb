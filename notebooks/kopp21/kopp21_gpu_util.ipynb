{
 "cells": [
  {
   "attachments": {},
   "cell_type": "markdown",
   "metadata": {},
   "source": [
    "# Kopp et al 2021 GPU Utilization Analysis\n",
    "**Authorship:**\n",
    "David Laub (last updated: *07/19/2023*)\n",
    "***\n",
    "**Description:**\n",
    "Notebook to analyze GPU utilization of the Kopp et al (2021) dataset\n",
    "***"
   ]
  },
  {
   "cell_type": "code",
   "execution_count": null,
   "metadata": {
    "execution": {
     "iopub.execute_input": "2023-06-16T23:09:54.496022Z",
     "iopub.status.busy": "2023-06-16T23:09:54.495814Z",
     "iopub.status.idle": "2023-06-16T23:09:54.507226Z",
     "shell.execute_reply": "2023-06-16T23:09:54.506841Z",
     "shell.execute_reply.started": "2023-06-16T23:09:54.496006Z"
    },
    "tags": []
   },
   "outputs": [],
   "source": [
    "# General imports\n",
    "import os\n",
    "import sys\n",
    "import torch\n",
    "import wandb\n",
    "from tqdm import tqdm\n",
    "\n",
    "# EUGENe imports and settings\n",
    "import eugene as eu\n",
    "import eugene.train\n",
    "import eugene.models\n",
    "from eugene import settings\n",
    "settings.dataset_dir = \"/cellar/users/aklie/data/eugene/revision/kopp21\"\n",
    "settings.output_dir = \"/cellar/users/dlaub/projects/ML4GLand/EUGENe_paper/output/kopp21\"\n",
    "settings.logging_dir = \"/cellar/users/dlaub/projects/ML4GLand/EUGENe_paper/logs/kopp21\"\n",
    "settings.config_dir = \"/cellar/users/dlaub/projects/ML4GLand/EUGENe_paper/configs/kopp21\"\n",
    "\n",
    "# EUGENe packages\n",
    "import seqdata as sd\n",
    "\n",
    "# Print versions\n",
    "print(\"Python version: {}\".format(sys.version))\n",
    "print(\"PyTorch version: {}\".format(torch.__version__))\n",
    "print(f\"Eugene version: {eu.__version__}\")\n",
    "print(f\"SeqData version: {sd.__version__}\")\n",
    "print(f\"WandB version: {wandb.__version__}\")"
   ]
  },
  {
   "cell_type": "code",
   "execution_count": null,
   "metadata": {
    "execution": {
     "iopub.execute_input": "2023-06-16T23:08:00.050161Z",
     "iopub.status.busy": "2023-06-16T23:08:00.048985Z",
     "iopub.status.idle": "2023-06-16T23:08:08.035513Z",
     "shell.execute_reply": "2023-06-16T23:08:08.035084Z",
     "shell.execute_reply.started": "2023-06-16T23:08:00.050140Z"
    },
    "tags": []
   },
   "outputs": [],
   "source": [
    "# Login to wandb\n",
    "wandb.login()"
   ]
  },
  {
   "attachments": {},
   "cell_type": "markdown",
   "metadata": {},
   "source": [
    "## Load dataset"
   ]
  },
  {
   "cell_type": "code",
   "execution_count": null,
   "metadata": {
    "execution": {
     "iopub.execute_input": "2023-06-16T23:08:08.036500Z",
     "iopub.status.busy": "2023-06-16T23:08:08.036051Z",
     "iopub.status.idle": "2023-06-16T23:08:08.640125Z",
     "shell.execute_reply": "2023-06-16T23:08:08.639746Z",
     "shell.execute_reply.started": "2023-06-16T23:08:08.036483Z"
    },
    "tags": []
   },
   "outputs": [],
   "source": [
    "# Load data\n",
    "sdata = sd.open_zarr(os.path.join(settings.dataset_dir, 'kopp21_train.zarr'))\n",
    "sdata"
   ]
  },
  {
   "cell_type": "code",
   "execution_count": null,
   "metadata": {
    "execution": {
     "iopub.execute_input": "2023-06-16T23:08:08.643498Z",
     "iopub.status.busy": "2023-06-16T23:08:08.642436Z",
     "iopub.status.idle": "2023-06-16T23:08:17.466459Z",
     "shell.execute_reply": "2023-06-16T23:08:17.466003Z",
     "shell.execute_reply.started": "2023-06-16T23:08:08.643482Z"
    },
    "tags": []
   },
   "outputs": [],
   "source": [
    "# Load data into memory\n",
    "sdata[['ohe_seq', 'target']].load();"
   ]
  },
  {
   "cell_type": "code",
   "execution_count": null,
   "metadata": {
    "execution": {
     "iopub.execute_input": "2023-06-16T23:08:17.469833Z",
     "iopub.status.busy": "2023-06-16T23:08:17.468757Z",
     "iopub.status.idle": "2023-06-16T23:08:17.472781Z",
     "shell.execute_reply": "2023-06-16T23:08:17.472382Z",
     "shell.execute_reply.started": "2023-06-16T23:08:17.469817Z"
    },
    "tags": []
   },
   "outputs": [],
   "source": [
    "# Define transforms\n",
    "transforms = {\n",
    "    \"ohe_seq\": lambda x: x.swapaxes(1, 2)\n",
    "}"
   ]
  },
  {
   "cell_type": "code",
   "execution_count": null,
   "metadata": {
    "execution": {
     "iopub.execute_input": "2023-06-16T21:34:28.195675Z",
     "iopub.status.busy": "2023-06-16T21:34:28.195465Z",
     "iopub.status.idle": "2023-06-16T21:34:28.985311Z",
     "shell.execute_reply": "2023-06-16T21:34:28.984850Z",
     "shell.execute_reply.started": "2023-06-16T21:34:28.195659Z"
    },
    "tags": []
   },
   "outputs": [],
   "source": [
    "# Build dataloader\n",
    "train_sdata = sdata.sel(_sequence=(sdata.train_val == True).compute())\n",
    "dloader = sd.get_torch_dataloader(\n",
    "    train_sdata,\n",
    "    sample_dims='_sequence',\n",
    "    variables=['ohe_seq', 'target'],\n",
    "    transforms=transforms,\n",
    "    batch_size=2048,\n",
    "    pin_memory=True,\n",
    "    drop_last=False,\n",
    ")"
   ]
  },
  {
   "attachments": {},
   "cell_type": "markdown",
   "metadata": {},
   "source": [
    "## Build or choose a medium sized model"
   ]
  },
  {
   "cell_type": "code",
   "execution_count": null,
   "metadata": {
    "execution": {
     "iopub.execute_input": "2023-06-16T23:08:17.475743Z",
     "iopub.status.busy": "2023-06-16T23:08:17.474639Z",
     "iopub.status.idle": "2023-06-16T23:08:17.484961Z",
     "shell.execute_reply": "2023-06-16T23:08:17.484587Z",
     "shell.execute_reply.started": "2023-06-16T23:08:17.475728Z"
    },
    "tags": []
   },
   "outputs": [],
   "source": [
    "def prep_new_model(\n",
    "    config,\n",
    "    seed,\n",
    "):\n",
    "    # Instantiate the model\n",
    "    model = eu.models.load_config(\n",
    "        config_path=config,\n",
    "        seed=seed\n",
    "    )\n",
    "\n",
    "    # Initialize the model prior to conv filter initialization\n",
    "    eu.models.init_weights(model)\n",
    "\n",
    "    # Return the model\n",
    "    return model"
   ]
  },
  {
   "cell_type": "code",
   "execution_count": null,
   "metadata": {
    "execution": {
     "iopub.execute_input": "2023-06-16T23:08:17.487842Z",
     "iopub.status.busy": "2023-06-16T23:08:17.486759Z",
     "iopub.status.idle": "2023-06-16T23:08:19.189448Z",
     "shell.execute_reply": "2023-06-16T23:08:19.188999Z",
     "shell.execute_reply.started": "2023-06-16T23:08:17.487828Z"
    },
    "tags": []
   },
   "outputs": [],
   "source": [
    "kopp21 = prep_new_model(\"kopp21_cnn.yaml\", seed=0).to('cuda')"
   ]
  },
  {
   "attachments": {},
   "cell_type": "markdown",
   "metadata": {
    "tags": []
   },
   "source": [
    "## Use native PyTorch to train the model and record GPU utilization"
   ]
  },
  {
   "cell_type": "code",
   "execution_count": null,
   "metadata": {
    "execution": {
     "iopub.execute_input": "2023-06-16T20:55:41.146411Z",
     "iopub.status.busy": "2023-06-16T20:55:41.145266Z",
     "iopub.status.idle": "2023-06-16T20:55:41.150051Z",
     "shell.execute_reply": "2023-06-16T20:55:41.149671Z",
     "shell.execute_reply.started": "2023-06-16T20:55:41.146395Z"
    },
    "tags": []
   },
   "outputs": [],
   "source": [
    "def train(model, dloader, optim, loss_fn):\n",
    "    model.train()\n",
    "    for batch in tqdm(dloader, leave=False):\n",
    "        pred = model(batch['ohe_seq'].to('cuda'))\n",
    "        loss = loss_fn(pred.squeeze(), batch['target'].to('cuda'))\n",
    "        loss.backward()\n",
    "        optim.step()\n",
    "        optim.zero_grad()"
   ]
  },
  {
   "cell_type": "code",
   "execution_count": null,
   "metadata": {
    "collapsed": true,
    "execution": {
     "iopub.execute_input": "2023-06-16T20:56:18.816713Z",
     "iopub.status.busy": "2023-06-16T20:56:18.816504Z",
     "iopub.status.idle": "2023-06-16T21:03:23.021396Z",
     "shell.execute_reply": "2023-06-16T21:03:23.020960Z",
     "shell.execute_reply.started": "2023-06-16T20:56:18.816697Z"
    },
    "jupyter": {
     "outputs_hidden": true
    },
    "tags": []
   },
   "outputs": [],
   "source": [
    "optim = torch.optim.Adam(kopp21.arch.parameters())\n",
    "\n",
    "with wandb.init(project='EUGENe GPU Utilization', name='Native PyTorch'):\n",
    "    epochs = 25\n",
    "    for _ in tqdm(range(epochs)):\n",
    "        train(kopp21.arch, dloader, optim, kopp21.loss_fxn)"
   ]
  },
  {
   "attachments": {},
   "cell_type": "markdown",
   "metadata": {
    "tags": []
   },
   "source": [
    "## Use PyTorch Lightning to train the model and record GPU utilization"
   ]
  },
  {
   "cell_type": "code",
   "execution_count": null,
   "metadata": {
    "execution": {
     "iopub.execute_input": "2023-06-16T22:22:28.205619Z",
     "iopub.status.busy": "2023-06-16T22:22:28.205408Z",
     "iopub.status.idle": "2023-06-16T22:22:28.207858Z",
     "shell.execute_reply": "2023-06-16T22:22:28.207479Z",
     "shell.execute_reply.started": "2023-06-16T22:22:28.205604Z"
    },
    "tags": []
   },
   "outputs": [],
   "source": [
    "import xarray as xr\n",
    "import pytorch_lightning as pl"
   ]
  },
  {
   "cell_type": "code",
   "execution_count": null,
   "metadata": {
    "execution": {
     "iopub.execute_input": "2023-06-16T21:53:48.315648Z",
     "iopub.status.busy": "2023-06-16T21:53:48.315438Z",
     "iopub.status.idle": "2023-06-16T21:53:48.354342Z",
     "shell.execute_reply": "2023-06-16T21:53:48.353960Z",
     "shell.execute_reply.started": "2023-06-16T21:53:48.315633Z"
    },
    "tags": []
   },
   "outputs": [],
   "source": [
    "batch_size = 2048\n",
    "num_workers = 0\n",
    "target_vars = ['target']\n",
    "seq_var = 'ohe_seq'\n",
    "in_memory = True\n",
    "train_var = 'train_val'\n",
    "prefetch_factor = None\n",
    "drop_last = False\n",
    "\n",
    "if target_vars is not None:\n",
    "    if isinstance(target_vars, str):\n",
    "        target_vars = [target_vars]\n",
    "    if len(target_vars) == 1:\n",
    "        sdata[\"target\"] = sdata[target_vars[0]]\n",
    "    else:\n",
    "        sdata[\"target\"] = xr.concat(\n",
    "            [sdata[target_var] for target_var in target_vars], dim=\"_targets\"\n",
    "        ).transpose(\"_sequence\", \"_targets\")\n",
    "    nan_mask = sdata['target'].isnull()\n",
    "    if sdata[\"target\"].ndim > 1:\n",
    "        nan_mask = nan_mask.any('_targets')\n",
    "    print(f\"Dropping {nan_mask.sum().compute().item()} sequences with NaN targets.\")\n",
    "if in_memory:\n",
    "    print(f\"Loading {seq_var} and {target_vars} into memory\")\n",
    "    sdata[seq_var].load()\n",
    "    sdata[\"target\"].load()"
   ]
  },
  {
   "cell_type": "code",
   "execution_count": null,
   "metadata": {
    "execution": {
     "iopub.execute_input": "2023-06-16T21:54:20.133446Z",
     "iopub.status.busy": "2023-06-16T21:54:20.133233Z",
     "iopub.status.idle": "2023-06-16T21:54:21.383416Z",
     "shell.execute_reply": "2023-06-16T21:54:21.382917Z",
     "shell.execute_reply.started": "2023-06-16T21:54:20.133431Z"
    },
    "tags": []
   },
   "outputs": [],
   "source": [
    "train_sdata = sdata.sel(_sequence=(sdata[train_var] == True).compute())\n",
    "val_sdata = sdata.sel(_sequence=(sdata[train_var] == False).compute())"
   ]
  },
  {
   "cell_type": "code",
   "execution_count": null,
   "metadata": {
    "execution": {
     "iopub.execute_input": "2023-06-16T22:33:11.048463Z",
     "iopub.status.busy": "2023-06-16T22:33:11.048288Z",
     "iopub.status.idle": "2023-06-16T22:33:11.054344Z",
     "shell.execute_reply": "2023-06-16T22:33:11.053865Z",
     "shell.execute_reply.started": "2023-06-16T22:33:11.048449Z"
    },
    "tags": []
   },
   "outputs": [],
   "source": [
    "train_dataloader = sd.get_torch_dataloader(\n",
    "    train_sdata,\n",
    "    sample_dims=[\"_sequence\"],\n",
    "    variables=['ohe_seq', \"target\"],\n",
    "    batch_size=batch_size,\n",
    "    num_workers=num_workers,\n",
    "    prefetch_factor=prefetch_factor,\n",
    "    transforms=transforms,\n",
    "    shuffle=True,\n",
    "    drop_last=drop_last,\n",
    ")"
   ]
  },
  {
   "cell_type": "code",
   "execution_count": null,
   "metadata": {
    "execution": {
     "iopub.execute_input": "2023-06-16T22:23:53.047822Z",
     "iopub.status.busy": "2023-06-16T22:23:53.047603Z",
     "iopub.status.idle": "2023-06-16T22:23:53.648054Z",
     "shell.execute_reply": "2023-06-16T22:23:53.647646Z",
     "shell.execute_reply.started": "2023-06-16T22:23:53.047804Z"
    },
    "tags": []
   },
   "outputs": [],
   "source": [
    "val_dataloader = sd.get_torch_dataloader(\n",
    "    val_sdata,\n",
    "    sample_dims=[\"_sequence\"],\n",
    "    variables=['ohe_seq', \"target\"],\n",
    "    batch_size=batch_size,\n",
    "    num_workers=num_workers,\n",
    "    prefetch_factor=prefetch_factor,\n",
    "    transforms=transforms,\n",
    "    shuffle=False,\n",
    "    drop_last=drop_last,\n",
    ")"
   ]
  },
  {
   "cell_type": "code",
   "execution_count": null,
   "metadata": {
    "execution": {
     "iopub.execute_input": "2023-06-16T22:33:55.432263Z",
     "iopub.status.busy": "2023-06-16T22:33:55.432046Z",
     "iopub.status.idle": "2023-06-16T22:33:56.066206Z",
     "shell.execute_reply": "2023-06-16T22:33:56.065838Z",
     "shell.execute_reply.started": "2023-06-16T22:33:55.432246Z"
    },
    "tags": []
   },
   "outputs": [],
   "source": [
    "trainer = pl.Trainer(\n",
    "    max_epochs=25,\n",
    "    logger=False,\n",
    "    devices='auto',\n",
    "    accelerator=\"gpu\",\n",
    ")"
   ]
  },
  {
   "cell_type": "code",
   "execution_count": null,
   "metadata": {
    "execution": {
     "iopub.execute_input": "2023-06-16T22:36:58.685788Z",
     "iopub.status.busy": "2023-06-16T22:36:58.685582Z",
     "iopub.status.idle": "2023-06-16T22:36:58.689049Z",
     "shell.execute_reply": "2023-06-16T22:36:58.688672Z",
     "shell.execute_reply.started": "2023-06-16T22:36:58.685773Z"
    },
    "tags": []
   },
   "outputs": [],
   "source": [
    "kopp21.scheduler = None"
   ]
  },
  {
   "cell_type": "code",
   "execution_count": null,
   "metadata": {
    "execution": {
     "iopub.execute_input": "2023-06-16T22:37:01.219335Z",
     "iopub.status.busy": "2023-06-16T22:37:01.219142Z",
     "iopub.status.idle": "2023-06-16T22:45:06.204288Z",
     "shell.execute_reply": "2023-06-16T22:45:06.203869Z",
     "shell.execute_reply.started": "2023-06-16T22:37:01.219320Z"
    },
    "tags": []
   },
   "outputs": [],
   "source": [
    "kopp21 = prep_new_model(\"kopp21_cnn.yaml\", seed=0).to('cuda')\n",
    "with wandb.init(project='EUGENe GPU Utilization', name='PL no val'):\n",
    "    trainer.fit(kopp21, train_dataloaders=train_dataloader)"
   ]
  },
  {
   "attachments": {},
   "cell_type": "markdown",
   "metadata": {},
   "source": [
    "## Use EUGENe to train the model and record GPU utilization"
   ]
  },
  {
   "attachments": {},
   "cell_type": "markdown",
   "metadata": {},
   "source": [
    "EUGENe requires a validation set to evaluate on at every epoch and conditionally reduce the learning rate."
   ]
  },
  {
   "cell_type": "code",
   "execution_count": null,
   "metadata": {
    "execution": {
     "iopub.execute_input": "2023-06-16T23:10:02.461086Z",
     "iopub.status.busy": "2023-06-16T23:10:02.460885Z",
     "iopub.status.idle": "2023-06-16T23:18:23.406433Z",
     "shell.execute_reply": "2023-06-16T23:18:23.406044Z",
     "shell.execute_reply.started": "2023-06-16T23:10:02.461071Z"
    },
    "tags": []
   },
   "outputs": [],
   "source": [
    "kopp21 = prep_new_model(\"kopp21_cnn.yaml\", seed=0).to('cuda')\n",
    "with wandb.init(project='EUGENe GPU Utilization', name='EUGENe'):\n",
    "    eu.train.fit_sequence_module(\n",
    "        kopp21,\n",
    "        sdata,\n",
    "        gpus=1,\n",
    "        seq_var=\"ohe_seq\",\n",
    "        target_vars=[\"target\"],\n",
    "        in_memory=True,\n",
    "        train_var=\"train_val\",\n",
    "        epochs=25,\n",
    "        batch_size=2048,\n",
    "        drop_last=False,\n",
    "        transforms=transforms,\n",
    "        early_stopping_metric=None,\n",
    "        model_checkpoint_monitor=None,\n",
    "    )"
   ]
  },
  {
   "attachments": {},
   "cell_type": "markdown",
   "metadata": {},
   "source": [
    "# DONE!"
   ]
  },
  {
   "attachments": {},
   "cell_type": "markdown",
   "metadata": {},
   "source": [
    "---"
   ]
  },
  {
   "attachments": {},
   "cell_type": "markdown",
   "metadata": {},
   "source": [
    "# Scratch"
   ]
  }
 ],
 "metadata": {
  "kernelspec": {
   "display_name": "EUGENe",
   "language": "python",
   "name": "eugene-dev"
  },
  "language_info": {
   "codemirror_mode": {
    "name": "ipython",
    "version": 3
   },
   "file_extension": ".py",
   "mimetype": "text/x-python",
   "name": "python",
   "nbconvert_exporter": "python",
   "pygments_lexer": "ipython3",
   "version": "3.9.15"
  }
 },
 "nbformat": 4,
 "nbformat_minor": 4
}
