{
 "cells": [
  {
   "attachments": {},
   "cell_type": "markdown",
   "metadata": {},
   "source": [
    "# Kopp et al 2021 Plotting \n",
    "**Authorship:**\n",
    "Adam Klie (last updated: *06/10/2023*)\n",
    "***\n",
    "**Description:**\n",
    "Notebook to generate plots for the Kopp et al (2021) dataset that are not included in the other notebooks.\n",
    "- Performance figures\n",
    "- Nicer seq track and filter visualizations\n",
    "- Inspect and merge TomTom annotations\n",
    "***"
   ]
  },
  {
   "cell_type": "code",
   "execution_count": null,
   "metadata": {
    "tags": []
   },
   "outputs": [],
   "source": [
    "# General imports\n",
    "import os\n",
    "import sys\n",
    "import numpy as np\n",
    "import pandas as pd\n",
    "from copy import deepcopy\n",
    "from itertools import groupby\n",
    "from operator import itemgetter\n",
    "from scipy.stats import mannwhitneyu\n",
    "from statsmodels.stats.multitest import multipletests\n",
    "\n",
    "# EUGENe imports and settings\n",
    "import eugene as eu\n",
    "from eugene import preprocess as pp\n",
    "from eugene import plot as pl\n",
    "from eugene import settings\n",
    "settings.dataset_dir = \"/cellar/users/aklie/data/eugene/revision/kopp21\"\n",
    "settings.output_dir = \"/cellar/users/aklie/projects/ML4GLand/EUGENe_paper/output/revision/kopp21\"\n",
    "settings.logging_dir = \"/cellar/users/dlaub/projects/ML4GLand/EUGENe_paper/logs/kopp21\"\n",
    "settings.figure_dir = \"/cellar/users/aklie/projects/ML4GLand/EUGENe_paper/figures/revision/kopp21\"\n",
    "\n",
    "# EUGENe packages\n",
    "import seqdata as sd\n",
    "import motifdata as md\n",
    "\n",
    "# For illustrator editing\n",
    "import matplotlib\n",
    "import matplotlib.pyplot as plt\n",
    "matplotlib.rcParams['pdf.fonttype'] = 42\n",
    "matplotlib.rcParams['ps.fonttype'] = 42\n",
    "\n",
    "# Print versions\n",
    "print(f\"Python version: {sys.version}\")\n",
    "print(f\"NumPy version: {np.__version__}\")\n",
    "print(f\"Eugene version: {eu.__version__}\")\n",
    "print(f\"SeqData version: {sd.__version__}\")"
   ]
  },
  {
   "attachments": {},
   "cell_type": "markdown",
   "metadata": {},
   "source": [
    "# Load in the test `SeqData`(s)"
   ]
  },
  {
   "cell_type": "code",
   "execution_count": null,
   "metadata": {
    "tags": []
   },
   "outputs": [],
   "source": [
    "# Read in the predictions \n",
    "predictions = pd.read_csv(os.path.join(settings.output_dir, \"test_predictions_all.tsv\"), sep=\"\\t\", index_col=0)\n",
    "sdata_test = sd.open_zarr(os.path.join(settings.output_dir, \"test_predictions_all.zarr\")).load()"
   ]
  },
  {
   "cell_type": "code",
   "execution_count": null,
   "metadata": {},
   "outputs": [],
   "source": [
    "# Give the sequences a unique ID\n",
    "sdata_test[\"id\"] = sdata_test[\"chrom\"] + \":\" + sdata_test[\"chromStart\"].astype(str) + \"-\" + sdata_test[\"chromEnd\"].astype(str)"
   ]
  },
  {
   "attachments": {},
   "cell_type": "markdown",
   "metadata": {},
   "source": [
    "# Generate performance figures"
   ]
  },
  {
   "cell_type": "code",
   "execution_count": null,
   "metadata": {},
   "outputs": [],
   "source": [
    "# Get only variables with \"predictions\" in the name\n",
    "preds_vars = [k for k in sdata_test.keys() if \"predictions\" in k]\n",
    "preds_vars"
   ]
  },
  {
   "cell_type": "code",
   "execution_count": null,
   "metadata": {},
   "outputs": [],
   "source": [
    "# Order the pred_vars from in this order\n",
    "order = [\"dsfcn\", \"kopp21_cnn\", \"dshybrid\", \"dscnn\"]\n",
    "pred_models = [k.split(\"_\")[0] if \"kopp21\" not in k else \"kopp21_cnn\" for k in preds_vars]\n",
    "pred_models = [order.index(m) for m in pred_models]\n",
    "preds_vars = [k for _, k in sorted(zip(pred_models, preds_vars))]\n",
    "\n",
    "# Get groups based io\n",
    "model_groups = {\"dsfcn\": \"dsfcn\", \"kopp21_cnn\": \"kopp21_cnn\", \"dshybrid\": \"dshybrid\", \"dscnn\": \"dscnn\"}\n",
    "groups = [model_groups[k.split(\"_\")[0]] if \"kopp21\" not in k else \"kopp21_cnn\" for k in preds_vars]\n",
    "preds_vars, groups"
   ]
  },
  {
   "cell_type": "code",
   "execution_count": null,
   "metadata": {
    "tags": []
   },
   "outputs": [],
   "source": [
    "model_scores = pl.performance_summary(\n",
    "    sdata_test,\n",
    "    target_var=\"target\",\n",
    "    prediction_vars=preds_vars,\n",
    "    prediction_groups=groups,\n",
    "    order=order,\n",
    "    metrics=[\"average_precision\"],\n",
    "    figsize=(6, 6),\n",
    "    save=os.path.join(settings.figure_dir, \"all_models_auprc_boxplot.pdf\")\n",
    ")\n"
   ]
  },
  {
   "cell_type": "code",
   "execution_count": null,
   "metadata": {
    "tags": []
   },
   "outputs": [],
   "source": [
    "# Test distributions for significant differences\n",
    "pairwise_tests = []\n",
    "compare_df = model_scores.pivot(columns=\"prediction_groups\", values=\"average_precision\")\n",
    "pairwise_tests.append(mannwhitneyu(compare_df[\"dsfcn\"].dropna(), compare_df[\"kopp21_cnn\"].dropna()).pvalue)\n",
    "pairwise_tests.append(mannwhitneyu(compare_df[\"dsfcn\"].dropna(), compare_df[\"dshybrid\"].dropna()).pvalue)\n",
    "pairwise_tests.append(mannwhitneyu(compare_df[\"dsfcn\"].dropna(), compare_df[\"dscnn\"].dropna()).pvalue)\n",
    "pairwise_tests.append(mannwhitneyu(compare_df[\"kopp21_cnn\"].dropna(), compare_df[\"dshybrid\"].dropna()).pvalue)\n",
    "pairwise_tests.append(mannwhitneyu(compare_df[\"kopp21_cnn\"].dropna(), compare_df[\"dscnn\"].dropna()).pvalue)\n",
    "pairwise_tests.append(mannwhitneyu(compare_df[\"dshybrid\"].dropna(), compare_df[\"dscnn\"].dropna()).pvalue)\n",
    "multipletests(pairwise_tests, alpha=0.05, method=\"fdr_bh\")"
   ]
  },
  {
   "cell_type": "code",
   "execution_count": null,
   "metadata": {},
   "outputs": [],
   "source": [
    "# Boxplots\n",
    "model_scores = pl.performance_summary(\n",
    "    sdata_test,\n",
    "    target_var=\"target\",\n",
    "    prediction_vars=preds_vars,\n",
    "    prediction_groups=groups,\n",
    "    order=order,\n",
    "    metrics=[\"accuracy\", \"precision\", \"recall\", \"f1\", \"average_precision\", \"roc_auc\"],\n",
    "    figsize=(6, 6),\n",
    "    save=os.path.join(settings.figure_dir, \"performance_summary_boxplots.pdf\")\n",
    ")"
   ]
  },
  {
   "cell_type": "code",
   "execution_count": null,
   "metadata": {
    "tags": []
   },
   "outputs": [],
   "source": [
    "# Save model performance as table\n",
    "model_scores.to_csv(os.path.join(settings.output_dir, \"performance_summary.tsv\"), sep=\"\\t\")"
   ]
  },
  {
   "cell_type": "code",
   "execution_count": null,
   "metadata": {
    "tags": []
   },
   "outputs": [],
   "source": [
    "# Identify the best model from returned model scores\n",
    "auprc_sorted = model_scores[\"average_precision\"].sort_values(ascending=False)\n",
    "auprc_sorted.plot(kind=\"bar\", ylabel=\"auPRC\")"
   ]
  },
  {
   "cell_type": "code",
   "execution_count": null,
   "metadata": {
    "tags": []
   },
   "outputs": [],
   "source": [
    "# Plot the performances across species for the best model\n",
    "model_scores[\"model_type\"] = [model.split(\"_\")[0] for model in model_scores.index]\n",
    "best_preds = model_scores.sort_values(by=\"average_precision\", ascending=False).groupby(\"model_type\").head(1).index\n",
    "pl.auprc(\n",
    "    sdata_test,\n",
    "    target_vars=[\"target\"]*4, \n",
    "    prediction_vars=best_preds,\n",
    "    labels=best_preds,\n",
    "    save=os.path.join(settings.figure_dir, \"best_models_auprc.pdf\")\n",
    ")\n",
    "plt.show()"
   ]
  },
  {
   "cell_type": "code",
   "execution_count": null,
   "metadata": {
    "tags": []
   },
   "outputs": [],
   "source": [
    "# Plot the performances across species for the best model\n",
    "pl.auprc(\n",
    "    sdata_test,\n",
    "    target_vars=\"target\",\n",
    "    prediction_vars=best_preds[0],\n",
    "    labels=best_preds[0],\n",
    "    save=os.path.join(eu.settings.figure_dir, \"best_single_model_auprc.pdf\")\n",
    ")\n",
    "plt.show()"
   ]
  },
  {
   "attachments": {},
   "cell_type": "markdown",
   "metadata": {},
   "source": [
    "# Seq track visualizations"
   ]
  },
  {
   "cell_type": "code",
   "execution_count": null,
   "metadata": {
    "tags": []
   },
   "outputs": [],
   "source": [
    "# Choose the model\n",
    "model_type = \"dsfcn\"\n",
    "trial = 1"
   ]
  },
  {
   "cell_type": "code",
   "execution_count": null,
   "metadata": {},
   "outputs": [],
   "source": [
    "# And the test data\n",
    "sdata_test = sd.open_zarr(os.path.join(eu.settings.output_dir, model_type, f\"test_predictions_and_interpretations.zarr\"))\n",
    "ids = sdata_test[\"id\"].values"
   ]
  },
  {
   "cell_type": "code",
   "execution_count": null,
   "metadata": {
    "tags": []
   },
   "outputs": [],
   "source": [
    "# From the top 10 predicted sequences, identify the positions where we see significant attribution signal\n",
    "top10 = sdata_test[f\"{model_type}_trial_{trial}_target_predictions\"].to_series().sort_values(ascending=False).iloc[:10].index\n",
    "top10_idx = np.argsort(sdata_test[f\"{model_type}_trial_{trial}_target_predictions\"].values)[::-1][:10]\n",
    "np.where(np.sum(sdata_test[\"GradientShap_attrs\"][top10_idx], axis=1) > 0.1)"
   ]
  },
  {
   "cell_type": "code",
   "execution_count": null,
   "metadata": {
    "tags": []
   },
   "outputs": [],
   "source": [
    "# Plot all top 10 and save\n",
    "for i, seq in enumerate(top10):\n",
    "    pl.seq_track(\n",
    "        sdata_test,\n",
    "        seq_id=ids[top10[i]],\n",
    "        attrs_var=\"GradientShap_attrs\",\n",
    "        ylab=\"GradientShap Forward\",\n",
    "        figsize=(18, 3),\n",
    "        save=os.path.join(settings.figure_dir, model_type, f\"best_{model_type}_model_GradientSHAP_forward_imps_top{i+1}.pdf\")\n",
    "    )\n",
    "    pl.seq_track(\n",
    "        sdata_test,\n",
    "        seq_id=ids[top10[i]],\n",
    "        attrs_var=\"GradientShap_attrs_rc\",\n",
    "        ylab=\"GradientShap Reverse\",\n",
    "        figsize=(18, 3),\n",
    "        save=os.path.join(settings.figure_dir, model_type, f\"best_{model_type}_model_GradientSHAP_reverse_imps_top{i+1}.pdf\")\n",
    "    )"
   ]
  },
  {
   "attachments": {},
   "cell_type": "markdown",
   "metadata": {},
   "source": [
    "# Filter viz"
   ]
  },
  {
   "cell_type": "code",
   "execution_count": null,
   "metadata": {},
   "outputs": [],
   "source": [
    "# Choose the right layer name for each model\n",
    "if model_type == \"kopp21_cnn\":\n",
    "    layer_name = \"arch.conv\"\n",
    "elif \"ds\" in model_type:\n",
    "    layer_name = \"arch.conv1d_tower.layers.0\"\n",
    "else:\n",
    "    layer_name = \"arch.conv1d_tower.layers.1\"\n",
    "layer_name"
   ]
  },
  {
   "cell_type": "code",
   "execution_count": null,
   "metadata": {
    "tags": []
   },
   "outputs": [],
   "source": [
    "# Plot all the filters for the current model\n",
    "pl.multifilter_viz(\n",
    "    sdata_test,\n",
    "    filter_nums=range(0, 10),\n",
    "    pfms_var=f\"{layer_name}_pfms\",\n",
    "    num_rows=2,\n",
    "    num_cols=5,\n",
    "    figsize=(10, 3),\n",
    "    titles=[f\"filter {i}\" for i in range(0, 10)],\n",
    "    save=os.path.join(settings.figure_dir, model_type, f\"best_{model_type}_model_filters_viz.pdf\")\n",
    ")"
   ]
  },
  {
   "attachments": {},
   "cell_type": "markdown",
   "metadata": {},
   "source": [
    "# TomTom results"
   ]
  },
  {
   "cell_type": "code",
   "execution_count": null,
   "metadata": {
    "tags": []
   },
   "outputs": [],
   "source": [
    "# Get the significant hits to the HOCOMOCO database\n",
    "model_type = \"kopp21_cnn\"\n",
    "res = pd.read_csv(os.path.join(settings.output_dir, model_type, f\"best_model_{model_type}_filters_tomtom.tsv\"), sep=\"\\t\", comment=\"#\")\n",
    "res_sig = res[res[\"q-value\"] < 0.05].sort_values(by=\"q-value\")"
   ]
  },
  {
   "cell_type": "code",
   "execution_count": null,
   "metadata": {
    "tags": []
   },
   "outputs": [],
   "source": [
    "# Check the most significant for each filter\n",
    "res_sig.groupby(\"Query_ID\").head(1)"
   ]
  },
  {
   "cell_type": "code",
   "execution_count": null,
   "metadata": {
    "tags": []
   },
   "outputs": [],
   "source": [
    "# Save as a dataframe\n",
    "merged_df = pd.DataFrame()\n",
    "for model in [\"dshybrid\", \"kopp21_cnn\", \"dscnn\"]:\n",
    "    x = res = pd.read_csv(os.path.join(settings.output_dir, model, f\"best_model_{model}_filters_tomtom.tsv\"), sep=\"\\t\", comment=\"#\")\n",
    "    x[\"model_type\"] = model\n",
    "    merged_df = pd.concat([merged_df, x])\n",
    "merged_df = merged_df[~merged_df[\"Query_ID\"].isna()]\n",
    "merged_df.to_csv(os.path.join(settings.output_dir, \"all_models_filters_tomtom.tsv\"), sep=\"\\t\", index=False)"
   ]
  },
  {
   "attachments": {},
   "cell_type": "markdown",
   "metadata": {},
   "source": [
    "# DONE!"
   ]
  },
  {
   "attachments": {},
   "cell_type": "markdown",
   "metadata": {},
   "source": [
    "---"
   ]
  },
  {
   "attachments": {},
   "cell_type": "markdown",
   "metadata": {},
   "source": [
    "# Scratch"
   ]
  }
 ],
 "metadata": {
  "kernelspec": {
   "display_name": "Python 3.9 ml4gland",
   "language": "python",
   "name": "ml4gland"
  },
  "vscode": {
   "interpreter": {
    "hash": "949777d72b0d2535278d3dc13498b2535136f6dfe0678499012e853ee9abcab1"
   }
  }
 },
 "nbformat": 4,
 "nbformat_minor": 4
}
