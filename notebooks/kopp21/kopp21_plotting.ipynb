{
 "cells": [
  {
   "cell_type": "markdown",
   "metadata": {},
   "source": [
    "# Kopp et al 2021 Plotting \n",
    "**Authorship:**\n",
    "Adam Klie, *08/12/2022*\n",
    "***\n",
    "**Description:**\n",
    "Notebook to generate plots for the Kopp et al (2021) dataset that are not included in the other notebooks.\n",
    "- Performance figures\n",
    "- Nicer seq track and filter visualizations\n",
    "- Inspect and merge TomTom annotations\n",
    "***"
   ]
  },
  {
   "cell_type": "code",
   "execution_count": null,
   "metadata": {
    "tags": []
   },
   "outputs": [],
   "source": [
    "if 'autoreload' not in get_ipython().extension_manager.loaded:\n",
    "    %load_ext autoreload\n",
    "%autoreload 2\n",
    "\n",
    "import os\n",
    "import glob\n",
    "import logging\n",
    "import torch\n",
    "import numpy as np\n",
    "import pandas as pd\n",
    "import eugene as eu\n",
    "import matplotlib.pyplot as plt\n",
    "import matplotlib\n",
    "from scipy.stats import mannwhitneyu\n",
    "from statsmodels.stats.multitest import multipletests\n",
    "\n",
    "matplotlib.rcParams['pdf.fonttype'] = 42\n",
    "matplotlib.rcParams['ps.fonttype'] = 42"
   ]
  },
  {
   "cell_type": "code",
   "execution_count": null,
   "metadata": {
    "tags": []
   },
   "outputs": [],
   "source": [
    "eu.settings.dataset_dir = \"/cellar/users/aklie/data/eugene/kopp21\"\n",
    "eu.settings.output_dir = \"/cellar/users/aklie/projects/EUGENe/EUGENe_paper/output/kopp21\"\n",
    "eu.settings.logging_dir = \"/cellar/users/aklie/projects/EUGENe/EUGENe_paper/logs/kopp21\"\n",
    "eu.settings.config_dir = \"/cellar/users/aklie/projects/EUGENe/EUGENe_paper/configs/kopp21\"\n",
    "eu.settings.figure_dir = \"/cellar/users/aklie/projects/EUGENe/EUGENe_paper/figures/kopp21\"\n",
    "eu.settings.verbosity = logging.ERROR"
   ]
  },
  {
   "cell_type": "markdown",
   "metadata": {},
   "source": [
    "# Load in the test `SeqData`(s)"
   ]
  },
  {
   "cell_type": "code",
   "execution_count": null,
   "metadata": {
    "tags": []
   },
   "outputs": [],
   "source": [
    "# Load in the training data that's been predicted on\n",
    "sdata_test = eu.dl.read_h5sd(filename=os.path.join(eu.settings.output_dir, \"jund_test_predictions_all.h5sd\"))\n",
    "sdata_test"
   ]
  },
  {
   "cell_type": "markdown",
   "metadata": {},
   "source": [
    "# Generate performance figures"
   ]
  },
  {
   "cell_type": "code",
   "execution_count": null,
   "metadata": {
    "tags": []
   },
   "outputs": [],
   "source": [
    "model_scores = eu.pl.performance_summary(\n",
    "    sdata_test,\n",
    "    target_key=\"target\",\n",
    "    prediction_groups=[\"Kopp21CNN\"]*5 + [\"dsCNN\"]*5 + [\"dsFCN\"]*5 + [\"dsHybrid\"]*5,\n",
    "    order=[\"dsFCN\", \"Kopp21CNN\", \"dsHybrid\", \"dsCNN\"],\n",
    "    metrics=[\"average_precision\"],\n",
    "    figsize=(6, 6),\n",
    "    save=os.path.join(eu.settings.figure_dir, \"jund_auprc_boxplot.pdf\")\n",
    ")"
   ]
  },
  {
   "cell_type": "code",
   "execution_count": null,
   "metadata": {
    "tags": []
   },
   "outputs": [],
   "source": [
    "# Test distributions for significant differences\n",
    "pairwise_tests = []\n",
    "compare_df = model_scores.pivot(columns=\"prediction_groups\", values=\"average_precision\")\n",
    "pairwise_tests.append(mannwhitneyu(compare_df[\"dsFCN\"].dropna(), compare_df[\"Kopp21CNN\"].dropna()).pvalue)\n",
    "pairwise_tests.append(mannwhitneyu(compare_df[\"dsFCN\"].dropna(), compare_df[\"dsHybrid\"].dropna()).pvalue)\n",
    "pairwise_tests.append(mannwhitneyu(compare_df[\"dsFCN\"].dropna(), compare_df[\"dsCNN\"].dropna()).pvalue)\n",
    "pairwise_tests.append(mannwhitneyu(compare_df[\"Kopp21CNN\"].dropna(), compare_df[\"dsHybrid\"].dropna()).pvalue)\n",
    "pairwise_tests.append(mannwhitneyu(compare_df[\"Kopp21CNN\"].dropna(), compare_df[\"dsCNN\"].dropna()).pvalue)\n",
    "pairwise_tests.append(mannwhitneyu(compare_df[\"dsHybrid\"].dropna(), compare_df[\"dsCNN\"].dropna()).pvalue)\n",
    "multipletests(pairwise_tests, alpha=0.05, method=\"fdr_bh\")"
   ]
  },
  {
   "cell_type": "code",
   "execution_count": null,
   "metadata": {
    "tags": []
   },
   "outputs": [],
   "source": [
    "# Summarize performance across models for a metric\n",
    "model_scores = eu.pl.performance_summary(\n",
    "    sdata_test,\n",
    "    target_key=\"target\",\n",
    "    prediction_groups=[\"Kopp21CNN\"]*5 + [\"dsCNN\"]*5 + [\"dsFCN\"]*5 + [\"dsHybrid\"]*5, \n",
    "    order=[\"dsFCN\", \"Kopp21CNN\", \"dsHybrid\", \"dsCNN\"],\n",
    "    metrics=[\"accuracy\", \"precision\", \"recall\", \"f1\", \"average_precision\", \"roc_auc\"],\n",
    "    figsize=(6, 6),\n",
    "    save=os.path.join(eu.settings.figure_dir, \"jund_performance_summary.pdf\")\n",
    ")"
   ]
  },
  {
   "cell_type": "code",
   "execution_count": null,
   "metadata": {
    "tags": []
   },
   "outputs": [],
   "source": [
    "# Save model performance as table\n",
    "model_scores.to_csv(os.path.join(eu.settings.output_dir, \"jund_performance_summary.tsv\"), sep=\"\\t\")"
   ]
  },
  {
   "cell_type": "code",
   "execution_count": null,
   "metadata": {
    "tags": []
   },
   "outputs": [],
   "source": [
    "# Identify the best model from returned model scores\n",
    "auprc_sorted = model_scores[\"average_precision\"].sort_values(ascending=False)\n",
    "auprc_sorted.plot(kind=\"bar\", ylabel=\"auPRC\")"
   ]
  },
  {
   "cell_type": "code",
   "execution_count": null,
   "metadata": {
    "tags": []
   },
   "outputs": [],
   "source": [
    "# Plot the performances across species for the best model\n",
    "model_scores[\"model_type\"] = [model.split(\"_\")[0] for model in model_scores.index]\n",
    "best_preds = model_scores.sort_values(by=\"average_precision\", ascending=False).groupby(\"model_type\").head(1).index\n",
    "eu.pl.auprc(\n",
    "    sdata_test,\n",
    "    target_keys=[\"target\"]*4, \n",
    "    prediction_keys=best_preds,\n",
    "    labels=best_preds,\n",
    "    save=os.path.join(eu.settings.figure_dir, \"jund_best_model_auprc.pdf\")\n",
    ")\n",
    "plt.show()"
   ]
  },
  {
   "cell_type": "code",
   "execution_count": null,
   "metadata": {
    "tags": []
   },
   "outputs": [],
   "source": [
    "# Plot the performances across species for the best model\n",
    "eu.pl.auprc(\n",
    "    sdata_test,\n",
    "    target_keys=\"target\",\n",
    "    prediction_keys=best_preds[0],\n",
    "    labels=best_preds[0],\n",
    "    save=os.path.join(eu.settings.figure_dir, \"jund_best_single_model_auprc.pdf\")\n",
    ")\n",
    "plt.show()"
   ]
  },
  {
   "cell_type": "markdown",
   "metadata": {},
   "source": [
    "# Seq track visualizations"
   ]
  },
  {
   "cell_type": "code",
   "execution_count": null,
   "metadata": {
    "tags": []
   },
   "outputs": [],
   "source": [
    "# Choose the model and the test data\n",
    "model_type = \"Kopp21CNN\"\n",
    "trial = 4\n",
    "sdata_test = eu.dl.read_h5sd(os.path.join(eu.settings.output_dir, f\"jund_test_predictions_and_interpretations_{model_type}.h5sd\"))"
   ]
  },
  {
   "cell_type": "code",
   "execution_count": null,
   "metadata": {
    "tags": []
   },
   "outputs": [],
   "source": [
    "# From the top 10 predicted sequences, identify the positions where we see significant attribution signal\n",
    "top10 = sdata_test[f\"{model_type}_trial_{trial}_target_predictions\"].sort_values(ascending=False).iloc[:10].index\n",
    "top10_idx = np.argsort(sdata_test[f\"{model_type}_trial_{trial}_target_predictions\"].values)[::-1][:10]\n",
    "np.where(np.sum(sdata_test.uns[\"GradientSHAP_forward_imps\"][top10_idx], axis=1) > 0.1)"
   ]
  },
  {
   "cell_type": "code",
   "execution_count": null,
   "metadata": {
    "tags": []
   },
   "outputs": [],
   "source": [
    "# Use the ouptut from above to highlight specific seqlets\n",
    "eu.pl.seq_track(\n",
    "    sdata_test,\n",
    "    seq_id=top10[0],\n",
    "    uns_key=\"GradientSHAP_forward_imps\",\n",
    "    ylabel=\"GradientSHAP Forward\",\n",
    "    figsize=(18, 3),\n",
    "    highlights=[(387, 400)],\n",
    "    highlight_colors = [\"lightcyan\"],\n",
    "    save=os.path.join(eu.settings.figure_dir, f\"jund_best_{model_type}_model_GradientSHAP_forward_imps_top1_with_color.pdf\")\n",
    ")"
   ]
  },
  {
   "cell_type": "code",
   "execution_count": null,
   "metadata": {},
   "outputs": [],
   "source": [
    "# Repeat for the reverse strand\n",
    "np.where(np.sum(sdata_test.uns[\"GradientSHAP_reverse_imps\"][top10_idx], axis=1) > 0.1)"
   ]
  },
  {
   "cell_type": "code",
   "execution_count": null,
   "metadata": {
    "tags": []
   },
   "outputs": [],
   "source": [
    "eu.pl.seq_track(\n",
    "    sdata_test,\n",
    "    seq_id=top2[0],\n",
    "    uns_key=\"GradientSHAP_reverse_imps\",\n",
    "    ylabel=\"GradientSHAP Reverse\",\n",
    "    figsize=(18, 3),\n",
    "    highlights=[(105,114), (178, 190)],\n",
    "    highlight_colors = [\"lightcyan\", \"honeydew\"],\n",
    "    save=os.path.join(eu.settings.figure_dir, f\"jund_best_{model_type}_model_GradientSHAP_reverse_imps_top1_with_color.pdf\")\n",
    ")"
   ]
  },
  {
   "cell_type": "code",
   "execution_count": null,
   "metadata": {
    "tags": []
   },
   "outputs": [],
   "source": [
    "# Plot all top 10 and save\n",
    "for i, seq in enumerate(top10):\n",
    "    eu.pl.seq_track(\n",
    "        sdata_test,\n",
    "        seq_id=top10[i],\n",
    "        uns_key=\"GradientSHAP_forward_imps\",\n",
    "        ylabel=\"GradientSHAP Forward\",\n",
    "        figsize=(18, 3),\n",
    "        save=os.path.join(eu.settings.figure_dir, f\"jund_best_{model_type}_model_GradientSHAP_forward_imps_top{i+1}.pdf\")\n",
    "    )\n",
    "    eu.pl.seq_track(\n",
    "        sdata_test,\n",
    "        seq_id=top10[i],\n",
    "        uns_key=\"GradientSHAP_reverse_imps\",\n",
    "        ylabel=\"GradientSHAP Reverse\",\n",
    "        figsize=(18, 3),\n",
    "        save=os.path.join(eu.settings.figure_dir, f\"jund_best_{model_type}_model_GradientSHAP_reverse_imps_top{i+1}.pdf\")\n",
    "    )"
   ]
  },
  {
   "cell_type": "markdown",
   "metadata": {},
   "source": [
    "# Filter viz"
   ]
  },
  {
   "cell_type": "code",
   "execution_count": null,
   "metadata": {
    "tags": []
   },
   "outputs": [],
   "source": [
    "# Plot all the filters for the current model\n",
    "for i in range(1):\n",
    "    start_filter = i*10\n",
    "    end_filter = (i*10) + 10\n",
    "    print(f\"Plotting and saving filters {start_filter+1}-{end_filter}\")\n",
    "    eu.pl.multifilter_viz(\n",
    "        sdata_test,\n",
    "        filter_ids=list(sdata_test.uns[\"pfms\"].keys())[start_filter:end_filter],\n",
    "        num_rows=2,\n",
    "        num_cols=5,\n",
    "        titles=[f\"filter {i}\" for i in range(start_filter, end_filter)],\n",
    "        save=os.path.join(eu.settings.figure_dir, f\"jund_best_{model_type}_model_filters{start_filter+1}-{end_filter}_viz.pdf\")\n",
    "    )"
   ]
  },
  {
   "cell_type": "markdown",
   "metadata": {},
   "source": [
    "# TomTom results"
   ]
  },
  {
   "cell_type": "code",
   "execution_count": null,
   "metadata": {
    "tags": []
   },
   "outputs": [],
   "source": [
    "# Get the significant hits to the HOCOMOCO database\n",
    "model_type = \"CNN\"\n",
    "res = pd.read_csv(os.path.join(eu.settings.output_dir, f\"jund_best_{model_type}_model_filters_tomtom.tsv\"), sep=\"\\t\", comment=\"#\")\n",
    "res_sig = res[res[\"q-value\"] < 0.05].sort_values(by=\"q-value\")"
   ]
  },
  {
   "cell_type": "code",
   "execution_count": null,
   "metadata": {
    "tags": []
   },
   "outputs": [],
   "source": [
    "# Check the most significant for each filter\n",
    "res_sig.groupby(\"Query_ID\").head(1)"
   ]
  },
  {
   "cell_type": "code",
   "execution_count": null,
   "metadata": {
    "tags": []
   },
   "outputs": [],
   "source": [
    "# Save as a dataframe\n",
    "merged_df = pd.DataFrame()\n",
    "for model in [\"CNN\", \"Hybrid\", \"Kopp21CNN\"]:\n",
    "    x = res = pd.read_csv(os.path.join(eu.settings.output_dir, f\"jund_best_{model_type}_model_filters_tomtom.tsv\"), sep=\"\\t\", comment=\"#\")\n",
    "    x[\"model_type\"] = model\n",
    "    merged_df = pd.concat([merged_df, x])\n",
    "merged_df = merged_df[~merged_df[\"Query_ID\"].isna()]\n",
    "merged_df.to_csv(os.path.join(eu.settings.output_dir, \"all_models_filters_tomtom.tsv\"), sep=\"\\t\", index=False)"
   ]
  },
  {
   "cell_type": "markdown",
   "metadata": {},
   "source": [
    "---"
   ]
  }
 ],
 "metadata": {
  "kernelspec": {
   "display_name": "Python 3.7 eugene_dev",
   "language": "python",
   "name": "eugene_dev"
  },
  "language_info": {
   "codemirror_mode": {
    "name": "ipython",
    "version": 3
   },
   "file_extension": ".py",
   "mimetype": "text/x-python",
   "name": "python",
   "nbconvert_exporter": "python",
   "pygments_lexer": "ipython3",
   "version": "3.7.12"
  },
  "vscode": {
   "interpreter": {
    "hash": "949777d72b0d2535278d3dc13498b2535136f6dfe0678499012e853ee9abcab1"
   }
  }
 },
 "nbformat": 4,
 "nbformat_minor": 4
}
