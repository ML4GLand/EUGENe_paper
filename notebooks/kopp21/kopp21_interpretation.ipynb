{
 "cells": [
  {
   "cell_type": "markdown",
   "metadata": {},
   "source": [
    "# Kopp et al 2021 Intepretation\n",
    "**Authorship:**\n",
    "Adam Klie, *08/12/2022*\n",
    "***\n",
    "**Description:**\n",
    "Notebook to interpret the best trained models on the Kopp et al (2021) dataset.\n",
    "***"
   ]
  },
  {
   "cell_type": "code",
   "execution_count": null,
   "metadata": {
    "tags": []
   },
   "outputs": [],
   "source": [
    "if 'autoreload' not in get_ipython().extension_manager.loaded:\n",
    "    %load_ext autoreload\n",
    "%autoreload 2\n",
    "\n",
    "import os\n",
    "import glob\n",
    "import logging\n",
    "import torch\n",
    "import numpy as np\n",
    "import pandas as pd\n",
    "import eugene as eu\n",
    "import matplotlib.pyplot as plt\n",
    "import matplotlib\n",
    "\n",
    "matplotlib.rcParams['pdf.fonttype'] = 42\n",
    "matplotlib.rcParams['ps.fonttype'] = 42"
   ]
  },
  {
   "cell_type": "code",
   "execution_count": null,
   "metadata": {
    "tags": []
   },
   "outputs": [],
   "source": [
    "eu.settings.dataset_dir = \"/cellar/users/aklie/data/eugene/kopp21\"\n",
    "eu.settings.output_dir = \"/cellar/users/aklie/projects/EUGENe/EUGENe_paper/output/kopp21\"\n",
    "eu.settings.logging_dir = \"/cellar/users/aklie/projects/EUGENe/EUGENe_paper/logs/kopp21\"\n",
    "eu.settings.config_dir = \"/cellar/users/aklie/projects/EUGENe/EUGENe_paper/configs/kopp21\"\n",
    "eu.settings.figure_dir = \"/cellar/users/aklie/projects/EUGENe/EUGENe_paper/figures/kopp21\"\n",
    "eu.settings.verbosity = logging.ERROR"
   ]
  },
  {
   "cell_type": "markdown",
   "metadata": {},
   "source": [
    "# Load in the `leaf`, `proto` and `combined` test `SeqData`s "
   ]
  },
  {
   "cell_type": "code",
   "execution_count": null,
   "metadata": {
    "tags": []
   },
   "outputs": [],
   "source": [
    "# Load in the preprocessed training data\n",
    "sdata_test = eu.dl.read_h5sd(\n",
    "    filename=os.path.join(eu.settings.output_dir, \"jund_test_predictions_all.h5sd\"),\n",
    ")"
   ]
  },
  {
   "cell_type": "markdown",
   "metadata": {},
   "source": [
    "# Load the best model"
   ]
  },
  {
   "cell_type": "code",
   "execution_count": null,
   "metadata": {
    "tags": []
   },
   "outputs": [],
   "source": [
    "model_type = \"Kopp21CNN\"\n",
    "trial = 4"
   ]
  },
  {
   "cell_type": "code",
   "execution_count": null,
   "metadata": {
    "tags": []
   },
   "outputs": [],
   "source": [
    "model_file = glob.glob(os.path.join(eu.settings.logging_dir, f\"{model_type}\", f\"trial_{trial}\", \"checkpoints\", \"*\"))[0]\n",
    "model = eu.models.Kopp21CNN.load_from_checkpoint(model_file)\n",
    "model"
   ]
  },
  {
   "cell_type": "markdown",
   "metadata": {},
   "source": [
    "## Feature attribution"
   ]
  },
  {
   "cell_type": "code",
   "execution_count": null,
   "metadata": {
    "tags": []
   },
   "outputs": [],
   "source": [
    "saliency_methods = [\"InputXGradient\", \"GradientSHAP\"]\n",
    "for method in saliency_methods:\n",
    "    eu.interpret.feature_attribution_sdata(\n",
    "        model,\n",
    "        sdata_test,\n",
    "        method=method\n",
    "    )"
   ]
  },
  {
   "cell_type": "markdown",
   "metadata": {},
   "source": [
    "## Filter viz (only for convnet)"
   ]
  },
  {
   "cell_type": "code",
   "execution_count": null,
   "metadata": {
    "tags": []
   },
   "outputs": [],
   "source": [
    "eu.interpret.generate_pfms_sdata(\n",
    "    model, \n",
    "    sdata_test,\n",
    "    method=\"Minnoye20\"\n",
    ")"
   ]
  },
  {
   "cell_type": "code",
   "execution_count": null,
   "metadata": {
    "tags": []
   },
   "outputs": [],
   "source": [
    "# Save all the filter pfms from above as meme format for submission to TomTom\n",
    "eu.dl.motif.filters_to_meme_sdata(\n",
    "    sdata_test,\n",
    "    filter_ids=list(sdata_test.uns[\"pfms\"].keys()),\n",
    "    output_dir=os.path.join(eu.settings.output_dir),\n",
    "    file_name=f\"jund_best_{model_type}_model_filters.meme\"\n",
    ")"
   ]
  },
  {
   "cell_type": "code",
   "execution_count": null,
   "metadata": {
    "tags": []
   },
   "outputs": [],
   "source": [
    "# Save the test intepretations for this model\n",
    "sdata_test.write_h5sd(os.path.join(eu.settings.output_dir, f\"jund_test_predictions_and_interpretations_{model_type}.h5sd\"))"
   ]
  },
  {
   "cell_type": "markdown",
   "metadata": {},
   "source": [
    "## In silico interpretation"
   ]
  },
  {
   "cell_type": "code",
   "execution_count": null,
   "metadata": {
    "tags": []
   },
   "outputs": [],
   "source": [
    "# Prep feature from meme file\n",
    "meme = eu.dl.motif.MinimalMEME(path=os.path.join(eu.settings.dataset_dir, \"MA0491.1.meme\"))\n",
    "motif = meme.motifs[\"MA0491.1\"]\n",
    "feat_name = motif.name\n",
    "pfm = motif.pfm\n",
    "zero_pfm = np.zeros(pfm.shape)\n",
    "rand_pfm = eu.pp.ohe_seq(eu.utils.random_seq(pfm.shape[0])).transpose()\n",
    "rc_pfm = eu.pp.reverse_complement_seq(pfm)\n",
    "consensus = motif.consensus\n",
    "#shuffled_pfm = eu.pp.ohe_seq(eu.pp.dinuc_shuffle_seq(consensus)).transpose()\n",
    "shuffled_pfm = eu.pp.ohe_seq(\"GTGGACTCATC\").transpose()\n",
    "feat_name, pfm, rc_pfm, consensus"
   ]
  },
  {
   "cell_type": "code",
   "execution_count": null,
   "metadata": {
    "tags": []
   },
   "outputs": [],
   "source": [
    "random_seqs = eu.pp.ohe_seqs(eu.utils.random_seqs(10, 500))\n",
    "sdata_implant = eu.dl.SeqData(ohe_seqs=random_seqs)\n",
    "sdata_implant.seqs_annot.index = \"random\" + sdata_implant.seqs_annot.index\n",
    "sdata_implant.names = sdata_implant.seqs_annot.index\n",
    "eu.pp.reverse_complement_seqs_sdata(sdata_implant)"
   ]
  },
  {
   "cell_type": "code",
   "execution_count": null,
   "metadata": {
    "tags": []
   },
   "outputs": [],
   "source": [
    "# Slide the jund motif across the sequences\n",
    "eu.interpret.feature_implant_seqs_sdata(\n",
    "    model=model, \n",
    "    sdata=sdata_implant, \n",
    "    feature=pfm, \n",
    "    seqsm_key=f\"slide_{feat_name}\",\n",
    "    encoding=\"onehot\", \n",
    "    onehot=True\n",
    ")\n",
    "\n",
    "# Slide a random seq across the sequences\n",
    "eu.interpret.feature_implant_seqs_sdata(\n",
    "    model=model, \n",
    "    sdata=sdata_implant, \n",
    "    feature=rand_pfm,\n",
    "    seqsm_key=f\"slide_random\",\n",
    "    encoding=\"onehot\", \n",
    "    onehot=True\n",
    ")\n",
    "\n",
    "# Slide a zero ohe seq across the sequences \n",
    "eu.interpret.feature_implant_seqs_sdata(\n",
    "    model=model, \n",
    "    sdata=sdata_implant, \n",
    "    feature=zero_pfm,\n",
    "    seqsm_key=f\"slide_zero\",\n",
    "    encoding=\"onehot\", \n",
    "    onehot=True\n",
    ")\n",
    "\n",
    "# Slide a jund shuffled ohe seq across the sequences \n",
    "eu.interpret.feature_implant_seqs_sdata(\n",
    "    model=model, \n",
    "    sdata=sdata_implant, \n",
    "    feature=shuffled_pfm,\n",
    "    seqsm_key=f\"slide_shuffled\",\n",
    "    encoding=\"onehot\", \n",
    "    onehot=True\n",
    ")"
   ]
  },
  {
   "cell_type": "code",
   "execution_count": null,
   "metadata": {
    "tags": []
   },
   "outputs": [],
   "source": [
    "# Plot the original scores for the sequences\n",
    "plt.boxplot(\n",
    "    model(\n",
    "        torch.from_numpy(sdata_implant.ohe_seqs).float().to(model.device), \n",
    "        torch.from_numpy(sdata_implant.ohe_rev_seqs).float().to(model.device)\n",
    "    ).detach().cpu().numpy(),\n",
    ")\n",
    "plt.ylim(-4.519107693374157, 3.2380127858519554)\n",
    "plt.savefig(os.path.join(eu.settings.figure_dir, \"jund_best_CNN_model_random_seq_scores.pdf\"))"
   ]
  },
  {
   "cell_type": "code",
   "execution_count": null,
   "metadata": {
    "tags": []
   },
   "outputs": [],
   "source": [
    "# Plot the implanted scores across positions\n",
    "eu.pl.feature_implant_plot(\n",
    "    sdata_implant,\n",
    "    seqsm_keys=[f\"slide_{feat_name}\", \"slide_shuffled\", \"slide_zero\", \"slide_random\"],\n",
    "    save=os.path.join(eu.settings.figure_dir, f\"jund_best_CNN_model_feature_implant_jund.pdf\")\n",
    ")"
   ]
  },
  {
   "cell_type": "code",
   "execution_count": null,
   "metadata": {},
   "outputs": [],
   "source": [
    "sdata_implant.write_h5sd(os.path.join(eu.settings.output_dir, \"jund_implant_feat_CNN.h5sd\"))"
   ]
  },
  {
   "cell_type": "markdown",
   "metadata": {},
   "source": [
    "---"
   ]
  },
  {
   "cell_type": "markdown",
   "metadata": {
    "tags": []
   },
   "source": [
    "# Scratch"
   ]
  }
 ],
 "metadata": {
  "kernelspec": {
   "display_name": "Python 3.7 eugene_dev",
   "language": "python",
   "name": "eugene_dev"
  },
  "language_info": {
   "codemirror_mode": {
    "name": "ipython",
    "version": 3
   },
   "file_extension": ".py",
   "mimetype": "text/x-python",
   "name": "python",
   "nbconvert_exporter": "python",
   "pygments_lexer": "ipython3",
   "version": "3.7.12"
  },
  "vscode": {
   "interpreter": {
    "hash": "949777d72b0d2535278d3dc13498b2535136f6dfe0678499012e853ee9abcab1"
   }
  }
 },
 "nbformat": 4,
 "nbformat_minor": 4
}
