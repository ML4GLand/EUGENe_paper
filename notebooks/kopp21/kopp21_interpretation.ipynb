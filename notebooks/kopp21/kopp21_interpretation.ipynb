{
 "cells": [
  {
   "cell_type": "markdown",
   "metadata": {},
   "source": [
    "# Kopp et al 2021 Intepretation\n",
    "**Authorship:**\n",
    "Adam Klie, *08/12/2022*\n",
    "***\n",
    "**Description:**\n",
    "Notebook to interpret the best trained models on the Kopp et al (2021) dataset.\n",
    "***"
   ]
  },
  {
   "cell_type": "code",
   "execution_count": 1,
   "metadata": {
    "execution": {
     "iopub.execute_input": "2022-09-24T16:44:46.632691Z",
     "iopub.status.busy": "2022-09-24T16:44:46.632393Z",
     "iopub.status.idle": "2022-09-24T16:46:07.423893Z",
     "shell.execute_reply": "2022-09-24T16:46:07.423334Z",
     "shell.execute_reply.started": "2022-09-24T16:44:46.632647Z"
    },
    "tags": []
   },
   "outputs": [
    {
     "name": "stderr",
     "output_type": "stream",
     "text": [
      "Global seed set to 13\n"
     ]
    },
    {
     "name": "stdout",
     "output_type": "stream",
     "text": [
      "GPU is available: True\n",
      "Number of GPUs: 1\n",
      "Current GPU: 0\n",
      "GPUs: Quadro RTX 5000\n"
     ]
    }
   ],
   "source": [
    "if 'autoreload' not in get_ipython().extension_manager.loaded:\n",
    "    %load_ext autoreload\n",
    "%autoreload 2\n",
    "\n",
    "import os\n",
    "import glob\n",
    "import logging\n",
    "import torch\n",
    "import numpy as np\n",
    "import pandas as pd\n",
    "import eugene as eu\n",
    "import matplotlib.pyplot as plt\n",
    "import matplotlib\n",
    "\n",
    "matplotlib.rcParams['pdf.fonttype'] = 42\n",
    "matplotlib.rcParams['ps.fonttype'] = 42"
   ]
  },
  {
   "cell_type": "code",
   "execution_count": 2,
   "metadata": {
    "execution": {
     "iopub.execute_input": "2022-09-24T16:46:07.425214Z",
     "iopub.status.busy": "2022-09-24T16:46:07.424730Z",
     "iopub.status.idle": "2022-09-24T16:46:09.520774Z",
     "shell.execute_reply": "2022-09-24T16:46:09.520283Z",
     "shell.execute_reply.started": "2022-09-24T16:46:07.425196Z"
    },
    "tags": []
   },
   "outputs": [],
   "source": [
    "# Configure EUGENe \n",
    "eu.settings.dataset_dir = \"/cellar/users/aklie/data/eugene/kopp21\"\n",
    "eu.settings.output_dir = \"/cellar/users/aklie/projects/EUGENe/EUGENe_paper/output/kopp21\"\n",
    "eu.settings.logging_dir = \"/cellar/users/aklie/projects/EUGENe/EUGENe_paper/logs/kopp21\"\n",
    "eu.settings.config_dir = \"/cellar/users/aklie/projects/EUGENe/EUGENe_paper/configs/kopp21\"\n",
    "eu.settings.figure_dir = \"/cellar/users/aklie/projects/EUGENe/EUGENe_paper/figures/kopp21\"\n",
    "eu.settings.verbosity = logging.ERROR"
   ]
  },
  {
   "cell_type": "markdown",
   "metadata": {},
   "source": [
    "# Load in the `leaf`, `proto` and `combined` test `SeqData`s "
   ]
  },
  {
   "cell_type": "code",
   "execution_count": 49,
   "metadata": {
    "execution": {
     "iopub.execute_input": "2022-09-24T17:15:22.799220Z",
     "iopub.status.busy": "2022-09-24T17:15:22.798532Z",
     "iopub.status.idle": "2022-09-24T17:15:26.539207Z",
     "shell.execute_reply": "2022-09-24T17:15:26.538540Z",
     "shell.execute_reply.started": "2022-09-24T17:15:22.799200Z"
    },
    "tags": []
   },
   "outputs": [],
   "source": [
    "# Load in the preprocessed training data\n",
    "sdata_test = eu.dl.read_h5sd(\n",
    "    filename=os.path.join(eu.settings.output_dir, \"jund_test_predictions_all.h5sd\"),\n",
    ")"
   ]
  },
  {
   "cell_type": "markdown",
   "metadata": {},
   "source": [
    "# Load the best model"
   ]
  },
  {
   "cell_type": "code",
   "execution_count": 57,
   "metadata": {
    "execution": {
     "iopub.execute_input": "2022-09-24T17:20:48.850002Z",
     "iopub.status.busy": "2022-09-24T17:20:48.849686Z",
     "iopub.status.idle": "2022-09-24T17:20:52.473691Z",
     "shell.execute_reply": "2022-09-24T17:20:52.473201Z",
     "shell.execute_reply.started": "2022-09-24T17:20:48.849984Z"
    },
    "tags": []
   },
   "outputs": [],
   "source": [
    "model_type = \"Kopp21CNN\"\n",
    "trial = 4"
   ]
  },
  {
   "cell_type": "code",
   "execution_count": 59,
   "metadata": {
    "execution": {
     "iopub.execute_input": "2022-09-24T17:22:37.183805Z",
     "iopub.status.busy": "2022-09-24T17:22:37.183626Z",
     "iopub.status.idle": "2022-09-24T17:22:40.858801Z",
     "shell.execute_reply": "2022-09-24T17:22:40.858287Z",
     "shell.execute_reply.started": "2022-09-24T17:22:37.183788Z"
    },
    "tags": []
   },
   "outputs": [
    {
     "name": "stderr",
     "output_type": "stream",
     "text": [
      "/cellar/users/aklie/opt/miniconda3/envs/eugene_dev/lib/python3.7/site-packages/torchmetrics/utilities/prints.py:36: UserWarning: Metric `AUROC` will save all targets and predictions in buffer. For large datasets this may lead to large memory footprint.\n",
      "  warnings.warn(*args, **kwargs)\n"
     ]
    },
    {
     "data": {
      "text/plain": [
       "Kopp21CNN(\n",
       "  (hp_metric): AUROC()\n",
       "  (conv): Conv1d(4, 10, kernel_size=(11,), stride=(1,))\n",
       "  (maxpool): MaxPool1d(kernel_size=30, stride=1, padding=0, dilation=1, ceil_mode=False)\n",
       "  (batchnorm): BatchNorm1d(10, eps=1e-05, momentum=0.1, affine=True, track_running_stats=True)\n",
       "  (conv2): Conv1d(10, 8, kernel_size=(3,), stride=(1,))\n",
       "  (batchnorm2): BatchNorm1d(8, eps=1e-05, momentum=0.1, affine=True, track_running_stats=True)\n",
       "  (linear): Linear(in_features=8, out_features=1, bias=True)\n",
       ")"
      ]
     },
     "execution_count": 59,
     "metadata": {},
     "output_type": "execute_result"
    }
   ],
   "source": [
    "model_file = glob.glob(os.path.join(eu.settings.logging_dir, f\"{model_type}\", f\"trial_{trial}\", \"checkpoints\", \"*\"))[0]\n",
    "model = eu.models.Kopp21CNN.load_from_checkpoint(model_file)\n",
    "model"
   ]
  },
  {
   "cell_type": "markdown",
   "metadata": {},
   "source": [
    "## Feature attribution"
   ]
  },
  {
   "cell_type": "code",
   "execution_count": 60,
   "metadata": {
    "execution": {
     "iopub.execute_input": "2022-09-24T17:22:41.630637Z",
     "iopub.status.busy": "2022-09-24T17:22:41.630337Z",
     "iopub.status.idle": "2022-09-24T17:23:38.364863Z",
     "shell.execute_reply": "2022-09-24T17:23:38.364362Z",
     "shell.execute_reply.started": "2022-09-24T17:22:41.630619Z"
    },
    "tags": []
   },
   "outputs": [
    {
     "name": "stdout",
     "output_type": "stream",
     "text": [
      "No transforms given, assuming just need to tensorize.\n"
     ]
    },
    {
     "data": {
      "application/vnd.jupyter.widget-view+json": {
       "model_id": "826a0f52096b404da70cf57c36258820",
       "version_major": 2,
       "version_minor": 0
      },
      "text/plain": [
       "Computing saliency on batches of size 128:   0%|          | 0/502 [00:00<?, ?it/s]"
      ]
     },
     "metadata": {},
     "output_type": "display_data"
    },
    {
     "name": "stdout",
     "output_type": "stream",
     "text": [
      "No transforms given, assuming just need to tensorize.\n"
     ]
    },
    {
     "data": {
      "application/vnd.jupyter.widget-view+json": {
       "model_id": "f0b43e30752544188d6ff3c8307c4d62",
       "version_major": 2,
       "version_minor": 0
      },
      "text/plain": [
       "Computing saliency on batches of size 128:   0%|          | 0/502 [00:00<?, ?it/s]"
      ]
     },
     "metadata": {},
     "output_type": "display_data"
    }
   ],
   "source": [
    "saliency_methods = [\"InputXGradient\", \"GradientSHAP\"]\n",
    "for method in saliency_methods:\n",
    "    eu.interpret.feature_attribution_sdata(\n",
    "        model,\n",
    "        sdata_test,\n",
    "        method=method\n",
    "    )"
   ]
  },
  {
   "cell_type": "markdown",
   "metadata": {},
   "source": [
    "## Filter viz (only for convnet)"
   ]
  },
  {
   "cell_type": "code",
   "execution_count": 61,
   "metadata": {
    "execution": {
     "iopub.execute_input": "2022-09-24T17:23:38.366451Z",
     "iopub.status.busy": "2022-09-24T17:23:38.365862Z",
     "iopub.status.idle": "2022-09-24T17:25:07.238851Z",
     "shell.execute_reply": "2022-09-24T17:25:07.238235Z",
     "shell.execute_reply.started": "2022-09-24T17:23:38.366431Z"
    },
    "tags": []
   },
   "outputs": [
    {
     "name": "stdout",
     "output_type": "stream",
     "text": [
      "No transforms given, assuming just need to tensorize.\n"
     ]
    },
    {
     "data": {
      "application/vnd.jupyter.widget-view+json": {
       "model_id": "87e13643b3ea49e396fee422e7e0e2c1",
       "version_major": 2,
       "version_minor": 0
      },
      "text/plain": [
       "Getting maximial activating seqlets:   0%|          | 0/502 [00:00<?, ?it/s]"
      ]
     },
     "metadata": {},
     "output_type": "display_data"
    },
    {
     "data": {
      "application/vnd.jupyter.widget-view+json": {
       "model_id": "7a3d7986be16404981e2030889c2ec8a",
       "version_major": 2,
       "version_minor": 0
      },
      "text/plain": [
       "Getting filter activators for 10 filters:   0%|          | 0/10 [00:00<?, ?it/s]"
      ]
     },
     "metadata": {},
     "output_type": "display_data"
    },
    {
     "data": {
      "application/vnd.jupyter.widget-view+json": {
       "model_id": "34f2cfb09d0f450fbac43478eb3f9840",
       "version_major": 2,
       "version_minor": 0
      },
      "text/plain": [
       "Getting PFMs from filters:   0%|          | 0/10 [00:00<?, ?it/s]"
      ]
     },
     "metadata": {},
     "output_type": "display_data"
    }
   ],
   "source": [
    "eu.interpret.generate_pfms_sdata(\n",
    "    model, \n",
    "    sdata_test,\n",
    "    method=\"Minnoye20\"\n",
    ")"
   ]
  },
  {
   "cell_type": "code",
   "execution_count": 62,
   "metadata": {
    "execution": {
     "iopub.execute_input": "2022-09-24T17:25:07.239849Z",
     "iopub.status.busy": "2022-09-24T17:25:07.239630Z",
     "iopub.status.idle": "2022-09-24T17:25:10.821601Z",
     "shell.execute_reply": "2022-09-24T17:25:10.821141Z",
     "shell.execute_reply.started": "2022-09-24T17:25:07.239833Z"
    },
    "tags": []
   },
   "outputs": [
    {
     "name": "stdout",
     "output_type": "stream",
     "text": [
      "Saved PWM File as : /cellar/users/aklie/projects/EUGENe/EUGENe_paper/output/kopp21/jund_best_Kopp21CNN_model_filters.meme\n"
     ]
    }
   ],
   "source": [
    "# Save all the filter pfms from above as meme format for submission to TomTom\n",
    "eu.dl.motif.filters_to_meme_sdata(\n",
    "    sdata_test,\n",
    "    filter_ids=list(sdata_test.uns[\"pfms\"].keys()),\n",
    "    output_dir=os.path.join(eu.settings.output_dir),\n",
    "    file_name=f\"jund_best_{model_type}_model_filters.meme\"\n",
    ")"
   ]
  },
  {
   "cell_type": "code",
   "execution_count": 63,
   "metadata": {
    "execution": {
     "iopub.execute_input": "2022-09-24T17:25:10.823049Z",
     "iopub.status.busy": "2022-09-24T17:25:10.822755Z",
     "iopub.status.idle": "2022-09-24T17:25:18.930382Z",
     "shell.execute_reply": "2022-09-24T17:25:18.929744Z",
     "shell.execute_reply.started": "2022-09-24T17:25:10.823032Z"
    },
    "tags": []
   },
   "outputs": [],
   "source": [
    "# Save the test intepretations for this model\n",
    "sdata_test.write_h5sd(os.path.join(eu.settings.output_dir, f\"jund_test_predictions_and_interpretations_{model_type}.h5sd\"))"
   ]
  },
  {
   "cell_type": "markdown",
   "metadata": {},
   "source": [
    "## In silico interpretation"
   ]
  },
  {
   "cell_type": "code",
   "execution_count": 44,
   "metadata": {
    "execution": {
     "iopub.execute_input": "2022-09-24T17:14:06.326742Z",
     "iopub.status.busy": "2022-09-24T17:14:06.326374Z",
     "iopub.status.idle": "2022-09-24T17:14:10.032823Z",
     "shell.execute_reply": "2022-09-24T17:14:10.032260Z",
     "shell.execute_reply.started": "2022-09-24T17:14:06.326723Z"
    },
    "tags": []
   },
   "outputs": [
    {
     "data": {
      "text/plain": [
       "('JUND',\n",
       " array([[0.320046, 0.019607, 0.352364, 0.307982],\n",
       "        [0.391708, 0.124619, 0.483673, 0.      ],\n",
       "        [0.      , 0.      , 0.      , 1.      ],\n",
       "        [0.      , 0.      , 1.      , 0.      ],\n",
       "        [1.      , 0.      , 0.      , 0.      ],\n",
       "        [0.      , 0.590468, 0.363679, 0.045854],\n",
       "        [0.      , 0.      , 0.      , 1.      ],\n",
       "        [0.039964, 0.960036, 0.      , 0.      ],\n",
       "        [1.      , 0.      , 0.      , 0.      ],\n",
       "        [0.      , 0.132679, 0.059442, 0.807879],\n",
       "        [0.14947 , 0.38636 , 0.32108 , 0.14309 ]]),\n",
       " array([[0.14309 , 0.32108 , 0.38636 , 0.14947 ],\n",
       "        [0.807879, 0.059442, 0.132679, 0.      ],\n",
       "        [0.      , 0.      , 0.      , 1.      ],\n",
       "        [0.      , 0.      , 0.960036, 0.039964],\n",
       "        [1.      , 0.      , 0.      , 0.      ],\n",
       "        [0.045854, 0.363679, 0.590468, 0.      ],\n",
       "        [0.      , 0.      , 0.      , 1.      ],\n",
       "        [0.      , 1.      , 0.      , 0.      ],\n",
       "        [1.      , 0.      , 0.      , 0.      ],\n",
       "        [0.      , 0.483673, 0.124619, 0.391708],\n",
       "        [0.307982, 0.352364, 0.019607, 0.320046]]),\n",
       " 'GGTGACTCATC')"
      ]
     },
     "execution_count": 44,
     "metadata": {},
     "output_type": "execute_result"
    }
   ],
   "source": [
    "# Prep feature from meme file\n",
    "meme = eu.dl.motif.MinimalMEME(path=os.path.join(eu.settings.dataset_dir, \"MA0491.1.meme\"))\n",
    "motif = meme.motifs[\"MA0491.1\"]\n",
    "feat_name = motif.name\n",
    "pfm = motif.pfm\n",
    "zero_pfm = np.zeros(pfm.shape)\n",
    "rand_pfm = eu.pp.ohe_seq(eu.utils.random_seq(pfm.shape[0])).transpose()\n",
    "rc_pfm = eu.pp.reverse_complement_seq(pfm)\n",
    "consensus = motif.consensus\n",
    "#shuffled_pfm = eu.pp.ohe_seq(eu.pp.dinuc_shuffle_seq(consensus)).transpose()\n",
    "shuffled_pfm = eu.pp.ohe_seq(\"GTGGACTCATC\").transpose()\n",
    "feat_name, pfm, rc_pfm, consensus"
   ]
  },
  {
   "cell_type": "code",
   "execution_count": 39,
   "metadata": {
    "execution": {
     "iopub.execute_input": "2022-09-24T17:13:00.426092Z",
     "iopub.status.busy": "2022-09-24T17:13:00.425348Z",
     "iopub.status.idle": "2022-09-24T17:13:04.037273Z",
     "shell.execute_reply": "2022-09-24T17:13:04.036682Z",
     "shell.execute_reply.started": "2022-09-24T17:13:00.426052Z"
    },
    "tags": []
   },
   "outputs": [
    {
     "data": {
      "application/vnd.jupyter.widget-view+json": {
       "model_id": "5e0beb68a6484cc8b2bfe8648e27a975",
       "version_major": 2,
       "version_minor": 0
      },
      "text/plain": [
       "One-hot encoding sequences:   0%|          | 0/10 [00:00<?, ?it/s]"
      ]
     },
     "metadata": {},
     "output_type": "display_data"
    },
    {
     "name": "stdout",
     "output_type": "stream",
     "text": [
      "SeqData object modified:\n",
      "\tohe_rev_seqs: None -> 10 ohe_rev_seqs added\n"
     ]
    }
   ],
   "source": [
    "random_seqs = eu.pp.ohe_seqs(eu.utils.random_seqs(10, 500))\n",
    "sdata_implant = eu.dl.SeqData(ohe_seqs=random_seqs)\n",
    "sdata_implant.seqs_annot.index = \"random\" + sdata_implant.seqs_annot.index\n",
    "sdata_implant.names = sdata_implant.seqs_annot.index\n",
    "eu.pp.reverse_complement_seqs_sdata(sdata_implant)"
   ]
  },
  {
   "cell_type": "code",
   "execution_count": 45,
   "metadata": {
    "execution": {
     "iopub.execute_input": "2022-09-24T17:14:10.033997Z",
     "iopub.status.busy": "2022-09-24T17:14:10.033767Z",
     "iopub.status.idle": "2022-09-24T17:14:15.244016Z",
     "shell.execute_reply": "2022-09-24T17:14:15.243566Z",
     "shell.execute_reply.started": "2022-09-24T17:14:10.033981Z"
    },
    "tags": []
   },
   "outputs": [
    {
     "data": {
      "application/vnd.jupyter.widget-view+json": {
       "model_id": "49c057aed781482199732ba2addce8b3",
       "version_major": 2,
       "version_minor": 0
      },
      "text/plain": [
       "Implanting feature in all seqs of sdata:   0%|          | 0/10 [00:00<?, ?it/s]"
      ]
     },
     "metadata": {},
     "output_type": "display_data"
    },
    {
     "data": {
      "application/vnd.jupyter.widget-view+json": {
       "model_id": "72500dc7b4854928b8ef42e4091e43b6",
       "version_major": 2,
       "version_minor": 0
      },
      "text/plain": [
       "Implanting feature in all seqs of sdata:   0%|          | 0/10 [00:00<?, ?it/s]"
      ]
     },
     "metadata": {},
     "output_type": "display_data"
    },
    {
     "data": {
      "application/vnd.jupyter.widget-view+json": {
       "model_id": "9cf2840e78cc4f26a109f178b8805f74",
       "version_major": 2,
       "version_minor": 0
      },
      "text/plain": [
       "Implanting feature in all seqs of sdata:   0%|          | 0/10 [00:00<?, ?it/s]"
      ]
     },
     "metadata": {},
     "output_type": "display_data"
    },
    {
     "data": {
      "application/vnd.jupyter.widget-view+json": {
       "model_id": "a5513cb29503420db8ee2002b661a464",
       "version_major": 2,
       "version_minor": 0
      },
      "text/plain": [
       "Implanting feature in all seqs of sdata:   0%|          | 0/10 [00:00<?, ?it/s]"
      ]
     },
     "metadata": {},
     "output_type": "display_data"
    }
   ],
   "source": [
    "# Slide the jund motif across the sequences\n",
    "eu.interpret.feature_implant_seqs_sdata(\n",
    "    model=model, \n",
    "    sdata=sdata_implant, \n",
    "    feature=pfm, \n",
    "    seqsm_key=f\"slide_{feat_name}\",\n",
    "    encoding=\"onehot\", \n",
    "    onehot=True\n",
    ")\n",
    "\n",
    "# Slide a random seq across the sequences\n",
    "eu.interpret.feature_implant_seqs_sdata(\n",
    "    model=model, \n",
    "    sdata=sdata_implant, \n",
    "    feature=rand_pfm,\n",
    "    seqsm_key=f\"slide_random\",\n",
    "    encoding=\"onehot\", \n",
    "    onehot=True\n",
    ")\n",
    "\n",
    "# Slide a zero ohe seq across the sequences \n",
    "eu.interpret.feature_implant_seqs_sdata(\n",
    "    model=model, \n",
    "    sdata=sdata_implant, \n",
    "    feature=zero_pfm,\n",
    "    seqsm_key=f\"slide_zero\",\n",
    "    encoding=\"onehot\", \n",
    "    onehot=True\n",
    ")\n",
    "\n",
    "# Slide a jund shuffled ohe seq across the sequences \n",
    "eu.interpret.feature_implant_seqs_sdata(\n",
    "    model=model, \n",
    "    sdata=sdata_implant, \n",
    "    feature=shuffled_pfm,\n",
    "    seqsm_key=f\"slide_shuffled\",\n",
    "    encoding=\"onehot\", \n",
    "    onehot=True\n",
    ")"
   ]
  },
  {
   "cell_type": "code",
   "execution_count": 46,
   "metadata": {
    "execution": {
     "iopub.execute_input": "2022-09-24T17:14:16.798582Z",
     "iopub.status.busy": "2022-09-24T17:14:16.798350Z",
     "iopub.status.idle": "2022-09-24T17:14:20.778840Z",
     "shell.execute_reply": "2022-09-24T17:14:20.778338Z",
     "shell.execute_reply.started": "2022-09-24T17:14:16.798564Z"
    },
    "tags": []
   },
   "outputs": [
    {
     "data": {
      "image/png": "[encoded data removed]",
      "text/plain": [
       "<Figure size 432x288 with 1 Axes>"
      ]
     },
     "metadata": {
      "needs_background": "light"
     },
     "output_type": "display_data"
    }
   ],
   "source": [
    "plt.boxplot(\n",
    "    model(\n",
    "        torch.from_numpy(sdata_implant.ohe_seqs).float().to(model.device), \n",
    "        torch.from_numpy(sdata_implant.ohe_rev_seqs).float().to(model.device)\n",
    "    ).detach().cpu().numpy(),\n",
    ")\n",
    "plt.ylim(-4.519107693374157, 3.2380127858519554)\n",
    "plt.savefig(os.path.join(eu.settings.figure_dir, \"jund_best_CNN_model_random_seq_scores.pdf\"))"
   ]
  },
  {
   "cell_type": "code",
   "execution_count": 56,
   "metadata": {
    "execution": {
     "iopub.execute_input": "2022-09-24T17:19:51.581052Z",
     "iopub.status.busy": "2022-09-24T17:19:51.580423Z",
     "iopub.status.idle": "2022-09-24T17:20:25.280892Z",
     "shell.execute_reply": "2022-09-24T17:20:25.280451Z",
     "shell.execute_reply.started": "2022-09-24T17:19:51.581029Z"
    },
    "tags": []
   },
   "outputs": [
    {
     "name": "stdout",
     "output_type": "stream",
     "text": [
      "ylim (-4.424650456476956, 3.0610449718870223)\n"
     ]
    },
    {
     "data": {
      "image/png": "[encoded data removed]",
      "text/plain": [
       "<Figure size 432x288 with 1 Axes>"
      ]
     },
     "metadata": {
      "needs_background": "light"
     },
     "output_type": "display_data"
    }
   ],
   "source": [
    "eu.pl.feature_implant_plot(\n",
    "    sdata_implant,\n",
    "    seqsm_keys=[f\"slide_{feat_name}\", \"slide_shuffled\", \"slide_zero\", \"slide_random\"],\n",
    "    save=os.path.join(eu.settings.figure_dir, f\"jund_best_CNN_model_feature_implant_jund.pdf\")\n",
    ")"
   ]
  },
  {
   "cell_type": "code",
   "execution_count": 48,
   "metadata": {
    "execution": {
     "iopub.execute_input": "2022-09-24T17:15:13.576321Z",
     "iopub.status.busy": "2022-09-24T17:15:13.576085Z",
     "iopub.status.idle": "2022-09-24T17:15:17.242306Z",
     "shell.execute_reply": "2022-09-24T17:15:17.241686Z",
     "shell.execute_reply.started": "2022-09-24T17:15:13.576303Z"
    }
   },
   "outputs": [],
   "source": [
    "sdata_implant.write_h5sd(os.path.join(eu.settings.output_dir, \"jund_implant_feat_CNN.h5sd\"))"
   ]
  },
  {
   "cell_type": "markdown",
   "metadata": {},
   "source": [
    "---"
   ]
  },
  {
   "cell_type": "markdown",
   "metadata": {
    "tags": []
   },
   "source": [
    "# Scratch"
   ]
  }
 ],
 "metadata": {
  "kernelspec": {
   "display_name": "Python 3.7 eugene_dev",
   "language": "python",
   "name": "eugene_dev"
  },
  "language_info": {
   "codemirror_mode": {
    "name": "ipython",
    "version": 3
   },
   "file_extension": ".py",
   "mimetype": "text/x-python",
   "name": "python",
   "nbconvert_exporter": "python",
   "pygments_lexer": "ipython3",
   "version": "3.7.12"
  },
  "vscode": {
   "interpreter": {
    "hash": "949777d72b0d2535278d3dc13498b2535136f6dfe0678499012e853ee9abcab1"
   }
  }
 },
 "nbformat": 4,
 "nbformat_minor": 4
}
