{
 "cells": [
  {
   "attachments": {},
   "cell_type": "markdown",
   "metadata": {},
   "source": [
    "# Kopp et al 2021 Extract-Transform-Load\n",
    "**Authorship:**\n",
    "Adam Klie (last updated: *06/10/2023*)\n",
    "***\n",
    "**Description:**\n",
    "Notebook to extract, transform, and load data from the Kopp21 et al (2021) dataset on JunD binding.\n",
    "***"
   ]
  },
  {
   "cell_type": "code",
   "execution_count": null,
   "metadata": {},
   "outputs": [],
   "source": [
    "# General imports\n",
    "import os\n",
    "import sys\n",
    "\n",
    "# Annoying little hack to get pybedtools to work in a Jupyter notebook. Might be only a me problem.\n",
    "bin_dir = os.path.dirname(sys.executable)\n",
    "os.environ[\"PATH\"] += os.pathsep + bin_dir\n",
    "from pybedtools import paths\n",
    "paths._set_bedtools_path(bin_dir)\n",
    "from pybedtools import BedTool"
   ]
  },
  {
   "cell_type": "code",
   "execution_count": null,
   "metadata": {},
   "outputs": [],
   "source": [
    "# Where to dump the output\n",
    "output = '/cellar/users/aklie/data/eugene/kopp21/'"
   ]
  },
  {
   "attachments": {},
   "cell_type": "markdown",
   "metadata": {},
   "source": [
    "# Downloads and command line data prep\n",
    "Downloaded JunD peaks (ENCFF446WOD, conservative IDR thresholded peaks, narrowPeak format), and raw DNase-seq data (ENCFF546PJU, Stam. Lab, ENCODE; ENCFF059BEU Stam. Lab, ROADMAP, bam-format) for human embryonic stem cells (H1-hesc) from the encodeproject.org and the hg38 reference genome. Alignment indices were built with samtools. Blacklisted regions for hg38 were obtained from http://mitra.stanford.edu/kundaje/akundaje/release/blacklists/hg38-human/hg38.blacklist.bed.gz and removed using bedtools. The human genome was obtained from UCSC."
   ]
  },
  {
   "attachments": {},
   "cell_type": "markdown",
   "metadata": {},
   "source": [
    "## Use `wget` to download data"
   ]
  },
  {
   "cell_type": "code",
   "execution_count": null,
   "metadata": {},
   "outputs": [],
   "source": [
    "# Peaks from ENCODE\n",
    "!wget https://www.encodeproject.org/files/ENCFF446WOD/@@download/ENCFF446WOD.bed.gz -O {output}/jund_peaks.narrowPeak.gz\n",
    "\n",
    "# blacklisted regions to remove\n",
    "!wget http://mitra.stanford.edu/kundaje/akundaje/release/blacklists/hg38-human/hg38.blacklist.bed.gz -O  {output}/hg38.blacklisted.bed.gz\n",
    "!gunzip -f  {output}/hg38.blacklisted.bed.gz\n",
    "\n",
    "# human genome sequence hg38\n",
    "!wget http://hgdownload.cse.ucsc.edu/goldenPath/hg38/bigZips/hg38.fa.gz -O  {output}/hg38.fa.gz\n",
    "!gunzip -f  {output}/hg38.fa.gz\n",
    "!wget http://hgdownload.cse.ucsc.edu/goldenPath/hg38/bigZips/hg38.chrom.sizes -O {output}/hg38.chrom.sizes"
   ]
  },
  {
   "attachments": {},
   "cell_type": "markdown",
   "metadata": {},
   "source": [
    "## Create the peaks to use for prediction using `bedtools`"
   ]
  },
  {
   "attachments": {},
   "cell_type": "markdown",
   "metadata": {},
   "source": [
    "Merge the narrow peaks"
   ]
  },
  {
   "cell_type": "code",
   "execution_count": null,
   "metadata": {},
   "outputs": [],
   "source": [
    "BedTool(os.path.join(output, 'jund_peaks.narrowPeak.gz')).sort().merge().saveas(\n",
    "    os.path.join(output, 'jund_raw_peaks.bed'))"
   ]
  },
  {
   "attachments": {},
   "cell_type": "markdown",
   "metadata": {},
   "source": [
    "To create the region of interest (ROI) for defining positive and negative peaks, extend the \"raw\" peaks by 10000bp in both directions (https://bedtools.readthedocs.io/en/latest/content/tools/slop.html).\n",
    "We also need to subtract away any parts of the ROI in blacklisted regions."
   ]
  },
  {
   "cell_type": "code",
   "execution_count": null,
   "metadata": {},
   "outputs": [],
   "source": [
    "BedTool(os.path.join(output, 'jund_raw_peaks.bed')).slop(b=10000, \n",
    "                                                               g=os.path.join(output, 'hg38.chrom.sizes')) \\\n",
    " .sort().merge().subtract(os.path.join(output, 'hg38.blacklisted.bed'))\\\n",
    ".saveas(os.path.join(output, 'roi_jund_extended.bed'))"
   ]
  },
  {
   "attachments": {},
   "cell_type": "markdown",
   "metadata": {},
   "source": [
    "This [next command](https://github.com/BIMSBbioinfo/janggu/blob/5128419cf404d8f1904d46c627c0c7963356fff1/src/janggu/janggutrim.py) trims the starts and ends of the ROIs to make them divisible by the specified window size, in this case 200"
   ]
  },
  {
   "cell_type": "code",
   "execution_count": null,
   "metadata": {},
   "outputs": [],
   "source": [
    "# You will need to have the janggu tool installed for this\n",
    "!janggu-trim {output}/roi_jund_extended.bed {output}/trim_roi_jund_extended.bed -divby 200"
   ]
  },
  {
   "attachments": {},
   "cell_type": "markdown",
   "metadata": {},
   "source": [
    "Last we will split up the extended and trimmed ROIs into 200bp windows using `bedtools makewindows`"
   ]
  },
  {
   "cell_type": "code",
   "execution_count": null,
   "metadata": {},
   "outputs": [],
   "source": [
    "# Make 200bp windows for the extended ROIs\n",
    "BedTool(os.path.join(output, 'roi_jund_extended.bed')).makewindows(w=200, b=os.path.join(output, 'roi_jund_extended.bed'))\\\n",
    "    .saveas(os.path.join(output, 'jund_200bp.bed'))"
   ]
  },
  {
   "attachments": {},
   "cell_type": "markdown",
   "metadata": {},
   "source": [
    "# SeqData preparations\n",
    "Next we need to use EUGENe to read in and prep this data."
   ]
  },
  {
   "cell_type": "code",
   "execution_count": null,
   "metadata": {},
   "outputs": [],
   "source": [
    "# EUGENe imports\n",
    "import eugene as eu\n",
    "from eugene import preprocess as pp\n",
    "from eugene import plot as pl\n",
    "from eugene import settings\n",
    "settings.dataset_dir = '/cellar/users/aklie/data/eugene/revision/kopp21'\n",
    "\n",
    "# EUGENe packages\n",
    "import seqdata as sd\n",
    "import seqpro as sp\n",
    "\n",
    "# Print versions\n",
    "print(f\"Python version: {sys.version}\")\n",
    "print(f\"Eugene version: {eu.__version__}\")\n",
    "print(f\"SeqData version: {sd.__version__}\")\n",
    "print(f\"SeqPro version: {sp.__version__}\")"
   ]
  },
  {
   "attachments": {},
   "cell_type": "markdown",
   "metadata": {},
   "source": [
    "## Load in the SeqData "
   ]
  },
  {
   "cell_type": "code",
   "execution_count": null,
   "metadata": {},
   "outputs": [],
   "source": [
    "# Definethe input files\n",
    "bam_file = os.path.join(eu.settings.dataset_dir,\"dnase_stam_encode.bam\")\n",
    "target_file = os.path.join(eu.settings.dataset_dir,\"jund_raw_peaks.bed\")\n",
    "roi_file = os.path.join(settings.dataset_dir, \"trim_roi_jund_extended.bed\")\n",
    "bed_file = os.path.join(settings.dataset_dir, \"jund_200bp.bed\")\n",
    "refgenome = os.path.join(settings.dataset_dir,\"hg38.fa\")"
   ]
  },
  {
   "cell_type": "code",
   "execution_count": null,
   "metadata": {},
   "outputs": [],
   "source": [
    "# Load in from files into SeqData\n",
    "sdata = sd.read_bam(\n",
    "    seq_name='seq',\n",
    "    cov_name='cov',\n",
    "    out=os.path.join(settings.dataset_dir, \"kopp21.zarr\"),\n",
    "    fasta=refgenome,\n",
    "    bams=[bam_file],\n",
    "    samples=['stam'],\n",
    "    bed=bed_file,\n",
    "    batch_size=4096,\n",
    "    fixed_length=500,\n",
    "    threads_per_job=4,\n",
    "    alphabet='DNA',\n",
    "    overwrite=True\n",
    ")\n",
    "sdata"
   ]
  },
  {
   "attachments": {},
   "cell_type": "markdown",
   "metadata": {},
   "source": [
    "## Define targets"
   ]
  },
  {
   "cell_type": "code",
   "execution_count": null,
   "metadata": {},
   "outputs": [],
   "source": [
    "# Read in the targets for \n",
    "targets_df = sd.read_bedlike(os.path.join(settings.dataset_dir, 'jund_raw_peaks.bed'))\n",
    "targets_df.head()"
   ]
  },
  {
   "cell_type": "code",
   "execution_count": null,
   "metadata": {},
   "outputs": [],
   "source": [
    "# Mark the sequences for classification\n",
    "_sdata = sdata.copy()\n",
    "_sdata['chromStart'] += 150\n",
    "_sdata['chromEnd'] -= 150\n",
    "sdata['target'] = sd.mark_sequences_for_classification(_sdata, targets_df, 'binary')"
   ]
  },
  {
   "cell_type": "code",
   "execution_count": null,
   "metadata": {},
   "outputs": [],
   "source": [
    "# Give the sequences a unique ID\n",
    "sdata[\"id\"] = sdata[\"chrom\"] + \":\" + sdata[\"chromStart\"].astype(str) + \"-\" + sdata[\"chromEnd\"].astype(str)"
   ]
  },
  {
   "cell_type": "code",
   "execution_count": null,
   "metadata": {},
   "outputs": [],
   "source": [
    "# One-hot encode the sequences\n",
    "pp.ohe_seqs_sdata(sdata)"
   ]
  },
  {
   "cell_type": "code",
   "execution_count": null,
   "metadata": {},
   "outputs": [],
   "source": [
    "# Split into train and test sets\n",
    "pp.train_test_chrom_split(\n",
    "    sdata, \n",
    "    train_var=\"train_test\",\n",
    "    chroms = [\"chr3\"]\n",
    ")"
   ]
  },
  {
   "cell_type": "code",
   "execution_count": null,
   "metadata": {},
   "outputs": [],
   "source": [
    "# Split into training and test sets\n",
    "sdata_train = sdata.sel(_sequence=(sdata[\"train_test\"]==True).compute())\n",
    "sdata_test = sdata.sel(_sequence=(sdata[\"train_test\"]==False).compute())"
   ]
  },
  {
   "cell_type": "code",
   "execution_count": null,
   "metadata": {},
   "outputs": [],
   "source": [
    "# Split the training sequences into train and validation sets\n",
    "pp.train_test_chrom_split(\n",
    "    sdata_train,\n",
    "    test_chroms=[\"chr2\"]\n",
    ")"
   ]
  },
  {
   "cell_type": "code",
   "execution_count": null,
   "metadata": {},
   "outputs": [],
   "source": [
    "# Plot the distribution of the training and validation setsm chromosomes and targets\n",
    "pl.countplot(\n",
    "    sdata_train,\n",
    "    vars=[\"train_test\", \"train_val\", \"target\", \"chrom\"],\n",
    ")"
   ]
  },
  {
   "cell_type": "code",
   "execution_count": null,
   "metadata": {},
   "outputs": [],
   "source": [
    "# Plot the distribution of the test set chromosomes and targets\n",
    "pl.countplot(\n",
    "    sdata_test,\n",
    "    vars=[\"train_test\", \"target\", \"chrom\"],\n",
    ")"
   ]
  },
  {
   "cell_type": "code",
   "execution_count": null,
   "metadata": {
    "tags": []
   },
   "outputs": [],
   "source": [
    "# Save train and test sets\n",
    "sd.to_zarr(sdata_train, os.path.join(settings.dataset_dir, 'kopp21_train.zarr'), mode=\"w\")\n",
    "sd.to_zarr(sdata_test, os.path.join(settings.dataset_dir, 'kopp21_test.zarr'), mode=\"w\")"
   ]
  },
  {
   "attachments": {},
   "cell_type": "markdown",
   "metadata": {},
   "source": [
    "# DONE!"
   ]
  },
  {
   "attachments": {},
   "cell_type": "markdown",
   "metadata": {},
   "source": [
    "---"
   ]
  },
  {
   "attachments": {},
   "cell_type": "markdown",
   "metadata": {},
   "source": [
    "# Scratch"
   ]
  },
  {
   "attachments": {},
   "cell_type": "markdown",
   "metadata": {},
   "source": [
    "## Test to make sure the save was successful"
   ]
  },
  {
   "cell_type": "code",
   "execution_count": null,
   "metadata": {},
   "outputs": [],
   "source": [
    "settings.dataset_dir = \"/cellar/users/aklie/data/eugene/revision/kopp21\"\n",
    "for zarr in [\"kopp21_train.zarr\", \"kopp21_test.zarr\"]:\n",
    "    print(zarr)\n",
    "    sdata = sd.open_zarr(os.path.join(settings.dataset_dir, zarr))\n",
    "    print(sdata.dims[\"_sequence\"])\n",
    "    if \"train_val\" in sdata.data_vars:\n",
    "        print(np.unique(sdata[\"train_val\"].values, return_counts=True))\n",
    "    else:\n",
    "        print(\"No train_val column found\")\n",
    "    print(np.unique(sdata[\"target\"].values, return_counts=True))\n",
    "    print(np.unique(sdata[\"chrom\"].values, return_counts=True))"
   ]
  }
 ],
 "metadata": {
  "kernelspec": {
   "display_name": "Python 3.9 ml4gland",
   "language": "python",
   "name": "ml4gland"
  },
  "vscode": {
   "interpreter": {
    "hash": "949777d72b0d2535278d3dc13498b2535136f6dfe0678499012e853ee9abcab1"
   }
  }
 },
 "nbformat": 4,
 "nbformat_minor": 4
}
