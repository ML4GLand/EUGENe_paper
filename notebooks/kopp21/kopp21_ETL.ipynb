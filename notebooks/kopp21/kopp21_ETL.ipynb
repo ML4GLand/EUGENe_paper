{
 "cells": [
  {
   "cell_type": "markdown",
   "metadata": {},
   "source": [
    "# Kopp21 et al 2021 Extract-Transform-Load\n",
    "**Authorship:**\n",
    "Adam Klie, *08/10/2022*\n",
    "***\n",
    "**Description:**\n",
    "Notebook to extract, transform, and load data from the Kopp21 et al (2021) dataset on JunD binding.\n",
    "***"
   ]
  },
  {
   "cell_type": "code",
   "execution_count": null,
   "metadata": {
    "vscode": {
     "languageId": "python"
    }
   },
   "outputs": [],
   "source": [
    "import os\n",
    "import sys\n",
    "\n",
    "bin_dir = os.path.dirname(sys.executable)\n",
    "os.environ[\"PATH\"] += os.pathsep + bin_dir\n",
    "from pybedtools import paths\n",
    "paths._set_bedtools_path(bin_dir)\n",
    "from pybedtools import BedTool"
   ]
  },
  {
   "cell_type": "code",
   "execution_count": null,
   "metadata": {
    "vscode": {
     "languageId": "python"
    }
   },
   "outputs": [],
   "source": [
    "output = '/cellar/users/aklie/data/eugene/kopp21/junD'"
   ]
  },
  {
   "cell_type": "markdown",
   "metadata": {},
   "source": [
    "# Downloads and command line data prep\n",
    "Downloaded JunD peaks (ENCFF446WOD, conservative IDR thresholded peaks, narrowPeak format), and raw DNase-seq data (ENCFF546PJU, Stam. Lab, ENCODE; ENCFF059BEU Stam. Lab, ROADMAP, bam-format) for human embryonic stem cells (H1-hesc) from the encodeproject.org and the hg38 reference genome. Alignment indices were built with samtools. Blacklisted regions for hg38 were obtained from http://mitra.stanford.edu/kundaje/akundaje/release/blacklists/hg38-human/hg38.blacklist.bed.gz and removed using bedtools. The human genome was obtained from UCSC."
   ]
  },
  {
   "cell_type": "markdown",
   "metadata": {},
   "source": [
    "## Use `wget` to download data"
   ]
  },
  {
   "cell_type": "code",
   "execution_count": null,
   "metadata": {
    "vscode": {
     "languageId": "python"
    }
   },
   "outputs": [],
   "source": [
    "# Peaks from ENCODE\n",
    "!wget https://www.encodeproject.org/files/ENCFF446WOD/@@download/ENCFF446WOD.bed.gz -O {output}/jund_peaks.narrowPeak.gz\n",
    "\n",
    "# blacklisted regions to remove\n",
    "!wget http://mitra.stanford.edu/kundaje/akundaje/release/blacklists/hg38-human/hg38.blacklist.bed.gz -O  {output}/hg38.blacklisted.bed.gz\n",
    "!gunzip -f  {output}/hg38.blacklisted.bed.gz\n",
    "\n",
    "# human genome sequence hg38\n",
    "!wget http://hgdownload.cse.ucsc.edu/goldenPath/hg38/bigZips/hg38.fa.gz -O  {output}/hg38.fa.gz\n",
    "!gunzip -f  {output}/hg38.fa.gz\n",
    "!wget http://hgdownload.cse.ucsc.edu/goldenPath/hg38/bigZips/hg38.chrom.sizes -O {output}/hg38.chrom.sizes"
   ]
  },
  {
   "cell_type": "markdown",
   "metadata": {},
   "source": [
    "## Create the peaks to use for prediction using `bedtools`"
   ]
  },
  {
   "cell_type": "markdown",
   "metadata": {},
   "source": [
    "Merge the narrow peaks"
   ]
  },
  {
   "cell_type": "code",
   "execution_count": null,
   "metadata": {
    "vscode": {
     "languageId": "python"
    }
   },
   "outputs": [],
   "source": [
    "BedTool(os.path.join(output, 'jund_peaks.narrowPeak.gz')).sort().merge().saveas(\n",
    "    os.path.join(output, 'jund_raw_peaks.bed'))"
   ]
  },
  {
   "cell_type": "markdown",
   "metadata": {},
   "source": [
    "To create the region of interest (ROI) for defining positive and negative peaks, extend the \"raw\" peaks by 10000bp in both directions (https://bedtools.readthedocs.io/en/latest/content/tools/slop.html).\n",
    "We also need to subtract away any parts of the ROI in blacklisted regions."
   ]
  },
  {
   "cell_type": "code",
   "execution_count": null,
   "metadata": {
    "vscode": {
     "languageId": "python"
    }
   },
   "outputs": [],
   "source": [
    "BedTool(os.path.join(output, 'jund_raw_peaks.bed')).slop(b=10000, \n",
    "                                                               g=os.path.join(output, 'hg38.chrom.sizes')) \\\n",
    " .sort().merge().subtract(os.path.join(output, 'hg38.blacklisted.bed'))\\\n",
    ".saveas(os.path.join(output, 'roi_jund_extended.bed'))"
   ]
  },
  {
   "cell_type": "markdown",
   "metadata": {},
   "source": [
    "This [next command](https://github.com/BIMSBbioinfo/janggu/blob/5128419cf404d8f1904d46c627c0c7963356fff1/src/janggu/janggutrim.py) trims the starts and ends of the ROIs to make them divisible by the specified window size, in this case 200"
   ]
  },
  {
   "cell_type": "code",
   "execution_count": null,
   "metadata": {
    "vscode": {
     "languageId": "python"
    }
   },
   "outputs": [],
   "source": [
    "# You will need to have the janggu tool installed for this\n",
    "!janggu-trim {output}/roi_jund_extended.bed {output}/trim_roi_jund_extended.bed -divby 200"
   ]
  },
  {
   "cell_type": "markdown",
   "metadata": {},
   "source": [
    "# SeqData preparations\n",
    "Next we need to use EUGENe to read in and prep this data."
   ]
  },
  {
   "cell_type": "code",
   "execution_count": null,
   "metadata": {
    "vscode": {
     "languageId": "python"
    }
   },
   "outputs": [],
   "source": [
    "import os\n",
    "import eugene as eu\n",
    "eu.settings.dataset_dir = '/cellar/users/aklie/data/eugene/kopp21'"
   ]
  },
  {
   "cell_type": "code",
   "execution_count": null,
   "metadata": {
    "vscode": {
     "languageId": "python"
    }
   },
   "outputs": [],
   "source": [
    "# Definethe input files\n",
    "bed_file = os.path.join(\n",
    "    eu.settings.dataset_dir,\n",
    "    \"jund_raw_peaks.bed\" \n",
    ")\n",
    "roi_file = os.path.join(\n",
    "    eu.settings.dataset_dir,\n",
    "    \"trim_roi_jund_extended.bed\"\n",
    ")\n",
    "refgenome = os.path.join(\n",
    "    eu.settings.dataset_dir,\n",
    "    \"hg38.fa\"\n",
    ")\n",
    "bed_file, roi_file, refgenome"
   ]
  },
  {
   "cell_type": "code",
   "execution_count": null,
   "metadata": {
    "vscode": {
     "languageId": "python"
    }
   },
   "outputs": [],
   "source": [
    "# Read in the sequences to a SeqData object. Last loading took 6m 43.1s\n",
    "sdata = eu.dl.read_bed(\n",
    "    bed_file=bed_file,\n",
    "    roi_file=roi_file,\n",
    "    ref_file=refgenome,\n",
    "    dnaflank=150,\n",
    "    binsize=200,\n",
    "    resolution=200\n",
    ")"
   ]
  },
  {
   "cell_type": "code",
   "execution_count": null,
   "metadata": {
    "tags": [],
    "vscode": {
     "languageId": "python"
    }
   },
   "outputs": [],
   "source": [
    "# Write this as a \"raw\" version of SeqData h5\n",
    "sdata.write_h5sd(os.path.join(eu.settings.dataset_dir, \"jund_raw.h5sd\"))\n",
    "sdata.ohe_seqs = sdata.ohe_seqs.transpose(0, 2, 1)"
   ]
  },
  {
   "cell_type": "code",
   "execution_count": null,
   "metadata": {
    "vscode": {
     "languageId": "python"
    }
   },
   "outputs": [],
   "source": [
    "# Decode the one-hot encoded sequences to save to other formats as well\n",
    "sdata.seqs = eu.pp.decode_seqs(sdata.ohe_seqs)"
   ]
  },
  {
   "cell_type": "code",
   "execution_count": null,
   "metadata": {
    "vscode": {
     "languageId": "python"
    }
   },
   "outputs": [],
   "source": [
    "# Get the reverse complement of the sequences\n",
    "eu.pp.reverse_complement_seqs_sdata(sdata)"
   ]
  },
  {
   "cell_type": "code",
   "execution_count": null,
   "metadata": {
    "vscode": {
     "languageId": "python"
    }
   },
   "outputs": [],
   "source": [
    "# Add in info on ranges to seq_annot\n",
    "eu.pp.add_ranges_sdata(sdata)"
   ]
  },
  {
   "cell_type": "code",
   "execution_count": null,
   "metadata": {
    "vscode": {
     "languageId": "python"
    }
   },
   "outputs": [],
   "source": [
    "# Save combined\n",
    "sdata.write_h5sd(os.path.join(eu.settings.dataset_dir, \"jund_processed.h5sd\"))"
   ]
  },
  {
   "cell_type": "code",
   "execution_count": null,
   "metadata": {
    "vscode": {
     "languageId": "python"
    }
   },
   "outputs": [],
   "source": [
    "# Split into train and test sets\n",
    "eu.pp.train_test_split_sdata(\n",
    "    sdata, \n",
    "    train_key=\"train_test\",\n",
    "    chr = [\"chr3\"]\n",
    ")"
   ]
  },
  {
   "cell_type": "code",
   "execution_count": null,
   "metadata": {
    "vscode": {
     "languageId": "python"
    }
   },
   "outputs": [],
   "source": [
    "# Split into training and test sets\n",
    "sdata_train = sdata[sdata[\"train_test\"].values]\n",
    "sdata_test = sdata[~sdata[\"train_test\"].values]"
   ]
  },
  {
   "cell_type": "code",
   "execution_count": null,
   "metadata": {
    "vscode": {
     "languageId": "python"
    }
   },
   "outputs": [],
   "source": [
    "# Split the training sequences into train and validation sets\n",
    "eu.pp.train_test_split_sdata(\n",
    "    sdata_train,\n",
    "    train_key=\"train_val\",\n",
    "    chr=[\"chr2\"]\n",
    ")"
   ]
  },
  {
   "cell_type": "code",
   "execution_count": null,
   "metadata": {
    "tags": [],
    "vscode": {
     "languageId": "python"
    }
   },
   "outputs": [],
   "source": [
    "# Save train\n",
    "sdata_train.write_h5sd(os.path.join(eu.settings.dataset_dir, \"jund_train_processed.h5sd\"))"
   ]
  },
  {
   "cell_type": "code",
   "execution_count": null,
   "metadata": {
    "vscode": {
     "languageId": "python"
    }
   },
   "outputs": [],
   "source": [
    "# Save test\n",
    "sdata_test.write_h5sd(os.path.join(eu.settings.dataset_dir, \"jund_test_processed.h5sd\"))"
   ]
  },
  {
   "cell_type": "markdown",
   "metadata": {},
   "source": [
    "---"
   ]
  },
  {
   "cell_type": "markdown",
   "metadata": {},
   "source": [
    "# Scratch"
   ]
  }
 ],
 "metadata": {
  "kernelspec": {
   "display_name": "Python 3",
   "language": "python",
   "name": "python3"
  },
  "language_info": {
   "codemirror_mode": {
    "name": "ipython",
    "version": 3
   },
   "file_extension": ".py",
   "mimetype": "text/x-python",
   "name": "python",
   "nbconvert_exporter": "python",
   "pygments_lexer": "ipython3",
   "version": "3.7.13"
  },
  "vscode": {
   "interpreter": {
    "hash": "949777d72b0d2535278d3dc13498b2535136f6dfe0678499012e853ee9abcab1"
   }
  }
 },
 "nbformat": 4,
 "nbformat_minor": 4
}
