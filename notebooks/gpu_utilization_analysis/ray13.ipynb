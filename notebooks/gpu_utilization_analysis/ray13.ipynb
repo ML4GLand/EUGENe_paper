{
 "cells": [
  {
   "cell_type": "code",
   "execution_count": null,
   "id": "3c33ef42-27cc-4234-87c5-0bb9b7a95b51",
   "metadata": {},
   "outputs": [],
   "source": [
    "import os\n",
    "\n",
    "import torch\n",
    "import wandb\n",
    "from tqdm import tqdm\n",
    "import seqdata as sd\n",
    "\n",
    "import eugene as eu\n",
    "import eugene.train\n",
    "import eugene.models\n",
    "from eugene import settings"
   ]
  },
  {
   "cell_type": "code",
   "execution_count": null,
   "id": "ad7783a4-bf64-4d89-878b-70e784db7a32",
   "metadata": {},
   "outputs": [],
   "source": [
    "settings.dataset_dir = \"/cellar/users/aklie/data/eugene/revision/kopp21\"\n",
    "settings.output_dir = \"/cellar/users/dlaub/projects/ML4GLand/EUGENe_paper/output/kopp21\"\n",
    "settings.logging_dir = \"/cellar/users/dlaub/projects/ML4GLand/EUGENe_paper/logs/kopp21\"\n",
    "settings.config_dir = \"/cellar/users/dlaub/projects/ML4GLand/EUGENe_paper/configs/kopp21\"\n",
    "wandb.login()"
   ]
  },
  {
   "cell_type": "code",
   "execution_count": null,
   "id": "38651a9c-474e-45b3-a871-7e5547aed5a8",
   "metadata": {},
   "outputs": [],
   "source": [
    "from pytorch_lightning import seed_everything\n",
    "def prep_new_model(\n",
    "    seed,\n",
    "    conv_dropout = 0,\n",
    "    dense_dropout = 0,\n",
    "    batchnorm = True\n",
    "):\n",
    "    # Set a seed\n",
    "    seed_everything(seed)\n",
    "\n",
    "    model = models.zoo.DeepBind(\n",
    "        input_len=41, # Length of padded sequences\n",
    "        output_dim=1, # Number of multitask outputs\n",
    "        conv_kwargs=dict(input_channels=4, conv_channels=[16], conv_kernels=[16], dropout_rates=conv_dropout, batchnorm=batchnorm),\n",
    "        dense_kwargs=dict(hidden_dims=[32], dropout_rates=dense_dropout, batchnorm=batchnorm),\n",
    "    )\n",
    "    \n",
    "    # Initialize the model prior to conv filter initialization\n",
    "    models.init_weights(model)\n",
    "\n",
    "    module = models.SequenceModule(\n",
    "        arch=model,\n",
    "        task=\"regression\",\n",
    "        loss_fxn=\"mse\",\n",
    "        optimizer=\"adam\",\n",
    "        optimizer_lr=0.0005,\n",
    "        scheduler_kwargs=dict(patience=2)\n",
    "    )\n",
    "\n",
    "    # Return the model\n",
    "    return module"
   ]
  },
  {
   "cell_type": "code",
   "execution_count": null,
   "id": "040e0aa1-caae-486f-841a-a58b63c942ab",
   "metadata": {},
   "outputs": [],
   "source": [
    "ray13 = prep_new_model(seed=13, conv_dropout=0.5, dense_dropout=0.5, batchnorm=True)"
   ]
  }
 ],
 "metadata": {
  "kernelspec": {
   "display_name": "EUGENe",
   "language": "python",
   "name": "eugene-dev"
  },
  "language_info": {
   "codemirror_mode": {
    "name": "ipython",
    "version": 3
   },
   "file_extension": ".py",
   "mimetype": "text/x-python",
   "name": "python",
   "nbconvert_exporter": "python",
   "pygments_lexer": "ipython3",
   "version": "3.9.15"
  }
 },
 "nbformat": 4,
 "nbformat_minor": 5
}
