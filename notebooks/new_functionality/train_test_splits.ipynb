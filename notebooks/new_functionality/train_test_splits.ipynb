{
 "cells": [
  {
   "cell_type": "code",
   "execution_count": 2,
   "id": "7bd72be9-e615-48b3-9a55-af2db5f3d4ac",
   "metadata": {
    "execution": {
     "iopub.execute_input": "2023-06-13T05:18:38.867814Z",
     "iopub.status.busy": "2023-06-13T05:18:38.867315Z",
     "iopub.status.idle": "2023-06-13T05:18:38.907885Z",
     "shell.execute_reply": "2023-06-13T05:18:38.906730Z",
     "shell.execute_reply.started": "2023-06-13T05:18:38.867775Z"
    },
    "tags": []
   },
   "outputs": [
    {
     "ename": "ModuleNotFoundError",
     "evalue": "No module named 'dask_ml'",
     "output_type": "error",
     "traceback": [
      "\u001b[0;31m---------------------------------------------------------------------------\u001b[0m",
      "\u001b[0;31mModuleNotFoundError\u001b[0m                       Traceback (most recent call last)",
      "Cell \u001b[0;32mIn[2], line 5\u001b[0m\n\u001b[1;32m      3\u001b[0m \u001b[38;5;28;01mimport\u001b[39;00m \u001b[38;5;21;01mnumpy\u001b[39;00m \u001b[38;5;28;01mas\u001b[39;00m \u001b[38;5;21;01mnp\u001b[39;00m\n\u001b[1;32m      4\u001b[0m \u001b[38;5;28;01mimport\u001b[39;00m \u001b[38;5;21;01mdask\u001b[39;00m\u001b[38;5;21;01m.\u001b[39;00m\u001b[38;5;21;01marray\u001b[39;00m \u001b[38;5;28;01mas\u001b[39;00m \u001b[38;5;21;01mda\u001b[39;00m\n\u001b[0;32m----> 5\u001b[0m \u001b[38;5;28;01mimport\u001b[39;00m \u001b[38;5;21;01mdask_ml\u001b[39;00m \u001b[38;5;28;01mas\u001b[39;00m \u001b[38;5;21;01mdml\u001b[39;00m\n\u001b[1;32m      6\u001b[0m \u001b[38;5;28;01mfrom\u001b[39;00m \u001b[38;5;21;01mgraph_part\u001b[39;00m \u001b[38;5;28;01mimport\u001b[39;00m train_test_validation_split, stratified_k_fold\n",
      "\u001b[0;31mModuleNotFoundError\u001b[0m: No module named 'dask_ml'"
     ]
    }
   ],
   "source": [
    "import seqdata as sd\n",
    "# import xarray as xr\n",
    "# import numpy as np\n",
    "import dask.array as da\n",
    "import dask_ml as dml\n",
    "from graph_part import train_test_validation_split, stratified_k_fold"
   ]
  },
  {
   "cell_type": "code",
   "execution_count": null,
   "id": "52f60838-a08f-4d5a-a45d-6bcb931f0a97",
   "metadata": {},
   "outputs": [],
   "source": [
    "sdata = sd.open_zarr('/cellar/users/dlaub/projects/ML4GLand/use_cases/kopp21/kopp21.zarr')\n"
   ]
  }
 ],
 "metadata": {
  "kernelspec": {
   "display_name": "EUGENe",
   "language": "python",
   "name": "eugene-dev"
  },
  "language_info": {
   "codemirror_mode": {
    "name": "ipython",
    "version": 3
   },
   "file_extension": ".py",
   "mimetype": "text/x-python",
   "name": "python",
   "nbconvert_exporter": "python",
   "pygments_lexer": "ipython3",
   "version": "3.9.15"
  }
 },
 "nbformat": 4,
 "nbformat_minor": 5
}
